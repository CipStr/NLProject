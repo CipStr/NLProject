{
 "cells": [
  {
   "cell_type": "markdown",
   "metadata": {},
   "source": [
    "# Assignment 2\n",
    "\n",
    "**Credits**: Federico Ruggeri, Eleonora Mancini, Paolo Torroni\n",
    "\n",
    "**Keywords**: Human Value Detection, Multi-label classification, Transformers, BERT"
   ]
  },
  {
   "cell_type": "markdown",
   "metadata": {},
   "source": [
    "This Jupyter Notebook document is our implementation of Assignment 2. \n",
    "\n",
    "Group members:\n",
    "- Stricescu Razvan Ciprian\n",
    "- Matteo Belletti\n",
    "- Alessandro Pasi\n"
   ]
  },
  {
   "cell_type": "markdown",
   "metadata": {},
   "source": [
    "# Imports and libraries needed"
   ]
  },
  {
   "cell_type": "code",
   "execution_count": 1,
   "metadata": {},
   "outputs": [],
   "source": [
    "#%pip install pandas\n",
    "#%pip install numpy\n",
    "#%pip install nltk\n",
    "#%pip install scikit-learn\n",
    "#%pip install transformers\n",
    "#%pip install matplotlib\n",
    "#%pip install torch torchvision torchaudio --index-url https://download.pytorch.org/whl/cu121"
   ]
  },
  {
   "cell_type": "code",
   "execution_count": 1,
   "metadata": {},
   "outputs": [
    {
     "name": "stderr",
     "output_type": "stream",
     "text": [
      "d:\\NLProject\\.venv\\lib\\site-packages\\tqdm\\auto.py:21: TqdmWarning: IProgress not found. Please update jupyter and ipywidgets. See https://ipywidgets.readthedocs.io/en/stable/user_install.html\n",
      "  from .autonotebook import tqdm as notebook_tqdm\n"
     ]
    },
    {
     "name": "stdout",
     "output_type": "stream",
     "text": [
      "Device: cuda\n"
     ]
    }
   ],
   "source": [
    "import pandas as pd \n",
    "import numpy as np\n",
    "import matplotlib.pyplot as plt\n",
    "from tqdm import tqdm\n",
    "import random\n",
    "import os\n",
    "from sklearn.metrics import classification_report\n",
    "import nltk\n",
    "from nltk.tokenize import word_tokenize\n",
    "from nltk.corpus import stopwords\n",
    "from nltk.stem import WordNetLemmatizer\n",
    "import string\n",
    "import re\n",
    "from sklearn.feature_extraction.text import  TfidfVectorizer\n",
    "from sklearn.metrics import f1_score\n",
    "from torch import cuda\n",
    "import torch\n",
    "import transformers\n",
    "from torch.utils.data import Dataset, DataLoader, RandomSampler, SequentialSampler, ConcatDataset\n",
    "from transformers import AutoModel, AutoTokenizer, get_linear_schedule_with_warmup, RobertaConfig\n",
    "from torch import cuda\n",
    "device = 'cuda' if cuda.is_available() else 'cpu'\n",
    "print(f\"Device: {device}\")"
   ]
  },
  {
   "cell_type": "markdown",
   "metadata": {},
   "source": [
    "## Task 1: Corpus:\n",
    "\n",
    "We address a multi-label classification problem. We consider only level 3 categories which are the following:\n",
    "- Openness to change\n",
    "- Self-enhancement\n",
    "- Conservation\n",
    "- Self-transcendence"
   ]
  },
  {
   "cell_type": "markdown",
   "metadata": {},
   "source": [
    "We're gonna merge annotations of level 2 categories belonging to the same level 3 category. For example, we merge the annotations of the level 2 categories \"Stimulation\" and \"Hedonism\" into the level 3 category \"Openness to change\"."
   ]
  },
  {
   "cell_type": "markdown",
   "metadata": {},
   "source": [
    "Encoding to pandas dataframe:"
   ]
  },
  {
   "cell_type": "code",
   "execution_count": 2,
   "metadata": {},
   "outputs": [
    {
     "name": "stdout",
     "output_type": "stream",
     "text": [
      "  Argument ID                   Conclusion       Stance  \\\n",
      "0      A01002  We should ban human cloning  in favor of   \n",
      "\n",
      "                                             Premise  \n",
      "0  we should ban human cloning as it will only ca...  \n",
      "Shape of the training data: (5393, 4)\n",
      "Shape of the validation data: (1896, 4)\n",
      "Shape of the test data: (1576, 4)\n"
     ]
    }
   ],
   "source": [
    "arg_train = pd.read_csv('arguments/arguments-training.tsv', sep='\\t')\n",
    "print(arg_train.head(1))\n",
    "print(f\"Shape of the training data: {arg_train.shape}\")\n",
    "arg_val = pd.read_csv('arguments/arguments-validation.tsv', sep='\\t')\n",
    "print(f\"Shape of the validation data: {arg_val.shape}\")\n",
    "arg_test = pd.read_csv('arguments/arguments-test.tsv', sep='\\t')\n",
    "print(f\"Shape of the test data: {arg_test.shape}\")"
   ]
  },
  {
   "cell_type": "code",
   "execution_count": 3,
   "metadata": {},
   "outputs": [
    {
     "name": "stdout",
     "output_type": "stream",
     "text": [
      "  Argument ID  Self-direction: thought  Self-direction: action  Stimulation  \\\n",
      "0      A01002                        0                       0            0   \n",
      "\n",
      "   Hedonism  Achievement  Power: dominance  Power: resources  Face  \\\n",
      "0         0            0                 0                 0     0   \n",
      "\n",
      "   Security: personal  ...  Tradition  Conformity: rules  \\\n",
      "0                   0  ...          0                  0   \n",
      "\n",
      "   Conformity: interpersonal  Humility  Benevolence: caring  \\\n",
      "0                          0         0                    0   \n",
      "\n",
      "   Benevolence: dependability  Universalism: concern  Universalism: nature  \\\n",
      "0                           0                      0                     0   \n",
      "\n",
      "   Universalism: tolerance  Universalism: objectivity  \n",
      "0                        0                          0  \n",
      "\n",
      "[1 rows x 21 columns]\n",
      "Shape of the training data: (5393, 21)\n",
      "Shape of the validation data: (1896, 21)\n",
      "Shape of the test data: (1576, 21)\n"
     ]
    }
   ],
   "source": [
    "lab_train = pd.read_csv('arguments/labels-training.tsv', sep='\\t')\n",
    "print(lab_train.head(1))\n",
    "print(f\"Shape of the training data: {lab_train.shape}\")\n",
    "lab_val = pd.read_csv('arguments/labels-validation.tsv', sep='\\t')\n",
    "print(f\"Shape of the validation data: {lab_val.shape}\")\n",
    "lab_test = pd.read_csv('arguments/labels-test.tsv', sep='\\t')\n",
    "print(f\"Shape of the test data: {lab_test.shape}\")"
   ]
  },
  {
   "cell_type": "markdown",
   "metadata": {},
   "source": [
    "Now for each split we merge arguments and labels into a single dataframe."
   ]
  },
  {
   "cell_type": "code",
   "execution_count": 4,
   "metadata": {},
   "outputs": [
    {
     "name": "stdout",
     "output_type": "stream",
     "text": [
      "Shape of the training data: (5393, 24)\n",
      "Shape of the validation data: (1896, 24)\n",
      "Shape of the test data: (1576, 24)\n"
     ]
    }
   ],
   "source": [
    "df_train = arg_train.merge(lab_train, on='Argument ID')\n",
    "df_val = arg_val.merge(lab_val, on='Argument ID')\n",
    "df_test = arg_test.merge(lab_test, on='Argument ID')\n",
    "print(f\"Shape of the training data: {df_train.shape}\")\n",
    "print(f\"Shape of the validation data: {df_val.shape}\")\n",
    "print(f\"Shape of the test data: {df_test.shape}\")"
   ]
  },
  {
   "cell_type": "markdown",
   "metadata": {},
   "source": [
    "We merge level 2 categories into level 3 categories. We also create new dataframes for the cp and cps tasks."
   ]
  },
  {
   "cell_type": "code",
   "execution_count": 5,
   "metadata": {},
   "outputs": [
    {
     "name": "stdout",
     "output_type": "stream",
     "text": [
      "Shape of the training data: (5393, 8)\n",
      "Shape of the validation data: (1896, 8)\n",
      "Shape of the test data: (1576, 8)\n",
      "Shape of the training data for the cp task: (5393, 9)\n",
      "Shape of the training data for the cps task: (5393, 9)\n"
     ]
    }
   ],
   "source": [
    "# Merge the level 2 categories to level 3\n",
    "# They start from column 4 so we can just add 4 to the level 2 category\n",
    "# Openness to change: 4 columns\n",
    "# Conservation: columns 4 columns\n",
    "# Self-enhancement: 6 columns\n",
    "# Self-transcendence: 6 columns\n",
    "\n",
    "def merge_categories(df):\n",
    "    # Logical or \n",
    "    df['Openness to change'] = df[df.columns[4:8]].any(axis=1).astype(int)\n",
    "    df['Conservation'] = df[df.columns[7:12]].any(axis=1).astype(int)\n",
    "    df['Self-enhancement'] = df[df.columns[11:18]].any(axis=1).astype(int)\n",
    "    df['Self-transcendence'] = df[df.columns[17:24]].any(axis=1).astype(int)\n",
    "    df = df.drop(df.columns[4:24], axis=1)\n",
    "    return df\n",
    "\n",
    "# get column names\n",
    "df_train = merge_categories(df_train)\n",
    "df_val = merge_categories(df_val)\n",
    "df_test = merge_categories(df_test)\n",
    "print(f\"Shape of the training data: {df_train.shape}\")\n",
    "print(f\"Shape of the validation data: {df_val.shape}\")\n",
    "print(f\"Shape of the test data: {df_test.shape}\")\n",
    "\n",
    "# Create the dataframes for the cp task\n",
    "df_traincp = df_train.copy()\n",
    "df_valcp = df_val.copy()\n",
    "df_testcp = df_test.copy()\n",
    "df_traincp[\"text\"] = df_traincp[\"Conclusion\"] + \" \" + df_traincp[\"Premise\"]\n",
    "df_valcp[\"text\"] = df_valcp[\"Conclusion\"] + \" \" + df_valcp[\"Premise\"]\n",
    "df_testcp[\"text\"] = df_testcp[\"Conclusion\"] + \" \" + df_testcp[\"Premise\"]\n",
    "print(f\"Shape of the training data for the cp task: {df_traincp.shape}\")\n",
    "\n",
    "# Create the dataframes for the cps task\n",
    "df_traincps = df_train.copy()\n",
    "df_valcps = df_val.copy()\n",
    "df_testcps = df_test.copy()\n",
    "df_traincps[\"Stance\"] = df_traincps[\"Stance\"].replace(\"against\", \"0\")\n",
    "df_valcps[\"Stance\"] = df_valcps[\"Stance\"].replace(\"against\", \"0\")\n",
    "df_testcps[\"Stance\"] = df_testcps[\"Stance\"].replace(\"against\", \"0\")\n",
    "df_valcps[\"Stance\"] = df_valcps[\"Stance\"].replace(\"in favor of\", \"1\")\n",
    "df_traincps[\"Stance\"] = df_traincps[\"Stance\"].replace(\"in favor of\", \"1\")\n",
    "df_testcps[\"Stance\"] = df_testcps[\"Stance\"].replace(\"in favor of\", \"1\")\n",
    "df_traincps[\"text\"] = df_traincp[\"Conclusion\"] + \" \" + df_traincp[\"Premise\"] + \" \" + df_traincps[\"Stance\"]\n",
    "df_valcps[\"text\"] = df_valcp[\"Conclusion\"] + \" \" + df_valcp[\"Premise\"] + \" \" + df_valcps[\"Stance\"]\n",
    "df_testcps[\"text\"] = df_testcp[\"Conclusion\"] + \" \" + df_testcp[\"Premise\"] + \" \" + df_testcps[\"Stance\"]\n",
    "print(f\"Shape of the training data for the cps task: {df_traincps.shape}\")"
   ]
  },
  {
   "cell_type": "markdown",
   "metadata": {},
   "source": [
    "#### Text encoding:"
   ]
  },
  {
   "cell_type": "markdown",
   "metadata": {},
   "source": [
    "We encode the Premise column in order to check the sentence length distribution."
   ]
  },
  {
   "cell_type": "code",
   "execution_count": 6,
   "metadata": {},
   "outputs": [
    {
     "name": "stderr",
     "output_type": "stream",
     "text": [
      "[nltk_data] Downloading package punkt to\n",
      "[nltk_data]     C:\\Users\\Ciprian\\AppData\\Roaming\\nltk_data...\n",
      "[nltk_data]   Package punkt is already up-to-date!\n",
      "100%|██████████| 5393/5393 [00:00<00:00, 6706.19it/s]\n"
     ]
    }
   ],
   "source": [
    "nltk.download('punkt')\n",
    "train_text = df_train['Premise'].tolist()\n",
    "train_lengths = [len(word_tokenize(x)) for x in tqdm(train_text)]"
   ]
  },
  {
   "cell_type": "markdown",
   "metadata": {},
   "source": [
    "Plotting the distribution of the number of words per argument:"
   ]
  },
  {
   "cell_type": "code",
   "execution_count": 7,
   "metadata": {},
   "outputs": [
    {
     "data": {
      "image/png": "[encoded data removed]",
      "text/plain": [
       "<Figure size 640x480 with 1 Axes>"
      ]
     },
     "metadata": {},
     "output_type": "display_data"
    }
   ],
   "source": [
    "plt.hist(train_lengths, color='blue', edgecolor='black')\n",
    "plt.xlabel('Length of text')\n",
    "plt.ylabel('Number of texts')\n",
    "plt.title('Distribution of Premise sentence length in training data')\n",
    "plt.show()"
   ]
  },
  {
   "cell_type": "markdown",
   "metadata": {},
   "source": [
    "Text preproccesing with nltk: \n",
    "\n",
    "We use nltk to remove stopwords and punctuation from the arguments and we also lemmitize the words."
   ]
  },
  {
   "cell_type": "code",
   "execution_count": 8,
   "metadata": {},
   "outputs": [
    {
     "name": "stderr",
     "output_type": "stream",
     "text": [
      "[nltk_data] Downloading package stopwords to\n",
      "[nltk_data]     C:\\Users\\Ciprian\\AppData\\Roaming\\nltk_data...\n",
      "[nltk_data]   Package stopwords is already up-to-date!\n",
      "[nltk_data] Downloading package wordnet to\n",
      "[nltk_data]     C:\\Users\\Ciprian\\AppData\\Roaming\\nltk_data...\n",
      "[nltk_data]   Package wordnet is already up-to-date!\n",
      "[nltk_data] Downloading package omw-1.4 to\n",
      "[nltk_data]     C:\\Users\\Ciprian\\AppData\\Roaming\\nltk_data...\n",
      "[nltk_data]   Package omw-1.4 is already up-to-date!\n"
     ]
    }
   ],
   "source": [
    "nltk.download('stopwords')\n",
    "nltk.download('wordnet')\n",
    "nltk.download('omw-1.4')\n",
    "\n",
    "lemmatizer = WordNetLemmatizer()\n",
    "punct = string.punctuation\n",
    "bad_symbols = re.compile('[^a-z ]')\n",
    "stopwords = set(stopwords.words('english'))"
   ]
  },
  {
   "cell_type": "code",
   "execution_count": 9,
   "metadata": {},
   "outputs": [],
   "source": [
    "def preprocess(text):\n",
    "    text = text.lower()\n",
    "    text = bad_symbols.sub('', text)\n",
    "    text = ' '.join(word for word in text.split() if word not in punct)\n",
    "    text = ' '.join(word for word in text.split() if word not in stopwords)\n",
    "    text = ' '.join(lemmatizer.lemmatize(word) for word in text.split())\n",
    "    return text"
   ]
  },
  {
   "cell_type": "code",
   "execution_count": 10,
   "metadata": {},
   "outputs": [
    {
     "name": "stdout",
     "output_type": "stream",
     "text": [
      "Train dataframe after preprocessing:\n",
      "\n"
     ]
    },
    {
     "data": {
      "text/html": [
       "<div>\n",
       "<style scoped>\n",
       "    .dataframe tbody tr th:only-of-type {\n",
       "        vertical-align: middle;\n",
       "    }\n",
       "\n",
       "    .dataframe tbody tr th {\n",
       "        vertical-align: top;\n",
       "    }\n",
       "\n",
       "    .dataframe thead th {\n",
       "        text-align: right;\n",
       "    }\n",
       "</style>\n",
       "<table border=\"1\" class=\"dataframe\">\n",
       "  <thead>\n",
       "    <tr style=\"text-align: right;\">\n",
       "      <th></th>\n",
       "      <th>Argument ID</th>\n",
       "      <th>Openness to change</th>\n",
       "      <th>Conservation</th>\n",
       "      <th>Self-enhancement</th>\n",
       "      <th>Self-transcendence</th>\n",
       "      <th>Preprocessed</th>\n",
       "    </tr>\n",
       "  </thead>\n",
       "  <tbody>\n",
       "    <tr>\n",
       "      <th>0</th>\n",
       "      <td>A01002</td>\n",
       "      <td>0</td>\n",
       "      <td>0</td>\n",
       "      <td>1</td>\n",
       "      <td>0</td>\n",
       "      <td>ban human cloning cause huge issue bunch human...</td>\n",
       "    </tr>\n",
       "  </tbody>\n",
       "</table>\n",
       "</div>"
      ],
      "text/plain": [
       "  Argument ID  Openness to change  Conservation  Self-enhancement  \\\n",
       "0      A01002                   0             0                 1   \n",
       "\n",
       "   Self-transcendence                                       Preprocessed  \n",
       "0                   0  ban human cloning cause huge issue bunch human...  "
      ]
     },
     "execution_count": 10,
     "metadata": {},
     "output_type": "execute_result"
    }
   ],
   "source": [
    "train = df_train.copy()\n",
    "train['Preprocessed'] = train['Premise'].apply(preprocess)\n",
    "train = train.drop(columns=train.columns[1:4])\n",
    "val = df_val.copy()\n",
    "val['Preprocessed'] = val['Premise'].apply(preprocess)\n",
    "val = val.drop(columns=val.columns[1:4])\n",
    "test = df_test.copy()\n",
    "test['Preprocessed'] = test['Premise'].apply(preprocess)\n",
    "test = test.drop(columns=test.columns[1:4])\n",
    "print(f\"Train dataframe after preprocessing:\\n\")\n",
    "train.head(1)"
   ]
  },
  {
   "cell_type": "markdown",
   "metadata": {},
   "source": [
    "We tokenize the the data using TF-IDF vectorizer. We do the same for the validation and test sets which we will use later for the baseline models."
   ]
  },
  {
   "cell_type": "code",
   "execution_count": 11,
   "metadata": {},
   "outputs": [
    {
     "name": "stdout",
     "output_type": "stream",
     "text": [
      "Shape of the training data: (5393, 6836)\n",
      "Shape of the validation data: (1896, 6836)\n",
      "Shape of the test data: (1576, 6836)\n",
      "Size of the vocabulary: 6836\n"
     ]
    }
   ],
   "source": [
    "vectorizer = TfidfVectorizer()\n",
    "X_train = vectorizer.fit_transform(train['Preprocessed'])\n",
    "X_val = vectorizer.transform(val['Preprocessed'])\n",
    "X_test = vectorizer.transform(test['Preprocessed'])\n",
    "\n",
    "print(f\"Shape of the training data: {X_train.shape}\")\n",
    "print(f\"Shape of the validation data: {X_val.shape}\")\n",
    "print(f\"Shape of the test data: {X_test.shape}\")\n",
    "print(f\"Size of the vocabulary: {len(vectorizer.vocabulary_)}\")"
   ]
  },
  {
   "cell_type": "markdown",
   "metadata": {},
   "source": [
    "# Task 2: Model definition\n",
    "\n",
    "You are tasked to define several neural models for multi-label classification."
   ]
  },
  {
   "cell_type": "markdown",
   "metadata": {},
   "source": [
    "### Instructions\n",
    "\n",
    "* **Baseline**: implement a random uniform classifier (an individual classifier per category).\n",
    "* **Baseline**: implement a majority classifier (an individual classifier per category).\n",
    "\n",
    "<br/>\n",
    "\n",
    "* **BERT w/ C**: define a BERT-based classifier that receives an argument **conclusion** as input.\n",
    "* **BERT w/ CP**: add argument **premise** as an additional input.\n",
    "* **BERT w/ CPS**: add argument premise-to-conclusion **stance** as an additional input."
   ]
  },
  {
   "cell_type": "markdown",
   "metadata": {},
   "source": [
    "Evaluation report for baseline models:"
   ]
  },
  {
   "cell_type": "code",
   "execution_count": 12,
   "metadata": {},
   "outputs": [],
   "source": [
    "def evaluate(Y_test, Y_pred):\n",
    "    report = classification_report(Y_test, Y_pred)\n",
    "    return report\n",
    "\n",
    "Y_test = test.iloc[:, 1:5].values # get as array the labels of the test set [oppenness, conservation, self-enhancement, self-transcendence]\n",
    "Y_val = val.iloc[:, 1:5].values # get as array the labels of the validation set [oppenness, conservation, self-enhancement, self-transcendence]"
   ]
  },
  {
   "cell_type": "markdown",
   "metadata": {},
   "source": [
    "## Baseline models:"
   ]
  },
  {
   "cell_type": "markdown",
   "metadata": {},
   "source": [
    "As baseline models we implemented a random uniform classifier and a majority classifier using the sklearn library which already has these models implemented.\n",
    "\n",
    "We implment a classifier for each category."
   ]
  },
  {
   "cell_type": "markdown",
   "metadata": {},
   "source": [
    "### Implement a random uniform classifier:"
   ]
  },
  {
   "cell_type": "code",
   "execution_count": 13,
   "metadata": {},
   "outputs": [],
   "source": [
    "from sklearn.dummy import DummyClassifier\n",
    "\n",
    "uniform_classifier_openness = DummyClassifier(strategy='uniform')\n",
    "uniform_classifier_conserv = DummyClassifier(strategy='uniform')\n",
    "uniform_classifier_self_enh = DummyClassifier(strategy='uniform')\n",
    "uniform_classifier_self_trans = DummyClassifier(strategy='uniform')"
   ]
  },
  {
   "cell_type": "markdown",
   "metadata": {},
   "source": [
    "### Implement a majority classifier:"
   ]
  },
  {
   "cell_type": "code",
   "execution_count": 14,
   "metadata": {},
   "outputs": [],
   "source": [
    "majority_classifier_openness = DummyClassifier(strategy='most_frequent')\n",
    "majority_classifier_conserv = DummyClassifier(strategy='most_frequent')\n",
    "majority_classifier_self_enh = DummyClassifier(strategy='most_frequent')\n",
    "majority_classifier_self_trans = DummyClassifier(strategy='most_frequent')"
   ]
  },
  {
   "cell_type": "markdown",
   "metadata": {},
   "source": [
    "## RoBERTa model:"
   ]
  },
  {
   "cell_type": "markdown",
   "metadata": {},
   "source": [
    "As a BERT-based classifier we used the RoBERTa model. We used the HuggingFace library to load the model and the tokenizer. We chose the RoBERTa model because it is a more recent model than BERT and it is generally considered to be more versatile and robust."
   ]
  },
  {
   "cell_type": "markdown",
   "metadata": {},
   "source": [
    "Global variables:"
   ]
  },
  {
   "cell_type": "code",
   "execution_count": 15,
   "metadata": {},
   "outputs": [],
   "source": [
    "model_name = 'roberta-base'\n",
    "max_len = 100\n",
    "batch_size = 16\n",
    "epochs = 10\n",
    "learning_rate = 2e-5\n",
    "output_channels = 768\n",
    "tokenizer = AutoTokenizer.from_pretrained(model_name)\n",
    "labels = ['Openness to change', 'Conservation', 'Self-enhancement', 'Self-transcendence']"
   ]
  },
  {
   "cell_type": "markdown",
   "metadata": {},
   "source": [
    "Token generation for RoBERTa:"
   ]
  },
  {
   "cell_type": "code",
   "execution_count": 16,
   "metadata": {},
   "outputs": [
    {
     "name": "stdout",
     "output_type": "stream",
     "text": [
      "Shape of the training labels: (5393, 4)\n",
      "Shape of the validation labels: (1896, 4)\n",
      "Shape of the test labels: (1576, 4)\n"
     ]
    }
   ],
   "source": [
    "class RobertaDataset(Dataset):\n",
    "    def __init__(self, data, labels, tokenizer, max_len):\n",
    "        self.data = data\n",
    "        self.targets = labels\n",
    "        self.tokenizer = tokenizer\n",
    "        self.max_len = max_len\n",
    "        \n",
    "    def __len__(self):\n",
    "        return len(self.data)\n",
    "    \n",
    "    def __getitem__(self, index):\n",
    "        text = str(self.data[index])\n",
    "        text = ' '.join(text.split())\n",
    "\n",
    "        inputs = self.tokenizer.encode_plus(\n",
    "            text,\n",
    "            None,\n",
    "            add_special_tokens=True,\n",
    "            max_length=self.max_len,\n",
    "            truncation=True,\n",
    "            padding='max_length',\n",
    "            return_token_type_ids=True\n",
    "        )\n",
    "        ids = inputs['input_ids']\n",
    "        mask = inputs['attention_mask']\n",
    "        token_type_ids = inputs[\"token_type_ids\"]\n",
    "        return {\n",
    "            'ids': torch.tensor(ids, dtype=torch.long),\n",
    "            'mask': torch.tensor(mask, dtype=torch.long),\n",
    "            'token_type_ids': torch.tensor(token_type_ids, dtype=torch.long),\n",
    "            'targets': torch.tensor(self.targets[index], dtype=torch.float)\n",
    "        }\n",
    "\n",
    "# Create the dataset for the neural network\n",
    "train_targets = df_train.iloc[:, 4:8].values\n",
    "val_targets = df_val.iloc[:, 4:8].values\n",
    "test_targets = df_test.iloc[:, 4:8].values\n",
    "\n",
    "print(f\"Shape of the training labels: {train_targets.shape}\")\n",
    "print(f\"Shape of the validation labels: {val_targets.shape}\")\n",
    "print(f\"Shape of the test labels: {test_targets.shape}\")"
   ]
  },
  {
   "cell_type": "markdown",
   "metadata": {},
   "source": [
    "RoBERTa model definition: "
   ]
  },
  {
   "cell_type": "code",
   "execution_count": 17,
   "metadata": {},
   "outputs": [],
   "source": [
    "class roBERTa(torch.nn.Module):\n",
    "    def __init__(self, model_name):\n",
    "        super(roBERTa, self).__init__()\n",
    "        self.roberta = AutoModel.from_pretrained(model_name, return_dict=False)\n",
    "        self.dropout = torch.nn.Dropout(p=0.3)\n",
    "        self.classifier = torch.nn.Linear(output_channels, 4)\n",
    "        \n",
    "    def forward(self, ids, mask, token_type_ids):\n",
    "        _, output = self.roberta(ids, attention_mask=mask, token_type_ids=token_type_ids)\n",
    "        output = self.dropout(output)\n",
    "        output = self.classifier(output)\n",
    "        return output"
   ]
  },
  {
   "cell_type": "markdown",
   "metadata": {},
   "source": [
    "Loss function:"
   ]
  },
  {
   "cell_type": "code",
   "execution_count": 18,
   "metadata": {},
   "outputs": [],
   "source": [
    "def loss_fn(outputs, targets):\n",
    "    return torch.nn.BCEWithLogitsLoss()(outputs, targets)"
   ]
  },
  {
   "cell_type": "markdown",
   "metadata": {},
   "source": [
    "RoBERTa w/C data preparation:\n",
    "\n",
    "For each model we create different datasets and dataloaders based on the task we are performing."
   ]
  },
  {
   "cell_type": "code",
   "execution_count": 19,
   "metadata": {},
   "outputs": [
    {
     "name": "stdout",
     "output_type": "stream",
     "text": [
      "Shape of the training dataset: 5393\n",
      "Shape of the validation dataset: 1896\n",
      "Shape of the test dataset: 1576\n"
     ]
    }
   ],
   "source": [
    "train_datasetc = RobertaDataset(df_train.iloc[:, 1], train_targets, tokenizer, max_len)\n",
    "val_datasetc = RobertaDataset(df_val.iloc[:, 1], val_targets, tokenizer, max_len)\n",
    "test_datasetc = RobertaDataset(df_test.iloc[:, 1], test_targets, tokenizer, max_len)\n",
    "\n",
    "print(f\"Shape of the training dataset: {len(train_datasetc)}\")\n",
    "print(f\"Shape of the validation dataset: {len(val_datasetc)}\")\n",
    "print(f\"Shape of the test dataset: {len(test_datasetc)}\")\n",
    "\n",
    "train_dataloaderc = DataLoader(train_datasetc, batch_size=batch_size)\n",
    "val_dataloaderc = DataLoader(val_datasetc, batch_size=batch_size)\n",
    "test_dataloaderc = DataLoader(test_datasetc, batch_size=batch_size)"
   ]
  },
  {
   "cell_type": "markdown",
   "metadata": {},
   "source": [
    "RoBERTa w/CP data preparation:"
   ]
  },
  {
   "cell_type": "code",
   "execution_count": 20,
   "metadata": {},
   "outputs": [
    {
     "name": "stdout",
     "output_type": "stream",
     "text": [
      "Shape of the training dataset: 5393\n",
      "Shape of the validation dataset: 1896\n",
      "Shape of the test dataset: 1576\n"
     ]
    }
   ],
   "source": [
    "train_datasetcp = RobertaDataset(df_traincp.iloc[:, 8], train_targets, tokenizer, max_len)\n",
    "val_datasetcp = RobertaDataset(df_valcp.iloc[:, 8], val_targets, tokenizer, max_len)\n",
    "test_datasetcp = RobertaDataset(df_testcp.iloc[:, 8], test_targets, tokenizer, max_len)\n",
    "\n",
    "\n",
    "print(f\"Shape of the training dataset: {len(train_datasetcp)}\")\n",
    "print(f\"Shape of the validation dataset: {len(val_datasetcp)}\")\n",
    "print(f\"Shape of the test dataset: {len(test_datasetcp)}\")\n",
    "\n",
    "train_dataloadercp = DataLoader(train_datasetcp, batch_size=batch_size)\n",
    "val_dataloadercp = DataLoader(val_datasetcp, batch_size=batch_size)\n",
    "test_dataloadercp = DataLoader(test_datasetcp, batch_size=batch_size)"
   ]
  },
  {
   "cell_type": "markdown",
   "metadata": {},
   "source": [
    "RoBERTa w/CPS data preparation:"
   ]
  },
  {
   "cell_type": "code",
   "execution_count": 21,
   "metadata": {},
   "outputs": [
    {
     "name": "stdout",
     "output_type": "stream",
     "text": [
      "Shape of the training dataset: 5393\n",
      "Shape of the validation dataset: 1896\n",
      "Shape of the test dataset: 1576\n"
     ]
    }
   ],
   "source": [
    "train_datasetcps = RobertaDataset(df_traincps.iloc[:, 8], train_targets, tokenizer, max_len)\n",
    "val_datasetcps = RobertaDataset(df_valcps.iloc[:, 8], val_targets, tokenizer, max_len)\n",
    "test_datasetcps = RobertaDataset(df_testcps.iloc[:, 8], test_targets, tokenizer, max_len)\n",
    "\n",
    "\n",
    "print(f\"Shape of the training dataset: {len(train_datasetcps)}\")\n",
    "print(f\"Shape of the validation dataset: {len(val_datasetcps)}\")\n",
    "print(f\"Shape of the test dataset: {len(test_datasetcps)}\")\n",
    "\n",
    "train_dataloadercps = DataLoader(train_datasetcps, batch_size=batch_size)\n",
    "val_dataloadercps = DataLoader(val_datasetcps, batch_size=batch_size)\n",
    "test_dataloadercps = DataLoader(test_datasetcps, batch_size=batch_size)"
   ]
  },
  {
   "cell_type": "markdown",
   "metadata": {},
   "source": [
    "Model initialization and optional gpu usage:"
   ]
  },
  {
   "cell_type": "code",
   "execution_count": 22,
   "metadata": {},
   "outputs": [
    {
     "name": "stderr",
     "output_type": "stream",
     "text": [
      "Some weights of RobertaModel were not initialized from the model checkpoint at roberta-base and are newly initialized: ['roberta.pooler.dense.bias', 'roberta.pooler.dense.weight']\n",
      "You should probably TRAIN this model on a down-stream task to be able to use it for predictions and inference.\n"
     ]
    },
    {
     "data": {
      "text/plain": [
       "roBERTa(\n",
       "  (roberta): RobertaModel(\n",
       "    (embeddings): RobertaEmbeddings(\n",
       "      (word_embeddings): Embedding(50265, 768, padding_idx=1)\n",
       "      (position_embeddings): Embedding(514, 768, padding_idx=1)\n",
       "      (token_type_embeddings): Embedding(1, 768)\n",
       "      (LayerNorm): LayerNorm((768,), eps=1e-05, elementwise_affine=True)\n",
       "      (dropout): Dropout(p=0.1, inplace=False)\n",
       "    )\n",
       "    (encoder): RobertaEncoder(\n",
       "      (layer): ModuleList(\n",
       "        (0-11): 12 x RobertaLayer(\n",
       "          (attention): RobertaAttention(\n",
       "            (self): RobertaSelfAttention(\n",
       "              (query): Linear(in_features=768, out_features=768, bias=True)\n",
       "              (key): Linear(in_features=768, out_features=768, bias=True)\n",
       "              (value): Linear(in_features=768, out_features=768, bias=True)\n",
       "              (dropout): Dropout(p=0.1, inplace=False)\n",
       "            )\n",
       "            (output): RobertaSelfOutput(\n",
       "              (dense): Linear(in_features=768, out_features=768, bias=True)\n",
       "              (LayerNorm): LayerNorm((768,), eps=1e-05, elementwise_affine=True)\n",
       "              (dropout): Dropout(p=0.1, inplace=False)\n",
       "            )\n",
       "          )\n",
       "          (intermediate): RobertaIntermediate(\n",
       "            (dense): Linear(in_features=768, out_features=3072, bias=True)\n",
       "            (intermediate_act_fn): GELUActivation()\n",
       "          )\n",
       "          (output): RobertaOutput(\n",
       "            (dense): Linear(in_features=3072, out_features=768, bias=True)\n",
       "            (LayerNorm): LayerNorm((768,), eps=1e-05, elementwise_affine=True)\n",
       "            (dropout): Dropout(p=0.1, inplace=False)\n",
       "          )\n",
       "        )\n",
       "      )\n",
       "    )\n",
       "    (pooler): RobertaPooler(\n",
       "      (dense): Linear(in_features=768, out_features=768, bias=True)\n",
       "      (activation): Tanh()\n",
       "    )\n",
       "  )\n",
       "  (dropout): Dropout(p=0.3, inplace=False)\n",
       "  (classifier): Linear(in_features=768, out_features=4, bias=True)\n",
       ")"
      ]
     },
     "execution_count": 22,
     "metadata": {},
     "output_type": "execute_result"
    }
   ],
   "source": [
    "model_c = roBERTa(model_name)\n",
    "model_c.to(device)"
   ]
  },
  {
   "cell_type": "markdown",
   "metadata": {},
   "source": [
    "Model initialization and optional gpu usage:"
   ]
  },
  {
   "cell_type": "code",
   "execution_count": 23,
   "metadata": {},
   "outputs": [
    {
     "name": "stderr",
     "output_type": "stream",
     "text": [
      "Some weights of RobertaModel were not initialized from the model checkpoint at roberta-base and are newly initialized: ['roberta.pooler.dense.bias', 'roberta.pooler.dense.weight']\n",
      "You should probably TRAIN this model on a down-stream task to be able to use it for predictions and inference.\n"
     ]
    },
    {
     "data": {
      "text/plain": [
       "roBERTa(\n",
       "  (roberta): RobertaModel(\n",
       "    (embeddings): RobertaEmbeddings(\n",
       "      (word_embeddings): Embedding(50265, 768, padding_idx=1)\n",
       "      (position_embeddings): Embedding(514, 768, padding_idx=1)\n",
       "      (token_type_embeddings): Embedding(1, 768)\n",
       "      (LayerNorm): LayerNorm((768,), eps=1e-05, elementwise_affine=True)\n",
       "      (dropout): Dropout(p=0.1, inplace=False)\n",
       "    )\n",
       "    (encoder): RobertaEncoder(\n",
       "      (layer): ModuleList(\n",
       "        (0-11): 12 x RobertaLayer(\n",
       "          (attention): RobertaAttention(\n",
       "            (self): RobertaSelfAttention(\n",
       "              (query): Linear(in_features=768, out_features=768, bias=True)\n",
       "              (key): Linear(in_features=768, out_features=768, bias=True)\n",
       "              (value): Linear(in_features=768, out_features=768, bias=True)\n",
       "              (dropout): Dropout(p=0.1, inplace=False)\n",
       "            )\n",
       "            (output): RobertaSelfOutput(\n",
       "              (dense): Linear(in_features=768, out_features=768, bias=True)\n",
       "              (LayerNorm): LayerNorm((768,), eps=1e-05, elementwise_affine=True)\n",
       "              (dropout): Dropout(p=0.1, inplace=False)\n",
       "            )\n",
       "          )\n",
       "          (intermediate): RobertaIntermediate(\n",
       "            (dense): Linear(in_features=768, out_features=3072, bias=True)\n",
       "            (intermediate_act_fn): GELUActivation()\n",
       "          )\n",
       "          (output): RobertaOutput(\n",
       "            (dense): Linear(in_features=3072, out_features=768, bias=True)\n",
       "            (LayerNorm): LayerNorm((768,), eps=1e-05, elementwise_affine=True)\n",
       "            (dropout): Dropout(p=0.1, inplace=False)\n",
       "          )\n",
       "        )\n",
       "      )\n",
       "    )\n",
       "    (pooler): RobertaPooler(\n",
       "      (dense): Linear(in_features=768, out_features=768, bias=True)\n",
       "      (activation): Tanh()\n",
       "    )\n",
       "  )\n",
       "  (dropout): Dropout(p=0.3, inplace=False)\n",
       "  (classifier): Linear(in_features=768, out_features=4, bias=True)\n",
       ")"
      ]
     },
     "execution_count": 23,
     "metadata": {},
     "output_type": "execute_result"
    }
   ],
   "source": [
    "model_cp = roBERTa(model_name)\n",
    "model_cp.to(device)"
   ]
  },
  {
   "cell_type": "markdown",
   "metadata": {},
   "source": [
    "Model initialization and optional gpu usage:"
   ]
  },
  {
   "cell_type": "code",
   "execution_count": 24,
   "metadata": {},
   "outputs": [
    {
     "name": "stderr",
     "output_type": "stream",
     "text": [
      "Some weights of RobertaModel were not initialized from the model checkpoint at roberta-base and are newly initialized: ['roberta.pooler.dense.bias', 'roberta.pooler.dense.weight']\n",
      "You should probably TRAIN this model on a down-stream task to be able to use it for predictions and inference.\n"
     ]
    },
    {
     "data": {
      "text/plain": [
       "roBERTa(\n",
       "  (roberta): RobertaModel(\n",
       "    (embeddings): RobertaEmbeddings(\n",
       "      (word_embeddings): Embedding(50265, 768, padding_idx=1)\n",
       "      (position_embeddings): Embedding(514, 768, padding_idx=1)\n",
       "      (token_type_embeddings): Embedding(1, 768)\n",
       "      (LayerNorm): LayerNorm((768,), eps=1e-05, elementwise_affine=True)\n",
       "      (dropout): Dropout(p=0.1, inplace=False)\n",
       "    )\n",
       "    (encoder): RobertaEncoder(\n",
       "      (layer): ModuleList(\n",
       "        (0-11): 12 x RobertaLayer(\n",
       "          (attention): RobertaAttention(\n",
       "            (self): RobertaSelfAttention(\n",
       "              (query): Linear(in_features=768, out_features=768, bias=True)\n",
       "              (key): Linear(in_features=768, out_features=768, bias=True)\n",
       "              (value): Linear(in_features=768, out_features=768, bias=True)\n",
       "              (dropout): Dropout(p=0.1, inplace=False)\n",
       "            )\n",
       "            (output): RobertaSelfOutput(\n",
       "              (dense): Linear(in_features=768, out_features=768, bias=True)\n",
       "              (LayerNorm): LayerNorm((768,), eps=1e-05, elementwise_affine=True)\n",
       "              (dropout): Dropout(p=0.1, inplace=False)\n",
       "            )\n",
       "          )\n",
       "          (intermediate): RobertaIntermediate(\n",
       "            (dense): Linear(in_features=768, out_features=3072, bias=True)\n",
       "            (intermediate_act_fn): GELUActivation()\n",
       "          )\n",
       "          (output): RobertaOutput(\n",
       "            (dense): Linear(in_features=3072, out_features=768, bias=True)\n",
       "            (LayerNorm): LayerNorm((768,), eps=1e-05, elementwise_affine=True)\n",
       "            (dropout): Dropout(p=0.1, inplace=False)\n",
       "          )\n",
       "        )\n",
       "      )\n",
       "    )\n",
       "    (pooler): RobertaPooler(\n",
       "      (dense): Linear(in_features=768, out_features=768, bias=True)\n",
       "      (activation): Tanh()\n",
       "    )\n",
       "  )\n",
       "  (dropout): Dropout(p=0.3, inplace=False)\n",
       "  (classifier): Linear(in_features=768, out_features=4, bias=True)\n",
       ")"
      ]
     },
     "execution_count": 24,
     "metadata": {},
     "output_type": "execute_result"
    }
   ],
   "source": [
    "model_cps = roBERTa(model_name)\n",
    "model_cps.to(device)"
   ]
  },
  {
   "cell_type": "markdown",
   "metadata": {},
   "source": [
    "### Training function for RoBERTa models:\n",
    "\n",
    "Since we have 3 different models we created a function that trains a model given the model and the training dataloader. The training loop is quite standard. We use the AdamW optimizer and the BCEWithLogitsLoss loss function. We also use the scheduler to decrease the learning rate during training."
   ]
  },
  {
   "cell_type": "code",
   "execution_count": 25,
   "metadata": {},
   "outputs": [],
   "source": [
    "def trainBert(model, dataloader):\n",
    "    optimizer = torch.optim.Adam(params=model.parameters(), lr=learning_rate)\n",
    "    scheduler = get_linear_schedule_with_warmup(optimizer, num_warmup_steps=0, num_training_steps=len(dataloader)*epochs)\n",
    "    size = len(dataloader.dataset)\n",
    "    model.train()\n",
    "    for batch, data in enumerate(dataloader, 0):\n",
    "        ids = data['ids'].to(device, dtype=torch.long)\n",
    "        mask = data['mask'].to(device, dtype=torch.long)\n",
    "        token_type_ids = data['token_type_ids'].to(device, dtype=torch.long)\n",
    "        targets = data['targets'].to(device, dtype=torch.float)\n",
    "\n",
    "        outputs = model(ids, mask, token_type_ids)\n",
    "        loss = loss_fn(outputs, targets)\n",
    "\n",
    "        optimizer.zero_grad()\n",
    "        loss.backward()\n",
    "        optimizer.step()\n",
    "        scheduler.step()\n",
    "        if batch % 100 == 0:\n",
    "            loss, current = loss.item(), batch * len(ids)\n",
    "            print(f\"Train loss: {loss:>7f}  [{current:>5d}/{size:>5d}]\")"
   ]
  },
  {
   "cell_type": "markdown",
   "metadata": {},
   "source": [
    "### Validation function for RoBERTa models:\n",
    "\n",
    "We also created a function that evaluates a model given the model and the validation dataloader. Again, the validation loop is quite standard. We compute the loss for each batch and then we average it while also saving the model in case the validation loss is lower than the previous one, like a checkpoint."
   ]
  },
  {
   "cell_type": "code",
   "execution_count": 26,
   "metadata": {},
   "outputs": [],
   "source": [
    "def validation(epoch, val_loss_min_input, model, dataloader):\n",
    "    size = len(dataloader.dataset)\n",
    "    num_batches = len(dataloader)\n",
    "    model.eval()\n",
    "    val_loss = 0\n",
    "    with torch.no_grad():\n",
    "        for batch_idx, data in enumerate(dataloader, 0):\n",
    "            ids = data['ids'].to(device, dtype = torch.long)\n",
    "            mask = data['mask'].to(device, dtype = torch.long)\n",
    "            token_type_ids = data['token_type_ids'].to(device, dtype = torch.long)\n",
    "            targets = data['targets'].to(device, dtype = torch.float)\n",
    "            outputs = model(ids, mask, token_type_ids)\n",
    "            val_loss += loss_fn(outputs, targets).item()\n",
    "        \n",
    "        val_loss /= num_batches\n",
    "        #outputs, targets = fin_outputs, fin_targets\n",
    "        print(f\"\\nValidation loss: {val_loss:>8f}.\")\n",
    "        ## TODO: save the model if validation loss has decreased\n",
    "        if val_loss <= val_loss_min_input:\n",
    "            #create checkpoint variable and add important data\n",
    "            if epoch > 0: \n",
    "                print('Validation loss decreased ({:.8f} --> {:.8f}).  Saving model ...'.format(val_loss_min_input, val_loss))\n",
    "            else: print('Saving model ...')   \n",
    "            # save best moel\n",
    "            torch.save(model.state_dict(), \"model.pth\")\n",
    "            print(\"Saved PyTorch Model State to model.pth\\n\")\n",
    "            val_loss_min_input = val_loss\n",
    "    \n",
    "    return val_loss_min_input"
   ]
  },
  {
   "cell_type": "markdown",
   "metadata": {},
   "source": [
    "# Task 3: Metrics\n",
    "\n",
    "Before training the models, you are tasked to define the evaluation metrics for comparison."
   ]
  },
  {
   "cell_type": "markdown",
   "metadata": {},
   "source": [
    "### Instructions\n",
    "\n",
    "* Evaluate your models using per-category binary F1-score.\n",
    "* Compute the average binary F1-score over all categories (macro F1-score)."
   ]
  },
  {
   "cell_type": "markdown",
   "metadata": {},
   "source": [
    "We make heavy use of the sklearn library to compute the metrics, especially the f1 score, for each model as it is already implemented and it is quite easy to use."
   ]
  },
  {
   "cell_type": "markdown",
   "metadata": {},
   "source": [
    "### Random uniform classifier metrics:"
   ]
  },
  {
   "cell_type": "code",
   "execution_count": 27,
   "metadata": {},
   "outputs": [],
   "source": [
    "def f1scoreRandom(X_val, Y_val):\n",
    "    Y_pred_openness_unif = uniform_classifier_openness.predict(X_val)\n",
    "    Y_pred_conserv_unif = uniform_classifier_conserv.predict(X_val)\n",
    "    Y_pred_self_enh_unif = uniform_classifier_self_enh.predict(X_val)\n",
    "    Y_pred_self_trans_unif = uniform_classifier_self_trans.predict(X_val)\n",
    "    \n",
    "    Y_pred = []\n",
    "    for i in range(len(Y_pred_openness_unif)):\n",
    "        temp = []\n",
    "        temp.append(Y_pred_openness_unif[i])\n",
    "        temp.append(Y_pred_conserv_unif[i])\n",
    "        temp.append(Y_pred_self_enh_unif[i])\n",
    "        temp.append(Y_pred_self_trans_unif[i])\n",
    "        Y_pred.append(temp)\n",
    "        \n",
    "    return evaluate(Y_val, Y_pred)"
   ]
  },
  {
   "cell_type": "markdown",
   "metadata": {},
   "source": [
    "### Majority classifier metrics:"
   ]
  },
  {
   "cell_type": "code",
   "execution_count": 28,
   "metadata": {},
   "outputs": [],
   "source": [
    "def f1scoreMajority(X_val, Y_val):\n",
    "    Y_pred_openness_maj = majority_classifier_openness.predict(X_val)\n",
    "    Y_pred_conserv_maj = majority_classifier_conserv.predict(X_val)\n",
    "    Y_pred_self_enh_maj = majority_classifier_self_enh.predict(X_val)\n",
    "    Y_pred_self_trans_maj = majority_classifier_self_trans.predict(X_val)\n",
    "\n",
    "    Y_pred = []\n",
    "    for i in range(len(Y_pred_openness_maj)):\n",
    "        temp = []\n",
    "        temp.append(Y_pred_openness_maj[i])\n",
    "        temp.append(Y_pred_conserv_maj[i])\n",
    "        temp.append(Y_pred_self_enh_maj[i])\n",
    "        temp.append(Y_pred_self_trans_maj[i])\n",
    "        Y_pred.append(temp)\n",
    "        \n",
    "    return evaluate(Y_val, Y_pred)"
   ]
  },
  {
   "cell_type": "markdown",
   "metadata": {},
   "source": [
    "### RoBERTa model metrics:"
   ]
  },
  {
   "cell_type": "code",
   "execution_count": 29,
   "metadata": {},
   "outputs": [],
   "source": [
    "def test(model, testing_loader):\n",
    "    model.eval()\n",
    "    fin_targets=[]\n",
    "    fin_outputs=[]\n",
    "    with torch.no_grad(): # no need to calculate the gradients\n",
    "        for _, data in enumerate(testing_loader, 0):\n",
    "            ids = data['ids'].to(device, dtype = torch.long)\n",
    "            mask = data['mask'].to(device, dtype = torch.long)\n",
    "            token_type_ids = data['token_type_ids'].to(device, dtype = torch.long)\n",
    "            targets = data['targets'].to(device, dtype = torch.float)\n",
    "            outputs = model(ids, mask, token_type_ids)\n",
    "            fin_targets.extend(targets.cpu().detach().numpy().tolist())\n",
    "            fin_outputs.extend(torch.sigmoid(outputs).cpu().detach().numpy().tolist())\n",
    "    return fin_outputs, fin_targets"
   ]
  },
  {
   "cell_type": "code",
   "execution_count": 31,
   "metadata": {},
   "outputs": [],
   "source": [
    "def get_threshold(model, dataloader):\n",
    "    outputs, targets = test(model, dataloader)\n",
    "    results = {}\n",
    "    for tr in np.arange(0.1, 0.9, 0.1):\n",
    "        tr = round(tr, 2)\n",
    "        predictions= np.array(outputs) >= tr\n",
    "        f1 = f1_score(targets, predictions, average='macro', zero_division=1)\n",
    "        results[tr] = f1\n",
    "\n",
    "    #for k, v in results.items():\n",
    "        # print(f\"Threshold: {k}, F1-score: {v}\")\n",
    "    return max(results, key=results.get), results, outputs, targets"
   ]
  },
  {
   "cell_type": "markdown",
   "metadata": {},
   "source": [
    "# Task 4: Training and Evaluation\n",
    "\n",
    "You are now tasked to train and evaluate **all** defined models."
   ]
  },
  {
   "cell_type": "markdown",
   "metadata": {},
   "source": [
    "### Instructions\n",
    "\n",
    "* Train **all** models on the train set.\n",
    "* Evaluate **all** models on the validation set.\n",
    "* Pick **at least** three seeds for robust estimation.\n",
    "* Compute metrics on the validation set.\n",
    "* Report **per-category** and **macro** F1-score for comparison."
   ]
  },
  {
   "cell_type": "code",
   "execution_count": 32,
   "metadata": {},
   "outputs": [],
   "source": [
    "# Seed definition\n",
    "#seed = 42\n",
    "#seed = 69\n",
    "seed = 420\n",
    "\n",
    "# Set the seed for numpy to have reproducible experiments\n",
    "np.random.seed(seed)"
   ]
  },
  {
   "cell_type": "markdown",
   "metadata": {},
   "source": [
    "### Train the random uniform classifier:"
   ]
  },
  {
   "cell_type": "code",
   "execution_count": 33,
   "metadata": {},
   "outputs": [
    {
     "name": "stdout",
     "output_type": "stream",
     "text": [
      "Classification report for the random classifier:\n",
      "\n",
      "              precision    recall  f1-score   support\n",
      "\n",
      "           0       0.37      0.49      0.42       698\n",
      "           1       0.47      0.51      0.49       885\n",
      "           2       0.75      0.50      0.60      1426\n",
      "           3       0.79      0.52      0.62      1506\n",
      "\n",
      "   micro avg       0.60      0.50      0.55      4515\n",
      "   macro avg       0.59      0.50      0.53      4515\n",
      "weighted avg       0.65      0.50      0.56      4515\n",
      " samples avg       0.56      0.51      0.49      4515\n",
      "\n"
     ]
    },
    {
     "name": "stderr",
     "output_type": "stream",
     "text": [
      "d:\\NLProject\\.venv\\lib\\site-packages\\sklearn\\metrics\\_classification.py:1471: UndefinedMetricWarning: Precision and F-score are ill-defined and being set to 0.0 in samples with no predicted labels. Use `zero_division` parameter to control this behavior.\n",
      "  _warn_prf(average, modifier, msg_start, len(result))\n"
     ]
    }
   ],
   "source": [
    "\n",
    "Y_train_openness = train['Openness to change']\n",
    "Y_train_conserv = train['Conservation']\n",
    "Y_train_self_enh = train['Self-enhancement']\n",
    "Y_train_self_trans = train['Self-transcendence']\n",
    "uniform_classifier_openness.fit(X_train, Y_train_openness)\n",
    "uniform_classifier_conserv.fit(X_train, Y_train_conserv)\n",
    "uniform_classifier_self_enh.fit(X_train, Y_train_self_enh)\n",
    "uniform_classifier_self_trans.fit(X_train, Y_train_self_trans)\n",
    "report_ruc = f1scoreRandom(X_val, Y_val)\n",
    "print(\"Classification report for the random classifier:\\n\")\n",
    "print(report_ruc)"
   ]
  },
  {
   "cell_type": "markdown",
   "metadata": {},
   "source": [
    "### Train the majority classifier:"
   ]
  },
  {
   "cell_type": "code",
   "execution_count": 34,
   "metadata": {},
   "outputs": [
    {
     "name": "stdout",
     "output_type": "stream",
     "text": [
      "Classification report for the majority classifier:\n",
      "\n",
      "              precision    recall  f1-score   support\n",
      "\n",
      "           0       0.00      0.00      0.00       698\n",
      "           1       0.00      0.00      0.00       885\n",
      "           2       0.75      1.00      0.86      1426\n",
      "           3       0.79      1.00      0.89      1506\n",
      "\n",
      "   micro avg       0.77      0.65      0.71      4515\n",
      "   macro avg       0.39      0.50      0.44      4515\n",
      "weighted avg       0.50      0.65      0.57      4515\n",
      " samples avg       0.77      0.68      0.70      4515\n",
      "\n"
     ]
    },
    {
     "name": "stderr",
     "output_type": "stream",
     "text": [
      "d:\\NLProject\\.venv\\lib\\site-packages\\sklearn\\metrics\\_classification.py:1471: UndefinedMetricWarning: Precision and F-score are ill-defined and being set to 0.0 in labels with no predicted samples. Use `zero_division` parameter to control this behavior.\n",
      "  _warn_prf(average, modifier, msg_start, len(result))\n"
     ]
    }
   ],
   "source": [
    "majority_classifier_openness.fit(X_train, Y_train_openness)\n",
    "majority_classifier_conserv.fit(X_train, Y_train_conserv)\n",
    "majority_classifier_self_enh.fit(X_train, Y_train_self_enh)\n",
    "majority_classifier_self_trans.fit(X_train, Y_train_self_trans)\n",
    "report_mc = f1scoreMajority(X_val, Y_val)\n",
    "print(\"Classification report for the majority classifier:\\n\")\n",
    "print(report_mc)"
   ]
  },
  {
   "cell_type": "markdown",
   "metadata": {},
   "source": [
    "### Training RoBERTa w/C:"
   ]
  },
  {
   "cell_type": "code",
   "execution_count": null,
   "metadata": {},
   "outputs": [],
   "source": [
    "val_loss_min = np.Inf\n",
    "for epoch in range(epochs):\n",
    "    print(f\"Epoch {epoch + 1}\\n-------------------------------\")\n",
    "    trainBert(model_c, train_dataloaderc)\n",
    "    val_loss_min = validation(epoch, val_loss_min, model_c, train_dataloaderc)"
   ]
  },
  {
   "cell_type": "markdown",
   "metadata": {},
   "source": [
    "### RoBERTa w/C evaluation:"
   ]
  },
  {
   "cell_type": "code",
   "execution_count": null,
   "metadata": {},
   "outputs": [],
   "source": [
    "th, results_c, outputs_c, targets_c= get_threshold(model_c, val_dataloaderc)\n",
    "print(f\"Best threshold: {th}, F1-score: {results_c[th]}\")\n",
    "predictions_c = np.array(outputs_c) >= th\n",
    "report_roberta_c = classification_report(targets_c, predictions_c, target_names=labels ,zero_division=1)\n",
    "print(report_roberta_c)"
   ]
  },
  {
   "cell_type": "markdown",
   "metadata": {},
   "source": [
    "### Training RoBERTa w/CP:"
   ]
  },
  {
   "cell_type": "code",
   "execution_count": 40,
   "metadata": {},
   "outputs": [
    {
     "name": "stdout",
     "output_type": "stream",
     "text": [
      "Epoch 1\n",
      "-------------------------------\n",
      "Train loss: 0.703765  [    0/ 5393]\n",
      "Train loss: 0.583361  [ 1600/ 5393]\n",
      "Train loss: 0.528497  [ 3200/ 5393]\n",
      "Train loss: 0.531994  [ 4800/ 5393]\n",
      "\n",
      "Validation loss: 0.462537.\n",
      "Saving model ...\n",
      "Saved PyTorch Model State to model.pth\n",
      "\n",
      "Epoch 2\n",
      "-------------------------------\n",
      "Train loss: 0.571636  [    0/ 5393]\n",
      "Train loss: 0.351225  [ 1600/ 5393]\n",
      "Train loss: 0.554982  [ 3200/ 5393]\n",
      "Train loss: 0.365206  [ 4800/ 5393]\n",
      "\n",
      "Validation loss: 0.393426.\n",
      "Validation loss decreased (0.46253744 --> 0.39342580).  Saving model ...\n",
      "Saved PyTorch Model State to model.pth\n",
      "\n",
      "Epoch 3\n",
      "-------------------------------\n",
      "Train loss: 0.464953  [    0/ 5393]\n",
      "Train loss: 0.298749  [ 1600/ 5393]\n",
      "Train loss: 0.488705  [ 3200/ 5393]\n",
      "Train loss: 0.282428  [ 4800/ 5393]\n",
      "\n",
      "Validation loss: 0.337891.\n",
      "Validation loss decreased (0.39342580 --> 0.33789086).  Saving model ...\n",
      "Saved PyTorch Model State to model.pth\n",
      "\n",
      "Epoch 4\n",
      "-------------------------------\n",
      "Train loss: 0.312650  [    0/ 5393]\n",
      "Train loss: 0.249999  [ 1600/ 5393]\n",
      "Train loss: 0.385601  [ 3200/ 5393]\n",
      "Train loss: 0.186010  [ 4800/ 5393]\n",
      "\n",
      "Validation loss: 0.280475.\n",
      "Validation loss decreased (0.33789086 --> 0.28047495).  Saving model ...\n",
      "Saved PyTorch Model State to model.pth\n",
      "\n",
      "Epoch 5\n",
      "-------------------------------\n",
      "Train loss: 0.230729  [    0/ 5393]\n",
      "Train loss: 0.203276  [ 1600/ 5393]\n",
      "Train loss: 0.238281  [ 3200/ 5393]\n",
      "Train loss: 0.166196  [ 4800/ 5393]\n",
      "\n",
      "Validation loss: 0.226032.\n",
      "Validation loss decreased (0.28047495 --> 0.22603230).  Saving model ...\n",
      "Saved PyTorch Model State to model.pth\n",
      "\n",
      "Epoch 6\n",
      "-------------------------------\n",
      "Train loss: 0.140500  [    0/ 5393]\n",
      "Train loss: 0.134190  [ 1600/ 5393]\n",
      "Train loss: 0.237313  [ 3200/ 5393]\n",
      "Train loss: 0.127992  [ 4800/ 5393]\n",
      "\n",
      "Validation loss: 0.208094.\n",
      "Validation loss decreased (0.22603230 --> 0.20809412).  Saving model ...\n",
      "Saved PyTorch Model State to model.pth\n",
      "\n",
      "Epoch 7\n",
      "-------------------------------\n",
      "Train loss: 0.118452  [    0/ 5393]\n",
      "Train loss: 0.133277  [ 1600/ 5393]\n",
      "Train loss: 0.170576  [ 3200/ 5393]\n",
      "Train loss: 0.067602  [ 4800/ 5393]\n",
      "\n",
      "Validation loss: 0.196087.\n",
      "Validation loss decreased (0.20809412 --> 0.19608685).  Saving model ...\n",
      "Saved PyTorch Model State to model.pth\n",
      "\n",
      "Epoch 8\n",
      "-------------------------------\n",
      "Train loss: 0.054502  [    0/ 5393]\n",
      "Train loss: 0.069364  [ 1600/ 5393]\n",
      "Train loss: 0.125105  [ 3200/ 5393]\n",
      "Train loss: 0.080505  [ 4800/ 5393]\n",
      "\n",
      "Validation loss: 0.220526.\n",
      "Epoch 9\n",
      "-------------------------------\n",
      "Train loss: 0.094883  [    0/ 5393]\n",
      "Train loss: 0.072296  [ 1600/ 5393]\n",
      "Train loss: 0.105217  [ 3200/ 5393]\n",
      "Train loss: 0.082120  [ 4800/ 5393]\n",
      "\n",
      "Validation loss: 0.156515.\n",
      "Validation loss decreased (0.19608685 --> 0.15651457).  Saving model ...\n",
      "Saved PyTorch Model State to model.pth\n",
      "\n",
      "Epoch 10\n",
      "-------------------------------\n",
      "Train loss: 0.026083  [    0/ 5393]\n",
      "Train loss: 0.059119  [ 1600/ 5393]\n",
      "Train loss: 0.043245  [ 3200/ 5393]\n",
      "Train loss: 0.064476  [ 4800/ 5393]\n",
      "\n",
      "Validation loss: 0.136321.\n",
      "Validation loss decreased (0.15651457 --> 0.13632126).  Saving model ...\n",
      "Saved PyTorch Model State to model.pth\n",
      "\n"
     ]
    }
   ],
   "source": [
    "val_loss_min = np.Inf\n",
    "for epoch in range(epochs):\n",
    "    print(f\"Epoch {epoch + 1}\\n-------------------------------\")\n",
    "    trainBert(model_cp, train_dataloadercp)\n",
    "    val_loss_min = validation(epoch, val_loss_min, model_cp, train_dataloadercp)"
   ]
  },
  {
   "cell_type": "code",
   "execution_count": 42,
   "metadata": {},
   "outputs": [
    {
     "name": "stdout",
     "output_type": "stream",
     "text": [
      "Best threshold: 0.1, F1-score: 0.7664998271281073\n",
      "                    precision    recall  f1-score   support\n",
      "\n",
      "Openness to change       0.63      0.67      0.65       698\n",
      "      Conservation       0.66      0.73      0.69       885\n",
      "  Self-enhancement       0.76      0.99      0.86      1426\n",
      "Self-transcendence       0.83      0.91      0.87      1506\n",
      "\n",
      "         micro avg       0.74      0.86      0.80      4515\n",
      "         macro avg       0.72      0.82      0.77      4515\n",
      "      weighted avg       0.74      0.86      0.80      4515\n",
      "       samples avg       0.77      0.88      0.79      4515\n",
      "\n"
     ]
    }
   ],
   "source": [
    "th, results_cp, outputs_cp, targets_cp= get_threshold(model_cp, val_dataloadercp)\n",
    "print(f\"Best threshold: {th}, F1-score: {results_cp[th]}\")\n",
    "predictions_cp = np.array(outputs_cp) >= th\n",
    "report_roberta_cp = classification_report(targets_cp, predictions_cp, target_names=labels ,zero_division=1)\n",
    "print(report_roberta_cp)"
   ]
  },
  {
   "cell_type": "markdown",
   "metadata": {},
   "source": [
    "### Training RoBERTa w/CPS:"
   ]
  },
  {
   "cell_type": "code",
   "execution_count": null,
   "metadata": {},
   "outputs": [
    {
     "name": "stdout",
     "output_type": "stream",
     "text": [
      "Epoch 1\n",
      "-------------------------------\n",
      "Train loss: 0.703765  [    0/ 5393]\n",
      "Train loss: 0.583361  [ 1600/ 5393]\n",
      "Train loss: 0.528497  [ 3200/ 5393]\n",
      "Train loss: 0.531994  [ 4800/ 5393]\n",
      "\n",
      "Validation loss: 0.462537.\n",
      "Saving model ...\n",
      "Saved PyTorch Model State to model.pth\n",
      "\n",
      "Epoch 2\n",
      "-------------------------------\n",
      "Train loss: 0.571636  [    0/ 5393]\n",
      "Train loss: 0.351225  [ 1600/ 5393]\n",
      "Train loss: 0.554982  [ 3200/ 5393]\n",
      "Train loss: 0.365206  [ 4800/ 5393]\n",
      "\n",
      "Validation loss: 0.393426.\n",
      "Validation loss decreased (0.46253744 --> 0.39342580).  Saving model ...\n",
      "Saved PyTorch Model State to model.pth\n",
      "\n",
      "Epoch 3\n",
      "-------------------------------\n",
      "Train loss: 0.464953  [    0/ 5393]\n",
      "Train loss: 0.298749  [ 1600/ 5393]\n",
      "Train loss: 0.488705  [ 3200/ 5393]\n",
      "Train loss: 0.282428  [ 4800/ 5393]\n",
      "\n",
      "Validation loss: 0.337891.\n",
      "Validation loss decreased (0.39342580 --> 0.33789086).  Saving model ...\n",
      "Saved PyTorch Model State to model.pth\n",
      "\n",
      "Epoch 4\n",
      "-------------------------------\n",
      "Train loss: 0.312650  [    0/ 5393]\n",
      "Train loss: 0.249999  [ 1600/ 5393]\n",
      "Train loss: 0.385601  [ 3200/ 5393]\n",
      "Train loss: 0.186010  [ 4800/ 5393]\n",
      "\n",
      "Validation loss: 0.280475.\n",
      "Validation loss decreased (0.33789086 --> 0.28047495).  Saving model ...\n",
      "Saved PyTorch Model State to model.pth\n",
      "\n",
      "Epoch 5\n",
      "-------------------------------\n",
      "Train loss: 0.230729  [    0/ 5393]\n",
      "Train loss: 0.203276  [ 1600/ 5393]\n",
      "Train loss: 0.238281  [ 3200/ 5393]\n",
      "Train loss: 0.166196  [ 4800/ 5393]\n",
      "\n",
      "Validation loss: 0.226032.\n",
      "Validation loss decreased (0.28047495 --> 0.22603230).  Saving model ...\n",
      "Saved PyTorch Model State to model.pth\n",
      "\n",
      "Epoch 6\n",
      "-------------------------------\n",
      "Train loss: 0.140500  [    0/ 5393]\n",
      "Train loss: 0.134190  [ 1600/ 5393]\n",
      "Train loss: 0.237313  [ 3200/ 5393]\n",
      "Train loss: 0.127992  [ 4800/ 5393]\n",
      "\n",
      "Validation loss: 0.208094.\n",
      "Validation loss decreased (0.22603230 --> 0.20809412).  Saving model ...\n",
      "Saved PyTorch Model State to model.pth\n",
      "\n",
      "Epoch 7\n",
      "-------------------------------\n",
      "Train loss: 0.118452  [    0/ 5393]\n",
      "Train loss: 0.133277  [ 1600/ 5393]\n",
      "Train loss: 0.170576  [ 3200/ 5393]\n",
      "Train loss: 0.067602  [ 4800/ 5393]\n",
      "\n",
      "Validation loss: 0.196087.\n",
      "Validation loss decreased (0.20809412 --> 0.19608685).  Saving model ...\n",
      "Saved PyTorch Model State to model.pth\n",
      "\n",
      "Epoch 8\n",
      "-------------------------------\n",
      "Train loss: 0.054502  [    0/ 5393]\n",
      "Train loss: 0.069364  [ 1600/ 5393]\n",
      "Train loss: 0.125105  [ 3200/ 5393]\n",
      "Train loss: 0.080505  [ 4800/ 5393]\n",
      "\n",
      "Validation loss: 0.220526.\n",
      "Epoch 9\n",
      "-------------------------------\n",
      "Train loss: 0.094883  [    0/ 5393]\n",
      "Train loss: 0.072296  [ 1600/ 5393]\n",
      "Train loss: 0.105217  [ 3200/ 5393]\n",
      "Train loss: 0.082120  [ 4800/ 5393]\n",
      "\n",
      "Validation loss: 0.156515.\n",
      "Validation loss decreased (0.19608685 --> 0.15651457).  Saving model ...\n",
      "Saved PyTorch Model State to model.pth\n",
      "\n",
      "Epoch 10\n",
      "-------------------------------\n",
      "Train loss: 0.026083  [    0/ 5393]\n",
      "Train loss: 0.059119  [ 1600/ 5393]\n",
      "Train loss: 0.043245  [ 3200/ 5393]\n",
      "Train loss: 0.064476  [ 4800/ 5393]\n",
      "\n",
      "Validation loss: 0.136321.\n",
      "Validation loss decreased (0.15651457 --> 0.13632126).  Saving model ...\n",
      "Saved PyTorch Model State to model.pth\n",
      "\n"
     ]
    }
   ],
   "source": [
    "val_loss_min = np.Inf\n",
    "for epoch in range(epochs):\n",
    "    print(f\"Epoch {epoch + 1}\\n-------------------------------\")\n",
    "    trainBert(model_cps, train_dataloadercp)\n",
    "    val_loss_min = validation(epoch, val_loss_min, model_cps, train_dataloadercp)"
   ]
  },
  {
   "cell_type": "code",
   "execution_count": null,
   "metadata": {},
   "outputs": [
    {
     "name": "stdout",
     "output_type": "stream",
     "text": [
      "Best threshold: 0.1, F1-score: 0.7664998271281073\n",
      "                    precision    recall  f1-score   support\n",
      "\n",
      "Openness to change       0.63      0.67      0.65       698\n",
      "      Conservation       0.66      0.73      0.69       885\n",
      "  Self-enhancement       0.76      0.99      0.86      1426\n",
      "Self-transcendence       0.83      0.91      0.87      1506\n",
      "\n",
      "         micro avg       0.74      0.86      0.80      4515\n",
      "         macro avg       0.72      0.82      0.77      4515\n",
      "      weighted avg       0.74      0.86      0.80      4515\n",
      "       samples avg       0.77      0.88      0.79      4515\n",
      "\n"
     ]
    }
   ],
   "source": [
    "th, results_cps, outputs_cps, targets_cps= get_threshold(model_cps, val_dataloadercps)\n",
    "print(f\"Best threshold: {th}, F1-score: {results_cps[th]}\")\n",
    "predictions_cps = np.array(outputs_cps) >= th\n",
    "report_roberta_cps = classification_report(targets_cps, predictions_cps, target_names=labels ,zero_division=1)\n",
    "print(report_roberta_cps)"
   ]
  },
  {
   "cell_type": "markdown",
   "metadata": {},
   "source": [
    "# Task 5: Error Analysis\n",
    "\n",
    "You are tasked to discuss your results."
   ]
  },
  {
   "cell_type": "markdown",
   "metadata": {},
   "source": [
    "### Instructions\n",
    "\n",
    "* **Compare** classification performance of BERT-based models with respect to baselines.\n",
    "* Discuss **difference in prediction** between the best performing BERT-based model and its variants."
   ]
  },
  {
   "cell_type": "code",
   "execution_count": 35,
   "metadata": {},
   "outputs": [
    {
     "data": {
      "text/plain": [
       "<All keys matched successfully>"
      ]
     },
     "execution_count": 35,
     "metadata": {},
     "output_type": "execute_result"
    }
   ],
   "source": [
    "# load the models:\n",
    "model_c.load_state_dict(torch.load(f'seed_{seed}/model_c_{seed}.pth', map_location=torch.device('cpu')))\n",
    "model_cp.load_state_dict(torch.load(f'seed_{seed}/model_cp_{seed}.pth', map_location=torch.device('cpu')))\n",
    "model_cps.load_state_dict(torch.load(f'seed_{seed}/model_cps_{seed}.pth', map_location=torch.device('cpu')))"
   ]
  },
  {
   "cell_type": "code",
   "execution_count": 43,
   "metadata": {},
   "outputs": [],
   "source": [
    "#get results:\n",
    "th, results_c, outputs_c, targets_c= get_threshold(model_c, val_dataloaderc)\n",
    "predictions_c = np.array(outputs_c) >= th\n",
    "report_roberta_c = classification_report(targets_c, predictions_c, target_names=labels ,zero_division=1)\n",
    "\n",
    "th, results_cp, outputs_cp, targets_cp= get_threshold(model_cp, val_dataloadercp)\n",
    "predictions_cp = np.array(outputs_cp) >= th\n",
    "report_roberta_cp = classification_report(targets_cp, predictions_cp, target_names=labels ,zero_division=1)\n",
    "\n",
    "th, results_cps, outputs_cps, targets_cps= get_threshold(model_cps, val_dataloadercps)\n",
    "predictions_cps = np.array(outputs_cps) >= th\n",
    "report_roberta_cps = classification_report(targets_cps, predictions_cps, target_names=labels ,zero_division=1)"
   ]
  },
  {
   "cell_type": "code",
   "execution_count": 47,
   "metadata": {},
   "outputs": [
    {
     "name": "stdout",
     "output_type": "stream",
     "text": [
      "The F1-scores for the test set on the different models are the following:\n",
      "\n",
      "           Model Openess to change Conservation Self-enhancement  \\\n",
      "0         Random              0.42         0.49             0.60   \n",
      "1       Majority              0.00         0.00             0.86   \n",
      "2    roBERTa w/C              0.40         0.64             0.86   \n",
      "3   roBERTa w/CP              0.68         0.69             0.87   \n",
      "4  roBERTa w/CPS              0.59         0.69             0.87   \n",
      "\n",
      "  Self-transcendence Macro avg  \n",
      "0               0.62      0.50  \n",
      "1               0.89      0.50  \n",
      "2               0.89      0.95  \n",
      "3               0.86      0.82  \n",
      "4               0.88      0.89  \n"
     ]
    }
   ],
   "source": [
    "# create a dataframe to store the results\n",
    "results = pd.DataFrame(columns=['Model', 'Openess to change', 'Conservation', 'Self-enhancement', 'Self-transcendence', 'Macro avg'])\n",
    "results.loc[0] = ['Random', report_ruc.splitlines()[2].split()[3], report_ruc.splitlines()[3].split()[3], report_ruc.splitlines()[4].split()[3], report_ruc.splitlines()[5].split()[3], report_ruc.splitlines()[8].split()[3]]\n",
    "results.loc[1] = ['Majority', report_mc.splitlines()[2].split()[3], report_mc.splitlines()[3].split()[3], report_mc.splitlines()[4].split()[3], report_mc.splitlines()[5].split()[3], report_mc.splitlines()[8].split()[3]]\n",
    "results.loc[2] = ['roBERTa w/C', report_roberta_c.splitlines()[2].split()[3], report_roberta_c.splitlines()[3].split()[3], report_roberta_c.splitlines()[4].split()[3], report_roberta_c.splitlines()[5].split()[3], report_roberta_c.splitlines()[8].split()[3]]\n",
    "results.loc[3] = ['roBERTa w/CP', report_roberta_cp.splitlines()[2].split()[3], report_roberta_cp.splitlines()[3].split()[3], report_roberta_cp.splitlines()[4].split()[3], report_roberta_cp.splitlines()[5].split()[3], report_roberta_cp.splitlines()[8].split()[3]]\n",
    "results.loc[4] = ['roBERTa w/CPS', report_roberta_cps.splitlines()[2].split()[3], report_roberta_cps.splitlines()[3].split()[3], report_roberta_cps.splitlines()[4].split()[3], report_roberta_cps.splitlines()[5].split()[3], report_roberta_cps.splitlines()[8].split()[3]]\n",
    "results.to_csv(f'seed_{seed}/results_{seed}.csv', index=False)\n",
    "\n",
    "print(\"The F1-scores for the test set on the different models are the following:\\n\")\n",
    "print(results)"
   ]
  },
  {
   "cell_type": "code",
   "execution_count": 38,
   "metadata": {},
   "outputs": [],
   "source": [
    "def set_color(number_of_colors):\n",
    "    # return a random color to be used for the plot\n",
    "    color_list = []\n",
    "    for i in range(number_of_colors):\n",
    "        color_list.append(\"#\"+''.join([random.choice('0123456789ABCDEF') for j in range(6)]))\n",
    "    return color_list"
   ]
  },
  {
   "cell_type": "code",
   "execution_count": 46,
   "metadata": {},
   "outputs": [
    {
     "data": {
      "image/png": "[encoded data removed]",
      "text/plain": [
       "<Figure size 3000x1000 with 12 Axes>"
      ]
     },
     "metadata": {},
     "output_type": "display_data"
    }
   ],
   "source": [
    "# for each model I plot the f1-score of each category for the test set using classification_report\n",
    "\n",
    "report_results_c = classification_report(targets_c, predictions_c, target_names=labels ,zero_division=1, output_dict=True)\n",
    "report_results_cp = classification_report(targets_cp, predictions_cp, target_names=labels ,zero_division=1, output_dict=True)\n",
    "report_results_cps = classification_report(targets_cps, predictions_cps, target_names=labels ,zero_division=1, output_dict=True)\n",
    "all_reports = [report_results_c, report_results_cp, report_results_cps]\n",
    "\n",
    "plot_colors = set_color(len(all_reports))\n",
    "\n",
    "# I plot the precision, recall and f1-score for each category for each model.\n",
    "fig, axs = plt.subplots(3, len(labels), figsize=(30, 10))\n",
    "\n",
    "for i, metric in enumerate(['precision', 'recall', 'f1-score']):\n",
    "    for j, label in enumerate(labels):\n",
    "        for k, report in enumerate(all_reports):\n",
    "            axs[i, j].bar(k, report[label][metric], color=plot_colors[k])\n",
    "            if k == 0 : axs[k, j].set_title(label)\n",
    "            axs[k, j].set_xticks([0, 1, 2])\n",
    "            axs[k, j].set_xticklabels(['Model_c', 'Model_cp', 'Model_cps'])\n",
    "            axs[k, j].set_ylim([0, 1])\n",
    "            axs[i, j].set_ylabel(metric)\n",
    "plt.show()\n"
   ]
  },
  {
   "cell_type": "code",
   "execution_count": null,
   "metadata": {},
   "outputs": [],
   "source": []
  }
 ],
 "metadata": {
  "kernelspec": {
   "display_name": "Python 3",
   "language": "python",
   "name": "python3"
  },
  "language_info": {
   "codemirror_mode": {
    "name": "ipython",
    "version": 3
   },
   "file_extension": ".py",
   "mimetype": "text/x-python",
   "name": "python",
   "nbconvert_exporter": "python",
   "pygments_lexer": "ipython3",
   "version": "3.10.10"
  }
 },
 "nbformat": 4,
 "nbformat_minor": 2
}
