{
 "cells": [
  {
   "cell_type": "markdown",
   "metadata": {},
   "source": [
    "# Assignment 2\n",
    "\n",
    "**Credits**: Federico Ruggeri, Eleonora Mancini, Paolo Torroni\n",
    "\n",
    "**Keywords**: Human Value Detection, Multi-label classification, Transformers, BERT"
   ]
  },
  {
   "cell_type": "markdown",
   "metadata": {},
   "source": [
    "This Jupyter Notebook document is our implementation of Assignment 2. \n",
    "\n",
    "Group members:\n",
    "- Stricescu Razvan Ciprian\n",
    "- Matteo Belletti\n",
    "- Alessandro Pasi\n"
   ]
  },
  {
   "cell_type": "markdown",
   "metadata": {},
   "source": [
    "# Imports and libraries needed"
   ]
  },
  {
   "cell_type": "code",
   "execution_count": 1,
   "metadata": {},
   "outputs": [],
   "source": [
    "#%pip install pandas\n",
    "#%pip install numpy\n",
    "#%pip install nltk\n",
    "#%pip install scikit-learn\n",
    "#%pip install transformers\n",
    "#%pip install matplotlib\n",
    "#%pip install torch torchvision torchaudio --index-url https://download.pytorch.org/whl/cu121"
   ]
  },
  {
   "cell_type": "code",
   "execution_count": 2,
   "metadata": {},
   "outputs": [
    {
     "name": "stdout",
     "output_type": "stream",
     "text": [
      "Device: cpu\n"
     ]
    }
   ],
   "source": [
    "import pandas as pd \n",
    "import numpy as np\n",
    "import matplotlib.pyplot as plt\n",
    "from tqdm import tqdm\n",
    "import random\n",
    "import os\n",
    "from sklearn.metrics import classification_report\n",
    "import nltk\n",
    "from nltk.tokenize import word_tokenize\n",
    "from nltk.corpus import stopwords\n",
    "from nltk.stem import WordNetLemmatizer\n",
    "import string\n",
    "import re\n",
    "from sklearn.feature_extraction.text import  TfidfVectorizer\n",
    "from torch import cuda\n",
    "import torch\n",
    "import transformers\n",
    "from torch.utils.data import Dataset, DataLoader, RandomSampler, SequentialSampler, ConcatDataset\n",
    "from transformers import AutoModel, AutoTokenizer, get_linear_schedule_with_warmup, RobertaConfig\n",
    "from torch import cuda\n",
    "device = 'cuda' if cuda.is_available() else 'cpu'\n",
    "print(f\"Device: {device}\")"
   ]
  },
  {
   "cell_type": "markdown",
   "metadata": {},
   "source": [
    "## Task 1: Corpus:\n",
    "\n",
    "We address a multi-label classification problem. We consider only level 3 categories which are the following:\n",
    "- Openness to change\n",
    "- Self-enhancement\n",
    "- Conservation\n",
    "- Self-transcendence"
   ]
  },
  {
   "cell_type": "markdown",
   "metadata": {},
   "source": [
    "We're gonna merge annotations of level 2 categories belonging to the same level 3 category. For example, we merge the annotations of the level 2 categories \"Stimulation\" and \"Hedonism\" into the level 3 category \"Openness to change\"."
   ]
  },
  {
   "cell_type": "markdown",
   "metadata": {},
   "source": [
    "Encoding to pandas dataframe:"
   ]
  },
  {
   "cell_type": "code",
   "execution_count": 3,
   "metadata": {},
   "outputs": [
    {
     "name": "stdout",
     "output_type": "stream",
     "text": [
      "  Argument ID                   Conclusion       Stance  \\\n",
      "0      A01002  We should ban human cloning  in favor of   \n",
      "\n",
      "                                             Premise  \n",
      "0  we should ban human cloning as it will only ca...  \n",
      "Shape of the training data: (5393, 4)\n",
      "Shape of the validation data: (1896, 4)\n",
      "Shape of the test data: (1576, 4)\n"
     ]
    }
   ],
   "source": [
    "arg_train = pd.read_csv('arguments/arguments-training.tsv', sep='\\t')\n",
    "print(arg_train.head(1))\n",
    "print(f\"Shape of the training data: {arg_train.shape}\")\n",
    "arg_val = pd.read_csv('arguments/arguments-validation.tsv', sep='\\t')\n",
    "print(f\"Shape of the validation data: {arg_val.shape}\")\n",
    "arg_test = pd.read_csv('arguments/arguments-test.tsv', sep='\\t')\n",
    "print(f\"Shape of the test data: {arg_test.shape}\")"
   ]
  },
  {
   "cell_type": "code",
   "execution_count": 4,
   "metadata": {},
   "outputs": [
    {
     "name": "stdout",
     "output_type": "stream",
     "text": [
      "  Argument ID  Self-direction: thought  Self-direction: action  Stimulation  \\\n",
      "0      A01002                        0                       0            0   \n",
      "\n",
      "   Hedonism  Achievement  Power: dominance  Power: resources  Face  \\\n",
      "0         0            0                 0                 0     0   \n",
      "\n",
      "   Security: personal  ...  Tradition  Conformity: rules  \\\n",
      "0                   0  ...          0                  0   \n",
      "\n",
      "   Conformity: interpersonal  Humility  Benevolence: caring  \\\n",
      "0                          0         0                    0   \n",
      "\n",
      "   Benevolence: dependability  Universalism: concern  Universalism: nature  \\\n",
      "0                           0                      0                     0   \n",
      "\n",
      "   Universalism: tolerance  Universalism: objectivity  \n",
      "0                        0                          0  \n",
      "\n",
      "[1 rows x 21 columns]\n",
      "Shape of the training data: (5393, 21)\n",
      "Shape of the validation data: (1896, 21)\n",
      "Shape of the test data: (1576, 21)\n"
     ]
    }
   ],
   "source": [
    "lab_train = pd.read_csv('arguments/labels-training.tsv', sep='\\t')\n",
    "print(lab_train.head(1))\n",
    "print(f\"Shape of the training data: {lab_train.shape}\")\n",
    "lab_val = pd.read_csv('arguments/labels-validation.tsv', sep='\\t')\n",
    "print(f\"Shape of the validation data: {lab_val.shape}\")\n",
    "lab_test = pd.read_csv('arguments/labels-test.tsv', sep='\\t')\n",
    "print(f\"Shape of the test data: {lab_test.shape}\")"
   ]
  },
  {
   "cell_type": "markdown",
   "metadata": {},
   "source": [
    "Now for each split we merge arguments and labels into a single dataframe."
   ]
  },
  {
   "cell_type": "code",
   "execution_count": 5,
   "metadata": {},
   "outputs": [
    {
     "name": "stdout",
     "output_type": "stream",
     "text": [
      "Shape of the training data: (5393, 24)\n",
      "Shape of the validation data: (1896, 24)\n",
      "Shape of the test data: (1576, 24)\n"
     ]
    }
   ],
   "source": [
    "df_train = arg_train.merge(lab_train, on='Argument ID')\n",
    "df_val = arg_val.merge(lab_val, on='Argument ID')\n",
    "df_test = arg_test.merge(lab_test, on='Argument ID')\n",
    "print(f\"Shape of the training data: {df_train.shape}\")\n",
    "print(f\"Shape of the validation data: {df_val.shape}\")\n",
    "print(f\"Shape of the test data: {df_test.shape}\")"
   ]
  },
  {
   "cell_type": "markdown",
   "metadata": {},
   "source": [
    "We merge level 2 categories into level 3 categories. We also create new dataframes for the cp and cps tasks."
   ]
  },
  {
   "cell_type": "code",
   "execution_count": 6,
   "metadata": {},
   "outputs": [
    {
     "name": "stdout",
     "output_type": "stream",
     "text": [
      "Shape of the training data: (5393, 8)\n",
      "Shape of the validation data: (1896, 8)\n",
      "Shape of the test data: (1576, 8)\n",
      "Shape of the training data for the cp task: (5393, 9)\n",
      "Shape of the training data for the cps task: (5393, 9)\n"
     ]
    }
   ],
   "source": [
    "# Merge the level 2 categories to level 3\n",
    "# They start from column 4 so we can just add 4 to the level 2 category\n",
    "# Openness to change: 4 columns\n",
    "# Conservation: columns 4 columns\n",
    "# Self-enhancement: 6 columns\n",
    "# Self-transcendence: 6 columns\n",
    "\n",
    "def merge_categories(df):\n",
    "    # Logical or \n",
    "    df['Openness to change'] = df[df.columns[4:8]].any(axis=1).astype(int)\n",
    "    df['Conservation'] = df[df.columns[7:12]].any(axis=1).astype(int)\n",
    "    df['Self-enhancement'] = df[df.columns[11:18]].any(axis=1).astype(int)\n",
    "    df['Self-transcendence'] = df[df.columns[17:24]].any(axis=1).astype(int)\n",
    "    df = df.drop(df.columns[4:24], axis=1)\n",
    "    return df\n",
    "\n",
    "# get column names\n",
    "df_train = merge_categories(df_train)\n",
    "df_val = merge_categories(df_val)\n",
    "df_test = merge_categories(df_test)\n",
    "print(f\"Shape of the training data: {df_train.shape}\")\n",
    "print(f\"Shape of the validation data: {df_val.shape}\")\n",
    "print(f\"Shape of the test data: {df_test.shape}\")\n",
    "\n",
    "# Create the dataframes for the cp task\n",
    "df_traincp = df_train.copy()\n",
    "df_valcp = df_val.copy()\n",
    "df_testcp = df_test.copy()\n",
    "df_traincp[\"text\"] = df_traincp[\"Conclusion\"] + \" \" + df_traincp[\"Premise\"]\n",
    "df_valcp[\"text\"] = df_valcp[\"Conclusion\"] + \" \" + df_valcp[\"Premise\"]\n",
    "df_testcp[\"text\"] = df_testcp[\"Conclusion\"] + \" \" + df_testcp[\"Premise\"]\n",
    "print(f\"Shape of the training data for the cp task: {df_traincp.shape}\")\n",
    "\n",
    "# Create the dataframes for the cps task\n",
    "df_traincps = df_train.copy()\n",
    "df_valcps = df_val.copy()\n",
    "df_testcps = df_test.copy()\n",
    "df_traincps[\"Stance\"] = df_traincps[\"Stance\"].replace(\"against\", \"0\")\n",
    "df_valcps[\"Stance\"] = df_valcps[\"Stance\"].replace(\"against\", \"0\")\n",
    "df_testcps[\"Stance\"] = df_testcps[\"Stance\"].replace(\"against\", \"0\")\n",
    "df_valcps[\"Stance\"] = df_valcps[\"Stance\"].replace(\"in favor of\", \"1\")\n",
    "df_traincps[\"Stance\"] = df_traincps[\"Stance\"].replace(\"in favor of\", \"1\")\n",
    "df_testcps[\"Stance\"] = df_testcps[\"Stance\"].replace(\"in favor of\", \"1\")\n",
    "df_traincps[\"text\"] = df_traincp[\"Conclusion\"] + \" \" + df_traincp[\"Premise\"] + \" \" + df_traincps[\"Stance\"]\n",
    "df_valcps[\"text\"] = df_valcp[\"Conclusion\"] + \" \" + df_valcp[\"Premise\"] + \" \" + df_valcps[\"Stance\"]\n",
    "df_testcps[\"text\"] = df_testcp[\"Conclusion\"] + \" \" + df_testcp[\"Premise\"] + \" \" + df_testcps[\"Stance\"]\n",
    "print(f\"Shape of the training data for the cps task: {df_traincps.shape}\")"
   ]
  },
  {
   "cell_type": "markdown",
   "metadata": {},
   "source": [
    "#### Text encoding:"
   ]
  },
  {
   "cell_type": "markdown",
   "metadata": {},
   "source": [
    "We encode the Premise column in order to check the sentence length distribution."
   ]
  },
  {
   "cell_type": "code",
   "execution_count": 7,
   "metadata": {},
   "outputs": [
    {
     "name": "stderr",
     "output_type": "stream",
     "text": [
      "[nltk_data] Downloading package punkt to\n",
      "[nltk_data]     C:\\Users\\39328\\AppData\\Roaming\\nltk_data...\n",
      "[nltk_data]   Package punkt is already up-to-date!\n",
      "  0%|          | 0/5393 [00:00<?, ?it/s]"
     ]
    },
    {
     "name": "stderr",
     "output_type": "stream",
     "text": [
      "100%|██████████| 5393/5393 [00:01<00:00, 4599.27it/s]\n"
     ]
    }
   ],
   "source": [
    "nltk.download('punkt')\n",
    "train_text = df_train['Premise'].tolist()\n",
    "train_lengths = [len(word_tokenize(x)) for x in tqdm(train_text)]"
   ]
  },
  {
   "cell_type": "markdown",
   "metadata": {},
   "source": [
    "Plotting the distribution of the number of words per argument:"
   ]
  },
  {
   "cell_type": "code",
   "execution_count": 8,
   "metadata": {},
   "outputs": [
    {
     "data": {
      "image/png": "[encoded data removed]",
      "text/plain": [
       "<Figure size 432x288 with 1 Axes>"
      ]
     },
     "metadata": {
      "needs_background": "light"
     },
     "output_type": "display_data"
    }
   ],
   "source": [
    "plt.hist(train_lengths, color='blue', edgecolor='black')\n",
    "plt.xlabel('Length of text')\n",
    "plt.ylabel('Number of texts')\n",
    "plt.title('Distribution of Premise sentence length in training data')\n",
    "plt.show()"
   ]
  },
  {
   "cell_type": "markdown",
   "metadata": {},
   "source": [
    "Text preproccesing with nltk: \n",
    "\n",
    "We use nltk to remove stopwords and punctuation from the arguments and we also lemmitize the words."
   ]
  },
  {
   "cell_type": "code",
   "execution_count": 9,
   "metadata": {},
   "outputs": [
    {
     "name": "stderr",
     "output_type": "stream",
     "text": [
      "[nltk_data] Downloading package stopwords to\n",
      "[nltk_data]     C:\\Users\\39328\\AppData\\Roaming\\nltk_data...\n",
      "[nltk_data]   Package stopwords is already up-to-date!\n",
      "[nltk_data] Downloading package wordnet to\n",
      "[nltk_data]     C:\\Users\\39328\\AppData\\Roaming\\nltk_data...\n",
      "[nltk_data]   Package wordnet is already up-to-date!\n",
      "[nltk_data] Downloading package omw-1.4 to\n",
      "[nltk_data]     C:\\Users\\39328\\AppData\\Roaming\\nltk_data...\n",
      "[nltk_data]   Package omw-1.4 is already up-to-date!\n"
     ]
    }
   ],
   "source": [
    "nltk.download('stopwords')\n",
    "nltk.download('wordnet')\n",
    "nltk.download('omw-1.4')\n",
    "\n",
    "lemmatizer = WordNetLemmatizer()\n",
    "punct = string.punctuation\n",
    "bad_symbols = re.compile('[^a-z ]')\n",
    "stopwords = set(stopwords.words('english'))"
   ]
  },
  {
   "cell_type": "code",
   "execution_count": 10,
   "metadata": {},
   "outputs": [],
   "source": [
    "def preprocess(text):\n",
    "    text = text.lower()\n",
    "    text = bad_symbols.sub('', text)\n",
    "    text = ' '.join(word for word in text.split() if word not in punct)\n",
    "    text = ' '.join(word for word in text.split() if word not in stopwords)\n",
    "    text = ' '.join(lemmatizer.lemmatize(word) for word in text.split())\n",
    "    return text"
   ]
  },
  {
   "cell_type": "code",
   "execution_count": 11,
   "metadata": {},
   "outputs": [
    {
     "name": "stdout",
     "output_type": "stream",
     "text": [
      "Train dataframe after preprocessing:\n",
      "\n"
     ]
    },
    {
     "data": {
      "text/html": [
       "<div>\n",
       "<style scoped>\n",
       "    .dataframe tbody tr th:only-of-type {\n",
       "        vertical-align: middle;\n",
       "    }\n",
       "\n",
       "    .dataframe tbody tr th {\n",
       "        vertical-align: top;\n",
       "    }\n",
       "\n",
       "    .dataframe thead th {\n",
       "        text-align: right;\n",
       "    }\n",
       "</style>\n",
       "<table border=\"1\" class=\"dataframe\">\n",
       "  <thead>\n",
       "    <tr style=\"text-align: right;\">\n",
       "      <th></th>\n",
       "      <th>Argument ID</th>\n",
       "      <th>Openness to change</th>\n",
       "      <th>Conservation</th>\n",
       "      <th>Self-enhancement</th>\n",
       "      <th>Self-transcendence</th>\n",
       "      <th>Preprocessed</th>\n",
       "    </tr>\n",
       "  </thead>\n",
       "  <tbody>\n",
       "    <tr>\n",
       "      <th>0</th>\n",
       "      <td>A01002</td>\n",
       "      <td>0</td>\n",
       "      <td>0</td>\n",
       "      <td>1</td>\n",
       "      <td>0</td>\n",
       "      <td>ban human cloning cause huge issue bunch human...</td>\n",
       "    </tr>\n",
       "  </tbody>\n",
       "</table>\n",
       "</div>"
      ],
      "text/plain": [
       "  Argument ID  Openness to change  Conservation  Self-enhancement  \\\n",
       "0      A01002                   0             0                 1   \n",
       "\n",
       "   Self-transcendence                                       Preprocessed  \n",
       "0                   0  ban human cloning cause huge issue bunch human...  "
      ]
     },
     "execution_count": 11,
     "metadata": {},
     "output_type": "execute_result"
    }
   ],
   "source": [
    "train = df_train.copy()\n",
    "train['Preprocessed'] = train['Premise'].apply(preprocess)\n",
    "train = train.drop(columns=train.columns[1:4])\n",
    "val = df_val.copy()\n",
    "val['Preprocessed'] = val['Premise'].apply(preprocess)\n",
    "val = val.drop(columns=val.columns[1:4])\n",
    "test = df_test.copy()\n",
    "test['Preprocessed'] = test['Premise'].apply(preprocess)\n",
    "test = test.drop(columns=test.columns[1:4])\n",
    "print(f\"Train dataframe after preprocessing:\\n\")\n",
    "train.head(1)"
   ]
  },
  {
   "cell_type": "markdown",
   "metadata": {},
   "source": [
    "We tokenize the the data using TF-IDF vectorizer. We do the same for the validation and test sets which we will use later for the baseline models."
   ]
  },
  {
   "cell_type": "code",
   "execution_count": 12,
   "metadata": {},
   "outputs": [
    {
     "name": "stdout",
     "output_type": "stream",
     "text": [
      "Shape of the training data: (5393, 6836)\n",
      "Shape of the validation data: (1896, 6836)\n",
      "Shape of the test data: (1576, 6836)\n",
      "Size of the vocabulary: 6836\n"
     ]
    }
   ],
   "source": [
    "vectorizer = TfidfVectorizer()\n",
    "X_train = vectorizer.fit_transform(train['Preprocessed'])\n",
    "X_val = vectorizer.transform(val['Preprocessed'])\n",
    "X_test = vectorizer.transform(test['Preprocessed'])\n",
    "\n",
    "print(f\"Shape of the training data: {X_train.shape}\")\n",
    "print(f\"Shape of the validation data: {X_val.shape}\")\n",
    "print(f\"Shape of the test data: {X_test.shape}\")\n",
    "print(f\"Size of the vocabulary: {len(vectorizer.vocabulary_)}\")"
   ]
  },
  {
   "cell_type": "markdown",
   "metadata": {},
   "source": [
    "# Task 2: Model definition\n",
    "\n",
    "You are tasked to define several neural models for multi-label classification."
   ]
  },
  {
   "cell_type": "markdown",
   "metadata": {},
   "source": [
    "### Instructions\n",
    "\n",
    "* **Baseline**: implement a random uniform classifier (an individual classifier per category).\n",
    "* **Baseline**: implement a majority classifier (an individual classifier per category).\n",
    "\n",
    "<br/>\n",
    "\n",
    "* **BERT w/ C**: define a BERT-based classifier that receives an argument **conclusion** as input.\n",
    "* **BERT w/ CP**: add argument **premise** as an additional input.\n",
    "* **BERT w/ CPS**: add argument premise-to-conclusion **stance** as an additional input."
   ]
  },
  {
   "cell_type": "markdown",
   "metadata": {},
   "source": [
    "Evaluation report for baseline models:"
   ]
  },
  {
   "cell_type": "code",
   "execution_count": 13,
   "metadata": {},
   "outputs": [],
   "source": [
    "def evaluate(Y_test, Y_pred):\n",
    "    report = classification_report(Y_test, Y_pred)\n",
    "    print(report)\n",
    "\n",
    "Y_test = test.iloc[:, 1:5].values # get as array the labels of the test set [oppenness, conservation, self-enhancement, self-transcendence]\n",
    "Y_val = val.iloc[:, 1:5].values # get as array the labels of the validation set [oppenness, conservation, self-enhancement, self-transcendence]"
   ]
  },
  {
   "cell_type": "markdown",
   "metadata": {},
   "source": [
    "## Baseline models:"
   ]
  },
  {
   "cell_type": "markdown",
   "metadata": {},
   "source": [
    "As baseline models we implemented a random uniform classifier and a majority classifier using the sklearn library which already has these models implemented.\n",
    "\n",
    "We implment a classifier for each category."
   ]
  },
  {
   "cell_type": "markdown",
   "metadata": {},
   "source": [
    "### Implement a random uniform classifier:"
   ]
  },
  {
   "cell_type": "code",
   "execution_count": 14,
   "metadata": {},
   "outputs": [],
   "source": [
    "from sklearn.dummy import DummyClassifier\n",
    "\n",
    "uniform_classifier_openness = DummyClassifier(strategy='uniform')\n",
    "uniform_classifier_conserv = DummyClassifier(strategy='uniform')\n",
    "uniform_classifier_self_enh = DummyClassifier(strategy='uniform')\n",
    "uniform_classifier_self_trans = DummyClassifier(strategy='uniform')"
   ]
  },
  {
   "cell_type": "markdown",
   "metadata": {},
   "source": [
    "### Implement a majority classifier:"
   ]
  },
  {
   "cell_type": "code",
   "execution_count": 15,
   "metadata": {},
   "outputs": [],
   "source": [
    "majority_classifier_openness = DummyClassifier(strategy='most_frequent')\n",
    "majority_classifier_conserv = DummyClassifier(strategy='most_frequent')\n",
    "majority_classifier_self_enh = DummyClassifier(strategy='most_frequent')\n",
    "majority_classifier_self_trans = DummyClassifier(strategy='most_frequent')"
   ]
  },
  {
   "cell_type": "markdown",
   "metadata": {},
   "source": [
    "## RoBERTa model:"
   ]
  },
  {
   "cell_type": "markdown",
   "metadata": {},
   "source": [
    "As a BERT-based classifier we used the RoBERTa model. We used the HuggingFace library to load the model and the tokenizer. We chose the RoBERTa model because it is a more recent model than BERT and it is generally considered to be more versatile and robust."
   ]
  },
  {
   "cell_type": "markdown",
   "metadata": {},
   "source": [
    "Global variables:"
   ]
  },
  {
   "cell_type": "code",
   "execution_count": 16,
   "metadata": {},
   "outputs": [],
   "source": [
    "model_name = 'roberta-base'\n",
    "max_len = 100\n",
    "batch_size = 16\n",
    "epochs = 10\n",
    "learning_rate = 2e-5\n",
    "output_channels = 768\n",
    "tokenizer = AutoTokenizer.from_pretrained(model_name)"
   ]
  },
  {
   "cell_type": "markdown",
   "metadata": {},
   "source": [
    "Token generation for RoBERTa:"
   ]
  },
  {
   "cell_type": "code",
   "execution_count": 17,
   "metadata": {},
   "outputs": [
    {
     "name": "stdout",
     "output_type": "stream",
     "text": [
      "Shape of the training labels: (5393, 4)\n",
      "Shape of the validation labels: (1896, 4)\n",
      "Shape of the test labels: (1576, 4)\n"
     ]
    }
   ],
   "source": [
    "class RobertaDataset(Dataset):\n",
    "    def __init__(self, data, labels, tokenizer, max_len):\n",
    "        self.data = data\n",
    "        self.targets = labels\n",
    "        self.tokenizer = tokenizer\n",
    "        self.max_len = max_len\n",
    "        \n",
    "    def __len__(self):\n",
    "        return len(self.data)\n",
    "    \n",
    "    def __getitem__(self, index):\n",
    "        text = str(self.data[index])\n",
    "        text = ' '.join(text.split())\n",
    "\n",
    "        inputs = self.tokenizer.encode_plus(\n",
    "            text,\n",
    "            None,\n",
    "            add_special_tokens=True,\n",
    "            max_length=self.max_len,\n",
    "            truncation=True,\n",
    "            padding='max_length',\n",
    "            return_token_type_ids=True\n",
    "        )\n",
    "        ids = inputs['input_ids']\n",
    "        mask = inputs['attention_mask']\n",
    "        token_type_ids = inputs[\"token_type_ids\"]\n",
    "        return {\n",
    "            'ids': torch.tensor(ids, dtype=torch.long),\n",
    "            'mask': torch.tensor(mask, dtype=torch.long),\n",
    "            'token_type_ids': torch.tensor(token_type_ids, dtype=torch.long),\n",
    "            'targets': torch.tensor(self.targets[index], dtype=torch.float)\n",
    "        }\n",
    "\n",
    "# Create the dataset for the neural network\n",
    "train_targets = df_train.iloc[:, 4:8].values\n",
    "val_targets = df_val.iloc[:, 4:8].values\n",
    "test_targets = df_test.iloc[:, 4:8].values\n",
    "\n",
    "print(f\"Shape of the training labels: {train_targets.shape}\")\n",
    "print(f\"Shape of the validation labels: {val_targets.shape}\")\n",
    "print(f\"Shape of the test labels: {test_targets.shape}\")"
   ]
  },
  {
   "cell_type": "markdown",
   "metadata": {},
   "source": [
    "RoBERTa model definition: "
   ]
  },
  {
   "cell_type": "code",
   "execution_count": 18,
   "metadata": {},
   "outputs": [],
   "source": [
    "class roBERTa(torch.nn.Module):\n",
    "    def __init__(self, model_name):\n",
    "        super(roBERTa, self).__init__()\n",
    "        self.roberta = AutoModel.from_pretrained(model_name, return_dict=False)\n",
    "        self.dropout = torch.nn.Dropout(p=0.3)\n",
    "        self.classifier = torch.nn.Linear(output_channels, 4)\n",
    "        \n",
    "    def forward(self, ids, mask, token_type_ids):\n",
    "        _, output = self.roberta(ids, attention_mask=mask, token_type_ids=token_type_ids)\n",
    "        output = self.dropout(output)\n",
    "        output = self.classifier(output)\n",
    "        return output"
   ]
  },
  {
   "cell_type": "markdown",
   "metadata": {},
   "source": [
    "Loss function:"
   ]
  },
  {
   "cell_type": "code",
   "execution_count": 19,
   "metadata": {},
   "outputs": [],
   "source": [
    "def loss_fn(outputs, targets):\n",
    "    return torch.nn.BCEWithLogitsLoss()(outputs, targets)"
   ]
  },
  {
   "cell_type": "markdown",
   "metadata": {},
   "source": [
    "RoBERTa w/C data preparation:\n",
    "\n",
    "For each model we create different datasets and dataloaders based on the task we are performing."
   ]
  },
  {
   "cell_type": "code",
   "execution_count": 20,
   "metadata": {},
   "outputs": [
    {
     "name": "stdout",
     "output_type": "stream",
     "text": [
      "Shape of the training dataset: 5393\n",
      "Shape of the validation dataset: 1896\n",
      "Shape of the test dataset: 1576\n"
     ]
    }
   ],
   "source": [
    "train_datasetc = RobertaDataset(df_train.iloc[:, 1], train_targets, tokenizer, max_len)\n",
    "val_datasetc = RobertaDataset(df_val.iloc[:, 1], val_targets, tokenizer, max_len)\n",
    "test_datasetc = RobertaDataset(df_test.iloc[:, 1], test_targets, tokenizer, max_len)\n",
    "\n",
    "print(f\"Shape of the training dataset: {len(train_datasetc)}\")\n",
    "print(f\"Shape of the validation dataset: {len(val_datasetc)}\")\n",
    "print(f\"Shape of the test dataset: {len(test_datasetc)}\")\n",
    "\n",
    "train_dataloaderc = DataLoader(train_datasetc, batch_size=batch_size)\n",
    "val_dataloaderc = DataLoader(val_datasetc, batch_size=batch_size)\n",
    "test_dataloaderc = DataLoader(test_datasetc, batch_size=batch_size)"
   ]
  },
  {
   "cell_type": "markdown",
   "metadata": {},
   "source": [
    "Model initialization and optional gpu usage:"
   ]
  },
  {
   "cell_type": "code",
   "execution_count": 21,
   "metadata": {},
   "outputs": [
    {
     "name": "stderr",
     "output_type": "stream",
     "text": [
      "Some weights of RobertaModel were not initialized from the model checkpoint at roberta-base and are newly initialized: ['roberta.pooler.dense.bias', 'roberta.pooler.dense.weight']\n",
      "You should probably TRAIN this model on a down-stream task to be able to use it for predictions and inference.\n"
     ]
    },
    {
     "data": {
      "text/plain": [
       "roBERTa(\n",
       "  (roberta): RobertaModel(\n",
       "    (embeddings): RobertaEmbeddings(\n",
       "      (word_embeddings): Embedding(50265, 768, padding_idx=1)\n",
       "      (position_embeddings): Embedding(514, 768, padding_idx=1)\n",
       "      (token_type_embeddings): Embedding(1, 768)\n",
       "      (LayerNorm): LayerNorm((768,), eps=1e-05, elementwise_affine=True)\n",
       "      (dropout): Dropout(p=0.1, inplace=False)\n",
       "    )\n",
       "    (encoder): RobertaEncoder(\n",
       "      (layer): ModuleList(\n",
       "        (0-11): 12 x RobertaLayer(\n",
       "          (attention): RobertaAttention(\n",
       "            (self): RobertaSelfAttention(\n",
       "              (query): Linear(in_features=768, out_features=768, bias=True)\n",
       "              (key): Linear(in_features=768, out_features=768, bias=True)\n",
       "              (value): Linear(in_features=768, out_features=768, bias=True)\n",
       "              (dropout): Dropout(p=0.1, inplace=False)\n",
       "            )\n",
       "            (output): RobertaSelfOutput(\n",
       "              (dense): Linear(in_features=768, out_features=768, bias=True)\n",
       "              (LayerNorm): LayerNorm((768,), eps=1e-05, elementwise_affine=True)\n",
       "              (dropout): Dropout(p=0.1, inplace=False)\n",
       "            )\n",
       "          )\n",
       "          (intermediate): RobertaIntermediate(\n",
       "            (dense): Linear(in_features=768, out_features=3072, bias=True)\n",
       "            (intermediate_act_fn): GELUActivation()\n",
       "          )\n",
       "          (output): RobertaOutput(\n",
       "            (dense): Linear(in_features=3072, out_features=768, bias=True)\n",
       "            (LayerNorm): LayerNorm((768,), eps=1e-05, elementwise_affine=True)\n",
       "            (dropout): Dropout(p=0.1, inplace=False)\n",
       "          )\n",
       "        )\n",
       "      )\n",
       "    )\n",
       "    (pooler): RobertaPooler(\n",
       "      (dense): Linear(in_features=768, out_features=768, bias=True)\n",
       "      (activation): Tanh()\n",
       "    )\n",
       "  )\n",
       "  (dropout): Dropout(p=0.3, inplace=False)\n",
       "  (classifier): Linear(in_features=768, out_features=4, bias=True)\n",
       ")"
      ]
     },
     "execution_count": 21,
     "metadata": {},
     "output_type": "execute_result"
    }
   ],
   "source": [
    "model_c = roBERTa(model_name)\n",
    "model_c.to(device)"
   ]
  },
  {
   "cell_type": "markdown",
   "metadata": {},
   "source": [
    "RoBERTa w/CP data preparation:"
   ]
  },
  {
   "cell_type": "code",
   "execution_count": 22,
   "metadata": {},
   "outputs": [
    {
     "name": "stdout",
     "output_type": "stream",
     "text": [
      "Shape of the training dataset: 5393\n",
      "Shape of the validation dataset: 1896\n",
      "Shape of the test dataset: 1576\n"
     ]
    }
   ],
   "source": [
    "train_datasetcp = RobertaDataset(df_traincp.iloc[:, 8], train_targets, tokenizer, max_len)\n",
    "val_datasetcp = RobertaDataset(df_valcp.iloc[:, 8], val_targets, tokenizer, max_len)\n",
    "test_datasetcp = RobertaDataset(df_testcp.iloc[:, 8], test_targets, tokenizer, max_len)\n",
    "\n",
    "\n",
    "print(f\"Shape of the training dataset: {len(train_datasetcp)}\")\n",
    "print(f\"Shape of the validation dataset: {len(val_datasetcp)}\")\n",
    "print(f\"Shape of the test dataset: {len(test_datasetcp)}\")\n",
    "\n",
    "train_dataloadercp = DataLoader(train_datasetcp, batch_size=batch_size)\n",
    "val_dataloadercp = DataLoader(val_datasetcp, batch_size=batch_size)\n",
    "test_dataloadercp = DataLoader(test_datasetcp, batch_size=batch_size)"
   ]
  },
  {
   "cell_type": "code",
   "execution_count": 23,
   "metadata": {},
   "outputs": [
    {
     "name": "stdout",
     "output_type": "stream",
     "text": [
      "tensor([[  0, 170, 197,  ...,   1,   1,   1],\n",
      "        [  0, 170, 197,  ...,   1,   1,   1],\n",
      "        [  0, 170, 197,  ...,   1,   1,   1],\n",
      "        ...,\n",
      "        [  0, 170, 197,  ...,   1,   1,   1],\n",
      "        [  0, 170, 197,  ...,   1,   1,   1],\n",
      "        [  0, 170, 197,  ...,   1,   1,   1]])\n",
      "tensor([[1, 1, 1,  ..., 0, 0, 0],\n",
      "        [1, 1, 1,  ..., 0, 0, 0],\n",
      "        [1, 1, 1,  ..., 0, 0, 0],\n",
      "        ...,\n",
      "        [1, 1, 1,  ..., 0, 0, 0],\n",
      "        [1, 1, 1,  ..., 0, 0, 0],\n",
      "        [1, 1, 1,  ..., 0, 0, 0]])\n"
     ]
    },
    {
     "data": {
      "text/plain": [
       "'<s>We should ban human cloning we should ban human cloning as it will only cause huge issues when you have a bunch of the same humans running around all acting the same.</s><pad><pad><pad><pad><pad><pad><pad><pad><pad><pad><pad><pad><pad><pad><pad><pad><pad><pad><pad><pad><pad><pad><pad><pad><pad><pad><pad><pad><pad><pad><pad><pad><pad><pad><pad><pad><pad><pad><pad><pad><pad><pad><pad><pad><pad><pad><pad><pad><pad><pad><pad><pad><pad><pad><pad><pad><pad><pad><pad><pad><pad><pad><pad><pad><pad>'"
      ]
     },
     "execution_count": 23,
     "metadata": {},
     "output_type": "execute_result"
    }
   ],
   "source": [
    "data = next(iter(train_dataloadercp))\n",
    "print(data['ids'])\n",
    "print(data['mask'])\n",
    "tokenizer.decode(data['ids'][0])"
   ]
  },
  {
   "cell_type": "markdown",
   "metadata": {},
   "source": [
    "Model initialization and optional gpu usage:"
   ]
  },
  {
   "cell_type": "code",
   "execution_count": 24,
   "metadata": {},
   "outputs": [
    {
     "name": "stderr",
     "output_type": "stream",
     "text": [
      "Some weights of RobertaModel were not initialized from the model checkpoint at roberta-base and are newly initialized: ['roberta.pooler.dense.bias', 'roberta.pooler.dense.weight']\n",
      "You should probably TRAIN this model on a down-stream task to be able to use it for predictions and inference.\n"
     ]
    },
    {
     "data": {
      "text/plain": [
       "roBERTa(\n",
       "  (roberta): RobertaModel(\n",
       "    (embeddings): RobertaEmbeddings(\n",
       "      (word_embeddings): Embedding(50265, 768, padding_idx=1)\n",
       "      (position_embeddings): Embedding(514, 768, padding_idx=1)\n",
       "      (token_type_embeddings): Embedding(1, 768)\n",
       "      (LayerNorm): LayerNorm((768,), eps=1e-05, elementwise_affine=True)\n",
       "      (dropout): Dropout(p=0.1, inplace=False)\n",
       "    )\n",
       "    (encoder): RobertaEncoder(\n",
       "      (layer): ModuleList(\n",
       "        (0-11): 12 x RobertaLayer(\n",
       "          (attention): RobertaAttention(\n",
       "            (self): RobertaSelfAttention(\n",
       "              (query): Linear(in_features=768, out_features=768, bias=True)\n",
       "              (key): Linear(in_features=768, out_features=768, bias=True)\n",
       "              (value): Linear(in_features=768, out_features=768, bias=True)\n",
       "              (dropout): Dropout(p=0.1, inplace=False)\n",
       "            )\n",
       "            (output): RobertaSelfOutput(\n",
       "              (dense): Linear(in_features=768, out_features=768, bias=True)\n",
       "              (LayerNorm): LayerNorm((768,), eps=1e-05, elementwise_affine=True)\n",
       "              (dropout): Dropout(p=0.1, inplace=False)\n",
       "            )\n",
       "          )\n",
       "          (intermediate): RobertaIntermediate(\n",
       "            (dense): Linear(in_features=768, out_features=3072, bias=True)\n",
       "            (intermediate_act_fn): GELUActivation()\n",
       "          )\n",
       "          (output): RobertaOutput(\n",
       "            (dense): Linear(in_features=3072, out_features=768, bias=True)\n",
       "            (LayerNorm): LayerNorm((768,), eps=1e-05, elementwise_affine=True)\n",
       "            (dropout): Dropout(p=0.1, inplace=False)\n",
       "          )\n",
       "        )\n",
       "      )\n",
       "    )\n",
       "    (pooler): RobertaPooler(\n",
       "      (dense): Linear(in_features=768, out_features=768, bias=True)\n",
       "      (activation): Tanh()\n",
       "    )\n",
       "  )\n",
       "  (dropout): Dropout(p=0.3, inplace=False)\n",
       "  (classifier): Linear(in_features=768, out_features=4, bias=True)\n",
       ")"
      ]
     },
     "execution_count": 24,
     "metadata": {},
     "output_type": "execute_result"
    }
   ],
   "source": [
    "model_cp = roBERTa(model_name)\n",
    "model_cp.to(device)"
   ]
  },
  {
   "cell_type": "markdown",
   "metadata": {},
   "source": [
    "RoBERTa w/CPS data preparation:"
   ]
  },
  {
   "cell_type": "code",
   "execution_count": 25,
   "metadata": {},
   "outputs": [
    {
     "name": "stdout",
     "output_type": "stream",
     "text": [
      "Shape of the training dataset: 5393\n",
      "Shape of the validation dataset: 1896\n",
      "Shape of the test dataset: 1576\n"
     ]
    }
   ],
   "source": [
    "train_datasetcps = RobertaDataset(df_traincps.iloc[:, 8], train_targets, tokenizer, max_len)\n",
    "val_datasetcps = RobertaDataset(df_valcps.iloc[:, 8], val_targets, tokenizer, max_len)\n",
    "test_datasetcps = RobertaDataset(df_testcps.iloc[:, 8], test_targets, tokenizer, max_len)\n",
    "\n",
    "\n",
    "print(f\"Shape of the training dataset: {len(train_datasetcps)}\")\n",
    "print(f\"Shape of the validation dataset: {len(val_datasetcps)}\")\n",
    "print(f\"Shape of the test dataset: {len(test_datasetcps)}\")\n",
    "\n",
    "train_dataloadercps = DataLoader(train_datasetcps, batch_size=batch_size)\n",
    "val_dataloadercps = DataLoader(val_datasetcps, batch_size=batch_size)\n",
    "test_dataloadercps = DataLoader(test_datasetcps, batch_size=batch_size)"
   ]
  },
  {
   "cell_type": "code",
   "execution_count": 26,
   "metadata": {},
   "outputs": [
    {
     "name": "stdout",
     "output_type": "stream",
     "text": [
      "tensor([[  0, 170, 197,  ...,   1,   1,   1],\n",
      "        [  0, 170, 197,  ...,   1,   1,   1],\n",
      "        [  0, 170, 197,  ...,   1,   1,   1],\n",
      "        ...,\n",
      "        [  0, 170, 197,  ...,   1,   1,   1],\n",
      "        [  0, 170, 197,  ...,   1,   1,   1],\n",
      "        [  0, 170, 197,  ...,   1,   1,   1]])\n",
      "tensor([[1, 1, 1,  ..., 0, 0, 0],\n",
      "        [1, 1, 1,  ..., 0, 0, 0],\n",
      "        [1, 1, 1,  ..., 0, 0, 0],\n",
      "        ...,\n",
      "        [1, 1, 1,  ..., 0, 0, 0],\n",
      "        [1, 1, 1,  ..., 0, 0, 0],\n",
      "        [1, 1, 1,  ..., 0, 0, 0]])\n"
     ]
    },
    {
     "data": {
      "text/plain": [
       "'<s>We should ban human cloning we should ban human cloning as it will only cause huge issues when you have a bunch of the same humans running around all acting the same. 1</s><pad><pad><pad><pad><pad><pad><pad><pad><pad><pad><pad><pad><pad><pad><pad><pad><pad><pad><pad><pad><pad><pad><pad><pad><pad><pad><pad><pad><pad><pad><pad><pad><pad><pad><pad><pad><pad><pad><pad><pad><pad><pad><pad><pad><pad><pad><pad><pad><pad><pad><pad><pad><pad><pad><pad><pad><pad><pad><pad><pad><pad><pad><pad><pad>'"
      ]
     },
     "execution_count": 26,
     "metadata": {},
     "output_type": "execute_result"
    }
   ],
   "source": [
    "data = next(iter(train_dataloadercps))\n",
    "print(data['ids'])\n",
    "print(data['mask'])\n",
    "tokenizer.decode(data['ids'][0])"
   ]
  },
  {
   "cell_type": "markdown",
   "metadata": {},
   "source": [
    "Model initialization and optional gpu usage:"
   ]
  },
  {
   "cell_type": "code",
   "execution_count": 27,
   "metadata": {},
   "outputs": [
    {
     "name": "stderr",
     "output_type": "stream",
     "text": [
      "Some weights of RobertaModel were not initialized from the model checkpoint at roberta-base and are newly initialized: ['roberta.pooler.dense.bias', 'roberta.pooler.dense.weight']\n",
      "You should probably TRAIN this model on a down-stream task to be able to use it for predictions and inference.\n"
     ]
    },
    {
     "data": {
      "text/plain": [
       "roBERTa(\n",
       "  (roberta): RobertaModel(\n",
       "    (embeddings): RobertaEmbeddings(\n",
       "      (word_embeddings): Embedding(50265, 768, padding_idx=1)\n",
       "      (position_embeddings): Embedding(514, 768, padding_idx=1)\n",
       "      (token_type_embeddings): Embedding(1, 768)\n",
       "      (LayerNorm): LayerNorm((768,), eps=1e-05, elementwise_affine=True)\n",
       "      (dropout): Dropout(p=0.1, inplace=False)\n",
       "    )\n",
       "    (encoder): RobertaEncoder(\n",
       "      (layer): ModuleList(\n",
       "        (0-11): 12 x RobertaLayer(\n",
       "          (attention): RobertaAttention(\n",
       "            (self): RobertaSelfAttention(\n",
       "              (query): Linear(in_features=768, out_features=768, bias=True)\n",
       "              (key): Linear(in_features=768, out_features=768, bias=True)\n",
       "              (value): Linear(in_features=768, out_features=768, bias=True)\n",
       "              (dropout): Dropout(p=0.1, inplace=False)\n",
       "            )\n",
       "            (output): RobertaSelfOutput(\n",
       "              (dense): Linear(in_features=768, out_features=768, bias=True)\n",
       "              (LayerNorm): LayerNorm((768,), eps=1e-05, elementwise_affine=True)\n",
       "              (dropout): Dropout(p=0.1, inplace=False)\n",
       "            )\n",
       "          )\n",
       "          (intermediate): RobertaIntermediate(\n",
       "            (dense): Linear(in_features=768, out_features=3072, bias=True)\n",
       "            (intermediate_act_fn): GELUActivation()\n",
       "          )\n",
       "          (output): RobertaOutput(\n",
       "            (dense): Linear(in_features=3072, out_features=768, bias=True)\n",
       "            (LayerNorm): LayerNorm((768,), eps=1e-05, elementwise_affine=True)\n",
       "            (dropout): Dropout(p=0.1, inplace=False)\n",
       "          )\n",
       "        )\n",
       "      )\n",
       "    )\n",
       "    (pooler): RobertaPooler(\n",
       "      (dense): Linear(in_features=768, out_features=768, bias=True)\n",
       "      (activation): Tanh()\n",
       "    )\n",
       "  )\n",
       "  (dropout): Dropout(p=0.3, inplace=False)\n",
       "  (classifier): Linear(in_features=768, out_features=4, bias=True)\n",
       ")"
      ]
     },
     "execution_count": 27,
     "metadata": {},
     "output_type": "execute_result"
    }
   ],
   "source": [
    "model_cps = roBERTa(model_name)\n",
    "model_cps.to(device)"
   ]
  },
  {
   "cell_type": "markdown",
   "metadata": {},
   "source": [
    "### Training function for RoBERTa models:\n",
    "\n",
    "Since we have 3 different models we created a function that trains a model given the model and the training dataloader. The training loop is quite standard. We use the AdamW optimizer and the BCEWithLogitsLoss loss function. We also use the scheduler to decrease the learning rate during training."
   ]
  },
  {
   "cell_type": "code",
   "execution_count": 28,
   "metadata": {},
   "outputs": [],
   "source": [
    "def trainBert(model, dataloader):\n",
    "    optimizer = torch.optim.Adam(params=model.parameters(), lr=learning_rate)\n",
    "    scheduler = get_linear_schedule_with_warmup(optimizer, num_warmup_steps=0, num_training_steps=len(dataloader)*epochs)\n",
    "    size = len(dataloader.dataset)\n",
    "    model.train()\n",
    "    for batch, data in enumerate(dataloader, 0):\n",
    "        ids = data['ids'].to(device, dtype=torch.long)\n",
    "        mask = data['mask'].to(device, dtype=torch.long)\n",
    "        token_type_ids = data['token_type_ids'].to(device, dtype=torch.long)\n",
    "        targets = data['targets'].to(device, dtype=torch.float)\n",
    "\n",
    "        outputs = model(ids, mask, token_type_ids)\n",
    "        loss = loss_fn(outputs, targets)\n",
    "\n",
    "        optimizer.zero_grad()\n",
    "        loss.backward()\n",
    "        optimizer.step()\n",
    "        scheduler.step()\n",
    "        if batch % 100 == 0:\n",
    "            loss, current = loss.item(), batch * len(ids)\n",
    "            print(f\"Train loss: {loss:>7f}  [{current:>5d}/{size:>5d}]\")"
   ]
  },
  {
   "cell_type": "markdown",
   "metadata": {},
   "source": [
    "### Validation function for RoBERTa models:\n",
    "\n",
    "We also created a function that evaluates a model given the model and the validation dataloader. Again, the validation loop is quite standard. We compute the loss for each batch and then we average it while also saving the model in case the validation loss is lower than the previous one, like a checkpoint."
   ]
  },
  {
   "cell_type": "code",
   "execution_count": 29,
   "metadata": {},
   "outputs": [],
   "source": [
    "def validation(epoch, val_loss_min_input, model, dataloader):\n",
    "    size = len(dataloader.dataset)\n",
    "    num_batches = len(dataloader)\n",
    "    model.eval()\n",
    "    val_loss = 0\n",
    "    with torch.no_grad():\n",
    "        for batch_idx, data in enumerate(dataloader, 0):\n",
    "            ids = data['ids'].to(device, dtype = torch.long)\n",
    "            mask = data['mask'].to(device, dtype = torch.long)\n",
    "            token_type_ids = data['token_type_ids'].to(device, dtype = torch.long)\n",
    "            targets = data['targets'].to(device, dtype = torch.float)\n",
    "            outputs = model(ids, mask, token_type_ids)\n",
    "            val_loss += loss_fn(outputs, targets).item()\n",
    "        \n",
    "        val_loss /= num_batches\n",
    "        #outputs, targets = fin_outputs, fin_targets\n",
    "        print(f\"\\nValidation loss: {val_loss:>8f}.\")\n",
    "        ## TODO: save the model if validation loss has decreased\n",
    "        if val_loss <= val_loss_min_input:\n",
    "            #create checkpoint variable and add important data\n",
    "            if epoch > 0: \n",
    "                print('Validation loss decreased ({:.8f} --> {:.8f}).  Saving model ...'.format(val_loss_min_input, val_loss))\n",
    "            else: print('Saving model ...')   \n",
    "            # save best moel\n",
    "            torch.save(model.state_dict(), \"model.pth\")\n",
    "            print(\"Saved PyTorch Model State to model.pth\\n\")\n",
    "            val_loss_min_input = val_loss\n",
    "    \n",
    "    return val_loss_min_input"
   ]
  },
  {
   "cell_type": "markdown",
   "metadata": {},
   "source": [
    "# Task 3: Metrics\n",
    "\n",
    "Before training the models, you are tasked to define the evaluation metrics for comparison."
   ]
  },
  {
   "cell_type": "markdown",
   "metadata": {},
   "source": [
    "### Instructions\n",
    "\n",
    "* Evaluate your models using per-category binary F1-score.\n",
    "* Compute the average binary F1-score over all categories (macro F1-score)."
   ]
  },
  {
   "cell_type": "markdown",
   "metadata": {},
   "source": [
    "We make heavy use of the sklearn library to compute the metrics, especially the f1 score, for each model as it is already implemented and it is quite easy to use."
   ]
  },
  {
   "cell_type": "markdown",
   "metadata": {},
   "source": [
    "### Random uniform classifier metrics:"
   ]
  },
  {
   "cell_type": "code",
   "execution_count": 30,
   "metadata": {},
   "outputs": [],
   "source": [
    "def f1scoreRandom(X_val, Y_val):\n",
    "    Y_pred_openness_unif = uniform_classifier_openness.predict(X_val)\n",
    "    Y_pred_conserv_unif = uniform_classifier_conserv.predict(X_val)\n",
    "    Y_pred_self_enh_unif = uniform_classifier_self_enh.predict(X_val)\n",
    "    Y_pred_self_trans_unif = uniform_classifier_self_trans.predict(X_val)\n",
    "    \n",
    "    Y_pred = []\n",
    "    for i in range(len(Y_pred_openness_unif)):\n",
    "        temp = []\n",
    "        temp.append(Y_pred_openness_unif[i])\n",
    "        temp.append(Y_pred_conserv_unif[i])\n",
    "        temp.append(Y_pred_self_enh_unif[i])\n",
    "        temp.append(Y_pred_self_trans_unif[i])\n",
    "        Y_pred.append(temp)\n",
    "        \n",
    "    return evaluate(Y_val, Y_pred)"
   ]
  },
  {
   "cell_type": "markdown",
   "metadata": {},
   "source": [
    "### Majority classifier metrics:"
   ]
  },
  {
   "cell_type": "code",
   "execution_count": 31,
   "metadata": {},
   "outputs": [],
   "source": [
    "def f1scoreMajority(X_val, Y_val):\n",
    "    Y_pred_openness_maj = majority_classifier_openness.predict(X_val)\n",
    "    Y_pred_conserv_maj = majority_classifier_conserv.predict(X_val)\n",
    "    Y_pred_self_enh_maj = majority_classifier_self_enh.predict(X_val)\n",
    "    Y_pred_self_trans_maj = majority_classifier_self_trans.predict(X_val)\n",
    "\n",
    "    Y_pred = []\n",
    "    for i in range(len(Y_pred_openness_maj)):\n",
    "        temp = []\n",
    "        temp.append(Y_pred_openness_maj[i])\n",
    "        temp.append(Y_pred_conserv_maj[i])\n",
    "        temp.append(Y_pred_self_enh_maj[i])\n",
    "        temp.append(Y_pred_self_trans_maj[i])\n",
    "        Y_pred.append(temp)\n",
    "        \n",
    "    return evaluate(Y_val, Y_pred)"
   ]
  },
  {
   "cell_type": "markdown",
   "metadata": {},
   "source": [
    "### RoBERTa model metrics:"
   ]
  },
  {
   "cell_type": "code",
   "execution_count": 32,
   "metadata": {},
   "outputs": [],
   "source": [
    "def test(model, testing_loader):\n",
    "    model.eval()\n",
    "    fin_targets=[]\n",
    "    fin_outputs=[]\n",
    "    with torch.no_grad(): # no need to calculate the gradients\n",
    "        for _, data in enumerate(testing_loader, 0):\n",
    "            ids = data['ids'].to(device, dtype = torch.long)\n",
    "            mask = data['mask'].to(device, dtype = torch.long)\n",
    "            token_type_ids = data['token_type_ids'].to(device, dtype = torch.long)\n",
    "            targets = data['targets'].to(device, dtype = torch.float)\n",
    "            outputs = model(ids, mask, token_type_ids)\n",
    "            fin_targets.extend(targets.cpu().detach().numpy().tolist())\n",
    "            fin_outputs.extend(torch.sigmoid(outputs).cpu().detach().numpy().tolist())\n",
    "    return fin_outputs, fin_targets"
   ]
  },
  {
   "cell_type": "markdown",
   "metadata": {},
   "source": [
    "# Task 4: Training and Evaluation\n",
    "\n",
    "You are now tasked to train and evaluate **all** defined models."
   ]
  },
  {
   "cell_type": "markdown",
   "metadata": {},
   "source": [
    "### Instructions\n",
    "\n",
    "* Train **all** models on the train set.\n",
    "* Evaluate **all** models on the validation set.\n",
    "* Pick **at least** three seeds for robust estimation.\n",
    "* Compute metrics on the validation set.\n",
    "* Report **per-category** and **macro** F1-score for comparison."
   ]
  },
  {
   "cell_type": "code",
   "execution_count": 33,
   "metadata": {},
   "outputs": [],
   "source": [
    "# Seed definition\n",
    "#seed = 42\n",
    "#seed = 69\n",
    "seed = 420\n",
    "\n",
    "# Set the seed for numpy to have reproducible experiments\n",
    "np.random.seed(seed)"
   ]
  },
  {
   "cell_type": "markdown",
   "metadata": {},
   "source": [
    "### Train the random uniform classifier:"
   ]
  },
  {
   "cell_type": "code",
   "execution_count": 34,
   "metadata": {},
   "outputs": [
    {
     "name": "stdout",
     "output_type": "stream",
     "text": [
      "              precision    recall  f1-score   support\n",
      "\n",
      "           0       0.37      0.49      0.42       698\n",
      "           1       0.47      0.51      0.49       885\n",
      "           2       0.75      0.50      0.60      1426\n",
      "           3       0.79      0.52      0.62      1506\n",
      "\n",
      "   micro avg       0.60      0.50      0.55      4515\n",
      "   macro avg       0.59      0.50      0.53      4515\n",
      "weighted avg       0.65      0.50      0.56      4515\n",
      " samples avg       0.56      0.51      0.49      4515\n",
      "\n"
     ]
    },
    {
     "name": "stderr",
     "output_type": "stream",
     "text": [
      "c:\\Users\\39328\\anaconda3\\lib\\site-packages\\sklearn\\metrics\\_classification.py:1344: UndefinedMetricWarning: Precision and F-score are ill-defined and being set to 0.0 in samples with no predicted labels. Use `zero_division` parameter to control this behavior.\n",
      "  _warn_prf(average, modifier, msg_start, len(result))\n"
     ]
    }
   ],
   "source": [
    "\n",
    "Y_train_openness = train['Openness to change']\n",
    "Y_train_conserv = train['Conservation']\n",
    "Y_train_self_enh = train['Self-enhancement']\n",
    "Y_train_self_trans = train['Self-transcendence']\n",
    "uniform_classifier_openness.fit(X_train, Y_train_openness)\n",
    "uniform_classifier_conserv.fit(X_train, Y_train_conserv)\n",
    "uniform_classifier_self_enh.fit(X_train, Y_train_self_enh)\n",
    "uniform_classifier_self_trans.fit(X_train, Y_train_self_trans)\n",
    "f1scoreRandom(X_val, Y_val)\n"
   ]
  },
  {
   "cell_type": "markdown",
   "metadata": {},
   "source": [
    "### Train the majority classifier:"
   ]
  },
  {
   "cell_type": "code",
   "execution_count": 35,
   "metadata": {},
   "outputs": [
    {
     "data": {
      "text/html": [
       "<style>#sk-container-id-1 {color: black;background-color: white;}#sk-container-id-1 pre{padding: 0;}#sk-container-id-1 div.sk-toggleable {background-color: white;}#sk-container-id-1 label.sk-toggleable__label {cursor: pointer;display: block;width: 100%;margin-bottom: 0;padding: 0.3em;box-sizing: border-box;text-align: center;}#sk-container-id-1 label.sk-toggleable__label-arrow:before {content: \"▸\";float: left;margin-right: 0.25em;color: #696969;}#sk-container-id-1 label.sk-toggleable__label-arrow:hover:before {color: black;}#sk-container-id-1 div.sk-estimator:hover label.sk-toggleable__label-arrow:before {color: black;}#sk-container-id-1 div.sk-toggleable__content {max-height: 0;max-width: 0;overflow: hidden;text-align: left;background-color: #f0f8ff;}#sk-container-id-1 div.sk-toggleable__content pre {margin: 0.2em;color: black;border-radius: 0.25em;background-color: #f0f8ff;}#sk-container-id-1 input.sk-toggleable__control:checked~div.sk-toggleable__content {max-height: 200px;max-width: 100%;overflow: auto;}#sk-container-id-1 input.sk-toggleable__control:checked~label.sk-toggleable__label-arrow:before {content: \"▾\";}#sk-container-id-1 div.sk-estimator input.sk-toggleable__control:checked~label.sk-toggleable__label {background-color: #d4ebff;}#sk-container-id-1 div.sk-label input.sk-toggleable__control:checked~label.sk-toggleable__label {background-color: #d4ebff;}#sk-container-id-1 input.sk-hidden--visually {border: 0;clip: rect(1px 1px 1px 1px);clip: rect(1px, 1px, 1px, 1px);height: 1px;margin: -1px;overflow: hidden;padding: 0;position: absolute;width: 1px;}#sk-container-id-1 div.sk-estimator {font-family: monospace;background-color: #f0f8ff;border: 1px dotted black;border-radius: 0.25em;box-sizing: border-box;margin-bottom: 0.5em;}#sk-container-id-1 div.sk-estimator:hover {background-color: #d4ebff;}#sk-container-id-1 div.sk-parallel-item::after {content: \"\";width: 100%;border-bottom: 1px solid gray;flex-grow: 1;}#sk-container-id-1 div.sk-label:hover label.sk-toggleable__label {background-color: #d4ebff;}#sk-container-id-1 div.sk-serial::before {content: \"\";position: absolute;border-left: 1px solid gray;box-sizing: border-box;top: 0;bottom: 0;left: 50%;z-index: 0;}#sk-container-id-1 div.sk-serial {display: flex;flex-direction: column;align-items: center;background-color: white;padding-right: 0.2em;padding-left: 0.2em;position: relative;}#sk-container-id-1 div.sk-item {position: relative;z-index: 1;}#sk-container-id-1 div.sk-parallel {display: flex;align-items: stretch;justify-content: center;background-color: white;position: relative;}#sk-container-id-1 div.sk-item::before, #sk-container-id-1 div.sk-parallel-item::before {content: \"\";position: absolute;border-left: 1px solid gray;box-sizing: border-box;top: 0;bottom: 0;left: 50%;z-index: -1;}#sk-container-id-1 div.sk-parallel-item {display: flex;flex-direction: column;z-index: 1;position: relative;background-color: white;}#sk-container-id-1 div.sk-parallel-item:first-child::after {align-self: flex-end;width: 50%;}#sk-container-id-1 div.sk-parallel-item:last-child::after {align-self: flex-start;width: 50%;}#sk-container-id-1 div.sk-parallel-item:only-child::after {width: 0;}#sk-container-id-1 div.sk-dashed-wrapped {border: 1px dashed gray;margin: 0 0.4em 0.5em 0.4em;box-sizing: border-box;padding-bottom: 0.4em;background-color: white;}#sk-container-id-1 div.sk-label label {font-family: monospace;font-weight: bold;display: inline-block;line-height: 1.2em;}#sk-container-id-1 div.sk-label-container {text-align: center;}#sk-container-id-1 div.sk-container {/* jupyter's `normalize.less` sets `[hidden] { display: none; }` but bootstrap.min.css set `[hidden] { display: none !important; }` so we also need the `!important` here to be able to override the default hidden behavior on the sphinx rendered scikit-learn.org. See: https://github.com/scikit-learn/scikit-learn/issues/21755 */display: inline-block !important;position: relative;}#sk-container-id-1 div.sk-text-repr-fallback {display: none;}</style><div id=\"sk-container-id-1\" class=\"sk-top-container\"><div class=\"sk-text-repr-fallback\"><pre>DummyClassifier(strategy=&#x27;most_frequent&#x27;)</pre><b>In a Jupyter environment, please rerun this cell to show the HTML representation or trust the notebook. <br />On GitHub, the HTML representation is unable to render, please try loading this page with nbviewer.org.</b></div><div class=\"sk-container\" hidden><div class=\"sk-item\"><div class=\"sk-estimator sk-toggleable\"><input class=\"sk-toggleable__control sk-hidden--visually\" id=\"sk-estimator-id-1\" type=\"checkbox\" checked><label for=\"sk-estimator-id-1\" class=\"sk-toggleable__label sk-toggleable__label-arrow\">DummyClassifier</label><div class=\"sk-toggleable__content\"><pre>DummyClassifier(strategy=&#x27;most_frequent&#x27;)</pre></div></div></div></div></div>"
      ],
      "text/plain": [
       "DummyClassifier(strategy='most_frequent')"
      ]
     },
     "execution_count": 35,
     "metadata": {},
     "output_type": "execute_result"
    }
   ],
   "source": [
    "majority_classifier_openness.fit(X_train, Y_train_openness)\n",
    "majority_classifier_conserv.fit(X_train, Y_train_conserv)\n",
    "majority_classifier_self_enh.fit(X_train, Y_train_self_enh)\n",
    "majority_classifier_self_trans.fit(X_train, Y_train_self_trans)"
   ]
  },
  {
   "cell_type": "code",
   "execution_count": 42,
   "metadata": {},
   "outputs": [
    {
     "name": "stdout",
     "output_type": "stream",
     "text": [
      "              precision    recall  f1-score   support\n",
      "\n",
      "           0       0.00      0.00      0.00       698\n",
      "           1       0.00      0.00      0.00       885\n",
      "           2       0.75      1.00      0.86      1426\n",
      "           3       0.79      1.00      0.89      1506\n",
      "\n",
      "   micro avg       0.77      0.65      0.71      4515\n",
      "   macro avg       0.39      0.50      0.44      4515\n",
      "weighted avg       0.50      0.65      0.57      4515\n",
      " samples avg       0.77      0.68      0.70      4515\n",
      "\n"
     ]
    },
    {
     "name": "stderr",
     "output_type": "stream",
     "text": [
      "c:\\Users\\39328\\anaconda3\\lib\\site-packages\\sklearn\\metrics\\_classification.py:1344: UndefinedMetricWarning: Precision and F-score are ill-defined and being set to 0.0 in labels with no predicted samples. Use `zero_division` parameter to control this behavior.\n",
      "  _warn_prf(average, modifier, msg_start, len(result))\n"
     ]
    }
   ],
   "source": [
    "f1scoreMajority(X_val, Y_val)"
   ]
  },
  {
   "cell_type": "markdown",
   "metadata": {},
   "source": [
    "### Training RoBERTa w/C:"
   ]
  },
  {
   "cell_type": "code",
   "execution_count": null,
   "metadata": {},
   "outputs": [],
   "source": [
    "val_loss_min = np.Inf\n",
    "for epoch in range(epochs):\n",
    "    print(f\"Epoch {epoch + 1}\\n-------------------------------\")\n",
    "    trainBert(model_c, train_dataloaderc)\n",
    "    val_loss_min = validation(epoch, val_loss_min, model_c, train_dataloaderc)"
   ]
  },
  {
   "cell_type": "markdown",
   "metadata": {},
   "source": [
    "### RoBERTa w/C evaluation:"
   ]
  },
  {
   "cell_type": "code",
   "execution_count": null,
   "metadata": {},
   "outputs": [],
   "source": [
    "# Threshold \n",
    "from sklearn.metrics import f1_score\n",
    "\n",
    "outputs_c, targets_c = test(model_c, val_dataloaderc)\n",
    "results_c = {}\n",
    "for tr in np.arange(0.1, 0.9, 0.1):\n",
    "    tr = round(tr, 2)\n",
    "    predictions_c = np.array(outputs_c) >= tr\n",
    "    f1_c = f1_score(targets_c, predictions_c, average='macro', zero_division=1)\n",
    "    results_c[tr] = f1_c\n",
    "\n",
    "for k, v in results_c.items():\n",
    "    print(f\"Threshold: {k}, F1-score: {v}\")"
   ]
  },
  {
   "cell_type": "code",
   "execution_count": null,
   "metadata": {},
   "outputs": [],
   "source": [
    "th = max(results_c, key=results_c.get)\n",
    "print(f\"Best threshold: {th}, F1-score: {results_c[th]}\")\n",
    "predictions_c = np.array(outputs_c) >= th\n",
    "labels = ['Openness to change', 'Conservation', 'Self-enhancement', 'Self-transcendence']\n",
    "print(classification_report(targets_c, predictions_c, target_names=labels ,zero_division=1))"
   ]
  },
  {
   "cell_type": "markdown",
   "metadata": {},
   "source": [
    "### Training RoBERTa w/CP:"
   ]
  },
  {
   "cell_type": "code",
   "execution_count": 40,
   "metadata": {},
   "outputs": [
    {
     "name": "stdout",
     "output_type": "stream",
     "text": [
      "Epoch 1\n",
      "-------------------------------\n",
      "Train loss: 0.703765  [    0/ 5393]\n",
      "Train loss: 0.583361  [ 1600/ 5393]\n",
      "Train loss: 0.528497  [ 3200/ 5393]\n",
      "Train loss: 0.531994  [ 4800/ 5393]\n",
      "\n",
      "Validation loss: 0.462537.\n",
      "Saving model ...\n",
      "Saved PyTorch Model State to model.pth\n",
      "\n",
      "Epoch 2\n",
      "-------------------------------\n",
      "Train loss: 0.571636  [    0/ 5393]\n",
      "Train loss: 0.351225  [ 1600/ 5393]\n",
      "Train loss: 0.554982  [ 3200/ 5393]\n",
      "Train loss: 0.365206  [ 4800/ 5393]\n",
      "\n",
      "Validation loss: 0.393426.\n",
      "Validation loss decreased (0.46253744 --> 0.39342580).  Saving model ...\n",
      "Saved PyTorch Model State to model.pth\n",
      "\n",
      "Epoch 3\n",
      "-------------------------------\n",
      "Train loss: 0.464953  [    0/ 5393]\n",
      "Train loss: 0.298749  [ 1600/ 5393]\n",
      "Train loss: 0.488705  [ 3200/ 5393]\n",
      "Train loss: 0.282428  [ 4800/ 5393]\n",
      "\n",
      "Validation loss: 0.337891.\n",
      "Validation loss decreased (0.39342580 --> 0.33789086).  Saving model ...\n",
      "Saved PyTorch Model State to model.pth\n",
      "\n",
      "Epoch 4\n",
      "-------------------------------\n",
      "Train loss: 0.312650  [    0/ 5393]\n",
      "Train loss: 0.249999  [ 1600/ 5393]\n",
      "Train loss: 0.385601  [ 3200/ 5393]\n",
      "Train loss: 0.186010  [ 4800/ 5393]\n",
      "\n",
      "Validation loss: 0.280475.\n",
      "Validation loss decreased (0.33789086 --> 0.28047495).  Saving model ...\n",
      "Saved PyTorch Model State to model.pth\n",
      "\n",
      "Epoch 5\n",
      "-------------------------------\n",
      "Train loss: 0.230729  [    0/ 5393]\n",
      "Train loss: 0.203276  [ 1600/ 5393]\n",
      "Train loss: 0.238281  [ 3200/ 5393]\n",
      "Train loss: 0.166196  [ 4800/ 5393]\n",
      "\n",
      "Validation loss: 0.226032.\n",
      "Validation loss decreased (0.28047495 --> 0.22603230).  Saving model ...\n",
      "Saved PyTorch Model State to model.pth\n",
      "\n",
      "Epoch 6\n",
      "-------------------------------\n",
      "Train loss: 0.140500  [    0/ 5393]\n",
      "Train loss: 0.134190  [ 1600/ 5393]\n",
      "Train loss: 0.237313  [ 3200/ 5393]\n",
      "Train loss: 0.127992  [ 4800/ 5393]\n",
      "\n",
      "Validation loss: 0.208094.\n",
      "Validation loss decreased (0.22603230 --> 0.20809412).  Saving model ...\n",
      "Saved PyTorch Model State to model.pth\n",
      "\n",
      "Epoch 7\n",
      "-------------------------------\n",
      "Train loss: 0.118452  [    0/ 5393]\n",
      "Train loss: 0.133277  [ 1600/ 5393]\n",
      "Train loss: 0.170576  [ 3200/ 5393]\n",
      "Train loss: 0.067602  [ 4800/ 5393]\n",
      "\n",
      "Validation loss: 0.196087.\n",
      "Validation loss decreased (0.20809412 --> 0.19608685).  Saving model ...\n",
      "Saved PyTorch Model State to model.pth\n",
      "\n",
      "Epoch 8\n",
      "-------------------------------\n",
      "Train loss: 0.054502  [    0/ 5393]\n",
      "Train loss: 0.069364  [ 1600/ 5393]\n",
      "Train loss: 0.125105  [ 3200/ 5393]\n",
      "Train loss: 0.080505  [ 4800/ 5393]\n",
      "\n",
      "Validation loss: 0.220526.\n",
      "Epoch 9\n",
      "-------------------------------\n",
      "Train loss: 0.094883  [    0/ 5393]\n",
      "Train loss: 0.072296  [ 1600/ 5393]\n",
      "Train loss: 0.105217  [ 3200/ 5393]\n",
      "Train loss: 0.082120  [ 4800/ 5393]\n",
      "\n",
      "Validation loss: 0.156515.\n",
      "Validation loss decreased (0.19608685 --> 0.15651457).  Saving model ...\n",
      "Saved PyTorch Model State to model.pth\n",
      "\n",
      "Epoch 10\n",
      "-------------------------------\n",
      "Train loss: 0.026083  [    0/ 5393]\n",
      "Train loss: 0.059119  [ 1600/ 5393]\n",
      "Train loss: 0.043245  [ 3200/ 5393]\n",
      "Train loss: 0.064476  [ 4800/ 5393]\n",
      "\n",
      "Validation loss: 0.136321.\n",
      "Validation loss decreased (0.15651457 --> 0.13632126).  Saving model ...\n",
      "Saved PyTorch Model State to model.pth\n",
      "\n"
     ]
    }
   ],
   "source": [
    "val_loss_min = np.Inf\n",
    "for epoch in range(epochs):\n",
    "    print(f\"Epoch {epoch + 1}\\n-------------------------------\")\n",
    "    trainBert(model_cp, train_dataloadercp)\n",
    "    val_loss_min = validation(epoch, val_loss_min, model_cp, train_dataloadercp)"
   ]
  },
  {
   "cell_type": "code",
   "execution_count": 41,
   "metadata": {},
   "outputs": [
    {
     "name": "stdout",
     "output_type": "stream",
     "text": [
      "Threshold: 0.1, F1-score: 0.7664998271281073\n",
      "Threshold: 0.2, F1-score: 0.7598361214162657\n",
      "Threshold: 0.3, F1-score: 0.752378444116399\n",
      "Threshold: 0.4, F1-score: 0.7460465322682589\n",
      "Threshold: 0.5, F1-score: 0.7383949924639484\n",
      "Threshold: 0.6, F1-score: 0.7311342424612522\n",
      "Threshold: 0.7, F1-score: 0.7236938681282479\n",
      "Threshold: 0.8, F1-score: 0.7110596139396325\n"
     ]
    }
   ],
   "source": [
    "# Threshold \n",
    "from sklearn.metrics import f1_score\n",
    "\n",
    "outputs_cp, targets_cp = test(model_cp, val_dataloadercp)\n",
    "results_cp = {}\n",
    "for tr in np.arange(0.1, 0.9, 0.1):\n",
    "    tr = round(tr, 2)\n",
    "    predictions_cp = np.array(outputs_cp) >= tr\n",
    "    f1_cp = f1_score(targets_cp, predictions_cp, average='macro', zero_division=1)\n",
    "    results_cp[tr] = f1_cp\n",
    "\n",
    "for k, v in results_cp.items():\n",
    "    print(f\"Threshold: {k}, F1-score: {v}\")"
   ]
  },
  {
   "cell_type": "code",
   "execution_count": 42,
   "metadata": {},
   "outputs": [
    {
     "name": "stdout",
     "output_type": "stream",
     "text": [
      "Best threshold: 0.1, F1-score: 0.7664998271281073\n",
      "                    precision    recall  f1-score   support\n",
      "\n",
      "Openness to change       0.63      0.67      0.65       698\n",
      "      Conservation       0.66      0.73      0.69       885\n",
      "  Self-enhancement       0.76      0.99      0.86      1426\n",
      "Self-transcendence       0.83      0.91      0.87      1506\n",
      "\n",
      "         micro avg       0.74      0.86      0.80      4515\n",
      "         macro avg       0.72      0.82      0.77      4515\n",
      "      weighted avg       0.74      0.86      0.80      4515\n",
      "       samples avg       0.77      0.88      0.79      4515\n",
      "\n"
     ]
    }
   ],
   "source": [
    "th = max(results_cp, key=results_cp.get)\n",
    "print(f\"Best threshold: {th}, F1-score: {results_cp[th]}\")\n",
    "predictions_cp = np.array(outputs_cp) >= th\n",
    "labels = ['Openness to change', 'Conservation', 'Self-enhancement', 'Self-transcendence']\n",
    "print(classification_report(targets_cp, predictions_cp, target_names=labels ,zero_division=1))"
   ]
  },
  {
   "cell_type": "markdown",
   "metadata": {},
   "source": [
    "### Training RoBERTa w/CPS:"
   ]
  },
  {
   "cell_type": "code",
   "execution_count": null,
   "metadata": {},
   "outputs": [
    {
     "name": "stdout",
     "output_type": "stream",
     "text": [
      "Epoch 1\n",
      "-------------------------------\n",
      "Train loss: 0.703765  [    0/ 5393]\n",
      "Train loss: 0.583361  [ 1600/ 5393]\n",
      "Train loss: 0.528497  [ 3200/ 5393]\n",
      "Train loss: 0.531994  [ 4800/ 5393]\n",
      "\n",
      "Validation loss: 0.462537.\n",
      "Saving model ...\n",
      "Saved PyTorch Model State to model.pth\n",
      "\n",
      "Epoch 2\n",
      "-------------------------------\n",
      "Train loss: 0.571636  [    0/ 5393]\n",
      "Train loss: 0.351225  [ 1600/ 5393]\n",
      "Train loss: 0.554982  [ 3200/ 5393]\n",
      "Train loss: 0.365206  [ 4800/ 5393]\n",
      "\n",
      "Validation loss: 0.393426.\n",
      "Validation loss decreased (0.46253744 --> 0.39342580).  Saving model ...\n",
      "Saved PyTorch Model State to model.pth\n",
      "\n",
      "Epoch 3\n",
      "-------------------------------\n",
      "Train loss: 0.464953  [    0/ 5393]\n",
      "Train loss: 0.298749  [ 1600/ 5393]\n",
      "Train loss: 0.488705  [ 3200/ 5393]\n",
      "Train loss: 0.282428  [ 4800/ 5393]\n",
      "\n",
      "Validation loss: 0.337891.\n",
      "Validation loss decreased (0.39342580 --> 0.33789086).  Saving model ...\n",
      "Saved PyTorch Model State to model.pth\n",
      "\n",
      "Epoch 4\n",
      "-------------------------------\n",
      "Train loss: 0.312650  [    0/ 5393]\n",
      "Train loss: 0.249999  [ 1600/ 5393]\n",
      "Train loss: 0.385601  [ 3200/ 5393]\n",
      "Train loss: 0.186010  [ 4800/ 5393]\n",
      "\n",
      "Validation loss: 0.280475.\n",
      "Validation loss decreased (0.33789086 --> 0.28047495).  Saving model ...\n",
      "Saved PyTorch Model State to model.pth\n",
      "\n",
      "Epoch 5\n",
      "-------------------------------\n",
      "Train loss: 0.230729  [    0/ 5393]\n",
      "Train loss: 0.203276  [ 1600/ 5393]\n",
      "Train loss: 0.238281  [ 3200/ 5393]\n",
      "Train loss: 0.166196  [ 4800/ 5393]\n",
      "\n",
      "Validation loss: 0.226032.\n",
      "Validation loss decreased (0.28047495 --> 0.22603230).  Saving model ...\n",
      "Saved PyTorch Model State to model.pth\n",
      "\n",
      "Epoch 6\n",
      "-------------------------------\n",
      "Train loss: 0.140500  [    0/ 5393]\n",
      "Train loss: 0.134190  [ 1600/ 5393]\n",
      "Train loss: 0.237313  [ 3200/ 5393]\n",
      "Train loss: 0.127992  [ 4800/ 5393]\n",
      "\n",
      "Validation loss: 0.208094.\n",
      "Validation loss decreased (0.22603230 --> 0.20809412).  Saving model ...\n",
      "Saved PyTorch Model State to model.pth\n",
      "\n",
      "Epoch 7\n",
      "-------------------------------\n",
      "Train loss: 0.118452  [    0/ 5393]\n",
      "Train loss: 0.133277  [ 1600/ 5393]\n",
      "Train loss: 0.170576  [ 3200/ 5393]\n",
      "Train loss: 0.067602  [ 4800/ 5393]\n",
      "\n",
      "Validation loss: 0.196087.\n",
      "Validation loss decreased (0.20809412 --> 0.19608685).  Saving model ...\n",
      "Saved PyTorch Model State to model.pth\n",
      "\n",
      "Epoch 8\n",
      "-------------------------------\n",
      "Train loss: 0.054502  [    0/ 5393]\n",
      "Train loss: 0.069364  [ 1600/ 5393]\n",
      "Train loss: 0.125105  [ 3200/ 5393]\n",
      "Train loss: 0.080505  [ 4800/ 5393]\n",
      "\n",
      "Validation loss: 0.220526.\n",
      "Epoch 9\n",
      "-------------------------------\n",
      "Train loss: 0.094883  [    0/ 5393]\n",
      "Train loss: 0.072296  [ 1600/ 5393]\n",
      "Train loss: 0.105217  [ 3200/ 5393]\n",
      "Train loss: 0.082120  [ 4800/ 5393]\n",
      "\n",
      "Validation loss: 0.156515.\n",
      "Validation loss decreased (0.19608685 --> 0.15651457).  Saving model ...\n",
      "Saved PyTorch Model State to model.pth\n",
      "\n",
      "Epoch 10\n",
      "-------------------------------\n",
      "Train loss: 0.026083  [    0/ 5393]\n",
      "Train loss: 0.059119  [ 1600/ 5393]\n",
      "Train loss: 0.043245  [ 3200/ 5393]\n",
      "Train loss: 0.064476  [ 4800/ 5393]\n",
      "\n",
      "Validation loss: 0.136321.\n",
      "Validation loss decreased (0.15651457 --> 0.13632126).  Saving model ...\n",
      "Saved PyTorch Model State to model.pth\n",
      "\n"
     ]
    }
   ],
   "source": [
    "val_loss_min = np.Inf\n",
    "for epoch in range(epochs):\n",
    "    print(f\"Epoch {epoch + 1}\\n-------------------------------\")\n",
    "    trainBert(model_cps, train_dataloadercp)\n",
    "    val_loss_min = validation(epoch, val_loss_min, model_cps, train_dataloadercp)"
   ]
  },
  {
   "cell_type": "code",
   "execution_count": null,
   "metadata": {},
   "outputs": [
    {
     "name": "stdout",
     "output_type": "stream",
     "text": [
      "Threshold: 0.1, F1-score: 0.7664998271281073\n",
      "Threshold: 0.2, F1-score: 0.7598361214162657\n",
      "Threshold: 0.3, F1-score: 0.752378444116399\n",
      "Threshold: 0.4, F1-score: 0.7460465322682589\n",
      "Threshold: 0.5, F1-score: 0.7383949924639484\n",
      "Threshold: 0.6, F1-score: 0.7311342424612522\n",
      "Threshold: 0.7, F1-score: 0.7236938681282479\n",
      "Threshold: 0.8, F1-score: 0.7110596139396325\n"
     ]
    }
   ],
   "source": [
    "# Threshold \n",
    "from sklearn.metrics import f1_score\n",
    "\n",
    "outputs_cps, targets_cps = test(model_cps, val_dataloadercps)\n",
    "results_cps = {}\n",
    "for tr in np.arange(0.1, 0.9, 0.1):\n",
    "    tr = round(tr, 2)\n",
    "    predictions_cps = np.array(outputs_cps) >= tr\n",
    "    f1_cps = f1_score(targets_cps, predictions_cps, average='macro', zero_division=1)\n",
    "    results_cps[tr] = f1_cps\n",
    "\n",
    "for k, v in results_cps.items():\n",
    "    print(f\"Threshold: {k}, F1-score: {v}\")"
   ]
  },
  {
   "cell_type": "code",
   "execution_count": null,
   "metadata": {},
   "outputs": [
    {
     "name": "stdout",
     "output_type": "stream",
     "text": [
      "Best threshold: 0.1, F1-score: 0.7664998271281073\n",
      "                    precision    recall  f1-score   support\n",
      "\n",
      "Openness to change       0.63      0.67      0.65       698\n",
      "      Conservation       0.66      0.73      0.69       885\n",
      "  Self-enhancement       0.76      0.99      0.86      1426\n",
      "Self-transcendence       0.83      0.91      0.87      1506\n",
      "\n",
      "         micro avg       0.74      0.86      0.80      4515\n",
      "         macro avg       0.72      0.82      0.77      4515\n",
      "      weighted avg       0.74      0.86      0.80      4515\n",
      "       samples avg       0.77      0.88      0.79      4515\n",
      "\n"
     ]
    }
   ],
   "source": [
    "th = max(results_cps, key=results_cps.get)\n",
    "print(f\"Best threshold: {th}, F1-score: {results_cps[th]}\")\n",
    "predictions_cps = np.array(outputs_cps) >= th\n",
    "labels = ['Openness to change', 'Conservation', 'Self-enhancement', 'Self-transcendence']\n",
    "print(classification_report(targets_cps, predictions_cps, target_names=labels ,zero_division=1))"
   ]
  },
  {
   "cell_type": "markdown",
   "metadata": {},
   "source": [
    "# Task 5: Error Analysis\n",
    "\n",
    "You are tasked to discuss your results."
   ]
  },
  {
   "cell_type": "markdown",
   "metadata": {},
   "source": [
    "### Instructions\n",
    "\n",
    "* **Compare** classification performance of BERT-based models with respect to baselines.\n",
    "* Discuss **difference in prediction** between the best performing BERT-based model and its variants."
   ]
  },
  {
   "cell_type": "code",
   "execution_count": 36,
   "metadata": {},
   "outputs": [
    {
     "data": {
      "text/plain": [
       "<All keys matched successfully>"
      ]
     },
     "execution_count": 36,
     "metadata": {},
     "output_type": "execute_result"
    }
   ],
   "source": [
    "# load the models:\n",
    "model_c.load_state_dict(torch.load(f'seed_{seed}/model_c_{seed}.pth', map_location=torch.device('cpu')))\n",
    "model_cp.load_state_dict(torch.load(f'seed_{seed}/model_cp_{seed}.pth', map_location=torch.device('cpu')))\n",
    "model_cps.load_state_dict(torch.load(f'seed_{seed}/model_cps_{seed}.pth', map_location=torch.device('cpu')))"
   ]
  },
  {
   "cell_type": "markdown",
   "metadata": {},
   "source": [
    "### Test the random uniform classifier:"
   ]
  },
  {
   "cell_type": "code",
   "execution_count": 37,
   "metadata": {},
   "outputs": [
    {
     "name": "stdout",
     "output_type": "stream",
     "text": [
      "              precision    recall  f1-score   support\n",
      "\n",
      "           0       0.30      0.50      0.38       474\n",
      "           1       0.42      0.50      0.45       647\n",
      "           2       0.70      0.51      0.59      1119\n",
      "           3       0.79      0.48      0.60      1268\n",
      "\n",
      "   micro avg       0.55      0.49      0.52      3508\n",
      "   macro avg       0.55      0.50      0.50      3508\n",
      "weighted avg       0.63      0.49      0.54      3508\n",
      " samples avg       0.52      0.49      0.46      3508\n",
      "\n"
     ]
    },
    {
     "name": "stderr",
     "output_type": "stream",
     "text": [
      "c:\\Users\\39328\\anaconda3\\lib\\site-packages\\sklearn\\metrics\\_classification.py:1344: UndefinedMetricWarning: Precision and F-score are ill-defined and being set to 0.0 in samples with no predicted labels. Use `zero_division` parameter to control this behavior.\n",
      "  _warn_prf(average, modifier, msg_start, len(result))\n"
     ]
    }
   ],
   "source": [
    "f1scoreRandom(X_test, Y_test)"
   ]
  },
  {
   "cell_type": "markdown",
   "metadata": {},
   "source": [
    "### Test the majority classifier:"
   ]
  },
  {
   "cell_type": "code",
   "execution_count": 38,
   "metadata": {},
   "outputs": [
    {
     "name": "stdout",
     "output_type": "stream",
     "text": [
      "              precision    recall  f1-score   support\n",
      "\n",
      "           0       0.00      0.00      0.00       474\n",
      "           1       0.00      0.00      0.00       647\n",
      "           2       0.71      1.00      0.83      1119\n",
      "           3       0.80      1.00      0.89      1268\n",
      "\n",
      "   micro avg       0.76      0.68      0.72      3508\n",
      "   macro avg       0.38      0.50      0.43      3508\n",
      "weighted avg       0.52      0.68      0.59      3508\n",
      " samples avg       0.76      0.72      0.71      3508\n",
      "\n"
     ]
    },
    {
     "name": "stderr",
     "output_type": "stream",
     "text": [
      "c:\\Users\\39328\\anaconda3\\lib\\site-packages\\sklearn\\metrics\\_classification.py:1344: UndefinedMetricWarning: Precision and F-score are ill-defined and being set to 0.0 in labels with no predicted samples. Use `zero_division` parameter to control this behavior.\n",
      "  _warn_prf(average, modifier, msg_start, len(result))\n"
     ]
    }
   ],
   "source": [
    "f1scoreMajority(X_test, Y_test)"
   ]
  },
  {
   "cell_type": "markdown",
   "metadata": {},
   "source": [
    "### Testing RoBERTa w/C:"
   ]
  },
  {
   "cell_type": "code",
   "execution_count": 82,
   "metadata": {},
   "outputs": [
    {
     "name": "stdout",
     "output_type": "stream",
     "text": [
      "Threshold: 0.1, F1-score: 0.7021041069062377\n",
      "Threshold: 0.2, F1-score: 0.7032014069869715\n",
      "Threshold: 0.3, F1-score: 0.6922775573369017\n",
      "Threshold: 0.4, F1-score: 0.6581717847544282\n",
      "Threshold: 0.5, F1-score: 0.5990586778298223\n",
      "Threshold: 0.6, F1-score: 0.519960347889965\n",
      "Threshold: 0.7, F1-score: 0.4932170195675176\n",
      "Threshold: 0.8, F1-score: 0.40054647697399653\n"
     ]
    }
   ],
   "source": [
    "# Threshold \n",
    "from sklearn.metrics import f1_score\n",
    "\n",
    "outputs_c, targets_c = test(model_c, test_dataloaderc)\n",
    "results_c = {}\n",
    "for tr in np.arange(0.1, 0.9, 0.1):\n",
    "    tr = round(tr, 2)\n",
    "    predictions_c = np.array(outputs_c) >= tr\n",
    "    f1_c = f1_score(targets_c, predictions_c, average='macro', zero_division=1)\n",
    "    results_c[tr] = f1_c\n",
    "\n",
    "for k, v in results_c.items():\n",
    "    print(f\"Threshold: {k}, F1-score: {v}\")"
   ]
  },
  {
   "cell_type": "code",
   "execution_count": 83,
   "metadata": {},
   "outputs": [
    {
     "name": "stdout",
     "output_type": "stream",
     "text": [
      "Best threshold: 0.2, F1-score: 0.7032014069869715\n",
      "                    precision    recall  f1-score   support\n",
      "\n",
      "Openness to change       0.35      0.83      0.50       474\n",
      "      Conservation       0.43      0.96      0.59       647\n",
      "  Self-enhancement       0.71      1.00      0.83      1119\n",
      "Self-transcendence       0.80      1.00      0.89      1268\n",
      "\n",
      "         micro avg       0.60      0.97      0.74      3508\n",
      "         macro avg       0.57      0.95      0.70      3508\n",
      "      weighted avg       0.64      0.97      0.76      3508\n",
      "       samples avg       0.60      0.98      0.72      3508\n",
      "\n"
     ]
    }
   ],
   "source": [
    "th = max(results_c, key=results_c.get)\n",
    "print(f\"Best threshold: {th}, F1-score: {results_c[th]}\")\n",
    "predictions_c = np.array(outputs_c) >= th\n",
    "labels = ['Openness to change', 'Conservation', 'Self-enhancement', 'Self-transcendence']\n",
    "print(classification_report(targets_c, predictions_c, target_names=labels ,zero_division=1))"
   ]
  },
  {
   "cell_type": "markdown",
   "metadata": {},
   "source": [
    "### Testing RoBERTa w/CP:"
   ]
  },
  {
   "cell_type": "code",
   "execution_count": 47,
   "metadata": {},
   "outputs": [
    {
     "name": "stdout",
     "output_type": "stream",
     "text": [
      "Threshold: 0.1, F1-score: 0.7392718940125877\n",
      "Threshold: 0.2, F1-score: 0.7298134936066797\n",
      "Threshold: 0.3, F1-score: 0.7190667335932064\n",
      "Threshold: 0.4, F1-score: 0.7121845833254248\n",
      "Threshold: 0.5, F1-score: 0.704612748059367\n",
      "Threshold: 0.6, F1-score: 0.6956746813749931\n",
      "Threshold: 0.7, F1-score: 0.683073747221489\n",
      "Threshold: 0.8, F1-score: 0.665428965827218\n"
     ]
    }
   ],
   "source": [
    "# # Threshold \n",
    "from sklearn.metrics import f1_score\n",
    "\n",
    "outputs_cp, targets_cp = test(model_cp, test_dataloadercp)\n",
    "results_cp = {}\n",
    "for tr in np.arange(0.1, 0.9, 0.1):\n",
    "    tr = round(tr, 2)\n",
    "    predictions_cp = np.array(outputs_cp) >= tr\n",
    "    f1_cp = f1_score(targets_cp, predictions_cp, average='macro', zero_division=1)\n",
    "    results_cp[tr] = f1_cp\n",
    "\n",
    "for k, v in results_cp.items():\n",
    "    print(f\"Threshold: {k}, F1-score: {v}\")"
   ]
  },
  {
   "cell_type": "code",
   "execution_count": 42,
   "metadata": {},
   "outputs": [
    {
     "name": "stdout",
     "output_type": "stream",
     "text": [
      "Best threshold: 0.1, F1-score: 0.7392718940125877\n",
      "                    precision    recall  f1-score   support\n",
      "\n",
      "Openness to change       0.65      0.57      0.61       474\n",
      "      Conservation       0.53      0.83      0.65       647\n",
      "  Self-enhancement       0.72      0.99      0.83      1119\n",
      "Self-transcendence       0.84      0.90      0.87      1268\n",
      "\n",
      "         micro avg       0.71      0.87      0.78      3508\n",
      "         macro avg       0.68      0.82      0.74      3508\n",
      "      weighted avg       0.72      0.87      0.78      3508\n",
      "       samples avg       0.72      0.90      0.76      3508\n",
      "\n"
     ]
    }
   ],
   "source": [
    "th = max(results_cp, key=results_cp.get)\n",
    "print(f\"Best threshold: {th}, F1-score: {results_cp[th]}\")\n",
    "predictions_cp = np.array(outputs_cp) >= th\n",
    "labels = ['Openness to change', 'Conservation', 'Self-enhancement', 'Self-transcendence']\n",
    "print(classification_report(targets_cp, predictions_cp, target_names=labels ,zero_division=1))"
   ]
  },
  {
   "cell_type": "markdown",
   "metadata": {},
   "source": [
    "### Testing RoBERTa w/CPS:"
   ]
  },
  {
   "cell_type": "code",
   "execution_count": 43,
   "metadata": {},
   "outputs": [
    {
     "name": "stdout",
     "output_type": "stream",
     "text": [
      "Threshold: 0.1, F1-score: 0.7459630187009028\n",
      "Threshold: 0.2, F1-score: 0.7477209770869597\n",
      "Threshold: 0.3, F1-score: 0.746951541983534\n",
      "Threshold: 0.4, F1-score: 0.7428531315596946\n",
      "Threshold: 0.5, F1-score: 0.7362050718941726\n",
      "Threshold: 0.6, F1-score: 0.7326646072836327\n",
      "Threshold: 0.7, F1-score: 0.7195525217299543\n",
      "Threshold: 0.8, F1-score: 0.7069670564544206\n"
     ]
    }
   ],
   "source": [
    "# Threshold \n",
    "from sklearn.metrics import f1_score\n",
    "\n",
    "outputs_cps, targets_cps = test(model_cps, test_dataloadercps)\n",
    "results_cps = {}\n",
    "for tr in np.arange(0.1, 0.9, 0.1):\n",
    "    tr = round(tr, 2)\n",
    "    predictions_cps = np.array(outputs_cps) >= tr\n",
    "    f1_cps = f1_score(targets_cps, predictions_cps, average='macro', zero_division=1)\n",
    "    results_cps[tr] = f1_cps\n",
    "\n",
    "for k, v in results_cps.items():\n",
    "    print(f\"Threshold: {k}, F1-score: {v}\")"
   ]
  },
  {
   "cell_type": "code",
   "execution_count": 44,
   "metadata": {},
   "outputs": [
    {
     "name": "stdout",
     "output_type": "stream",
     "text": [
      "Best threshold: 0.2, F1-score: 0.7477209770869597\n",
      "                    precision    recall  f1-score   support\n",
      "\n",
      "Openness to change       0.61      0.63      0.62       474\n",
      "      Conservation       0.57      0.79      0.66       647\n",
      "  Self-enhancement       0.73      0.97      0.83      1119\n",
      "Self-transcendence       0.82      0.95      0.88      1268\n",
      "\n",
      "         micro avg       0.71      0.88      0.79      3508\n",
      "         macro avg       0.68      0.83      0.75      3508\n",
      "      weighted avg       0.72      0.88      0.79      3508\n",
      "       samples avg       0.73      0.91      0.77      3508\n",
      "\n"
     ]
    }
   ],
   "source": [
    "th = max(results_cps, key=results_cps.get)\n",
    "print(f\"Best threshold: {th}, F1-score: {results_cps[th]}\")\n",
    "predictions_cps = np.array(outputs_cps) >= th\n",
    "labels = ['Openness to change', 'Conservation', 'Self-enhancement', 'Self-transcendence']\n",
    "print(classification_report(targets_cps, predictions_cps, target_names=labels ,zero_division=1))"
   ]
  },
  {
   "cell_type": "code",
   "execution_count": 48,
   "metadata": {},
   "outputs": [],
   "source": [
    "def set_color(number_of_colors):\n",
    "    # return a random color to be used for the plot\n",
    "    color_list = []\n",
    "    for i in range(number_of_colors):\n",
    "        color_list.append(\"#\"+''.join([random.choice('0123456789ABCDEF') for j in range(6)]))\n",
    "    return color_list"
   ]
  },
  {
   "cell_type": "markdown",
   "metadata": {},
   "source": [
    "\n",
    "f1_score_c['Openness to change'] = results_c['Openness to change']['f1-score']\n",
    "f1_score_c['Conservation'] = results_c['Conservation']['f1-score']\n",
    "f1_score_c['Self-enhancement'] = results_c['Self-enhancement']['f1-score']\n",
    "f1_score_c['Self-transcendence'] = results_c['Self-transcendence']['f1-score']\n",
    "print(f1_score_c)"
   ]
  },
  {
   "cell_type": "markdown",
   "metadata": {},
   "source": [
    "plt.figure(figsize=(10,5))\n",
    "plt.title('F1-score for each category for each model')\n",
    "plt.xlabel('Category')\n",
    "plt.ylabel('F1-score')\n",
    "plt.ylim(0, 1)\n",
    "for report_results in all_reports:\n",
    "    plt.bar(report_results_c['Openness to change'].keys(), report_results_c['Openness to change'].values(), color=plot_colors[0])\n",
    "    plt.bar(report_results_c['Conservation'].keys(), report_results_c['Conservation'].values(), color=plot_colors[1])\n",
    "    plt.bar(report_results_c['Self-enhancement'].keys(), report_results_c['Self-enhancement'].values(), color=plot_colors[2])\n",
    "    plt.bar(report_results['Self-transcendence'].keys(), report_results['Self-transcendence'].values(), color=plot_colors[3])\n",
    "plt.legend(['Openness to change', 'Conservation', 'Self-enhancement', 'Self-transcendence'])\n",
    "plt.show()"
   ]
  },
  {
   "cell_type": "code",
   "execution_count": 88,
   "metadata": {},
   "outputs": [
    {
     "data": {
      "image/png": "[encoded data removed]",
      "text/plain": [
       "<Figure size 2160x720 with 12 Axes>"
      ]
     },
     "metadata": {
      "needs_background": "light"
     },
     "output_type": "display_data"
    },
    {
     "name": "stdout",
     "output_type": "stream",
     "text": [
      "Model_c results:\n",
      "                    precision    recall  f1-score   support\n",
      "\n",
      "Openness to change       0.35      0.83      0.50       474\n",
      "      Conservation       0.43      0.96      0.59       647\n",
      "  Self-enhancement       0.71      1.00      0.83      1119\n",
      "Self-transcendence       0.80      1.00      0.89      1268\n",
      "\n",
      "         micro avg       0.60      0.97      0.74      3508\n",
      "         macro avg       0.57      0.95      0.70      3508\n",
      "      weighted avg       0.64      0.97      0.76      3508\n",
      "       samples avg       0.60      0.98      0.72      3508\n",
      "\n",
      "                    precision    recall  f1-score   support\n",
      "\n",
      "Openness to change       0.81      0.35      0.49       474\n",
      "      Conservation       0.69      0.53      0.60       647\n",
      "  Self-enhancement       0.74      0.94      0.83      1119\n",
      "Self-transcendence       0.89      0.65      0.75      1268\n",
      "\n",
      "         micro avg       0.78      0.68      0.73      3508\n",
      "         macro avg       0.78      0.62      0.67      3508\n",
      "      weighted avg       0.79      0.68      0.71      3508\n",
      "       samples avg       0.81      0.73      0.72      3508\n",
      "\n",
      "                    precision    recall  f1-score   support\n",
      "\n",
      "Openness to change       0.61      0.63      0.62       474\n",
      "      Conservation       0.57      0.79      0.66       647\n",
      "  Self-enhancement       0.73      0.97      0.83      1119\n",
      "Self-transcendence       0.82      0.95      0.88      1268\n",
      "\n",
      "         micro avg       0.71      0.88      0.79      3508\n",
      "         macro avg       0.68      0.83      0.75      3508\n",
      "      weighted avg       0.72      0.88      0.79      3508\n",
      "       samples avg       0.73      0.91      0.77      3508\n",
      "\n"
     ]
    }
   ],
   "source": [
    "# for each model I plot the f1-score of each category for the test set using classification_report function as print(classification_report(targets_cps, predictions_cps, target_names=labels ,zero_division=1))\n",
    "# I use the same color for each category for each model\n",
    "\n",
    "report_results_c = classification_report(targets_c, predictions_c, target_names=labels ,zero_division=1, output_dict=True)\n",
    "report_results_cp = classification_report(targets_cp, predictions_cp, target_names=labels ,zero_division=1, output_dict=True)\n",
    "report_results_cps = classification_report(targets_cps, predictions_cps, target_names=labels ,zero_division=1, output_dict=True)\n",
    "all_reports = [report_results_c, report_results_cp, report_results_cps]\n",
    "\n",
    "plot_colors = set_color(len(all_reports))\n",
    "# I plot the precision, recall and f1-score for each category for each model. I use the same color for each category for each model. I plot the metric on the y-axis and the model on the x-axis.\n",
    "# I make the plot larger so that the labels are not cut off\n",
    "fig, axs = plt.subplots(3, len(labels), figsize=(30, 10))\n",
    "\n",
    "for i, metric in enumerate(['precision', 'recall', 'f1-score']):\n",
    "    for j, label in enumerate(labels):\n",
    "        for k, report in enumerate(all_reports):\n",
    "            axs[i, j].bar(k, report[label][metric], color=plot_colors[k])\n",
    "            axs[k, j].set_title(label)\n",
    "            axs[k, j].set_xticks([0, 1, 2])\n",
    "            axs[k, j].set_xticklabels(['Model_c', 'Model_cp', 'Model_cps'])\n",
    "            axs[k, j].set_ylim([0, 1])\n",
    "            axs[i, j].set_ylabel(metric)\n",
    "\n",
    "            \n",
    "plt.show()\n",
    "# i print model_c results\n",
    "print(\"Model_c results:\")\n",
    "print(classification_report(targets_c, predictions_c, target_names=labels ,zero_division=1))\n",
    "print(classification_report(targets_cp, predictions_cp, target_names=labels ,zero_division=1))\n",
    "print(classification_report(targets_cps, predictions_cps, target_names=labels ,zero_division=1))"
   ]
  }
 ],
 "metadata": {
  "kernelspec": {
   "display_name": "Python 3",
   "language": "python",
   "name": "python3"
  },
  "language_info": {
   "codemirror_mode": {
    "name": "ipython",
    "version": 3
   },
   "file_extension": ".py",
   "mimetype": "text/x-python",
   "name": "python",
   "nbconvert_exporter": "python",
   "pygments_lexer": "ipython3",
   "version": "3.8.5"
  }
 },
 "nbformat": 4,
 "nbformat_minor": 2
}
