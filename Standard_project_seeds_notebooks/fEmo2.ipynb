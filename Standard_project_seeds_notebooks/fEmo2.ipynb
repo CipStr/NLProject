{
  "cells": [
    {
      "cell_type": "markdown",
      "metadata": {
        "id": "005CLkdt-mxo"
      },
      "source": [
        "# NLP Standard Project:\n",
        "\n",
        "- Students: **Matteo Belletti**, **Alessandro Pasi**, **Stricescu Razvan Ciprian**."
      ]
    },
    {
      "cell_type": "markdown",
      "metadata": {},
      "source": [
        "The Standard Project is about addressing this task: Emotion Discovery and Reasoning its Flip in Conversation (EDiReF), SemEval 2024 Task 10, SUBTASK iii (English only) "
      ]
    },
    {
      "cell_type": "markdown",
      "metadata": {},
      "source": [
        "### Libraries and dependencies:"
      ]
    },
    {
      "cell_type": "code",
      "execution_count": 1,
      "metadata": {
        "colab": {
          "base_uri": "https://localhost:8080/"
        },
        "id": "DOs950_0-mxp",
        "outputId": "22676575-433c-48c9-e115-df2c26851981"
      },
      "outputs": [
        {
          "name": "stderr",
          "output_type": "stream",
          "text": [
            "C:\\Users\\alepa\\AppData\\Local\\Packages\\PythonSoftwareFoundation.Python.3.10_qbz5n2kfra8p0\\LocalCache\\local-packages\\Python310\\site-packages\\tqdm\\auto.py:21: TqdmWarning: IProgress not found. Please update jupyter and ipywidgets. See https://ipywidgets.readthedocs.io/en/stable/user_install.html\n",
            "  from .autonotebook import tqdm as notebook_tqdm\n"
          ]
        },
        {
          "name": "stdout",
          "output_type": "stream",
          "text": [
            "Device: cuda\n"
          ]
        }
      ],
      "source": [
        "import numpy as np\n",
        "import matplotlib.pyplot as plt\n",
        "import nltk\n",
        "from nltk.tokenize import word_tokenize\n",
        "from nltk.corpus import stopwords\n",
        "from nltk.stem import WordNetLemmatizer\n",
        "import re\n",
        "import string\n",
        "import random\n",
        "from sklearn.feature_extraction.text import  TfidfVectorizer\n",
        "from sklearn.dummy import DummyClassifier\n",
        "from sklearn.utils import class_weight\n",
        "import pandas as pd\n",
        "import json\n",
        "import transformers\n",
        "import torch\n",
        "from torch.utils.data import Dataset, DataLoader\n",
        "from transformers import AutoTokenizer, get_linear_schedule_with_warmup\n",
        "from sklearn.metrics import classification_report, f1_score\n",
        "from torch import cuda\n",
        "import torch.optim as to\n",
        "device = 'cuda' if cuda.is_available() else 'cpu'\n",
        "print(f\"Device: {device}\")"
      ]
    },
    {
      "cell_type": "markdown",
      "metadata": {},
      "source": [
        "In order to better assess the project we trained and evaluated our models on five different seeds. The results are reported in the report but also in the notebook in the section \"Results\".\n",
        "\n",
        "Seed selection:"
      ]
    },
    {
      "cell_type": "code",
      "execution_count": 2,
      "metadata": {},
      "outputs": [],
      "source": [
        "#RANDOM_SEED = 42\n",
        "RANDOM_SEED = 2\n",
        "#RANDOM_SEED = 4\n",
        "#RANDOM_SEED = 22\n",
        "#RANDOM_SEED = 420\n",
        "np.random.seed(RANDOM_SEED)\n",
        "torch.manual_seed(RANDOM_SEED)\n",
        "transformers.set_seed(RANDOM_SEED)"
      ]
    },
    {
      "cell_type": "markdown",
      "metadata": {
        "id": "Ck-GQq5d-mxr"
      },
      "source": [
        "## Data loading and preprocessing:"
      ]
    },
    {
      "cell_type": "markdown",
      "metadata": {},
      "source": [
        "The data contains 4000 short English dialogues from the TV show \"Friends\". Each dialogue is composed of different sentences, each of which is annotated with a label that indicates the emotion expressed by the speaker and whether it triggers that emotion or not.\n",
        "\n",
        "The labels for emotion are: \n",
        "| Emotion: | neutral | joy | sadness | fear | anger | suprise | disgust |\n",
        "|----------|---------|-----|---------|------|-------|---------|---------|\n",
        "\n",
        "The labels for trigger are:\n",
        "| Trigger: | 0 | 1 |\n",
        "|----------|---------|-----|\n",
        "\n",
        "\n",
        "The data is loaded and preprocessed as follows:"
      ]
    },
    {
      "cell_type": "code",
      "execution_count": 3,
      "metadata": {
        "colab": {
          "base_uri": "https://localhost:8080/"
        },
        "id": "hvWV-5RY-mxr",
        "outputId": "ab7ccfe6-c3a7-4387-e4bc-0feb0534406a"
      },
      "outputs": [
        {
          "name": "stdout",
          "output_type": "stream",
          "text": [
            "Number of samples: 4000\n",
            "Example of a sample: {'episode': 'utterance_0', 'speakers': ['Chandler', 'The Interviewer', 'Chandler', 'The Interviewer', 'Chandler'], 'emotions': ['neutral', 'neutral', 'neutral', 'neutral', 'surprise'], 'utterances': [\"also I was the point person on my company's transition from the KL-5 to GR-6 system.\", \"You must've had your hands full.\", 'That I did. That I did.', \"So let's talk a little bit about your duties.\", 'My duties?  All right.'], 'triggers': [0.0, 0.0, 0.0, 1.0, 0.0]}\n"
          ]
        }
      ],
      "source": [
        "# open json in project_data_MELD folder\n",
        "try:\n",
        "    with open('../project_data_MELD/MELD_train_efr.json') as f: # Modify this path to your local path\n",
        "        data = json.load(f)\n",
        "except:\n",
        "    with open('MELD_train_efr.json') as f:\n",
        "        data = json.load(f)\n",
        "print(f\"Number of samples: {len(data)}\")\n",
        "print(f\"Example of a sample: {data[0]}\")"
      ]
    },
    {
      "cell_type": "markdown",
      "metadata": {},
      "source": [
        "In order to easily load the data we used the pandas library. The data is loaded from the list previously created and then it is converted into a pandas dataframe. \n",
        "\n",
        "We also drop the episode column, which functions as an index, as it is not useful for our task."
      ]
    },
    {
      "cell_type": "code",
      "execution_count": 4,
      "metadata": {
        "colab": {
          "base_uri": "https://localhost:8080/"
        },
        "id": "_Ck5Yz3C-mxr",
        "outputId": "e3724972-d61e-425c-edc6-f607fca32c77"
      },
      "outputs": [
        {
          "name": "stdout",
          "output_type": "stream",
          "text": [
            "Dataframe shape: (4000, 4)\n",
            "Dataframe columns: Index(['speakers', 'emotions', 'utterances', 'triggers'], dtype='object')\n",
            "Dataframe head:\n",
            "                                             speakers  \\\n",
            "0  [Chandler, The Interviewer, Chandler, The Inte...   \n",
            "\n",
            "                                         emotions  \\\n",
            "0  [neutral, neutral, neutral, neutral, surprise]   \n",
            "\n",
            "                                          utterances  \\\n",
            "0  [also I was the point person on my company's t...   \n",
            "\n",
            "                    triggers  \n",
            "0  [0.0, 0.0, 0.0, 1.0, 0.0]  \n"
          ]
        }
      ],
      "source": [
        "# Convert data to pandas dataframe\n",
        "df = pd.DataFrame(data)\n",
        "# Drop episode and speakers columns\n",
        "df = df.drop(columns=['episode'])\n",
        "print(f\"Dataframe shape: {df.shape}\")\n",
        "print(f\"Dataframe columns: {df.columns}\")\n",
        "print(f\"Dataframe head:\\n {df.head(1)}\")"
      ]
    },
    {
      "cell_type": "markdown",
      "metadata": {
        "id": "8Spy3zzO-mxs"
      },
      "source": [
        "The trigger column also contains NaN values, which we replace with 0.0 in order to avoid errors during the training phase."
      ]
    },
    {
      "cell_type": "code",
      "execution_count": 5,
      "metadata": {
        "colab": {
          "base_uri": "https://localhost:8080/"
        },
        "id": "Fu_fACgc-mxs",
        "outputId": "644df322-2ddd-4aea-d5ae-036077ef6100"
      },
      "outputs": [
        {
          "name": "stdout",
          "output_type": "stream",
          "text": [
            "Number of NaN values in the triggers column: 9\n",
            "Example of a sample with NaN values:\n",
            "[0.0, nan, 0.0, 0.0, 0.0, 0.0, 0.0, 0.0, 0.0, 1.0, 0.0]\n",
            "Example of a sample after removing the NaN values:\n",
            "[0.0, 0, 0.0, 0.0, 0.0, 0.0, 0.0, 0.0, 0.0, 1.0, 0.0]\n"
          ]
        }
      ],
      "source": [
        "count = 0\n",
        "for row in df[\"triggers\"]:\n",
        "    for elem in row:\n",
        "        if elem != 1 and elem != 0:\n",
        "            count += 1\n",
        "print(\"Number of NaN values in the triggers column: {}\".format(count))\n",
        "print(\"Example of a sample with NaN values:\")\n",
        "print(df[\"triggers\"][3359])\n",
        "df[\"triggers\"] = df[\"triggers\"].apply(lambda x: [0 if elem != 1 and elem != 0 else elem for elem in x])\n",
        "print(\"Example of a sample after removing the NaN values:\")\n",
        "print(df[\"triggers\"][3359])"
      ]
    },
    {
      "cell_type": "markdown",
      "metadata": {
        "id": "UssZaYz3-mxs"
      },
      "source": [
        "The data is then split into train, test and validation sets, with a 80/10/10 ratio."
      ]
    },
    {
      "cell_type": "code",
      "execution_count": 6,
      "metadata": {
        "id": "OFaRTAN7-mxs"
      },
      "outputs": [
        {
          "name": "stdout",
          "output_type": "stream",
          "text": [
            "Train shape: (3200, 4)\n",
            "Val shape: (400, 4)\n",
            "Test shape: (400, 4)\n"
          ]
        }
      ],
      "source": [
        "# Split data\n",
        "from sklearn.model_selection import train_test_split\n",
        "\n",
        "df_train, temp = train_test_split(df, test_size=0.2, shuffle=False)\n",
        "df_val, df_test = train_test_split(temp, test_size=0.5, shuffle=False)\n",
        "print(f\"Train shape: {df_train.shape}\")\n",
        "print(f\"Val shape: {df_val.shape}\")\n",
        "print(f\"Test shape: {df_test.shape}\")"
      ]
    },
    {
      "cell_type": "markdown",
      "metadata": {},
      "source": [
        "In order to better assess the data we also plot the distribution of the labels in the train set so that we can see if there is a class imbalance."
      ]
    },
    {
      "cell_type": "code",
      "execution_count": 7,
      "metadata": {
        "colab": {
          "base_uri": "https://localhost:8080/"
        },
        "id": "hGSbTu_l-mxt",
        "outputId": "09bed160-d168-4216-ebfa-f4590c363589"
      },
      "outputs": [
        {
          "name": "stdout",
          "output_type": "stream",
          "text": [
            "Emotions sorted by occurences:\n",
            "{'neutral': 12228, 'joy': 5123, 'surprise': 3775, 'anger': 3025, 'sadness': 1929, 'fear': 917, 'disgust': 816}\n"
          ]
        }
      ],
      "source": [
        "# first we create a dictionary of all emotions with their corresponding occurences\n",
        "emotions_dict = {}\n",
        "for emotions in df_train[\"emotions\"]:\n",
        "    for emotion in emotions:\n",
        "        if emotion in emotions_dict:\n",
        "            emotions_dict[emotion] += 1\n",
        "        else:\n",
        "            emotions_dict[emotion] = 1\n",
        "\n",
        "# then we sort the dictionary by occurences\n",
        "emotions_dict = {k: v for k, v in sorted(emotions_dict.items(), key=lambda item: item[1], reverse=True)}\n",
        "print(\"Emotions sorted by occurences:\")\n",
        "print(emotions_dict)"
      ]
    },
    {
      "cell_type": "code",
      "execution_count": 8,
      "metadata": {},
      "outputs": [],
      "source": [
        "# This function is only used to better visualize plots by setting a random color for each element, so it's just for aesthetic purposes\n",
        "def set_color(number_of_colors):\n",
        "    # return a random color to be used for the plot\n",
        "    color_list = []\n",
        "    for i in range(number_of_colors):\n",
        "        color_list.append(\"#\"+''.join([random.choice('0123456789ABCDEF') for j in range(6)]))\n",
        "    return color_list"
      ]
    },
    {
      "cell_type": "markdown",
      "metadata": {
        "id": "9aG4tIgr-mxt"
      },
      "source": [
        "Plotting the distribution of emotions."
      ]
    },
    {
      "cell_type": "code",
      "execution_count": 9,
      "metadata": {
        "colab": {
          "base_uri": "https://localhost:8080/",
          "height": 795
        },
        "id": "7ALQKgJ0-mxt",
        "outputId": "7b10b15b-685d-486d-a233-340fadc31f09"
      },
      "outputs": [
        {
          "data": {
            "image/png": "[encoded data removed]",
            "text/plain": [
              "<Figure size 2000x1000 with 1 Axes>"
            ]
          },
          "metadata": {},
          "output_type": "display_data"
        }
      ],
      "source": [
        "# plot the emotions distribution as histogram\n",
        "plt.figure(figsize=(20,10))\n",
        "plt.bar(emotions_dict.keys(), emotions_dict.values(), color=set_color(len(emotions_dict)))\n",
        "plt.title(\"Emotions distribution\")\n",
        "plt.xlabel(\"Emotions\")\n",
        "plt.ylabel(\"Number of occurences\")\n",
        "plt.show()"
      ]
    },
    {
      "cell_type": "markdown",
      "metadata": {},
      "source": [
        "As we can see from the plot, the data is not balanced, with the neutral class being the most represented and the disgust class being the least represented. This could lead to problems during the training phase, as the model could be biased towards the neutral class.\n",
        "\n",
        "We will adress this problem later on in this part of the notebook."
      ]
    },
    {
      "cell_type": "code",
      "execution_count": 10,
      "metadata": {},
      "outputs": [
        {
          "name": "stdout",
          "output_type": "stream",
          "text": [
            "Triggers sorted by occurences:\n",
            "{0.0: 23524, 1.0: 4289}\n"
          ]
        },
        {
          "data": {
            "image/png": "[encoded data removed]",
            "text/plain": [
              "<Figure size 2000x1000 with 1 Axes>"
            ]
          },
          "metadata": {},
          "output_type": "display_data"
        }
      ],
      "source": [
        "# trigger distribution\n",
        "trigger_dict = {}\n",
        "for triggers in df_train[\"triggers\"]:\n",
        "    for trigger in triggers:\n",
        "        if trigger in trigger_dict:\n",
        "            trigger_dict[trigger] += 1\n",
        "        else:\n",
        "            trigger_dict[trigger] = 1\n",
        "        \n",
        "trigger_dict = {k: v for k, v in sorted(trigger_dict.items(), key=lambda item: item[1], reverse=True)}\n",
        "print(\"Triggers sorted by occurences:\")\n",
        "print(trigger_dict)\n",
        "\n",
        "# plot the triggers distribution as histogram\n",
        "plt.figure(figsize=(20,10))\n",
        "plt.bar(trigger_dict.keys(), trigger_dict.values(), color=set_color(len(trigger_dict)))\n",
        "plt.title(\"Triggers distribution\")\n",
        "plt.xlabel(\"Triggers\")\n",
        "plt.ylabel(\"Number of occurences\")\n",
        "plt.show()"
      ]
    },
    {
      "cell_type": "markdown",
      "metadata": {},
      "source": [
        "Likewise, we plot the distribution of the trigger labels and we notice that the data is not balanced, with the 0 class being the most represented and the 1 class being the least represented. This could lead to problems during the training phase, as the model could be biased towards the 0 class.\n",
        "\n",
        "We will adress this problem later on in this part of the notebook."
      ]
    },
    {
      "cell_type": "markdown",
      "metadata": {},
      "source": [
        "#### Baseline models:"
      ]
    },
    {
      "cell_type": "code",
      "execution_count": 11,
      "metadata": {
        "colab": {
          "base_uri": "https://localhost:8080/"
        },
        "id": "Wkjy3t9t-mxu",
        "outputId": "ae2960c5-8b1a-4e73-b500-153d62b19da9"
      },
      "outputs": [
        {
          "name": "stdout",
          "output_type": "stream",
          "text": [
            "Example of a sample:\n",
            "[\"also I was the point person on my company's transition from the KL-5 to GR-6 system.\", \"You must've had your hands full.\", 'That I did. That I did.', \"So let's talk a little bit about your duties.\", 'My duties?  All right.']\n"
          ]
        }
      ],
      "source": [
        "baseline_train = df_train.copy()\n",
        "baseline_test = df_test.copy()\n",
        "baseline_val = df_val.copy()\n",
        "print(\"Example of a sample:\")\n",
        "print(baseline_train[\"utterances\"][0])"
      ]
    },
    {
      "cell_type": "markdown",
      "metadata": {
        "id": "yZ9HYEWk-mxu"
      },
      "source": [
        "We split the utterances into single sentences, likewise the emotions and triggers."
      ]
    },
    {
      "cell_type": "code",
      "execution_count": 12,
      "metadata": {
        "id": "0JGlj2Dn-mxu"
      },
      "outputs": [],
      "source": [
        "def splitter(df, y_label):\n",
        "    X = []\n",
        "    y = []\n",
        "    for index, row in df.iterrows():\n",
        "        for i in range(len(row[\"utterances\"])):\n",
        "            X.append(row[\"utterances\"][i])\n",
        "            y.append(row[y_label][i])\n",
        "    return X, y"
      ]
    },
    {
      "cell_type": "markdown",
      "metadata": {},
      "source": [
        "As the baseline models make prediction based on the label distribution, we won't perform preprocessing on the dataset yet."
      ]
    },
    {
      "cell_type": "code",
      "execution_count": 13,
      "metadata": {
        "colab": {
          "base_uri": "https://localhost:8080/"
        },
        "id": "9QG7dR_5-mxu",
        "outputId": "f5046e5e-001e-48c8-a3c2-e89f2c9cbbcc"
      },
      "outputs": [
        {
          "name": "stdout",
          "output_type": "stream",
          "text": [
            "Train shape after splitting: 27813\n",
            "Val shape after splitting: 3571\n",
            "Test shape after splitting: 3616\n",
            "Example of a sample after splitting: sentence, emotion, trigger\n",
            "also I was the point person on my company's transition from the KL-5 to GR-6 system. neutral 0.0\n"
          ]
        }
      ],
      "source": [
        "# Emotions baseline\n",
        "x_train_base, y_train_emotions = splitter(baseline_train, \"emotions\")\n",
        "x_val_base, y_val_emotions = splitter(baseline_val, \"emotions\")\n",
        "x_test_base, y_test_emotions = splitter(baseline_test, \"emotions\")\n",
        "\n",
        "# Triggers baseline\n",
        "_ , y_train_triggers = splitter(baseline_train, \"triggers\")\n",
        "_ , y_val_triggers = splitter(baseline_val, \"triggers\")\n",
        "_ , y_test_triggers = splitter(baseline_test, \"triggers\")\n",
        "\n",
        "print(f\"Train shape after splitting: {len(x_train_base)}\")\n",
        "print(f\"Val shape after splitting: {len(x_val_base)}\")\n",
        "print(f\"Test shape after splitting: {len(x_test_base)}\")\n",
        "\n",
        "print(\"Example of a sample after splitting: sentence, emotion, trigger\")\n",
        "print(x_train_base[0], y_train_emotions[0], y_train_triggers[0])"
      ]
    },
    {
      "cell_type": "markdown",
      "metadata": {},
      "source": [
        "#### BeRT models:"
      ]
    },
    {
      "cell_type": "markdown",
      "metadata": {},
      "source": [
        "Before proceeding with the preprocessing of the data, we inspect the data in order to visualize different aspects of it."
      ]
    },
    {
      "cell_type": "code",
      "execution_count": 14,
      "metadata": {
        "colab": {
          "base_uri": "https://localhost:8080/"
        },
        "id": "gffRztVP-mxw",
        "outputId": "b2b9fb2b-233c-4fcf-c6c3-b0f9a0849b69"
      },
      "outputs": [
        {
          "name": "stdout",
          "output_type": "stream",
          "text": [
            "Max number of sentences: 24\n"
          ]
        },
        {
          "data": {
            "image/png": "[encoded data removed]",
            "text/plain": [
              "<Figure size 2000x1000 with 1 Axes>"
            ]
          },
          "metadata": {},
          "output_type": "display_data"
        }
      ],
      "source": [
        "# get number of sentencese distribution\n",
        "num_sentences = []\n",
        "for index, row in df_train.iterrows():\n",
        "    num_sentences.append(len(row[\"utterances\"]))\n",
        "print(f\"Max number of sentences: {max(num_sentences)}\")\n",
        "\n",
        "# Plot number of sentences distribution\n",
        "plt.figure(figsize=(20,10))\n",
        "plt.hist(num_sentences, bins=100, color=set_color(1))\n",
        "plt.title(\"Number of sentences in a dialogue distribution\")\n",
        "plt.xlabel(\"Number of sentences\")\n",
        "plt.ylabel(\"Number of occurences\")\n",
        "plt.show()"
      ]
    },
    {
      "cell_type": "markdown",
      "metadata": {},
      "source": [
        "This plots show the distribution of the number of sentences per dialogue. We can see that the majority of the dialogues are composed of 10 sentences or less, with a few outliers.\n",
        "\n",
        "This result while not being useful for the models hyperparameters, it is useful to understand the data and the task, more specifically the fact that the dialogues are short and that the models will have to learn from a small number of sentences. Also, the fact that the dialogues are short made us question the usefulness of the context in the task, as the context is usually used to understand the meaning of the sentence, but in this case the sentences are short and the meaning is usually clear from the sentence itself."
      ]
    },
    {
      "cell_type": "markdown",
      "metadata": {},
      "source": [
        "For further tasks we copied the dataframes in order to not modify the original ones."
      ]
    },
    {
      "cell_type": "code",
      "execution_count": 15,
      "metadata": {
        "id": "e3kggk1g-mxw"
      },
      "outputs": [],
      "source": [
        "bert_train = df_train.copy()\n",
        "bert_val = df_val.copy()\n",
        "bert_test = df_test.copy()"
      ]
    },
    {
      "cell_type": "markdown",
      "metadata": {},
      "source": [
        "The first thing we tried was a way to give the model the whole dialogue as we thought that context would be key in helping in the classification task. In order to predict one emotion and trigger at a time we simply repeated the dialogue as many times as the number of sentences in the dialogue, adding the emotion and trigger we were not predicting at the end of the dialogue. This way the model would have the whole dialogue as context and would be able to predict the emotion and trigger for each sentence."
      ]
    },
    {
      "cell_type": "code",
      "execution_count": 16,
      "metadata": {},
      "outputs": [],
      "source": [
        "def splitter_bert_context(df):\n",
        "    columns = [\"utterances\", \"emotions\", \"triggers\", \"dialogue\"]\n",
        "    new_df = pd.DataFrame(columns=columns)\n",
        "    for index in range(df.shape[0]):\n",
        "        for i, _  in enumerate(df.iloc[index][\"utterances\"]):\n",
        "            new_row = pd.DataFrame({\"utterances\": [df.iloc[index][\"utterances\"]], \"emotions\": [df.iloc[index][\"emotions\"][:i+1]], \"triggers\": [df.iloc[index][\"triggers\"][:i+1]], \"dialogue\": [index]} )\n",
        "            new_df = pd.concat([new_df, new_row], ignore_index=True)\n",
        "    return new_df"
      ]
    },
    {
      "cell_type": "code",
      "execution_count": 17,
      "metadata": {},
      "outputs": [
        {
          "name": "stdout",
          "output_type": "stream",
          "text": [
            "Train shape after splitting: (27813, 4)\n",
            "Val shape after splitting: (3571, 4)\n",
            "Test shape after splitting: (3616, 4)\n",
            "-------------------------------------------------------\n",
            "Example of a sample: \n",
            "utterances    [also I was the point person on my company's t...\n",
            "emotions                                     [neutral, neutral]\n",
            "triggers                                             [0.0, 0.0]\n",
            "dialogue                                                      0\n",
            "Name: 1, dtype: object\n"
          ]
        }
      ],
      "source": [
        "bert_train_context = splitter_bert_context(bert_train)\n",
        "bert_val_context = splitter_bert_context(bert_val)\n",
        "bert_test_context = splitter_bert_context(bert_test)\n",
        "print(f\"Train shape after splitting: {bert_train_context.shape}\")\n",
        "print(f\"Val shape after splitting: {bert_val_context.shape}\")\n",
        "print(f\"Test shape after splitting: {bert_test_context.shape}\")\n",
        "print(\"-------------------------------------------------------\")\n",
        "print(\"Example of a sample: \")\n",
        "print(bert_train_context.iloc[1])"
      ]
    },
    {
      "cell_type": "code",
      "execution_count": 18,
      "metadata": {},
      "outputs": [
        {
          "data": {
            "text/html": [
              "<div>\n",
              "<style scoped>\n",
              "    .dataframe tbody tr th:only-of-type {\n",
              "        vertical-align: middle;\n",
              "    }\n",
              "\n",
              "    .dataframe tbody tr th {\n",
              "        vertical-align: top;\n",
              "    }\n",
              "\n",
              "    .dataframe thead th {\n",
              "        text-align: right;\n",
              "    }\n",
              "</style>\n",
              "<table border=\"1\" class=\"dataframe\">\n",
              "  <thead>\n",
              "    <tr style=\"text-align: right;\">\n",
              "      <th></th>\n",
              "      <th>utterances</th>\n",
              "      <th>emotions</th>\n",
              "      <th>triggers</th>\n",
              "      <th>dialogue</th>\n",
              "    </tr>\n",
              "  </thead>\n",
              "  <tbody>\n",
              "    <tr>\n",
              "      <th>0</th>\n",
              "      <td>[also I was the point person on my company's t...</td>\n",
              "      <td>[neutral]</td>\n",
              "      <td>[0.0]</td>\n",
              "      <td>0</td>\n",
              "    </tr>\n",
              "    <tr>\n",
              "      <th>1</th>\n",
              "      <td>[also I was the point person on my company's t...</td>\n",
              "      <td>[neutral, neutral]</td>\n",
              "      <td>[0.0, 0.0]</td>\n",
              "      <td>0</td>\n",
              "    </tr>\n",
              "    <tr>\n",
              "      <th>2</th>\n",
              "      <td>[also I was the point person on my company's t...</td>\n",
              "      <td>[neutral, neutral, neutral]</td>\n",
              "      <td>[0.0, 0.0, 0.0]</td>\n",
              "      <td>0</td>\n",
              "    </tr>\n",
              "    <tr>\n",
              "      <th>3</th>\n",
              "      <td>[also I was the point person on my company's t...</td>\n",
              "      <td>[neutral, neutral, neutral, neutral]</td>\n",
              "      <td>[0.0, 0.0, 0.0, 1.0]</td>\n",
              "      <td>0</td>\n",
              "    </tr>\n",
              "    <tr>\n",
              "      <th>4</th>\n",
              "      <td>[also I was the point person on my company's t...</td>\n",
              "      <td>[neutral, neutral, neutral, neutral, surprise]</td>\n",
              "      <td>[0.0, 0.0, 0.0, 1.0, 0.0]</td>\n",
              "      <td>0</td>\n",
              "    </tr>\n",
              "    <tr>\n",
              "      <th>5</th>\n",
              "      <td>[also I was the point person on my company's t...</td>\n",
              "      <td>[neutral]</td>\n",
              "      <td>[0.0]</td>\n",
              "      <td>1</td>\n",
              "    </tr>\n",
              "    <tr>\n",
              "      <th>6</th>\n",
              "      <td>[also I was the point person on my company's t...</td>\n",
              "      <td>[neutral, neutral]</td>\n",
              "      <td>[0.0, 0.0]</td>\n",
              "      <td>1</td>\n",
              "    </tr>\n",
              "    <tr>\n",
              "      <th>7</th>\n",
              "      <td>[also I was the point person on my company's t...</td>\n",
              "      <td>[neutral, neutral, neutral]</td>\n",
              "      <td>[0.0, 0.0, 0.0]</td>\n",
              "      <td>1</td>\n",
              "    </tr>\n",
              "    <tr>\n",
              "      <th>8</th>\n",
              "      <td>[also I was the point person on my company's t...</td>\n",
              "      <td>[neutral, neutral, neutral, neutral]</td>\n",
              "      <td>[0.0, 0.0, 0.0, 0.0]</td>\n",
              "      <td>1</td>\n",
              "    </tr>\n",
              "    <tr>\n",
              "      <th>9</th>\n",
              "      <td>[also I was the point person on my company's t...</td>\n",
              "      <td>[neutral, neutral, neutral, neutral, surprise]</td>\n",
              "      <td>[0.0, 0.0, 0.0, 0.0, 0.0]</td>\n",
              "      <td>1</td>\n",
              "    </tr>\n",
              "  </tbody>\n",
              "</table>\n",
              "</div>"
            ],
            "text/plain": [
              "                                          utterances  \\\n",
              "0  [also I was the point person on my company's t...   \n",
              "1  [also I was the point person on my company's t...   \n",
              "2  [also I was the point person on my company's t...   \n",
              "3  [also I was the point person on my company's t...   \n",
              "4  [also I was the point person on my company's t...   \n",
              "5  [also I was the point person on my company's t...   \n",
              "6  [also I was the point person on my company's t...   \n",
              "7  [also I was the point person on my company's t...   \n",
              "8  [also I was the point person on my company's t...   \n",
              "9  [also I was the point person on my company's t...   \n",
              "\n",
              "                                         emotions                   triggers  \\\n",
              "0                                       [neutral]                      [0.0]   \n",
              "1                              [neutral, neutral]                 [0.0, 0.0]   \n",
              "2                     [neutral, neutral, neutral]            [0.0, 0.0, 0.0]   \n",
              "3            [neutral, neutral, neutral, neutral]       [0.0, 0.0, 0.0, 1.0]   \n",
              "4  [neutral, neutral, neutral, neutral, surprise]  [0.0, 0.0, 0.0, 1.0, 0.0]   \n",
              "5                                       [neutral]                      [0.0]   \n",
              "6                              [neutral, neutral]                 [0.0, 0.0]   \n",
              "7                     [neutral, neutral, neutral]            [0.0, 0.0, 0.0]   \n",
              "8            [neutral, neutral, neutral, neutral]       [0.0, 0.0, 0.0, 0.0]   \n",
              "9  [neutral, neutral, neutral, neutral, surprise]  [0.0, 0.0, 0.0, 0.0, 0.0]   \n",
              "\n",
              "  dialogue  \n",
              "0        0  \n",
              "1        0  \n",
              "2        0  \n",
              "3        0  \n",
              "4        0  \n",
              "5        1  \n",
              "6        1  \n",
              "7        1  \n",
              "8        1  \n",
              "9        1  "
            ]
          },
          "execution_count": 18,
          "metadata": {},
          "output_type": "execute_result"
        }
      ],
      "source": [
        "bert_train_context.head(10)"
      ]
    },
    {
      "cell_type": "markdown",
      "metadata": {},
      "source": [
        "Another type of model we started to use after testing the \"context\" one was a model that would simply predict the emotion and trigger for each sentence without any context. This model would be useful to understand if the context was actually useful in the task. Here's how we preprocessed the data for this model:"
      ]
    },
    {
      "cell_type": "code",
      "execution_count": 19,
      "metadata": {},
      "outputs": [],
      "source": [
        "def splitter_bert(df):\n",
        "    columns = [\"label\", \"sentence\", \"trigger\", \"dialogue\"]\n",
        "     # split the utteracnes into sentences with their corresponding labels\n",
        "    new_df = pd.DataFrame(columns=columns)\n",
        "    for index, row in df.iterrows():\n",
        "        for i in range(len(row[\"utterances\"])):\n",
        "            # We also split emotions and triggers while adding back the dialogue index which is the same for all the sentences in the same dialogue\n",
        "            new_row = pd.DataFrame({\"label\": [row[\"emotions\"][i]], \"sentence\": [row[\"utterances\"][i]], \"trigger\": [row[\"triggers\"][i]], \"dialogue\": [index]} )\n",
        "            new_df = pd.concat([new_df, new_row], ignore_index=True)\n",
        "    return new_df"
      ]
    },
    {
      "cell_type": "code",
      "execution_count": 20,
      "metadata": {},
      "outputs": [
        {
          "name": "stderr",
          "output_type": "stream",
          "text": [
            "C:\\Users\\alepa\\AppData\\Local\\Temp\\ipykernel_18340\\1202298155.py:9: FutureWarning: The behavior of DataFrame concatenation with empty or all-NA entries is deprecated. In a future version, this will no longer exclude empty or all-NA columns when determining the result dtypes. To retain the old behavior, exclude the relevant entries before the concat operation.\n",
            "  new_df = pd.concat([new_df, new_row], ignore_index=True)\n",
            "C:\\Users\\alepa\\AppData\\Local\\Temp\\ipykernel_18340\\1202298155.py:9: FutureWarning: The behavior of DataFrame concatenation with empty or all-NA entries is deprecated. In a future version, this will no longer exclude empty or all-NA columns when determining the result dtypes. To retain the old behavior, exclude the relevant entries before the concat operation.\n",
            "  new_df = pd.concat([new_df, new_row], ignore_index=True)\n",
            "C:\\Users\\alepa\\AppData\\Local\\Temp\\ipykernel_18340\\1202298155.py:9: FutureWarning: The behavior of DataFrame concatenation with empty or all-NA entries is deprecated. In a future version, this will no longer exclude empty or all-NA columns when determining the result dtypes. To retain the old behavior, exclude the relevant entries before the concat operation.\n",
            "  new_df = pd.concat([new_df, new_row], ignore_index=True)\n"
          ]
        },
        {
          "name": "stdout",
          "output_type": "stream",
          "text": [
            "Shape of train, val and test sets after splitting: \n",
            "Train shape: (27813, 4)\n",
            "Val shape: (3571, 4)\n",
            "Test shape: (3616, 4)\n",
            "-------------------------------------------------------\n",
            "Example of a sample: \n",
            "label                                                 neutral\n",
            "sentence    also I was the point person on my company's tr...\n",
            "trigger                                                   0.0\n",
            "dialogue                                                    0\n",
            "Name: 0, dtype: object\n"
          ]
        }
      ],
      "source": [
        "# split train, val and test sets for BERT\n",
        "bert_train = splitter_bert(bert_train)\n",
        "bert_val = splitter_bert(bert_val)\n",
        "bert_test = splitter_bert(bert_test)\n",
        "print(\"Shape of train, val and test sets after splitting: \")\n",
        "print(f\"Train shape: {bert_train.shape}\")\n",
        "print(f\"Val shape: {bert_val.shape}\")\n",
        "print(f\"Test shape: {bert_test.shape}\")\n",
        "print(\"-------------------------------------------------------\")\n",
        "print(\"Example of a sample: \")\n",
        "print(bert_train.iloc[0])"
      ]
    },
    {
      "cell_type": "code",
      "execution_count": 21,
      "metadata": {},
      "outputs": [
        {
          "data": {
            "text/html": [
              "<div>\n",
              "<style scoped>\n",
              "    .dataframe tbody tr th:only-of-type {\n",
              "        vertical-align: middle;\n",
              "    }\n",
              "\n",
              "    .dataframe tbody tr th {\n",
              "        vertical-align: top;\n",
              "    }\n",
              "\n",
              "    .dataframe thead th {\n",
              "        text-align: right;\n",
              "    }\n",
              "</style>\n",
              "<table border=\"1\" class=\"dataframe\">\n",
              "  <thead>\n",
              "    <tr style=\"text-align: right;\">\n",
              "      <th></th>\n",
              "      <th>label</th>\n",
              "      <th>sentence</th>\n",
              "      <th>trigger</th>\n",
              "      <th>dialogue</th>\n",
              "    </tr>\n",
              "  </thead>\n",
              "  <tbody>\n",
              "    <tr>\n",
              "      <th>0</th>\n",
              "      <td>neutral</td>\n",
              "      <td>also I was the point person on my company's tr...</td>\n",
              "      <td>0.0</td>\n",
              "      <td>0</td>\n",
              "    </tr>\n",
              "    <tr>\n",
              "      <th>1</th>\n",
              "      <td>neutral</td>\n",
              "      <td>You must've had your hands full.</td>\n",
              "      <td>0.0</td>\n",
              "      <td>0</td>\n",
              "    </tr>\n",
              "    <tr>\n",
              "      <th>2</th>\n",
              "      <td>neutral</td>\n",
              "      <td>That I did. That I did.</td>\n",
              "      <td>0.0</td>\n",
              "      <td>0</td>\n",
              "    </tr>\n",
              "    <tr>\n",
              "      <th>3</th>\n",
              "      <td>neutral</td>\n",
              "      <td>So let's talk a little bit about your duties.</td>\n",
              "      <td>1.0</td>\n",
              "      <td>0</td>\n",
              "    </tr>\n",
              "    <tr>\n",
              "      <th>4</th>\n",
              "      <td>surprise</td>\n",
              "      <td>My duties?  All right.</td>\n",
              "      <td>0.0</td>\n",
              "      <td>0</td>\n",
              "    </tr>\n",
              "    <tr>\n",
              "      <th>5</th>\n",
              "      <td>neutral</td>\n",
              "      <td>also I was the point person on my company's tr...</td>\n",
              "      <td>0.0</td>\n",
              "      <td>1</td>\n",
              "    </tr>\n",
              "    <tr>\n",
              "      <th>6</th>\n",
              "      <td>neutral</td>\n",
              "      <td>You must've had your hands full.</td>\n",
              "      <td>0.0</td>\n",
              "      <td>1</td>\n",
              "    </tr>\n",
              "    <tr>\n",
              "      <th>7</th>\n",
              "      <td>neutral</td>\n",
              "      <td>That I did. That I did.</td>\n",
              "      <td>0.0</td>\n",
              "      <td>1</td>\n",
              "    </tr>\n",
              "    <tr>\n",
              "      <th>8</th>\n",
              "      <td>neutral</td>\n",
              "      <td>So let's talk a little bit about your duties.</td>\n",
              "      <td>0.0</td>\n",
              "      <td>1</td>\n",
              "    </tr>\n",
              "    <tr>\n",
              "      <th>9</th>\n",
              "      <td>surprise</td>\n",
              "      <td>My duties?  All right.</td>\n",
              "      <td>0.0</td>\n",
              "      <td>1</td>\n",
              "    </tr>\n",
              "  </tbody>\n",
              "</table>\n",
              "</div>"
            ],
            "text/plain": [
              "      label                                           sentence  trigger  \\\n",
              "0   neutral  also I was the point person on my company's tr...      0.0   \n",
              "1   neutral                   You must've had your hands full.      0.0   \n",
              "2   neutral                            That I did. That I did.      0.0   \n",
              "3   neutral      So let's talk a little bit about your duties.      1.0   \n",
              "4  surprise                             My duties?  All right.      0.0   \n",
              "5   neutral  also I was the point person on my company's tr...      0.0   \n",
              "6   neutral                   You must've had your hands full.      0.0   \n",
              "7   neutral                            That I did. That I did.      0.0   \n",
              "8   neutral      So let's talk a little bit about your duties.      0.0   \n",
              "9  surprise                             My duties?  All right.      0.0   \n",
              "\n",
              "  dialogue  \n",
              "0        0  \n",
              "1        0  \n",
              "2        0  \n",
              "3        0  \n",
              "4        0  \n",
              "5        1  \n",
              "6        1  \n",
              "7        1  \n",
              "8        1  \n",
              "9        1  "
            ]
          },
          "execution_count": 21,
          "metadata": {},
          "output_type": "execute_result"
        }
      ],
      "source": [
        "bert_train.head(10) # show first 10 samples of the train set"
      ]
    },
    {
      "cell_type": "markdown",
      "metadata": {},
      "source": [
        "We create dictionaries to map the one-hot encoded labels to the original labels and vice versa.\n",
        "\n",
        "We also keep track of an integer index for the emotions."
      ]
    },
    {
      "cell_type": "code",
      "execution_count": 22,
      "metadata": {},
      "outputs": [],
      "source": [
        "# one hot encode the emotions\n",
        "emotions_one_hot_dict = {\n",
        "    \"neutral\": [1, 0, 0, 0, 0, 0, 0],\n",
        "    \"joy\": [0, 1, 0, 0, 0, 0, 0],\n",
        "    \"surprise\": [0, 0, 1, 0, 0, 0, 0],\n",
        "    \"sadness\": [0, 0, 0, 1, 0, 0, 0],\n",
        "    \"anger\": [0, 0, 0, 0, 1, 0, 0],\n",
        "    \"disgust\": [0, 0, 0, 0, 0, 1, 0],\n",
        "    \"fear\": [0, 0, 0, 0, 0, 0, 1]\n",
        "}"
      ]
    },
    {
      "cell_type": "code",
      "execution_count": 23,
      "metadata": {},
      "outputs": [],
      "source": [
        "# one hot encode the triggers\n",
        "triggers_one_hot_dict = {\n",
        "    0: [1, 0],\n",
        "    1: [0, 1]\n",
        "}"
      ]
    },
    {
      "cell_type": "code",
      "execution_count": 24,
      "metadata": {},
      "outputs": [],
      "source": [
        "emotion_to_index = {\n",
        "    \"neutral\": 0,\n",
        "    \"joy\": 1,\n",
        "    \"surprise\": 2,\n",
        "    \"sadness\": 3,\n",
        "    \"anger\": 4,\n",
        "    \"disgust\": 5,\n",
        "    \"fear\": 6\n",
        "}"
      ]
    },
    {
      "cell_type": "code",
      "execution_count": 25,
      "metadata": {},
      "outputs": [],
      "source": [
        "index_to_emotion = {\n",
        "    0: \"neutral\",\n",
        "    1: \"joy\",\n",
        "    2: \"surprise\",\n",
        "    3: \"sadness\",\n",
        "    4: \"anger\",\n",
        "    5: \"disgust\",\n",
        "    6: \"fear\"\n",
        "}"
      ]
    },
    {
      "cell_type": "markdown",
      "metadata": {},
      "source": [
        "Now that every utterance is split into sentences, we can proceed by visualizing the distribution of the number of words per sentence."
      ]
    },
    {
      "cell_type": "code",
      "execution_count": 26,
      "metadata": {},
      "outputs": [
        {
          "name": "stdout",
          "output_type": "stream",
          "text": [
            "Max sentence length: 327\n"
          ]
        },
        {
          "data": {
            "image/png": "[encoded data removed]",
            "text/plain": [
              "<Figure size 2000x1000 with 1 Axes>"
            ]
          },
          "metadata": {},
          "output_type": "display_data"
        }
      ],
      "source": [
        "# plot sentence word length distribution\n",
        "sentence_length = []\n",
        "for index, row in bert_train.iterrows():\n",
        "    sentence_length.append(len(row[\"sentence\"]))\n",
        "print(f\"Max sentence length: {max(sentence_length)}\")\n",
        "\n",
        "plt.figure(figsize=(20,10))\n",
        "plt.hist(sentence_length, bins=100, color=set_color(1))\n",
        "plt.title(\"Sentence word length distribution\")\n",
        "plt.xlabel(\"Number of words\")\n",
        "plt.ylabel(\"Number of occurences\")\n",
        "plt.show()"
      ]
    },
    {
      "cell_type": "markdown",
      "metadata": {},
      "source": [
        "As we can see from the plot, the majority of the sentences have a length of 10, wuth a few outliers. This is useful as it helps us decide the maximum length of the padding for the sentences."
      ]
    },
    {
      "cell_type": "markdown",
      "metadata": {},
      "source": [
        "As we use a BeRT uncased model its tokenizer will do all the preprocessing for us, so we do not need to do any preprocessing on the sentences. We need to only define hyperparameters such as the maximum length of the sentences and the batch size."
      ]
    },
    {
      "cell_type": "code",
      "execution_count": 27,
      "metadata": {},
      "outputs": [],
      "source": [
        "#MODEL_NAME = 'bert-base-uncased'\n",
        "#MODEL_NAME = \"prajjwal1/bert-tiny\"\n",
        "MODEL_NAME = \"arpanghoshal/EmoRoBERTa\"\n",
        "\n",
        "MAX_LEN = 360 # To be safe even though the max length is 327\n",
        "BATCH_SIZE = 1 # can be increased if memory allows it\n",
        "EPOCHS = 2 #1 for fast testing\n",
        "LEARNING_RATE = 2e-05\n",
        "OUT_CHANNELS = 768 if \"base\" in MODEL_NAME or \"EmoRoBERTa\" in MODEL_NAME else 128 #128 if \"tiny\" 1024 if \"base\"\n",
        "\n",
        "tokenizer = AutoTokenizer.from_pretrained(MODEL_NAME)"
      ]
    },
    {
      "cell_type": "markdown",
      "metadata": {},
      "source": [
        "BeRT models need custom datasets and dataloaders, so we define them as follows:"
      ]
    },
    {
      "cell_type": "markdown",
      "metadata": {},
      "source": [
        "We also present the code for the custom dataset and dataloader for the BeRT models with context. We tokenize the whole utternace and provide the emotions and triggers we are not predicting concatenated at the end of the utterance. "
      ]
    },
    {
      "cell_type": "code",
      "execution_count": 28,
      "metadata": {},
      "outputs": [],
      "source": [
        "class CustomDatasetContext(Dataset):\n",
        "\n",
        "    def __init__(self, data, tokenizer, max_len, is_test=False):\n",
        "        self.data = data\n",
        "        self.tokenizer = tokenizer\n",
        "        self.max_len = max_len\n",
        "        self.is_test = is_test\n",
        "\n",
        "    def __len__(self):\n",
        "        return len(self.data)\n",
        "    \n",
        "    def __getitem__(self, index):\n",
        "        row = self.data.iloc[index]\n",
        "        utterance = row[\"utterances\"]\n",
        "        emotions = row[\"emotions\"]\n",
        "        triggers = row[\"triggers\"]\n",
        "        dialogue = row[\"dialogue\"]\n",
        "        target_emotion = emotions_one_hot_dict[emotions[-1]]\n",
        "        target_trigger = triggers_one_hot_dict[triggers[-1]]\n",
        "\n",
        "        text = \" \"\n",
        "        for i in range(len(utterance)):\n",
        "            text = text + f\"{utterance[i]}\"\n",
        "\n",
        "        if not self.is_test:\n",
        "            text = text + \" emotions: \"\n",
        "            for i in range(len(emotions)-1):\n",
        "                text = text + f\"{emotions[i]}\"\n",
        "\n",
        "            text = text + \" triggers: \"\n",
        "            for i in range(len(triggers)-1):\n",
        "                text = text + f\"{triggers[i]}\" \n",
        "\n",
        "        encoding = self.tokenizer.encode_plus(\n",
        "            text,\n",
        "            add_special_tokens=True,\n",
        "            max_length=self.max_len,\n",
        "            return_token_type_ids=True,\n",
        "            padding=\"max_length\",\n",
        "            truncation=True,\n",
        "        )\n",
        "\n",
        "        input_ids = encoding[\"input_ids\"]\n",
        "        attention_mask = encoding[\"attention_mask\"]\n",
        "        token_type_ids = encoding[\"token_type_ids\"]\n",
        "\n",
        "        return {\n",
        "            \"input_ids\": torch.tensor(input_ids, dtype=torch.long),\n",
        "            \"attention_mask\": torch.tensor(attention_mask, dtype=torch.long),\n",
        "            \"token_type_ids\": torch.tensor(token_type_ids, dtype=torch.long),\n",
        "            \"target_emotion\": torch.tensor(target_emotion, dtype=torch.float),\n",
        "            \"target_trigger\": torch.tensor(target_trigger, dtype=torch.float),\n",
        "            \"dialogue\": dialogue\n",
        "        }"
      ]
    },
    {
      "cell_type": "code",
      "execution_count": 29,
      "metadata": {},
      "outputs": [],
      "source": [
        "train_dataset_context = CustomDatasetContext(bert_train_context, tokenizer, MAX_LEN)\n",
        "val_dataset_context = CustomDatasetContext(bert_val_context, tokenizer, MAX_LEN, is_test=True)\n",
        "test_dataset_context = CustomDatasetContext(bert_test_context, tokenizer, MAX_LEN, is_test=True)\n",
        "\n",
        "train_loader_context = DataLoader(train_dataset_context, batch_size=BATCH_SIZE, shuffle=True)\n",
        "val_loader_context = DataLoader(val_dataset_context, batch_size=BATCH_SIZE, shuffle=False)\n",
        "test_loader_context = DataLoader(test_dataset_context, batch_size=BATCH_SIZE, shuffle=False)"
      ]
    },
    {
      "cell_type": "markdown",
      "metadata": {},
      "source": [
        "Example of a tokenized and padded sentence:"
      ]
    },
    {
      "cell_type": "code",
      "execution_count": 30,
      "metadata": {},
      "outputs": [
        {
          "data": {
            "text/plain": [
              "{'input_ids': tensor([    0,    67,    38,    21,     5,   477,   621,    15,   127,   138,\n",
              "            18,  3868,    31,     5, 26544,    12,   245,     7,  8837,    12,\n",
              "           401,   467,     4,  1185,   531,   348,    56,   110,  1420,   455,\n",
              "             4,  1711,    38,   222,     4,   280,    38,   222,     4,  2847,\n",
              "           905,    18,  1067,    10,   410,   828,    59,   110,  5941,     4,\n",
              "          2387,  5941,   116,  1437,   404,   235,     4,  8597,    35,  1437,\n",
              "         23476,    35,  1437,     2,     1,     1,     1,     1,     1,     1,\n",
              "             1,     1,     1,     1,     1,     1,     1,     1,     1,     1,\n",
              "             1,     1,     1,     1,     1,     1,     1,     1,     1,     1,\n",
              "             1,     1,     1,     1,     1,     1,     1,     1,     1,     1,\n",
              "             1,     1,     1,     1,     1,     1,     1,     1,     1,     1,\n",
              "             1,     1,     1,     1,     1,     1,     1,     1,     1,     1,\n",
              "             1,     1,     1,     1,     1,     1,     1,     1,     1,     1,\n",
              "             1,     1,     1,     1,     1,     1,     1,     1,     1,     1,\n",
              "             1,     1,     1,     1,     1,     1,     1,     1,     1,     1,\n",
              "             1,     1,     1,     1,     1,     1,     1,     1,     1,     1,\n",
              "             1,     1,     1,     1,     1,     1,     1,     1,     1,     1,\n",
              "             1,     1,     1,     1,     1,     1,     1,     1,     1,     1,\n",
              "             1,     1,     1,     1,     1,     1,     1,     1,     1,     1,\n",
              "             1,     1,     1,     1,     1,     1,     1,     1,     1,     1,\n",
              "             1,     1,     1,     1,     1,     1,     1,     1,     1,     1,\n",
              "             1,     1,     1,     1,     1,     1,     1,     1,     1,     1,\n",
              "             1,     1,     1,     1,     1,     1,     1,     1,     1,     1,\n",
              "             1,     1,     1,     1,     1,     1,     1,     1,     1,     1,\n",
              "             1,     1,     1,     1,     1,     1,     1,     1,     1,     1,\n",
              "             1,     1,     1,     1,     1,     1,     1,     1,     1,     1,\n",
              "             1,     1,     1,     1,     1,     1,     1,     1,     1,     1,\n",
              "             1,     1,     1,     1,     1,     1,     1,     1,     1,     1,\n",
              "             1,     1,     1,     1,     1,     1,     1,     1,     1,     1,\n",
              "             1,     1,     1,     1,     1,     1,     1,     1,     1,     1,\n",
              "             1,     1,     1,     1,     1,     1,     1,     1,     1,     1,\n",
              "             1,     1,     1,     1,     1,     1,     1,     1,     1,     1,\n",
              "             1,     1,     1,     1,     1,     1,     1,     1,     1,     1,\n",
              "             1,     1,     1,     1,     1,     1,     1,     1,     1,     1,\n",
              "             1,     1,     1,     1,     1,     1,     1,     1,     1,     1,\n",
              "             1,     1,     1,     1,     1,     1,     1,     1,     1,     1]),\n",
              " 'attention_mask': tensor([1, 1, 1, 1, 1, 1, 1, 1, 1, 1, 1, 1, 1, 1, 1, 1, 1, 1, 1, 1, 1, 1, 1, 1,\n",
              "         1, 1, 1, 1, 1, 1, 1, 1, 1, 1, 1, 1, 1, 1, 1, 1, 1, 1, 1, 1, 1, 1, 1, 1,\n",
              "         1, 1, 1, 1, 1, 1, 1, 1, 1, 1, 1, 1, 1, 1, 1, 1, 0, 0, 0, 0, 0, 0, 0, 0,\n",
              "         0, 0, 0, 0, 0, 0, 0, 0, 0, 0, 0, 0, 0, 0, 0, 0, 0, 0, 0, 0, 0, 0, 0, 0,\n",
              "         0, 0, 0, 0, 0, 0, 0, 0, 0, 0, 0, 0, 0, 0, 0, 0, 0, 0, 0, 0, 0, 0, 0, 0,\n",
              "         0, 0, 0, 0, 0, 0, 0, 0, 0, 0, 0, 0, 0, 0, 0, 0, 0, 0, 0, 0, 0, 0, 0, 0,\n",
              "         0, 0, 0, 0, 0, 0, 0, 0, 0, 0, 0, 0, 0, 0, 0, 0, 0, 0, 0, 0, 0, 0, 0, 0,\n",
              "         0, 0, 0, 0, 0, 0, 0, 0, 0, 0, 0, 0, 0, 0, 0, 0, 0, 0, 0, 0, 0, 0, 0, 0,\n",
              "         0, 0, 0, 0, 0, 0, 0, 0, 0, 0, 0, 0, 0, 0, 0, 0, 0, 0, 0, 0, 0, 0, 0, 0,\n",
              "         0, 0, 0, 0, 0, 0, 0, 0, 0, 0, 0, 0, 0, 0, 0, 0, 0, 0, 0, 0, 0, 0, 0, 0,\n",
              "         0, 0, 0, 0, 0, 0, 0, 0, 0, 0, 0, 0, 0, 0, 0, 0, 0, 0, 0, 0, 0, 0, 0, 0,\n",
              "         0, 0, 0, 0, 0, 0, 0, 0, 0, 0, 0, 0, 0, 0, 0, 0, 0, 0, 0, 0, 0, 0, 0, 0,\n",
              "         0, 0, 0, 0, 0, 0, 0, 0, 0, 0, 0, 0, 0, 0, 0, 0, 0, 0, 0, 0, 0, 0, 0, 0,\n",
              "         0, 0, 0, 0, 0, 0, 0, 0, 0, 0, 0, 0, 0, 0, 0, 0, 0, 0, 0, 0, 0, 0, 0, 0,\n",
              "         0, 0, 0, 0, 0, 0, 0, 0, 0, 0, 0, 0, 0, 0, 0, 0, 0, 0, 0, 0, 0, 0, 0, 0]),\n",
              " 'token_type_ids': tensor([0, 0, 0, 0, 0, 0, 0, 0, 0, 0, 0, 0, 0, 0, 0, 0, 0, 0, 0, 0, 0, 0, 0, 0,\n",
              "         0, 0, 0, 0, 0, 0, 0, 0, 0, 0, 0, 0, 0, 0, 0, 0, 0, 0, 0, 0, 0, 0, 0, 0,\n",
              "         0, 0, 0, 0, 0, 0, 0, 0, 0, 0, 0, 0, 0, 0, 0, 0, 0, 0, 0, 0, 0, 0, 0, 0,\n",
              "         0, 0, 0, 0, 0, 0, 0, 0, 0, 0, 0, 0, 0, 0, 0, 0, 0, 0, 0, 0, 0, 0, 0, 0,\n",
              "         0, 0, 0, 0, 0, 0, 0, 0, 0, 0, 0, 0, 0, 0, 0, 0, 0, 0, 0, 0, 0, 0, 0, 0,\n",
              "         0, 0, 0, 0, 0, 0, 0, 0, 0, 0, 0, 0, 0, 0, 0, 0, 0, 0, 0, 0, 0, 0, 0, 0,\n",
              "         0, 0, 0, 0, 0, 0, 0, 0, 0, 0, 0, 0, 0, 0, 0, 0, 0, 0, 0, 0, 0, 0, 0, 0,\n",
              "         0, 0, 0, 0, 0, 0, 0, 0, 0, 0, 0, 0, 0, 0, 0, 0, 0, 0, 0, 0, 0, 0, 0, 0,\n",
              "         0, 0, 0, 0, 0, 0, 0, 0, 0, 0, 0, 0, 0, 0, 0, 0, 0, 0, 0, 0, 0, 0, 0, 0,\n",
              "         0, 0, 0, 0, 0, 0, 0, 0, 0, 0, 0, 0, 0, 0, 0, 0, 0, 0, 0, 0, 0, 0, 0, 0,\n",
              "         0, 0, 0, 0, 0, 0, 0, 0, 0, 0, 0, 0, 0, 0, 0, 0, 0, 0, 0, 0, 0, 0, 0, 0,\n",
              "         0, 0, 0, 0, 0, 0, 0, 0, 0, 0, 0, 0, 0, 0, 0, 0, 0, 0, 0, 0, 0, 0, 0, 0,\n",
              "         0, 0, 0, 0, 0, 0, 0, 0, 0, 0, 0, 0, 0, 0, 0, 0, 0, 0, 0, 0, 0, 0, 0, 0,\n",
              "         0, 0, 0, 0, 0, 0, 0, 0, 0, 0, 0, 0, 0, 0, 0, 0, 0, 0, 0, 0, 0, 0, 0, 0,\n",
              "         0, 0, 0, 0, 0, 0, 0, 0, 0, 0, 0, 0, 0, 0, 0, 0, 0, 0, 0, 0, 0, 0, 0, 0]),\n",
              " 'target_emotion': tensor([1., 0., 0., 0., 0., 0., 0.]),\n",
              " 'target_trigger': tensor([1., 0.]),\n",
              " 'dialogue': 0}"
            ]
          },
          "execution_count": 30,
          "metadata": {},
          "output_type": "execute_result"
        }
      ],
      "source": [
        "train_dataset_context[0]"
      ]
    },
    {
      "cell_type": "markdown",
      "metadata": {},
      "source": [
        "For the dataset we tokenize the sentences and pad them to the maximum length while also passing the target emotion and trigger label one-hot encoded.\n",
        "\n",
        "Dialogue index is also returned as it is needed for the evaluation phase.\n",
        "\n",
        "This dataset is used for the model without context."
      ]
    },
    {
      "cell_type": "code",
      "execution_count": 31,
      "metadata": {},
      "outputs": [],
      "source": [
        "class CustomDataset(Dataset):\n",
        "\n",
        "    def __init__(self, data, tokenizer, max_len):\n",
        "        self.tokenizer = tokenizer\n",
        "        self.data = data\n",
        "        self.text = data.sentence\n",
        "        self.emotions = data.label\n",
        "        self.max_len = max_len\n",
        "        self.triggers = data.trigger\n",
        "        self.dialogue = data.dialogue\n",
        "\n",
        "    def __len__(self):\n",
        "        return len(self.text)\n",
        "\n",
        "    def __getitem__(self, index):\n",
        "        row = self.data.iloc[index]\n",
        "        #speakers = row[\"speakers\"]\n",
        "        text = row[\"sentence\"]\n",
        "        emotions = row[\"label\"]\n",
        "        trigger = row[\"trigger\"]\n",
        "        dialogue = row[\"dialogue\"]\n",
        "        target_emotion = emotions_one_hot_dict[emotions] #+ [triggers[-1]] # trigger is float while emotions are one hot encoded but as integers IN CASE OF ERROR CHECK THIS\n",
        "        target_trigger = triggers_one_hot_dict[trigger]\n",
        "\n",
        "\n",
        "        inputs = self.tokenizer.encode_plus(\n",
        "            text,\n",
        "            add_special_tokens=True,\n",
        "            max_length=self.max_len,\n",
        "            return_token_type_ids=True,\n",
        "            padding='max_length',\n",
        "            truncation=True,\n",
        "        )\n",
        "\n",
        "        ids = inputs['input_ids']\n",
        "        mask = inputs['attention_mask']\n",
        "        token_type_ids = inputs[\"token_type_ids\"]\n",
        "\n",
        "        return {\n",
        "            'input_ids': torch.tensor(ids, dtype=torch.long),\n",
        "            'attention_mask': torch.tensor(mask, dtype=torch.long),\n",
        "            'token_type_ids': torch.tensor(token_type_ids, dtype=torch.long),\n",
        "            'label': torch.tensor(target_emotion, dtype=torch.float),\n",
        "            'trigger': torch.tensor(target_trigger, dtype=torch.float),\n",
        "            'dialogue': dialogue\n",
        "        }"
      ]
    },
    {
      "cell_type": "markdown",
      "metadata": {},
      "source": [
        "For the dataloader we simply use the default one."
      ]
    },
    {
      "cell_type": "code",
      "execution_count": 32,
      "metadata": {},
      "outputs": [],
      "source": [
        "train_dataset = CustomDataset(bert_train, tokenizer, MAX_LEN)\n",
        "val_dataset = CustomDataset(bert_val, tokenizer, MAX_LEN)\n",
        "test_dataset = CustomDataset(bert_test, tokenizer, MAX_LEN)\n",
        "\n",
        "# Definiition of the Dataloader that will feed the data in batches to the neural network for suitable training and processing.\n",
        "training_loader = DataLoader(train_dataset, batch_size=BATCH_SIZE)\n",
        "val_loader = DataLoader(val_dataset, batch_size=BATCH_SIZE)\n",
        "test_loader = DataLoader(test_dataset, batch_size=BATCH_SIZE)"
      ]
    },
    {
      "cell_type": "markdown",
      "metadata": {},
      "source": [
        "Example of a tokenized and padded sentence:"
      ]
    },
    {
      "cell_type": "code",
      "execution_count": 33,
      "metadata": {},
      "outputs": [
        {
          "data": {
            "text/plain": [
              "{'input_ids': tensor([    0, 19726,    38,    21,     5,   477,   621,    15,   127,   138,\n",
              "            18,  3868,    31,     5, 26544,    12,   245,     7,  8837,    12,\n",
              "           401,   467,     4,     2,     1,     1,     1,     1,     1,     1,\n",
              "             1,     1,     1,     1,     1,     1,     1,     1,     1,     1,\n",
              "             1,     1,     1,     1,     1,     1,     1,     1,     1,     1,\n",
              "             1,     1,     1,     1,     1,     1,     1,     1,     1,     1,\n",
              "             1,     1,     1,     1,     1,     1,     1,     1,     1,     1,\n",
              "             1,     1,     1,     1,     1,     1,     1,     1,     1,     1,\n",
              "             1,     1,     1,     1,     1,     1,     1,     1,     1,     1,\n",
              "             1,     1,     1,     1,     1,     1,     1,     1,     1,     1,\n",
              "             1,     1,     1,     1,     1,     1,     1,     1,     1,     1,\n",
              "             1,     1,     1,     1,     1,     1,     1,     1,     1,     1,\n",
              "             1,     1,     1,     1,     1,     1,     1,     1,     1,     1,\n",
              "             1,     1,     1,     1,     1,     1,     1,     1,     1,     1,\n",
              "             1,     1,     1,     1,     1,     1,     1,     1,     1,     1,\n",
              "             1,     1,     1,     1,     1,     1,     1,     1,     1,     1,\n",
              "             1,     1,     1,     1,     1,     1,     1,     1,     1,     1,\n",
              "             1,     1,     1,     1,     1,     1,     1,     1,     1,     1,\n",
              "             1,     1,     1,     1,     1,     1,     1,     1,     1,     1,\n",
              "             1,     1,     1,     1,     1,     1,     1,     1,     1,     1,\n",
              "             1,     1,     1,     1,     1,     1,     1,     1,     1,     1,\n",
              "             1,     1,     1,     1,     1,     1,     1,     1,     1,     1,\n",
              "             1,     1,     1,     1,     1,     1,     1,     1,     1,     1,\n",
              "             1,     1,     1,     1,     1,     1,     1,     1,     1,     1,\n",
              "             1,     1,     1,     1,     1,     1,     1,     1,     1,     1,\n",
              "             1,     1,     1,     1,     1,     1,     1,     1,     1,     1,\n",
              "             1,     1,     1,     1,     1,     1,     1,     1,     1,     1,\n",
              "             1,     1,     1,     1,     1,     1,     1,     1,     1,     1,\n",
              "             1,     1,     1,     1,     1,     1,     1,     1,     1,     1,\n",
              "             1,     1,     1,     1,     1,     1,     1,     1,     1,     1,\n",
              "             1,     1,     1,     1,     1,     1,     1,     1,     1,     1,\n",
              "             1,     1,     1,     1,     1,     1,     1,     1,     1,     1,\n",
              "             1,     1,     1,     1,     1,     1,     1,     1,     1,     1,\n",
              "             1,     1,     1,     1,     1,     1,     1,     1,     1,     1,\n",
              "             1,     1,     1,     1,     1,     1,     1,     1,     1,     1,\n",
              "             1,     1,     1,     1,     1,     1,     1,     1,     1,     1]),\n",
              " 'attention_mask': tensor([1, 1, 1, 1, 1, 1, 1, 1, 1, 1, 1, 1, 1, 1, 1, 1, 1, 1, 1, 1, 1, 1, 1, 1,\n",
              "         0, 0, 0, 0, 0, 0, 0, 0, 0, 0, 0, 0, 0, 0, 0, 0, 0, 0, 0, 0, 0, 0, 0, 0,\n",
              "         0, 0, 0, 0, 0, 0, 0, 0, 0, 0, 0, 0, 0, 0, 0, 0, 0, 0, 0, 0, 0, 0, 0, 0,\n",
              "         0, 0, 0, 0, 0, 0, 0, 0, 0, 0, 0, 0, 0, 0, 0, 0, 0, 0, 0, 0, 0, 0, 0, 0,\n",
              "         0, 0, 0, 0, 0, 0, 0, 0, 0, 0, 0, 0, 0, 0, 0, 0, 0, 0, 0, 0, 0, 0, 0, 0,\n",
              "         0, 0, 0, 0, 0, 0, 0, 0, 0, 0, 0, 0, 0, 0, 0, 0, 0, 0, 0, 0, 0, 0, 0, 0,\n",
              "         0, 0, 0, 0, 0, 0, 0, 0, 0, 0, 0, 0, 0, 0, 0, 0, 0, 0, 0, 0, 0, 0, 0, 0,\n",
              "         0, 0, 0, 0, 0, 0, 0, 0, 0, 0, 0, 0, 0, 0, 0, 0, 0, 0, 0, 0, 0, 0, 0, 0,\n",
              "         0, 0, 0, 0, 0, 0, 0, 0, 0, 0, 0, 0, 0, 0, 0, 0, 0, 0, 0, 0, 0, 0, 0, 0,\n",
              "         0, 0, 0, 0, 0, 0, 0, 0, 0, 0, 0, 0, 0, 0, 0, 0, 0, 0, 0, 0, 0, 0, 0, 0,\n",
              "         0, 0, 0, 0, 0, 0, 0, 0, 0, 0, 0, 0, 0, 0, 0, 0, 0, 0, 0, 0, 0, 0, 0, 0,\n",
              "         0, 0, 0, 0, 0, 0, 0, 0, 0, 0, 0, 0, 0, 0, 0, 0, 0, 0, 0, 0, 0, 0, 0, 0,\n",
              "         0, 0, 0, 0, 0, 0, 0, 0, 0, 0, 0, 0, 0, 0, 0, 0, 0, 0, 0, 0, 0, 0, 0, 0,\n",
              "         0, 0, 0, 0, 0, 0, 0, 0, 0, 0, 0, 0, 0, 0, 0, 0, 0, 0, 0, 0, 0, 0, 0, 0,\n",
              "         0, 0, 0, 0, 0, 0, 0, 0, 0, 0, 0, 0, 0, 0, 0, 0, 0, 0, 0, 0, 0, 0, 0, 0]),\n",
              " 'token_type_ids': tensor([0, 0, 0, 0, 0, 0, 0, 0, 0, 0, 0, 0, 0, 0, 0, 0, 0, 0, 0, 0, 0, 0, 0, 0,\n",
              "         0, 0, 0, 0, 0, 0, 0, 0, 0, 0, 0, 0, 0, 0, 0, 0, 0, 0, 0, 0, 0, 0, 0, 0,\n",
              "         0, 0, 0, 0, 0, 0, 0, 0, 0, 0, 0, 0, 0, 0, 0, 0, 0, 0, 0, 0, 0, 0, 0, 0,\n",
              "         0, 0, 0, 0, 0, 0, 0, 0, 0, 0, 0, 0, 0, 0, 0, 0, 0, 0, 0, 0, 0, 0, 0, 0,\n",
              "         0, 0, 0, 0, 0, 0, 0, 0, 0, 0, 0, 0, 0, 0, 0, 0, 0, 0, 0, 0, 0, 0, 0, 0,\n",
              "         0, 0, 0, 0, 0, 0, 0, 0, 0, 0, 0, 0, 0, 0, 0, 0, 0, 0, 0, 0, 0, 0, 0, 0,\n",
              "         0, 0, 0, 0, 0, 0, 0, 0, 0, 0, 0, 0, 0, 0, 0, 0, 0, 0, 0, 0, 0, 0, 0, 0,\n",
              "         0, 0, 0, 0, 0, 0, 0, 0, 0, 0, 0, 0, 0, 0, 0, 0, 0, 0, 0, 0, 0, 0, 0, 0,\n",
              "         0, 0, 0, 0, 0, 0, 0, 0, 0, 0, 0, 0, 0, 0, 0, 0, 0, 0, 0, 0, 0, 0, 0, 0,\n",
              "         0, 0, 0, 0, 0, 0, 0, 0, 0, 0, 0, 0, 0, 0, 0, 0, 0, 0, 0, 0, 0, 0, 0, 0,\n",
              "         0, 0, 0, 0, 0, 0, 0, 0, 0, 0, 0, 0, 0, 0, 0, 0, 0, 0, 0, 0, 0, 0, 0, 0,\n",
              "         0, 0, 0, 0, 0, 0, 0, 0, 0, 0, 0, 0, 0, 0, 0, 0, 0, 0, 0, 0, 0, 0, 0, 0,\n",
              "         0, 0, 0, 0, 0, 0, 0, 0, 0, 0, 0, 0, 0, 0, 0, 0, 0, 0, 0, 0, 0, 0, 0, 0,\n",
              "         0, 0, 0, 0, 0, 0, 0, 0, 0, 0, 0, 0, 0, 0, 0, 0, 0, 0, 0, 0, 0, 0, 0, 0,\n",
              "         0, 0, 0, 0, 0, 0, 0, 0, 0, 0, 0, 0, 0, 0, 0, 0, 0, 0, 0, 0, 0, 0, 0, 0]),\n",
              " 'label': tensor([1., 0., 0., 0., 0., 0., 0.]),\n",
              " 'trigger': tensor([1., 0.]),\n",
              " 'dialogue': 0}"
            ]
          },
          "execution_count": 33,
          "metadata": {},
          "output_type": "execute_result"
        }
      ],
      "source": [
        "train_dataset[0]"
      ]
    },
    {
      "cell_type": "markdown",
      "metadata": {},
      "source": [
        "## Model definitions:\n",
        "\n",
        "\n",
        "As we present two different macro type of models, we will define the models in two different ways. For the baseline models we simply use dummy classifiers with random uniform and majority strategies. For the BeRT models we use the BeRT architecture with an additional multihead classifier layers."
      ]
    },
    {
      "cell_type": "markdown",
      "metadata": {
        "id": "3ishbbG6-mxv"
      },
      "source": [
        "Defining the dummy classifier for emotions and triggers:"
      ]
    },
    {
      "cell_type": "code",
      "execution_count": 34,
      "metadata": {
        "id": "r_GP91pL-mxv"
      },
      "outputs": [],
      "source": [
        "dummy_clf_majority_emotions = DummyClassifier(strategy=\"most_frequent\")\n",
        "dummy_clf_random_emotions = DummyClassifier(strategy=\"uniform\")\n",
        "\n",
        "dummy_clf_majority_triggers = DummyClassifier(strategy=\"most_frequent\")\n",
        "dummy_clf_random_triggers = DummyClassifier(strategy=\"uniform\")"
      ]
    },
    {
      "cell_type": "markdown",
      "metadata": {},
      "source": [
        "Defining the BeRT model for emotions and triggers:\n",
        "\n",
        "The model is simply composed by BeRT, which functions as an encoder, and a multihead classifier. We decided on multihead classifier as it is a simple and effective way to classify the emotions and triggers separately, as the two tasks are related but not the same. (Previous trials with a single classifier for both tasks did not yield good results)\n",
        "\n",
        "The two classifiers are composed by a dropout layer, to avoid overfitting, and a linear layer in order to classify the emotions and triggers."
      ]
    },
    {
      "cell_type": "code",
      "execution_count": 35,
      "metadata": {},
      "outputs": [],
      "source": [
        "class BERTClass(torch.nn.Module):\n",
        "    def __init__(self,model):\n",
        "        super(BERTClass, self).__init__()\n",
        "        self.l1 = transformers.AutoModel.from_pretrained(model, return_dict=False, from_tf=True)\n",
        "        # Emotions\n",
        "        self.l2 = torch.nn.Dropout(p=0.3)\n",
        "        self.l3 = torch.nn.Linear(OUT_CHANNELS, 7)\n",
        "        # Triggers\n",
        "        self.l4 = torch.nn.Dropout(p=0.3)\n",
        "        self.l5 = torch.nn.Linear(OUT_CHANNELS, 2)\n",
        "\n",
        "    def forward(self, ids, mask, token_type_ids):\n",
        "        _, output_1= self.l1(ids, attention_mask = mask, token_type_ids = token_type_ids)\n",
        "        output_emotions = self.l2(output_1)\n",
        "        output_emotions = self.l3(output_emotions)\n",
        "        output_trigger = self.l4(output_1)\n",
        "        output_trigger = self.l5(output_trigger)\n",
        "        return output_emotions, output_trigger"
      ]
    },
    {
      "cell_type": "markdown",
      "metadata": {},
      "source": [
        "We instantiate a different model for the context dataset in order to compare the results further on."
      ]
    },
    {
      "cell_type": "code",
      "execution_count": 36,
      "metadata": {},
      "outputs": [
        {
          "name": "stderr",
          "output_type": "stream",
          "text": [
            "All TF 2.0 model weights were used when initializing RobertaModel.\n",
            "\n",
            "All the weights of RobertaModel were initialized from the TF 2.0 model.\n",
            "If your task is similar to the task the model of the checkpoint was trained on, you can already use RobertaModel for predictions without further training.\n"
          ]
        },
        {
          "data": {
            "text/plain": [
              "BERTClass(\n",
              "  (l1): RobertaModel(\n",
              "    (embeddings): RobertaEmbeddings(\n",
              "      (word_embeddings): Embedding(50265, 768, padding_idx=1)\n",
              "      (position_embeddings): Embedding(514, 768, padding_idx=1)\n",
              "      (token_type_embeddings): Embedding(1, 768)\n",
              "      (LayerNorm): LayerNorm((768,), eps=1e-05, elementwise_affine=True)\n",
              "      (dropout): Dropout(p=0.1, inplace=False)\n",
              "    )\n",
              "    (encoder): RobertaEncoder(\n",
              "      (layer): ModuleList(\n",
              "        (0-11): 12 x RobertaLayer(\n",
              "          (attention): RobertaAttention(\n",
              "            (self): RobertaSelfAttention(\n",
              "              (query): Linear(in_features=768, out_features=768, bias=True)\n",
              "              (key): Linear(in_features=768, out_features=768, bias=True)\n",
              "              (value): Linear(in_features=768, out_features=768, bias=True)\n",
              "              (dropout): Dropout(p=0.1, inplace=False)\n",
              "            )\n",
              "            (output): RobertaSelfOutput(\n",
              "              (dense): Linear(in_features=768, out_features=768, bias=True)\n",
              "              (LayerNorm): LayerNorm((768,), eps=1e-05, elementwise_affine=True)\n",
              "              (dropout): Dropout(p=0.1, inplace=False)\n",
              "            )\n",
              "          )\n",
              "          (intermediate): RobertaIntermediate(\n",
              "            (dense): Linear(in_features=768, out_features=3072, bias=True)\n",
              "            (intermediate_act_fn): GELUActivation()\n",
              "          )\n",
              "          (output): RobertaOutput(\n",
              "            (dense): Linear(in_features=3072, out_features=768, bias=True)\n",
              "            (LayerNorm): LayerNorm((768,), eps=1e-05, elementwise_affine=True)\n",
              "            (dropout): Dropout(p=0.1, inplace=False)\n",
              "          )\n",
              "        )\n",
              "      )\n",
              "    )\n",
              "    (pooler): RobertaPooler(\n",
              "      (dense): Linear(in_features=768, out_features=768, bias=True)\n",
              "      (activation): Tanh()\n",
              "    )\n",
              "  )\n",
              "  (l2): Dropout(p=0.3, inplace=False)\n",
              "  (l3): Linear(in_features=768, out_features=7, bias=True)\n",
              "  (l4): Dropout(p=0.3, inplace=False)\n",
              "  (l5): Linear(in_features=768, out_features=2, bias=True)\n",
              ")"
            ]
          },
          "execution_count": 36,
          "metadata": {},
          "output_type": "execute_result"
        }
      ],
      "source": [
        "model_context = BERTClass(MODEL_NAME)\n",
        "model_context.to(device)"
      ]
    },
    {
      "cell_type": "markdown",
      "metadata": {},
      "source": [
        "In order to use the \"Frozen\" model we simply freeze the BeRT encoder and train only the multihead classifier."
      ]
    },
    {
      "cell_type": "code",
      "execution_count": 37,
      "metadata": {},
      "outputs": [
        {
          "name": "stderr",
          "output_type": "stream",
          "text": [
            "All TF 2.0 model weights were used when initializing RobertaModel.\n",
            "\n",
            "All the weights of RobertaModel were initialized from the TF 2.0 model.\n",
            "If your task is similar to the task the model of the checkpoint was trained on, you can already use RobertaModel for predictions without further training.\n"
          ]
        },
        {
          "data": {
            "text/plain": [
              "BERTClass(\n",
              "  (l1): RobertaModel(\n",
              "    (embeddings): RobertaEmbeddings(\n",
              "      (word_embeddings): Embedding(50265, 768, padding_idx=1)\n",
              "      (position_embeddings): Embedding(514, 768, padding_idx=1)\n",
              "      (token_type_embeddings): Embedding(1, 768)\n",
              "      (LayerNorm): LayerNorm((768,), eps=1e-05, elementwise_affine=True)\n",
              "      (dropout): Dropout(p=0.1, inplace=False)\n",
              "    )\n",
              "    (encoder): RobertaEncoder(\n",
              "      (layer): ModuleList(\n",
              "        (0-11): 12 x RobertaLayer(\n",
              "          (attention): RobertaAttention(\n",
              "            (self): RobertaSelfAttention(\n",
              "              (query): Linear(in_features=768, out_features=768, bias=True)\n",
              "              (key): Linear(in_features=768, out_features=768, bias=True)\n",
              "              (value): Linear(in_features=768, out_features=768, bias=True)\n",
              "              (dropout): Dropout(p=0.1, inplace=False)\n",
              "            )\n",
              "            (output): RobertaSelfOutput(\n",
              "              (dense): Linear(in_features=768, out_features=768, bias=True)\n",
              "              (LayerNorm): LayerNorm((768,), eps=1e-05, elementwise_affine=True)\n",
              "              (dropout): Dropout(p=0.1, inplace=False)\n",
              "            )\n",
              "          )\n",
              "          (intermediate): RobertaIntermediate(\n",
              "            (dense): Linear(in_features=768, out_features=3072, bias=True)\n",
              "            (intermediate_act_fn): GELUActivation()\n",
              "          )\n",
              "          (output): RobertaOutput(\n",
              "            (dense): Linear(in_features=3072, out_features=768, bias=True)\n",
              "            (LayerNorm): LayerNorm((768,), eps=1e-05, elementwise_affine=True)\n",
              "            (dropout): Dropout(p=0.1, inplace=False)\n",
              "          )\n",
              "        )\n",
              "      )\n",
              "    )\n",
              "    (pooler): RobertaPooler(\n",
              "      (dense): Linear(in_features=768, out_features=768, bias=True)\n",
              "      (activation): Tanh()\n",
              "    )\n",
              "  )\n",
              "  (l2): Dropout(p=0.3, inplace=False)\n",
              "  (l3): Linear(in_features=768, out_features=7, bias=True)\n",
              "  (l4): Dropout(p=0.3, inplace=False)\n",
              "  (l5): Linear(in_features=768, out_features=2, bias=True)\n",
              ")"
            ]
          },
          "execution_count": 37,
          "metadata": {},
          "output_type": "execute_result"
        }
      ],
      "source": [
        "model = BERTClass(MODEL_NAME)\n",
        "\n",
        "# FROZEN BERT\n",
        "for name, param in model.named_parameters():\n",
        "     if name.startswith(\"l1\"): # choose whatever you like here\n",
        "        param.requires_grad = False\n",
        "\n",
        "model.to(device)"
      ]
    },
    {
      "cell_type": "markdown",
      "metadata": {},
      "source": [
        "## Evaluation metrics:\n",
        "\n",
        "Here we define the evaluation metrics used for the models."
      ]
    },
    {
      "cell_type": "markdown",
      "metadata": {},
      "source": [
        "### Baseline models:"
      ]
    },
    {
      "cell_type": "markdown",
      "metadata": {
        "id": "lJsm3qId-mxv"
      },
      "source": [
        "Evaluation function that returns the classification report:"
      ]
    },
    {
      "cell_type": "code",
      "execution_count": 38,
      "metadata": {
        "id": "835ywCQu-mxv"
      },
      "outputs": [],
      "source": [
        "def evaluate(Y_test, Y_pred):\n",
        "    report = classification_report(Y_test, Y_pred, zero_division=0)\n",
        "    return report"
      ]
    },
    {
      "cell_type": "markdown",
      "metadata": {},
      "source": [
        "### BeRT models:"
      ]
    },
    {
      "cell_type": "markdown",
      "metadata": {},
      "source": [
        "In order to evaluate the BeRT models we use the same metrics as the baseline models, mainly focusing on the weighted average F1 score.\n",
        "\n",
        "One difference is that we also try to rebalance the classes by using the class weights in the loss function. This is done in order to see if the models can learn better from the data and thus improve the results."
      ]
    },
    {
      "cell_type": "markdown",
      "metadata": {},
      "source": [
        "We do this for both the emotions and the triggers."
      ]
    },
    {
      "cell_type": "code",
      "execution_count": 39,
      "metadata": {},
      "outputs": [
        {
          "name": "stdout",
          "output_type": "stream",
          "text": [
            "Class weights: [1.31348288 4.86922269 4.3329179  0.77557793 0.32493341 2.0597645\n",
            " 1.05252602]\n"
          ]
        }
      ],
      "source": [
        "#compute class weights based on distribution of classes in training set\n",
        "y_train = []\n",
        "for index, row in df_train.iterrows():\n",
        "    for i in range(len(row[\"utterances\"])):\n",
        "        y_train.append(row[\"emotions\"][i])\n",
        "class_weights_emotions = class_weight.compute_class_weight(class_weight='balanced', classes=np.unique(y_train), y=y_train)\n",
        "print(f\"Class weights: {class_weights_emotions}\")\n",
        "class_weights_emotions = torch.tensor(class_weights_emotions, dtype=torch.float)"
      ]
    },
    {
      "cell_type": "code",
      "execution_count": 40,
      "metadata": {},
      "outputs": [
        {
          "name": "stdout",
          "output_type": "stream",
          "text": [
            "Class weights: [0.59116222 3.24236419]\n"
          ]
        }
      ],
      "source": [
        "y_train = []\n",
        "for index, row in df_train.iterrows():\n",
        "    for i in range(len(row[\"utterances\"])):\n",
        "        y_train.append(row[\"triggers\"][i])\n",
        "class_weights_triggers = class_weight.compute_class_weight(class_weight='balanced', classes=np.unique(y_train), y=y_train)\n",
        "print(f\"Class weights: {class_weights_triggers}\")\n",
        "class_weights_triggers = torch.tensor(class_weights_triggers, dtype=torch.float)"
      ]
    },
    {
      "cell_type": "markdown",
      "metadata": {},
      "source": [
        "Here is the custom loss function:"
      ]
    },
    {
      "cell_type": "markdown",
      "metadata": {},
      "source": [
        "As we use a multihead classifier, we need to define the loss function for both the emotions and the triggers. \n",
        "\n",
        "Emotions loss function: cross entropy loss with class weights.\n",
        "Triggers loss function: binary cross entropy loss with class weights.\n",
        "\n",
        "The overall loss is the sum of the two losses."
      ]
    },
    {
      "cell_type": "code",
      "execution_count": 41,
      "metadata": {},
      "outputs": [],
      "source": [
        "def compute_loss(output_emotion, output_trigger, targets_emotion, targets_trigger):\n",
        "    label_emotion = targets_emotion\n",
        "    label_trigger = targets_trigger\n",
        "    # compute custom loss \n",
        "    loss_fct_emo = torch.nn.CrossEntropyLoss(weight=class_weights_emotions.clone().detach().to(device))\n",
        "    loss = loss_fct_emo(output_emotion, label_emotion)\n",
        "    loss_fct_targ = torch.nn.BCEWithLogitsLoss(weight=class_weights_triggers.clone().detach().to(device))\n",
        "    loss += loss_fct_targ(output_trigger, label_trigger)\n",
        "    return loss"
      ]
    },
    {
      "cell_type": "markdown",
      "metadata": {},
      "source": [
        "Here we also define a loss function without class weights, in order to compare results with and without class weights in the last part of the notebook."
      ]
    },
    {
      "cell_type": "code",
      "execution_count": 42,
      "metadata": {},
      "outputs": [],
      "source": [
        "def compute_loss_no_weights(output_emotion, output_trigger, targets_emotion, targets_trigger):\n",
        "    label_emotion = targets_emotion\n",
        "    label_trigger = targets_trigger\n",
        "    # compute custom loss \n",
        "    loss_fct_emo = torch.nn.CrossEntropyLoss()\n",
        "    loss = loss_fct_emo(output_emotion, label_emotion)\n",
        "    loss_fct_targ = torch.nn.BCEWithLogitsLoss()\n",
        "    loss += loss_fct_targ(output_trigger, label_trigger)\n",
        "    return loss\n"
      ]
    },
    {
      "cell_type": "markdown",
      "metadata": {},
      "source": [
        "We also define the inference function for the BeRT models:"
      ]
    },
    {
      "cell_type": "code",
      "execution_count": 43,
      "metadata": {},
      "outputs": [],
      "source": [
        "def inference_context(model, test_load):\n",
        "    model.eval()\n",
        "    fin_targets_emotion = []\n",
        "    fin_outputs_emotion = []\n",
        "    fin_outputs_trigger = []\n",
        "    fin_targets_trigger = []\n",
        "\n",
        "    dialogue_lengths = []\n",
        "\n",
        "    current_dialogue = test_load.dataset.data.iloc[0][\"dialogue\"]\n",
        "    length_current_dialogue = 0\n",
        "\n",
        "    with torch.no_grad():\n",
        "        for batch, data in enumerate(test_load, 0):\n",
        "            ids = data['input_ids'].to(device, dtype = torch.long)\n",
        "            mask = data['attention_mask'].to(device, dtype = torch.long)\n",
        "            token_type_ids = data['token_type_ids'].to(device, dtype = torch.long)\n",
        "            target_emotion = data['target_emotion'].to(device, dtype = torch.float)\n",
        "            target_trigger = data['target_trigger'].to(device, dtype = torch.float)\n",
        "            dialogue = data['dialogue']\n",
        "            output_emotion, output_trigger = model(ids, mask, token_type_ids)\n",
        "\n",
        "            if dialogue == current_dialogue:\n",
        "                length_current_dialogue += 1\n",
        "            else:\n",
        "                dialogue_lengths.append(length_current_dialogue)\n",
        "                length_current_dialogue = 1\n",
        "                current_dialogue = dialogue\n",
        "\n",
        "            fin_targets_emotion.extend(torch.argmax(target_emotion, axis=1).cpu().detach().numpy().tolist())\n",
        "            fin_outputs_emotion.extend(torch.argmax(output_emotion, axis=1).cpu().detach().numpy().tolist())\n",
        "            fin_outputs_trigger.extend(torch.sigmoid(output_trigger).cpu().detach().numpy().tolist())\n",
        "            fin_targets_trigger.extend(target_trigger.cpu().detach().numpy().tolist())\n",
        "        \n",
        "    return fin_outputs_emotion, fin_targets_emotion, fin_outputs_trigger, fin_targets_trigger, dialogue_lengths"
      ]
    },
    {
      "cell_type": "markdown",
      "metadata": {},
      "source": [
        "For the emotions we use the argmax function to get the most probable emotion from the output of the model. For the triggers we use a sigmoid function to get the most probable trigger from the output of the model."
      ]
    },
    {
      "cell_type": "code",
      "execution_count": 44,
      "metadata": {},
      "outputs": [],
      "source": [
        "def inference(model, test_load):\n",
        "    model.eval()\n",
        "    fin_targets_emotion = []\n",
        "    fin_outputs_emotion = []\n",
        "    fin_outputs_trigger = []\n",
        "\n",
        "    dialogue_lengths = []\n",
        "\n",
        "    current_dialogue = test_load.dataset.data.iloc[0][\"dialogue\"]\n",
        "    length_current_dialogue = 0\n",
        "\n",
        "    with torch.no_grad():\n",
        "        for batch, data in enumerate(test_load, 0):\n",
        "            ids = data['input_ids'].to(device, dtype = torch.long)\n",
        "            mask = data['attention_mask'].to(device, dtype = torch.long)\n",
        "            token_type_ids = data['token_type_ids'].to(device, dtype = torch.long)\n",
        "            target_emotion = data['label'].to(device, dtype = torch.float)\n",
        "            target_trigger = data['trigger'].to(device, dtype = torch.float)\n",
        "            dialogue = data['dialogue']\n",
        "            output_emotion, output_trigger = model(ids, mask, token_type_ids)\n",
        "            \n",
        "            if dialogue == current_dialogue:\n",
        "                length_current_dialogue += 1\n",
        "            else:\n",
        "                dialogue_lengths.append(length_current_dialogue)\n",
        "                length_current_dialogue = 1\n",
        "                current_dialogue = dialogue\n",
        "\n",
        "            fin_targets_emotion.extend(torch.argmax(target_emotion, axis=1).cpu().detach().numpy().tolist())\n",
        "            fin_outputs_emotion.extend(torch.argmax(output_emotion, axis=1).cpu().detach().numpy().tolist())\n",
        "            fin_outputs_trigger.extend(torch.sigmoid(output_trigger).cpu().detach().numpy().tolist())\n",
        "        \n",
        "    return fin_outputs_emotion, fin_targets_emotion, fin_outputs_trigger, dialogue_lengths"
      ]
    },
    {
      "cell_type": "markdown",
      "metadata": {},
      "source": [
        "The trigger_max function is used to get the most probable trigger from the output of the model."
      ]
    },
    {
      "cell_type": "code",
      "execution_count": 45,
      "metadata": {},
      "outputs": [],
      "source": [
        "def trigger_max(outputs):\n",
        "    temp = []\n",
        "    for elem in outputs:\n",
        "        if elem[0] > elem[1]:\n",
        "            temp.append(0)\n",
        "        else:\n",
        "            temp.append(1)\n",
        "    \n",
        "    return temp"
      ]
    },
    {
      "cell_type": "markdown",
      "metadata": {},
      "source": [
        "The RMSE function is used to calculate the root mean squared error between the predicted and the true trigger in order to find the standard deviation of the predictions."
      ]
    },
    {
      "cell_type": "code",
      "execution_count": 46,
      "metadata": {},
      "outputs": [],
      "source": [
        "from sklearn.metrics import mean_squared_error\n",
        "\n",
        "def get_rmse(targets, outputs):\n",
        "    return mean_squared_error(targets, outputs, squared=False)"
      ]
    },
    {
      "cell_type": "markdown",
      "metadata": {},
      "source": [
        "## Training and evaluation:"
      ]
    },
    {
      "cell_type": "markdown",
      "metadata": {
        "id": "CvYhjUQE-mxv"
      },
      "source": [
        "Training and evaluation of the baseline classifiers fitted on the training set:"
      ]
    },
    {
      "cell_type": "code",
      "execution_count": 47,
      "metadata": {
        "colab": {
          "base_uri": "https://localhost:8080/"
        },
        "id": "24CrukE2-mxv",
        "outputId": "b5aa1272-5a20-46e9-8c11-f3cbbd1be9a9"
      },
      "outputs": [
        {
          "name": "stdout",
          "output_type": "stream",
          "text": [
            "Majority classifier for emotions: \n",
            "\n",
            "              precision    recall  f1-score   support\n",
            "\n",
            "       anger       0.00      0.00      0.00       478\n",
            "     disgust       0.00      0.00      0.00       145\n",
            "        fear       0.00      0.00      0.00        71\n",
            "         joy       0.00      0.00      0.00       603\n",
            "     neutral       0.42      1.00      0.59      1522\n",
            "     sadness       0.00      0.00      0.00       365\n",
            "    surprise       0.00      0.00      0.00       432\n",
            "\n",
            "    accuracy                           0.42      3616\n",
            "   macro avg       0.06      0.14      0.08      3616\n",
            "weighted avg       0.18      0.42      0.25      3616\n",
            "\n",
            "-------------------------------------------------------\n",
            "Random classifier for emotions: \n",
            "\n",
            "              precision    recall  f1-score   support\n",
            "\n",
            "       anger       0.12      0.12      0.12       478\n",
            "     disgust       0.06      0.21      0.09       145\n",
            "        fear       0.03      0.20      0.05        71\n",
            "         joy       0.18      0.16      0.17       603\n",
            "     neutral       0.42      0.14      0.21      1522\n",
            "     sadness       0.09      0.13      0.11       365\n",
            "    surprise       0.11      0.13      0.12       432\n",
            "\n",
            "    accuracy                           0.14      3616\n",
            "   macro avg       0.14      0.16      0.12      3616\n",
            "weighted avg       0.25      0.14      0.16      3616\n",
            "\n",
            "-------------------------------------------------------\n",
            "Majority classifier for triggers: \n",
            "\n",
            "              precision    recall  f1-score   support\n",
            "\n",
            "         0.0       0.85      1.00      0.92      3088\n",
            "         1.0       0.00      0.00      0.00       528\n",
            "\n",
            "    accuracy                           0.85      3616\n",
            "   macro avg       0.43      0.50      0.46      3616\n",
            "weighted avg       0.73      0.85      0.79      3616\n",
            "\n",
            "-------------------------------------------------------\n",
            "Random classifier for triggers: \n",
            "\n",
            "              precision    recall  f1-score   support\n",
            "\n",
            "         0.0       0.85      0.50      0.63      3088\n",
            "         1.0       0.14      0.48      0.22       528\n",
            "\n",
            "    accuracy                           0.49      3616\n",
            "   macro avg       0.49      0.49      0.42      3616\n",
            "weighted avg       0.74      0.49      0.57      3616\n",
            "\n"
          ]
        }
      ],
      "source": [
        "# Emotions baseline\n",
        "dummy_clf_majority_emotions.fit(x_train_base, y_train_emotions)\n",
        "dummy_clf_random_emotions.fit(x_train_base, y_train_emotions)\n",
        "\n",
        "y_pred_majority_emotions = dummy_clf_majority_emotions.predict(x_test_base)\n",
        "y_pred_random_emotions = dummy_clf_random_emotions.predict(x_test_base)\n",
        "print(\"Majority classifier for emotions: \\n\")\n",
        "print(evaluate(y_test_emotions, y_pred_majority_emotions))\n",
        "print(\"-------------------------------------------------------\")\n",
        "print(\"Random classifier for emotions: \\n\")\n",
        "print(evaluate(y_test_emotions, y_pred_random_emotions))\n",
        "print(\"-------------------------------------------------------\")\n",
        "\n",
        "# Triggers baseline\n",
        "dummy_clf_majority_triggers.fit(x_train_base, y_train_triggers)\n",
        "dummy_clf_random_triggers.fit(x_train_base, y_train_triggers)\n",
        "\n",
        "y_pred_majority_triggers = dummy_clf_majority_triggers.predict(x_test_base)\n",
        "y_pred_random_triggers = dummy_clf_random_triggers.predict(x_test_base)\n",
        "print(\"Majority classifier for triggers: \\n\")\n",
        "print(evaluate(y_test_triggers, y_pred_majority_triggers))\n",
        "print(\"-------------------------------------------------------\")\n",
        "print(\"Random classifier for triggers: \\n\")\n",
        "print(evaluate(y_test_triggers, y_pred_random_triggers))"
      ]
    },
    {
      "cell_type": "markdown",
      "metadata": {},
      "source": [
        "As we can see from the results, the random uniform strategy performs poorly on both the emotions and the triggers, while the majority strategy performs better on the emotions and on the triggers.\n",
        "\n",
        "We strongly believe that the majority strategy performs better on the triggers because the data is imbalanced, with the 0 class being the most represented and the 1 class being the least represented. This could lead to problems during the training phase, as the model could be biased towards the 0 class. Same thing for the emotions."
      ]
    },
    {
      "cell_type": "markdown",
      "metadata": {
        "id": "eJ2aj1El-mxw"
      },
      "source": [
        "### BeRT model:"
      ]
    },
    {
      "cell_type": "markdown",
      "metadata": {},
      "source": [
        "First we define the optimizer and the scheduler for the BeRT model. As an optimizer we use Adam as we prefer it over others. As a scheduler we use a linear scheduler with warmup, as it is the one that gave us the best results."
      ]
    },
    {
      "cell_type": "code",
      "execution_count": 48,
      "metadata": {},
      "outputs": [],
      "source": [
        "optimizer_context = torch.optim.Adam(params =  model_context.parameters(), lr=LEARNING_RATE)\n",
        "scheduler_context = to.lr_scheduler.StepLR(optimizer_context, step_size=1, gamma=0.6)\n",
        "#scheduler_context = get_linear_schedule_with_warmup(optimizer_context, num_warmup_steps=(0.1*(len(train_loader_context))*EPOCHS), num_training_steps=len(train_loader_context)*EPOCHS)"
      ]
    },
    {
      "cell_type": "code",
      "execution_count": 49,
      "metadata": {},
      "outputs": [],
      "source": [
        "optimizer = torch.optim.Adam(params = model.parameters(), lr=LEARNING_RATE)\n",
        "scheduler = to.lr_scheduler.StepLR(optimizer, step_size=1, gamma=0.6)\n",
        "#scheduler = get_linear_schedule_with_warmup(optimizer, num_warmup_steps=(0.1*(len(training_loader))*EPOCHS), num_training_steps=len(training_loader)*EPOCHS)"
      ]
    },
    {
      "cell_type": "markdown",
      "metadata": {},
      "source": [
        "The training loop for the BeRT model is defined as follows:\n",
        "\n",
        "We train the model for a number of epochs, in this case 5, and we evaluate it after each epoch. We also save the model with the best results. \n",
        "\n",
        "As we are currently using a batch size of 1 we only present the result every 5000 steps, just for visualization purposes."
      ]
    },
    {
      "cell_type": "code",
      "execution_count": 50,
      "metadata": {},
      "outputs": [],
      "source": [
        "def train_context(model_context, class_weights=True):\n",
        "    size = len(train_loader_context.dataset)\n",
        "    model_context.train()\n",
        "    for batch,data in enumerate(train_loader_context, 0):\n",
        "        ids = data['input_ids'].to(device, dtype = torch.long)\n",
        "        mask = data['attention_mask'].to(device, dtype = torch.long)\n",
        "        token_type_ids = data['token_type_ids'].to(device, dtype = torch.long)\n",
        "        target_emotion = data['target_emotion'].to(device, dtype = torch.float)\n",
        "        target_trigger = data['target_trigger'].to(device, dtype = torch.float)\n",
        "        \n",
        "        output_emotion, output_trigger = model_context(ids, mask, token_type_ids)\n",
        "        if class_weights:\n",
        "            loss = compute_loss(output_emotion, output_trigger, target_emotion, target_trigger)\n",
        "        else:\n",
        "            loss = compute_loss_no_weights(output_emotion, output_trigger, target_emotion, target_trigger)\n",
        "\n",
        "        # Backpropagation\n",
        "        optimizer_context.zero_grad()\n",
        "        loss.backward()\n",
        "        optimizer_context.step()\n",
        "        #scheduler_context.step()\n",
        "\n",
        "        if batch%5000==0:\n",
        "            current =  batch * len(data['input_ids'])\n",
        "            print(f\"Train loss: {loss.item():>7f}  [{current:>5d}/{size:>5d}]\")"
      ]
    },
    {
      "cell_type": "code",
      "execution_count": 51,
      "metadata": {},
      "outputs": [],
      "source": [
        "def train(model, optimizer, scheduler, class_weights=True):\n",
        "    size = len(training_loader.dataset)\n",
        "    model.train()\n",
        "    for batch,data in enumerate(training_loader, 0):\n",
        "        ids = data['input_ids'].to(device, dtype = torch.long)\n",
        "        mask = data['attention_mask'].to(device, dtype = torch.long)\n",
        "        token_type_ids = data['token_type_ids'].to(device, dtype = torch.long)\n",
        "        target_emotion = data['label'].to(device, dtype = torch.float)\n",
        "        target_trigger = data['trigger'].to(device, dtype = torch.float)\n",
        "        \n",
        "        output_emotion, output_trigger = model(ids, mask, token_type_ids)\n",
        "        if class_weights:\n",
        "            loss = compute_loss(output_emotion, output_trigger, target_emotion, target_trigger)\n",
        "        else:\n",
        "            loss = compute_loss_no_weights(output_emotion, output_trigger, target_emotion, target_trigger)\n",
        "\n",
        "        # Backpropagation\n",
        "        optimizer.zero_grad()\n",
        "        loss.backward()\n",
        "        optimizer.step()\n",
        "        #scheduler.step()\n",
        "\n",
        "        if batch%5000==0:\n",
        "            current =  batch * len(data['input_ids'])\n",
        "            print(f\"Train loss: {loss.item():>7f}  [{current:>5d}/{size:>5d}]\")"
      ]
    },
    {
      "cell_type": "markdown",
      "metadata": {},
      "source": [
        "Validation is done on the validation set and is similar to the training loop, with the difference that we do not update the weights of the model."
      ]
    },
    {
      "cell_type": "code",
      "execution_count": 52,
      "metadata": {},
      "outputs": [],
      "source": [
        "def validation_context(model_context, epoch, val_loss_min_input, class_weights=True):\n",
        "    num_batches = len(val_loader_context)\n",
        "    model_context.eval()\n",
        "    val_loss = 0\n",
        "    with torch.no_grad():\n",
        "        for batch, data in enumerate(val_loader_context, 0):\n",
        "            ids = data['input_ids'].to(device, dtype = torch.long)\n",
        "            mask = data['attention_mask'].to(device, dtype = torch.long)\n",
        "            token_type_ids = data['token_type_ids'].to(device, dtype = torch.long)\n",
        "            target_emotion = data['target_emotion'].to(device, dtype = torch.float)\n",
        "            target_trigger = data['target_trigger'].to(device, dtype = torch.float)\n",
        "\n",
        "            output_emotion, output_target = model_context(ids, mask, token_type_ids)\n",
        "            if class_weights:\n",
        "                val_loss += compute_loss(output_emotion, output_target, target_emotion, target_trigger).item()\n",
        "            else:\n",
        "                val_loss += compute_loss_no_weights(output_emotion, output_target, target_emotion, target_trigger).item()\n",
        "\n",
        "        val_loss /= num_batches\n",
        "        #outputs, targets = fin_outputs, fin_targets\n",
        "        print(f\"\\nValidation loss: {val_loss:>8f}.\")\n",
        "        ## TODO: save the model if validation loss has decreased\n",
        "        if val_loss <= val_loss_min_input:\n",
        "            #create checkpoint variable and add important data\n",
        "            if epoch > 0:\n",
        "                print('Validation loss decreased ({:.8f} --> {:.8f}).  Saving model ...'.format(val_loss_min_input, val_loss))\n",
        "            else: print('Saving model ...')\n",
        "            # save best moel\n",
        "            torch.save(model_context.state_dict(), \"model_bert_standard_project.pth\")\n",
        "            print(\"Saved PyTorch Model State to model.pth\\n\")\n",
        "            val_loss_min_input = val_loss\n",
        "\n",
        "    return val_loss_min_input"
      ]
    },
    {
      "cell_type": "code",
      "execution_count": 53,
      "metadata": {},
      "outputs": [],
      "source": [
        "def validation(model, epoch, val_loss_min_input, class_weights=True):\n",
        "    num_batches = len(val_loader)\n",
        "    model.eval()\n",
        "    val_loss = 0\n",
        "    with torch.no_grad():\n",
        "        for batch, data in enumerate(val_loader, 0):\n",
        "            ids = data['input_ids'].to(device, dtype = torch.long)\n",
        "            mask = data['attention_mask'].to(device, dtype = torch.long)\n",
        "            token_type_ids = data['token_type_ids'].to(device, dtype = torch.long)\n",
        "            target_emotion = data['label'].to(device, dtype = torch.float)\n",
        "            target_trigger = data['trigger'].to(device, dtype = torch.float)\n",
        "\n",
        "            output_emotion, output_target = model(ids, mask, token_type_ids)\n",
        "            if class_weights:\n",
        "                val_loss += compute_loss(output_emotion, output_target, target_emotion, target_trigger).item()\n",
        "            else:\n",
        "                val_loss += compute_loss_no_weights(output_emotion, output_target, target_emotion, target_trigger).item()\n",
        "\n",
        "        val_loss /= num_batches\n",
        "        #outputs, targets = fin_outputs, fin_targets\n",
        "        print(f\"\\nValidation loss: {val_loss:>8f}.\")\n",
        "        ## TODO: save the model if validation loss has decreased\n",
        "        if val_loss <= val_loss_min_input:\n",
        "            #create checkpoint variable and add important data\n",
        "            if epoch > 0:\n",
        "                print('Validation loss decreased ({:.8f} --> {:.8f}).  Saving model ...'.format(val_loss_min_input, val_loss))\n",
        "            else: print('Saving model ...')\n",
        "            # save best moel\n",
        "            torch.save(model.state_dict(), \"model_bert_standard_project.pth\")\n",
        "            print(\"Saved PyTorch Model State to model.pth\\n\")\n",
        "            val_loss_min_input = val_loss\n",
        "\n",
        "    return val_loss_min_input"
      ]
    },
    {
      "cell_type": "markdown",
      "metadata": {},
      "source": [
        "### BeRT model training:"
      ]
    },
    {
      "cell_type": "markdown",
      "metadata": {},
      "source": [
        "Model with context:"
      ]
    },
    {
      "cell_type": "code",
      "execution_count": 54,
      "metadata": {},
      "outputs": [
        {
          "name": "stdout",
          "output_type": "stream",
          "text": [
            "Epoch 1\n",
            "-------------------------------\n"
          ]
        },
        {
          "name": "stdout",
          "output_type": "stream",
          "text": [
            "Train loss: 3.443854  [    0/27813]\n",
            "Train loss: 1.553235  [ 5000/27813]\n",
            "Train loss: 5.865380  [10000/27813]\n",
            "Train loss: 2.146772  [15000/27813]\n",
            "Train loss: 1.582673  [20000/27813]\n",
            "Train loss: 4.482416  [25000/27813]\n",
            "\n",
            "Validation loss: 4.049976.\n",
            "Saving model ...\n",
            "Saved PyTorch Model State to model.pth\n",
            "\n",
            "Epoch 2\n",
            "-------------------------------\n",
            "Train loss: 10.085148  [    0/27813]\n",
            "Train loss: 2.508384  [ 5000/27813]\n",
            "Train loss: 2.185980  [10000/27813]\n",
            "Train loss: 2.264860  [15000/27813]\n",
            "Train loss: 2.110777  [20000/27813]\n",
            "Train loss: 4.876589  [25000/27813]\n",
            "\n",
            "Validation loss: 4.041384.\n",
            "Validation loss decreased (4.04997623 --> 4.04138389).  Saving model ...\n",
            "Saved PyTorch Model State to model.pth\n",
            "\n"
          ]
        }
      ],
      "source": [
        "val_loss_min = np.Inf\n",
        "for epoch in range(EPOCHS):\n",
        "    print(f\"Epoch {epoch + 1}\\n-------------------------------\")\n",
        "    train_context(model_context, class_weights=True)\n",
        "    scheduler_context.step()\n",
        "    val_loss_min = validation_context(model_context, epoch, val_loss_min, class_weights=True)"
      ]
    },
    {
      "cell_type": "markdown",
      "metadata": {},
      "source": [
        "Model without context:"
      ]
    },
    {
      "cell_type": "code",
      "execution_count": 55,
      "metadata": {},
      "outputs": [
        {
          "name": "stdout",
          "output_type": "stream",
          "text": [
            "Epoch 1\n",
            "-------------------------------\n",
            "Train loss: 3.310659  [    0/27813]\n",
            "Train loss: 3.233527  [ 5000/27813]\n",
            "Train loss: 1.731724  [10000/27813]\n",
            "Train loss: 1.126025  [15000/27813]\n",
            "Train loss: 0.907703  [20000/27813]\n",
            "Train loss: 3.616906  [25000/27813]\n",
            "\n",
            "Validation loss: 3.439383.\n",
            "Saving model ...\n",
            "Saved PyTorch Model State to model.pth\n",
            "\n",
            "Epoch 2\n",
            "-------------------------------\n",
            "Train loss: 1.553307  [    0/27813]\n",
            "Train loss: 1.769403  [ 5000/27813]\n",
            "Train loss: 1.685781  [10000/27813]\n",
            "Train loss: 1.564455  [15000/27813]\n",
            "Train loss: 1.012687  [20000/27813]\n",
            "Train loss: 4.324197  [25000/27813]\n",
            "\n",
            "Validation loss: 3.409827.\n",
            "Validation loss decreased (3.43938278 --> 3.40982706).  Saving model ...\n",
            "Saved PyTorch Model State to model.pth\n",
            "\n"
          ]
        }
      ],
      "source": [
        "val_loss_min_st = np.inf\n",
        "for epoch in range(EPOCHS):\n",
        "    print(f\"Epoch {epoch+1}\\n-------------------------------\")\n",
        "    train(model, optimizer=optimizer, scheduler=scheduler, class_weights=True)\n",
        "    scheduler.step()\n",
        "    val_loss_min_st = validation(model, epoch, val_loss_min_st, class_weights=True)"
      ]
    },
    {
      "cell_type": "markdown",
      "metadata": {},
      "source": [
        "Evaluation of the BeRT models:\n",
        "\n",
        "In order to evaluate the BeRT models we use the same metrics as the baseline models, but propose two different approaches. The first approach is to use the model as it is, with the dialogues unrolled into sentences. The second approach is to consider results based on the dialogues, as to get a more realistic evaluation of the model."
      ]
    },
    {
      "cell_type": "markdown",
      "metadata": {},
      "source": [
        "### Unrolled sentences:"
      ]
    },
    {
      "cell_type": "markdown",
      "metadata": {},
      "source": [
        "Results for the majority and random uniform strategies are already presented in the previous section during their respective models training."
      ]
    },
    {
      "cell_type": "markdown",
      "metadata": {},
      "source": [
        "Model with context:"
      ]
    },
    {
      "cell_type": "code",
      "execution_count": 56,
      "metadata": {},
      "outputs": [],
      "source": [
        "outputs_emotion_context, targets_emotion_context, outputs_trigger_context, targets_trigger_context, dialogue_lengths_context = inference_context(model_context, test_loader_context)\n",
        "targets_trigger_context = trigger_max(targets_trigger_context)\n",
        "outputs_trigger_context = trigger_max(outputs_trigger_context)"
      ]
    },
    {
      "cell_type": "code",
      "execution_count": 57,
      "metadata": {},
      "outputs": [
        {
          "name": "stdout",
          "output_type": "stream",
          "text": [
            "Report for triggers: \n",
            "\n",
            "              precision    recall  f1-score   support\n",
            "\n",
            "           0       0.85      1.00      0.92      3088\n",
            "           1       0.00      0.00      0.00       528\n",
            "\n",
            "    accuracy                           0.85      3616\n",
            "   macro avg       0.43      0.50      0.46      3616\n",
            "weighted avg       0.73      0.85      0.79      3616\n",
            "\n",
            "-------------------------------------------------------\n",
            "Report for emotions: \n",
            "\n",
            "              precision    recall  f1-score   support\n",
            "\n",
            "           0       0.00      0.00      0.00      1522\n",
            "           1       0.17      1.00      0.29       603\n",
            "           2       0.00      0.00      0.00       432\n",
            "           3       0.00      0.00      0.00       365\n",
            "           4       0.00      0.00      0.00       478\n",
            "           5       0.00      0.00      0.00       145\n",
            "           6       0.00      0.00      0.00        71\n",
            "\n",
            "    accuracy                           0.17      3616\n",
            "   macro avg       0.02      0.14      0.04      3616\n",
            "weighted avg       0.03      0.17      0.05      3616\n",
            "\n"
          ]
        }
      ],
      "source": [
        "report_triggers_context = classification_report(targets_trigger_context, outputs_trigger_context, zero_division=0)\n",
        "report_emotions_context = classification_report(targets_emotion_context, outputs_emotion_context, zero_division=0)\n",
        "print(\"Report for triggers: \\n\")\n",
        "print(report_triggers_context)\n",
        "print(\"-------------------------------------------------------\")\n",
        "print(\"Report for emotions: \\n\")\n",
        "print(report_emotions_context)"
      ]
    },
    {
      "cell_type": "code",
      "execution_count": 58,
      "metadata": {},
      "outputs": [
        {
          "name": "stdout",
          "output_type": "stream",
          "text": [
            "RMSE for triggers: 0.38212262313954176\n",
            "RMSE for emotions: 1.8072953194432326\n"
          ]
        }
      ],
      "source": [
        "rmse_triggers_context = get_rmse(targets_trigger_context, outputs_trigger_context)\n",
        "rmse_emotions_context = get_rmse(targets_emotion_context, outputs_emotion_context)\n",
        "print(f\"RMSE for triggers: {rmse_triggers_context}\")\n",
        "print(f\"RMSE for emotions: {rmse_emotions_context}\")"
      ]
    },
    {
      "cell_type": "code",
      "execution_count": 59,
      "metadata": {},
      "outputs": [],
      "source": [
        "# get macro and weighted f1 scores\n",
        "macro_f1_score_triggers_context = f1_score(targets_trigger_context, outputs_trigger_context, average=\"macro\")\n",
        "weighted_f1_score_triggers_context = f1_score(targets_trigger_context, outputs_trigger_context, average=\"weighted\")\n",
        "\n",
        "macro_f1_score_emotions_context = f1_score(targets_emotion_context, outputs_emotion_context, average=\"macro\")\n",
        "weighted_f1_score_emotions_context = f1_score(targets_emotion_context, outputs_emotion_context, average=\"weighted\")"
      ]
    },
    {
      "cell_type": "markdown",
      "metadata": {},
      "source": [
        "We get the results for the emotions and the triggers separately."
      ]
    },
    {
      "cell_type": "markdown",
      "metadata": {},
      "source": [
        "Model without context:"
      ]
    },
    {
      "cell_type": "code",
      "execution_count": 60,
      "metadata": {},
      "outputs": [],
      "source": [
        "outputs_emotion, targets_emotion, outputs_trigger, dialogue_lengths = inference(model, test_loader)\n",
        "targets_trigger = bert_test[\"trigger\"].tolist()\n",
        "trigger_max_pred = trigger_max(outputs_trigger)"
      ]
    },
    {
      "cell_type": "code",
      "execution_count": 61,
      "metadata": {},
      "outputs": [
        {
          "name": "stdout",
          "output_type": "stream",
          "text": [
            "Report for triggers: \n",
            "\n",
            "              precision    recall  f1-score   support\n",
            "\n",
            "         0.0       0.85      1.00      0.92      3088\n",
            "         1.0       0.00      0.00      0.00       528\n",
            "\n",
            "    accuracy                           0.85      3616\n",
            "   macro avg       0.43      0.50      0.46      3616\n",
            "weighted avg       0.73      0.85      0.79      3616\n",
            "\n",
            "-------------------------------------------------------\n",
            "Report for emotions: \n",
            "\n",
            "              precision    recall  f1-score   support\n",
            "\n",
            "     neutral       0.60      0.43      0.50      1522\n",
            "         joy       0.28      0.74      0.41       603\n",
            "    surprise       0.33      0.63      0.43       432\n",
            "     sadness       0.67      0.14      0.23       365\n",
            "       anger       0.00      0.00      0.00       478\n",
            "     disgust       0.51      0.12      0.20       145\n",
            "        fear       0.00      0.00      0.00        71\n",
            "\n",
            "    accuracy                           0.40      3616\n",
            "   macro avg       0.34      0.30      0.25      3616\n",
            "weighted avg       0.42      0.40      0.36      3616\n",
            "\n"
          ]
        }
      ],
      "source": [
        "report_triggers = classification_report(targets_trigger, trigger_max_pred,zero_division=0)\n",
        "report_emotions = classification_report(targets_emotion, outputs_emotion, target_names=emotion_to_index.keys(), zero_division=0)\n",
        "print(\"Report for triggers: \\n\")\n",
        "print(report_triggers)\n",
        "print(\"-------------------------------------------------------\")\n",
        "print(\"Report for emotions: \\n\")\n",
        "print(report_emotions)"
      ]
    },
    {
      "cell_type": "code",
      "execution_count": 62,
      "metadata": {},
      "outputs": [
        {
          "name": "stdout",
          "output_type": "stream",
          "text": [
            "RMSE for triggers: 0.38212262313954176\n",
            "RMSE for emotions: 1.8538258693799428\n"
          ]
        }
      ],
      "source": [
        "rmse_triggers = get_rmse(targets_trigger, trigger_max_pred)\n",
        "print(f\"RMSE for triggers: {rmse_triggers}\")\n",
        "\n",
        "rmse_emotions = get_rmse(targets_emotion, outputs_emotion)\n",
        "print(f\"RMSE for emotions: {rmse_emotions}\")"
      ]
    },
    {
      "cell_type": "code",
      "execution_count": 63,
      "metadata": {},
      "outputs": [],
      "source": [
        "macro_f1_score_emotions = f1_score(targets_emotion, outputs_emotion, average=\"macro\")\n",
        "weighted_f1_score_emotions = f1_score(targets_emotion, outputs_emotion, average=\"weighted\")\n",
        "\n",
        "macro_f1_score_triggers = f1_score(targets_trigger, trigger_max_pred, average=\"macro\")\n",
        "weighted_f1_score_triggers = f1_score(targets_trigger, trigger_max_pred, average=\"weighted\")"
      ]
    },
    {
      "cell_type": "markdown",
      "metadata": {},
      "source": [
        "As we can see from the results, the models perform way better than the baseline models. One important thing to notice is that is can actually classify even emotions that are hardly represented in the data, such as disgust, which is something that neither the baseline models nor previous trials without class weights were able to do.\n",
        "\n",
        "The santandard deviation of the emotion prediction is higher than the one of the trigger prediction, which is expected as the emotions are more complex than the triggers.\n",
        "\n",
        "Further result exploration is done in the last part of the notebook."
      ]
    },
    {
      "cell_type": "markdown",
      "metadata": {},
      "source": [
        "### Sequences of dialogues: \n",
        "\n",
        "Instead of computing single predictions and metrics we also consider the fact that single sentences are part of a dialogue."
      ]
    },
    {
      "cell_type": "markdown",
      "metadata": {},
      "source": [
        "Firstly we compute the metrics for the majority and random uniform strategies.\n",
        "\n",
        "Then we compute the metrics for the BeRT models."
      ]
    },
    {
      "cell_type": "code",
      "execution_count": 64,
      "metadata": {},
      "outputs": [
        {
          "name": "stdout",
          "output_type": "stream",
          "text": [
            "Average dialogue f1 scores for emotions on majority classifier: \n",
            "0.17765389128254355\n",
            "Average dialogue f1 scores for emotions on random classifier: \n",
            "0.10119782973795578\n",
            "Average dialogue f1 scores for triggers on majority classifier: \n",
            "0.45175040861028604\n",
            "Average dialogue f1 scores for triggers on random classifier: \n",
            "0.4113550472992968\n"
          ]
        }
      ],
      "source": [
        "f1_scores_maj_emotions = []\n",
        "f1_scores_rand_emotions = []\n",
        "f1_scores_maj_triggers = []\n",
        "f1_scores_rand_triggers = []\n",
        "\n",
        "for i in range(df_test.shape[0]):\n",
        "    dialogue = df_test.iloc[i][\"utterances\"]\n",
        "    emotions_labels = df_test.iloc[i][\"emotions\"]\n",
        "    triggers_labels = df_test.iloc[i][\"triggers\"]\n",
        "    # predict with majority and random classifiers\n",
        "    y_pred_majority_emotions_sequence = dummy_clf_majority_emotions.predict(dialogue)\n",
        "    y_pred_random_emotions_sequence = dummy_clf_random_emotions.predict(dialogue)\n",
        "    y_pred_majority_triggers_sequence = dummy_clf_majority_triggers.predict(dialogue)\n",
        "    y_pred_random_triggers_sequence = dummy_clf_random_triggers.predict(dialogue)\n",
        "    # compute f1 scores\n",
        "    f1_scores_maj_emotions.append(f1_score(emotions_labels, y_pred_majority_emotions_sequence, average=\"macro\"))\n",
        "    f1_scores_rand_emotions.append(f1_score(emotions_labels, y_pred_random_emotions_sequence, average=\"macro\"))\n",
        "    f1_scores_maj_triggers.append(f1_score(triggers_labels, y_pred_majority_triggers_sequence, average=\"macro\"))\n",
        "    f1_scores_rand_triggers.append(f1_score(triggers_labels, y_pred_random_triggers_sequence, average=\"macro\"))\n",
        "    \n",
        "print(\"Average dialogue f1 scores for emotions on majority classifier: \")\n",
        "print(np.mean(f1_scores_maj_emotions))\n",
        "print(\"Average dialogue f1 scores for emotions on random classifier: \")\n",
        "print(np.mean(f1_scores_rand_emotions))\n",
        "print(\"Average dialogue f1 scores for triggers on majority classifier: \")\n",
        "print(np.mean(f1_scores_maj_triggers))\n",
        "print(\"Average dialogue f1 scores for triggers on random classifier: \")\n",
        "print(np.mean(f1_scores_rand_triggers))"
      ]
    },
    {
      "cell_type": "markdown",
      "metadata": {},
      "source": [
        "Here we make use of the dialogue index that we saved during the dataset creation phase."
      ]
    },
    {
      "cell_type": "code",
      "execution_count": 65,
      "metadata": {},
      "outputs": [],
      "source": [
        "def get_dialogue_preds(outputs_emotion, targets_emotion, outputs_trigger, targets_trigger, dialogue_lengths):\n",
        "    current_index = 0\n",
        "    dialogue_predictions_emotions = []\n",
        "    dialogue_targets_emotions = []\n",
        "    dialogue_predictions_triggers = []\n",
        "    dialogue_targets_triggers = []\n",
        "    for length in dialogue_lengths:\n",
        "        dialogue_predictions_emotions.append(outputs_emotion[current_index:current_index+length])\n",
        "        dialogue_targets_emotions.append(targets_emotion[current_index:current_index+length])\n",
        "        dialogue_predictions_triggers.append(outputs_trigger[current_index:current_index+length])\n",
        "        dialogue_targets_triggers.append(targets_trigger[current_index:current_index+length])\n",
        "        current_index += length\n",
        "    \n",
        "    return dialogue_predictions_emotions, dialogue_targets_emotions, dialogue_predictions_triggers, dialogue_targets_triggers"
      ]
    },
    {
      "cell_type": "code",
      "execution_count": 66,
      "metadata": {},
      "outputs": [],
      "source": [
        "def f1_score_per_dialogue(dialogue_predictions_emotions, dialogue_targets_emotions, dialogue_predictions_triggers, dialogue_targets_triggers):\n",
        "    f1_scores_emotions = []\n",
        "    f1_scores_triggers = []\n",
        "    for i in range(len(dialogue_predictions_emotions)):\n",
        "        f1_scores_emotions.append(f1_score(dialogue_targets_emotions[i], dialogue_predictions_emotions[i], average='macro'))\n",
        "        f1_scores_triggers.append(f1_score(dialogue_targets_triggers[i], dialogue_predictions_triggers[i], average='macro'))\n",
        "    return f1_scores_emotions, f1_scores_triggers"
      ]
    },
    {
      "cell_type": "code",
      "execution_count": 67,
      "metadata": {},
      "outputs": [],
      "source": [
        "def rmse_per_dialogue(f1_scores):\n",
        "    rmse_scores = []\n",
        "    for i in range(len(f1_scores)):\n",
        "        rmse_scores.append(np.sqrt(((f1_scores[i] - np.mean(f1_scores)) ** 2)))\n",
        "    return rmse_scores"
      ]
    },
    {
      "cell_type": "markdown",
      "metadata": {},
      "source": [
        "We compute the predictions for each sentence and then we group them by dialogue index. We also compute emotion and trigger predictions for each dialogue separately."
      ]
    },
    {
      "cell_type": "markdown",
      "metadata": {},
      "source": [
        "In order to compute a dialogue prediction we use simply use the mean of the predictions of the sentences that compose the dialogue."
      ]
    },
    {
      "cell_type": "markdown",
      "metadata": {},
      "source": [
        "Model with context:"
      ]
    },
    {
      "cell_type": "code",
      "execution_count": 68,
      "metadata": {},
      "outputs": [],
      "source": [
        "dialogue_predictions_emotions_context, dialogue_targets_emotions_context, dialogue_predictions_triggers_context, dialogue_targets_triggers_context = get_dialogue_preds(outputs_emotion_context, targets_emotion_context, outputs_trigger_context, targets_trigger_context, dialogue_lengths_context)"
      ]
    },
    {
      "cell_type": "code",
      "execution_count": 69,
      "metadata": {},
      "outputs": [
        {
          "name": "stdout",
          "output_type": "stream",
          "text": [
            "Average F1 score per dialogue for emotions: 0.0857314091464972\n",
            "Average F1 score per dialogue for triggers: 0.4516674560382605\n"
          ]
        }
      ],
      "source": [
        "f1_scores_emotions_context, f1_scores_triggers_context = f1_score_per_dialogue(dialogue_predictions_emotions_context, dialogue_targets_emotions_context, dialogue_predictions_triggers_context, dialogue_targets_triggers_context)\n",
        "print(f\"Average F1 score per dialogue for emotions: {np.mean(f1_scores_emotions_context)}\")\n",
        "print(f\"Average F1 score per dialogue for triggers: {np.mean(f1_scores_triggers_context)}\")"
      ]
    },
    {
      "cell_type": "code",
      "execution_count": 70,
      "metadata": {},
      "outputs": [
        {
          "name": "stdout",
          "output_type": "stream",
          "text": [
            "Average RMSE score per dialogue for emotions: 0.06971985005424532\n",
            "Average RMSE score per dialogue for triggers: 0.042689893964527506\n"
          ]
        }
      ],
      "source": [
        "rmse_scores_emotions_context = rmse_per_dialogue(f1_scores_emotions_context)\n",
        "rmse_scores_triggers_context = rmse_per_dialogue(f1_scores_triggers_context)\n",
        "\n",
        "print(f\"Average RMSE score per dialogue for emotions: {np.mean(rmse_scores_emotions_context)}\")\n",
        "print(f\"Average RMSE score per dialogue for triggers: {np.mean(rmse_scores_triggers_context)}\")"
      ]
    },
    {
      "cell_type": "markdown",
      "metadata": {},
      "source": [
        "Model without context:"
      ]
    },
    {
      "cell_type": "code",
      "execution_count": 71,
      "metadata": {},
      "outputs": [],
      "source": [
        "dialogue_predictions_emotions, dialogue_targets_emotions, dialogue_predictions_triggers, dialogue_targets_triggers = get_dialogue_preds(outputs_emotion, targets_emotion, trigger_max_pred, targets_trigger, dialogue_lengths)"
      ]
    },
    {
      "cell_type": "code",
      "execution_count": 72,
      "metadata": {},
      "outputs": [
        {
          "name": "stdout",
          "output_type": "stream",
          "text": [
            "Average F1 score for emotions per dialogue: 0.31336906692050415\n",
            "Average F1 score for triggers per dialogue: 0.4516674560382605\n"
          ]
        }
      ],
      "source": [
        "f1_scores_emotions, f1_scores_triggers = f1_score_per_dialogue(dialogue_predictions_emotions, dialogue_targets_emotions, dialogue_predictions_triggers, dialogue_targets_triggers)\n",
        "print(f\"Average F1 score for emotions per dialogue: {np.mean(f1_scores_emotions)}\")\n",
        "print(f\"Average F1 score for triggers per dialogue: {np.mean(f1_scores_triggers)}\")"
      ]
    },
    {
      "cell_type": "code",
      "execution_count": 73,
      "metadata": {},
      "outputs": [
        {
          "name": "stdout",
          "output_type": "stream",
          "text": [
            "RMSE for emotions per dialogue: 0.1687944035072067\n",
            "RMSE for triggers per dialogue: 0.042689893964527506\n"
          ]
        }
      ],
      "source": [
        "rmse_scores_emotions = rmse_per_dialogue(f1_scores_emotions)\n",
        "rmse_scores_triggers = rmse_per_dialogue(f1_scores_triggers)\n",
        "\n",
        "print(f\"RMSE for emotions per dialogue: {np.mean(rmse_scores_emotions)}\")\n",
        "print(f\"RMSE for triggers per dialogue: {np.mean(rmse_scores_triggers)}\")"
      ]
    },
    {
      "cell_type": "markdown",
      "metadata": {},
      "source": [
        "As for these results we see that the average f1 score is lower than the one of the unrolled sentences. We believe that is due to the fact that some dialogues are higly unbalanced, thus probably leading to a lower f1 score. The same phenomenon happens for the trigger labels. We explore this further in the last part of the notebook.\n",
        "\n",
        "The standard deviation improves though, which could mean that the inbalance of the dialogues is both a \"good\" and a \"bad\" thing. It is good because if we aggregate the predictions of the sentences we get a more balanced prediction towards the majority class, but it is bad because the model has a harder time learning from the data."
      ]
    },
    {
      "cell_type": "markdown",
      "metadata": {},
      "source": [
        "## Further results exploration:"
      ]
    },
    {
      "cell_type": "markdown",
      "metadata": {},
      "source": [
        "As both BeRT models perform better than the baseline models, we will mainly focus on these for further results exploration. One of the main things we want to explore is wheter or not the context is useful in the task and some specific results of the models.\n",
        "\n",
        "First thing we want to compare are the general results obtained by the models with and without context."
      ]
    },
    {
      "cell_type": "code",
      "execution_count": 74,
      "metadata": {},
      "outputs": [
        {
          "data": {
            "image/png": "[encoded data removed]",
            "text/plain": [
              "<Figure size 2000x1000 with 4 Axes>"
            ]
          },
          "metadata": {},
          "output_type": "display_data"
        }
      ],
      "source": [
        "# plot macro f1 scores and weighted f1 scores for triggers and emotions as 4 bar plots\n",
        "plt.figure(figsize=(20,10))\n",
        "plt.subplot(2, 2, 1)\n",
        "plt.bar([\"Macro\", \"Weighted\"], [macro_f1_score_emotions, weighted_f1_score_emotions], color=set_color(2))\n",
        "plt.title(\"F1 score for emotions w/o context\")\n",
        "plt.xlabel(\"F1 score type\")\n",
        "plt.ylabel(\"F1 score\")\n",
        "plt.subplot(2, 2, 2)\n",
        "plt.bar([\"Macro\", \"Weighted\"], [macro_f1_score_triggers, weighted_f1_score_triggers], color=set_color(2))\n",
        "plt.title(\"F1 score for triggers w/o context\")\n",
        "plt.xlabel(\"F1 score type\")\n",
        "plt.ylabel(\"F1 score\")\n",
        "plt.subplot(2, 2, 3)\n",
        "plt.bar([\"Macro\", \"Weighted\"], [macro_f1_score_emotions_context, weighted_f1_score_emotions_context], color=set_color(2))\n",
        "plt.title(\"F1 score for emotions with context\")\n",
        "plt.xlabel(\"F1 score type\")\n",
        "plt.ylabel(\"F1 score\")\n",
        "plt.subplot(2, 2, 4)\n",
        "plt.bar([\"Macro\", \"Weighted\"], [macro_f1_score_triggers_context, weighted_f1_score_triggers_context], color=set_color(2))\n",
        "plt.title(\"F1 score for triggers with context\")\n",
        "plt.xlabel(\"F1 score type\")\n",
        "plt.ylabel(\"F1 score\")\n",
        "plt.show()"
      ]
    },
    {
      "cell_type": "markdown",
      "metadata": {},
      "source": [
        "As we can see from the plots the models get way better weighted average f1 scores. This is due to the fact that the models are able to classify even emotions that are hardly represented in the data, such as disgust, which is something that neither the baseline models nor previous trials without class weights were able to do. We purposely chose to add class weights to the loss function in order to see if the models could learn better from the data and thus improve the results as we noticed that the dataset was really imbalanced.\n",
        "\n",
        "Altough this may lead to a worse performance on the majority classes, we believe that it is a good tradeoff as the models are able to learn from the data and thus classify even the minority classes."
      ]
    },
    {
      "cell_type": "markdown",
      "metadata": {},
      "source": [
        "Here we can see the confusion matrices for the models with and without context."
      ]
    },
    {
      "cell_type": "code",
      "execution_count": 75,
      "metadata": {},
      "outputs": [
        {
          "data": {
            "image/png": "[encoded data removed]",
            "text/plain": [
              "<Figure size 2000x1000 with 8 Axes>"
            ]
          },
          "metadata": {},
          "output_type": "display_data"
        }
      ],
      "source": [
        "# get confusion matrices for triggers and emotions\n",
        "from sklearn.metrics import multilabel_confusion_matrix, confusion_matrix\n",
        "import seaborn as sns\n",
        "\n",
        "cm_emotions = confusion_matrix(targets_emotion, outputs_emotion)\n",
        "cm_triggers = confusion_matrix(targets_trigger, trigger_max_pred)\n",
        "\n",
        "cm_emotions_context = confusion_matrix(targets_emotion_context, outputs_emotion_context)\n",
        "cm_triggers_context = confusion_matrix(targets_trigger_context, outputs_trigger_context)\n",
        "\n",
        "# plot confusion matrices for triggers and emotions\n",
        "plt.figure(figsize=(20,10))\n",
        "plt.subplot(2, 2, 1)\n",
        "plt.title(\"Confusion matrix for emotions w/o context\")\n",
        "sns.heatmap(cm_emotions, annot=True, cmap=sns.color_palette(\"rocket\", as_cmap=True), fmt='g')\n",
        "plt.xlabel(\"Predicted\")\n",
        "plt.ylabel(\"True\")\n",
        "plt.subplot(2, 2, 2)\n",
        "plt.title(\"Confusion matrix for triggers w/o context\")\n",
        "sns.heatmap(cm_triggers, annot=True, cmap=sns.color_palette(\"rocket\", as_cmap=True), fmt='g')\n",
        "plt.xlabel(\"Predicted\")\n",
        "plt.ylabel(\"True\")\n",
        "plt.subplot(2, 2, 3)\n",
        "plt.title(\"Confusion matrix for emotions with context\")\n",
        "sns.heatmap(cm_emotions_context, annot=True, cmap=sns.color_palette(\"rocket\", as_cmap=True), fmt='g')\n",
        "plt.xlabel(\"Predicted\")\n",
        "plt.ylabel(\"True\")\n",
        "plt.subplot(2, 2, 4)\n",
        "plt.title(\"Confusion matrix for triggers with context\")\n",
        "sns.heatmap(cm_triggers_context, annot=True, cmap=sns.color_palette(\"rocket\", as_cmap=True), fmt='g')\n",
        "plt.xlabel(\"Predicted\")\n",
        "plt.ylabel(\"True\")\n",
        "plt.show()\n"
      ]
    },
    {
      "cell_type": "markdown",
      "metadata": {},
      "source": [
        "As we can see in the confusion matrix for the w/o context, the model actually predict even the minority classes which is seen by looking at the high diagonal values and low remaining ammount of wrong predictions. Likewise we can see the same phenomenon in the confusion matrix for triggers."
      ]
    },
    {
      "cell_type": "markdown",
      "metadata": {},
      "source": [
        "We now compare some more results, including a real case prediction. \n",
        "\n",
        "The context model continues showing worse performances than the single-sentence-per-time one. This could be explained by the context being too complicated for the task at hand since emotions are almost entirely related to the single sentence at hand. On the other hand; triggers should be a little more context related but the dataset doesn't look consistent making it impossible for the model to find a labeling pattern that is nowhere to be found, or just very confused to the least."
      ]
    },
    {
      "cell_type": "code",
      "execution_count": 76,
      "metadata": {},
      "outputs": [],
      "source": [
        "# get a dialogue from test set\n",
        "dialogue_index = 3699\n",
        "def get_dialogue_no_context(dialogue_index):\n",
        "    dialogue = []\n",
        "    for index, row in bert_test.iterrows():\n",
        "        if row[\"dialogue\"] == dialogue_index:\n",
        "            dialogue.append(row)\n",
        "    text = []\n",
        "    emotions = []\n",
        "    triggers = []\n",
        "    for elem in dialogue:\n",
        "        text.append(elem[\"sentence\"])\n",
        "        emotions.append(elem[\"label\"])\n",
        "        triggers.append(elem[\"trigger\"])\n",
        "    return text, emotions, triggers\n",
        "text, emotions, triggers = get_dialogue_no_context(dialogue_index)"
      ]
    },
    {
      "cell_type": "code",
      "execution_count": 77,
      "metadata": {},
      "outputs": [],
      "source": [
        "# get prediction for this dialogue\n",
        "def get_prediction(dialogue_index, model):\n",
        "    text, emotions, triggers = get_dialogue_no_context(dialogue_index)\n",
        "    predictions_emotions = []\n",
        "    predictions_triggers = []\n",
        "    for i in range(len(text)):\n",
        "        inputs = tokenizer.encode_plus(\n",
        "            text[i],\n",
        "            add_special_tokens=True,\n",
        "            max_length=MAX_LEN,\n",
        "            padding='max_length',\n",
        "            return_token_type_ids=True,\n",
        "            truncation=True,\n",
        "        )\n",
        "\n",
        "        ids = torch.tensor(inputs['input_ids'], dtype=torch.long).to(device)\n",
        "        mask = torch.tensor(inputs['attention_mask'], dtype=torch.long).to(device)\n",
        "        token_type_ids = torch.tensor(inputs[\"token_type_ids\"], dtype=torch.long).to(device)\n",
        "        output_emotion, output_trigger = model(ids.unsqueeze(0), mask.unsqueeze(0), token_type_ids.unsqueeze(0))\n",
        "        predictions_emotions.extend(torch.argmax(output_emotion, axis=1).cpu().detach().numpy().tolist())\n",
        "        predictions_triggers.extend(torch.sigmoid(output_trigger).cpu().detach().numpy().tolist())\n",
        "    return predictions_emotions, predictions_triggers"
      ]
    },
    {
      "cell_type": "markdown",
      "metadata": {},
      "source": [
        "Predictions for model without context:"
      ]
    },
    {
      "cell_type": "code",
      "execution_count": 78,
      "metadata": {},
      "outputs": [
        {
          "name": "stdout",
          "output_type": "stream",
          "text": [
            "Text: [\"Hey, so uh, y'know how there's something I wanted to talk to you about?\", 'Oh yeah!', \"Well, y'know how I'm trying to work things out with Emily.\", \"Well, there's this one thingÂ… Okay,  here goes.\", 'I made a promise that--Oh hey!', 'What?', \"You're nose is bleeding!\", 'Oh God.', 'No!', 'Oh not again!', 'This-this happened when my grandfather died.', \"It's ugh!\", 'Sorry.']\n",
            "Emotions: ['neutral', 'joy', 'joy', 'neutral', 'surprise', 'neutral', 'surprise', 'sadness', 'sadness', 'anger', 'sadness', 'disgust', 'sadness']\n",
            "Triggers: [0.0, 0.0, 0.0, 0.0, 0.0, 0.0, 0.0, 0.0, 0.0, 0.0, 0.0, 0.0, 1.0]\n",
            "Predictions emotions: ['joy', 'joy', 'joy', 'joy', 'joy', 'surprise', 'neutral', 'surprise', 'surprise', 'joy', 'sadness', 'disgust', 'neutral']\n",
            "Predictions triggers: [0, 0, 0, 0, 0, 0, 0, 0, 0, 0, 0, 0, 0]\n"
          ]
        }
      ],
      "source": [
        "predictions_emotions, predictions_triggers = get_prediction(dialogue_index, model)\n",
        "# change predictions to match the format of the targets\n",
        "predictions_triggers = trigger_max(predictions_triggers)\n",
        "# change predicted emotions from integers to strings\n",
        "predictions_emotions = [index_to_emotion[elem] for elem in predictions_emotions]\n",
        "print(f\"Text: {text}\")\n",
        "print(f\"Emotions: {emotions}\")\n",
        "print(f\"Triggers: {triggers}\")\n",
        "print(f\"Predictions emotions: {predictions_emotions}\")\n",
        "print(f\"Predictions triggers: {predictions_triggers}\")"
      ]
    },
    {
      "cell_type": "markdown",
      "metadata": {},
      "source": [
        "Predictions for model with context:"
      ]
    },
    {
      "cell_type": "code",
      "execution_count": 79,
      "metadata": {},
      "outputs": [
        {
          "name": "stdout",
          "output_type": "stream",
          "text": [
            "Text: [\"Hey, so uh, y'know how there's something I wanted to talk to you about?\", 'Oh yeah!', \"Well, y'know how I'm trying to work things out with Emily.\", \"Well, there's this one thingÂ… Okay,  here goes.\", 'I made a promise that--Oh hey!', 'What?', \"You're nose is bleeding!\", 'Oh God.', 'No!', 'Oh not again!', 'This-this happened when my grandfather died.', \"It's ugh!\", 'Sorry.']\n",
            "Emotions: ['neutral', 'joy', 'joy', 'neutral', 'surprise', 'neutral', 'surprise', 'sadness', 'sadness', 'anger', 'sadness', 'disgust', 'sadness']\n",
            "Triggers: [0.0, 0.0, 0.0, 0.0, 0.0, 0.0, 0.0, 0.0, 0.0, 0.0, 0.0, 0.0, 1.0]\n",
            "Predictions emotions with context: ['joy', 'joy', 'joy', 'joy', 'joy', 'joy', 'joy', 'joy', 'joy', 'joy', 'joy', 'joy', 'joy']\n",
            "Predictions triggers with context: [0, 0, 0, 0, 0, 0, 0, 0, 0, 0, 0, 0, 0]\n"
          ]
        }
      ],
      "source": [
        "predictions_emotions_context, predictions_triggers_context = get_prediction(dialogue_index, model_context)\n",
        "# change predictions to match the format of the targets\n",
        "predictions_triggers_context = trigger_max(predictions_triggers_context)\n",
        "# change predicted emotions from integers to strings\n",
        "predictions_emotions_context = [index_to_emotion[elem] for elem in predictions_emotions_context]\n",
        "print(f\"Text: {text}\")\n",
        "print(f\"Emotions: {emotions}\")\n",
        "print(f\"Triggers: {triggers}\")\n",
        "print(f\"Predictions emotions with context: {predictions_emotions_context}\")\n",
        "print(f\"Predictions triggers with context: {predictions_triggers_context}\")"
      ]
    },
    {
      "cell_type": "markdown",
      "metadata": {},
      "source": [
        "As we can see from both predictions the models are usually able to classify the majority of the emotions and triggers correctly. The context model struggles more, specially for minority classes. \n",
        "\n",
        "The trigger label is quite hard to predict as it doesn't seem to be related to the emotion expressed by the speaker. This is probably due to the fact that the trigger is not always expressed by the speaker, but it is also expressed by the listener. This is something that the models are not able to learn from the data as the trigger is always expressed by the speaker in the data.\n",
        "\n",
        "From extended manual data analysis we also agreed on the triggers being set to 1 inconsistently, as we personally struggled to understand and predict the correct labeling."
      ]
    },
    {
      "cell_type": "markdown",
      "metadata": {},
      "source": [
        "What we need to check now is if the context is actually needed."
      ]
    },
    {
      "cell_type": "markdown",
      "metadata": {},
      "source": [
        "### Importance of context:"
      ]
    },
    {
      "cell_type": "markdown",
      "metadata": {},
      "source": [
        "Another aspect we want to explore is the importance of context in the task. In order to do this we compare the results of the models with and without context."
      ]
    },
    {
      "cell_type": "code",
      "execution_count": 80,
      "metadata": {},
      "outputs": [
        {
          "data": {
            "image/png": "[encoded data removed]",
            "text/plain": [
              "<Figure size 2000x1000 with 4 Axes>"
            ]
          },
          "metadata": {},
          "output_type": "display_data"
        }
      ],
      "source": [
        "plt.figure(figsize=(20,10))\n",
        "plt.subplot(2, 2, 1)\n",
        "plt.bar([\"Macro w/o context\", \"Macro + context\"], [macro_f1_score_emotions, macro_f1_score_emotions_context], color=set_color(2))\n",
        "plt.title(\"F1 score for emotions\")\n",
        "plt.xlabel(\"F1 score type\")\n",
        "plt.ylabel(\"F1 score\")\n",
        "plt.subplot(2, 2, 2)\n",
        "plt.bar([\"Macro w/o context\", \"Macro + context\"], [macro_f1_score_triggers, macro_f1_score_triggers_context], color=set_color(2))\n",
        "plt.title(\"F1 score for triggers\")\n",
        "plt.xlabel(\"F1 score type\")\n",
        "plt.ylabel(\"F1 score\")\n",
        "plt.subplot(2, 2, 3)\n",
        "plt.bar([\"Weighted w/o context\", \"Weighted + context\"], [weighted_f1_score_emotions, weighted_f1_score_emotions_context], color=set_color(2))\n",
        "plt.title(\"F1 score for emotions\")\n",
        "plt.xlabel(\"F1 score type\")\n",
        "plt.ylabel(\"F1 score\")\n",
        "plt.subplot(2, 2, 4)\n",
        "plt.bar([\"Weighted w/o context\", \"Weighted + context\"], [weighted_f1_score_triggers, weighted_f1_score_triggers_context], color=set_color(2))\n",
        "plt.title(\"F1 score for triggers\")\n",
        "plt.xlabel(\"F1 score type\")\n",
        "plt.ylabel(\"F1 score\")\n",
        "plt.show()"
      ]
    },
    {
      "cell_type": "markdown",
      "metadata": {},
      "source": [
        "Results still show that the model without context performs better than the one with context. This is probably due to the fact that the context is not always useful in the task, as the sentences are short and the meaning is usually clear from the sentence itself.\n",
        "\n",
        "Let's the correlation between the emotions, triggers and the context."
      ]
    },
    {
      "cell_type": "markdown",
      "metadata": {},
      "source": [
        "We get each sentence with no duplicates:"
      ]
    },
    {
      "cell_type": "code",
      "execution_count": 81,
      "metadata": {},
      "outputs": [],
      "source": [
        "def data_splitter_no_duplicates_sent(df):\n",
        "    columns = [\"sentence\"]\n",
        "     # split the utteracnes into sentences with their corresponding labels\n",
        "    new_df = pd.DataFrame(columns=columns)\n",
        "    for index, row in df.iterrows():\n",
        "        for i in range(len(row[\"utterances\"])):\n",
        "            # We also split emotions and triggers while adding back the dialogue index which is the same for all the sentences in the same dialogue\n",
        "            new_row = pd.DataFrame({\"sentence\": [row[\"utterances\"][i]]})\n",
        "            new_df = pd.concat([new_df, new_row], ignore_index=True).drop_duplicates()\n",
        "    return new_df"
      ]
    },
    {
      "cell_type": "markdown",
      "metadata": {},
      "source": [
        "And each pair of sentence-emotion and sentence-trigger with no duplicates:"
      ]
    },
    {
      "cell_type": "code",
      "execution_count": 82,
      "metadata": {},
      "outputs": [],
      "source": [
        "def data_splitter_no_duplicates_emo(df):\n",
        "    columns = [\"label\", \"sentence\"]\n",
        "     # split the utteracnes into sentences with their corresponding labels\n",
        "    new_df = pd.DataFrame(columns=columns)\n",
        "    for index, row in df.iterrows():\n",
        "        for i in range(len(row[\"emotions\"])):\n",
        "            # We also split emotions and triggers while adding back the dialogue index which is the same for all the sentences in the same dialogue\n",
        "            new_row = pd.DataFrame({\"label\": [row[\"emotions\"][i]], \"sentence\": [row[\"utterances\"][i]]})\n",
        "            new_df = pd.concat([new_df, new_row], ignore_index=True).drop_duplicates()\n",
        "    return new_df"
      ]
    },
    {
      "cell_type": "code",
      "execution_count": 83,
      "metadata": {},
      "outputs": [],
      "source": [
        "def data_splitter_no_duplicates_tri(df):\n",
        "    columns = [\"trigger\", \"sentence\"]\n",
        "     # split the utteracnes into sentences with their corresponding labels\n",
        "    new_df = pd.DataFrame(columns=columns)\n",
        "    for index, row in df.iterrows():\n",
        "        for i in range(len(row[\"triggers\"])):\n",
        "            # We also split emotions and triggers while adding back the dialogue index which is the same for all the sentences in the same dialogue\n",
        "            new_row = pd.DataFrame({\"trigger\": [row[\"triggers\"][i]], \"sentence\": [row[\"utterances\"][i]]})\n",
        "            new_df = pd.concat([new_df, new_row], ignore_index=True).drop_duplicates()\n",
        "    return new_df"
      ]
    },
    {
      "cell_type": "markdown",
      "metadata": {},
      "source": [
        "We compute the correaltion between the emotions and the triggers and the context."
      ]
    },
    {
      "cell_type": "code",
      "execution_count": 84,
      "metadata": {},
      "outputs": [
        {
          "name": "stderr",
          "output_type": "stream",
          "text": [
            "C:\\Users\\alepa\\AppData\\Local\\Temp\\ipykernel_18340\\536741965.py:9: FutureWarning: The behavior of DataFrame concatenation with empty or all-NA entries is deprecated. In a future version, this will no longer exclude empty or all-NA columns when determining the result dtypes. To retain the old behavior, exclude the relevant entries before the concat operation.\n",
            "  new_df = pd.concat([new_df, new_row], ignore_index=True).drop_duplicates()\n"
          ]
        }
      ],
      "source": [
        "bert_train_sent = data_splitter_no_duplicates_sent(df_train.copy())\n",
        "bert_train_emo = data_splitter_no_duplicates_emo(df_train.copy())\n",
        "bert_train_tri = data_splitter_no_duplicates_tri(df_train.copy())\n",
        "\n",
        "len_sent = len(bert_train_sent)\n",
        "len_emo = len(bert_train_emo)\n",
        "len_tri = len(bert_train_tri)"
      ]
    },
    {
      "cell_type": "markdown",
      "metadata": {},
      "source": [
        "The correlation is computed as the length of the pair sentence-emotion and sentence-trigger minus the lenght of the sentence only set, divided by the length of the sentence only set."
      ]
    },
    {
      "cell_type": "code",
      "execution_count": 85,
      "metadata": {},
      "outputs": [
        {
          "name": "stdout",
          "output_type": "stream",
          "text": [
            "Length of training set with only sentences: 6296\n",
            "Length of training set with only emotions and sentences: 6391\n",
            "Length of training set with only triggers and sentences: 8847\n",
            "Percentage of emotions which were dependent on the context: 1.5088945362134687%\n",
            "Percentage of triggers which were dependent on the context: 40.517789072426936%\n"
          ]
        }
      ],
      "source": [
        "print(f\"Length of training set with only sentences: {len_sent}\")\n",
        "print(f\"Length of training set with only emotions and sentences: {len_emo}\")\n",
        "print(f\"Length of training set with only triggers and sentences: {len_tri}\")\n",
        "\n",
        "print(f\"Percentage of emotions which were dependent on the context: {((len_emo - len_sent) / len_sent) * 100}%\")\n",
        "print(f\"Percentage of triggers which were dependent on the context: {((len_tri - len_sent) / len_sent) * 100}%\")"
      ]
    },
    {
      "cell_type": "markdown",
      "metadata": {},
      "source": [
        "As we can see from the results the correlation between the emotions and the triggers and the context is really low. This is probably due to the fact that the context is not always useful in the task, as the sentences are short and the meaning is usually clear from the sentence itself. More specifically emotions have a really low correlation with the context, while triggers have a slightly higher correlation with the context. This is motivated by triggers supposedly measuring an emotion switch in the dialogue, inevitably related to more than just a single sentence.\n",
        "\n",
        "This result is also in line with the fact that the model without context performs better than the one with context."
      ]
    },
    {
      "cell_type": "code",
      "execution_count": 86,
      "metadata": {},
      "outputs": [
        {
          "data": {
            "text/plain": [
              "49091"
            ]
          },
          "execution_count": 86,
          "metadata": {},
          "output_type": "execute_result"
        }
      ],
      "source": [
        "import gc\n",
        "\n",
        "model = None\n",
        "del model\n",
        "\n",
        "with torch.no_grad():\n",
        "    torch.cuda.empty_cache()\n",
        "\n",
        "gc.collect()"
      ]
    }
  ],
  "metadata": {
    "accelerator": "GPU",
    "colab": {
      "gpuType": "T4",
      "provenance": []
    },
    "kernelspec": {
      "display_name": "Python 3",
      "name": "python3"
    },
    "language_info": {
      "codemirror_mode": {
        "name": "ipython",
        "version": 3
      },
      "file_extension": ".py",
      "mimetype": "text/x-python",
      "name": "python",
      "nbconvert_exporter": "python",
      "pygments_lexer": "ipython3",
      "version": "3.10.11"
    }
  },
  "nbformat": 4,
  "nbformat_minor": 0
}
