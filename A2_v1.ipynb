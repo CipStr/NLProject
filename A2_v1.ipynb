{
 "cells": [
  {
   "cell_type": "markdown",
   "metadata": {},
   "source": [
    "# Assignment 2\n",
    "\n",
    "**Credits**: Federico Ruggeri, Eleonora Mancini, Paolo Torroni\n",
    "\n",
    "**Keywords**: Human Value Detection, Multi-label classification, Transformers, BERT"
   ]
  },
  {
   "cell_type": "markdown",
   "metadata": {},
   "source": [
    "# Imports and libraries needed"
   ]
  },
  {
   "cell_type": "code",
   "execution_count": 2,
   "metadata": {},
   "outputs": [],
   "source": [
    "import pandas as pd \n",
    "import numpy as np\n",
    "import matplotlib.pyplot as plt\n",
    "from tqdm import tqdm\n",
    "import seaborn as sns\n",
    "import sklearn\n",
    "import random\n",
    "import os\n",
    "from sklearn.model_selection import train_test_split\n",
    "from sklearn.metrics import accuracy_score\n",
    "from tensorflow.keras.models import Sequential\n",
    "from tensorflow.keras.layers import Dense"
   ]
  },
  {
   "cell_type": "markdown",
   "metadata": {},
   "source": [
    "# Task 1: Corpus\n",
    "\n",
    "Check the official page of the challenge [here](https://touche.webis.de/semeval23/touche23-web/).\n",
    "\n",
    "The challenge offers several corpora for evaluation and testing.\n",
    "\n",
    "You are going to work with the standard training, validation, and test splits.\n",
    "\n",
    "#### Arguments\n",
    "* arguments-training.tsv\n",
    "* arguments-validation.tsv\n",
    "* arguments-test.tsv\n",
    "\n",
    "#### Human values\n",
    "* labels-training.tsv\n",
    "* labels-validation.tsv\n",
    "* labels-test.tsv"
   ]
  },
  {
   "cell_type": "markdown",
   "metadata": {},
   "source": [
    "### Instructions\n",
    "\n",
    "* **Download** the specificed training, validation, and test files.\n",
    "* **Encode** split files into a pandas.DataFrame object.\n",
    "* For each split, **merge** the arguments and labels dataframes into a single dataframe.\n",
    "* **Merge** level 2 annotations to level 3 categories."
   ]
  },
  {
   "cell_type": "markdown",
   "metadata": {},
   "source": [
    "### Train set"
   ]
  },
  {
   "cell_type": "code",
   "execution_count": 31,
   "metadata": {},
   "outputs": [
    {
     "name": "stdout",
     "output_type": "stream",
     "text": [
      "0 Argument ID                                   Conclusion       Stance  \\\n",
      "1      A01002                  We should ban human cloning  in favor of   \n",
      "2      A01005                      We should ban fast food  in favor of   \n",
      "3      A01006  We should end the use of economic sanctions      against   \n",
      "4      A01007         We should abolish capital punishment      against   \n",
      "5      A01008                We should ban factory farming      against   \n",
      "\n",
      "0                                          Premise\\n  \n",
      "1  we should ban human cloning as it will only ca...  \n",
      "2  fast food should be banned because it is reall...  \n",
      "3  sometimes economic sanctions are the only thin...  \n",
      "4  capital punishment is sometimes the only optio...  \n",
      "5  factory farming allows for the production of c...  \n",
      "(5393, 4)\n"
     ]
    }
   ],
   "source": [
    "# Create documents dataframe\n",
    "dataframes = []\n",
    "\n",
    "with open('arguments/arguments-training.tsv', 'r', encoding='utf-8') as f:\n",
    "    lines = f.readlines()\n",
    "    data = [line.split('\\t') for line in lines]\n",
    "    df_train = pd.DataFrame(data)\n",
    "    df_train.columns = df_train.iloc[0]\n",
    "    df_train = df_train[1:]\n",
    "\n",
    "print(df_train.head())\n",
    "print(df_train.shape)\n"
   ]
  },
  {
   "cell_type": "code",
   "execution_count": 30,
   "metadata": {},
   "outputs": [
    {
     "name": "stdout",
     "output_type": "stream",
     "text": [
      "0 Argument ID Self-direction: thought Self-direction: action Stimulation  \\\n",
      "1      A01002                       0                      0           0   \n",
      "2      A01005                       0                      0           0   \n",
      "3      A01006                       0                      0           0   \n",
      "4      A01007                       0                      0           0   \n",
      "5      A01008                       0                      0           0   \n",
      "\n",
      "0 Hedonism Achievement Power: dominance Power: resources Face  \\\n",
      "1        0           0                0                0    0   \n",
      "2        0           0                0                0    0   \n",
      "3        0           0                1                0    0   \n",
      "4        0           0                0                0    0   \n",
      "5        0           0                0                0    0   \n",
      "\n",
      "0 Security: personal  ... Tradition Conformity: rules  \\\n",
      "1                  0  ...         0                 0   \n",
      "2                  1  ...         0                 0   \n",
      "3                  0  ...         0                 0   \n",
      "4                  0  ...         0                 1   \n",
      "5                  1  ...         0                 0   \n",
      "\n",
      "0 Conformity: interpersonal Humility Benevolence: caring  \\\n",
      "1                         0        0                   0   \n",
      "2                         0        0                   0   \n",
      "3                         0        0                   0   \n",
      "4                         0        0                   0   \n",
      "5                         0        0                   1   \n",
      "\n",
      "0 Benevolence: dependability Universalism: concern Universalism: nature  \\\n",
      "1                          0                     0                    0   \n",
      "2                          0                     0                    0   \n",
      "3                          0                     0                    0   \n",
      "4                          0                     1                    0   \n",
      "5                          0                     1                    0   \n",
      "\n",
      "0 Universalism: tolerance Universalism: objectivity\\n  \n",
      "1                       0                         0\\n  \n",
      "2                       0                         0\\n  \n",
      "3                       0                         0\\n  \n",
      "4                       0                         0\\n  \n",
      "5                       0                         0\\n  \n",
      "\n",
      "[5 rows x 21 columns]\n",
      "(5393, 21)\n"
     ]
    }
   ],
   "source": [
    "dataframes = []\n",
    "\n",
    "with open('arguments/labels-training.tsv', 'r', encoding='utf-8') as f:\n",
    "    lines = f.readlines()\n",
    "    data = [line.split('\\t') for line in lines]\n",
    "    df_train_label = pd.DataFrame(data)\n",
    "    df_train_label.columns = df_train_label.iloc[0]\n",
    "    df_train_label = df_train_label[1:]\n",
    "\n",
    "print(df_train_label.head())\n",
    "print(df_train_label.shape)"
   ]
  },
  {
   "cell_type": "code",
   "execution_count": 34,
   "metadata": {},
   "outputs": [
    {
     "name": "stdout",
     "output_type": "stream",
     "text": [
      "0 Argument ID                                   Conclusion       Stance  \\\n",
      "1      A01002                  We should ban human cloning  in favor of   \n",
      "2      A01005                      We should ban fast food  in favor of   \n",
      "3      A01006  We should end the use of economic sanctions      against   \n",
      "4      A01007         We should abolish capital punishment      against   \n",
      "5      A01008                We should ban factory farming      against   \n",
      "\n",
      "0                                          Premise\\n Argument ID  \\\n",
      "1  we should ban human cloning as it will only ca...      A01002   \n",
      "2  fast food should be banned because it is reall...      A01005   \n",
      "3  sometimes economic sanctions are the only thin...      A01006   \n",
      "4  capital punishment is sometimes the only optio...      A01007   \n",
      "5  factory farming allows for the production of c...      A01008   \n",
      "\n",
      "0 Self-direction: thought Self-direction: action Stimulation Hedonism  \\\n",
      "1                       0                      0           0        0   \n",
      "2                       0                      0           0        0   \n",
      "3                       0                      0           0        0   \n",
      "4                       0                      0           0        0   \n",
      "5                       0                      0           0        0   \n",
      "\n",
      "0 Achievement  ... Tradition Conformity: rules Conformity: interpersonal  \\\n",
      "1           0  ...         0                 0                         0   \n",
      "2           0  ...         0                 0                         0   \n",
      "3           0  ...         0                 0                         0   \n",
      "4           0  ...         0                 1                         0   \n",
      "5           0  ...         0                 0                         0   \n",
      "\n",
      "0 Humility Benevolence: caring Benevolence: dependability  \\\n",
      "1        0                   0                          0   \n",
      "2        0                   0                          0   \n",
      "3        0                   0                          0   \n",
      "4        0                   0                          0   \n",
      "5        0                   1                          0   \n",
      "\n",
      "0 Universalism: concern Universalism: nature Universalism: tolerance  \\\n",
      "1                     0                    0                       0   \n",
      "2                     0                    0                       0   \n",
      "3                     0                    0                       0   \n",
      "4                     1                    0                       0   \n",
      "5                     1                    0                       0   \n",
      "\n",
      "0 Universalism: objectivity\\n  \n",
      "1                         0\\n  \n",
      "2                         0\\n  \n",
      "3                         0\\n  \n",
      "4                         0\\n  \n",
      "5                         0\\n  \n",
      "\n",
      "[5 rows x 25 columns]\n",
      "(5393, 25)\n"
     ]
    }
   ],
   "source": [
    "df_all_train = pd.concat([df_train, df_train_label.reindex(df_train.index)], axis=1)\n",
    "print(df_all_train.head())\n",
    "print(df_all_train.shape)"
   ]
  },
  {
   "cell_type": "markdown",
   "metadata": {},
   "source": [
    "### Validation set"
   ]
  },
  {
   "cell_type": "code",
   "execution_count": 36,
   "metadata": {},
   "outputs": [
    {
     "name": "stdout",
     "output_type": "stream",
     "text": [
      "0 Argument ID                                       Conclusion       Stance  \\\n",
      "1      A01001                   Entrapment should be legalized  in favor of   \n",
      "2      A01012  The use of public defenders should be mandatory  in favor of   \n",
      "3      A02001                    Payday loans should be banned  in favor of   \n",
      "4      A02002                       Surrogacy should be banned      against   \n",
      "5      A02009                   Entrapment should be legalized      against   \n",
      "\n",
      "0                                          Premise\\n  \n",
      "1  if entrapment can serve to more easily capture...  \n",
      "2  the use of public defenders should be mandator...  \n",
      "3  payday loans create a more impoverished societ...  \n",
      "4  Surrogacy should not be banned as it is the wo...  \n",
      "5  entrapment is gravely immoral and against huma...  \n",
      "(1896, 4)\n"
     ]
    }
   ],
   "source": [
    "# Create documents dataframe\n",
    "dataframes = []\n",
    "\n",
    "with open('arguments/arguments-validation.tsv', 'r', encoding='utf-8') as f:\n",
    "    lines = f.readlines()\n",
    "    data = [line.split('\\t') for line in lines]\n",
    "    df_val = pd.DataFrame(data)\n",
    "    df_val.columns = df_val.iloc[0]\n",
    "    df_val = df_val[1:]\n",
    "\n",
    "print(df_val.head())\n",
    "print(df_val.shape)"
   ]
  },
  {
   "cell_type": "code",
   "execution_count": 37,
   "metadata": {},
   "outputs": [
    {
     "name": "stdout",
     "output_type": "stream",
     "text": [
      "0 Argument ID Self-direction: thought Self-direction: action Stimulation  \\\n",
      "1      A01001                       0                      0           0   \n",
      "2      A01012                       0                      0           0   \n",
      "3      A02001                       0                      0           0   \n",
      "4      A02002                       0                      1           0   \n",
      "5      A02009                       0                      0           0   \n",
      "\n",
      "0 Hedonism Achievement Power: dominance Power: resources Face  \\\n",
      "1        0           0                0                0    0   \n",
      "2        0           0                0                0    0   \n",
      "3        0           0                0                0    0   \n",
      "4        0           0                0                0    0   \n",
      "5        0           0                0                0    0   \n",
      "\n",
      "0 Security: personal  ... Tradition Conformity: rules  \\\n",
      "1                  0  ...         0                 0   \n",
      "2                  0  ...         0                 0   \n",
      "3                  1  ...         0                 0   \n",
      "4                  0  ...         0                 0   \n",
      "5                  0  ...         0                 1   \n",
      "\n",
      "0 Conformity: interpersonal Humility Benevolence: caring  \\\n",
      "1                         0        0                   0   \n",
      "2                         0        0                   0   \n",
      "3                         0        0                   0   \n",
      "4                         0        0                   0   \n",
      "5                         0        0                   0   \n",
      "\n",
      "0 Benevolence: dependability Universalism: concern Universalism: nature  \\\n",
      "1                          0                     0                    0   \n",
      "2                          0                     1                    0   \n",
      "3                          0                     1                    0   \n",
      "4                          0                     0                    0   \n",
      "5                          0                     1                    0   \n",
      "\n",
      "0 Universalism: tolerance Universalism: objectivity\\n  \n",
      "1                       0                         0\\n  \n",
      "2                       0                         0\\n  \n",
      "3                       0                         0\\n  \n",
      "4                       0                         0\\n  \n",
      "5                       0                         1\\n  \n",
      "\n",
      "[5 rows x 21 columns]\n",
      "(1896, 21)\n"
     ]
    }
   ],
   "source": [
    "dataframes = []\n",
    "\n",
    "with open('arguments/labels-validation.tsv', 'r', encoding='utf-8') as f:\n",
    "    lines = f.readlines()\n",
    "    data = [line.split('\\t') for line in lines]\n",
    "    df_val_label = pd.DataFrame(data)\n",
    "    df_val_label.columns = df_val_label.iloc[0]\n",
    "    df_val_label = df_val_label[1:]\n",
    "\n",
    "print(df_val_label.head())\n",
    "print(df_val_label.shape)"
   ]
  },
  {
   "cell_type": "code",
   "execution_count": 38,
   "metadata": {},
   "outputs": [
    {
     "name": "stdout",
     "output_type": "stream",
     "text": [
      "0 Argument ID                                       Conclusion       Stance  \\\n",
      "1      A01001                   Entrapment should be legalized  in favor of   \n",
      "2      A01012  The use of public defenders should be mandatory  in favor of   \n",
      "3      A02001                    Payday loans should be banned  in favor of   \n",
      "4      A02002                       Surrogacy should be banned      against   \n",
      "5      A02009                   Entrapment should be legalized      against   \n",
      "\n",
      "0                                          Premise\\n Argument ID  \\\n",
      "1  if entrapment can serve to more easily capture...      A01001   \n",
      "2  the use of public defenders should be mandator...      A01012   \n",
      "3  payday loans create a more impoverished societ...      A02001   \n",
      "4  Surrogacy should not be banned as it is the wo...      A02002   \n",
      "5  entrapment is gravely immoral and against huma...      A02009   \n",
      "\n",
      "0 Self-direction: thought Self-direction: action Stimulation Hedonism  \\\n",
      "1                       0                      0           0        0   \n",
      "2                       0                      0           0        0   \n",
      "3                       0                      0           0        0   \n",
      "4                       0                      1           0        0   \n",
      "5                       0                      0           0        0   \n",
      "\n",
      "0 Achievement  ... Tradition Conformity: rules Conformity: interpersonal  \\\n",
      "1           0  ...         0                 0                         0   \n",
      "2           0  ...         0                 0                         0   \n",
      "3           0  ...         0                 0                         0   \n",
      "4           0  ...         0                 0                         0   \n",
      "5           0  ...         0                 1                         0   \n",
      "\n",
      "0 Humility Benevolence: caring Benevolence: dependability  \\\n",
      "1        0                   0                          0   \n",
      "2        0                   0                          0   \n",
      "3        0                   0                          0   \n",
      "4        0                   0                          0   \n",
      "5        0                   0                          0   \n",
      "\n",
      "0 Universalism: concern Universalism: nature Universalism: tolerance  \\\n",
      "1                     0                    0                       0   \n",
      "2                     1                    0                       0   \n",
      "3                     1                    0                       0   \n",
      "4                     0                    0                       0   \n",
      "5                     1                    0                       0   \n",
      "\n",
      "0 Universalism: objectivity\\n  \n",
      "1                         0\\n  \n",
      "2                         0\\n  \n",
      "3                         0\\n  \n",
      "4                         0\\n  \n",
      "5                         1\\n  \n",
      "\n",
      "[5 rows x 25 columns]\n",
      "(1896, 25)\n"
     ]
    }
   ],
   "source": [
    "df_all_val = pd.concat([df_val, df_val_label.reindex(df_val.index)], axis=1)\n",
    "print(df_all_val.head())\n",
    "print(df_all_val.shape)"
   ]
  },
  {
   "cell_type": "markdown",
   "metadata": {},
   "source": [
    "### Test set"
   ]
  },
  {
   "cell_type": "code",
   "execution_count": 39,
   "metadata": {},
   "outputs": [
    {
     "name": "stdout",
     "output_type": "stream",
     "text": [
      "0 Argument ID                          Conclusion       Stance  \\\n",
      "1      A26004    We should end affirmative action      against   \n",
      "2      A26010    We should end affirmative action  in favor of   \n",
      "3      A26016           We should ban naturopathy  in favor of   \n",
      "4      A26024  We should prohibit women in combat  in favor of   \n",
      "5      A26026           We should ban naturopathy  in favor of   \n",
      "\n",
      "0                                          Premise\\n  \n",
      "1  affirmative action helps with employment equit...  \n",
      "2  affirmative action can be considered discrimin...  \n",
      "3  naturopathy is very dangerous for the most vul...  \n",
      "4  women shouldn't be in combat because they aren...  \n",
      "5  once eradicated illnesses are returning due to...  \n",
      "(1576, 4)\n"
     ]
    }
   ],
   "source": [
    "# Create documents dataframe\n",
    "dataframes = []\n",
    "\n",
    "with open('arguments/arguments-test.tsv', 'r', encoding='utf-8') as f:\n",
    "    lines = f.readlines()\n",
    "    data = [line.split('\\t') for line in lines]\n",
    "    df_test = pd.DataFrame(data)\n",
    "    df_test.columns = df_test.iloc[0]\n",
    "    df_test = df_test[1:]\n",
    "\n",
    "print(df_test.head())\n",
    "print(df_test.shape)"
   ]
  },
  {
   "cell_type": "code",
   "execution_count": 40,
   "metadata": {},
   "outputs": [
    {
     "name": "stdout",
     "output_type": "stream",
     "text": [
      "0 Argument ID Self-direction: thought Self-direction: action Stimulation  \\\n",
      "1      A26004                       0                      0           0   \n",
      "2      A26010                       0                      0           0   \n",
      "3      A26016                       0                      0           0   \n",
      "4      A26024                       0                      0           0   \n",
      "5      A26026                       0                      0           0   \n",
      "\n",
      "0 Hedonism Achievement Power: dominance Power: resources Face  \\\n",
      "1        0           1                0                0    0   \n",
      "2        0           1                0                0    0   \n",
      "3        0           1                0                0    0   \n",
      "4        0           1                0                0    0   \n",
      "5        0           1                0                0    0   \n",
      "\n",
      "0 Security: personal  ... Tradition Conformity: rules  \\\n",
      "1                  1  ...         0                 0   \n",
      "2                  0  ...         0                 0   \n",
      "3                  1  ...         0                 0   \n",
      "4                  0  ...         0                 0   \n",
      "5                  1  ...         0                 0   \n",
      "\n",
      "0 Conformity: interpersonal Humility Benevolence: caring  \\\n",
      "1                         0        0                   0   \n",
      "2                         0        0                   0   \n",
      "3                         0        0                   0   \n",
      "4                         0        0                   0   \n",
      "5                         0        0                   1   \n",
      "\n",
      "0 Benevolence: dependability Universalism: concern Universalism: nature  \\\n",
      "1                          0                     1                    0   \n",
      "2                          0                     1                    0   \n",
      "3                          1                     1                    0   \n",
      "4                          0                     0                    0   \n",
      "5                          1                     0                    0   \n",
      "\n",
      "0 Universalism: tolerance Universalism: objectivity\\n  \n",
      "1                       1                         0\\n  \n",
      "2                       1                         1\\n  \n",
      "3                       0                         0\\n  \n",
      "4                       0                         0\\n  \n",
      "5                       0                         0\\n  \n",
      "\n",
      "[5 rows x 21 columns]\n",
      "(1576, 21)\n"
     ]
    }
   ],
   "source": [
    "dataframes = []\n",
    "\n",
    "with open('arguments/labels-test.tsv', 'r', encoding='utf-8') as f:\n",
    "    lines = f.readlines()\n",
    "    data = [line.split('\\t') for line in lines]\n",
    "    df_test_label = pd.DataFrame(data)\n",
    "    df_test_label.columns = df_test_label.iloc[0]\n",
    "    df_test_label = df_test_label[1:]\n",
    "\n",
    "print(df_test_label.head())\n",
    "print(df_test_label.shape)"
   ]
  },
  {
   "cell_type": "code",
   "execution_count": 41,
   "metadata": {},
   "outputs": [
    {
     "name": "stdout",
     "output_type": "stream",
     "text": [
      "0 Argument ID                          Conclusion       Stance  \\\n",
      "1      A26004    We should end affirmative action      against   \n",
      "2      A26010    We should end affirmative action  in favor of   \n",
      "3      A26016           We should ban naturopathy  in favor of   \n",
      "4      A26024  We should prohibit women in combat  in favor of   \n",
      "5      A26026           We should ban naturopathy  in favor of   \n",
      "\n",
      "0                                          Premise\\n Argument ID  \\\n",
      "1  affirmative action helps with employment equit...      A26004   \n",
      "2  affirmative action can be considered discrimin...      A26010   \n",
      "3  naturopathy is very dangerous for the most vul...      A26016   \n",
      "4  women shouldn't be in combat because they aren...      A26024   \n",
      "5  once eradicated illnesses are returning due to...      A26026   \n",
      "\n",
      "0 Self-direction: thought Self-direction: action Stimulation Hedonism  \\\n",
      "1                       0                      0           0        0   \n",
      "2                       0                      0           0        0   \n",
      "3                       0                      0           0        0   \n",
      "4                       0                      0           0        0   \n",
      "5                       0                      0           0        0   \n",
      "\n",
      "0 Achievement  ... Tradition Conformity: rules Conformity: interpersonal  \\\n",
      "1           1  ...         0                 0                         0   \n",
      "2           1  ...         0                 0                         0   \n",
      "3           1  ...         0                 0                         0   \n",
      "4           1  ...         0                 0                         0   \n",
      "5           1  ...         0                 0                         0   \n",
      "\n",
      "0 Humility Benevolence: caring Benevolence: dependability  \\\n",
      "1        0                   0                          0   \n",
      "2        0                   0                          0   \n",
      "3        0                   0                          1   \n",
      "4        0                   0                          0   \n",
      "5        0                   1                          1   \n",
      "\n",
      "0 Universalism: concern Universalism: nature Universalism: tolerance  \\\n",
      "1                     1                    0                       1   \n",
      "2                     1                    0                       1   \n",
      "3                     1                    0                       0   \n",
      "4                     0                    0                       0   \n",
      "5                     0                    0                       0   \n",
      "\n",
      "0 Universalism: objectivity\\n  \n",
      "1                         0\\n  \n",
      "2                         1\\n  \n",
      "3                         0\\n  \n",
      "4                         0\\n  \n",
      "5                         0\\n  \n",
      "\n",
      "[5 rows x 25 columns]\n",
      "(1576, 25)\n"
     ]
    }
   ],
   "source": [
    "df_all_test = pd.concat([df_test, df_test_label.reindex(df_test.index)], axis=1)\n",
    "print(df_all_test.head())\n",
    "print(df_all_test.shape)"
   ]
  },
  {
   "cell_type": "markdown",
   "metadata": {},
   "source": [
    "# Task 2: Model definition\n",
    "\n",
    "You are tasked to define several neural models for multi-label classification."
   ]
  },
  {
   "cell_type": "markdown",
   "metadata": {},
   "source": [
    "### Instructions\n",
    "\n",
    "* **Baseline**: implement a random uniform classifier (an individual classifier per category).\n",
    "* **Baseline**: implement a majority classifier (an individual classifier per category).\n",
    "\n",
    "<br/>\n",
    "\n",
    "* **BERT w/ C**: define a BERT-based classifier that receives an argument **conclusion** as input.\n",
    "* **BERT w/ CP**: add argument **premise** as an additional input.\n",
    "* **BERT w/ CPS**: add argument premise-to-conclusion **stance** as an additional input."
   ]
  },
  {
   "cell_type": "markdown",
   "metadata": {},
   "source": [
    "### Implement a random uniform classifier"
   ]
  },
  {
   "cell_type": "code",
   "execution_count": null,
   "metadata": {},
   "outputs": [],
   "source": [
    "# Random uniform classifier using Keras\n",
    "model = Sequential()\n",
    "model.add(Dense(1, input_dim=X_train.shape[1], activation='sigmoid'))\n",
    "\n",
    "# Compile the model\n",
    "model.compile(loss='binary_crossentropy', optimizer='adam', metrics=['accuracy'])"
   ]
  },
  {
   "cell_type": "markdown",
   "metadata": {},
   "source": [
    "### Implement a majority classifier"
   ]
  },
  {
   "cell_type": "code",
   "execution_count": null,
   "metadata": {},
   "outputs": [],
   "source": [
    "# Find the majority class\n",
    "majority_class = np.argmax(np.bincount(y_train))\n",
    "\n",
    "# Majority classifier using Keras\n",
    "model = Sequential()\n",
    "model.add(Dense(1, input_dim=X_train.shape[1], activation='sigmoid', kernel_initializer='zeros', bias_initializer='zeros'))\n",
    "\n",
    "# Set the weights to predict the majority class\n",
    "model.layers[0].set_weights([np.array([[0.0]]), np.array([float(majority_class)])])"
   ]
  },
  {
   "cell_type": "markdown",
   "metadata": {},
   "source": [
    "# Task 3: Metrics\n",
    "\n",
    "Before training the models, you are tasked to define the evaluation metrics for comparison."
   ]
  },
  {
   "cell_type": "markdown",
   "metadata": {},
   "source": [
    "### Instructions\n",
    "\n",
    "* Evaluate your models using per-category binary F1-score.\n",
    "* Compute the average binary F1-score over all categories (macro F1-score)."
   ]
  },
  {
   "cell_type": "code",
   "execution_count": null,
   "metadata": {},
   "outputs": [],
   "source": []
  },
  {
   "cell_type": "markdown",
   "metadata": {},
   "source": [
    "# Task 4: Training and Evaluation\n",
    "\n",
    "You are now tasked to train and evaluate **all** defined models."
   ]
  },
  {
   "cell_type": "markdown",
   "metadata": {},
   "source": [
    "### Instructions\n",
    "\n",
    "* Train **all** models on the train set.\n",
    "* Evaluate **all** models on the validation set.\n",
    "* Pick **at least** three seeds for robust estimation.\n",
    "* Compute metrics on the validation set.\n",
    "* Report **per-category** and **macro** F1-score for comparison."
   ]
  },
  {
   "cell_type": "code",
   "execution_count": null,
   "metadata": {},
   "outputs": [],
   "source": []
  },
  {
   "cell_type": "markdown",
   "metadata": {},
   "source": [
    "# Task 5: Error Analysis\n",
    "\n",
    "You are tasked to discuss your results."
   ]
  },
  {
   "cell_type": "markdown",
   "metadata": {},
   "source": [
    "### Instructions\n",
    "\n",
    "* **Compare** classification performance of BERT-based models with respect to baselines.\n",
    "* Discuss **difference in prediction** between the best performing BERT-based model and its variants."
   ]
  },
  {
   "cell_type": "code",
   "execution_count": null,
   "metadata": {},
   "outputs": [],
   "source": []
  },
  {
   "cell_type": "markdown",
   "metadata": {},
   "source": [
    "# Task 6: Report\n",
    "\n",
    "Wrap up your experiment in a short report (up to 2 pages)."
   ]
  },
  {
   "cell_type": "markdown",
   "metadata": {},
   "source": [
    "### Instructions\n",
    "\n",
    "* Use the NLP course report template.\n",
    "* Summarize each task in the report following the provided template."
   ]
  },
  {
   "cell_type": "code",
   "execution_count": null,
   "metadata": {},
   "outputs": [],
   "source": []
  }
 ],
 "metadata": {
  "kernelspec": {
   "display_name": "Python 3",
   "language": "python",
   "name": "python3"
  },
  "language_info": {
   "codemirror_mode": {
    "name": "ipython",
    "version": 3
   },
   "file_extension": ".py",
   "mimetype": "text/x-python",
   "name": "python",
   "nbconvert_exporter": "python",
   "pygments_lexer": "ipython3",
   "version": "3.10.11"
  }
 },
 "nbformat": 4,
 "nbformat_minor": 2
}
