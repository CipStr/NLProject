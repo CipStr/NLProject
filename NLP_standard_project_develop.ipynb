{
  "cells": [
    {
      "cell_type": "markdown",
      "metadata": {
        "id": "005CLkdt-mxo"
      },
      "source": [
        "# NLP Standard Project:\n",
        "\n",
        "- Students: **Matteo Belletti**, **Alessandro Pasi**, **Stricescu Razvan Ciprian**."
      ]
    },
    {
      "cell_type": "code",
      "execution_count": null,
      "metadata": {},
      "outputs": [],
      "source": [
        "!pip install datasets==2.13.2\n",
        "!pip install accelerate -U\n",
        "!pip install evaluate"
      ]
    },
    {
      "cell_type": "code",
      "execution_count": 2,
      "metadata": {},
      "outputs": [
        {
          "name": "stdout",
          "output_type": "stream",
          "text": [
            "Collecting transformers\n",
            "  Downloading transformers-4.36.2-py3-none-any.whl.metadata (126 kB)\n",
            "     ---------------------------------------- 0.0/126.8 kB ? eta -:--:--\n",
            "     -------------------------------------- 126.8/126.8 kB 3.6 MB/s eta 0:00:00\n",
            "Requirement already satisfied: filelock in d:\\nlproject\\.venv\\lib\\site-packages (from transformers) (3.9.0)\n",
            "Requirement already satisfied: huggingface-hub<1.0,>=0.19.3 in d:\\nlproject\\.venv\\lib\\site-packages (from transformers) (0.19.4)\n",
            "Requirement already satisfied: numpy>=1.17 in d:\\nlproject\\.venv\\lib\\site-packages (from transformers) (1.26.2)\n",
            "Requirement already satisfied: packaging>=20.0 in d:\\nlproject\\.venv\\lib\\site-packages (from transformers) (23.2)\n",
            "Requirement already satisfied: pyyaml>=5.1 in d:\\nlproject\\.venv\\lib\\site-packages (from transformers) (6.0.1)\n",
            "Requirement already satisfied: regex!=2019.12.17 in d:\\nlproject\\.venv\\lib\\site-packages (from transformers) (2023.10.3)\n",
            "Requirement already satisfied: requests in d:\\nlproject\\.venv\\lib\\site-packages (from transformers) (2.28.1)\n",
            "Collecting tokenizers<0.19,>=0.14 (from transformers)\n",
            "  Using cached tokenizers-0.15.0-cp310-none-win_amd64.whl.metadata (6.8 kB)\n",
            "Requirement already satisfied: safetensors>=0.3.1 in d:\\nlproject\\.venv\\lib\\site-packages (from transformers) (0.4.1)\n",
            "Requirement already satisfied: tqdm>=4.27 in d:\\nlproject\\.venv\\lib\\site-packages (from transformers) (4.66.1)\n",
            "Requirement already satisfied: fsspec>=2023.5.0 in d:\\nlproject\\.venv\\lib\\site-packages (from huggingface-hub<1.0,>=0.19.3->transformers) (2023.12.0)\n",
            "Requirement already satisfied: typing-extensions>=3.7.4.3 in d:\\nlproject\\.venv\\lib\\site-packages (from huggingface-hub<1.0,>=0.19.3->transformers) (4.4.0)\n",
            "Requirement already satisfied: colorama in d:\\nlproject\\.venv\\lib\\site-packages (from tqdm>=4.27->transformers) (0.4.6)\n",
            "Requirement already satisfied: charset-normalizer<3,>=2 in d:\\nlproject\\.venv\\lib\\site-packages (from requests->transformers) (2.1.1)\n",
            "Requirement already satisfied: idna<4,>=2.5 in d:\\nlproject\\.venv\\lib\\site-packages (from requests->transformers) (3.4)\n",
            "Requirement already satisfied: urllib3<1.27,>=1.21.1 in d:\\nlproject\\.venv\\lib\\site-packages (from requests->transformers) (1.26.13)\n",
            "Requirement already satisfied: certifi>=2017.4.17 in d:\\nlproject\\.venv\\lib\\site-packages (from requests->transformers) (2022.12.7)\n",
            "Downloading transformers-4.36.2-py3-none-any.whl (8.2 MB)\n",
            "   ---------------------------------------- 0.0/8.2 MB ? eta -:--:--\n",
            "   - -------------------------------------- 0.3/8.2 MB 8.9 MB/s eta 0:00:01\n",
            "   -- ------------------------------------- 0.6/8.2 MB 7.4 MB/s eta 0:00:02\n",
            "   ---- ----------------------------------- 0.9/8.2 MB 7.2 MB/s eta 0:00:02\n",
            "   ----- ---------------------------------- 1.2/8.2 MB 7.0 MB/s eta 0:00:02\n",
            "   ------- -------------------------------- 1.5/8.2 MB 6.8 MB/s eta 0:00:01\n",
            "   -------- ------------------------------- 1.8/8.2 MB 6.8 MB/s eta 0:00:01\n",
            "   ---------- ----------------------------- 2.1/8.2 MB 6.7 MB/s eta 0:00:01\n",
            "   ----------- ---------------------------- 2.4/8.2 MB 6.7 MB/s eta 0:00:01\n",
            "   ------------- -------------------------- 2.7/8.2 MB 6.6 MB/s eta 0:00:01\n",
            "   -------------- ------------------------- 3.0/8.2 MB 6.7 MB/s eta 0:00:01\n",
            "   ---------------- ----------------------- 3.3/8.2 MB 6.6 MB/s eta 0:00:01\n",
            "   ----------------- ---------------------- 3.6/8.2 MB 6.6 MB/s eta 0:00:01\n",
            "   ------------------- -------------------- 3.9/8.2 MB 6.6 MB/s eta 0:00:01\n",
            "   -------------------- ------------------- 4.2/8.2 MB 6.6 MB/s eta 0:00:01\n",
            "   ---------------------- ----------------- 4.6/8.2 MB 6.5 MB/s eta 0:00:01\n",
            "   ----------------------- ---------------- 4.9/8.2 MB 6.5 MB/s eta 0:00:01\n",
            "   ------------------------ --------------- 4.9/8.2 MB 6.6 MB/s eta 0:00:01\n",
            "   ------------------------ --------------- 4.9/8.2 MB 6.6 MB/s eta 0:00:01\n",
            "   ---------------------------- ----------- 5.8/8.2 MB 6.6 MB/s eta 0:00:01\n",
            "   ----------------------------- ---------- 6.1/8.2 MB 6.5 MB/s eta 0:00:01\n",
            "   ------------------------------- -------- 6.4/8.2 MB 6.6 MB/s eta 0:00:01\n",
            "   -------------------------------- ------- 6.7/8.2 MB 6.5 MB/s eta 0:00:01\n",
            "   --------------------------------- ------ 7.0/8.2 MB 6.6 MB/s eta 0:00:01\n",
            "   ----------------------------------- ---- 7.3/8.2 MB 6.5 MB/s eta 0:00:01\n",
            "   ------------------------------------ --- 7.6/8.2 MB 6.5 MB/s eta 0:00:01\n",
            "   -------------------------------------- - 7.9/8.2 MB 6.5 MB/s eta 0:00:01\n",
            "   ---------------------------------------  8.2/8.2 MB 6.5 MB/s eta 0:00:01\n",
            "   ---------------------------------------  8.2/8.2 MB 6.5 MB/s eta 0:00:01\n",
            "   ---------------------------------------- 8.2/8.2 MB 6.1 MB/s eta 0:00:00\n",
            "Using cached tokenizers-0.15.0-cp310-none-win_amd64.whl (2.2 MB)\n",
            "Installing collected packages: tokenizers, transformers\n",
            "  Attempting uninstall: tokenizers\n",
            "    Found existing installation: tokenizers 0.13.3\n",
            "    Uninstalling tokenizers-0.13.3:\n",
            "      Successfully uninstalled tokenizers-0.13.3\n",
            "Successfully installed tokenizers-0.15.0 transformers-4.36.2\n"
          ]
        },
        {
          "name": "stderr",
          "output_type": "stream",
          "text": [
            "WARNING: Ignoring invalid distribution -ransformers (d:\\nlproject\\.venv\\lib\\site-packages)\n",
            "WARNING: Ignoring invalid distribution -ransformers (d:\\nlproject\\.venv\\lib\\site-packages)\n",
            "\n",
            "[notice] A new release of pip is available: 23.3.1 -> 23.3.2\n",
            "[notice] To update, run: python.exe -m pip install --upgrade pip\n"
          ]
        }
      ],
      "source": [
        "!pip install --upgrade transformers"
      ]
    },
    {
      "cell_type": "code",
      "execution_count": 1,
      "metadata": {
        "colab": {
          "base_uri": "https://localhost:8080/"
        },
        "id": "DOs950_0-mxp",
        "outputId": "22676575-433c-48c9-e115-df2c26851981"
      },
      "outputs": [
        {
          "name": "stderr",
          "output_type": "stream",
          "text": [
            "d:\\NLProject\\.venv\\lib\\site-packages\\tqdm\\auto.py:21: TqdmWarning: IProgress not found. Please update jupyter and ipywidgets. See https://ipywidgets.readthedocs.io/en/stable/user_install.html\n",
            "  from .autonotebook import tqdm as notebook_tqdm\n"
          ]
        },
        {
          "name": "stdout",
          "output_type": "stream",
          "text": [
            "Device: cuda\n"
          ]
        }
      ],
      "source": [
        "import numpy as np\n",
        "import matplotlib.pyplot as plt\n",
        "import nltk\n",
        "from nltk.tokenize import word_tokenize\n",
        "from nltk.corpus import stopwords\n",
        "from nltk.stem import WordNetLemmatizer\n",
        "import re\n",
        "import string\n",
        "from tqdm import tqdm\n",
        "from sklearn.feature_extraction.text import  TfidfVectorizer\n",
        "from sklearn.dummy import DummyClassifier\n",
        "import pandas as pd\n",
        "import json\n",
        "import transformers\n",
        "import torch\n",
        "from torch.utils.data import Dataset, DataLoader, RandomSampler, SequentialSampler\n",
        "from transformers import AutoModel, AutoTokenizer, get_linear_schedule_with_warmup\n",
        "from sklearn.metrics import classification_report, accuracy_score, f1_score\n",
        "from torch import cuda\n",
        "device = 'cuda' if cuda.is_available() else 'cpu'\n",
        "print(f\"Device: {device}\")"
      ]
    },
    {
      "cell_type": "markdown",
      "metadata": {
        "id": "Ck-GQq5d-mxr"
      },
      "source": [
        "## Data loading and preprocessing:"
      ]
    },
    {
      "cell_type": "code",
      "execution_count": 2,
      "metadata": {
        "colab": {
          "base_uri": "https://localhost:8080/"
        },
        "id": "hvWV-5RY-mxr",
        "outputId": "ab7ccfe6-c3a7-4387-e4bc-0feb0534406a"
      },
      "outputs": [
        {
          "name": "stdout",
          "output_type": "stream",
          "text": [
            "Number of samples: 4000\n",
            "Example of a sample: {'episode': 'utterance_0', 'speakers': ['Chandler', 'The Interviewer', 'Chandler', 'The Interviewer', 'Chandler'], 'emotions': ['neutral', 'neutral', 'neutral', 'neutral', 'surprise'], 'utterances': [\"also I was the point person on my company's transition from the KL-5 to GR-6 system.\", \"You must've had your hands full.\", 'That I did. That I did.', \"So let's talk a little bit about your duties.\", 'My duties?  All right.'], 'triggers': [0.0, 0.0, 0.0, 1.0, 0.0]}\n"
          ]
        }
      ],
      "source": [
        "# open json in project_data_MELD folder\n",
        "try:\n",
        "    with open('project_data_MELD/MELD_train_efr.json') as f:\n",
        "        data = json.load(f)\n",
        "except:\n",
        "    with open('MELD_train_efr.json') as f:\n",
        "        data = json.load(f)\n",
        "print(f\"Number of samples: {len(data)}\")\n",
        "print(f\"Example of a sample: {data[0]}\")"
      ]
    },
    {
      "cell_type": "code",
      "execution_count": 3,
      "metadata": {
        "colab": {
          "base_uri": "https://localhost:8080/"
        },
        "id": "_Ck5Yz3C-mxr",
        "outputId": "e3724972-d61e-425c-edc6-f607fca32c77"
      },
      "outputs": [
        {
          "name": "stdout",
          "output_type": "stream",
          "text": [
            "Dataframe shape: (4000, 4)\n",
            "Dataframe columns: Index(['speakers', 'emotions', 'utterances', 'triggers'], dtype='object')\n"
          ]
        }
      ],
      "source": [
        "# Convert data to pandas dataframe\n",
        "df = pd.DataFrame(data)\n",
        "# drop episode and speakers columns\n",
        "df = df.drop(columns=['episode'])\n",
        "print(f\"Dataframe shape: {df.shape}\")\n",
        "print(f\"Dataframe columns: {df.columns}\")"
      ]
    },
    {
      "cell_type": "markdown",
      "metadata": {
        "id": "8Spy3zzO-mxs"
      },
      "source": [
        "Changing nan values to zeros in order to avoid errors."
      ]
    },
    {
      "cell_type": "code",
      "execution_count": 4,
      "metadata": {
        "colab": {
          "base_uri": "https://localhost:8080/"
        },
        "id": "Fu_fACgc-mxs",
        "outputId": "644df322-2ddd-4aea-d5ae-036077ef6100"
      },
      "outputs": [
        {
          "data": {
            "text/plain": [
              "[0.0, 0, 0.0, 0.0, 0.0, 0.0, 0.0, 0.0, 0.0, 1.0, 0.0]"
            ]
          },
          "execution_count": 4,
          "metadata": {},
          "output_type": "execute_result"
        }
      ],
      "source": [
        "df[\"triggers\"] = df[\"triggers\"].apply(lambda x: [0 if elem != 1 and elem != 0 else elem for elem in x])\n",
        "df[\"triggers\"][3359]"
      ]
    },
    {
      "cell_type": "markdown",
      "metadata": {
        "id": "UssZaYz3-mxs"
      },
      "source": [
        "Splitting the data into train, validation and test sets with a 80-10-10 ratio."
      ]
    },
    {
      "cell_type": "code",
      "execution_count": 5,
      "metadata": {
        "id": "OFaRTAN7-mxs"
      },
      "outputs": [],
      "source": [
        "# Split data\n",
        "from sklearn.model_selection import train_test_split\n",
        "\n",
        "df_train, temp = train_test_split(df, test_size=0.2, random_state=42)\n",
        "df_val, df_test = train_test_split(temp, test_size=0.5, random_state=42)"
      ]
    },
    {
      "cell_type": "code",
      "execution_count": 6,
      "metadata": {
        "colab": {
          "base_uri": "https://localhost:8080/"
        },
        "id": "QnChzNkK-mxs",
        "outputId": "67cd45f1-d44a-460f-b6c6-1df3b31dddc5"
      },
      "outputs": [
        {
          "name": "stdout",
          "output_type": "stream",
          "text": [
            "Train shape: (3200, 4)\n",
            "Val shape: (400, 4)\n",
            "Test shape: (400, 4)\n"
          ]
        }
      ],
      "source": [
        "print(f\"Train shape: {df_train.shape}\")\n",
        "print(f\"Val shape: {df_val.shape}\")\n",
        "print(f\"Test shape: {df_test.shape}\")"
      ]
    },
    {
      "cell_type": "markdown",
      "metadata": {
        "id": "mzsNt8T--mxs"
      },
      "source": [
        "As baselines models we need to implement a random model and a majority class model for emotions and triggers."
      ]
    },
    {
      "cell_type": "code",
      "execution_count": 7,
      "metadata": {
        "colab": {
          "base_uri": "https://localhost:8080/"
        },
        "id": "hGSbTu_l-mxt",
        "outputId": "09bed160-d168-4216-ebfa-f4590c363589"
      },
      "outputs": [
        {
          "name": "stdout",
          "output_type": "stream",
          "text": [
            "{'neutral': 12066, 'joy': 4986, 'surprise': 3664, 'anger': 3203, 'sadness': 2108, 'fear': 889, 'disgust': 848}\n"
          ]
        }
      ],
      "source": [
        "# first we create a dictionary of all emotions with their corresponding occurences\n",
        "emotions_dict = {}\n",
        "for emotions in df_train[\"emotions\"]:\n",
        "    for emotion in emotions:\n",
        "        if emotion in emotions_dict:\n",
        "            emotions_dict[emotion] += 1\n",
        "        else:\n",
        "            emotions_dict[emotion] = 1\n",
        "\n",
        "# then we sort the dictionary by occurences\n",
        "emotions_dict = {k: v for k, v in sorted(emotions_dict.items(), key=lambda item: item[1], reverse=True)}\n",
        "print(emotions_dict)"
      ]
    },
    {
      "cell_type": "markdown",
      "metadata": {
        "id": "9aG4tIgr-mxt"
      },
      "source": [
        "Plotting the distribution of emotions could also be useful."
      ]
    },
    {
      "cell_type": "code",
      "execution_count": 8,
      "metadata": {
        "colab": {
          "base_uri": "https://localhost:8080/",
          "height": 795
        },
        "id": "7ALQKgJ0-mxt",
        "outputId": "7b10b15b-685d-486d-a233-340fadc31f09"
      },
      "outputs": [
        {
          "data": {
            "image/png": "[encoded data removed]",
            "text/plain": [
              "<Figure size 2000x1000 with 1 Axes>"
            ]
          },
          "metadata": {},
          "output_type": "display_data"
        }
      ],
      "source": [
        "# plot the emotions distribution as histogram\n",
        "plt.figure(figsize=(20,10))\n",
        "plt.bar(emotions_dict.keys(), emotions_dict.values(), color='blue')\n",
        "plt.title(\"Emotions distribution in the training set\")\n",
        "plt.xlabel(\"Emotions\")\n",
        "plt.ylabel(\"Number of occurences\")\n",
        "plt.show()"
      ]
    },
    {
      "cell_type": "markdown",
      "metadata": {
        "id": "cQC3STmj-mxt"
      },
      "source": [
        "We can also implement some text processing techniques such as stemming, lemmatization, stop words removal, etc.\n",
        "\n",
        "In this case we will use nltk library for lemmatization and stop words removal."
      ]
    },
    {
      "cell_type": "code",
      "execution_count": 9,
      "metadata": {
        "colab": {
          "base_uri": "https://localhost:8080/"
        },
        "id": "LYfAiohQ-mxt",
        "outputId": "7aed0bd6-5c6a-4b49-d94b-b9872896e90d"
      },
      "outputs": [
        {
          "name": "stderr",
          "output_type": "stream",
          "text": [
            "[nltk_data] Downloading package punkt to\n",
            "[nltk_data]     C:\\Users\\Ciprian\\AppData\\Roaming\\nltk_data...\n",
            "[nltk_data]   Package punkt is already up-to-date!\n",
            "[nltk_data] Downloading package stopwords to\n",
            "[nltk_data]     C:\\Users\\Ciprian\\AppData\\Roaming\\nltk_data...\n",
            "[nltk_data]   Package stopwords is already up-to-date!\n",
            "[nltk_data] Downloading package wordnet to\n",
            "[nltk_data]     C:\\Users\\Ciprian\\AppData\\Roaming\\nltk_data...\n",
            "[nltk_data]   Package wordnet is already up-to-date!\n",
            "[nltk_data] Downloading package omw-1.4 to\n",
            "[nltk_data]     C:\\Users\\Ciprian\\AppData\\Roaming\\nltk_data...\n",
            "[nltk_data]   Package omw-1.4 is already up-to-date!\n"
          ]
        }
      ],
      "source": [
        "nltk.download('punkt')\n",
        "nltk.download('stopwords')\n",
        "nltk.download('wordnet')\n",
        "nltk.download('omw-1.4')\n",
        "\n",
        "lemmatizer = WordNetLemmatizer()\n",
        "#stop_words = set(stopwords.words('english'))\n",
        "bad_symbols = re.compile('[^a-z ]')\n",
        "punct = string.punctuation"
      ]
    },
    {
      "cell_type": "markdown",
      "metadata": {
        "id": "87PMhA2u-mxu"
      },
      "source": [
        "We don't need to use lower case because we are going to use bert uncased models further on."
      ]
    },
    {
      "cell_type": "code",
      "execution_count": 10,
      "metadata": {
        "id": "O_PoU-af-mxu"
      },
      "outputs": [],
      "source": [
        "def preprocess_text(text):\n",
        "    text = bad_symbols.sub('', text)\n",
        "    text = word_tokenize(text)\n",
        "    text = [lemmatizer.lemmatize(word) for word in text]\n",
        "    text = ' '.join(text)\n",
        "    return text"
      ]
    },
    {
      "cell_type": "code",
      "execution_count": 11,
      "metadata": {
        "colab": {
          "base_uri": "https://localhost:8080/"
        },
        "id": "Wkjy3t9t-mxu",
        "outputId": "ae2960c5-8b1a-4e73-b500-153d62b19da9"
      },
      "outputs": [
        {
          "name": "stdout",
          "output_type": "stream",
          "text": [
            "Shape of train, val and test sets after preprocessing: \n",
            "Train shape: (3200, 4)\n",
            "Val shape: (400, 4)\n",
            "Test shape: (400, 4)\n"
          ]
        }
      ],
      "source": [
        "baseline_train = df_train.copy()\n",
        "baseline_train[\"utterances\"] = baseline_train[\"utterances\"].apply(lambda x: [preprocess_text(elem) for elem in x])\n",
        "baseline_test = df_test.copy()\n",
        "baseline_test[\"utterances\"] = baseline_test[\"utterances\"].apply(lambda x: [preprocess_text(elem) for elem in x])\n",
        "baseline_val = df_val.copy()\n",
        "baseline_val[\"utterances\"] = baseline_val[\"utterances\"].apply(lambda x: [preprocess_text(elem) for elem in x])\n",
        "print(\"Shape of train, val and test sets after preprocessing: \")\n",
        "print(f\"Train shape: {baseline_train.shape}\")\n",
        "print(f\"Val shape: {baseline_val.shape}\")\n",
        "print(f\"Test shape: {baseline_test.shape}\")"
      ]
    },
    {
      "cell_type": "markdown",
      "metadata": {
        "id": "yZ9HYEWk-mxu"
      },
      "source": [
        "In order to use the TF-IDF vectorizer we need to split the utterances into single sentences, likewise the emotions and triggers."
      ]
    },
    {
      "cell_type": "code",
      "execution_count": 12,
      "metadata": {
        "id": "0JGlj2Dn-mxu"
      },
      "outputs": [],
      "source": [
        "def splitter(df, y_label):\n",
        "    X = []\n",
        "    y = []\n",
        "    for index, row in df.iterrows():\n",
        "        for i in range(len(row[\"utterances\"])):\n",
        "            X.append(row[\"utterances\"][i])\n",
        "            y.append(row[y_label][i])\n",
        "    return X, y"
      ]
    },
    {
      "cell_type": "code",
      "execution_count": 13,
      "metadata": {
        "colab": {
          "base_uri": "https://localhost:8080/"
        },
        "id": "9QG7dR_5-mxu",
        "outputId": "f5046e5e-001e-48c8-a3c2-e89f2c9cbbcc"
      },
      "outputs": [
        {
          "name": "stdout",
          "output_type": "stream",
          "text": [
            "Train shape after splitting: 27764\n",
            "Val shape after splitting: 3678\n",
            "Test shape after splitting: 3558\n"
          ]
        }
      ],
      "source": [
        "# Emotions baseline\n",
        "x_train_base, y_train_emotions = splitter(baseline_train, \"emotions\")\n",
        "x_val_base, y_val_emotions = splitter(baseline_val, \"emotions\")\n",
        "x_test_base, y_test_emotions = splitter(baseline_test, \"emotions\")\n",
        "\n",
        "# Triggers baseline\n",
        "_ , y_train_triggers = splitter(baseline_train, \"triggers\")\n",
        "_ , y_val_triggers = splitter(baseline_val, \"triggers\")\n",
        "_ , y_test_triggers = splitter(baseline_test, \"triggers\")\n",
        "\n",
        "print(f\"Train shape after splitting: {len(x_train_base)}\")\n",
        "print(f\"Val shape after splitting: {len(x_val_base)}\")\n",
        "print(f\"Test shape after splitting: {len(x_test_base)}\")"
      ]
    },
    {
      "cell_type": "markdown",
      "metadata": {
        "id": "pF8QlR9Q-mxv"
      },
      "source": [
        "As a tokenizer we use TfidfVectorizer from sklearn."
      ]
    },
    {
      "cell_type": "code",
      "execution_count": 14,
      "metadata": {
        "colab": {
          "base_uri": "https://localhost:8080/"
        },
        "id": "j6xT-hSj-mxv",
        "outputId": "064b9832-2b56-4b08-ed42-cbaed1313641"
      },
      "outputs": [
        {
          "name": "stdout",
          "output_type": "stream",
          "text": [
            "Train shape after vectorization: (27764, 5142)\n",
            "Val shape after vectorization: (3678, 5142)\n",
            "Test shape after vectorization: (3558, 5142)\n",
            "Size of the vocabulary: 5142\n"
          ]
        }
      ],
      "source": [
        "vectorizer = TfidfVectorizer()\n",
        "\n",
        "x_train_base = vectorizer.fit_transform(x_train_base)\n",
        "x_val_base = vectorizer.transform(x_val_base)\n",
        "x_test_base = vectorizer.transform(x_test_base)\n",
        "\n",
        "print(f\"Train shape after vectorization: {x_train_base.shape}\")\n",
        "print(f\"Val shape after vectorization: {x_val_base.shape}\")\n",
        "print(f\"Test shape after vectorization: {x_test_base.shape}\")\n",
        "\n",
        "print(f\"Size of the vocabulary: {len(vectorizer.vocabulary_)}\")"
      ]
    },
    {
      "cell_type": "markdown",
      "metadata": {
        "id": "lJsm3qId-mxv"
      },
      "source": [
        "Evaluation function that returns the classification report:"
      ]
    },
    {
      "cell_type": "code",
      "execution_count": 15,
      "metadata": {
        "id": "835ywCQu-mxv"
      },
      "outputs": [],
      "source": [
        "def evaluate(Y_test, Y_pred):\n",
        "    report = classification_report(Y_test, Y_pred, zero_division=0)\n",
        "    return report"
      ]
    },
    {
      "cell_type": "markdown",
      "metadata": {
        "id": "3ishbbG6-mxv"
      },
      "source": [
        "Defining the dummy classifier for emotions and triggers:"
      ]
    },
    {
      "cell_type": "code",
      "execution_count": 16,
      "metadata": {
        "id": "r_GP91pL-mxv"
      },
      "outputs": [],
      "source": [
        "dummy_clf_majority_emotions = DummyClassifier(strategy=\"most_frequent\")\n",
        "dummy_clf_random_emotions = DummyClassifier(strategy=\"uniform\")\n",
        "\n",
        "dummy_clf_majority_triggers = DummyClassifier(strategy=\"most_frequent\")\n",
        "dummy_clf_random_triggers = DummyClassifier(strategy=\"uniform\")"
      ]
    },
    {
      "cell_type": "markdown",
      "metadata": {
        "id": "CvYhjUQE-mxv"
      },
      "source": [
        "Training and evaluation of the classifiers fitted on the training set:"
      ]
    },
    {
      "cell_type": "code",
      "execution_count": 17,
      "metadata": {
        "colab": {
          "base_uri": "https://localhost:8080/"
        },
        "id": "24CrukE2-mxv",
        "outputId": "b5aa1272-5a20-46e9-8c11-f3cbbd1be9a9"
      },
      "outputs": [
        {
          "name": "stdout",
          "output_type": "stream",
          "text": [
            "Majority classifier for emotions: \n",
            "\n",
            "              precision    recall  f1-score   support\n",
            "\n",
            "       anger       0.00      0.00      0.00       369\n",
            "     disgust       0.00      0.00      0.00       101\n",
            "        fear       0.00      0.00      0.00       109\n",
            "         joy       0.00      0.00      0.00       663\n",
            "     neutral       0.44      1.00      0.61      1572\n",
            "     sadness       0.00      0.00      0.00       258\n",
            "    surprise       0.00      0.00      0.00       486\n",
            "\n",
            "    accuracy                           0.44      3558\n",
            "   macro avg       0.06      0.14      0.09      3558\n",
            "weighted avg       0.20      0.44      0.27      3558\n",
            "\n",
            "-------------------------------------------------------\n",
            "Random classifier for emotions: \n",
            "\n",
            "              precision    recall  f1-score   support\n",
            "\n",
            "       anger       0.10      0.13      0.12       369\n",
            "     disgust       0.04      0.18      0.06       101\n",
            "        fear       0.03      0.14      0.05       109\n",
            "         joy       0.19      0.14      0.16       663\n",
            "     neutral       0.43      0.15      0.22      1572\n",
            "     sadness       0.05      0.11      0.07       258\n",
            "    surprise       0.13      0.14      0.13       486\n",
            "\n",
            "    accuracy                           0.14      3558\n",
            "   macro avg       0.14      0.14      0.12      3558\n",
            "weighted avg       0.26      0.14      0.16      3558\n",
            "\n",
            "-------------------------------------------------------\n",
            "Majority classifier for triggers: \n",
            "\n",
            "              precision    recall  f1-score   support\n",
            "\n",
            "         0.0       0.85      1.00      0.92      3027\n",
            "         1.0       0.00      0.00      0.00       531\n",
            "\n",
            "    accuracy                           0.85      3558\n",
            "   macro avg       0.43      0.50      0.46      3558\n",
            "weighted avg       0.72      0.85      0.78      3558\n",
            "\n",
            "-------------------------------------------------------\n",
            "Random classifier for triggers: \n",
            "\n",
            "              precision    recall  f1-score   support\n",
            "\n",
            "         0.0       0.85      0.51      0.64      3027\n",
            "         1.0       0.14      0.47      0.22       531\n",
            "\n",
            "    accuracy                           0.51      3558\n",
            "   macro avg       0.49      0.49      0.43      3558\n",
            "weighted avg       0.74      0.51      0.58      3558\n",
            "\n"
          ]
        }
      ],
      "source": [
        "# Emotions baseline\n",
        "dummy_clf_majority_emotions.fit(x_train_base, y_train_emotions)\n",
        "dummy_clf_random_emotions.fit(x_train_base, y_train_emotions)\n",
        "\n",
        "y_pred_majority_emotions = dummy_clf_majority_emotions.predict(x_test_base)\n",
        "y_pred_random_emotions = dummy_clf_random_emotions.predict(x_test_base)\n",
        "print(\"Majority classifier for emotions: \\n\")\n",
        "print(evaluate(y_test_emotions, y_pred_majority_emotions))\n",
        "print(\"-------------------------------------------------------\")\n",
        "print(\"Random classifier for emotions: \\n\")\n",
        "print(evaluate(y_test_emotions, y_pred_random_emotions))\n",
        "print(\"-------------------------------------------------------\")\n",
        "\n",
        "# Triggers baseline\n",
        "dummy_clf_majority_triggers.fit(x_train_base, y_train_triggers)\n",
        "dummy_clf_random_triggers.fit(x_train_base, y_train_triggers)\n",
        "\n",
        "y_pred_majority_triggers = dummy_clf_majority_triggers.predict(x_test_base)\n",
        "y_pred_random_triggers = dummy_clf_random_triggers.predict(x_test_base)\n",
        "print(\"Majority classifier for triggers: \\n\")\n",
        "print(evaluate(y_test_triggers, y_pred_majority_triggers))\n",
        "print(\"-------------------------------------------------------\")\n",
        "print(\"Random classifier for triggers: \\n\")\n",
        "print(evaluate(y_test_triggers, y_pred_random_triggers))"
      ]
    },
    {
      "cell_type": "markdown",
      "metadata": {
        "id": "eJ2aj1El-mxw"
      },
      "source": [
        "Bert"
      ]
    },
    {
      "cell_type": "code",
      "execution_count": 18,
      "metadata": {
        "id": "zsCtXMdG-mxw"
      },
      "outputs": [
        {
          "name": "stdout",
          "output_type": "stream",
          "text": [
            "WARNING:tensorflow:From d:\\NLProject\\.venv\\lib\\site-packages\\keras\\src\\losses.py:2976: The name tf.losses.sparse_softmax_cross_entropy is deprecated. Please use tf.compat.v1.losses.sparse_softmax_cross_entropy instead.\n",
            "\n"
          ]
        }
      ],
      "source": [
        "RANDOM_SEED = 42\n",
        "np.random.seed(RANDOM_SEED)\n",
        "torch.manual_seed(RANDOM_SEED)\n",
        "transformers.set_seed(RANDOM_SEED)"
      ]
    },
    {
      "cell_type": "code",
      "execution_count": 19,
      "metadata": {
        "colab": {
          "base_uri": "https://localhost:8080/"
        },
        "id": "gffRztVP-mxw",
        "outputId": "b2b9fb2b-233c-4fcf-c6c3-b0f9a0849b69"
      },
      "outputs": [
        {
          "name": "stdout",
          "output_type": "stream",
          "text": [
            "Number of sentences distribution: [9, 2, 3, 14, 4, 10, 8, 10, 19, 17, 4, 4, 6, 8, 10, 3, 9, 8, 22, 7, 9, 9, 12, 11, 7, 8, 4, 4, 8, 8, 5, 7, 14, 12, 7, 3, 8, 4, 13, 10, 13, 9, 3, 4, 14, 16, 5, 3, 11, 11, 3, 6, 5, 3, 15, 4, 6, 13, 7, 10, 7, 3, 4, 5, 22, 19, 8, 9, 8, 8, 3, 15, 6, 9, 6, 12, 3, 6, 19, 5, 7, 11, 6, 5, 4, 17, 6, 3, 3, 6, 12, 14, 4, 14, 5, 14, 14, 6, 4, 8, 4, 12, 18, 3, 5, 4, 4, 14, 12, 4, 5, 3, 11, 3, 10, 5, 13, 8, 5, 10, 10, 9, 6, 3, 9, 14, 9, 7, 5, 15, 16, 3, 9, 21, 4, 17, 6, 12, 9, 6, 10, 12, 2, 6, 9, 17, 17, 8, 15, 12, 24, 4, 16, 14, 19, 4, 4, 11, 4, 4, 8, 9, 19, 16, 6, 8, 4, 2, 8, 4, 8, 9, 15, 18, 19, 5, 18, 5, 14, 11, 5, 6, 5, 11, 3, 16, 5, 16, 10, 8, 3, 16, 8, 11, 20, 8, 10, 5, 4, 11, 16, 4, 9, 14, 8, 14, 8, 13, 4, 2, 10, 7, 14, 5, 6, 5, 6, 11, 15, 11, 5, 3, 6, 9, 3, 7, 6, 8, 8, 19, 6, 8, 3, 9, 6, 4, 4, 3, 9, 5, 8, 5, 8, 8, 7, 12, 16, 9, 9, 3, 4, 5, 9, 7, 18, 3, 3, 14, 10, 5, 4, 2, 4, 6, 3, 10, 8, 7, 6, 3, 5, 5, 8, 3, 8, 7, 5, 12, 7, 21, 6, 16, 10, 15, 4, 13, 12, 8, 8, 13, 16, 8, 9, 10, 4, 13, 11, 14, 6, 11, 7, 14, 3, 3, 3, 5, 8, 3, 5, 3, 7, 8, 7, 6, 13, 6, 8, 5, 14, 5, 6, 19, 9, 5, 3, 8, 9, 8, 18, 13, 3, 14, 8, 20, 12, 12, 16, 9, 4, 15, 12, 7, 11, 8, 12, 12, 7, 7, 20, 7, 7, 15, 13, 5, 6, 11, 3, 3, 4, 16, 8, 5, 11, 11, 8, 15, 9, 9, 10, 4, 3, 4, 14, 5, 19, 13, 11, 2, 5, 9, 3, 9, 9, 7, 16, 11, 3, 5, 19, 11, 6, 3, 12, 6, 9, 4, 5, 10, 14, 15, 7, 4, 8, 5, 10, 5, 10, 10, 3, 6, 5, 7, 7, 10, 2, 4, 6, 10, 4, 12, 7, 13, 5, 14, 12, 14, 11, 21, 8, 7, 10, 8, 17, 19, 2, 6, 3, 6, 10, 3, 10, 8, 16, 8, 2, 5, 12, 15, 11, 13, 7, 5, 6, 2, 9, 5, 19, 10, 12, 9, 12, 3, 7, 6, 5, 5, 13, 15, 12, 4, 9, 6, 15, 9, 7, 10, 6, 16, 12, 3, 6, 6, 9, 9, 6, 14, 12, 16, 10, 4, 6, 12, 18, 19, 4, 8, 4, 6, 7, 13, 5, 4, 8, 8, 14, 5, 18, 12, 21, 6, 5, 7, 10, 4, 5, 13, 6, 6, 3, 6, 5, 6, 18, 2, 3, 14, 9, 4, 2, 14, 15, 7, 13, 7, 8, 3, 4, 5, 5, 5, 12, 7, 10, 5, 5, 5, 3, 11, 12, 9, 4, 10, 6, 11, 11, 5, 13, 9, 17, 7, 4, 7, 3, 10, 6, 3, 7, 16, 5, 5, 3, 8, 7, 8, 5, 3, 13, 18, 6, 13, 15, 10, 13, 11, 12, 6, 7, 7, 10, 3, 6, 6, 6, 12, 22, 6, 16, 10, 8, 10, 9, 3, 8, 8, 3, 11, 5, 11, 8, 8, 3, 12, 15, 4, 4, 3, 12, 9, 8, 9, 2, 7, 6, 6, 9, 7, 5, 9, 7, 6, 11, 3, 14, 5, 17, 9, 7, 14, 4, 6, 8, 6, 3, 4, 11, 8, 6, 7, 21, 6, 15, 3, 8, 9, 11, 11, 5, 16, 5, 2, 12, 4, 10, 12, 8, 6, 13, 17, 4, 6, 9, 6, 19, 6, 9, 7, 10, 11, 9, 3, 15, 7, 12, 8, 11, 22, 14, 11, 6, 3, 11, 5, 4, 7, 12, 3, 10, 11, 14, 13, 2, 10, 4, 6, 5, 11, 15, 3, 10, 7, 14, 8, 10, 6, 4, 7, 15, 9, 3, 6, 4, 8, 11, 6, 12, 7, 9, 11, 7, 4, 12, 13, 14, 6, 4, 12, 6, 3, 7, 11, 11, 3, 4, 10, 2, 7, 8, 13, 10, 4, 3, 8, 12, 7, 11, 9, 14, 11, 8, 3, 10, 4, 4, 9, 3, 5, 10, 5, 20, 8, 13, 15, 10, 12, 5, 4, 7, 8, 3, 7, 10, 7, 16, 7, 5, 9, 10, 4, 3, 19, 19, 8, 6, 16, 3, 6, 6, 9, 6, 8, 6, 8, 4, 3, 9, 4, 14, 10, 10, 7, 6, 5, 16, 3, 8, 12, 10, 6, 7, 15, 4, 14, 3, 5, 11, 11, 8, 4, 4, 11, 9, 7, 17, 10, 10, 9, 6, 7, 4, 11, 5, 12, 5, 18, 8, 5, 7, 6, 8, 6, 7, 18, 8, 6, 15, 8, 8, 4, 10, 12, 7, 4, 4, 4, 12, 10, 8, 10, 13, 22, 16, 11, 3, 2, 3, 6, 9, 3, 12, 12, 3, 14, 3, 11, 4, 6, 3, 16, 18, 8, 5, 16, 7, 4, 7, 6, 13, 18, 7, 17, 9, 18, 9, 11, 13, 14, 5, 9, 9, 5, 21, 3, 3, 9, 8, 11, 13, 4, 15, 14, 20, 4, 8, 12, 8, 3, 9, 9, 4, 19, 8, 3, 6, 10, 11, 13, 6, 4, 6, 9, 3, 6, 15, 6, 3, 3, 4, 4, 4, 17, 7, 16, 3, 9, 15, 21, 15, 18, 10, 14, 6, 10, 18, 4, 10, 6, 6, 3, 8, 6, 14, 7, 6, 2, 6, 10, 3, 5, 6, 5, 8, 10, 11, 5, 7, 13, 13, 4, 16, 11, 12, 6, 5, 6, 6, 13, 6, 11, 11, 15, 6, 6, 7, 8, 9, 5, 9, 4, 7, 5, 4, 17, 9, 10, 12, 3, 8, 4, 3, 15, 6, 9, 6, 8, 4, 12, 3, 8, 16, 2, 11, 9, 4, 5, 2, 6, 15, 9, 5, 3, 7, 8, 9, 8, 5, 6, 6, 8, 12, 4, 5, 13, 10, 11, 16, 18, 10, 4, 11, 8, 5, 9, 9, 4, 13, 4, 3, 7, 14, 19, 8, 10, 18, 4, 8, 3, 14, 3, 8, 20, 6, 3, 7, 7, 16, 14, 8, 7, 8, 9, 6, 5, 5, 13, 7, 10, 6, 4, 4, 8, 10, 4, 4, 6, 10, 16, 6, 8, 4, 19, 3, 2, 2, 4, 12, 5, 7, 4, 20, 16, 10, 4, 6, 8, 16, 9, 7, 10, 9, 9, 11, 17, 17, 11, 4, 3, 17, 7, 3, 10, 2, 4, 7, 10, 14, 6, 6, 4, 5, 9, 5, 12, 8, 12, 11, 7, 6, 6, 4, 8, 3, 6, 3, 3, 9, 3, 5, 8, 6, 12, 5, 10, 6, 15, 12, 14, 17, 14, 17, 17, 22, 12, 8, 14, 10, 17, 19, 4, 12, 7, 8, 2, 10, 17, 4, 6, 4, 8, 6, 23, 9, 6, 9, 3, 4, 11, 5, 9, 9, 10, 11, 18, 9, 6, 5, 17, 12, 9, 20, 20, 3, 6, 19, 14, 11, 15, 4, 9, 6, 4, 20, 9, 15, 5, 6, 8, 8, 8, 23, 10, 8, 7, 11, 10, 12, 9, 12, 13, 4, 8, 6, 11, 11, 14, 16, 9, 10, 4, 4, 7, 12, 5, 9, 8, 7, 9, 6, 3, 3, 17, 14, 7, 20, 7, 6, 11, 4, 6, 14, 13, 7, 9, 3, 4, 4, 15, 4, 4, 3, 10, 5, 10, 3, 6, 5, 9, 7, 3, 4, 6, 4, 4, 4, 3, 7, 13, 6, 4, 4, 5, 7, 3, 10, 10, 9, 9, 7, 6, 5, 11, 10, 11, 8, 6, 12, 10, 4, 4, 8, 9, 14, 21, 11, 4, 7, 3, 7, 15, 3, 6, 14, 5, 19, 7, 5, 4, 8, 13, 6, 14, 22, 5, 3, 11, 4, 3, 14, 5, 17, 6, 8, 5, 9, 4, 6, 16, 3, 3, 10, 21, 10, 17, 17, 6, 13, 4, 4, 10, 4, 12, 12, 7, 13, 15, 12, 7, 6, 14, 7, 2, 7, 5, 14, 6, 3, 4, 5, 6, 7, 6, 16, 9, 4, 9, 7, 12, 5, 5, 4, 8, 13, 4, 15, 7, 11, 6, 17, 3, 12, 9, 14, 11, 15, 11, 10, 7, 13, 11, 4, 3, 7, 7, 4, 21, 5, 10, 4, 16, 5, 9, 13, 4, 14, 7, 5, 5, 10, 10, 2, 6, 11, 4, 6, 15, 14, 9, 13, 8, 7, 3, 4, 13, 7, 5, 3, 8, 3, 11, 16, 10, 18, 13, 8, 12, 8, 5, 3, 11, 2, 11, 9, 5, 15, 11, 2, 13, 4, 12, 11, 12, 9, 9, 15, 7, 7, 16, 8, 5, 9, 10, 3, 4, 5, 6, 16, 3, 6, 14, 9, 6, 5, 9, 9, 3, 11, 5, 6, 8, 5, 7, 7, 4, 15, 5, 9, 21, 9, 8, 9, 6, 3, 3, 10, 3, 11, 5, 6, 8, 5, 18, 3, 9, 16, 10, 7, 11, 19, 4, 7, 9, 13, 15, 14, 6, 15, 10, 2, 12, 12, 7, 5, 11, 5, 5, 12, 4, 18, 13, 5, 3, 4, 17, 3, 5, 13, 7, 6, 5, 6, 9, 17, 3, 7, 3, 12, 14, 12, 4, 3, 8, 4, 4, 4, 15, 6, 11, 8, 5, 9, 18, 9, 10, 9, 14, 15, 3, 12, 6, 15, 10, 7, 4, 15, 11, 4, 9, 20, 6, 13, 6, 8, 8, 17, 4, 21, 5, 7, 2, 9, 10, 2, 7, 9, 6, 4, 5, 5, 6, 6, 4, 13, 14, 17, 6, 14, 17, 7, 8, 18, 8, 16, 4, 9, 9, 10, 21, 11, 15, 3, 11, 18, 10, 6, 2, 6, 6, 7, 10, 3, 6, 11, 5, 5, 9, 3, 6, 6, 7, 6, 7, 10, 3, 5, 9, 9, 11, 4, 3, 4, 9, 7, 11, 13, 4, 11, 5, 5, 4, 10, 3, 13, 7, 14, 13, 6, 5, 8, 7, 15, 4, 3, 7, 6, 10, 6, 7, 6, 12, 12, 3, 6, 4, 17, 12, 13, 9, 7, 4, 6, 10, 14, 8, 11, 10, 6, 6, 3, 15, 7, 4, 10, 4, 16, 3, 18, 5, 10, 9, 3, 16, 11, 9, 9, 12, 18, 11, 10, 11, 7, 10, 9, 10, 6, 14, 4, 5, 12, 3, 15, 12, 3, 8, 3, 16, 14, 18, 12, 7, 8, 14, 5, 5, 16, 4, 4, 9, 4, 7, 6, 4, 12, 6, 7, 5, 8, 10, 5, 12, 11, 2, 8, 5, 11, 5, 3, 9, 3, 12, 5, 5, 20, 3, 15, 4, 18, 2, 14, 12, 7, 17, 8, 16, 11, 5, 5, 4, 7, 8, 7, 2, 2, 9, 10, 13, 8, 7, 5, 11, 3, 11, 13, 3, 4, 10, 13, 11, 7, 3, 14, 13, 7, 10, 2, 4, 4, 17, 13, 3, 5, 14, 13, 11, 8, 8, 14, 5, 10, 3, 9, 16, 9, 9, 16, 12, 8, 14, 13, 3, 3, 10, 8, 10, 6, 5, 5, 16, 5, 9, 7, 12, 7, 5, 12, 18, 5, 12, 10, 3, 14, 10, 10, 11, 17, 4, 13, 9, 6, 10, 19, 15, 17, 6, 18, 3, 9, 3, 6, 12, 6, 9, 3, 9, 9, 10, 11, 4, 15, 5, 12, 13, 8, 7, 9, 14, 3, 9, 21, 3, 5, 21, 4, 4, 12, 4, 3, 5, 18, 10, 8, 13, 6, 12, 6, 14, 6, 8, 5, 3, 19, 5, 9, 5, 12, 7, 16, 8, 13, 5, 13, 7, 8, 8, 7, 11, 21, 7, 3, 5, 10, 6, 3, 11, 16, 6, 3, 15, 7, 6, 9, 7, 7, 9, 17, 9, 8, 13, 4, 6, 5, 4, 10, 8, 4, 14, 11, 5, 4, 14, 4, 7, 10, 3, 3, 3, 10, 10, 3, 3, 9, 5, 13, 6, 9, 11, 3, 4, 10, 5, 9, 6, 8, 11, 9, 8, 4, 8, 10, 5, 4, 5, 9, 8, 12, 17, 15, 20, 15, 7, 9, 3, 7, 11, 5, 18, 3, 10, 5, 8, 13, 10, 3, 17, 5, 3, 7, 10, 2, 5, 11, 11, 10, 4, 22, 9, 8, 5, 4, 7, 6, 8, 4, 5, 16, 9, 15, 11, 4, 14, 12, 11, 6, 7, 9, 7, 8, 7, 8, 15, 5, 9, 9, 3, 7, 5, 10, 21, 15, 12, 11, 3, 6, 16, 12, 13, 7, 15, 2, 4, 16, 14, 10, 18, 7, 16, 4, 13, 13, 7, 3, 5, 3, 13, 2, 6, 6, 4, 22, 8, 8, 14, 5, 5, 3, 8, 3, 2, 12, 6, 3, 8, 6, 5, 20, 19, 4, 6, 8, 4, 6, 8, 3, 3, 15, 5, 14, 5, 8, 11, 11, 16, 5, 6, 11, 12, 20, 6, 5, 16, 4, 13, 15, 3, 11, 5, 12, 5, 5, 19, 9, 13, 11, 5, 19, 4, 16, 13, 4, 24, 16, 10, 14, 3, 10, 13, 8, 3, 6, 11, 16, 5, 4, 10, 10, 13, 6, 8, 8, 5, 17, 12, 5, 4, 12, 3, 6, 2, 4, 12, 13, 4, 11, 8, 2, 15, 15, 3, 18, 12, 5, 6, 6, 6, 3, 3, 8, 11, 11, 9, 16, 7, 4, 4, 13, 7, 2, 10, 8, 9, 7, 10, 8, 2, 10, 7, 6, 11, 11, 2, 11, 5, 7, 14, 7, 13, 3, 6, 6, 2, 4, 9, 7, 18, 7, 3, 13, 11, 7, 8, 5, 7, 21, 8, 4, 4, 3, 12, 14, 5, 8, 9, 13, 6, 3, 6, 9, 12, 5, 3, 6, 17, 10, 10, 11, 5, 9, 7, 14, 14, 8, 10, 5, 5, 9, 6, 2, 3, 13, 13, 7, 12, 17, 8, 12, 7, 4, 10, 5, 4, 2, 9, 11, 3, 4, 15, 4, 6, 14, 10, 12, 12, 9, 12, 22, 6, 8, 4, 11, 16, 3, 7, 16, 18, 19, 11, 5, 12, 10, 10, 18, 9, 16, 10, 10, 18, 5, 16, 8, 3, 12, 6, 8, 18, 13, 18, 22, 6, 14, 17, 4, 4, 15, 24, 9, 5, 4, 6, 7, 7, 18, 6, 3, 5, 11, 6, 4, 4, 6, 5, 15, 8, 9, 14, 2, 6, 9, 11, 6, 18, 9, 3, 16, 5, 8, 4, 8, 10, 6, 18, 4, 5, 3, 4, 5, 9, 6, 8, 13, 4, 8, 8, 10, 10, 6, 8, 8, 6, 8, 3, 8, 11, 3, 4, 3, 7, 3, 14, 7, 16, 4, 13, 5, 12, 4, 17, 8, 15, 15, 3, 3, 9, 3, 12, 11, 11, 7, 4, 5, 15, 11, 2, 17, 17, 5, 4, 9, 3, 3, 7, 17, 20, 6, 18, 18, 6, 15, 19, 17, 4, 19, 12, 7, 18, 11, 3, 8, 3, 9, 5, 4, 6, 7, 5, 13, 6, 6, 4, 8, 7, 7, 3, 5, 12, 9, 6, 4, 8, 8, 8, 3, 17, 3, 11, 5, 8, 12, 5, 14, 8, 7, 5, 7, 10, 9, 6, 3, 6, 5, 3, 13, 9, 8, 6, 12, 12, 9, 7, 10, 8, 3, 7, 7, 21, 6, 14, 9, 16, 11, 17, 7, 10, 2, 8, 6, 12, 4, 6, 9, 11, 20, 15, 5, 9, 7, 7, 10, 16, 12, 7, 5, 11, 11, 5, 11, 7, 18, 4, 17, 15, 6, 8, 6, 3, 18, 7, 9, 6, 7, 8, 7, 12, 4, 18, 16, 8, 18, 3, 10, 8, 4, 16, 11, 9, 6, 5, 6, 4, 8, 3, 19, 9, 6, 2, 13, 6, 7, 9, 14, 11, 11, 4, 11, 3, 7, 4, 6, 4, 8, 6, 3, 17, 11, 4, 12, 15, 8, 14, 4, 9, 17, 15, 7, 10, 4, 9, 6, 5, 12, 9, 13, 16, 7, 14, 16, 3, 6, 5, 16, 8, 6, 4, 7, 5, 3, 14, 11, 4, 7, 4, 6, 4, 9, 16, 11, 4, 6, 18, 14, 6, 7, 21, 6, 8, 4, 16, 4, 12, 6, 5, 4, 13, 7, 12, 6, 4, 7, 8, 9, 12, 11, 6, 11, 6, 15, 4, 11, 8, 13, 9, 12, 5, 19, 5, 4, 3, 7, 20, 5, 2, 4, 3, 3, 4, 13, 8, 3, 11, 5, 15, 12, 13, 7, 9, 3, 7, 14, 9, 7, 5, 7, 4, 6, 9, 9, 15, 7, 4, 17, 5, 7, 5, 4, 9, 13, 17, 15, 20, 6, 4, 6, 7, 7, 7, 12, 9, 4, 14, 3, 11, 7, 17, 3, 8, 15, 6, 5, 8, 10, 9, 6, 5, 12, 15, 13, 4, 5, 4, 21, 7, 8, 13, 3, 3, 5, 7, 6, 7, 11, 15, 6, 5, 12, 4, 5, 12, 7, 11, 3, 3, 12, 6, 5, 9, 3, 10, 5, 9, 6, 4, 14, 5, 3, 7, 4, 11, 5, 8, 3, 3, 4, 4, 13, 10, 8, 7, 6, 20, 3, 4, 3, 11, 9, 12, 3, 9, 4, 12, 3, 21, 3, 9, 10, 11, 9, 10, 8, 3, 4, 17, 10, 4, 11, 20, 13, 16, 17, 8, 17, 5, 6, 11, 10, 11, 10, 3, 10, 15, 12, 4, 19, 6, 20, 10, 9, 8, 6, 13, 9, 4, 4, 8, 14, 19, 9, 5, 5, 14, 11, 4, 8, 10, 10, 8, 7, 13, 7, 13, 3, 12, 6, 10, 10, 17, 4, 6, 8, 11, 15, 6, 9, 3, 9, 10, 13, 3, 10, 13, 6, 9, 4, 3, 4, 4, 4, 11, 11, 9, 15, 10, 5, 16, 7, 13, 3, 13, 6, 4, 3, 22, 5, 8, 15, 3, 11, 4, 23, 12, 3, 7, 11, 6, 7, 6, 12, 19, 12, 9, 12, 16, 13, 6, 5, 6, 8, 9, 3, 6, 16, 8, 17, 2, 10, 8, 6, 8, 6, 5, 3, 10, 8, 7, 6, 6, 18, 16, 6, 5, 7, 9, 5, 9, 4, 14, 7, 5, 16, 15, 7, 6, 16, 3, 15, 6, 16, 11, 7, 11, 13, 5, 2, 19, 5, 9, 6, 9, 10, 4, 7, 8, 10, 3, 12, 3, 15, 11, 9, 5, 11, 8, 4, 8, 7, 6, 7, 8, 13, 4, 5, 3, 17, 6, 22, 7, 3, 13, 19, 17, 11, 3, 4, 14, 9, 7, 8, 12, 11, 4, 10, 7, 8, 4, 7, 15, 11, 16, 10, 2, 5, 6, 5, 7, 14, 3, 10, 7, 5, 3, 4, 6, 7, 17, 5, 4, 21, 5, 17, 15, 4, 10, 6, 8, 5, 7, 5, 17, 6, 3, 13, 3, 3, 10, 4, 5, 13, 7, 19, 3, 3, 11, 8, 7, 14, 14, 10, 7, 12, 7, 10, 5, 13, 16, 7, 3, 17, 3, 2, 13, 6, 12, 14, 3, 6, 7, 12, 7, 3, 9, 10, 14, 7, 14, 12, 23, 3, 6, 8, 6, 11, 8, 15, 10, 10, 13, 9, 11, 10, 6, 4, 2, 6, 16, 18, 13, 10, 3, 8, 5, 16, 3, 10, 5]\n",
            "Max number of sentences: 24\n"
          ]
        }
      ],
      "source": [
        "# get number of sentencese distribution\n",
        "num_sentences = []\n",
        "for index, row in df_train.iterrows():\n",
        "    num_sentences.append(len(row[\"utterances\"]))\n",
        "print(f\"Number of sentences distribution: {num_sentences}\")\n",
        "print(f\"Max number of sentences: {max(num_sentences)}\")"
      ]
    },
    {
      "cell_type": "code",
      "execution_count": 20,
      "metadata": {
        "id": "e3kggk1g-mxw"
      },
      "outputs": [],
      "source": [
        "bert_train = df_train.copy()\n",
        "bert_val = df_val.copy()\n",
        "bert_test = df_test.copy()"
      ]
    },
    {
      "cell_type": "code",
      "execution_count": 21,
      "metadata": {
        "id": "XDrUUvu1-mxw"
      },
      "outputs": [
        {
          "data": {
            "text/plain": [
              "'\\ndef chain_utterances(df):\\n    # add column to df\\n    df_copy = df.copy()\\n\\n    for i in range(len(df[\"utterances\"])):\\n        speakers = []\\n        sentence = \"\"\\n        for j in range(len(df.iloc[i][\"utterances\"])):\\n            df_copy.iloc[i][\"emotions\"][j] = df.iloc[i][\"emotions\"][j] + str(int(df.iloc[i][\"triggers\"][j]))\\n    return df_copy\\n'"
            ]
          },
          "execution_count": 21,
          "metadata": {},
          "output_type": "execute_result"
        }
      ],
      "source": [
        "# chain utterances in one sentence while also adding the speaker + plus change emotions to numeric \n",
        "'''\n",
        "def chain_utterances(df):\n",
        "    # add column to df\n",
        "    df_copy = df.copy()\n",
        "\n",
        "    for i in range(len(df[\"utterances\"])):\n",
        "        speakers = []\n",
        "        sentence = \"\"\n",
        "        for j in range(len(df.iloc[i][\"utterances\"])):\n",
        "            df_copy.iloc[i][\"emotions\"][j] = df.iloc[i][\"emotions\"][j] + str(int(df.iloc[i][\"triggers\"][j]))\n",
        "    return df_copy\n",
        "'''"
      ]
    },
    {
      "cell_type": "code",
      "execution_count": 22,
      "metadata": {},
      "outputs": [
        {
          "data": {
            "text/plain": [
              "'\\ncolumns = [\"speakers\", \"emotions\", \"utterances\", \"triggers\"]\\n\\ndef splitter_bert(df):\\n    temp = pd.DataFrame(columns=columns)\\n    for i in range(df.shape[0]):\\n        for j, _ in enumerate(df.iloc[i][\\'speakers\\']):\\n            new_row = pd.DataFrame({\\'speakers\\': [df.iloc[i][\\'speakers\\']],\\n                        \\'emotions\\': [df.iloc[i][\\'emotions\\'][:j+1]],\\n                        \\'utterances\\': [df.iloc[i][\\'utterances\\']],\\n                        \\'triggers\\': [df.iloc[i][\\'triggers\\'][:j+1]]})\\n            temp = pd.concat([temp, new_row], ignore_index=True)\\n    return temp\\n'"
            ]
          },
          "execution_count": 22,
          "metadata": {},
          "output_type": "execute_result"
        }
      ],
      "source": [
        "'''\n",
        "columns = [\"speakers\", \"emotions\", \"utterances\", \"triggers\"]\n",
        "\n",
        "def splitter_bert(df):\n",
        "    temp = pd.DataFrame(columns=columns)\n",
        "    for i in range(df.shape[0]):\n",
        "        for j, _ in enumerate(df.iloc[i]['speakers']):\n",
        "            new_row = pd.DataFrame({'speakers': [df.iloc[i]['speakers']],\n",
        "                        'emotions': [df.iloc[i]['emotions'][:j+1]],\n",
        "                        'utterances': [df.iloc[i]['utterances']],\n",
        "                        'triggers': [df.iloc[i]['triggers'][:j+1]]})\n",
        "            temp = pd.concat([temp, new_row], ignore_index=True)\n",
        "    return temp\n",
        "'''"
      ]
    },
    {
      "cell_type": "code",
      "execution_count": 23,
      "metadata": {},
      "outputs": [],
      "source": [
        "def splitter_bert(df):\n",
        "    columns = [\"label\", \"sentence\", \"trigger\"]\n",
        "     # split the utteracnes into sentences with their corresponding labels\n",
        "    new_df = pd.DataFrame(columns=columns)\n",
        "    for index, row in df.iterrows():\n",
        "        for i in range(len(row[\"utterances\"])):\n",
        "            new_row = pd.DataFrame({\"label\": [row[\"emotions\"][i]], \"sentence\": [row[\"utterances\"][i]], \"trigger\": [row[\"triggers\"][i]]})\n",
        "            new_df = pd.concat([new_df, new_row], ignore_index=True)\n",
        "    return new_df"
      ]
    },
    {
      "cell_type": "code",
      "execution_count": 24,
      "metadata": {},
      "outputs": [
        {
          "name": "stderr",
          "output_type": "stream",
          "text": [
            "C:\\Users\\Ciprian\\AppData\\Local\\Temp\\ipykernel_16716\\2463025762.py:8: FutureWarning: The behavior of DataFrame concatenation with empty or all-NA entries is deprecated. In a future version, this will no longer exclude empty or all-NA columns when determining the result dtypes. To retain the old behavior, exclude the relevant entries before the concat operation.\n",
            "  new_df = pd.concat([new_df, new_row], ignore_index=True)\n",
            "C:\\Users\\Ciprian\\AppData\\Local\\Temp\\ipykernel_16716\\2463025762.py:8: FutureWarning: The behavior of DataFrame concatenation with empty or all-NA entries is deprecated. In a future version, this will no longer exclude empty or all-NA columns when determining the result dtypes. To retain the old behavior, exclude the relevant entries before the concat operation.\n",
            "  new_df = pd.concat([new_df, new_row], ignore_index=True)\n",
            "C:\\Users\\Ciprian\\AppData\\Local\\Temp\\ipykernel_16716\\2463025762.py:8: FutureWarning: The behavior of DataFrame concatenation with empty or all-NA entries is deprecated. In a future version, this will no longer exclude empty or all-NA columns when determining the result dtypes. To retain the old behavior, exclude the relevant entries before the concat operation.\n",
            "  new_df = pd.concat([new_df, new_row], ignore_index=True)\n"
          ]
        },
        {
          "name": "stdout",
          "output_type": "stream",
          "text": [
            "Shape of train, val and test sets after splitting: \n",
            "Train shape: (27764, 3)\n",
            "Val shape: (3678, 3)\n",
            "Test shape: (3558, 3)\n",
            "-------------------------------------------------------\n",
            "Example of a sample: \n",
            "label       neutral\n",
            "sentence       Hey.\n",
            "trigger         0.0\n",
            "Name: 0, dtype: object\n"
          ]
        }
      ],
      "source": [
        "# split train, val and test sets for BERT\n",
        "bert_train = splitter_bert(bert_train)\n",
        "bert_val = splitter_bert(bert_val)\n",
        "bert_test = splitter_bert(bert_test)\n",
        "print(\"Shape of train, val and test sets after splitting: \")\n",
        "print(f\"Train shape: {bert_train.shape}\")\n",
        "print(f\"Val shape: {bert_val.shape}\")\n",
        "print(f\"Test shape: {bert_test.shape}\")\n",
        "print(\"-------------------------------------------------------\")\n",
        "print(\"Example of a sample: \")\n",
        "print(bert_train.iloc[0])"
      ]
    },
    {
      "cell_type": "code",
      "execution_count": 49,
      "metadata": {},
      "outputs": [
        {
          "data": {
            "text/html": [
              "<div>\n",
              "<style scoped>\n",
              "    .dataframe tbody tr th:only-of-type {\n",
              "        vertical-align: middle;\n",
              "    }\n",
              "\n",
              "    .dataframe tbody tr th {\n",
              "        vertical-align: top;\n",
              "    }\n",
              "\n",
              "    .dataframe thead th {\n",
              "        text-align: right;\n",
              "    }\n",
              "</style>\n",
              "<table border=\"1\" class=\"dataframe\">\n",
              "  <thead>\n",
              "    <tr style=\"text-align: right;\">\n",
              "      <th></th>\n",
              "      <th>label</th>\n",
              "      <th>sentence</th>\n",
              "      <th>trigger</th>\n",
              "    </tr>\n",
              "  </thead>\n",
              "  <tbody>\n",
              "    <tr>\n",
              "      <th>0</th>\n",
              "      <td>neutral</td>\n",
              "      <td>Hey.</td>\n",
              "      <td>0.0</td>\n",
              "    </tr>\n",
              "    <tr>\n",
              "      <th>1</th>\n",
              "      <td>joy</td>\n",
              "      <td>Hey!</td>\n",
              "      <td>0.0</td>\n",
              "    </tr>\n",
              "    <tr>\n",
              "      <th>2</th>\n",
              "      <td>neutral</td>\n",
              "      <td>So how was Joan?</td>\n",
              "      <td>0.0</td>\n",
              "    </tr>\n",
              "    <tr>\n",
              "      <th>3</th>\n",
              "      <td>neutral</td>\n",
              "      <td>I broke up with her.</td>\n",
              "      <td>0.0</td>\n",
              "    </tr>\n",
              "    <tr>\n",
              "      <th>4</th>\n",
              "      <td>surprise</td>\n",
              "      <td>Don't tell me, because of the big nostril thing?</td>\n",
              "      <td>0.0</td>\n",
              "    </tr>\n",
              "  </tbody>\n",
              "</table>\n",
              "</div>"
            ],
            "text/plain": [
              "      label                                          sentence  trigger\n",
              "0   neutral                                              Hey.      0.0\n",
              "1       joy                                              Hey!      0.0\n",
              "2   neutral                                  So how was Joan?      0.0\n",
              "3   neutral                              I broke up with her.      0.0\n",
              "4  surprise  Don't tell me, because of the big nostril thing?      0.0"
            ]
          },
          "execution_count": 49,
          "metadata": {},
          "output_type": "execute_result"
        }
      ],
      "source": [
        "bert_train.head()"
      ]
    },
    {
      "cell_type": "code",
      "execution_count": 25,
      "metadata": {},
      "outputs": [],
      "source": [
        "# one hot encode the emotions\n",
        "emotions_one_hot_dict = {\n",
        "    \"neutral\": [1, 0, 0, 0, 0, 0, 0],\n",
        "    \"joy\": [0, 1, 0, 0, 0, 0, 0],\n",
        "    \"surprise\": [0, 0, 1, 0, 0, 0, 0],\n",
        "    \"sadness\": [0, 0, 0, 1, 0, 0, 0],\n",
        "    \"anger\": [0, 0, 0, 0, 1, 0, 0],\n",
        "    \"disgust\": [0, 0, 0, 0, 0, 1, 0],\n",
        "    \"fear\": [0, 0, 0, 0, 0, 0, 1]\n",
        "}"
      ]
    },
    {
      "cell_type": "code",
      "execution_count": 104,
      "metadata": {},
      "outputs": [],
      "source": [
        "# one hot encode the triggers\n",
        "triggers_one_hot_dict = {\n",
        "    0: [1, 0],\n",
        "    1: [0, 1]\n",
        "}"
      ]
    },
    {
      "cell_type": "code",
      "execution_count": 26,
      "metadata": {},
      "outputs": [],
      "source": [
        "emotion_to_index = {\n",
        "    \"neutral\": 0,\n",
        "    \"joy\": 1,\n",
        "    \"surprise\": 2,\n",
        "    \"sadness\": 3,\n",
        "    \"anger\": 4,\n",
        "    \"disgust\": 5,\n",
        "    \"fear\": 6\n",
        "}"
      ]
    },
    {
      "cell_type": "code",
      "execution_count": 27,
      "metadata": {},
      "outputs": [
        {
          "name": "stdout",
          "output_type": "stream",
          "text": [
            "Max length of sentences: 327\n"
          ]
        }
      ],
      "source": [
        "# get max length of sentences\n",
        "max_len = 0\n",
        "for sentence in bert_train[\"sentence\"]:\n",
        "    if len(sentence) > max_len:\n",
        "        max_len = len(sentence)\n",
        "print(f\"Max length of sentences: {max_len}\")"
      ]
    },
    {
      "cell_type": "code",
      "execution_count": 43,
      "metadata": {},
      "outputs": [],
      "source": [
        "MODEL_NAME = 'bert-base-uncased'\n",
        "#MODEL_NAME = \"prajjwal1/bert-tiny\"\n",
        "\n",
        "MAX_LEN = 360\n",
        "BATCH_SIZE = 1\n",
        "EPOCHS = 3\n",
        "LEARNING_RATE = 2e-05\n",
        "OUT_CHANNELS = 768 if \"base\" in  MODEL_NAME else 128 #128 if \"tiny\" 1024 if \"base\"\n",
        "\n",
        "tokenizer = AutoTokenizer.from_pretrained(MODEL_NAME)"
      ]
    },
    {
      "cell_type": "code",
      "execution_count": 105,
      "metadata": {},
      "outputs": [],
      "source": [
        "class CustomDataset(Dataset):\n",
        "\n",
        "    def __init__(self, data, tokenizer, max_len, test_flag = False):\n",
        "        self.tokenizer = tokenizer\n",
        "        self.data = data\n",
        "        self.text = data.sentence\n",
        "        self.emotions = data.label\n",
        "        self.max_len = max_len\n",
        "        self.test_flag = test_flag\n",
        "        self.triggers = data.trigger\n",
        "\n",
        "    def __len__(self):\n",
        "        return len(self.text)\n",
        "\n",
        "    def __getitem__(self, index):\n",
        "        row = self.data.iloc[index]\n",
        "        #speakers = row[\"speakers\"]\n",
        "        text = row[\"sentence\"]\n",
        "        emotions = row[\"label\"]\n",
        "        trigger = row[\"trigger\"]\n",
        "        target_emotion = emotions_one_hot_dict[emotions] #+ [triggers[-1]] # trigger is float while emotions are one hot encoded but as integers IN CASE OF ERROR CHECK THIS\n",
        "        target_trigger = triggers_one_hot_dict[trigger]\n",
        "\n",
        "\n",
        "        inputs = self.tokenizer.encode_plus(\n",
        "            text,\n",
        "            add_special_tokens=True,\n",
        "            max_length=self.max_len,\n",
        "            padding='max_length',\n",
        "            truncation=True,\n",
        "        )\n",
        "\n",
        "        ids = inputs['input_ids']\n",
        "        mask = inputs['attention_mask']\n",
        "        token_type_ids = inputs[\"token_type_ids\"]\n",
        "\n",
        "        return {\n",
        "            'input_ids': torch.tensor(ids, dtype=torch.long),\n",
        "            'attention_mask': torch.tensor(mask, dtype=torch.long),\n",
        "            'token_type_ids': torch.tensor(token_type_ids, dtype=torch.long),\n",
        "            'label': torch.tensor(target_emotion, dtype=torch.float),\n",
        "            'trigger': torch.tensor(target_trigger, dtype=torch.float)\n",
        "        }"
      ]
    },
    {
      "cell_type": "code",
      "execution_count": 106,
      "metadata": {},
      "outputs": [],
      "source": [
        "train_dataset = CustomDataset(bert_train, tokenizer, MAX_LEN)\n",
        "val_dataset = CustomDataset(bert_val, tokenizer, MAX_LEN, test_flag=True)\n",
        "test_dataset = CustomDataset(bert_test, tokenizer, MAX_LEN, test_flag=True)\n",
        "\n",
        "# Definiition of the Dataloader that will feed the data in batches to the neural network for suitable training and processing.\n",
        "training_loader = DataLoader(train_dataset, batch_size=BATCH_SIZE)\n",
        "val_loader = DataLoader(val_dataset, batch_size=BATCH_SIZE)\n",
        "test_loader = DataLoader(test_dataset, batch_size=BATCH_SIZE)"
      ]
    },
    {
      "cell_type": "code",
      "execution_count": 107,
      "metadata": {},
      "outputs": [
        {
          "data": {
            "text/plain": [
              "{'input_ids': tensor([ 101, 4931, 1012,  102,    0,    0,    0,    0,    0,    0,    0,    0,\n",
              "            0,    0,    0,    0,    0,    0,    0,    0,    0,    0,    0,    0,\n",
              "            0,    0,    0,    0,    0,    0,    0,    0,    0,    0,    0,    0,\n",
              "            0,    0,    0,    0,    0,    0,    0,    0,    0,    0,    0,    0,\n",
              "            0,    0,    0,    0,    0,    0,    0,    0,    0,    0,    0,    0,\n",
              "            0,    0,    0,    0,    0,    0,    0,    0,    0,    0,    0,    0,\n",
              "            0,    0,    0,    0,    0,    0,    0,    0,    0,    0,    0,    0,\n",
              "            0,    0,    0,    0,    0,    0,    0,    0,    0,    0,    0,    0,\n",
              "            0,    0,    0,    0,    0,    0,    0,    0,    0,    0,    0,    0,\n",
              "            0,    0,    0,    0,    0,    0,    0,    0,    0,    0,    0,    0,\n",
              "            0,    0,    0,    0,    0,    0,    0,    0,    0,    0,    0,    0,\n",
              "            0,    0,    0,    0,    0,    0,    0,    0,    0,    0,    0,    0,\n",
              "            0,    0,    0,    0,    0,    0,    0,    0,    0,    0,    0,    0,\n",
              "            0,    0,    0,    0,    0,    0,    0,    0,    0,    0,    0,    0,\n",
              "            0,    0,    0,    0,    0,    0,    0,    0,    0,    0,    0,    0,\n",
              "            0,    0,    0,    0,    0,    0,    0,    0,    0,    0,    0,    0,\n",
              "            0,    0,    0,    0,    0,    0,    0,    0,    0,    0,    0,    0,\n",
              "            0,    0,    0,    0,    0,    0,    0,    0,    0,    0,    0,    0,\n",
              "            0,    0,    0,    0,    0,    0,    0,    0,    0,    0,    0,    0,\n",
              "            0,    0,    0,    0,    0,    0,    0,    0,    0,    0,    0,    0,\n",
              "            0,    0,    0,    0,    0,    0,    0,    0,    0,    0,    0,    0,\n",
              "            0,    0,    0,    0,    0,    0,    0,    0,    0,    0,    0,    0,\n",
              "            0,    0,    0,    0,    0,    0,    0,    0,    0,    0,    0,    0,\n",
              "            0,    0,    0,    0,    0,    0,    0,    0,    0,    0,    0,    0,\n",
              "            0,    0,    0,    0,    0,    0,    0,    0,    0,    0,    0,    0,\n",
              "            0,    0,    0,    0,    0,    0,    0,    0,    0,    0,    0,    0,\n",
              "            0,    0,    0,    0,    0,    0,    0,    0,    0,    0,    0,    0,\n",
              "            0,    0,    0,    0,    0,    0,    0,    0,    0,    0,    0,    0,\n",
              "            0,    0,    0,    0,    0,    0,    0,    0,    0,    0,    0,    0,\n",
              "            0,    0,    0,    0,    0,    0,    0,    0,    0,    0,    0,    0]),\n",
              " 'attention_mask': tensor([1, 1, 1, 1, 0, 0, 0, 0, 0, 0, 0, 0, 0, 0, 0, 0, 0, 0, 0, 0, 0, 0, 0, 0,\n",
              "         0, 0, 0, 0, 0, 0, 0, 0, 0, 0, 0, 0, 0, 0, 0, 0, 0, 0, 0, 0, 0, 0, 0, 0,\n",
              "         0, 0, 0, 0, 0, 0, 0, 0, 0, 0, 0, 0, 0, 0, 0, 0, 0, 0, 0, 0, 0, 0, 0, 0,\n",
              "         0, 0, 0, 0, 0, 0, 0, 0, 0, 0, 0, 0, 0, 0, 0, 0, 0, 0, 0, 0, 0, 0, 0, 0,\n",
              "         0, 0, 0, 0, 0, 0, 0, 0, 0, 0, 0, 0, 0, 0, 0, 0, 0, 0, 0, 0, 0, 0, 0, 0,\n",
              "         0, 0, 0, 0, 0, 0, 0, 0, 0, 0, 0, 0, 0, 0, 0, 0, 0, 0, 0, 0, 0, 0, 0, 0,\n",
              "         0, 0, 0, 0, 0, 0, 0, 0, 0, 0, 0, 0, 0, 0, 0, 0, 0, 0, 0, 0, 0, 0, 0, 0,\n",
              "         0, 0, 0, 0, 0, 0, 0, 0, 0, 0, 0, 0, 0, 0, 0, 0, 0, 0, 0, 0, 0, 0, 0, 0,\n",
              "         0, 0, 0, 0, 0, 0, 0, 0, 0, 0, 0, 0, 0, 0, 0, 0, 0, 0, 0, 0, 0, 0, 0, 0,\n",
              "         0, 0, 0, 0, 0, 0, 0, 0, 0, 0, 0, 0, 0, 0, 0, 0, 0, 0, 0, 0, 0, 0, 0, 0,\n",
              "         0, 0, 0, 0, 0, 0, 0, 0, 0, 0, 0, 0, 0, 0, 0, 0, 0, 0, 0, 0, 0, 0, 0, 0,\n",
              "         0, 0, 0, 0, 0, 0, 0, 0, 0, 0, 0, 0, 0, 0, 0, 0, 0, 0, 0, 0, 0, 0, 0, 0,\n",
              "         0, 0, 0, 0, 0, 0, 0, 0, 0, 0, 0, 0, 0, 0, 0, 0, 0, 0, 0, 0, 0, 0, 0, 0,\n",
              "         0, 0, 0, 0, 0, 0, 0, 0, 0, 0, 0, 0, 0, 0, 0, 0, 0, 0, 0, 0, 0, 0, 0, 0,\n",
              "         0, 0, 0, 0, 0, 0, 0, 0, 0, 0, 0, 0, 0, 0, 0, 0, 0, 0, 0, 0, 0, 0, 0, 0]),\n",
              " 'token_type_ids': tensor([0, 0, 0, 0, 0, 0, 0, 0, 0, 0, 0, 0, 0, 0, 0, 0, 0, 0, 0, 0, 0, 0, 0, 0,\n",
              "         0, 0, 0, 0, 0, 0, 0, 0, 0, 0, 0, 0, 0, 0, 0, 0, 0, 0, 0, 0, 0, 0, 0, 0,\n",
              "         0, 0, 0, 0, 0, 0, 0, 0, 0, 0, 0, 0, 0, 0, 0, 0, 0, 0, 0, 0, 0, 0, 0, 0,\n",
              "         0, 0, 0, 0, 0, 0, 0, 0, 0, 0, 0, 0, 0, 0, 0, 0, 0, 0, 0, 0, 0, 0, 0, 0,\n",
              "         0, 0, 0, 0, 0, 0, 0, 0, 0, 0, 0, 0, 0, 0, 0, 0, 0, 0, 0, 0, 0, 0, 0, 0,\n",
              "         0, 0, 0, 0, 0, 0, 0, 0, 0, 0, 0, 0, 0, 0, 0, 0, 0, 0, 0, 0, 0, 0, 0, 0,\n",
              "         0, 0, 0, 0, 0, 0, 0, 0, 0, 0, 0, 0, 0, 0, 0, 0, 0, 0, 0, 0, 0, 0, 0, 0,\n",
              "         0, 0, 0, 0, 0, 0, 0, 0, 0, 0, 0, 0, 0, 0, 0, 0, 0, 0, 0, 0, 0, 0, 0, 0,\n",
              "         0, 0, 0, 0, 0, 0, 0, 0, 0, 0, 0, 0, 0, 0, 0, 0, 0, 0, 0, 0, 0, 0, 0, 0,\n",
              "         0, 0, 0, 0, 0, 0, 0, 0, 0, 0, 0, 0, 0, 0, 0, 0, 0, 0, 0, 0, 0, 0, 0, 0,\n",
              "         0, 0, 0, 0, 0, 0, 0, 0, 0, 0, 0, 0, 0, 0, 0, 0, 0, 0, 0, 0, 0, 0, 0, 0,\n",
              "         0, 0, 0, 0, 0, 0, 0, 0, 0, 0, 0, 0, 0, 0, 0, 0, 0, 0, 0, 0, 0, 0, 0, 0,\n",
              "         0, 0, 0, 0, 0, 0, 0, 0, 0, 0, 0, 0, 0, 0, 0, 0, 0, 0, 0, 0, 0, 0, 0, 0,\n",
              "         0, 0, 0, 0, 0, 0, 0, 0, 0, 0, 0, 0, 0, 0, 0, 0, 0, 0, 0, 0, 0, 0, 0, 0,\n",
              "         0, 0, 0, 0, 0, 0, 0, 0, 0, 0, 0, 0, 0, 0, 0, 0, 0, 0, 0, 0, 0, 0, 0, 0]),\n",
              " 'label': tensor([1., 0., 0., 0., 0., 0., 0.]),\n",
              " 'trigger': tensor([1., 0.])}"
            ]
          },
          "execution_count": 107,
          "metadata": {},
          "output_type": "execute_result"
        }
      ],
      "source": [
        "train_dataset[0]"
      ]
    },
    {
      "cell_type": "code",
      "execution_count": 108,
      "metadata": {},
      "outputs": [],
      "source": [
        "class BERTClass(torch.nn.Module):\n",
        "    def __init__(self,model):\n",
        "        super(BERTClass, self).__init__()\n",
        "        self.l1 = transformers.AutoModel.from_pretrained(model, return_dict=False)\n",
        "        # Emotions\n",
        "        self.l2 = torch.nn.Dropout(p=0.3)\n",
        "        self.l3 = torch.nn.Linear(OUT_CHANNELS, 7)\n",
        "        # Triggers\n",
        "        self.l4 = torch.nn.Dropout(p=0.3)\n",
        "        self.l5 = torch.nn.Linear(OUT_CHANNELS, 2)\n",
        "\n",
        "    def forward(self, ids, mask, token_type_ids):\n",
        "        _, output_1= self.l1(ids, attention_mask = mask, token_type_ids = token_type_ids)\n",
        "        output_emotions = self.l2(output_1)\n",
        "        output_emotions = self.l3(output_emotions)\n",
        "        output_trigger = self.l4(output_1)\n",
        "        output_trigger = self.l5(output_trigger)\n",
        "        return output_emotions, output_trigger"
      ]
    },
    {
      "cell_type": "code",
      "execution_count": 109,
      "metadata": {},
      "outputs": [
        {
          "data": {
            "text/plain": [
              "BERTClass(\n",
              "  (l1): BertModel(\n",
              "    (embeddings): BertEmbeddings(\n",
              "      (word_embeddings): Embedding(30522, 768, padding_idx=0)\n",
              "      (position_embeddings): Embedding(512, 768)\n",
              "      (token_type_embeddings): Embedding(2, 768)\n",
              "      (LayerNorm): LayerNorm((768,), eps=1e-12, elementwise_affine=True)\n",
              "      (dropout): Dropout(p=0.1, inplace=False)\n",
              "    )\n",
              "    (encoder): BertEncoder(\n",
              "      (layer): ModuleList(\n",
              "        (0-11): 12 x BertLayer(\n",
              "          (attention): BertAttention(\n",
              "            (self): BertSelfAttention(\n",
              "              (query): Linear(in_features=768, out_features=768, bias=True)\n",
              "              (key): Linear(in_features=768, out_features=768, bias=True)\n",
              "              (value): Linear(in_features=768, out_features=768, bias=True)\n",
              "              (dropout): Dropout(p=0.1, inplace=False)\n",
              "            )\n",
              "            (output): BertSelfOutput(\n",
              "              (dense): Linear(in_features=768, out_features=768, bias=True)\n",
              "              (LayerNorm): LayerNorm((768,), eps=1e-12, elementwise_affine=True)\n",
              "              (dropout): Dropout(p=0.1, inplace=False)\n",
              "            )\n",
              "          )\n",
              "          (intermediate): BertIntermediate(\n",
              "            (dense): Linear(in_features=768, out_features=3072, bias=True)\n",
              "            (intermediate_act_fn): GELUActivation()\n",
              "          )\n",
              "          (output): BertOutput(\n",
              "            (dense): Linear(in_features=3072, out_features=768, bias=True)\n",
              "            (LayerNorm): LayerNorm((768,), eps=1e-12, elementwise_affine=True)\n",
              "            (dropout): Dropout(p=0.1, inplace=False)\n",
              "          )\n",
              "        )\n",
              "      )\n",
              "    )\n",
              "    (pooler): BertPooler(\n",
              "      (dense): Linear(in_features=768, out_features=768, bias=True)\n",
              "      (activation): Tanh()\n",
              "    )\n",
              "  )\n",
              "  (l2): Dropout(p=0.3, inplace=False)\n",
              "  (l3): Linear(in_features=768, out_features=7, bias=True)\n",
              "  (l4): Dropout(p=0.3, inplace=False)\n",
              "  (l5): Linear(in_features=768, out_features=2, bias=True)\n",
              ")"
            ]
          },
          "execution_count": 109,
          "metadata": {},
          "output_type": "execute_result"
        }
      ],
      "source": [
        "model = BERTClass(MODEL_NAME)\n",
        "'''\n",
        "for name, param in model.named_parameters():\n",
        "     if name.startswith(\"l1\"): # choose whatever you like here\n",
        "        param.requires_grad = False\n",
        "'''\n",
        "model.to(device)"
      ]
    },
    {
      "cell_type": "code",
      "execution_count": 110,
      "metadata": {},
      "outputs": [],
      "source": [
        "from sklearn.metrics import f1_score, accuracy_score\n",
        "\n",
        "def compute_metrics(output_info):\n",
        "    predictions, labels = output_info\n",
        "    predictions = np.argmax(predictions, axis=-1)\n",
        "    \n",
        "    f1 = f1_score(y_pred=predictions, y_true=labels, average='macro')\n",
        "    acc = accuracy_score(y_pred=predictions, y_true=labels)\n",
        "    return {'f1': f1, 'acc': acc}"
      ]
    },
    {
      "cell_type": "code",
      "execution_count": 111,
      "metadata": {},
      "outputs": [
        {
          "name": "stdout",
          "output_type": "stream",
          "text": [
            "Class weights: [1.23830338 4.67722372 4.46151374 0.7954845  0.32871587 1.88153971\n",
            " 1.08250156]\n"
          ]
        }
      ],
      "source": [
        "#compute class weights based on distribution of classes in training set\n",
        "from sklearn.utils import class_weight\n",
        "y_train = []\n",
        "for index, row in df_train.iterrows():\n",
        "    for i in range(len(row[\"utterances\"])):\n",
        "        y_train.append(row[\"emotions\"][i])\n",
        "class_weights_emotions = class_weight.compute_class_weight(class_weight='balanced', classes=np.unique(y_train), y=y_train)\n",
        "print(f\"Class weights: {class_weights_emotions}\")\n",
        "class_weights_emotions = torch.tensor(class_weights_emotions, dtype=torch.float)"
      ]
    },
    {
      "cell_type": "code",
      "execution_count": 112,
      "metadata": {},
      "outputs": [
        {
          "name": "stdout",
          "output_type": "stream",
          "text": [
            "Class weights: [0.59643394 3.09244821]\n"
          ]
        }
      ],
      "source": [
        "y_train = []\n",
        "for index, row in df_train.iterrows():\n",
        "    for i in range(len(row[\"utterances\"])):\n",
        "        y_train.append(row[\"triggers\"][i])\n",
        "class_weights_triggers = class_weight.compute_class_weight(class_weight='balanced', classes=np.unique(y_train), y=y_train)\n",
        "print(f\"Class weights: {class_weights_triggers}\")\n",
        "class_weights_triggers = torch.tensor(class_weights_triggers, dtype=torch.float)"
      ]
    },
    {
      "cell_type": "code",
      "execution_count": 113,
      "metadata": {},
      "outputs": [],
      "source": [
        "def compute_loss(output_emotion, output_trigger, targets_emotion, targets_trigger):\n",
        "    label_emotion = targets_emotion\n",
        "    label_trigger = targets_trigger\n",
        "    # compute custom loss \n",
        "    loss_fct_emo = torch.nn.CrossEntropyLoss(weight=torch.tensor(class_weights_emotions).to(device))\n",
        "    loss = loss_fct_emo(output_emotion, label_emotion)\n",
        "    loss_fct_targ = torch.nn.BCEWithLogitsLoss(weight=torch.tensor(class_weights_triggers).to(device))\n",
        "    loss += loss_fct_targ(output_trigger, label_trigger)\n",
        "    return loss"
      ]
    },
    {
      "cell_type": "code",
      "execution_count": 114,
      "metadata": {},
      "outputs": [],
      "source": [
        "optimizer = torch.optim.Adam(params = model.parameters(), lr=LEARNING_RATE)\n",
        "scheduler = get_linear_schedule_with_warmup(optimizer, num_warmup_steps=(0.1*(len(training_loader))*EPOCHS), num_training_steps=len(training_loader)*EPOCHS)"
      ]
    },
    {
      "cell_type": "code",
      "execution_count": 118,
      "metadata": {},
      "outputs": [],
      "source": [
        "def train():\n",
        "    size = len(training_loader.dataset)\n",
        "    model.train()\n",
        "    for batch,data in enumerate(training_loader, 0):\n",
        "        ids = data['input_ids'].to(device, dtype = torch.long)\n",
        "        mask = data['attention_mask'].to(device, dtype = torch.long)\n",
        "        token_type_ids = data['token_type_ids'].to(device, dtype = torch.long)\n",
        "        target_emotion = data['label'].to(device, dtype = torch.float)\n",
        "        target_trigger = data['trigger'].to(device, dtype = torch.float)\n",
        "        \n",
        "        output_emotion, output_trigger = model(ids, mask, token_type_ids)\n",
        "        #loss = loss_fn(outputs, targets)\n",
        "        loss = compute_loss(output_emotion, output_trigger, target_emotion, target_trigger)\n",
        "\n",
        "        # Backpropagation\n",
        "        optimizer.zero_grad()\n",
        "        loss.backward()\n",
        "        optimizer.step()\n",
        "        scheduler.step()\n",
        "\n",
        "        if batch%1000==0:\n",
        "            current =  batch * len(data['input_ids'])\n",
        "            print(f\"Train loss: {loss.item():>7f}  [{current:>5d}/{size:>5d}]\")"
      ]
    },
    {
      "cell_type": "code",
      "execution_count": 119,
      "metadata": {},
      "outputs": [],
      "source": [
        "def validation(epoch, val_loss_min_input):\n",
        "    num_batches = len(val_loader)\n",
        "    model.eval()\n",
        "    val_loss = 0\n",
        "    with torch.no_grad():\n",
        "        for batch, data in enumerate(val_loader, 0):\n",
        "            ids = data['input_ids'].to(device, dtype = torch.long)\n",
        "            mask = data['attention_mask'].to(device, dtype = torch.long)\n",
        "            token_type_ids = data['token_type_ids'].to(device, dtype = torch.long)\n",
        "            target_emotion = data['label'].to(device, dtype = torch.float)\n",
        "            target_trigger = data['trigger'].to(device, dtype = torch.float)\n",
        "\n",
        "            output_emotion, output_target = model(ids, mask, token_type_ids)\n",
        "            val_loss += compute_loss(output_emotion, output_target, target_emotion, target_trigger).item()\n",
        "\n",
        "        val_loss /= num_batches\n",
        "        #outputs, targets = fin_outputs, fin_targets\n",
        "        print(f\"\\nValidation loss: {val_loss:>8f}.\")\n",
        "        ## TODO: save the model if validation loss has decreased\n",
        "        if val_loss <= val_loss_min_input:\n",
        "            #create checkpoint variable and add important data\n",
        "            if epoch > 0:\n",
        "                print('Validation loss decreased ({:.8f} --> {:.8f}).  Saving model ...'.format(val_loss_min_input, val_loss))\n",
        "            else: print('Saving model ...')\n",
        "            # save best moel\n",
        "            torch.save(model.state_dict(), \"model_bert_standard_project.pth\")\n",
        "            print(\"Saved PyTorch Model State to model.pth\\n\")\n",
        "            val_loss_min_input = val_loss\n",
        "\n",
        "    return val_loss_min_input"
      ]
    },
    {
      "cell_type": "code",
      "execution_count": null,
      "metadata": {},
      "outputs": [],
      "source": [
        "val_loss_min_st = np.inf\n",
        "for epoch in range(EPOCHS):\n",
        "    print(f\"Epoch {epoch+1}\\n-------------------------------\")\n",
        "    train()\n",
        "    val_loss_min_st = validation(epoch, val_loss_min_st)"
      ]
    },
    {
      "cell_type": "code",
      "execution_count": 126,
      "metadata": {},
      "outputs": [],
      "source": [
        "def inference(model, test_load):\n",
        "    model.eval()\n",
        "    fin_targets_emotion = []\n",
        "    fin_outputs_emotion = []\n",
        "    fin_targets_trigger = []\n",
        "    fin_outputs_trigger = []\n",
        "\n",
        "    with torch.no_grad():\n",
        "        for batch, data in enumerate(test_load, 0):\n",
        "            ids = data['input_ids'].to(device, dtype = torch.long)\n",
        "            mask = data['attention_mask'].to(device, dtype = torch.long)\n",
        "            token_type_ids = data['token_type_ids'].to(device, dtype = torch.long)\n",
        "            target_emotion = data['label'].to(device, dtype = torch.float)\n",
        "            target_trigger = data['trigger'].to(device, dtype = torch.float)\n",
        "\n",
        "            output_emotion, output_trigger = model(ids, mask, token_type_ids)\n",
        "            fin_targets_emotion.extend(torch.argmax(target_emotion, axis=1).cpu().detach().numpy().tolist())\n",
        "            fin_outputs_emotion.extend(torch.argmax(output_emotion, axis=1).cpu().detach().numpy().tolist())\n",
        "            fin_targets_trigger.extend(target_trigger.cpu().detach().numpy().tolist())\n",
        "            fin_outputs_trigger.extend(torch.sigmoid(output_trigger).cpu().detach().numpy().tolist())\n",
        "        \n",
        "    return fin_outputs_emotion, fin_targets_emotion, fin_outputs_trigger, fin_targets_trigger\n"
      ]
    },
    {
      "cell_type": "code",
      "execution_count": 127,
      "metadata": {},
      "outputs": [],
      "source": [
        "outputs_emotion, targets_emotion, outputs_trigger, targets_trigger = inference(model, test_loader)"
      ]
    },
    {
      "cell_type": "code",
      "execution_count": 130,
      "metadata": {},
      "outputs": [],
      "source": [
        "def get_threshold(targets, outputs):\n",
        "    results = {}\n",
        "    for tr in np.arange(0.1, 0.9, 0.1):\n",
        "        tr = round(tr, 2)\n",
        "        predictions= np.array(outputs) >= tr\n",
        "        results[tr] = f1_score(targets, predictions, average='macro')\n",
        "    return max(results, key=results.get)"
      ]
    },
    {
      "cell_type": "code",
      "execution_count": 132,
      "metadata": {},
      "outputs": [
        {
          "name": "stdout",
          "output_type": "stream",
          "text": [
            "Threshold: 0.1\n",
            "Report for triggers: \n",
            "\n",
            "              precision    recall  f1-score   support\n",
            "\n",
            "           0       0.85      1.00      0.92      3027\n",
            "           1       0.15      0.99      0.26       531\n",
            "\n",
            "   micro avg       0.50      1.00      0.67      3558\n",
            "   macro avg       0.50      1.00      0.59      3558\n",
            "weighted avg       0.75      1.00      0.82      3558\n",
            " samples avg       0.50      1.00      0.67      3558\n",
            "\n",
            "-------------------------------------------------------\n",
            "Report for emotions: \n",
            "\n",
            "              precision    recall  f1-score   support\n",
            "\n",
            "     neutral       0.65      0.89      0.75      1572\n",
            "         joy       0.58      0.55      0.57       663\n",
            "    surprise       0.46      0.74      0.57       486\n",
            "     sadness       0.00      0.00      0.00       258\n",
            "       anger       0.00      0.00      0.00       369\n",
            "     disgust       0.00      0.00      0.00       101\n",
            "        fear       0.00      0.00      0.00       109\n",
            "\n",
            "    accuracy                           0.60      3558\n",
            "   macro avg       0.24      0.31      0.27      3558\n",
            "weighted avg       0.46      0.60      0.51      3558\n",
            "\n"
          ]
        },
        {
          "name": "stderr",
          "output_type": "stream",
          "text": [
            "d:\\NLProject\\.venv\\lib\\site-packages\\sklearn\\metrics\\_classification.py:1471: UndefinedMetricWarning: Precision and F-score are ill-defined and being set to 0.0 in labels with no predicted samples. Use `zero_division` parameter to control this behavior.\n",
            "  _warn_prf(average, modifier, msg_start, len(result))\n",
            "d:\\NLProject\\.venv\\lib\\site-packages\\sklearn\\metrics\\_classification.py:1471: UndefinedMetricWarning: Precision and F-score are ill-defined and being set to 0.0 in labels with no predicted samples. Use `zero_division` parameter to control this behavior.\n",
            "  _warn_prf(average, modifier, msg_start, len(result))\n",
            "d:\\NLProject\\.venv\\lib\\site-packages\\sklearn\\metrics\\_classification.py:1471: UndefinedMetricWarning: Precision and F-score are ill-defined and being set to 0.0 in labels with no predicted samples. Use `zero_division` parameter to control this behavior.\n",
            "  _warn_prf(average, modifier, msg_start, len(result))\n"
          ]
        }
      ],
      "source": [
        "th = get_threshold(targets_trigger, outputs_trigger)\n",
        "print(f\"Threshold: {th}\")\n",
        "predictions_trigger = np.array(outputs_trigger) >= th\n",
        "report_triggers = classification_report(targets_trigger, predictions_trigger)\n",
        "report_emotions = classification_report(targets_emotion, outputs_emotion, target_names=emotion_to_index.keys())\n",
        "print(\"Report for triggers: \\n\")\n",
        "print(report_triggers)\n",
        "print(\"-------------------------------------------------------\")\n",
        "print(\"Report for emotions: \\n\")\n",
        "print(report_emotions)"
      ]
    },
    {
      "cell_type": "code",
      "execution_count": 105,
      "metadata": {},
      "outputs": [
        {
          "data": {
            "text/plain": [
              "9"
            ]
          },
          "execution_count": 105,
          "metadata": {},
          "output_type": "execute_result"
        }
      ],
      "source": [
        "import gc\n",
        "\n",
        "model = None\n",
        "del model\n",
        "\n",
        "with torch.no_grad():\n",
        "    torch.cuda.empty_cache()\n",
        "\n",
        "gc.collect()"
      ]
    }
  ],
  "metadata": {
    "accelerator": "GPU",
    "colab": {
      "gpuType": "T4",
      "provenance": []
    },
    "kernelspec": {
      "display_name": "Python 3",
      "name": "python3"
    },
    "language_info": {
      "codemirror_mode": {
        "name": "ipython",
        "version": 3
      },
      "file_extension": ".py",
      "mimetype": "text/x-python",
      "name": "python",
      "nbconvert_exporter": "python",
      "pygments_lexer": "ipython3",
      "version": "3.10.11"
    }
  },
  "nbformat": 4,
  "nbformat_minor": 0
}
