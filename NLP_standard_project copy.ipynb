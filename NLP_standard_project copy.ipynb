{
  "cells": [
    {
      "cell_type": "markdown",
      "metadata": {
        "id": "005CLkdt-mxo"
      },
      "source": [
        "# NLP Standard Project:\n",
        "\n",
        "- Students: **Matteo Belletti**, **Alessandro Pasi**, **Stricescu Razvan Ciprian**."
      ]
    },
    {
      "cell_type": "markdown",
      "metadata": {},
      "source": [
        "The Standard Project is about addressing this task: Emotion Discovery and Reasoning its Flip in Conversation (EDiReF), SemEval 2024 Task 10, SUBTASK iii (English only) "
      ]
    },
    {
      "cell_type": "markdown",
      "metadata": {},
      "source": [
        "### Libraries and dependencies:"
      ]
    },
    {
      "cell_type": "code",
      "execution_count": 58,
      "metadata": {
        "colab": {
          "base_uri": "https://localhost:8080/"
        },
        "id": "DOs950_0-mxp",
        "outputId": "22676575-433c-48c9-e115-df2c26851981"
      },
      "outputs": [
        {
          "name": "stdout",
          "output_type": "stream",
          "text": [
            "Device: cuda\n"
          ]
        }
      ],
      "source": [
        "import numpy as np\n",
        "import matplotlib.pyplot as plt\n",
        "import nltk\n",
        "from nltk.tokenize import word_tokenize\n",
        "from nltk.corpus import stopwords\n",
        "from nltk.stem import WordNetLemmatizer\n",
        "import re\n",
        "import string\n",
        "import random\n",
        "from sklearn.feature_extraction.text import  TfidfVectorizer\n",
        "from sklearn.dummy import DummyClassifier\n",
        "from sklearn.utils import class_weight\n",
        "import pandas as pd\n",
        "import json\n",
        "import transformers\n",
        "import torch\n",
        "from torch.utils.data import Dataset, DataLoader\n",
        "from transformers import AutoTokenizer, get_linear_schedule_with_warmup\n",
        "from sklearn.metrics import classification_report, f1_score\n",
        "from torch import cuda\n",
        "device = 'cuda' if cuda.is_available() else 'cpu'\n",
        "print(f\"Device: {device}\")"
      ]
    },
    {
      "cell_type": "markdown",
      "metadata": {},
      "source": [
        "In order to better assess the project we trained and evaluated our models on five different seeds. The results are reported in the report but also in the notebook in the section \"Results\".\n",
        "\n",
        "Seed selection:"
      ]
    },
    {
      "cell_type": "code",
      "execution_count": 10,
      "metadata": {},
      "outputs": [
        {
          "name": "stdout",
          "output_type": "stream",
          "text": [
            "WARNING:tensorflow:From d:\\NLProject\\.venv\\lib\\site-packages\\keras\\src\\losses.py:2976: The name tf.losses.sparse_softmax_cross_entropy is deprecated. Please use tf.compat.v1.losses.sparse_softmax_cross_entropy instead.\n",
            "\n"
          ]
        }
      ],
      "source": [
        "RANDOM_SEED = 42\n",
        "#RANDOM_SEED = 2\n",
        "#RANDOM_SEED = 4\n",
        "#RANDOM_SEED = 22\n",
        "#RANDOM_SEED = 420\n",
        "np.random.seed(RANDOM_SEED)\n",
        "torch.manual_seed(RANDOM_SEED)\n",
        "transformers.set_seed(RANDOM_SEED)"
      ]
    },
    {
      "cell_type": "markdown",
      "metadata": {
        "id": "Ck-GQq5d-mxr"
      },
      "source": [
        "## Data loading and preprocessing:"
      ]
    },
    {
      "cell_type": "markdown",
      "metadata": {},
      "source": [
        "The data contains 4000 short English dialogues from the TV show \"Friends\". Each dialogue is composed of different sentences, each of which is annotated with a label that indicates the emotion expressed by the speaker and whether it triggers that emotion or not.\n",
        "\n",
        "The labels for emotion are: \n",
        "| Emotion: | neutral | joy | sadness | fear | anger | suprise | disgust |\n",
        "|----------|---------|-----|---------|------|-------|---------|---------|\n",
        "\n",
        "The labels for trigger are:\n",
        "| Trigger: | 0 | 1 |\n",
        "|----------|---------|-----|\n",
        "\n",
        "\n",
        "The data is loaded and preprocessed as follows:"
      ]
    },
    {
      "cell_type": "code",
      "execution_count": 18,
      "metadata": {
        "colab": {
          "base_uri": "https://localhost:8080/"
        },
        "id": "hvWV-5RY-mxr",
        "outputId": "ab7ccfe6-c3a7-4387-e4bc-0feb0534406a"
      },
      "outputs": [
        {
          "name": "stdout",
          "output_type": "stream",
          "text": [
            "Number of samples: 4000\n",
            "Example of a sample: {'episode': 'utterance_0', 'speakers': ['Chandler', 'The Interviewer', 'Chandler', 'The Interviewer', 'Chandler'], 'emotions': ['neutral', 'neutral', 'neutral', 'neutral', 'surprise'], 'utterances': [\"also I was the point person on my company's transition from the KL-5 to GR-6 system.\", \"You must've had your hands full.\", 'That I did. That I did.', \"So let's talk a little bit about your duties.\", 'My duties?  All right.'], 'triggers': [0.0, 0.0, 0.0, 1.0, 0.0]}\n"
          ]
        }
      ],
      "source": [
        "# open json in project_data_MELD folder\n",
        "try:\n",
        "    with open('project_data_MELD/MELD_train_efr.json') as f: # Modify this path to your local path\n",
        "        data = json.load(f)\n",
        "except:\n",
        "    with open('MELD_train_efr.json') as f:\n",
        "        data = json.load(f)\n",
        "print(f\"Number of samples: {len(data)}\")\n",
        "print(f\"Example of a sample: {data[0]}\")"
      ]
    },
    {
      "cell_type": "markdown",
      "metadata": {},
      "source": [
        "In order to easily load the data we used the pandas library. The data is loaded from the list previously created and then it is converted into a pandas dataframe. \n",
        "\n",
        "We also drop the episode column, which functions as an index, as it is not useful for our task."
      ]
    },
    {
      "cell_type": "code",
      "execution_count": 19,
      "metadata": {
        "colab": {
          "base_uri": "https://localhost:8080/"
        },
        "id": "_Ck5Yz3C-mxr",
        "outputId": "e3724972-d61e-425c-edc6-f607fca32c77"
      },
      "outputs": [
        {
          "name": "stdout",
          "output_type": "stream",
          "text": [
            "Dataframe shape: (4000, 4)\n",
            "Dataframe columns: Index(['speakers', 'emotions', 'utterances', 'triggers'], dtype='object')\n",
            "Dataframe head:\n",
            "                                             speakers  \\\n",
            "0  [Chandler, The Interviewer, Chandler, The Inte...   \n",
            "\n",
            "                                         emotions  \\\n",
            "0  [neutral, neutral, neutral, neutral, surprise]   \n",
            "\n",
            "                                          utterances  \\\n",
            "0  [also I was the point person on my company's t...   \n",
            "\n",
            "                    triggers  \n",
            "0  [0.0, 0.0, 0.0, 1.0, 0.0]  \n"
          ]
        }
      ],
      "source": [
        "# Convert data to pandas dataframe\n",
        "df = pd.DataFrame(data)\n",
        "# Drop episode and speakers columns\n",
        "df = df.drop(columns=['episode'])\n",
        "print(f\"Dataframe shape: {df.shape}\")\n",
        "print(f\"Dataframe columns: {df.columns}\")\n",
        "print(f\"Dataframe head:\\n {df.head(1)}\")"
      ]
    },
    {
      "cell_type": "markdown",
      "metadata": {
        "id": "8Spy3zzO-mxs"
      },
      "source": [
        "The trigger column also contains NaN values, which we replace with 0.0 in order to avoid errors during the training phase."
      ]
    },
    {
      "cell_type": "code",
      "execution_count": 23,
      "metadata": {
        "colab": {
          "base_uri": "https://localhost:8080/"
        },
        "id": "Fu_fACgc-mxs",
        "outputId": "644df322-2ddd-4aea-d5ae-036077ef6100"
      },
      "outputs": [
        {
          "name": "stdout",
          "output_type": "stream",
          "text": [
            "Number of NaN values in the triggers column: 9\n",
            "Example of a sample with NaN values:\n",
            "[0.0, nan, 0.0, 0.0, 0.0, 0.0, 0.0, 0.0, 0.0, 1.0, 0.0]\n",
            "Example of a sample after removing the NaN values:\n",
            "[0.0, 0, 0.0, 0.0, 0.0, 0.0, 0.0, 0.0, 0.0, 1.0, 0.0]\n"
          ]
        }
      ],
      "source": [
        "count = 0\n",
        "for row in df[\"triggers\"]:\n",
        "    for elem in row:\n",
        "        if elem != 1 and elem != 0:\n",
        "            count += 1\n",
        "print(\"Number of NaN values in the triggers column: {}\".format(count))\n",
        "print(\"Example of a sample with NaN values:\")\n",
        "print(df[\"triggers\"][3359])\n",
        "df[\"triggers\"] = df[\"triggers\"].apply(lambda x: [0 if elem != 1 and elem != 0 else elem for elem in x])\n",
        "print(\"Example of a sample after removing the NaN values:\")\n",
        "print(df[\"triggers\"][3359])"
      ]
    },
    {
      "cell_type": "markdown",
      "metadata": {
        "id": "UssZaYz3-mxs"
      },
      "source": [
        "The data is then split into train, test and validation sets, with a 80/10/10 ratio."
      ]
    },
    {
      "cell_type": "code",
      "execution_count": 24,
      "metadata": {
        "id": "OFaRTAN7-mxs"
      },
      "outputs": [
        {
          "name": "stdout",
          "output_type": "stream",
          "text": [
            "Train shape: (3200, 4)\n",
            "Val shape: (400, 4)\n",
            "Test shape: (400, 4)\n"
          ]
        }
      ],
      "source": [
        "# Split data\n",
        "from sklearn.model_selection import train_test_split\n",
        "\n",
        "df_train, temp = train_test_split(df, test_size=0.2, random_state=RANDOM_SEED)\n",
        "df_val, df_test = train_test_split(temp, test_size=0.5, random_state=RANDOM_SEED)\n",
        "print(f\"Train shape: {df_train.shape}\")\n",
        "print(f\"Val shape: {df_val.shape}\")\n",
        "print(f\"Test shape: {df_test.shape}\")"
      ]
    },
    {
      "cell_type": "markdown",
      "metadata": {},
      "source": [
        "In order to better assess the data we also plot the distribution of the labels in the train set so that we can see if there is a class imbalance."
      ]
    },
    {
      "cell_type": "code",
      "execution_count": 27,
      "metadata": {
        "colab": {
          "base_uri": "https://localhost:8080/"
        },
        "id": "hGSbTu_l-mxt",
        "outputId": "09bed160-d168-4216-ebfa-f4590c363589"
      },
      "outputs": [
        {
          "name": "stdout",
          "output_type": "stream",
          "text": [
            "Emotions sorted by occurences:\n",
            "{'neutral': 12066, 'joy': 4986, 'surprise': 3664, 'anger': 3203, 'sadness': 2108, 'fear': 889, 'disgust': 848}\n"
          ]
        }
      ],
      "source": [
        "# first we create a dictionary of all emotions with their corresponding occurences\n",
        "emotions_dict = {}\n",
        "for emotions in df_train[\"emotions\"]:\n",
        "    for emotion in emotions:\n",
        "        if emotion in emotions_dict:\n",
        "            emotions_dict[emotion] += 1\n",
        "        else:\n",
        "            emotions_dict[emotion] = 1\n",
        "\n",
        "# then we sort the dictionary by occurences\n",
        "emotions_dict = {k: v for k, v in sorted(emotions_dict.items(), key=lambda item: item[1], reverse=True)}\n",
        "print(\"Emotions sorted by occurences:\")\n",
        "print(emotions_dict)"
      ]
    },
    {
      "cell_type": "code",
      "execution_count": 28,
      "metadata": {},
      "outputs": [],
      "source": [
        "# This function is only used to better visualize plots by setting a random color for each element, so it's just for aesthetic purposes\n",
        "def set_color(number_of_colors):\n",
        "    # return a random color to be used for the plot\n",
        "    color_list = []\n",
        "    for i in range(number_of_colors):\n",
        "        color_list.append(\"#\"+''.join([random.choice('0123456789ABCDEF') for j in range(6)]))\n",
        "    return color_list"
      ]
    },
    {
      "cell_type": "markdown",
      "metadata": {
        "id": "9aG4tIgr-mxt"
      },
      "source": [
        "Plotting the distribution of emotions."
      ]
    },
    {
      "cell_type": "code",
      "execution_count": 29,
      "metadata": {
        "colab": {
          "base_uri": "https://localhost:8080/",
          "height": 795
        },
        "id": "7ALQKgJ0-mxt",
        "outputId": "7b10b15b-685d-486d-a233-340fadc31f09"
      },
      "outputs": [
        {
          "data": {
            "image/png": "[encoded data removed]",
            "text/plain": [
              "<Figure size 2000x1000 with 1 Axes>"
            ]
          },
          "metadata": {},
          "output_type": "display_data"
        }
      ],
      "source": [
        "# plot the emotions distribution as histogram\n",
        "plt.figure(figsize=(20,10))\n",
        "plt.bar(emotions_dict.keys(), emotions_dict.values(), color=set_color(len(emotions_dict)))\n",
        "plt.title(\"Emotions distribution\")\n",
        "plt.xlabel(\"Emotions\")\n",
        "plt.ylabel(\"Number of occurences\")\n",
        "plt.show()"
      ]
    },
    {
      "cell_type": "markdown",
      "metadata": {},
      "source": [
        "As we can see from the plot, the data is not balanced, with the neutral class being the most represented and the disgust class being the least represented. This could lead to problems during the training phase, as the model could be biased towards the neutral class.\n",
        "\n",
        "We will adress this problem later on in this part of the notebook."
      ]
    },
    {
      "cell_type": "code",
      "execution_count": 41,
      "metadata": {},
      "outputs": [
        {
          "name": "stdout",
          "output_type": "stream",
          "text": [
            "Triggers sorted by occurences:\n",
            "{0.0: 23275, 1.0: 4489}\n"
          ]
        },
        {
          "data": {
            "image/png": "[encoded data removed]",
            "text/plain": [
              "<Figure size 2000x1000 with 1 Axes>"
            ]
          },
          "metadata": {},
          "output_type": "display_data"
        }
      ],
      "source": [
        "# trigger distribution\n",
        "trigger_dict = {}\n",
        "for triggers in df_train[\"triggers\"]:\n",
        "    for trigger in triggers:\n",
        "        if trigger in trigger_dict:\n",
        "            trigger_dict[trigger] += 1\n",
        "        else:\n",
        "            trigger_dict[trigger] = 1\n",
        "        \n",
        "trigger_dict = {k: v for k, v in sorted(trigger_dict.items(), key=lambda item: item[1], reverse=True)}\n",
        "print(\"Triggers sorted by occurences:\")\n",
        "print(trigger_dict)\n",
        "\n",
        "# plot the triggers distribution as histogram\n",
        "plt.figure(figsize=(20,10))\n",
        "plt.bar(trigger_dict.keys(), trigger_dict.values(), color=set_color(len(trigger_dict)))\n",
        "plt.title(\"Triggers distribution\")\n",
        "plt.xlabel(\"Triggers\")\n",
        "plt.ylabel(\"Number of occurences\")\n",
        "plt.show()"
      ]
    },
    {
      "cell_type": "markdown",
      "metadata": {},
      "source": [
        "Likewise, we plot the distribution of the trigger labels and we notice that the data is not balanced, with the 0 class being the most represented and the 1 class being the least represented. This could lead to problems during the training phase, as the model could be biased towards the 0 class.\n",
        "\n",
        "We will adress this problem later on in this part of the notebook."
      ]
    },
    {
      "cell_type": "markdown",
      "metadata": {},
      "source": [
        "### Preparing for the models:\n",
        "\n",
        "*Baseline models*: Dummy classfiers with random uniform and majority strategies\n",
        "\n",
        "*BeRT models*: Frozen and unfrozen models based on the BeRT architecture with an additional multihead classifier layers. "
      ]
    },
    {
      "cell_type": "markdown",
      "metadata": {},
      "source": [
        "#### Baseline models:"
      ]
    },
    {
      "cell_type": "code",
      "execution_count": 1,
      "metadata": {
        "colab": {
          "base_uri": "https://localhost:8080/"
        },
        "id": "Wkjy3t9t-mxu",
        "outputId": "ae2960c5-8b1a-4e73-b500-153d62b19da9"
      },
      "outputs": [
        {
          "ename": "NameError",
          "evalue": "name 'df_train' is not defined",
          "output_type": "error",
          "traceback": [
            "\u001b[1;31m---------------------------------------------------------------------------\u001b[0m",
            "\u001b[1;31mNameError\u001b[0m                                 Traceback (most recent call last)",
            "Cell \u001b[1;32mIn[1], line 1\u001b[0m\n\u001b[1;32m----> 1\u001b[0m baseline_train \u001b[38;5;241m=\u001b[39m \u001b[43mdf_train\u001b[49m\u001b[38;5;241m.\u001b[39mcopy()\n\u001b[0;32m      2\u001b[0m baseline_test \u001b[38;5;241m=\u001b[39m df_test\u001b[38;5;241m.\u001b[39mcopy()\n\u001b[0;32m      3\u001b[0m baseline_val \u001b[38;5;241m=\u001b[39m df_val\u001b[38;5;241m.\u001b[39mcopy()\n",
            "\u001b[1;31mNameError\u001b[0m: name 'df_train' is not defined"
          ]
        }
      ],
      "source": [
        "baseline_train = df_train.copy()\n",
        "baseline_test = df_test.copy()\n",
        "baseline_val = df_val.copy()\n",
        "print(baseline_train[\"utterances\"][0])"
      ]
    },
    {
      "cell_type": "markdown",
      "metadata": {
        "id": "yZ9HYEWk-mxu"
      },
      "source": [
        "In order to use the TF-IDF vectorizer we need to split the utterances into single sentences, likewise the emotions and triggers."
      ]
    },
    {
      "cell_type": "code",
      "execution_count": 34,
      "metadata": {
        "id": "0JGlj2Dn-mxu"
      },
      "outputs": [],
      "source": [
        "def splitter(df, y_label):\n",
        "    X = []\n",
        "    y = []\n",
        "    for index, row in df.iterrows():\n",
        "        for i in range(len(row[\"utterances\"])):\n",
        "            X.append(row[\"utterances\"][i])\n",
        "            y.append(row[y_label][i])\n",
        "    return X, y"
      ]
    },
    {
      "cell_type": "code",
      "execution_count": 36,
      "metadata": {
        "colab": {
          "base_uri": "https://localhost:8080/"
        },
        "id": "9QG7dR_5-mxu",
        "outputId": "f5046e5e-001e-48c8-a3c2-e89f2c9cbbcc"
      },
      "outputs": [
        {
          "name": "stdout",
          "output_type": "stream",
          "text": [
            "Train shape after splitting: 27764\n",
            "Val shape after splitting: 3678\n",
            "Test shape after splitting: 3558\n",
            "Example of a sample after splitting: sentence, emotion, trigger\n",
            "ey neutral 0.0\n"
          ]
        }
      ],
      "source": [
        "# Emotions baseline\n",
        "x_train_base, y_train_emotions = splitter(baseline_train, \"emotions\")\n",
        "x_val_base, y_val_emotions = splitter(baseline_val, \"emotions\")\n",
        "x_test_base, y_test_emotions = splitter(baseline_test, \"emotions\")\n",
        "\n",
        "# Triggers baseline\n",
        "_ , y_train_triggers = splitter(baseline_train, \"triggers\")\n",
        "_ , y_val_triggers = splitter(baseline_val, \"triggers\")\n",
        "_ , y_test_triggers = splitter(baseline_test, \"triggers\")\n",
        "\n",
        "print(f\"Train shape after splitting: {len(x_train_base)}\")\n",
        "print(f\"Val shape after splitting: {len(x_val_base)}\")\n",
        "print(f\"Test shape after splitting: {len(x_test_base)}\")\n",
        "\n",
        "print(\"Example of a sample after splitting: sentence, emotion, trigger\")\n",
        "print(x_train_base[0], y_train_emotions[0], y_train_triggers[0])"
      ]
    },
    {
      "cell_type": "markdown",
      "metadata": {},
      "source": [
        "#### BeRT models:"
      ]
    },
    {
      "cell_type": "markdown",
      "metadata": {},
      "source": [
        "Before proceeding with the preprocessing of the data, we inspect the data in order to visualize different aspects of it."
      ]
    },
    {
      "cell_type": "code",
      "execution_count": 39,
      "metadata": {
        "colab": {
          "base_uri": "https://localhost:8080/"
        },
        "id": "gffRztVP-mxw",
        "outputId": "b2b9fb2b-233c-4fcf-c6c3-b0f9a0849b69"
      },
      "outputs": [
        {
          "name": "stdout",
          "output_type": "stream",
          "text": [
            "Max number of sentences: 24\n"
          ]
        },
        {
          "data": {
            "image/png": "[encoded data removed]",
            "text/plain": [
              "<Figure size 2000x1000 with 1 Axes>"
            ]
          },
          "metadata": {},
          "output_type": "display_data"
        }
      ],
      "source": [
        "# get number of sentencese distribution\n",
        "num_sentences = []\n",
        "for index, row in df_train.iterrows():\n",
        "    num_sentences.append(len(row[\"utterances\"]))\n",
        "print(f\"Max number of sentences: {max(num_sentences)}\")\n",
        "\n",
        "# Plot number of sentences distribution\n",
        "plt.figure(figsize=(20,10))\n",
        "plt.hist(num_sentences, bins=100, color=set_color(1))\n",
        "plt.title(\"Number of sentences in a dialogue distribution\")\n",
        "plt.xlabel(\"Number of sentences\")\n",
        "plt.ylabel(\"Number of occurences\")\n",
        "plt.show()"
      ]
    },
    {
      "cell_type": "markdown",
      "metadata": {},
      "source": [
        "This plots show the distribution of the number of sentences per dialogue. We can see that the majority of the dialogues are composed of 10 sentences or less, with a few outliers.\n",
        "\n",
        "This result while not being useful for the models hyperparameters, it is useful to understand the data and the task, more specifically the fact that the dialogues are short and that the models will have to learn from a small number of sentences. Also, the fact that the dialogues are short made us question the usefulness of the context in the task, as the context is usually used to understand the meaning of the sentence, but in this case the sentences are short and the meaning is usually clear from the sentence itself."
      ]
    },
    {
      "cell_type": "markdown",
      "metadata": {},
      "source": [
        "For further tasks we copied the dataframes in order to not modify the original ones."
      ]
    },
    {
      "cell_type": "code",
      "execution_count": 40,
      "metadata": {
        "id": "e3kggk1g-mxw"
      },
      "outputs": [],
      "source": [
        "bert_train = df_train.copy()\n",
        "bert_val = df_val.copy()\n",
        "bert_test = df_test.copy()"
      ]
    },
    {
      "cell_type": "markdown",
      "metadata": {},
      "source": [
        "After many trials with models that tried to use the whole utterance as input, we decided to split the utterances into sentences and use the sentences as input for the models. This decision was made because the models were not able to learn from the whole utterance, as the utterances were too long and the models were not able to learn from them. Also, even with \"Teacher Forcing\", the resuts were not good. These trials are not reported in the notebook as they are not pertinent to the current models but they are discussed in the report."
      ]
    },
    {
      "cell_type": "code",
      "execution_count": 44,
      "metadata": {},
      "outputs": [],
      "source": [
        "def splitter_bert(df):\n",
        "    columns = [\"label\", \"sentence\", \"trigger\", \"dialogue\"]\n",
        "     # split the utteracnes into sentences with their corresponding labels\n",
        "    new_df = pd.DataFrame(columns=columns)\n",
        "    for index, row in df.iterrows():\n",
        "        for i in range(len(row[\"utterances\"])):\n",
        "            # We also split emotions and triggers while adding back the dialogue index which is the same for all the sentences in the same dialogue\n",
        "            new_row = pd.DataFrame({\"label\": [row[\"emotions\"][i]], \"sentence\": [row[\"utterances\"][i]], \"trigger\": [row[\"triggers\"][i]], \"dialogue\": [index]} )\n",
        "            new_df = pd.concat([new_df, new_row], ignore_index=True)\n",
        "    return new_df"
      ]
    },
    {
      "cell_type": "code",
      "execution_count": 43,
      "metadata": {},
      "outputs": [
        {
          "name": "stderr",
          "output_type": "stream",
          "text": [
            "C:\\Users\\Ciprian\\AppData\\Local\\Temp\\ipykernel_9536\\1370480577.py:8: FutureWarning: The behavior of DataFrame concatenation with empty or all-NA entries is deprecated. In a future version, this will no longer exclude empty or all-NA columns when determining the result dtypes. To retain the old behavior, exclude the relevant entries before the concat operation.\n",
            "  new_df = pd.concat([new_df, new_row], ignore_index=True)\n",
            "C:\\Users\\Ciprian\\AppData\\Local\\Temp\\ipykernel_9536\\1370480577.py:8: FutureWarning: The behavior of DataFrame concatenation with empty or all-NA entries is deprecated. In a future version, this will no longer exclude empty or all-NA columns when determining the result dtypes. To retain the old behavior, exclude the relevant entries before the concat operation.\n",
            "  new_df = pd.concat([new_df, new_row], ignore_index=True)\n",
            "C:\\Users\\Ciprian\\AppData\\Local\\Temp\\ipykernel_9536\\1370480577.py:8: FutureWarning: The behavior of DataFrame concatenation with empty or all-NA entries is deprecated. In a future version, this will no longer exclude empty or all-NA columns when determining the result dtypes. To retain the old behavior, exclude the relevant entries before the concat operation.\n",
            "  new_df = pd.concat([new_df, new_row], ignore_index=True)\n"
          ]
        },
        {
          "name": "stdout",
          "output_type": "stream",
          "text": [
            "Shape of train, val and test sets after splitting: \n",
            "Train shape: (27764, 4)\n",
            "Val shape: (3678, 4)\n",
            "Test shape: (3558, 4)\n",
            "-------------------------------------------------------\n",
            "Example of a sample: \n",
            "label       neutral\n",
            "sentence       Hey.\n",
            "trigger         0.0\n",
            "dialogue       3994\n",
            "Name: 0, dtype: object\n"
          ]
        }
      ],
      "source": [
        "# split train, val and test sets for BERT\n",
        "bert_train = splitter_bert(bert_train)\n",
        "bert_val = splitter_bert(bert_val)\n",
        "bert_test = splitter_bert(bert_test)\n",
        "print(\"Shape of train, val and test sets after splitting: \")\n",
        "print(f\"Train shape: {bert_train.shape}\")\n",
        "print(f\"Val shape: {bert_val.shape}\")\n",
        "print(f\"Test shape: {bert_test.shape}\")\n",
        "print(\"-------------------------------------------------------\")\n",
        "print(\"Example of a sample: \")\n",
        "print(bert_train.iloc[0])"
      ]
    },
    {
      "cell_type": "code",
      "execution_count": 29,
      "metadata": {},
      "outputs": [
        {
          "data": {
            "text/html": [
              "<div>\n",
              "<style scoped>\n",
              "    .dataframe tbody tr th:only-of-type {\n",
              "        vertical-align: middle;\n",
              "    }\n",
              "\n",
              "    .dataframe tbody tr th {\n",
              "        vertical-align: top;\n",
              "    }\n",
              "\n",
              "    .dataframe thead th {\n",
              "        text-align: right;\n",
              "    }\n",
              "</style>\n",
              "<table border=\"1\" class=\"dataframe\">\n",
              "  <thead>\n",
              "    <tr style=\"text-align: right;\">\n",
              "      <th></th>\n",
              "      <th>label</th>\n",
              "      <th>sentence</th>\n",
              "      <th>trigger</th>\n",
              "      <th>dialogue</th>\n",
              "    </tr>\n",
              "  </thead>\n",
              "  <tbody>\n",
              "    <tr>\n",
              "      <th>0</th>\n",
              "      <td>neutral</td>\n",
              "      <td>Hey.</td>\n",
              "      <td>0.0</td>\n",
              "      <td>3994</td>\n",
              "    </tr>\n",
              "    <tr>\n",
              "      <th>1</th>\n",
              "      <td>joy</td>\n",
              "      <td>Hey!</td>\n",
              "      <td>0.0</td>\n",
              "      <td>3994</td>\n",
              "    </tr>\n",
              "    <tr>\n",
              "      <th>2</th>\n",
              "      <td>neutral</td>\n",
              "      <td>So how was Joan?</td>\n",
              "      <td>0.0</td>\n",
              "      <td>3994</td>\n",
              "    </tr>\n",
              "    <tr>\n",
              "      <th>3</th>\n",
              "      <td>neutral</td>\n",
              "      <td>I broke up with her.</td>\n",
              "      <td>0.0</td>\n",
              "      <td>3994</td>\n",
              "    </tr>\n",
              "    <tr>\n",
              "      <th>4</th>\n",
              "      <td>surprise</td>\n",
              "      <td>Don't tell me, because of the big nostril thing?</td>\n",
              "      <td>0.0</td>\n",
              "      <td>3994</td>\n",
              "    </tr>\n",
              "    <tr>\n",
              "      <th>5</th>\n",
              "      <td>disgust</td>\n",
              "      <td>They were huge. When she sneezed, bats flew ou...</td>\n",
              "      <td>0.0</td>\n",
              "      <td>3994</td>\n",
              "    </tr>\n",
              "    <tr>\n",
              "      <th>6</th>\n",
              "      <td>neutral</td>\n",
              "      <td>Come on, they were not that huge.</td>\n",
              "      <td>0.0</td>\n",
              "      <td>3994</td>\n",
              "    </tr>\n",
              "    <tr>\n",
              "      <th>7</th>\n",
              "      <td>disgust</td>\n",
              "      <td>I'm tellin' you, she leaned back; I could see ...</td>\n",
              "      <td>1.0</td>\n",
              "      <td>3994</td>\n",
              "    </tr>\n",
              "    <tr>\n",
              "      <th>8</th>\n",
              "      <td>surprise</td>\n",
              "      <td>How many perfectly fine women are you gonna re...</td>\n",
              "      <td>0.0</td>\n",
              "      <td>3994</td>\n",
              "    </tr>\n",
              "    <tr>\n",
              "      <th>9</th>\n",
              "      <td>surprise</td>\n",
              "      <td>And y'know what, I just realised, in the last ...</td>\n",
              "      <td>1.0</td>\n",
              "      <td>423</td>\n",
              "    </tr>\n",
              "  </tbody>\n",
              "</table>\n",
              "</div>"
            ],
            "text/plain": [
              "      label                                           sentence  trigger  \\\n",
              "0   neutral                                               Hey.      0.0   \n",
              "1       joy                                               Hey!      0.0   \n",
              "2   neutral                                   So how was Joan?      0.0   \n",
              "3   neutral                               I broke up with her.      0.0   \n",
              "4  surprise   Don't tell me, because of the big nostril thing?      0.0   \n",
              "5   disgust  They were huge. When she sneezed, bats flew ou...      0.0   \n",
              "6   neutral                  Come on, they were not that huge.      0.0   \n",
              "7   disgust  I'm tellin' you, she leaned back; I could see ...      1.0   \n",
              "8  surprise  How many perfectly fine women are you gonna re...      0.0   \n",
              "9  surprise  And y'know what, I just realised, in the last ...      1.0   \n",
              "\n",
              "  dialogue  \n",
              "0     3994  \n",
              "1     3994  \n",
              "2     3994  \n",
              "3     3994  \n",
              "4     3994  \n",
              "5     3994  \n",
              "6     3994  \n",
              "7     3994  \n",
              "8     3994  \n",
              "9      423  "
            ]
          },
          "execution_count": 29,
          "metadata": {},
          "output_type": "execute_result"
        }
      ],
      "source": [
        "bert_train.head(10) # show first 10 samples of the train set"
      ]
    },
    {
      "cell_type": "markdown",
      "metadata": {},
      "source": [
        "We create dictionaries to map the one-hot encoded labels to the original labels and vice versa.\n",
        "\n",
        "We also keep track of an integer index for the emotions."
      ]
    },
    {
      "cell_type": "code",
      "execution_count": 45,
      "metadata": {},
      "outputs": [],
      "source": [
        "# one hot encode the emotions\n",
        "emotions_one_hot_dict = {\n",
        "    \"neutral\": [1, 0, 0, 0, 0, 0, 0],\n",
        "    \"joy\": [0, 1, 0, 0, 0, 0, 0],\n",
        "    \"surprise\": [0, 0, 1, 0, 0, 0, 0],\n",
        "    \"sadness\": [0, 0, 0, 1, 0, 0, 0],\n",
        "    \"anger\": [0, 0, 0, 0, 1, 0, 0],\n",
        "    \"disgust\": [0, 0, 0, 0, 0, 1, 0],\n",
        "    \"fear\": [0, 0, 0, 0, 0, 0, 1]\n",
        "}"
      ]
    },
    {
      "cell_type": "code",
      "execution_count": 46,
      "metadata": {},
      "outputs": [],
      "source": [
        "# one hot encode the triggers\n",
        "triggers_one_hot_dict = {\n",
        "    0: [1, 0],\n",
        "    1: [0, 1]\n",
        "}"
      ]
    },
    {
      "cell_type": "code",
      "execution_count": 47,
      "metadata": {},
      "outputs": [],
      "source": [
        "emotion_to_index = {\n",
        "    \"neutral\": 0,\n",
        "    \"joy\": 1,\n",
        "    \"surprise\": 2,\n",
        "    \"sadness\": 3,\n",
        "    \"anger\": 4,\n",
        "    \"disgust\": 5,\n",
        "    \"fear\": 6\n",
        "}"
      ]
    },
    {
      "cell_type": "markdown",
      "metadata": {},
      "source": [
        "Now that every utterance is split into sentences, we can proceed by visualizing the distribution of the number of words per sentence."
      ]
    },
    {
      "cell_type": "code",
      "execution_count": 50,
      "metadata": {},
      "outputs": [
        {
          "name": "stdout",
          "output_type": "stream",
          "text": [
            "Max sentence length: 327\n"
          ]
        },
        {
          "data": {
            "image/png": "[encoded data removed]",
            "text/plain": [
              "<Figure size 2000x1000 with 1 Axes>"
            ]
          },
          "metadata": {},
          "output_type": "display_data"
        }
      ],
      "source": [
        "# plot sentence word length distribution\n",
        "sentence_length = []\n",
        "for index, row in bert_train.iterrows():\n",
        "    sentence_length.append(len(row[\"sentence\"]))\n",
        "print(f\"Max sentence length: {max(sentence_length)}\")\n",
        "\n",
        "plt.figure(figsize=(20,10))\n",
        "plt.hist(sentence_length, bins=100, color=set_color(1))\n",
        "plt.title(\"Sentence word length distribution\")\n",
        "plt.xlabel(\"Number of words\")\n",
        "plt.ylabel(\"Number of occurences\")\n",
        "plt.show()"
      ]
    },
    {
      "cell_type": "markdown",
      "metadata": {},
      "source": [
        "As we can see from the plot, the majority of the sentences have a length of 10, wuth a few outliers. This is useful as it helps us decide the maximum length of the padding for the sentences."
      ]
    },
    {
      "cell_type": "markdown",
      "metadata": {},
      "source": [
        "As we use a BeRT uncased model its tokenizer will do all the preprocessing for us, so we do not need to do any preprocessing on the sentences. We need to only define hyperparameters such as the maximum length of the sentences and the batch size."
      ]
    },
    {
      "cell_type": "code",
      "execution_count": 51,
      "metadata": {},
      "outputs": [],
      "source": [
        "#MODEL_NAME = 'bert-base-uncased'\n",
        "MODEL_NAME = \"prajjwal1/bert-tiny\"\n",
        "\n",
        "MAX_LEN = 360 # To be safe even though the max length is 327\n",
        "BATCH_SIZE = 1 # can be increased if memory allows it\n",
        "EPOCHS = 5\n",
        "LEARNING_RATE = 2e-05\n",
        "OUT_CHANNELS = 768 if \"base\" in  MODEL_NAME else 128 #128 if \"tiny\" 1024 if \"base\"\n",
        "\n",
        "tokenizer = AutoTokenizer.from_pretrained(MODEL_NAME)"
      ]
    },
    {
      "cell_type": "markdown",
      "metadata": {},
      "source": [
        "BeRT models need custom datasets and dataloaders, so we define them as follows:"
      ]
    },
    {
      "cell_type": "markdown",
      "metadata": {},
      "source": [
        "For the dataset we tokenize the sentences and pad them to the maximum length while also passing the target emotion and trigger label one-hot encoded.\n",
        "\n",
        "Dialogue index is also returned as it is needed for the evaluation phase."
      ]
    },
    {
      "cell_type": "code",
      "execution_count": 52,
      "metadata": {},
      "outputs": [],
      "source": [
        "class CustomDataset(Dataset):\n",
        "\n",
        "    def __init__(self, data, tokenizer, max_len, test_flag = False):\n",
        "        self.tokenizer = tokenizer\n",
        "        self.data = data\n",
        "        self.text = data.sentence\n",
        "        self.emotions = data.label\n",
        "        self.max_len = max_len\n",
        "        self.test_flag = test_flag\n",
        "        self.triggers = data.trigger\n",
        "        self.dialogue = data.dialogue\n",
        "\n",
        "    def __len__(self):\n",
        "        return len(self.text)\n",
        "\n",
        "    def __getitem__(self, index):\n",
        "        row = self.data.iloc[index]\n",
        "        #speakers = row[\"speakers\"]\n",
        "        text = row[\"sentence\"]\n",
        "        emotions = row[\"label\"]\n",
        "        trigger = row[\"trigger\"]\n",
        "        dialogue = row[\"dialogue\"]\n",
        "        target_emotion = emotions_one_hot_dict[emotions] #+ [triggers[-1]] # trigger is float while emotions are one hot encoded but as integers IN CASE OF ERROR CHECK THIS\n",
        "        target_trigger = triggers_one_hot_dict[trigger]\n",
        "\n",
        "\n",
        "        inputs = self.tokenizer.encode_plus(\n",
        "            text,\n",
        "            add_special_tokens=True,\n",
        "            max_length=self.max_len,\n",
        "            padding='max_length',\n",
        "            truncation=True,\n",
        "        )\n",
        "\n",
        "        ids = inputs['input_ids']\n",
        "        mask = inputs['attention_mask']\n",
        "        token_type_ids = inputs[\"token_type_ids\"]\n",
        "\n",
        "        return {\n",
        "            'input_ids': torch.tensor(ids, dtype=torch.long),\n",
        "            'attention_mask': torch.tensor(mask, dtype=torch.long),\n",
        "            'token_type_ids': torch.tensor(token_type_ids, dtype=torch.long),\n",
        "            'label': torch.tensor(target_emotion, dtype=torch.float),\n",
        "            'trigger': torch.tensor(target_trigger, dtype=torch.float),\n",
        "            'dialogue': dialogue\n",
        "        }"
      ]
    },
    {
      "cell_type": "markdown",
      "metadata": {},
      "source": [
        "For the dataloader we simply use the default one."
      ]
    },
    {
      "cell_type": "code",
      "execution_count": 53,
      "metadata": {},
      "outputs": [],
      "source": [
        "train_dataset = CustomDataset(bert_train, tokenizer, MAX_LEN)\n",
        "val_dataset = CustomDataset(bert_val, tokenizer, MAX_LEN, test_flag=True)\n",
        "test_dataset = CustomDataset(bert_test, tokenizer, MAX_LEN, test_flag=True)\n",
        "\n",
        "# Definiition of the Dataloader that will feed the data in batches to the neural network for suitable training and processing.\n",
        "training_loader = DataLoader(train_dataset, batch_size=BATCH_SIZE)\n",
        "val_loader = DataLoader(val_dataset, batch_size=BATCH_SIZE)\n",
        "test_loader = DataLoader(test_dataset, batch_size=BATCH_SIZE)"
      ]
    },
    {
      "cell_type": "markdown",
      "metadata": {},
      "source": [
        "Example of a tokenized and padded sentence:"
      ]
    },
    {
      "cell_type": "code",
      "execution_count": 54,
      "metadata": {},
      "outputs": [
        {
          "data": {
            "text/plain": [
              "{'input_ids': tensor([ 101, 4931, 1012,  102,    0,    0,    0,    0,    0,    0,    0,    0,\n",
              "            0,    0,    0,    0,    0,    0,    0,    0,    0,    0,    0,    0,\n",
              "            0,    0,    0,    0,    0,    0,    0,    0,    0,    0,    0,    0,\n",
              "            0,    0,    0,    0,    0,    0,    0,    0,    0,    0,    0,    0,\n",
              "            0,    0,    0,    0,    0,    0,    0,    0,    0,    0,    0,    0,\n",
              "            0,    0,    0,    0,    0,    0,    0,    0,    0,    0,    0,    0,\n",
              "            0,    0,    0,    0,    0,    0,    0,    0,    0,    0,    0,    0,\n",
              "            0,    0,    0,    0,    0,    0,    0,    0,    0,    0,    0,    0,\n",
              "            0,    0,    0,    0,    0,    0,    0,    0,    0,    0,    0,    0,\n",
              "            0,    0,    0,    0,    0,    0,    0,    0,    0,    0,    0,    0,\n",
              "            0,    0,    0,    0,    0,    0,    0,    0,    0,    0,    0,    0,\n",
              "            0,    0,    0,    0,    0,    0,    0,    0,    0,    0,    0,    0,\n",
              "            0,    0,    0,    0,    0,    0,    0,    0,    0,    0,    0,    0,\n",
              "            0,    0,    0,    0,    0,    0,    0,    0,    0,    0,    0,    0,\n",
              "            0,    0,    0,    0,    0,    0,    0,    0,    0,    0,    0,    0,\n",
              "            0,    0,    0,    0,    0,    0,    0,    0,    0,    0,    0,    0,\n",
              "            0,    0,    0,    0,    0,    0,    0,    0,    0,    0,    0,    0,\n",
              "            0,    0,    0,    0,    0,    0,    0,    0,    0,    0,    0,    0,\n",
              "            0,    0,    0,    0,    0,    0,    0,    0,    0,    0,    0,    0,\n",
              "            0,    0,    0,    0,    0,    0,    0,    0,    0,    0,    0,    0,\n",
              "            0,    0,    0,    0,    0,    0,    0,    0,    0,    0,    0,    0,\n",
              "            0,    0,    0,    0,    0,    0,    0,    0,    0,    0,    0,    0,\n",
              "            0,    0,    0,    0,    0,    0,    0,    0,    0,    0,    0,    0,\n",
              "            0,    0,    0,    0,    0,    0,    0,    0,    0,    0,    0,    0,\n",
              "            0,    0,    0,    0,    0,    0,    0,    0,    0,    0,    0,    0,\n",
              "            0,    0,    0,    0,    0,    0,    0,    0,    0,    0,    0,    0,\n",
              "            0,    0,    0,    0,    0,    0,    0,    0,    0,    0,    0,    0,\n",
              "            0,    0,    0,    0,    0,    0,    0,    0,    0,    0,    0,    0,\n",
              "            0,    0,    0,    0,    0,    0,    0,    0,    0,    0,    0,    0,\n",
              "            0,    0,    0,    0,    0,    0,    0,    0,    0,    0,    0,    0]),\n",
              " 'attention_mask': tensor([1, 1, 1, 1, 0, 0, 0, 0, 0, 0, 0, 0, 0, 0, 0, 0, 0, 0, 0, 0, 0, 0, 0, 0,\n",
              "         0, 0, 0, 0, 0, 0, 0, 0, 0, 0, 0, 0, 0, 0, 0, 0, 0, 0, 0, 0, 0, 0, 0, 0,\n",
              "         0, 0, 0, 0, 0, 0, 0, 0, 0, 0, 0, 0, 0, 0, 0, 0, 0, 0, 0, 0, 0, 0, 0, 0,\n",
              "         0, 0, 0, 0, 0, 0, 0, 0, 0, 0, 0, 0, 0, 0, 0, 0, 0, 0, 0, 0, 0, 0, 0, 0,\n",
              "         0, 0, 0, 0, 0, 0, 0, 0, 0, 0, 0, 0, 0, 0, 0, 0, 0, 0, 0, 0, 0, 0, 0, 0,\n",
              "         0, 0, 0, 0, 0, 0, 0, 0, 0, 0, 0, 0, 0, 0, 0, 0, 0, 0, 0, 0, 0, 0, 0, 0,\n",
              "         0, 0, 0, 0, 0, 0, 0, 0, 0, 0, 0, 0, 0, 0, 0, 0, 0, 0, 0, 0, 0, 0, 0, 0,\n",
              "         0, 0, 0, 0, 0, 0, 0, 0, 0, 0, 0, 0, 0, 0, 0, 0, 0, 0, 0, 0, 0, 0, 0, 0,\n",
              "         0, 0, 0, 0, 0, 0, 0, 0, 0, 0, 0, 0, 0, 0, 0, 0, 0, 0, 0, 0, 0, 0, 0, 0,\n",
              "         0, 0, 0, 0, 0, 0, 0, 0, 0, 0, 0, 0, 0, 0, 0, 0, 0, 0, 0, 0, 0, 0, 0, 0,\n",
              "         0, 0, 0, 0, 0, 0, 0, 0, 0, 0, 0, 0, 0, 0, 0, 0, 0, 0, 0, 0, 0, 0, 0, 0,\n",
              "         0, 0, 0, 0, 0, 0, 0, 0, 0, 0, 0, 0, 0, 0, 0, 0, 0, 0, 0, 0, 0, 0, 0, 0,\n",
              "         0, 0, 0, 0, 0, 0, 0, 0, 0, 0, 0, 0, 0, 0, 0, 0, 0, 0, 0, 0, 0, 0, 0, 0,\n",
              "         0, 0, 0, 0, 0, 0, 0, 0, 0, 0, 0, 0, 0, 0, 0, 0, 0, 0, 0, 0, 0, 0, 0, 0,\n",
              "         0, 0, 0, 0, 0, 0, 0, 0, 0, 0, 0, 0, 0, 0, 0, 0, 0, 0, 0, 0, 0, 0, 0, 0]),\n",
              " 'token_type_ids': tensor([0, 0, 0, 0, 0, 0, 0, 0, 0, 0, 0, 0, 0, 0, 0, 0, 0, 0, 0, 0, 0, 0, 0, 0,\n",
              "         0, 0, 0, 0, 0, 0, 0, 0, 0, 0, 0, 0, 0, 0, 0, 0, 0, 0, 0, 0, 0, 0, 0, 0,\n",
              "         0, 0, 0, 0, 0, 0, 0, 0, 0, 0, 0, 0, 0, 0, 0, 0, 0, 0, 0, 0, 0, 0, 0, 0,\n",
              "         0, 0, 0, 0, 0, 0, 0, 0, 0, 0, 0, 0, 0, 0, 0, 0, 0, 0, 0, 0, 0, 0, 0, 0,\n",
              "         0, 0, 0, 0, 0, 0, 0, 0, 0, 0, 0, 0, 0, 0, 0, 0, 0, 0, 0, 0, 0, 0, 0, 0,\n",
              "         0, 0, 0, 0, 0, 0, 0, 0, 0, 0, 0, 0, 0, 0, 0, 0, 0, 0, 0, 0, 0, 0, 0, 0,\n",
              "         0, 0, 0, 0, 0, 0, 0, 0, 0, 0, 0, 0, 0, 0, 0, 0, 0, 0, 0, 0, 0, 0, 0, 0,\n",
              "         0, 0, 0, 0, 0, 0, 0, 0, 0, 0, 0, 0, 0, 0, 0, 0, 0, 0, 0, 0, 0, 0, 0, 0,\n",
              "         0, 0, 0, 0, 0, 0, 0, 0, 0, 0, 0, 0, 0, 0, 0, 0, 0, 0, 0, 0, 0, 0, 0, 0,\n",
              "         0, 0, 0, 0, 0, 0, 0, 0, 0, 0, 0, 0, 0, 0, 0, 0, 0, 0, 0, 0, 0, 0, 0, 0,\n",
              "         0, 0, 0, 0, 0, 0, 0, 0, 0, 0, 0, 0, 0, 0, 0, 0, 0, 0, 0, 0, 0, 0, 0, 0,\n",
              "         0, 0, 0, 0, 0, 0, 0, 0, 0, 0, 0, 0, 0, 0, 0, 0, 0, 0, 0, 0, 0, 0, 0, 0,\n",
              "         0, 0, 0, 0, 0, 0, 0, 0, 0, 0, 0, 0, 0, 0, 0, 0, 0, 0, 0, 0, 0, 0, 0, 0,\n",
              "         0, 0, 0, 0, 0, 0, 0, 0, 0, 0, 0, 0, 0, 0, 0, 0, 0, 0, 0, 0, 0, 0, 0, 0,\n",
              "         0, 0, 0, 0, 0, 0, 0, 0, 0, 0, 0, 0, 0, 0, 0, 0, 0, 0, 0, 0, 0, 0, 0, 0]),\n",
              " 'label': tensor([1., 0., 0., 0., 0., 0., 0.]),\n",
              " 'trigger': tensor([1., 0.]),\n",
              " 'dialogue': 3994}"
            ]
          },
          "execution_count": 54,
          "metadata": {},
          "output_type": "execute_result"
        }
      ],
      "source": [
        "train_dataset[0]"
      ]
    },
    {
      "cell_type": "markdown",
      "metadata": {},
      "source": [
        "## Model definitions:\n",
        "\n",
        "\n",
        "As we present two different macro type of models, we will define the models in two different ways. For the baseline models we simply use dummy classifiers with random uniform and majority strategies. For the BeRT models we use the BeRT architecture with an additional multihead classifier layers."
      ]
    },
    {
      "cell_type": "markdown",
      "metadata": {
        "id": "3ishbbG6-mxv"
      },
      "source": [
        "Defining the dummy classifier for emotions and triggers:"
      ]
    },
    {
      "cell_type": "code",
      "execution_count": 55,
      "metadata": {
        "id": "r_GP91pL-mxv"
      },
      "outputs": [],
      "source": [
        "dummy_clf_majority_emotions = DummyClassifier(strategy=\"most_frequent\")\n",
        "dummy_clf_random_emotions = DummyClassifier(strategy=\"uniform\")\n",
        "\n",
        "dummy_clf_majority_triggers = DummyClassifier(strategy=\"most_frequent\")\n",
        "dummy_clf_random_triggers = DummyClassifier(strategy=\"uniform\")"
      ]
    },
    {
      "cell_type": "markdown",
      "metadata": {},
      "source": [
        "Defining the BeRT model for emotions and triggers:\n",
        "\n",
        "The model is simply composed by BeRT, which functions as an encoder, and a multihead classifier. We decided on multihead classifier as it is a simple and effective way to classify the emotions and triggers separately, as the two tasks are related but not the same. (Previous trials with a single classifier for both tasks did not yield good results)\n",
        "\n",
        "The two classifiers are composed by a dropout layer, to avoid overfitting, and a linear layer in order to classify the emotions and triggers."
      ]
    },
    {
      "cell_type": "code",
      "execution_count": 56,
      "metadata": {},
      "outputs": [],
      "source": [
        "class BERTClass(torch.nn.Module):\n",
        "    def __init__(self,model):\n",
        "        super(BERTClass, self).__init__()\n",
        "        self.l1 = transformers.AutoModel.from_pretrained(model, return_dict=False)\n",
        "        # Emotions\n",
        "        self.l2 = torch.nn.Dropout(p=0.3)\n",
        "        self.l3 = torch.nn.Linear(OUT_CHANNELS, 7)\n",
        "        # Triggers\n",
        "        self.l4 = torch.nn.Dropout(p=0.3)\n",
        "        self.l5 = torch.nn.Linear(OUT_CHANNELS, 2)\n",
        "\n",
        "    def forward(self, ids, mask, token_type_ids):\n",
        "        _, output_1= self.l1(ids, attention_mask = mask, token_type_ids = token_type_ids)\n",
        "        output_emotions = self.l2(output_1)\n",
        "        output_emotions = self.l3(output_emotions)\n",
        "        output_trigger = self.l4(output_1)\n",
        "        output_trigger = self.l5(output_trigger)\n",
        "        return output_emotions, output_trigger"
      ]
    },
    {
      "cell_type": "markdown",
      "metadata": {},
      "source": [
        "In order to use the \"Frozen\" model we simply freeze the BeRT encoder and train only the multihead classifier."
      ]
    },
    {
      "cell_type": "code",
      "execution_count": 57,
      "metadata": {},
      "outputs": [
        {
          "data": {
            "text/plain": [
              "BERTClass(\n",
              "  (l1): BertModel(\n",
              "    (embeddings): BertEmbeddings(\n",
              "      (word_embeddings): Embedding(30522, 128, padding_idx=0)\n",
              "      (position_embeddings): Embedding(512, 128)\n",
              "      (token_type_embeddings): Embedding(2, 128)\n",
              "      (LayerNorm): LayerNorm((128,), eps=1e-12, elementwise_affine=True)\n",
              "      (dropout): Dropout(p=0.1, inplace=False)\n",
              "    )\n",
              "    (encoder): BertEncoder(\n",
              "      (layer): ModuleList(\n",
              "        (0-1): 2 x BertLayer(\n",
              "          (attention): BertAttention(\n",
              "            (self): BertSelfAttention(\n",
              "              (query): Linear(in_features=128, out_features=128, bias=True)\n",
              "              (key): Linear(in_features=128, out_features=128, bias=True)\n",
              "              (value): Linear(in_features=128, out_features=128, bias=True)\n",
              "              (dropout): Dropout(p=0.1, inplace=False)\n",
              "            )\n",
              "            (output): BertSelfOutput(\n",
              "              (dense): Linear(in_features=128, out_features=128, bias=True)\n",
              "              (LayerNorm): LayerNorm((128,), eps=1e-12, elementwise_affine=True)\n",
              "              (dropout): Dropout(p=0.1, inplace=False)\n",
              "            )\n",
              "          )\n",
              "          (intermediate): BertIntermediate(\n",
              "            (dense): Linear(in_features=128, out_features=512, bias=True)\n",
              "            (intermediate_act_fn): GELUActivation()\n",
              "          )\n",
              "          (output): BertOutput(\n",
              "            (dense): Linear(in_features=512, out_features=128, bias=True)\n",
              "            (LayerNorm): LayerNorm((128,), eps=1e-12, elementwise_affine=True)\n",
              "            (dropout): Dropout(p=0.1, inplace=False)\n",
              "          )\n",
              "        )\n",
              "      )\n",
              "    )\n",
              "    (pooler): BertPooler(\n",
              "      (dense): Linear(in_features=128, out_features=128, bias=True)\n",
              "      (activation): Tanh()\n",
              "    )\n",
              "  )\n",
              "  (l2): Dropout(p=0.3, inplace=False)\n",
              "  (l3): Linear(in_features=128, out_features=7, bias=True)\n",
              "  (l4): Dropout(p=0.3, inplace=False)\n",
              "  (l5): Linear(in_features=128, out_features=2, bias=True)\n",
              ")"
            ]
          },
          "execution_count": 57,
          "metadata": {},
          "output_type": "execute_result"
        }
      ],
      "source": [
        "model = BERTClass(MODEL_NAME)\n",
        "\n",
        "# FROZEN BERT\n",
        "'''\n",
        "for name, param in model.named_parameters():\n",
        "     if name.startswith(\"l1\"): # choose whatever you like here\n",
        "        param.requires_grad = False\n",
        "'''\n",
        "\n",
        "model.to(device)"
      ]
    },
    {
      "cell_type": "markdown",
      "metadata": {},
      "source": [
        "## Evaluation metrics:\n",
        "\n",
        "Here we define the evaluation metrics used for the models."
      ]
    },
    {
      "cell_type": "markdown",
      "metadata": {},
      "source": [
        "### Baseline models:"
      ]
    },
    {
      "cell_type": "markdown",
      "metadata": {
        "id": "lJsm3qId-mxv"
      },
      "source": [
        "Evaluation function that returns the classification report:"
      ]
    },
    {
      "cell_type": "code",
      "execution_count": 59,
      "metadata": {
        "id": "835ywCQu-mxv"
      },
      "outputs": [],
      "source": [
        "def evaluate(Y_test, Y_pred):\n",
        "    report = classification_report(Y_test, Y_pred, zero_division=0)\n",
        "    return report"
      ]
    },
    {
      "cell_type": "markdown",
      "metadata": {},
      "source": [
        "### BeRT models:"
      ]
    },
    {
      "cell_type": "markdown",
      "metadata": {},
      "source": [
        "In order to evaluate the BeRT models we use the same metrics as the baseline models, mainly focusing on the weighted average F1 score.\n",
        "\n",
        "One difference is that we also try to rebalance the classes by using the class weights in the loss function. This is done in order to see if the models can learn better from the data and thus improve the results."
      ]
    },
    {
      "cell_type": "markdown",
      "metadata": {},
      "source": [
        "We do this for both the emotions and the triggers."
      ]
    },
    {
      "cell_type": "code",
      "execution_count": 60,
      "metadata": {},
      "outputs": [
        {
          "name": "stdout",
          "output_type": "stream",
          "text": [
            "Class weights: [1.23830338 4.67722372 4.46151374 0.7954845  0.32871587 1.88153971\n",
            " 1.08250156]\n"
          ]
        }
      ],
      "source": [
        "#compute class weights based on distribution of classes in training set\n",
        "\n",
        "y_train = []\n",
        "for index, row in df_train.iterrows():\n",
        "    for i in range(len(row[\"utterances\"])):\n",
        "        y_train.append(row[\"emotions\"][i])\n",
        "class_weights_emotions = class_weight.compute_class_weight(class_weight='balanced', classes=np.unique(y_train), y=y_train)\n",
        "print(f\"Class weights: {class_weights_emotions}\")\n",
        "class_weights_emotions = torch.tensor(class_weights_emotions, dtype=torch.float)"
      ]
    },
    {
      "cell_type": "code",
      "execution_count": 61,
      "metadata": {},
      "outputs": [
        {
          "name": "stdout",
          "output_type": "stream",
          "text": [
            "Class weights: [0.59643394 3.09244821]\n"
          ]
        }
      ],
      "source": [
        "y_train = []\n",
        "for index, row in df_train.iterrows():\n",
        "    for i in range(len(row[\"utterances\"])):\n",
        "        y_train.append(row[\"triggers\"][i])\n",
        "class_weights_triggers = class_weight.compute_class_weight(class_weight='balanced', classes=np.unique(y_train), y=y_train)\n",
        "print(f\"Class weights: {class_weights_triggers}\")\n",
        "class_weights_triggers = torch.tensor(class_weights_triggers, dtype=torch.float)"
      ]
    },
    {
      "cell_type": "markdown",
      "metadata": {},
      "source": [
        "Here is the custom loss function:"
      ]
    },
    {
      "cell_type": "markdown",
      "metadata": {},
      "source": [
        "As we use a multihead classifier, we need to define the loss function for both the emotions and the triggers. \n",
        "\n",
        "Emotions loss function: cross entropy loss with class weights.\n",
        "Triggers loss function: binary cross entropy loss with class weights.\n",
        "\n",
        "The overall loss is the sum of the two losses."
      ]
    },
    {
      "cell_type": "code",
      "execution_count": 62,
      "metadata": {},
      "outputs": [],
      "source": [
        "def compute_loss(output_emotion, output_trigger, targets_emotion, targets_trigger):\n",
        "    label_emotion = targets_emotion\n",
        "    label_trigger = targets_trigger\n",
        "    # compute custom loss \n",
        "    loss_fct_emo = torch.nn.CrossEntropyLoss(weight=torch.tensor(class_weights_emotions).to(device))\n",
        "    loss = loss_fct_emo(output_emotion, label_emotion)\n",
        "    loss_fct_targ = torch.nn.BCEWithLogitsLoss(weight=torch.tensor(class_weights_triggers).to(device))\n",
        "    loss += loss_fct_targ(output_trigger, label_trigger)\n",
        "    return loss"
      ]
    },
    {
      "cell_type": "markdown",
      "metadata": {},
      "source": [
        "We also define the inference function for the BeRT models:\n",
        "\n",
        "For the emotions we use the argmax function to get the most probable emotion from the output of the model. For the triggers we use a sigmoid function to get the most probable trigger from the output of the model."
      ]
    },
    {
      "cell_type": "code",
      "execution_count": 63,
      "metadata": {},
      "outputs": [],
      "source": [
        "def inference(model, test_load):\n",
        "    model.eval()\n",
        "    fin_targets_emotion = []\n",
        "    fin_outputs_emotion = []\n",
        "    fin_targets_trigger = []\n",
        "    fin_outputs_trigger = []\n",
        "\n",
        "    dialogue_lengths = []\n",
        "\n",
        "    current_dialogue = test_load.dataset.data.iloc[0][\"dialogue\"]\n",
        "    length_current_dialogue = 0\n",
        "\n",
        "    with torch.no_grad():\n",
        "        for batch, data in enumerate(test_load, 0):\n",
        "            ids = data['input_ids'].to(device, dtype = torch.long)\n",
        "            mask = data['attention_mask'].to(device, dtype = torch.long)\n",
        "            token_type_ids = data['token_type_ids'].to(device, dtype = torch.long)\n",
        "            target_emotion = data['label'].to(device, dtype = torch.float)\n",
        "            target_trigger = data['trigger'].to(device, dtype = torch.float)\n",
        "            dialogue = data['dialogue']\n",
        "            output_emotion, output_trigger = model(ids, mask, token_type_ids)\n",
        "            \n",
        "            if dialogue == current_dialogue:\n",
        "                length_current_dialogue += 1\n",
        "            else:\n",
        "                dialogue_lengths.append(length_current_dialogue)\n",
        "                length_current_dialogue = 1\n",
        "                current_dialogue = dialogue\n",
        "\n",
        "            fin_targets_emotion.extend(torch.argmax(target_emotion, axis=1).cpu().detach().numpy().tolist())\n",
        "            fin_outputs_emotion.extend(torch.argmax(output_emotion, axis=1).cpu().detach().numpy().tolist())\n",
        "            fin_targets_trigger.extend(target_trigger.cpu().detach().numpy().tolist())\n",
        "            fin_outputs_trigger.extend(torch.sigmoid(output_trigger).cpu().detach().numpy().tolist())\n",
        "        \n",
        "    return fin_outputs_emotion, fin_targets_emotion, fin_outputs_trigger, fin_targets_trigger, dialogue_lengths"
      ]
    },
    {
      "cell_type": "markdown",
      "metadata": {},
      "source": [
        "The threshold function is used to get the most probable trigger from the output of the model. If the output is greater than the threshold, then the trigger is 1, otherwise it is 0."
      ]
    },
    {
      "cell_type": "code",
      "execution_count": 64,
      "metadata": {},
      "outputs": [],
      "source": [
        "def get_threshold(targets, outputs):\n",
        "    results = {}\n",
        "    for tr in np.arange(0.1, 0.9, 0.1):\n",
        "        tr = round(tr, 2)\n",
        "        predictions= np.array(outputs) >= tr\n",
        "        results[tr] = f1_score(targets, predictions, average='macro')\n",
        "    return max(results, key=results.get)"
      ]
    },
    {
      "cell_type": "markdown",
      "metadata": {},
      "source": [
        "The RMSE function is used to calculate the root mean squared error between the predicted and the true trigger in order to find the standard deviation of the predictions."
      ]
    },
    {
      "cell_type": "code",
      "execution_count": 65,
      "metadata": {},
      "outputs": [],
      "source": [
        "from sklearn.metrics import mean_squared_error\n",
        "\n",
        "def get_rmse(targets, outputs):\n",
        "    return mean_squared_error(targets, outputs, squared=False)"
      ]
    },
    {
      "cell_type": "markdown",
      "metadata": {},
      "source": [
        "## Training and evaluation:"
      ]
    },
    {
      "cell_type": "markdown",
      "metadata": {
        "id": "CvYhjUQE-mxv"
      },
      "source": [
        "Training and evaluation of the baseline classifiers fitted on the training set:"
      ]
    },
    {
      "cell_type": "code",
      "execution_count": 66,
      "metadata": {
        "colab": {
          "base_uri": "https://localhost:8080/"
        },
        "id": "24CrukE2-mxv",
        "outputId": "b5aa1272-5a20-46e9-8c11-f3cbbd1be9a9"
      },
      "outputs": [
        {
          "name": "stdout",
          "output_type": "stream",
          "text": [
            "Majority classifier for emotions: \n",
            "\n",
            "              precision    recall  f1-score   support\n",
            "\n",
            "       anger       0.00      0.00      0.00       369\n",
            "     disgust       0.00      0.00      0.00       101\n",
            "        fear       0.00      0.00      0.00       109\n",
            "         joy       0.00      0.00      0.00       663\n",
            "     neutral       0.44      1.00      0.61      1572\n",
            "     sadness       0.00      0.00      0.00       258\n",
            "    surprise       0.00      0.00      0.00       486\n",
            "\n",
            "    accuracy                           0.44      3558\n",
            "   macro avg       0.06      0.14      0.09      3558\n",
            "weighted avg       0.20      0.44      0.27      3558\n",
            "\n",
            "-------------------------------------------------------\n",
            "Random classifier for emotions: \n",
            "\n",
            "              precision    recall  f1-score   support\n",
            "\n",
            "       anger       0.09      0.13      0.11       369\n",
            "     disgust       0.02      0.11      0.04       101\n",
            "        fear       0.03      0.11      0.04       109\n",
            "         joy       0.19      0.15      0.17       663\n",
            "     neutral       0.43      0.15      0.22      1572\n",
            "     sadness       0.07      0.14      0.09       258\n",
            "    surprise       0.12      0.13      0.12       486\n",
            "\n",
            "    accuracy                           0.14      3558\n",
            "   macro avg       0.14      0.13      0.11      3558\n",
            "weighted avg       0.26      0.14      0.16      3558\n",
            "\n",
            "-------------------------------------------------------\n",
            "Majority classifier for triggers: \n",
            "\n",
            "              precision    recall  f1-score   support\n",
            "\n",
            "         0.0       0.85      1.00      0.92      3027\n",
            "         1.0       0.00      0.00      0.00       531\n",
            "\n",
            "    accuracy                           0.85      3558\n",
            "   macro avg       0.43      0.50      0.46      3558\n",
            "weighted avg       0.72      0.85      0.78      3558\n",
            "\n",
            "-------------------------------------------------------\n",
            "Random classifier for triggers: \n",
            "\n",
            "              precision    recall  f1-score   support\n",
            "\n",
            "         0.0       0.85      0.51      0.64      3027\n",
            "         1.0       0.15      0.50      0.23       531\n",
            "\n",
            "    accuracy                           0.51      3558\n",
            "   macro avg       0.50      0.51      0.44      3558\n",
            "weighted avg       0.75      0.51      0.58      3558\n",
            "\n"
          ]
        }
      ],
      "source": [
        "# Emotions baseline\n",
        "dummy_clf_majority_emotions.fit(x_train_base, y_train_emotions)\n",
        "dummy_clf_random_emotions.fit(x_train_base, y_train_emotions)\n",
        "\n",
        "y_pred_majority_emotions = dummy_clf_majority_emotions.predict(x_test_base)\n",
        "y_pred_random_emotions = dummy_clf_random_emotions.predict(x_test_base)\n",
        "print(\"Majority classifier for emotions: \\n\")\n",
        "print(evaluate(y_test_emotions, y_pred_majority_emotions))\n",
        "print(\"-------------------------------------------------------\")\n",
        "print(\"Random classifier for emotions: \\n\")\n",
        "print(evaluate(y_test_emotions, y_pred_random_emotions))\n",
        "print(\"-------------------------------------------------------\")\n",
        "\n",
        "# Triggers baseline\n",
        "dummy_clf_majority_triggers.fit(x_train_base, y_train_triggers)\n",
        "dummy_clf_random_triggers.fit(x_train_base, y_train_triggers)\n",
        "\n",
        "y_pred_majority_triggers = dummy_clf_majority_triggers.predict(x_test_base)\n",
        "y_pred_random_triggers = dummy_clf_random_triggers.predict(x_test_base)\n",
        "print(\"Majority classifier for triggers: \\n\")\n",
        "print(evaluate(y_test_triggers, y_pred_majority_triggers))\n",
        "print(\"-------------------------------------------------------\")\n",
        "print(\"Random classifier for triggers: \\n\")\n",
        "print(evaluate(y_test_triggers, y_pred_random_triggers))"
      ]
    },
    {
      "cell_type": "markdown",
      "metadata": {},
      "source": [
        "As we can see from the results, the random uniform strategy performs poorly on both the emotions and the triggers, while the majority strategy performs better on the emotions and on the triggers.\n",
        "\n",
        "We strongly believe that the majority strategy performs better on the triggers because the data is imbalanced, with the 0 class being the most represented and the 1 class being the least represented. This could lead to problems during the training phase, as the model could be biased towards the 0 class. Same thing for the emotions."
      ]
    },
    {
      "cell_type": "markdown",
      "metadata": {
        "id": "eJ2aj1El-mxw"
      },
      "source": [
        "### BeRT model:"
      ]
    },
    {
      "cell_type": "markdown",
      "metadata": {},
      "source": [
        "First we define the optimizer and the scheduler for the BeRT model. As an optimizer we use Adam as we prefer it over others. As a scheduler we use a linear scheduler with warmup, as it is the one that gave us the best results."
      ]
    },
    {
      "cell_type": "code",
      "execution_count": 67,
      "metadata": {},
      "outputs": [],
      "source": [
        "optimizer = torch.optim.Adam(params = model.parameters(), lr=LEARNING_RATE)\n",
        "scheduler = get_linear_schedule_with_warmup(optimizer, num_warmup_steps=(0.1*(len(training_loader))*EPOCHS), num_training_steps=len(training_loader)*EPOCHS)"
      ]
    },
    {
      "cell_type": "markdown",
      "metadata": {},
      "source": [
        "The training loop for the BeRT model is defined as follows:\n",
        "\n",
        "We train the model for a number of epochs, in this case 5, and we evaluate it after each epoch. We also save the model with the best results. \n",
        "\n",
        "As we are currently using a batch size of 1 we only present the result every 5000 steps, just for visualization purposes."
      ]
    },
    {
      "cell_type": "code",
      "execution_count": 68,
      "metadata": {},
      "outputs": [],
      "source": [
        "def train():\n",
        "    size = len(training_loader.dataset)\n",
        "    model.train()\n",
        "    for batch,data in enumerate(training_loader, 0):\n",
        "        ids = data['input_ids'].to(device, dtype = torch.long)\n",
        "        mask = data['attention_mask'].to(device, dtype = torch.long)\n",
        "        token_type_ids = data['token_type_ids'].to(device, dtype = torch.long)\n",
        "        target_emotion = data['label'].to(device, dtype = torch.float)\n",
        "        target_trigger = data['trigger'].to(device, dtype = torch.float)\n",
        "        \n",
        "        output_emotion, output_trigger = model(ids, mask, token_type_ids)\n",
        "        loss = compute_loss(output_emotion, output_trigger, target_emotion, target_trigger)\n",
        "\n",
        "        # Backpropagation\n",
        "        optimizer.zero_grad()\n",
        "        loss.backward()\n",
        "        optimizer.step()\n",
        "        scheduler.step()\n",
        "\n",
        "        if batch%5000==0:\n",
        "            current =  batch * len(data['input_ids'])\n",
        "            print(f\"Train loss: {loss.item():>7f}  [{current:>5d}/{size:>5d}]\")"
      ]
    },
    {
      "cell_type": "markdown",
      "metadata": {},
      "source": [
        "Validation is done on the validation set and is similar to the training loop, with the difference that we do not update the weights of the model."
      ]
    },
    {
      "cell_type": "code",
      "execution_count": 69,
      "metadata": {},
      "outputs": [],
      "source": [
        "def validation(epoch, val_loss_min_input):\n",
        "    num_batches = len(val_loader)\n",
        "    model.eval()\n",
        "    val_loss = 0\n",
        "    with torch.no_grad():\n",
        "        for batch, data in enumerate(val_loader, 0):\n",
        "            ids = data['input_ids'].to(device, dtype = torch.long)\n",
        "            mask = data['attention_mask'].to(device, dtype = torch.long)\n",
        "            token_type_ids = data['token_type_ids'].to(device, dtype = torch.long)\n",
        "            target_emotion = data['label'].to(device, dtype = torch.float)\n",
        "            target_trigger = data['trigger'].to(device, dtype = torch.float)\n",
        "\n",
        "            output_emotion, output_target = model(ids, mask, token_type_ids)\n",
        "            val_loss += compute_loss(output_emotion, output_target, target_emotion, target_trigger).item()\n",
        "\n",
        "        val_loss /= num_batches\n",
        "        #outputs, targets = fin_outputs, fin_targets\n",
        "        print(f\"\\nValidation loss: {val_loss:>8f}.\")\n",
        "        ## TODO: save the model if validation loss has decreased\n",
        "        if val_loss <= val_loss_min_input:\n",
        "            #create checkpoint variable and add important data\n",
        "            if epoch > 0:\n",
        "                print('Validation loss decreased ({:.8f} --> {:.8f}).  Saving model ...'.format(val_loss_min_input, val_loss))\n",
        "            else: print('Saving model ...')\n",
        "            # save best moel\n",
        "            torch.save(model.state_dict(), \"model_bert_standard_project.pth\")\n",
        "            print(\"Saved PyTorch Model State to model.pth\\n\")\n",
        "            val_loss_min_input = val_loss\n",
        "\n",
        "    return val_loss_min_input"
      ]
    },
    {
      "cell_type": "markdown",
      "metadata": {},
      "source": [
        "BeRT model training:"
      ]
    },
    {
      "cell_type": "code",
      "execution_count": 70,
      "metadata": {},
      "outputs": [
        {
          "name": "stdout",
          "output_type": "stream",
          "text": [
            "Epoch 1\n",
            "-------------------------------\n"
          ]
        },
        {
          "name": "stderr",
          "output_type": "stream",
          "text": [
            "C:\\Users\\Ciprian\\AppData\\Local\\Temp\\ipykernel_9536\\3149351706.py:5: UserWarning: To copy construct from a tensor, it is recommended to use sourceTensor.clone().detach() or sourceTensor.clone().detach().requires_grad_(True), rather than torch.tensor(sourceTensor).\n",
            "  loss_fct_emo = torch.nn.CrossEntropyLoss(weight=torch.tensor(class_weights_emotions).to(device))\n",
            "C:\\Users\\Ciprian\\AppData\\Local\\Temp\\ipykernel_9536\\3149351706.py:7: UserWarning: To copy construct from a tensor, it is recommended to use sourceTensor.clone().detach() or sourceTensor.clone().detach().requires_grad_(True), rather than torch.tensor(sourceTensor).\n",
            "  loss_fct_targ = torch.nn.BCEWithLogitsLoss(weight=torch.tensor(class_weights_triggers).to(device))\n"
          ]
        },
        {
          "name": "stdout",
          "output_type": "stream",
          "text": [
            "Train loss: 2.874265  [    0/27764]\n",
            "Train loss: 2.967844  [ 5000/27764]\n",
            "Train loss: 8.886473  [10000/27764]\n",
            "Train loss: 1.236082  [15000/27764]\n",
            "Train loss: 1.070563  [20000/27764]\n",
            "Train loss: 1.173697  [25000/27764]\n",
            "\n",
            "Validation loss: 2.836716.\n",
            "Saving model ...\n",
            "Saved PyTorch Model State to model.pth\n",
            "\n",
            "Epoch 2\n",
            "-------------------------------\n",
            "Train loss: 0.287030  [    0/27764]\n",
            "Train loss: 2.926584  [ 5000/27764]\n",
            "Train loss: 9.152470  [10000/27764]\n",
            "Train loss: 0.637322  [15000/27764]\n",
            "Train loss: 0.646367  [20000/27764]\n",
            "Train loss: 0.630423  [25000/27764]\n",
            "\n",
            "Validation loss: 2.418351.\n",
            "Validation loss decreased (2.83671574 --> 2.41835123).  Saving model ...\n",
            "Saved PyTorch Model State to model.pth\n",
            "\n",
            "Epoch 3\n",
            "-------------------------------\n",
            "Train loss: 0.444304  [    0/27764]\n",
            "Train loss: 1.379169  [ 5000/27764]\n",
            "Train loss: 10.835067  [10000/27764]\n",
            "Train loss: 1.472830  [15000/27764]\n",
            "Train loss: 1.062459  [20000/27764]\n",
            "Train loss: 0.523776  [25000/27764]\n",
            "\n",
            "Validation loss: 2.193990.\n",
            "Validation loss decreased (2.41835123 --> 2.19398989).  Saving model ...\n",
            "Saved PyTorch Model State to model.pth\n",
            "\n",
            "Epoch 4\n",
            "-------------------------------\n",
            "Train loss: 0.221666  [    0/27764]\n",
            "Train loss: 1.334523  [ 5000/27764]\n",
            "Train loss: 11.097334  [10000/27764]\n",
            "Train loss: 1.536470  [15000/27764]\n",
            "Train loss: 1.307171  [20000/27764]\n",
            "Train loss: 0.425116  [25000/27764]\n",
            "\n",
            "Validation loss: 2.084803.\n",
            "Validation loss decreased (2.19398989 --> 2.08480269).  Saving model ...\n",
            "Saved PyTorch Model State to model.pth\n",
            "\n",
            "Epoch 5\n",
            "-------------------------------\n",
            "Train loss: 0.243571  [    0/27764]\n",
            "Train loss: 0.728332  [ 5000/27764]\n",
            "Train loss: 9.527964  [10000/27764]\n",
            "Train loss: 1.206269  [15000/27764]\n",
            "Train loss: 0.533926  [20000/27764]\n",
            "Train loss: 0.570331  [25000/27764]\n",
            "\n",
            "Validation loss: 2.029286.\n",
            "Validation loss decreased (2.08480269 --> 2.02928571).  Saving model ...\n",
            "Saved PyTorch Model State to model.pth\n",
            "\n"
          ]
        }
      ],
      "source": [
        "val_loss_min_st = np.inf\n",
        "for epoch in range(EPOCHS):\n",
        "    print(f\"Epoch {epoch+1}\\n-------------------------------\")\n",
        "    train()\n",
        "    val_loss_min_st = validation(epoch, val_loss_min_st)"
      ]
    },
    {
      "cell_type": "markdown",
      "metadata": {},
      "source": [
        "Evaluation of the BeRT model:\n",
        "\n",
        "In order to evaluate the BeRT model we use the same metrics as the baseline models, but propose two different approaches. The first approach is to use the model as it is, with the dialogues unrolled into sentences. The second approach is to consider results based on the dialogues, as to get a more realistic evaluation of the model."
      ]
    },
    {
      "cell_type": "markdown",
      "metadata": {},
      "source": [
        "### Unrolled sentences:"
      ]
    },
    {
      "cell_type": "markdown",
      "metadata": {},
      "source": [
        "We get the results for the emotions and the triggers separately."
      ]
    },
    {
      "cell_type": "code",
      "execution_count": 71,
      "metadata": {},
      "outputs": [],
      "source": [
        "outputs_emotion, targets_emotion, outputs_trigger, targets_trigger, dialogue_lengths = inference(model, test_loader)"
      ]
    },
    {
      "cell_type": "code",
      "execution_count": 72,
      "metadata": {},
      "outputs": [
        {
          "name": "stdout",
          "output_type": "stream",
          "text": [
            "Threshold: 0.1\n",
            "Report for triggers: \n",
            "\n",
            "              precision    recall  f1-score   support\n",
            "\n",
            "           0       0.85      1.00      0.92      3027\n",
            "           1       0.16      0.95      0.27       531\n",
            "\n",
            "   micro avg       0.52      0.99      0.68      3558\n",
            "   macro avg       0.50      0.97      0.59      3558\n",
            "weighted avg       0.75      0.99      0.82      3558\n",
            " samples avg       0.54      0.99      0.69      3558\n",
            "\n",
            "-------------------------------------------------------\n",
            "Report for emotions: \n",
            "\n",
            "              precision    recall  f1-score   support\n",
            "\n",
            "     neutral       0.82      0.81      0.81      1572\n",
            "         joy       0.57      0.89      0.69       663\n",
            "    surprise       0.58      0.89      0.70       486\n",
            "     sadness       0.59      0.17      0.27       258\n",
            "       anger       0.86      0.03      0.06       369\n",
            "     disgust       0.55      0.56      0.56       101\n",
            "        fear       0.38      0.07      0.12       109\n",
            "\n",
            "    accuracy                           0.68      3558\n",
            "   macro avg       0.62      0.49      0.46      3558\n",
            "weighted avg       0.70      0.68      0.63      3558\n",
            "\n"
          ]
        }
      ],
      "source": [
        "th = get_threshold(targets_trigger, outputs_trigger)\n",
        "print(f\"Threshold: {th}\")\n",
        "predictions_trigger = np.array(outputs_trigger) >= th\n",
        "report_triggers = classification_report(targets_trigger, predictions_trigger)\n",
        "report_emotions = classification_report(targets_emotion, outputs_emotion, target_names=emotion_to_index.keys())\n",
        "print(\"Report for triggers: \\n\")\n",
        "print(report_triggers)\n",
        "print(\"-------------------------------------------------------\")\n",
        "print(\"Report for emotions: \\n\")\n",
        "print(report_emotions)"
      ]
    },
    {
      "cell_type": "code",
      "execution_count": 73,
      "metadata": {},
      "outputs": [
        {
          "name": "stdout",
          "output_type": "stream",
          "text": [
            "RMSE for triggers: 0.6316137610100816\n",
            "RMSE for emotions: 1.566674440558135\n"
          ]
        }
      ],
      "source": [
        "rmse_triggers = get_rmse(targets_trigger, predictions_trigger)\n",
        "print(f\"RMSE for triggers: {rmse_triggers}\")\n",
        "\n",
        "rmse_emotions = get_rmse(targets_emotion, outputs_emotion)\n",
        "print(f\"RMSE for emotions: {rmse_emotions}\")"
      ]
    },
    {
      "cell_type": "markdown",
      "metadata": {},
      "source": [
        "As we can see from the results, the model performs way better than the baseline models. One important thing to notice is that is can actually classify even emotions that are hardly represented in the data, such as disgust, which is something that neither the baseline models nor previous trials without class weights were able to do.\n",
        "\n",
        "The santandard deviation of the emotion prediction is higher than the one of the trigger prediction, which is expected as the emotions are more complex than the triggers.\n",
        "\n",
        "Further result exploration is done in the last part of the notebook."
      ]
    },
    {
      "cell_type": "markdown",
      "metadata": {},
      "source": [
        "### Sequences of dialogues: \n",
        "\n",
        "Instead of computing single predictions and metrics we also consider the fact that single sentences are part of a dialogue."
      ]
    },
    {
      "cell_type": "markdown",
      "metadata": {},
      "source": [
        "Here we make use of the dialogue index that we saved during the dataset creation phase."
      ]
    },
    {
      "cell_type": "code",
      "execution_count": 74,
      "metadata": {},
      "outputs": [],
      "source": [
        "def get_dialogue_preds(outputs_emotion, targets_emotion, outputs_trigger, targets_trigger, dialogue_lengths):\n",
        "    current_index = 0\n",
        "    dialogue_predictions_emotions = []\n",
        "    dialogue_targets_emotions = []\n",
        "    dialogue_predictions_triggers = []\n",
        "    dialogue_targets_triggers = []\n",
        "    for length in dialogue_lengths:\n",
        "        dialogue_predictions_emotions.append(outputs_emotion[current_index:current_index+length])\n",
        "        dialogue_targets_emotions.append(targets_emotion[current_index:current_index+length])\n",
        "        dialogue_predictions_triggers.append(outputs_trigger[current_index:current_index+length])\n",
        "        dialogue_targets_triggers.append(targets_trigger[current_index:current_index+length])\n",
        "        current_index += length\n",
        "    \n",
        "    return dialogue_predictions_emotions, dialogue_targets_emotions, dialogue_predictions_triggers, dialogue_targets_triggers"
      ]
    },
    {
      "cell_type": "markdown",
      "metadata": {},
      "source": [
        "We compute the predictions for each sentence and then we group them by dialogue index. We also compute emotion and trigger predictions for each dialogue separately."
      ]
    },
    {
      "cell_type": "code",
      "execution_count": 75,
      "metadata": {},
      "outputs": [],
      "source": [
        "dialogue_predictions_emotions, dialogue_targets_emotions, dialogue_predictions_triggers, dialogue_targets_triggers = get_dialogue_preds(outputs_emotion, targets_emotion, predictions_trigger, targets_trigger, dialogue_lengths)"
      ]
    },
    {
      "cell_type": "code",
      "execution_count": 76,
      "metadata": {},
      "outputs": [],
      "source": [
        "def f1_score_per_dialogue(dialogue_predictions_emotions, dialogue_targets_emotions, dialogue_predictions_triggers, dialogue_targets_triggers):\n",
        "    f1_scores_emotions = []\n",
        "    f1_scores_triggers = []\n",
        "    for i in range(len(dialogue_predictions_emotions)):\n",
        "        f1_scores_emotions.append(f1_score(dialogue_targets_emotions[i], dialogue_predictions_emotions[i], average='macro'))\n",
        "        f1_scores_triggers.append(f1_score(dialogue_targets_triggers[i], dialogue_predictions_triggers[i], average='macro'))\n",
        "    return f1_scores_emotions, f1_scores_triggers"
      ]
    },
    {
      "cell_type": "markdown",
      "metadata": {},
      "source": [
        "In order to compute a dialogue prediction we use simply use the mean of the predictions of the sentences that compose the dialogue."
      ]
    },
    {
      "cell_type": "code",
      "execution_count": 77,
      "metadata": {},
      "outputs": [
        {
          "name": "stdout",
          "output_type": "stream",
          "text": [
            "Average F1 score for emotions per dialogue: 0.5258474337608792\n",
            "Average F1 score for triggers per dialogue: 0.5937706875819624\n"
          ]
        }
      ],
      "source": [
        "f1_scores_emotions, f1_scores_triggers = f1_score_per_dialogue(dialogue_predictions_emotions, dialogue_targets_emotions, dialogue_predictions_triggers, dialogue_targets_triggers)\n",
        "print(f\"Average F1 score for emotions per dialogue: {np.mean(f1_scores_emotions)}\")\n",
        "print(f\"Average F1 score for triggers per dialogue: {np.mean(f1_scores_triggers)}\")"
      ]
    },
    {
      "cell_type": "code",
      "execution_count": 78,
      "metadata": {},
      "outputs": [],
      "source": [
        "def rmse_per_dialogue(f1_scores):\n",
        "    rmse_scores = []\n",
        "    for i in range(len(f1_scores)):\n",
        "        rmse_scores.append(np.sqrt(((f1_scores[i] - np.mean(f1_scores)) ** 2)))\n",
        "    return rmse_scores"
      ]
    },
    {
      "cell_type": "code",
      "execution_count": 79,
      "metadata": {},
      "outputs": [
        {
          "name": "stdout",
          "output_type": "stream",
          "text": [
            "RMSE for emotions per dialogue: 0.1994977846380087\n",
            "RMSE for triggers per dialogue: 0.04965920905632753\n"
          ]
        }
      ],
      "source": [
        "rmse_scores_emotions = rmse_per_dialogue(f1_scores_emotions)\n",
        "rmse_scores_triggers = rmse_per_dialogue(f1_scores_triggers)\n",
        "\n",
        "print(f\"RMSE for emotions per dialogue: {np.mean(rmse_scores_emotions)}\")\n",
        "print(f\"RMSE for triggers per dialogue: {np.mean(rmse_scores_triggers)}\")"
      ]
    },
    {
      "cell_type": "markdown",
      "metadata": {},
      "source": [
        "As for these results we see that the average f1 score is lower than the one of the unrolled sentences. We believe that is due to the fact that some dialogues are higly unbalanced, thus probably leading to a lower f1 score. The same phenomenon happens for the trigger labels. We explore this further in the last part of the notebook.\n",
        "\n",
        "The standard deviation improves though, which could mean that the inbalance of the dialogues is both a \"good\" and a \"bad\" thing. It is good because if we aggregate the predictions of the sentences we get a more balanced prediction towards the majority class, but it is bad because the model has a harder time learning from the data."
      ]
    },
    {
      "cell_type": "markdown",
      "metadata": {},
      "source": [
        "## Further results exploration:"
      ]
    },
    {
      "cell_type": "code",
      "execution_count": 3,
      "metadata": {},
      "outputs": [
        {
          "data": {
            "text/plain": [
              "40"
            ]
          },
          "execution_count": 3,
          "metadata": {},
          "output_type": "execute_result"
        }
      ],
      "source": [
        "import gc\n",
        "\n",
        "model = None\n",
        "del model\n",
        "\n",
        "with torch.no_grad():\n",
        "    torch.cuda.empty_cache()\n",
        "\n",
        "gc.collect()"
      ]
    },
    {
      "cell_type": "code",
      "execution_count": null,
      "metadata": {},
      "outputs": [],
      "source": []
    }
  ],
  "metadata": {
    "accelerator": "GPU",
    "colab": {
      "gpuType": "T4",
      "provenance": []
    },
    "kernelspec": {
      "display_name": "Python 3",
      "name": "python3"
    },
    "language_info": {
      "codemirror_mode": {
        "name": "ipython",
        "version": 3
      },
      "file_extension": ".py",
      "mimetype": "text/x-python",
      "name": "python",
      "nbconvert_exporter": "python",
      "pygments_lexer": "ipython3",
      "version": "3.10.11"
    }
  },
  "nbformat": 4,
  "nbformat_minor": 0
}
