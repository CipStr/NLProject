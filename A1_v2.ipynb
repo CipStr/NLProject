{
 "cells": [
  {
   "cell_type": "markdown",
   "metadata": {},
   "source": [
    "# Assignment 1\n",
    "\n",
    "This Jupyter Notebook document is our implementation of Assignment 1. \n",
    "\n",
    "Group members:\n",
    "- Stricescu Razvan Ciprian\n",
    "- Matteo Belletti\n",
    "- Alessandro Pasi\n"
   ]
  },
  {
   "cell_type": "markdown",
   "metadata": {},
   "source": [
    "# Imports and libraries needed"
   ]
  },
  {
   "cell_type": "code",
   "execution_count": 110,
   "metadata": {},
   "outputs": [],
   "source": [
    "# !pip install pandas \n",
    "# !pip install numpy\n",
    "# !pip install matplotlib\n",
    "# !pip install tqdm\n",
    "# !pip install seaborn\n",
    "# !pip install tensorflow\n",
    "# !pip install keras\n",
    "# !pip install scikit-learn\n",
    "\n",
    "import pandas as pd \n",
    "import numpy as np\n",
    "import matplotlib.pyplot as plthttps://zenodo.org/records/8248658/files/arguments-training.tsv?download=1\n",
    "from tqdm import tqdm\n",
    "import seaborn as sns\n",
    "import sklearn\n",
    "import random\n",
    "import os\n",
    "from keras.models import Sequential\n",
    "from keras.layers import Dense, LSTM, Embedding, Bidirectional, TimeDistributed, Dropout\n",
    "from keras.optimizers import Adam\n",
    "import pickle\n",
    "from keras.preprocessing.text import Tokenizer\n",
    "from keras.preprocessing.sequence import pad_sequences\n",
    "import gensim\n",
    "import gensim.downloader as gloader\n",
    "from keras.utils import to_categorical\n",
    "from sklearn.metrics import f1_score\n",
    "import tensorflow as tf\n",
    "from sklearn.metrics import confusion_matrix\n",
    "from collections import Counter\n"
   ]
  },
  {
   "cell_type": "markdown",
   "metadata": {},
   "source": [
    "# Task 1: Data Loading and Splitting\n",
    "* **Download** the corpus.\n",
    "* **Encode** the corpus into a pandas.DataFrame object.\n",
    "* **Split** it in training, validation, and test sets.\n",
    "\n",
    "[Penn TreeBank corpus](https://raw.githubusercontent.com/nltk/nltk_data/gh-pages/packages/corpora/dependency_treebank.zip)."
   ]
  },
  {
   "cell_type": "markdown",
   "metadata": {},
   "source": [
    "Dataframe generation:"
   ]
  },
  {
   "cell_type": "code",
   "execution_count": 31,
   "metadata": {},
   "outputs": [
    {
     "name": "stderr",
     "output_type": "stream",
     "text": [
      "  0%|          | 0/199 [00:00<?, ?it/s]"
     ]
    },
    {
     "name": "stderr",
     "output_type": "stream",
     "text": [
      "100%|██████████| 199/199 [00:00<00:00, 1300.35it/s]"
     ]
    },
    {
     "name": "stdout",
     "output_type": "stream",
     "text": [
      "     word  pos\n",
      "0  Pierre  NNP\n",
      "1  Vinken  NNP\n",
      "2       ,    ,\n",
      "3      61   CD\n",
      "4   years  NNS\n",
      "(199, 1)\n"
     ]
    },
    {
     "name": "stderr",
     "output_type": "stream",
     "text": [
      "\n"
     ]
    }
   ],
   "source": [
    "# Create documents dataframe\n",
    "dp_docs = [file for file in os.listdir('dependency_treebank/') if file.endswith('.dp')]\n",
    "dataframes = []\n",
    "\n",
    "for file in tqdm(dp_docs):\n",
    "    with open('dependency_treebank/' + file, 'r') as f:\n",
    "        lines = f.readlines()\n",
    "        data = [line.split('\\t') for line in lines]\n",
    "        df = pd.DataFrame(data, columns=['word', 'pos', 'head'])\n",
    "        # drop the last column\n",
    "        df = df.iloc[:, :-1]\n",
    "        dataframes.append(df)\n",
    "\n",
    "df = pd.DataFrame({'Dataframes': dataframes})\n",
    "print(df['Dataframes'][0][0:5])\n",
    "print(df.shape)"
   ]
  },
  {
   "cell_type": "markdown",
   "metadata": {},
   "source": [
    "Data splitting: train, validation, test."
   ]
  },
  {
   "cell_type": "code",
   "execution_count": 32,
   "metadata": {},
   "outputs": [
    {
     "name": "stdout",
     "output_type": "stream",
     "text": [
      "Train dataframe shape: (100,), Validation dataframe shape: (50,), Test dataframe shape: (49,)\n"
     ]
    }
   ],
   "source": [
    "# Split the dataframes into train, validation and test sets\n",
    "train = df['Dataframes'][0:100]\n",
    "val = df['Dataframes'][100:150]\n",
    "test = df['Dataframes'][150:200]\n",
    "\n",
    "print(f'Train dataframe shape: {train.shape}, Validation dataframe shape: {val.shape}, Test dataframe shape: {test.shape}')"
   ]
  },
  {
   "cell_type": "markdown",
   "metadata": {},
   "source": [
    "Text preprocessing: lower case and new line/emtpy line removal."
   ]
  },
  {
   "cell_type": "code",
   "execution_count": 33,
   "metadata": {},
   "outputs": [
    {
     "name": "stdout",
     "output_type": "stream",
     "text": [
      "length of a train sentence before preprocessing: 32\n",
      "\n",
      "     word  pos\n",
      "0  pierre  NNP\n",
      "1  vinken  NNP\n",
      "2       ,    ,\n",
      "3      61   CD\n",
      "4   years  NNS\n",
      "\n",
      "Lenght of train sentence after preprocessing: 31\n"
     ]
    }
   ],
   "source": [
    "# Text preprocessing\n",
    "def to_lower_case(df, docs):\n",
    "    for i in range(docs, docs + len(df)):\n",
    "        df[i]['word'] = df[i]['word'].str.lower()\n",
    "\n",
    "# Text preprocessing: from each doc remove newlines and empty lines\n",
    "def remove_newlines(df, docs):\n",
    "    for i in range(docs, docs + len(df)):\n",
    "        df[i] = df[i][df[i]['word'] != '\\n']\n",
    "        df[i] = df[i][df[i]['word'] != '']\n",
    "print(f'length of a train sentence before preprocessing: {len(train[0])}\\n')\n",
    "to_lower_case(train, 0)\n",
    "to_lower_case(val, 100)\n",
    "to_lower_case(test, 150)\n",
    "remove_newlines(train, 0)\n",
    "remove_newlines(val, 100)\n",
    "remove_newlines(test, 150)\n",
    "print(train[0][0:5])\n",
    "print(f'\\nLenght of train sentence after preprocessing: {len(train[0])}')"
   ]
  },
  {
   "cell_type": "markdown",
   "metadata": {},
   "source": [
    "We create a sentence list for both normal sentences and tags in order to create the vocabulary."
   ]
  },
  {
   "cell_type": "code",
   "execution_count": 34,
   "metadata": {},
   "outputs": [
    {
     "name": "stdout",
     "output_type": "stream",
     "text": [
      "Number of train sentences: 1959, Number of val sentences: 1277, Number of test sentences: 638\n",
      "Number of train tag sentences: 1959, Number of val tag sentences: 1277, Number of test tag sentences: 638\n"
     ]
    }
   ],
   "source": [
    "# Create new list that contains the single sentences\n",
    "def create_sentences(df, docs):\n",
    "    sentences = []\n",
    "    chunks = []\n",
    "    for i in range(docs, docs + len(df)):\n",
    "        for element in df[i]['word']:\n",
    "            if element != '.' and element != '!' and element != '?':\n",
    "                chunks.append(element)\n",
    "            else:\n",
    "                chunks.append(element)\n",
    "                sentences.append(chunks)\n",
    "                chunks = []\n",
    "    return sentences\n",
    "\n",
    "def create_tag_sentences(df, docs):\n",
    "    tag_sentences = []\n",
    "    chunks = []\n",
    "    for i in range(docs, docs + len(df)):\n",
    "        for element in df[i]['pos']:\n",
    "            if element != '.' and element != '!' and element != '?':\n",
    "                chunks.append(element)\n",
    "            else:\n",
    "                chunks.append(element)\n",
    "                tag_sentences.append(chunks)\n",
    "                chunks = []\n",
    "    return tag_sentences\n",
    "\n",
    "# Create sentences for train, val and test\n",
    "train_sentences = create_sentences(train, 0)\n",
    "val_sentences = create_sentences(val, 100)\n",
    "test_sentences = create_sentences(test, 150)\n",
    "# Create tag sentences for train, val and test\n",
    "train_tag_sentences = create_tag_sentences(train, 0)\n",
    "val_tag_sentences = create_tag_sentences(val, 100)\n",
    "test_tag_sentences = create_tag_sentences(test, 150)\n",
    "print(f'Number of train sentences: {len(train_sentences)}, Number of val sentences: {len(val_sentences)}, Number of test sentences: {len(test_sentences)}')\n",
    "print(f'Number of train tag sentences: {len(train_tag_sentences)}, Number of val tag sentences: {len(val_tag_sentences)}, Number of test tag sentences: {len(test_tag_sentences)}')"
   ]
  },
  {
   "cell_type": "markdown",
   "metadata": {},
   "source": [
    "# Task 2: Text encoding\n",
    "\n",
    "To train a neural POS tagger, you first need to encode text into numerical format."
   ]
  },
  {
   "cell_type": "markdown",
   "metadata": {},
   "source": [
    "### Instructions\n",
    "\n",
    "* Embed words using **GloVe embeddings**.\n",
    "* You are **free** to pick any embedding dimension.\n",
    "* [Optional] You are free to experiment with text pre-processing: **make sure you do not delete any token!**"
   ]
  },
  {
   "cell_type": "markdown",
   "metadata": {},
   "source": [
    "Tokenization: we use the Keras Tokenizer on the training set to create the vocabulary. We then use the GloVe embeddings to create the embedding matrix."
   ]
  },
  {
   "cell_type": "code",
   "execution_count": 35,
   "metadata": {},
   "outputs": [
    {
     "name": "stdout",
     "output_type": "stream",
     "text": [
      "OOV token: <UNK>\n",
      "Vocabulary size: 7405\n",
      "Example of an encoded train sentence: [3427, 2309, 2, 1744, 65, 343, 2, 41, 1371, 3, 192, 24, 7, 1120, 270, 708, 2310, 4]\n"
     ]
    }
   ],
   "source": [
    "# Encode train sentences and tags using keras tokenizer\n",
    "sentence_tokenizer = Tokenizer(oov_token='<UNK>') # out of vocabulary token\n",
    "sentence_tokenizer.fit_on_texts(train_sentences)\n",
    "encoded_train_sentences = sentence_tokenizer.texts_to_sequences(train_sentences)\n",
    "encoded_val_sentences = sentence_tokenizer.texts_to_sequences(val_sentences)\n",
    "encoded_test_sentences = sentence_tokenizer.texts_to_sequences(test_sentences)\n",
    "\n",
    "print(f'OOV token: {sentence_tokenizer.oov_token}')\n",
    "print(f'Vocabulary size: {len(sentence_tokenizer.word_index)}')\n",
    "print(f'Example of an encoded train sentence: {encoded_train_sentences[0]}')"
   ]
  },
  {
   "cell_type": "markdown",
   "metadata": {},
   "source": [
    "Testing the tokenization by encoding and decoding a sentence."
   ]
  },
  {
   "cell_type": "code",
   "execution_count": 36,
   "metadata": {},
   "outputs": [
    {
     "name": "stdout",
     "output_type": "stream",
     "text": [
      "Original sentence: ['rudolph', 'agnew', ',', '55', 'years', 'old', 'and', 'former', 'chairman', 'of', 'consolidated', 'gold', 'fields', 'plc', ',', 'was', 'named', 'a', 'nonexecutive', 'director', 'of', 'this', 'british', 'industrial', 'conglomerate', '.']\n",
      "Encoded sentence: [1746, 3430, 2, 959, 65, 343, 9, 497, 166, 5, 2311, 1121, 553, 1747, 2, 25, 448, 7, 1120, 270, 5, 46, 1122, 498, 3431, 4]\n",
      "Decoded sentence: ['rudolph agnew , 55 years old and former chairman of consolidated gold fields plc , was named a nonexecutive director of this british industrial conglomerate .']\n"
     ]
    }
   ],
   "source": [
    "# I print and decode sentence 0\n",
    "i = 2\n",
    "print(f'Original sentence: {train_sentences[i]}')\n",
    "print(f'Encoded sentence: {encoded_train_sentences[i]}')\n",
    "print(f'Decoded sentence: {sentence_tokenizer.sequences_to_texts([encoded_train_sentences[i]])}')\n"
   ]
  },
  {
   "cell_type": "markdown",
   "metadata": {},
   "source": [
    "We do the same as above for the tags."
   ]
  },
  {
   "cell_type": "code",
   "execution_count": 37,
   "metadata": {},
   "outputs": [
    {
     "name": "stdout",
     "output_type": "stream",
     "text": [
      "Tag vocabulary size: 46\n",
      "Example of an encoded train tag: [3, 3, 8, 12, 6, 7, 8, 21, 13, 5, 2, 4, 5, 7, 2, 3, 12, 9]\n"
     ]
    }
   ],
   "source": [
    "tag_tokenizer = Tokenizer(oov_token='<UNK>')\n",
    "tag_tokenizer.fit_on_texts(train_tag_sentences)\n",
    "encoded_train_tags = tag_tokenizer.texts_to_sequences(train_tag_sentences)\n",
    "encoded_val_tags = tag_tokenizer.texts_to_sequences(val_tag_sentences)\n",
    "encoded_test_tags = tag_tokenizer.texts_to_sequences(test_tag_sentences)\n",
    "\n",
    "print(f'Tag vocabulary size: {len(tag_tokenizer.word_index)}')\n",
    "print(f'Example of an encoded train tag: {encoded_train_tags[0]}')"
   ]
  },
  {
   "cell_type": "markdown",
   "metadata": {},
   "source": [
    "Testing the tokenization by encoding and decoding a tag sequence."
   ]
  },
  {
   "cell_type": "code",
   "execution_count": 38,
   "metadata": {},
   "outputs": [
    {
     "name": "stdout",
     "output_type": "stream",
     "text": [
      "Original tag sentence: ['NNP', 'NNP', ',', 'CD', 'NNS', 'JJ', 'CC', 'JJ', 'NN', 'IN', 'NNP', 'NNP', 'NNP', 'NNP', ',', 'VBD', 'VBN', 'DT', 'JJ', 'NN', 'IN', 'DT', 'JJ', 'JJ', 'NN', '.']\n",
      "Encoded tag sentence: [3, 3, 8, 12, 6, 7, 14, 7, 2, 4, 3, 3, 3, 3, 8, 10, 16, 5, 7, 2, 4, 5, 7, 7, 2, 9]\n",
      "Decoded tag sentence: ['nnp nnp , cd nns jj cc jj nn in nnp nnp nnp nnp , vbd vbn dt jj nn in dt jj jj nn .']\n"
     ]
    }
   ],
   "source": [
    "print(f'Original tag sentence: {train_tag_sentences[i]}')\n",
    "print(f'Encoded tag sentence: {encoded_train_tags[i]}')\n",
    "print(f'Decoded tag sentence: {tag_tokenizer.sequences_to_texts([encoded_train_tags[i]])}')"
   ]
  },
  {
   "cell_type": "markdown",
   "metadata": {},
   "source": [
    "In order to prepare the data for the model we need to pad the sequences to the same length.\n",
    "\n",
    "First thing we chech the length of the sentences in order to pick a good max length for the padding."
   ]
  },
  {
   "cell_type": "code",
   "execution_count": 39,
   "metadata": {},
   "outputs": [
    {
     "name": "stdout",
     "output_type": "stream",
     "text": [
      "Length of longest sentence: 250\n"
     ]
    },
    {
     "name": "stderr",
     "output_type": "stream",
     "text": [
      "c:\\Users\\39328\\anaconda3\\lib\\site-packages\\seaborn\\_decorators.py:36: FutureWarning: Pass the following variable as a keyword arg: x. From version 0.12, the only valid positional argument will be `data`, and passing other arguments without an explicit keyword will result in an error or misinterpretation.\n",
      "  warnings.warn(\n"
     ]
    },
    {
     "data": {
      "image/png": "[encoded data removed]",
      "text/plain": [
       "<Figure size 432x288 with 1 Axes>"
      ]
     },
     "metadata": {
      "needs_background": "light"
     },
     "output_type": "display_data"
    }
   ],
   "source": [
    "# check length of longest sentence \n",
    "lengths = [len(sentence) for sentence in encoded_train_sentences]\n",
    "print(f'Length of longest sentence: {max(lengths)}')\n",
    "sns.boxplot(lengths)\n",
    "plt.show()"
   ]
  },
  {
   "cell_type": "markdown",
   "metadata": {},
   "source": [
    "Text padding: we use the Keras pad_sequences function to pad the sentences to the same length. We chose a max length of 100 as most of the sentences are shorter than that.\n",
    "\n",
    "We pad both the sentences and the tags."
   ]
  },
  {
   "cell_type": "code",
   "execution_count": 40,
   "metadata": {},
   "outputs": [
    {
     "name": "stdout",
     "output_type": "stream",
     "text": [
      "Example of a padded train sentence:\n",
      "[   0    0    0    0    0    0    0    0    0    0    0    0    0    0\n",
      "    0    0    0    0    0    0    0    0    0    0    0    0    0    0\n",
      "    0    0    0    0    0    0    0    0    0    0    0    0    0    0\n",
      "    0    0    0    0    0    0    0    0    0    0    0    0    0    0\n",
      "    0    0    0    0    0    0    0    0    0    0    0    0    0    0\n",
      "    0    0    0    0    0    0    0    0    0    0    0    0 3427 2309\n",
      "    2 1744   65  343    2   41 1371    3  192   24    7 1120  270  708\n",
      " 2310    4]\n"
     ]
    }
   ],
   "source": [
    "# Pad each sequence to MAX_SEQ_LENGTH using KERAS' pad_sequences() function. \n",
    "# Sentences longer than MAX_SEQ_LENGTH are truncated.\n",
    "# Sentences shorter than MAX_SEQ_LENGTH are padded with zeroes.\n",
    "\n",
    "# Truncation and padding can either be 'pre' or 'post'. \n",
    "# For padding we are using 'pre' padding type, that is, add zeroes on the left side.\n",
    "# For truncation, we are using 'post', that is, truncate a sentence from right side.\n",
    "\n",
    "MAX_SEQ_LENGTH = 100\n",
    "train_padded = pad_sequences(encoded_train_sentences, maxlen=MAX_SEQ_LENGTH, padding='pre', truncating='post')\n",
    "train_tag_padded = pad_sequences(encoded_train_tags, maxlen=MAX_SEQ_LENGTH, padding='pre', truncating='post')\n",
    "val_padded = pad_sequences(encoded_val_sentences, maxlen=MAX_SEQ_LENGTH, padding='pre', truncating='post')\n",
    "val_tag_padded = pad_sequences(encoded_val_tags, maxlen=MAX_SEQ_LENGTH, padding='pre', truncating='post')\n",
    "test_padded = pad_sequences(encoded_test_sentences, maxlen=MAX_SEQ_LENGTH, padding='pre', truncating='post')\n",
    "test_tag_padded = pad_sequences(encoded_test_tags, maxlen=MAX_SEQ_LENGTH, padding='pre', truncating='post')\n",
    "\n",
    "print(f'Example of a padded train sentence:\\n{train_padded[0]}')"
   ]
  },
  {
   "cell_type": "markdown",
   "metadata": {},
   "source": [
    "Now that the data is both encoded and padded we can import the GloVe embeddings and create the embedding matrix."
   ]
  },
  {
   "cell_type": "code",
   "execution_count": 41,
   "metadata": {},
   "outputs": [],
   "source": [
    "def load_embedding_model(embedding_dimension: int = 50) -> gensim.models.keyedvectors.KeyedVectors:\n",
    "    download_path = \"\"\n",
    "    download_path = \"glove-wiki-gigaword-{}\".format(embedding_dimension)\n",
    "        \n",
    "    try:\n",
    "        emb_model = gloader.load(download_path)\n",
    "    except ValueError as e:\n",
    "        print(\"Invalid embedding model name! Check the embedding dimension:\")\n",
    "        print(\"Glove: 50, 100, 200, 300\")\n",
    "        raise e\n",
    "\n",
    "    return emb_model\n",
    "\n",
    "# Glove -> 50, 100, 200, 300\n",
    "embedding_model = load_embedding_model(embedding_dimension=50)"
   ]
  },
  {
   "cell_type": "markdown",
   "metadata": {},
   "source": [
    "We create the embedding matrix by importing the GloVe embeddings and using the vocabulary created by the Tokenizer.\n",
    "\n",
    "Preferably if the GloVe embedding exists for a word we use that, otherwise we use a random embedding."
   ]
  },
  {
   "cell_type": "code",
   "execution_count": 42,
   "metadata": {},
   "outputs": [
    {
     "name": "stderr",
     "output_type": "stream",
     "text": [
      "100%|██████████| 7405/7405 [00:00<00:00, 73300.69it/s]"
     ]
    },
    {
     "name": "stdout",
     "output_type": "stream",
     "text": [
      "Number of words that have no glove embedding: 359\n",
      "Embedding matrix shape: (7406, 50)\n"
     ]
    },
    {
     "name": "stderr",
     "output_type": "stream",
     "text": [
      "\n"
     ]
    }
   ],
   "source": [
    "def create_embedding_matrix(embedding_model, word2id, embedding_dim):\n",
    "    vocab_size = len(word2id) + 1\n",
    "    embedding_matrix = np.zeros((vocab_size, embedding_dim))\n",
    "    OOV_embedding = np.random.rand(embedding_dim)\n",
    "    count_not_in_glove = 0\n",
    "    for word, i in tqdm(word2id.items()):\n",
    "        try:\n",
    "            embedding_matrix[i, :] = embedding_model[word]\n",
    "        except KeyError:\n",
    "            if word == '<UNK>':\n",
    "                # give <UNK> a static embedding\n",
    "                embedding_matrix[i, :] = OOV_embedding\n",
    "                continue\n",
    "            # If the word is not in the embedding model, it will have a random embedding vector, but check that its not already present\n",
    "            embedding_vector = np.random.rand(embedding_dim)\n",
    "            while embedding_vector in embedding_matrix:\n",
    "                embedding_vector = np.random.rand(embedding_dim)\n",
    "            embedding_matrix[i, :] = embedding_vector\n",
    "            count_not_in_glove += 1\n",
    "    print(f'Number of words that have no glove embedding: {count_not_in_glove}')\n",
    "    return embedding_matrix\n",
    "\n",
    "embedding_dim = 50\n",
    "embedding_train_matrix = create_embedding_matrix(embedding_model, sentence_tokenizer.word_index, embedding_dim)\n",
    "print(f'Embedding matrix shape: {embedding_train_matrix.shape}')"
   ]
  },
  {
   "cell_type": "markdown",
   "metadata": {},
   "source": [
    "For the tags we one-hot encode them using the Keras to_categorical function."
   ]
  },
  {
   "cell_type": "code",
   "execution_count": 43,
   "metadata": {},
   "outputs": [
    {
     "name": "stdout",
     "output_type": "stream",
     "text": [
      "One-hot encoded train tag shape: (1959, 100, 47)\n",
      "Example of a one-hot encoded train tag:\n",
      "[1. 0. 0. 0. 0. 0. 0. 0. 0. 0. 0. 0. 0. 0. 0. 0. 0. 0. 0. 0. 0. 0. 0. 0.\n",
      " 0. 0. 0. 0. 0. 0. 0. 0. 0. 0. 0. 0. 0. 0. 0. 0. 0. 0. 0. 0. 0. 0. 0.]\n"
     ]
    }
   ],
   "source": [
    "# For tags use one-hot encoding\n",
    "Y_train = to_categorical(train_tag_padded)\n",
    "print(f'One-hot encoded train tag shape: {Y_train.shape}')\n",
    "print(f'Example of a one-hot encoded train tag:\\n{Y_train[0][0]}')"
   ]
  },
  {
   "cell_type": "markdown",
   "metadata": {},
   "source": [
    "Here we reassing the training, validation and test sets which are now encoded and padded, ready to be fed to the model."
   ]
  },
  {
   "cell_type": "code",
   "execution_count": 44,
   "metadata": {},
   "outputs": [
    {
     "name": "stdout",
     "output_type": "stream",
     "text": [
      "X_train shape: (1959, 100), Y_train shape: (1959, 100, 47)\n",
      "X_val shape: (1277, 100), Y_val shape: (1277, 100, 47)\n",
      "X_test shape: (638, 100), Y_test shape: (638, 100, 47)\n"
     ]
    }
   ],
   "source": [
    "# Split the data into train, val and test sets\n",
    "X_train = train_padded\n",
    "X_val = val_padded\n",
    "Y_val = to_categorical(val_tag_padded)\n",
    "X_test = test_padded\n",
    "Y_test = to_categorical(test_tag_padded, num_classes=len(tag_tokenizer.word_index)+1) # for test also consider the missing tags\n",
    "print(f'X_train shape: {X_train.shape}, Y_train shape: {Y_train.shape}')\n",
    "print(f'X_val shape: {X_val.shape}, Y_val shape: {Y_val.shape}')\n",
    "print(f'X_test shape: {X_test.shape}, Y_test shape: {Y_test.shape}')"
   ]
  },
  {
   "cell_type": "markdown",
   "metadata": {},
   "source": [
    "We check for OOV words in the sets, as we can see for the training set there are 0 OOV words because it constitutes the vocabulary."
   ]
  },
  {
   "cell_type": "code",
   "execution_count": 45,
   "metadata": {},
   "outputs": [
    {
     "name": "stdout",
     "output_type": "stream",
     "text": [
      "Number of OOV terms in train set: 0\n",
      "Number of OOV terms in val set: 3746\n",
      "Number of OOV terms in test set: 1969\n"
     ]
    }
   ],
   "source": [
    "def check_OOV_terms(X):\n",
    "    count_OOV = 0\n",
    "    for sentence in X:\n",
    "        for word in sentence:\n",
    "            if word == 1:\n",
    "                count_OOV += 1\n",
    "    return count_OOV\n",
    "\n",
    "print(f'Number of OOV terms in train set: {check_OOV_terms(X_train)}')\n",
    "print(f'Number of OOV terms in val set: {check_OOV_terms(X_val)}')\n",
    "print(f'Number of OOV terms in test set: {check_OOV_terms(X_test)}')"
   ]
  },
  {
   "cell_type": "markdown",
   "metadata": {},
   "source": [
    "# Task 3: Model definition\n",
    "\n",
    "You are now tasked to define your neural POS tagger."
   ]
  },
  {
   "cell_type": "markdown",
   "metadata": {},
   "source": [
    "### Instructions\n",
    "\n",
    "* **Baseline**: implement a Bidirectional LSTM with a Dense layer on top.\n",
    "* You are **free** to experiment with hyper-parameters to define the baseline model.\n",
    "\n",
    "* **Model 1**: add an additional LSTM layer to the Baseline model.\n",
    "* **Model 2**: add an additional Dense layer to the Baseline model.\n",
    "\n",
    "* **Do not mix Model 1 and Model 2**. Each model has its own instructions.\n",
    "\n",
    "**Note**: if a document contains many tokens, you are **free** to split them into chunks or sentences to define your mini-batches."
   ]
  },
  {
   "cell_type": "code",
   "execution_count": 46,
   "metadata": {},
   "outputs": [],
   "source": [
    "# Number of tags is the tag vocabulary, it is the number of classes we want to predict \n",
    "num_tags = Y_train.shape[2]"
   ]
  },
  {
   "cell_type": "markdown",
   "metadata": {},
   "source": [
    "### Baseline model definition:\n",
    "\n",
    "\n",
    "\n"
   ]
  },
  {
   "cell_type": "markdown",
   "metadata": {},
   "source": [
    "For the baseline model we use a Bidirectional LSTM with a Dense layer. Hyperparameters are chosen by using a grid search. \n",
    "\n",
    "We left the hyperparameters in the code but commented out as they take a long time to run. We will just load the best ones we found for further tasks."
   ]
  },
  {
   "cell_type": "code",
   "execution_count": 47,
   "metadata": {},
   "outputs": [
    {
     "data": {
      "text/plain": [
       "\"\\nhyperparameters = { 'lstm_units': [128, 256], \\n                    'dropout_rate': [0.1, 0.2, 0.3],\\n                    'recurrent_dropout_rate': [0.1, 0.2, 0.3],\\n                    'learning_rate': [0.001, 0.01],\\n                    'batch_size': [32, 64, 128]\\n                  }\\n# for each hyperparameter combination, train the model for 3 epochs and save the model with the best validation accuracy\\nfrom sklearn.model_selection import ParameterGrid\\n\\n# create a list of all possible combinations of hyperparameters\\nparam_grid = ParameterGrid(hyperparameters)\\nprint(f'Number of hyperparameter combinations: {len(param_grid)}')\\n\\n# train the model for each hyperparameter combination\\nfrom sklearn.metrics import accuracy_score\\n\\nbest_baseline_val_accuracy = 0\\nbest_baseline_model = None\\nbest_baseline_hyperparameters = None\\n\\nfor params in tqdm(param_grid):\\n    model = create_baseline_model(params['lstm_units'], params['dropout_rate'], params['recurrent_dropout_rate'], params['learning_rate'])\\n    model.fit(X_train, Y_train, epochs=1, batch_size=params['batch_size'], verbose=0)\\n    val_loss, val_accuracy = model.evaluate(X_val, Y_val, verbose=0)\\n    if val_accuracy > best_baseline_val_accuracy:\\n        best_baseline_val_accuracy = val_accuracy\\n        best_baseline_model = model\\n        best_baseline_hyperparameters = params\\n\\nprint(f'Best validation accuracy: {best_baseline_val_accuracy}')\\nprint(f'Best hyperparameters: {best_baseline_hyperparameters}') \\n\\n# save the hyperparameters and the model\\nimport pickle\\nwith open('best_baseline_hyperparameters.pickle', 'wb') as f:\\n    pickle.dump(best_baseline_hyperparameters, f)\\nbest_baseline_model.save('best_baseline_model.h5')\\n\""
      ]
     },
     "execution_count": 47,
     "metadata": {},
     "output_type": "execute_result"
    }
   ],
   "source": [
    "# Baseline model: LSTM + FC\n",
    "\n",
    "#HYPERPARAMETERS TUNING:\n",
    "\n",
    "def create_baseline_model(lstm_units, dropout_rate, recurrent_dropout_rate, learning_rate):\n",
    "    model = Sequential()\n",
    "    model.add(Embedding(input_dim=len(sentence_tokenizer.word_index)+1, output_dim=embedding_dim, input_length=MAX_SEQ_LENGTH, weights=[embedding_train_matrix], trainable=True, mask_zero=True))\n",
    "    model.add(Bidirectional(LSTM(units=lstm_units, return_sequences=True, dropout=dropout_rate, recurrent_dropout=recurrent_dropout_rate)))\n",
    "    model.add(TimeDistributed(Dense(num_tags, activation='softmax')))\n",
    "    model.compile(loss='categorical_crossentropy', optimizer=Adam(learning_rate=learning_rate), metrics=['accuracy'])\n",
    "    return model\n",
    "'''\n",
    "hyperparameters = { 'lstm_units': [128, 256], \n",
    "                    'dropout_rate': [0.1, 0.2, 0.3],\n",
    "                    'recurrent_dropout_rate': [0.1, 0.2, 0.3],\n",
    "                    'learning_rate': [0.001, 0.01],\n",
    "                    'batch_size': [32, 64, 128]\n",
    "                  }\n",
    "# for each hyperparameter combination, train the model for 3 epochs and save the model with the best validation accuracy\n",
    "from sklearn.model_selection import ParameterGrid\n",
    "\n",
    "# create a list of all possible combinations of hyperparameters\n",
    "param_grid = ParameterGrid(hyperparameters)\n",
    "print(f'Number of hyperparameter combinations: {len(param_grid)}')\n",
    "\n",
    "# train the model for each hyperparameter combination\n",
    "from sklearn.metrics import accuracy_score\n",
    "\n",
    "best_baseline_val_accuracy = 0\n",
    "best_baseline_model = None\n",
    "best_baseline_hyperparameters = None\n",
    "\n",
    "for params in tqdm(param_grid):\n",
    "    model = create_baseline_model(params['lstm_units'], params['dropout_rate'], params['recurrent_dropout_rate'], params['learning_rate'])\n",
    "    model.fit(X_train, Y_train, epochs=1, batch_size=params['batch_size'], verbose=0)\n",
    "    val_loss, val_accuracy = model.evaluate(X_val, Y_val, verbose=0)\n",
    "    if val_accuracy > best_baseline_val_accuracy:\n",
    "        best_baseline_val_accuracy = val_accuracy\n",
    "        best_baseline_model = model\n",
    "        best_baseline_hyperparameters = params\n",
    "\n",
    "print(f'Best validation accuracy: {best_baseline_val_accuracy}')\n",
    "print(f'Best hyperparameters: {best_baseline_hyperparameters}') \n",
    "\n",
    "# save the hyperparameters and the model\n",
    "import pickle\n",
    "with open('best_baseline_hyperparameters.pickle', 'wb') as f:\n",
    "    pickle.dump(best_baseline_hyperparameters, f)\n",
    "best_baseline_model.save('best_baseline_model.h5')\n",
    "'''"
   ]
  },
  {
   "cell_type": "markdown",
   "metadata": {},
   "source": [
    "Here we load the best hyperparameters and create the model."
   ]
  },
  {
   "cell_type": "code",
   "execution_count": 48,
   "metadata": {},
   "outputs": [
    {
     "name": "stdout",
     "output_type": "stream",
     "text": [
      "Model: \"sequential\"\n",
      "_________________________________________________________________\n",
      " Layer (type)                Output Shape              Param #   \n",
      "=================================================================\n",
      " embedding (Embedding)       (None, 100, 50)           370300    \n",
      "                                                                 \n",
      " bidirectional (Bidirection  (None, 100, 512)          628736    \n",
      " al)                                                             \n",
      "                                                                 \n",
      " time_distributed (TimeDist  (None, 100, 47)           24111     \n",
      " ributed)                                                        \n",
      "                                                                 \n",
      "=================================================================\n",
      "Total params: 1023147 (3.90 MB)\n",
      "Trainable params: 1023147 (3.90 MB)\n",
      "Non-trainable params: 0 (0.00 Byte)\n",
      "_________________________________________________________________\n"
     ]
    }
   ],
   "source": [
    "# load the model\n",
    "best_baseline_hyperparameters = pickle.load(open('best_baseline_hyperparameters.pickle', 'rb'))\n",
    "baseline = create_baseline_model(best_baseline_hyperparameters['lstm_units'], best_baseline_hyperparameters['dropout_rate'], best_baseline_hyperparameters['recurrent_dropout_rate'], best_baseline_hyperparameters['learning_rate'])\n",
    "baseline.summary()"
   ]
  },
  {
   "cell_type": "markdown",
   "metadata": {},
   "source": [
    "### Model 1 model definition:"
   ]
  },
  {
   "cell_type": "markdown",
   "metadata": {},
   "source": [
    "Model 1 is the baseline model with an additional LSTM layer. Hyperparameters are chosen by using a grid search.\n",
    "\n",
    "We chose to not show the commented out for grid search as it is very similar to the one used for the baseline model with some additional parameters. Like before we will just load the best ones we found for further tasks."
   ]
  },
  {
   "cell_type": "code",
   "execution_count": 49,
   "metadata": {},
   "outputs": [],
   "source": [
    "# Model 1: LSTM + LSTM + FC\n",
    "\n",
    "#HYPERPARAMETERS TUNING:\n",
    "\n",
    "def create_model1(lstm_units, dropout_rate, recurrent_dropout_rate, learning_rate):\n",
    "    model = Sequential()\n",
    "    model.add(Embedding(input_dim=len(sentence_tokenizer.word_index) + 1, output_dim=embedding_dim, input_length=MAX_SEQ_LENGTH, weights=[embedding_train_matrix], trainable=True, mask_zero=True))\n",
    "    model.add(Bidirectional(LSTM(units=lstm_units, return_sequences=True, dropout=dropout_rate, recurrent_dropout=recurrent_dropout_rate)))\n",
    "    model.add(Bidirectional(LSTM(units=int(lstm_units/2), return_sequences=True, dropout=dropout_rate, recurrent_dropout=recurrent_dropout_rate)))\n",
    "    model.add(TimeDistributed(Dense(num_tags, activation='softmax')))\n",
    "    model.compile(loss='categorical_crossentropy', optimizer=Adam(learning_rate=learning_rate), metrics=['accuracy'])\n",
    "    return model"
   ]
  },
  {
   "cell_type": "code",
   "execution_count": 50,
   "metadata": {},
   "outputs": [
    {
     "name": "stdout",
     "output_type": "stream",
     "text": [
      "Model: \"sequential_1\"\n",
      "_________________________________________________________________\n",
      " Layer (type)                Output Shape              Param #   \n",
      "=================================================================\n",
      " embedding_1 (Embedding)     (None, 100, 50)           370300    \n",
      "                                                                 \n",
      " bidirectional_1 (Bidirecti  (None, 100, 512)          628736    \n",
      " onal)                                                           \n",
      "                                                                 \n",
      " bidirectional_2 (Bidirecti  (None, 100, 256)          656384    \n",
      " onal)                                                           \n",
      "                                                                 \n",
      " time_distributed_1 (TimeDi  (None, 100, 47)           12079     \n",
      " stributed)                                                      \n",
      "                                                                 \n",
      "=================================================================\n",
      "Total params: 1667499 (6.36 MB)\n",
      "Trainable params: 1667499 (6.36 MB)\n",
      "Non-trainable params: 0 (0.00 Byte)\n",
      "_________________________________________________________________\n"
     ]
    }
   ],
   "source": [
    "# load the model\n",
    "best_model1_hyperparameters = pickle.load(open('best_model1_hyperparameters.pickle', 'rb'))\n",
    "model1 = create_model1(best_model1_hyperparameters['lstm_units'], best_model1_hyperparameters['dropout_rate'], best_model1_hyperparameters['recurrent_dropout_rate'], best_model1_hyperparameters['learning_rate'])\n",
    "model1.summary()"
   ]
  },
  {
   "cell_type": "markdown",
   "metadata": {},
   "source": [
    "### Model 2 model definition:"
   ]
  },
  {
   "cell_type": "markdown",
   "metadata": {},
   "source": [
    "Model 2 is the baseline model with an additional Dense layer. Hyperparameters are chosen by using a grid search.\n",
    "\n",
    "We chose to not show the commented out for grid search as it is very similar to the one used for the baseline model with some additional parameters. Like before we will just load the best ones we found for further tasks."
   ]
  },
  {
   "cell_type": "code",
   "execution_count": 51,
   "metadata": {},
   "outputs": [],
   "source": [
    "# Model 2: LSTM + FC + FC\n",
    "\n",
    "#HYPERPARAMETERS TUNING:\n",
    "\n",
    "def create_model2(lstm_units, dropout_rate, recurrent_dropout_rate, learning_rate):\n",
    "    model = Sequential()\n",
    "    model.add(Embedding(input_dim=len(sentence_tokenizer.word_index) + 1, output_dim=embedding_dim, input_length=MAX_SEQ_LENGTH, weights=[embedding_train_matrix], trainable=True, mask_zero=True))\n",
    "    model.add(Bidirectional(LSTM(units=lstm_units, return_sequences=True, dropout=dropout_rate, recurrent_dropout=recurrent_dropout_rate)))\n",
    "    model.add(TimeDistributed(Dense(num_tags*2, activation=\"softmax\")))\n",
    "    model.add(TimeDistributed(Dense(num_tags, activation=\"softmax\")))\n",
    "    model.compile(loss='categorical_crossentropy', optimizer=Adam(learning_rate=learning_rate), metrics=['accuracy'])\n",
    "    return model"
   ]
  },
  {
   "cell_type": "code",
   "execution_count": 52,
   "metadata": {},
   "outputs": [
    {
     "name": "stdout",
     "output_type": "stream",
     "text": [
      "Model: \"sequential_2\"\n",
      "_________________________________________________________________\n",
      " Layer (type)                Output Shape              Param #   \n",
      "=================================================================\n",
      " embedding_2 (Embedding)     (None, 100, 50)           370300    \n",
      "                                                                 \n",
      " bidirectional_3 (Bidirecti  (None, 100, 256)          183296    \n",
      " onal)                                                           \n",
      "                                                                 \n",
      " time_distributed_2 (TimeDi  (None, 100, 94)           24158     \n",
      " stributed)                                                      \n",
      "                                                                 \n",
      " time_distributed_3 (TimeDi  (None, 100, 47)           4465      \n",
      " stributed)                                                      \n",
      "                                                                 \n",
      "=================================================================\n",
      "Total params: 582219 (2.22 MB)\n",
      "Trainable params: 582219 (2.22 MB)\n",
      "Non-trainable params: 0 (0.00 Byte)\n",
      "_________________________________________________________________\n"
     ]
    }
   ],
   "source": [
    "# load the model\n",
    "best_model2_hyperparameters = pickle.load(open('best_model2_hyperparameters.pickle', 'rb'))\n",
    "model2 = create_model2(best_model2_hyperparameters['lstm_units'], best_model2_hyperparameters['dropout_rate'], best_model2_hyperparameters['recurrent_dropout_rate'], best_model2_hyperparameters['learning_rate'])\n",
    "model2.summary()"
   ]
  },
  {
   "cell_type": "markdown",
   "metadata": {},
   "source": [
    "# Task 4: Metrics\n",
    "\n",
    "Before training the models, you are tasked to define the evaluation metrics for comparison."
   ]
  },
  {
   "cell_type": "markdown",
   "metadata": {},
   "source": [
    "### Instructions\n",
    "\n",
    "* Evaluate your models using macro F1-score, compute over **all** tokens.\n",
    "* **Concatenate** all tokens in a data split to compute the F1-score. (**Hint**: accumulate FP, TP, FN, TN iteratively) \n",
    "* **Do not consider punctuation and symbol classes** $\\rightarrow$ [What is punctuation?](https://en.wikipedia.org/wiki/English_punctuation)"
   ]
  },
  {
   "cell_type": "markdown",
   "metadata": {},
   "source": [
    "**Note**: What about OOV tokens?\n",
    "   * All the tokens in the **training** set that are not in GloVe are **not** considered as OOV\n",
    "   * For the remaining tokens (i.e., OOV in the validation and test sets), you have to assign them a **static** embedding.\n",
    "   * You are **free** to define the static embedding using any strategy (e.g., random, neighbourhood, "
   ]
  },
  {
   "cell_type": "markdown",
   "metadata": {},
   "source": [
    "We define the tag_to_index dictionary which will be used to compute the F1-score."
   ]
  },
  {
   "cell_type": "code",
   "execution_count": 54,
   "metadata": {},
   "outputs": [
    {
     "name": "stdout",
     "output_type": "stream",
     "text": [
      "Tag to index dictionary:\n",
      "{'<UNK>': 1, 'nn': 2, 'nnp': 3, 'in': 4, 'dt': 5, 'nns': 6, 'jj': 7, ',': 8, '.': 9, 'vbd': 10, 'rb': 11, 'cd': 12, 'vb': 13, 'cc': 14, 'vbz': 15, 'vbn': 16, 'to': 17, 'prp': 18, 'vbg': 19, 'vbp': 20, 'md': 21, 'prp$': 22, '``': 23, 'pos': 24, \"''\": 25, '$': 26, ':': 27, 'wdt': 28, 'jjr': 29, 'wp': 30, 'rp': 31, 'nnps': 32, 'jjs': 33, 'wrb': 34, 'rbr': 35, '-rrb-': 36, '-lrb-': 37, 'ex': 38, 'rbs': 39, 'ls': 40, 'pdt': 41, 'wp$': 42, 'fw': 43, 'uh': 44, 'sym': 45, '#': 46}\n"
     ]
    }
   ],
   "source": [
    "tag2idx = tag_tokenizer.word_index\n",
    "idx2tag = {i: w for w, i in tag2idx.items()}\n",
    "print(f'Tag to index dictionary:\\n{tag2idx}')"
   ]
  },
  {
   "cell_type": "markdown",
   "metadata": {},
   "source": [
    "During metric computation we ignore the padding, OOV and punctuation tags."
   ]
  },
  {
   "cell_type": "code",
   "execution_count": 56,
   "metadata": {},
   "outputs": [
    {
     "name": "stdout",
     "output_type": "stream",
     "text": [
      "Index of punctuation tags: [8, 9, 27, 1]\n",
      "Tag of punctuation tags: [',', '.', ':', '<UNK>']\n"
     ]
    }
   ],
   "source": [
    "# print index of punctuation marks (. , ? ! \" ' - : ; )\n",
    "punctuation_tags = [',', '.', '?', '!', '\"', \"'\", '-', ':', ';' , '<UNK>', '(', ')', '[', ']', '{', '}', '<', '>']\n",
    "punctuation_tags_idx = []\n",
    "for tag in punctuation_tags:\n",
    "    try:\n",
    "        punctuation_tags_idx.append(tag2idx[tag])\n",
    "    except KeyError:\n",
    "        continue\n",
    "\n",
    "print(f'Index of punctuation tags: {punctuation_tags_idx}')\n",
    "print(f'Tag of punctuation tags: {[idx2tag[i] for i in punctuation_tags_idx]}')"
   ]
  },
  {
   "cell_type": "markdown",
   "metadata": {},
   "source": [
    "Here we define the F1-score function which will be used as a metric for the models."
   ]
  },
  {
   "cell_type": "code",
   "execution_count": 58,
   "metadata": {},
   "outputs": [],
   "source": [
    "# Metrics: Macro F1 score over all tokens, do not consider punctuation\n",
    "\n",
    "def macro_f1(y_true, y_pred):\n",
    "    # get the index of the highest probability for each token\n",
    "    y_true = np.argmax(y_true, axis=-1)\n",
    "    y_pred = np.argmax(y_pred, axis=-1)\n",
    "    # flatten the arrays\n",
    "    y_true = y_true.flatten()\n",
    "    y_pred = y_pred.flatten()\n",
    "    temp = [] \n",
    "    temp_pred = []\n",
    "    # remove punctuation tags from y_true\n",
    "    for i in range(len(y_true)):\n",
    "        if y_true[i] not in punctuation_tags_idx and y_true[i] != 0:\n",
    "            temp.append(y_true[i])\n",
    "            temp_pred.append(y_pred[i])\n",
    "    return f1_score(temp, temp_pred, average='macro')         "
   ]
  },
  {
   "cell_type": "markdown",
   "metadata": {},
   "source": [
    "# Task 5: Training and Evaluation\n",
    "\n",
    "You are now tasked to train and evaluate the Baseline, Model 1, and Model 2."
   ]
  },
  {
   "cell_type": "markdown",
   "metadata": {},
   "source": [
    "### For just evaluation skip to the next section as we load the best models we found."
   ]
  },
  {
   "cell_type": "markdown",
   "metadata": {},
   "source": [
    "### Instructions\n",
    "\n",
    "* Train **all** models on the train set.\n",
    "* Evaluate **all** models on the validation set.\n",
    "* Compute metrics on the validation set.\n",
    "* Pick **at least** three seeds for robust estimation.\n",
    "* Pick the **best** performing model according to the observed validation set performance."
   ]
  },
  {
   "cell_type": "markdown",
   "metadata": {},
   "source": [
    "We define three different seeds for the models."
   ]
  },
  {
   "cell_type": "code",
   "execution_count": 60,
   "metadata": {},
   "outputs": [],
   "source": [
    "# Seed definition\n",
    "seed = 42\n",
    "#seed = 69\n",
    "#seed = 420\n",
    "\n",
    "# Set the seed for numpy and tensorflow\n",
    "np.random.seed(seed)\n",
    "tf.random.set_seed(seed)"
   ]
  },
  {
   "cell_type": "markdown",
   "metadata": {},
   "source": [
    "### Baseline model training:\n",
    "\n",
    "\n",
    "\n"
   ]
  },
  {
   "cell_type": "code",
   "execution_count": 61,
   "metadata": {},
   "outputs": [
    {
     "name": "stdout",
     "output_type": "stream",
     "text": [
      "Epoch 1/20\n",
      "62/62 [==============================] - 74s 1s/step - loss: 1.0866 - accuracy: 0.7003 - val_loss: 0.5759 - val_accuracy: 0.8434\n",
      "Epoch 2/20\n",
      "62/62 [==============================] - 67s 1s/step - loss: 0.2277 - accuracy: 0.9338 - val_loss: 0.4094 - val_accuracy: 0.8839\n",
      "Epoch 3/20\n",
      "62/62 [==============================] - 66s 1s/step - loss: 0.1083 - accuracy: 0.9678 - val_loss: 0.3924 - val_accuracy: 0.8925\n",
      "Epoch 4/20\n",
      "62/62 [==============================] - 67s 1s/step - loss: 0.0604 - accuracy: 0.9818 - val_loss: 0.4380 - val_accuracy: 0.8897\n",
      "Epoch 5/20\n",
      "62/62 [==============================] - 70s 1s/step - loss: 0.0382 - accuracy: 0.9888 - val_loss: 0.4360 - val_accuracy: 0.8919\n",
      "Epoch 6/20\n",
      "62/62 [==============================] - 69s 1s/step - loss: 0.0248 - accuracy: 0.9929 - val_loss: 0.4950 - val_accuracy: 0.8880\n",
      "Epoch 7/20\n",
      "62/62 [==============================] - 69s 1s/step - loss: 0.0193 - accuracy: 0.9943 - val_loss: 0.5109 - val_accuracy: 0.8879\n",
      "Epoch 8/20\n",
      "62/62 [==============================] - 70s 1s/step - loss: 0.0143 - accuracy: 0.9960 - val_loss: 0.5140 - val_accuracy: 0.8897\n",
      "Epoch 9/20\n",
      "62/62 [==============================] - 74s 1s/step - loss: 0.0105 - accuracy: 0.9974 - val_loss: 0.5231 - val_accuracy: 0.8921\n",
      "Epoch 10/20\n",
      "62/62 [==============================] - 74s 1s/step - loss: 0.0072 - accuracy: 0.9985 - val_loss: 0.5468 - val_accuracy: 0.8882\n",
      "Epoch 11/20\n",
      "62/62 [==============================] - 73s 1s/step - loss: 0.0057 - accuracy: 0.9988 - val_loss: 0.5701 - val_accuracy: 0.8896\n",
      "Epoch 12/20\n",
      "62/62 [==============================] - 83s 1s/step - loss: 0.0048 - accuracy: 0.9991 - val_loss: 0.5468 - val_accuracy: 0.8899\n",
      "Epoch 13/20\n",
      "62/62 [==============================] - 78s 1s/step - loss: 0.0041 - accuracy: 0.9992 - val_loss: 0.5889 - val_accuracy: 0.8896\n",
      "Epoch 14/20\n",
      "62/62 [==============================] - 76s 1s/step - loss: 0.0036 - accuracy: 0.9994 - val_loss: 0.5921 - val_accuracy: 0.8885\n",
      "Epoch 15/20\n",
      "62/62 [==============================] - 75s 1s/step - loss: 0.0029 - accuracy: 0.9997 - val_loss: 0.6067 - val_accuracy: 0.8886\n",
      "Epoch 16/20\n",
      "62/62 [==============================] - 67s 1s/step - loss: 0.0026 - accuracy: 0.9996 - val_loss: 0.6000 - val_accuracy: 0.8891\n",
      "Epoch 17/20\n",
      "62/62 [==============================] - 65s 1s/step - loss: 0.0033 - accuracy: 0.9994 - val_loss: 0.6055 - val_accuracy: 0.8902\n",
      "Epoch 18/20\n",
      "62/62 [==============================] - 65s 1s/step - loss: 0.0057 - accuracy: 0.9984 - val_loss: 0.6066 - val_accuracy: 0.8875\n",
      "Epoch 19/20\n",
      "62/62 [==============================] - 65s 1s/step - loss: 0.0114 - accuracy: 0.9968 - val_loss: 0.6136 - val_accuracy: 0.8827\n",
      "Epoch 20/20\n",
      "62/62 [==============================] - 66s 1s/step - loss: 0.0226 - accuracy: 0.9926 - val_loss: 0.6271 - val_accuracy: 0.8751\n"
     ]
    }
   ],
   "source": [
    "history_baseline = baseline.fit(X_train, Y_train, validation_data=(X_val, Y_val), batch_size=best_baseline_hyperparameters[\"batch_size\"], epochs=20, verbose=1)"
   ]
  },
  {
   "cell_type": "markdown",
   "metadata": {},
   "source": [
    "After training the model we plot the training and validation loss and accuracy."
   ]
  },
  {
   "cell_type": "code",
   "execution_count": 62,
   "metadata": {},
   "outputs": [
    {
     "data": {
      "image/png": "[encoded data removed]",
      "text/plain": [
       "<Figure size 640x480 with 1 Axes>"
      ]
     },
     "metadata": {},
     "output_type": "display_data"
    }
   ],
   "source": [
    "# plot results\n",
    "plt.plot(history_baseline.history['accuracy'])\n",
    "plt.plot(history_baseline.history['val_accuracy'])\n",
    "plt.title('Model accuracy')\n",
    "plt.ylabel('Accuracy')\n",
    "plt.xlabel('Epochs')\n",
    "plt.legend(['Train', 'Validation'], loc='upper left')\n",
    "plt.show()"
   ]
  },
  {
   "cell_type": "markdown",
   "metadata": {},
   "source": [
    "We save the model in order to experiment with different seeds."
   ]
  },
  {
   "cell_type": "code",
   "execution_count": 63,
   "metadata": {},
   "outputs": [
    {
     "name": "stderr",
     "output_type": "stream",
     "text": [
      "d:\\NLProject\\.venv\\lib\\site-packages\\keras\\src\\engine\\training.py:3079: UserWarning: You are saving your model as an HDF5 file via `model.save()`. This file format is considered legacy. We recommend using instead the native Keras format, e.g. `model.save('my_model.keras')`.\n",
      "  saving_api.save_model(\n"
     ]
    }
   ],
   "source": [
    "# save the model\n",
    "baseline.save(f'baseline_{seed}.h5')"
   ]
  },
  {
   "cell_type": "markdown",
   "metadata": {},
   "source": [
    "### Base model evaluation:"
   ]
  },
  {
   "cell_type": "code",
   "execution_count": 64,
   "metadata": {},
   "outputs": [
    {
     "name": "stdout",
     "output_type": "stream",
     "text": [
      "Baseline model\n",
      "62/62 [==============================] - 11s 176ms/step - loss: 0.0170 - accuracy: 0.9949\n",
      "Train accuracy: 0.9949343800544739\n",
      "40/40 [==============================] - 7s 172ms/step - loss: 0.6271 - accuracy: 0.8751\n",
      "Validation accuracy: 0.8750601410865784\n",
      "20/20 [==============================] - 4s 174ms/step - loss: 0.5845 - accuracy: 0.8811\n",
      "Test accuracy: 0.8811193108558655\n",
      "20/20 [==============================] - 4s 164ms/step\n",
      "Macro F1 score: 0.774840722453918\n"
     ]
    }
   ],
   "source": [
    "# Evaluate the models\n",
    "print(\"Baseline model\")\n",
    "print(\"Train accuracy: {}\".format(baseline.evaluate(X_train, Y_train)[1]))\n",
    "print(\"Validation accuracy: {}\".format(baseline.evaluate(X_val, Y_val)[1]))\n",
    "print(\"Test accuracy: {}\".format(baseline.evaluate(X_test, Y_test)[1]))\n",
    "print(\"Macro F1 score: {}\".format(macro_f1(Y_test, baseline.predict(X_test))))"
   ]
  },
  {
   "cell_type": "markdown",
   "metadata": {},
   "source": [
    "### Model 1 model training:"
   ]
  },
  {
   "cell_type": "code",
   "execution_count": 65,
   "metadata": {},
   "outputs": [
    {
     "name": "stdout",
     "output_type": "stream",
     "text": [
      "Epoch 1/20\n",
      "62/62 [==============================] - 196s 3s/step - loss: 1.4827 - accuracy: 0.5918 - val_loss: 0.6858 - val_accuracy: 0.8226\n",
      "Epoch 2/20\n",
      "62/62 [==============================] - 182s 3s/step - loss: 0.2799 - accuracy: 0.9211 - val_loss: 0.4786 - val_accuracy: 0.8716\n",
      "Epoch 3/20\n",
      "62/62 [==============================] - 184s 3s/step - loss: 0.1340 - accuracy: 0.9607 - val_loss: 0.4341 - val_accuracy: 0.8852\n",
      "Epoch 4/20\n",
      "62/62 [==============================] - 184s 3s/step - loss: 0.0825 - accuracy: 0.9755 - val_loss: 0.4912 - val_accuracy: 0.8815\n",
      "Epoch 5/20\n",
      "62/62 [==============================] - 184s 3s/step - loss: 0.0605 - accuracy: 0.9819 - val_loss: 0.5315 - val_accuracy: 0.8808\n",
      "Epoch 6/20\n",
      "62/62 [==============================] - 183s 3s/step - loss: 0.0470 - accuracy: 0.9849 - val_loss: 0.4867 - val_accuracy: 0.8895\n",
      "Epoch 7/20\n",
      "62/62 [==============================] - 184s 3s/step - loss: 0.0339 - accuracy: 0.9894 - val_loss: 0.5475 - val_accuracy: 0.8827\n",
      "Epoch 8/20\n",
      "62/62 [==============================] - 184s 3s/step - loss: 0.0283 - accuracy: 0.9914 - val_loss: 0.5530 - val_accuracy: 0.8845\n",
      "Epoch 9/20\n",
      "62/62 [==============================] - 185s 3s/step - loss: 0.0206 - accuracy: 0.9938 - val_loss: 0.5480 - val_accuracy: 0.8888\n",
      "Epoch 10/20\n",
      "62/62 [==============================] - 183s 3s/step - loss: 0.0203 - accuracy: 0.9943 - val_loss: 0.5862 - val_accuracy: 0.8838\n",
      "Epoch 11/20\n",
      "62/62 [==============================] - 184s 3s/step - loss: 0.0181 - accuracy: 0.9947 - val_loss: 0.5775 - val_accuracy: 0.8855\n",
      "Epoch 12/20\n",
      "62/62 [==============================] - 184s 3s/step - loss: 0.0223 - accuracy: 0.9929 - val_loss: 0.5561 - val_accuracy: 0.8847\n",
      "Epoch 13/20\n",
      "62/62 [==============================] - 184s 3s/step - loss: 0.0207 - accuracy: 0.9935 - val_loss: 0.6474 - val_accuracy: 0.8823\n",
      "Epoch 14/20\n",
      "62/62 [==============================] - 183s 3s/step - loss: 0.0171 - accuracy: 0.9944 - val_loss: 0.7281 - val_accuracy: 0.8757\n",
      "Epoch 15/20\n",
      "62/62 [==============================] - 184s 3s/step - loss: 0.0142 - accuracy: 0.9960 - val_loss: 0.6966 - val_accuracy: 0.8815\n",
      "Epoch 16/20\n",
      "62/62 [==============================] - 185s 3s/step - loss: 0.0142 - accuracy: 0.9957 - val_loss: 0.6875 - val_accuracy: 0.8797\n",
      "Epoch 17/20\n",
      "62/62 [==============================] - 184s 3s/step - loss: 0.0162 - accuracy: 0.9950 - val_loss: 0.6733 - val_accuracy: 0.8810\n",
      "Epoch 18/20\n",
      "62/62 [==============================] - 184s 3s/step - loss: 0.0132 - accuracy: 0.9958 - val_loss: 0.7233 - val_accuracy: 0.8799\n",
      "Epoch 19/20\n",
      "62/62 [==============================] - 188s 3s/step - loss: 0.0131 - accuracy: 0.9961 - val_loss: 0.6663 - val_accuracy: 0.8859\n",
      "Epoch 20/20\n",
      "62/62 [==============================] - 184s 3s/step - loss: 0.0190 - accuracy: 0.9944 - val_loss: 0.6719 - val_accuracy: 0.8807\n"
     ]
    }
   ],
   "source": [
    "history_model1 = model1.fit(X_train, Y_train, validation_data=(X_val, Y_val), batch_size=best_model1_hyperparameters[\"batch_size\"], epochs=20, verbose=1)"
   ]
  },
  {
   "cell_type": "markdown",
   "metadata": {},
   "source": [
    "We plot the training and validation loss and accuracy."
   ]
  },
  {
   "cell_type": "code",
   "execution_count": 66,
   "metadata": {},
   "outputs": [
    {
     "data": {
      "image/png": "[encoded data removed]",
      "text/plain": [
       "<Figure size 640x480 with 1 Axes>"
      ]
     },
     "metadata": {},
     "output_type": "display_data"
    }
   ],
   "source": [
    "# plot results\n",
    "plt.plot(history_model1.history['accuracy'])\n",
    "plt.plot(history_model1.history['val_accuracy'])\n",
    "plt.title('Model accuracy')\n",
    "plt.ylabel('Accuracy')\n",
    "plt.xlabel('Epochs')\n",
    "plt.legend(['Train', 'Validation'], loc='upper left')\n",
    "plt.show()"
   ]
  },
  {
   "cell_type": "markdown",
   "metadata": {},
   "source": [
    "We save the model in order to experiment with different seeds."
   ]
  },
  {
   "cell_type": "code",
   "execution_count": 67,
   "metadata": {},
   "outputs": [
    {
     "name": "stderr",
     "output_type": "stream",
     "text": [
      "d:\\NLProject\\.venv\\lib\\site-packages\\keras\\src\\engine\\training.py:3079: UserWarning: You are saving your model as an HDF5 file via `model.save()`. This file format is considered legacy. We recommend using instead the native Keras format, e.g. `model.save('my_model.keras')`.\n",
      "  saving_api.save_model(\n"
     ]
    }
   ],
   "source": [
    "# save the model\n",
    "model1.save(f'model1_{seed}.h5')"
   ]
  },
  {
   "cell_type": "markdown",
   "metadata": {},
   "source": [
    "### Model 1 model evaluation:"
   ]
  },
  {
   "cell_type": "code",
   "execution_count": 68,
   "metadata": {},
   "outputs": [
    {
     "name": "stdout",
     "output_type": "stream",
     "text": [
      "Model 1\n",
      "62/62 [==============================] - 35s 564ms/step - loss: 0.0100 - accuracy: 0.9974\n",
      "Train accuracy: 0.9973718523979187\n",
      "40/40 [==============================] - 23s 563ms/step - loss: 0.6719 - accuracy: 0.8807\n",
      "Validation accuracy: 0.8807042241096497\n",
      "20/20 [==============================] - 11s 563ms/step - loss: 0.6153 - accuracy: 0.8886\n",
      "Test accuracy: 0.8885815143585205\n",
      "20/20 [==============================] - 12s 561ms/step\n",
      "Macro F1 score: 0.799054479591782\n"
     ]
    }
   ],
   "source": [
    "# Evaluate the models\n",
    "print(\"Model 1\")\n",
    "print(\"Train accuracy: {}\".format(model1.evaluate(X_train, Y_train)[1]))\n",
    "print(\"Validation accuracy: {}\".format(model1.evaluate(X_val, Y_val)[1]))\n",
    "print(\"Test accuracy: {}\".format(model1.evaluate(X_test, Y_test)[1]))\n",
    "print(\"Macro F1 score: {}\".format(macro_f1(Y_test, model1.predict(X_test))))"
   ]
  },
  {
   "cell_type": "markdown",
   "metadata": {},
   "source": [
    "### Model 2 model training:"
   ]
  },
  {
   "cell_type": "code",
   "execution_count": 69,
   "metadata": {},
   "outputs": [
    {
     "name": "stdout",
     "output_type": "stream",
     "text": [
      "Epoch 1/20\n",
      "62/62 [==============================] - 32s 410ms/step - loss: 3.2511 - accuracy: 0.2224 - val_loss: 2.7701 - val_accuracy: 0.3613\n",
      "Epoch 2/20\n",
      "62/62 [==============================] - 24s 392ms/step - loss: 2.3981 - accuracy: 0.4044 - val_loss: 2.2144 - val_accuracy: 0.4207\n",
      "Epoch 3/20\n",
      "62/62 [==============================] - 24s 390ms/step - loss: 1.9643 - accuracy: 0.4558 - val_loss: 1.9872 - val_accuracy: 0.4347\n",
      "Epoch 4/20\n",
      "62/62 [==============================] - 24s 388ms/step - loss: 1.7813 - accuracy: 0.4674 - val_loss: 1.9538 - val_accuracy: 0.4445\n",
      "Epoch 5/20\n",
      "62/62 [==============================] - 24s 389ms/step - loss: 1.6890 - accuracy: 0.4729 - val_loss: 1.8238 - val_accuracy: 0.4533\n",
      "Epoch 6/20\n",
      "62/62 [==============================] - 24s 390ms/step - loss: 1.5300 - accuracy: 0.5114 - val_loss: 1.7174 - val_accuracy: 0.5002\n",
      "Epoch 7/20\n",
      "62/62 [==============================] - 24s 394ms/step - loss: 1.4157 - accuracy: 0.5406 - val_loss: 1.6476 - val_accuracy: 0.5169\n",
      "Epoch 8/20\n",
      "62/62 [==============================] - 24s 390ms/step - loss: 1.3417 - accuracy: 0.5592 - val_loss: 1.5737 - val_accuracy: 0.5314\n",
      "Epoch 9/20\n",
      "62/62 [==============================] - 24s 388ms/step - loss: 1.2848 - accuracy: 0.5781 - val_loss: 1.5325 - val_accuracy: 0.5445\n",
      "Epoch 10/20\n",
      "62/62 [==============================] - 24s 394ms/step - loss: 1.2411 - accuracy: 0.5851 - val_loss: 1.5072 - val_accuracy: 0.5478\n",
      "Epoch 11/20\n",
      "62/62 [==============================] - 24s 391ms/step - loss: 1.1993 - accuracy: 0.5949 - val_loss: 1.4854 - val_accuracy: 0.5589\n",
      "Epoch 12/20\n",
      "62/62 [==============================] - 24s 391ms/step - loss: 1.1494 - accuracy: 0.6141 - val_loss: 1.3982 - val_accuracy: 0.5716\n",
      "Epoch 13/20\n",
      "62/62 [==============================] - 24s 388ms/step - loss: 1.0671 - accuracy: 0.6796 - val_loss: 1.3292 - val_accuracy: 0.6084\n",
      "Epoch 14/20\n",
      "62/62 [==============================] - 24s 393ms/step - loss: 0.9881 - accuracy: 0.7141 - val_loss: 1.2938 - val_accuracy: 0.6542\n",
      "Epoch 15/20\n",
      "62/62 [==============================] - 24s 392ms/step - loss: 0.9300 - accuracy: 0.7268 - val_loss: 1.2602 - val_accuracy: 0.6590\n",
      "Epoch 16/20\n",
      "62/62 [==============================] - 24s 394ms/step - loss: 0.8933 - accuracy: 0.7356 - val_loss: 1.2349 - val_accuracy: 0.6663\n",
      "Epoch 17/20\n",
      "62/62 [==============================] - 24s 389ms/step - loss: 0.8576 - accuracy: 0.7503 - val_loss: 1.2103 - val_accuracy: 0.6835\n",
      "Epoch 18/20\n",
      "62/62 [==============================] - 25s 398ms/step - loss: 0.7976 - accuracy: 0.7670 - val_loss: 1.1085 - val_accuracy: 0.7379\n",
      "Epoch 19/20\n",
      "62/62 [==============================] - 26s 414ms/step - loss: 0.6764 - accuracy: 0.8445 - val_loss: 1.0145 - val_accuracy: 0.7766\n",
      "Epoch 20/20\n",
      "62/62 [==============================] - 25s 402ms/step - loss: 0.5794 - accuracy: 0.8794 - val_loss: 0.9784 - val_accuracy: 0.7942\n"
     ]
    }
   ],
   "source": [
    "history_model2 = model2.fit(X_train, Y_train, validation_data=(X_val, Y_val), batch_size=best_model2_hyperparameters[\"batch_size\"], epochs=20, verbose=1)"
   ]
  },
  {
   "cell_type": "markdown",
   "metadata": {},
   "source": [
    "We plot the training and validation loss and accuracy."
   ]
  },
  {
   "cell_type": "code",
   "execution_count": 70,
   "metadata": {},
   "outputs": [
    {
     "data": {
      "image/png": "[encoded data removed]",
      "text/plain": [
       "<Figure size 640x480 with 1 Axes>"
      ]
     },
     "metadata": {},
     "output_type": "display_data"
    }
   ],
   "source": [
    "# plot results\n",
    "plt.plot(history_model2.history['accuracy'])\n",
    "plt.plot(history_model2.history['val_accuracy'])\n",
    "plt.title('Model accuracy')\n",
    "plt.ylabel('Accuracy')\n",
    "plt.xlabel('Epochs')\n",
    "plt.legend(['Train', 'Validation'], loc='upper left')\n",
    "plt.show()"
   ]
  },
  {
   "cell_type": "markdown",
   "metadata": {},
   "source": [
    "we save the model in order to experiment with different seeds."
   ]
  },
  {
   "cell_type": "code",
   "execution_count": 71,
   "metadata": {},
   "outputs": [
    {
     "name": "stderr",
     "output_type": "stream",
     "text": [
      "d:\\NLProject\\.venv\\lib\\site-packages\\keras\\src\\engine\\training.py:3079: UserWarning: You are saving your model as an HDF5 file via `model.save()`. This file format is considered legacy. We recommend using instead the native Keras format, e.g. `model.save('my_model.keras')`.\n",
      "  saving_api.save_model(\n"
     ]
    }
   ],
   "source": [
    "# save the model\n",
    "model2.save(f'model2_{seed}.h5')"
   ]
  },
  {
   "cell_type": "markdown",
   "metadata": {},
   "source": [
    "### Model 2 model evaluation:"
   ]
  },
  {
   "cell_type": "code",
   "execution_count": 72,
   "metadata": {},
   "outputs": [
    {
     "name": "stdout",
     "output_type": "stream",
     "text": [
      "Model 2\n",
      "62/62 [==============================] - 6s 97ms/step - loss: 0.5318 - accuracy: 0.8925\n",
      "Train accuracy: 0.8924779295921326\n",
      "40/40 [==============================] - 4s 97ms/step - loss: 0.9784 - accuracy: 0.7942\n",
      "Validation accuracy: 0.7941827178001404\n",
      "20/20 [==============================] - 2s 97ms/step - loss: 0.9059 - accuracy: 0.8051\n",
      "Test accuracy: 0.8050820231437683\n",
      "20/20 [==============================] - 2s 97ms/step\n",
      "Macro F1 score: 0.3829842914232792\n"
     ]
    }
   ],
   "source": [
    "# Evaluate the models\n",
    "print(\"Model 2\")\n",
    "print(\"Train accuracy: {}\".format(model2.evaluate(X_train, Y_train)[1]))\n",
    "print(\"Validation accuracy: {}\".format(model2.evaluate(X_val, Y_val)[1]))\n",
    "print(\"Test accuracy: {}\".format(model2.evaluate(X_test, Y_test)[1]))\n",
    "print(\"Macro F1 score: {}\".format(macro_f1(Y_test, model2.predict(X_test))))"
   ]
  },
  {
   "cell_type": "markdown",
   "metadata": {},
   "source": [
    "# Task 6: Error Analysis\n",
    "\n",
    "You are tasked to evaluate your best performing model."
   ]
  },
  {
   "cell_type": "markdown",
   "metadata": {},
   "source": [
    "### Instructions\n",
    "\n",
    "* Compare the errors made on the validation and test sets.\n",
    "* Aggregate model errors into categories (if possible) \n",
    "* Comment the about errors and propose possible solutions on how to address them."
   ]
  },
  {
   "cell_type": "markdown",
   "metadata": {},
   "source": [
    "We define a function to compute the F1-score for each tag."
   ]
  },
  {
   "cell_type": "code",
   "execution_count": 74,
   "metadata": {},
   "outputs": [],
   "source": [
    "def score_per_tag(y_true, y_pred):\n",
    "    scores = {}\n",
    "    y_true = np.argmax(y_true, axis=-1)\n",
    "    y_pred = np.argmax(y_pred, axis=-1)\n",
    "    y_true = y_true.flatten()\n",
    "    y_pred = y_pred.flatten()\n",
    "    temp = [] \n",
    "    temp_pred = []\n",
    "    for i in range(len(y_true)):\n",
    "        if y_true[i] not in punctuation_tags_idx and y_true[i] != 0: # if the tag is not a punctuation tag\n",
    "            temp.append(y_true[i])\n",
    "            temp_pred.append(y_pred[i])\n",
    "    tag_true = []\n",
    "    tag_pred = []\n",
    "    for el in tag2idx.keys():\n",
    "        tag_true = []\n",
    "        tag_pred = []\n",
    "        for i in range(len(temp)):\n",
    "            if temp[i] == tag2idx.get(el) and tag2idx.get(el) not in punctuation_tags_idx: # if the tag is not a punctuation tag\n",
    "                tag_true.append(temp[i])\n",
    "                tag_pred.append(temp_pred[i])\n",
    "        if len(tag_pred) != 0 and len(tag_true) != 0:\n",
    "            scores[el] = f1_score(tag_true, tag_pred, average='macro')\n",
    "    return scores"
   ]
  },
  {
   "cell_type": "markdown",
   "metadata": {},
   "source": [
    "This function is purely cosmetic and is used to plot the results in a nicer way."
   ]
  },
  {
   "cell_type": "code",
   "execution_count": 75,
   "metadata": {},
   "outputs": [],
   "source": [
    "def set_color(number_of_colors):\n",
    "    # return a random color to be used for the plot\n",
    "    color_list = []\n",
    "    for i in range(number_of_colors):\n",
    "        color_list.append(\"#\"+''.join([random.choice('0123456789ABCDEF') for j in range(6)]))\n",
    "    return color_list"
   ]
  },
  {
   "cell_type": "markdown",
   "metadata": {},
   "source": [
    "We comupute for each tag the F1-score but in order to plot it we need to get their tag names. We don't consider tags which have a score of 1 as we are interested only in the errors."
   ]
  },
  {
   "cell_type": "code",
   "execution_count": 96,
   "metadata": {},
   "outputs": [],
   "source": [
    "def get_scores_tag(scores):\n",
    "    # return a list of scores and a list of tags\n",
    "    scores_tags =  {tag2idx[key]: value for key, value in scores.items()}\n",
    "    scores_tags = {key: value for key, value in scores_tags.items() if value < 1.0}\n",
    "    scores_tags =  {idx2tag[key]: value for key, value in scores_tags.items()}\n",
    "    return scores_tags"
   ]
  },
  {
   "cell_type": "markdown",
   "metadata": {},
   "source": [
    "Here we define the different plots for test and validation sets."
   ]
  },
  {
   "cell_type": "code",
   "execution_count": 106,
   "metadata": {},
   "outputs": [
    {
     "name": "stdout",
     "output_type": "stream",
     "text": [
      "20/20 [==============================] - 7s 331ms/step\n",
      "40/40 [==============================] - 13s 332ms/step\n",
      "20/20 [==============================] - 12s 619ms/step\n",
      "40/40 [==============================] - 26s 640ms/step\n",
      "20/20 [==============================] - 2s 100ms/step\n",
      "40/40 [==============================] - 4s 102ms/step\n"
     ]
    },
    {
     "data": {
      "image/png": "[encoded data removed]",
      "text/plain": [
       "<Figure size 2000x1500 with 6 Axes>"
      ]
     },
     "metadata": {},
     "output_type": "display_data"
    }
   ],
   "source": [
    "# Baseline model\n",
    "baseline_test_pred = baseline.predict(X_test)\n",
    "baseline_val_pred = baseline.predict(X_val)\n",
    "scores_baseline_test = score_per_tag(Y_test, baseline_test_pred)\n",
    "scores_baseline_test_tags = get_scores_tag(scores_baseline_test)\n",
    "scores_baseline_val = score_per_tag(Y_val, baseline_val_pred)\n",
    "scores_baseline_val_tags = get_scores_tag(scores_baseline_val)\n",
    "\n",
    "# Model 1\n",
    "model1_test_pred = model1.predict(X_test)\n",
    "model1_val_pred = model1.predict(X_val)\n",
    "scores_model1_test = score_per_tag(Y_test, model1_test_pred)\n",
    "scores_model1_test_tags = get_scores_tag(scores_model1_test)\n",
    "scores_model1_val = score_per_tag(Y_val, model1_val_pred)\n",
    "scores_model1_val_tags = get_scores_tag(scores_model1_val)\n",
    "\n",
    "# Model 2\n",
    "model2_test_pred = model2.predict(X_test)\n",
    "model2_val_pred = model2.predict(X_val)\n",
    "scores_model2_test = score_per_tag(Y_test, model2_test_pred)\n",
    "scores_model2_test_tags = get_scores_tag(scores_model2_test)\n",
    "scores_model2_val = score_per_tag(Y_val, model2_val_pred)\n",
    "scores_model2_val_tags = get_scores_tag(scores_model2_val)\n",
    "\n",
    "# plot in a multifigure plot the scores of the models divided by test and validation\n",
    "fig, axs = plt.subplots(2, 3, figsize=(20, 15))\n",
    "fig.suptitle('Scores per tag')\n",
    "# Baseline\n",
    "axs[0, 0].bar(scores_baseline_test_tags.keys(), scores_baseline_test_tags.values(), color=set_color(len(scores_baseline_test_tags)))\n",
    "axs[0, 0].set_title('Baseline test')\n",
    "axs[1, 0].bar(scores_baseline_val_tags.keys(), scores_baseline_val_tags.values(), color=set_color(len(scores_baseline_val_tags)))\n",
    "axs[1, 0].set_title('Baseline val')\n",
    "# Model 1\n",
    "axs[0, 1].bar(scores_model1_test_tags.keys(), scores_model1_test_tags.values(), color=set_color(len(scores_model1_test_tags)))\n",
    "axs[0, 1].set_title('Model 1 test')\n",
    "axs[1, 1].bar(scores_model1_val_tags.keys(), scores_model1_val_tags.values(), color=set_color(len(scores_model1_val_tags)))\n",
    "axs[1, 1].set_title('Model 1 val')\n",
    "# Model 2\n",
    "axs[0, 2].bar(scores_model2_test_tags.keys(), scores_model2_test_tags.values(), color=set_color(len(scores_model2_test_tags)))\n",
    "axs[0, 2].set_title('Model 2 test')\n",
    "axs[1, 2].bar(scores_model2_val_tags.keys(), scores_model2_val_tags.values(), color=set_color(len(scores_model2_val_tags)))\n",
    "axs[1, 2].set_title('Model 2 val')\n",
    "for ax in axs.flat:\n",
    "    ax.set(xlabel='Tags', ylabel='Scores')\n",
    "    # Rotate tick labels and set their alignment.\n",
    "    plt.setp(ax.get_xticklabels(), rotation=90, ha=\"right\", rotation_mode=\"anchor\")\n",
    "    # Distance more x labels from each other\n",
    "    ax.xaxis.set_tick_params(pad=15)\n",
    "for ax in axs.flat:\n",
    "    ax.label_outer()\n",
    "plt.show()\n"
   ]
  },
  {
   "cell_type": "code",
   "execution_count": 107,
   "metadata": {},
   "outputs": [
    {
     "name": "stdout",
     "output_type": "stream",
     "text": [
      "Most difficult tag for the baseline model on test set: to\n",
      "Most difficult tag for the model 1 on test set: to\n",
      "Most difficult tag for the model 2 on test set: to\n",
      "Most difficult tag for the baseline model on validation set: ``\n",
      "Most difficult tag for the model 1 on validation set: ``\n",
      "Most difficult tag for the model 2 on validation set: to\n"
     ]
    }
   ],
   "source": [
    "# Most difficult tag for each model on test set\n",
    "print(\"Most difficult tag for the baseline model on test set: {}\".format(max(scores_baseline_test, key=scores_baseline_test.get)))\n",
    "print(\"Most difficult tag for the model 1 on test set: {}\".format(max(scores_model1_test, key=scores_model1_test.get)))\n",
    "print(\"Most difficult tag for the model 2 on test set: {}\".format(max(scores_model2_test, key=scores_model2_test.get)))\n",
    "\n",
    "# Most difficult tag for each model on validation set\n",
    "print(\"Most difficult tag for the baseline model on validation set: {}\".format(max(scores_baseline_val, key=scores_baseline_val.get)))\n",
    "print(\"Most difficult tag for the model 1 on validation set: {}\".format(max(scores_model1_val, key=scores_model1_val.get)))\n",
    "print(\"Most difficult tag for the model 2 on validation set: {}\".format(max(scores_model2_val, key=scores_model2_val.get)))"
   ]
  },
  {
   "cell_type": "markdown",
   "metadata": {},
   "source": [
    "Here we define the function to compute the confusion matrix. We use the sklearn confusion matrix function."
   ]
  },
  {
   "cell_type": "code",
   "execution_count": 108,
   "metadata": {},
   "outputs": [],
   "source": [
    "# Get confusion matrix for each model\n",
    "\n",
    "def get_confusion_matrix(y_true, y_pred):\n",
    "    y_true = np.argmax(y_true, axis=-1)\n",
    "    y_pred = np.argmax(y_pred, axis=-1)\n",
    "    y_true = y_true.flatten()\n",
    "    y_pred = y_pred.flatten()\n",
    "    temp = [] \n",
    "    temp_pred = []\n",
    "    for i in range(len(y_true)):\n",
    "        temp.append(y_true[i])\n",
    "        temp_pred.append(y_pred[i])\n",
    "    return confusion_matrix(temp, temp_pred)"
   ]
  },
  {
   "cell_type": "code",
   "execution_count": 109,
   "metadata": {},
   "outputs": [
    {
     "name": "stdout",
     "output_type": "stream",
     "text": [
      "Example Baseline confusion matrix on test set:\n",
      "[[   0    0    0    0    0]\n",
      " [   0 1914   72    1    5]\n",
      " [   0  137 1048    0    2]\n",
      " [   0    1    1 1560    5]\n",
      " [   0    3    0    4 1326]]\n",
      "Example Baseline confusion matrix on validation set:\n",
      "[[   0    0    0    0    0]\n",
      " [   0 3713  121    5    7]\n",
      " [   0  289 1966    5    2]\n",
      " [   0    0    3 3146   23]\n",
      " [   0    1    0    2 2744]]\n"
     ]
    }
   ],
   "source": [
    "# get confusion matrix for the baseline model\n",
    "baseline_confusion_matrix_test = get_confusion_matrix(Y_test, baseline_test_pred)\n",
    "baseline_confusion_matrix_val = get_confusion_matrix(Y_val, baseline_val_pred)\n",
    "print(\"Example Baseline confusion matrix on test set:\\n{}\".format(baseline_confusion_matrix_test[0:5, 0:5]))\n",
    "print(\"Example Baseline confusion matrix on validation set:\\n{}\".format(baseline_confusion_matrix_val[0:5, 0:5]))\n",
    "\n",
    "# get confusion matrix for model 1\n",
    "model1_confusion_matrix_test = get_confusion_matrix(Y_test, model1_test_pred)\n",
    "model1_confusion_matrix_val = get_confusion_matrix(Y_val, model1_val_pred)\n",
    "\n",
    "# get confusion matrix for model 2\n",
    "model2_confusion_matrix_test = get_confusion_matrix(Y_test, model2_test_pred)\n",
    "model2_confusion_matrix_val = get_confusion_matrix(Y_val, model2_val_pred)"
   ]
  },
  {
   "cell_type": "code",
   "execution_count": 111,
   "metadata": {},
   "outputs": [],
   "source": [
    "# get the most frequent tag from encoded tags\n",
    "\n",
    "def get_most_least_frequent_tag(encoded_tags):\n",
    "    temp = []\n",
    "    for sentence in encoded_tags:\n",
    "        for tag in sentence:\n",
    "            if tag not in punctuation_tags_idx and tag != 0:\n",
    "                temp.append(tag)\n",
    "    # get the most frequent tag\n",
    "    most_frequent_tag = Counter(temp).most_common(1)[0][0]\n",
    "    # get the least frequent tag\n",
    "    least_frequent_tag = Counter(temp).most_common()[-1][0]\n",
    "    return most_frequent_tag, least_frequent_tag"
   ]
  },
  {
   "cell_type": "code",
   "execution_count": 120,
   "metadata": {},
   "outputs": [
    {
     "name": "stdout",
     "output_type": "stream",
     "text": [
      "Baseline model on test set\n",
      "Most frequent tag: nn\n",
      "Least frequent tag: rbs\n",
      "Baseline model performance on the most frequent tag: 0.05939027228298813\n",
      "Baseline model performance on the least frequent tag: 0.0\n",
      "\n",
      "Baseline model on validation set\n",
      "Most frequent tag: nn\n",
      "Least frequent tag: uh\n",
      "2\n",
      "Baseline model performance on the most frequent tag: 0.04513736931680039\n",
      "Baseline model performance on the least frequent tag: 0.0\n"
     ]
    },
    {
     "ename": "KeyError",
     "evalue": "2",
     "output_type": "error",
     "traceback": [
      "\u001b[1;31m---------------------------------------------------------------------------\u001b[0m",
      "\u001b[1;31mKeyError\u001b[0m                                  Traceback (most recent call last)",
      "\u001b[1;32md:\\NLProject\\A1_v2.ipynb Cell 106\u001b[0m line \u001b[0;36m2\n\u001b[0;32m     <a href='vscode-notebook-cell:/d%3A/NLProject/A1_v2.ipynb#Y132sZmlsZQ%3D%3D?line=17'>18</a>\u001b[0m fig\u001b[39m.\u001b[39msuptitle(\u001b[39m'\u001b[39m\u001b[39mScores for the most frequent and least frequent tag\u001b[39m\u001b[39m'\u001b[39m)\n\u001b[0;32m     <a href='vscode-notebook-cell:/d%3A/NLProject/A1_v2.ipynb#Y132sZmlsZQ%3D%3D?line=18'>19</a>\u001b[0m \u001b[39m# Baseline\u001b[39;00m\n\u001b[1;32m---> <a href='vscode-notebook-cell:/d%3A/NLProject/A1_v2.ipynb#Y132sZmlsZQ%3D%3D?line=19'>20</a>\u001b[0m axs[\u001b[39m0\u001b[39m]\u001b[39m.\u001b[39mbar([\u001b[39m'\u001b[39m\u001b[39mMost frequent\u001b[39m\u001b[39m'\u001b[39m, \u001b[39m'\u001b[39m\u001b[39mLeast frequent\u001b[39m\u001b[39m'\u001b[39m], [scores_baseline_test[most_frequent_tag], scores_baseline_test[least_frequent_tag]], color\u001b[39m=\u001b[39m[\u001b[39m'\u001b[39m\u001b[39m#0000FF\u001b[39m\u001b[39m'\u001b[39m, \u001b[39m'\u001b[39m\u001b[39m#FF0000\u001b[39m\u001b[39m'\u001b[39m])\n\u001b[0;32m     <a href='vscode-notebook-cell:/d%3A/NLProject/A1_v2.ipynb#Y132sZmlsZQ%3D%3D?line=20'>21</a>\u001b[0m axs[\u001b[39m0\u001b[39m]\u001b[39m.\u001b[39mset_title(\u001b[39m'\u001b[39m\u001b[39mBaseline test\u001b[39m\u001b[39m'\u001b[39m)\n\u001b[0;32m     <a href='vscode-notebook-cell:/d%3A/NLProject/A1_v2.ipynb#Y132sZmlsZQ%3D%3D?line=21'>22</a>\u001b[0m axs[\u001b[39m1\u001b[39m]\u001b[39m.\u001b[39mbar([\u001b[39m'\u001b[39m\u001b[39mMost frequent\u001b[39m\u001b[39m'\u001b[39m, \u001b[39m'\u001b[39m\u001b[39mLeast frequent\u001b[39m\u001b[39m'\u001b[39m], [scores_baseline_val[idx2tag[most_frequent_tag]], scores_baseline_val[idx2tag[least_frequent_tag]]], color\u001b[39m=\u001b[39m[\u001b[39m'\u001b[39m\u001b[39m#0000FF\u001b[39m\u001b[39m'\u001b[39m, \u001b[39m'\u001b[39m\u001b[39m#FF0000\u001b[39m\u001b[39m'\u001b[39m])\n",
      "\u001b[1;31mKeyError\u001b[0m: 2"
     ]
    },
    {
     "data": {
      "image/png": "[encoded data removed]",
      "text/plain": [
       "<Figure size 2000x500 with 2 Axes>"
      ]
     },
     "metadata": {},
     "output_type": "display_data"
    }
   ],
   "source": [
    "# Baseline model performance on the most frequent tag and the least frequent tag in test set\n",
    "print(\"Baseline model on test set\")\n",
    "most_frequent_tag, least_frequent_tag = get_most_least_frequent_tag(encoded_test_tags)\n",
    "print(\"Most frequent tag: {}\".format(idx2tag[most_frequent_tag]))\n",
    "print(\"Least frequent tag: {}\".format(idx2tag[least_frequent_tag]))\n",
    "print(\"Baseline model performance on the most frequent tag: {}\".format(scores_baseline_test[idx2tag[most_frequent_tag]]))\n",
    "print(\"Baseline model performance on the least frequent tag: {}\".format(scores_baseline_test[idx2tag[least_frequent_tag]]))\n",
    "# Baseline model performance on the most frequent tag and the least frequent tag on validation set\n",
    "print(\"\\nBaseline model on validation set\")\n",
    "most_frequent_tag, least_frequent_tag = get_most_least_frequent_tag(encoded_val_tags)\n",
    "print(\"Most frequent tag: {}\".format(idx2tag[most_frequent_tag]))\n",
    "print(\"Least frequent tag: {}\".format(idx2tag[least_frequent_tag]))\n",
    "print(most_frequent_tag)\n",
    "print(\"Baseline model performance on the most frequent tag: {}\".format(scores_baseline_val[idx2tag[most_frequent_tag]]))\n",
    "print(\"Baseline model performance on the least frequent tag: {}\".format(scores_baseline_val[idx2tag[least_frequent_tag]]))\n",
    "# plot scores for the most frequent and least frequent tag for each baseline on test set and validation set\n",
    "fig, axs = plt.subplots(1, 2, figsize=(20, 5))\n",
    "fig.suptitle('Scores for the most frequent and least frequent tag')\n",
    "# Baseline\n",
    "axs[0].bar(['Most frequent', 'Least frequent'], [scores_baseline_test[idx2tag[most_frequent_tag]], scores_baseline_test[idx2tag[least_frequent_tag]]], color=['#0000FF', '#FF0000'])\n",
    "axs[0].set_title('Baseline test')\n",
    "axs[1].bar(['Most frequent', 'Least frequent'], [scores_baseline_val[idx2tag[most_frequent_tag]], scores_baseline_val[idx2tag[least_frequent_tag]]], color=['#0000FF', '#FF0000'])\n",
    "axs[1].set_title('Baseline val')\n",
    "for ax in axs.flat:\n",
    "    ax.set(xlabel='Tags', ylabel='Scores')\n",
    "    # Distance more x labels from each other\n",
    "    ax.xaxis.set_tick_params(pad=15)\n",
    "for ax in axs.flat:\n",
    "    ax.label_outer()\n",
    "plt.show()"
   ]
  },
  {
   "cell_type": "code",
   "execution_count": 102,
   "metadata": {},
   "outputs": [
    {
     "name": "stdout",
     "output_type": "stream",
     "text": [
      "20/20 [==============================] - 3s 170ms/step\n",
      "40/40 [==============================] - 7s 164ms/step\n"
     ]
    },
    {
     "data": {
      "image/png": "[encoded data removed]",
      "text/plain": [
       "<Figure size 640x480 with 2 Axes>"
      ]
     },
     "metadata": {},
     "output_type": "display_data"
    }
   ],
   "source": [
    "# Get precision/recall for the baseline model\n",
    "from sklearn.metrics import precision_score\n",
    "from sklearn.metrics import recall_score\n",
    "from sklearn.metrics import precision_recall_curve\n",
    "\n",
    "# plot precision-recall curve for the baseline model for test and validation set in a multifigure plot\n",
    "fig, (ax1, ax2) = plt.subplots(1, 2)\n",
    "fig.suptitle('Baseline model precision-recall curve')\n",
    "# test set\n",
    "precision_test = dict()\n",
    "recall_test = dict()\n",
    "precision_test[\"micro\"], recall_test[\"micro\"], _ = precision_recall_curve(Y_test.ravel(), baseline.predict(X_test).ravel())\n",
    "ax1.plot(recall_test[\"micro\"], precision_test[\"micro\"], color='blue', lw=2)\n",
    "ax1.set_xlabel('Recall')\n",
    "ax1.set_ylabel('Precision')\n",
    "ax1.set_title('Test set')\n",
    "# validation set\n",
    "precision_val = dict()\n",
    "recall_val = dict()\n",
    "precision_val[\"micro\"], recall_val[\"micro\"], _ = precision_recall_curve(Y_val.ravel(), baseline.predict(X_val).ravel())\n",
    "ax2.plot(recall_val[\"micro\"], precision_val[\"micro\"], color='blue', lw=2)\n",
    "ax2.set_xlabel('Recall')\n",
    "ax2.set_ylabel('Precision')\n",
    "ax2.set_title('Validation set')\n",
    "plt.show()\n"
   ]
  },
  {
   "cell_type": "code",
   "execution_count": 134,
   "metadata": {},
   "outputs": [
    {
     "name": "stdout",
     "output_type": "stream",
     "text": [
      "20/20 [==============================] - 3s 147ms/step\n",
      "         Word True tag Predicted tag\n",
      "0         [i]       in            rb\n",
      "1    [growth]      nnp            jj\n",
      "2    [before]      nnp           nns\n",
      "3  [interest]       cd            jj\n",
      "4   [earlier]       nn           vbn\n",
      "5       [pay]      nns            jj\n",
      "6     [firms]      nnp            jj\n",
      "7   [comment]      vbn           vbd\n",
      "8     [talks]      nnp            jj\n",
      "9     [total]       vb            jj\n"
     ]
    }
   ],
   "source": [
    "# get specific missclassified samples for the baseline model\n",
    "\n",
    "y_pred = baseline.predict(X_test)\n",
    "y_pred = np.argmax(y_pred, axis=-1)\n",
    "y_pred = y_pred.flatten()\n",
    "y_true = np.argmax(Y_test, axis=-1)\n",
    "y_true = y_true.flatten()\n",
    "\n",
    "temp = []\n",
    "for i in range(len(encoded_test_sentences)):\n",
    "    for elem in encoded_test_sentences[i]:\n",
    "        temp.append(elem)\n",
    "# get the index of the missclassified samples\n",
    "\n",
    "missclassified_samples = []\n",
    "for i in range(len(y_true)):\n",
    "    if y_true[i] != y_pred[i]:\n",
    "        if y_true[i] not in punctuation_tags_idx and y_true[i] != 0:\n",
    "            missclassified_samples.append(i)\n",
    " \n",
    "# create a table with the missclassified samples: word, true tag, predicted tag for the first 10 samples\n",
    "sample_dict = {}\n",
    "for i in range(10):\n",
    "    sample_dict[i] = [sentence_tokenizer.sequences_to_texts([missclassified_samples[i:i+1]]), idx2tag[y_true[missclassified_samples[i]]], idx2tag[y_pred[missclassified_samples[i]]]]\n",
    "\n",
    "# create a dataframe from the dictionary\n",
    "df = pd.DataFrame.from_dict(sample_dict, orient='index', columns=['Word', 'True tag', 'Predicted tag'])\n",
    "print(df)\n",
    "\n"
   ]
  },
  {
   "cell_type": "code",
   "execution_count": null,
   "metadata": {},
   "outputs": [],
   "source": [
    "# I print X_test as a sentence, decoded\n",
    "i = 0\n",
    "#print(test_sentences[i])\n",
    "#print(sentence_tokenizer.sequences_to_texts(X_test[i:i+1]))\n",
    "#print(test[150][0:30])\n",
    "print(\"Original sentence: \", test_sentences[0])\n",
    "print(\"Its label: \", test_tag_sentences[0])\n",
    "\n",
    "y_pred = model1.predict(X_test)\n",
    "y_pred = np.argmax(y_pred, axis=-1)\n",
    "n_sentences = y_pred.shape[0]"
   ]
  },
  {
   "cell_type": "code",
   "execution_count": 84,
   "metadata": {},
   "outputs": [
    {
     "name": "stdout",
     "output_type": "stream",
     "text": [
      "['inc  san antonio  texas  said it bought million shares  or about 18 %  of its common stock from an shareholder for $ a share  or $ 99 million ']\n",
      "['nns', 'vb', 'wdt', 'wdt', 'wdt', 'wdt', 'wdt', 'wdt', 'wdt', 'wdt', 'wdt', 'wdt', 'wdt', 'prp', 'prp', 'prp', 'prp', 'prp', 'prp', 'prp', 'prp', 'md', 'prp', 'prp', 'prp', 'prp', 'prp', 'rp', 'rp', 'rp', 'rp', 'rp', 'rp', 'rp', 'rp', 'rp', 'rp', 'rp', 'rp', 'rp']\n",
      "['nnp', 'nnp', 'nnp', ',', 'nnp', 'nnp', ',', 'nnp', ',', 'vbd', 'prp', 'vbd', 'cd', 'cd', 'nns', ',', 'cc', 'in', 'cd', 'nn', ',', 'in', 'prp$', 'jj', 'nn', 'in', 'dt', 'jj', 'nn', 'in', '$', 'cd', 'dt', 'nn', ',', 'cc', '$', 'cd', 'cd', '.']\n",
      "\n",
      "['the move boosts chairman s stake to 20 % from % and may help prevent martin from making a run at the concern ']\n",
      "['ex', 'ex', 'vbz', 'wdt', 'wdt', 'wdt', 'wdt', 'wdt', 'prp', 'prp', 'prp', 'prp', 'prp', 'prp', 'rp', 'rp', 'cd', 'cd', 'cd', 'cd', 'cd', 'cd', 'cd', 'cd', 'cd', 'rp', '#', 'rp', 'rp', 'rp']\n",
      "['dt', 'nn', 'vbz', 'nnp', 'nnp', 'nnp', 'nnp', 'pos', 'nn', 'to', 'cd', 'nn', 'in', 'cd', 'nn', 'cc', 'md', 'vb', 'vb', 'nnp', 'nnp', 'in', 'vbg', 'dt', 'nn', 'in', 'dt', 'nns', 'nn', '.']\n",
      "\n",
      "['mr already is seeking to mr as chairman of corp  an affiliate ']\n",
      "['pos', 'vbz', 'vbz', 'vbz', 'vbz', 'vbz', 'vbz', 'vbz', 'vbz', 'wdt', 'wdt', 'rp', 'wdt', 'rp', 'rp', 'rp', 'rp', 'rp', 'rp']\n",
      "['nnp', 'nnp', 'rb', 'vbz', 'vbg', 'to', 'vb', 'nnp', 'nnp', 'in', 'nn', 'in', 'nnp', 'nnp', ',', 'dt', 'nnp', 'nn', '.']\n",
      "\n",
      "['the action followed by one day an announcement that it will retain an investment banker to alternatives `` to shareholder value   including the possible sale of the company ']\n",
      "['prp', 'wp$', 'prp', 'prp', 'cd', 'cd', 'prp', 'prp', 'prp', 'prp', 'prp', 'prp', 'prp', 'vbz', 'vbz', 'vbz', 'vbz', 'vbz', 'cd', 'cd', 'prp', 'prp', 'prp', 'prp', 'prp', 'prp', 'prp', 'prp', 'prp', 'prp', 'prp', 'prp', 'prp', '#']\n",
      "['dt', 'nn', 'vbn', 'in', 'cd', 'nn', 'dt', 'nnp', 'nn', 'in', 'prp', 'md', 'vb', 'dt', 'nn', 'nn', 'to', 'vb', 'nns', '``', 'to', 'vb', 'nn', 'nn', ',', \"''\", 'vbg', 'dt', 'jj', 'nn', 'in', 'dt', 'nn', '.']\n",
      "\n",
      "['in new york stock exchange composite trading yesterday  shares rose 375 cents to close at $ ']\n",
      "['prp', 'prp', 'prp', 'prp', 'prp', 'prp', 'prp', 'prp', 'prp', 'prp', 'prp', 'prp', 'rp', 'rp', 'rp', 'rp', 'rp', 'rp', 'rp', 'rp']\n",
      "['in', 'nnp', 'nnp', 'nnp', 'nnp', 'jj', 'nn', 'nn', ',', 'nnp', 'nns', 'vbd', 'cd', 'nns', 'to', 'vb', 'in', '$', 'cd', '.']\n",
      "\n",
      "['mr declined to what prompted the recent moves  saying they are meant only to shareholders when `` the company is on a roll ']\n",
      "['cd', 'cd', 'cd', 'cd', 'cd', 'cd', 'cd', 'wp$', 'wp$', 'wp$', 'wp$', 'wp$', 'wp$', 'wp$', '#', '#', '#', 'prp', 'prp', '#', 'prp', 'prp', 'prp', 'prp', '#', '#', '#', '#']\n",
      "['nnp', 'nnp', 'vbd', 'to', 'vb', 'wp', 'vbd', 'dt', 'jj', 'nns', ',', 'vbg', 'prp', 'vbp', 'vbn', 'rb', 'to', 'vb', 'nns', 'wrb', '``', 'dt', 'nn', 'vbz', 'in', 'dt', 'nn', '.']\n",
      "\n",
      "[' he added  `` this has nothing to do with marty and it is not designed  particularly  to take the company private ']\n",
      "['cd', 'wp$', 'wp$', 'wp$', 'wp$', 'wp$', 'wp$', 'wp$', 'wp$', 'cd', 'cd', 'cd', 'cd', 'cd', 'cd', 'cd', 'cd', 'cd', 'cd', 'cd', 'cd', 'cd', 'prp', '#', 'prp', 'rp', '#']\n",
      "[\"''\", 'prp', 'vbd', ',', '``', 'dt', 'vbz', 'nn', 'to', 'vb', 'in', 'nnp', 'nnp', 'cc', 'prp', 'vbz', 'rb', 'vbn', ',', 'rb', ',', 'to', 'vb', 'dt', 'nn', 'jj', '.']\n",
      "\n",
      "[' but mr said the buyback  and the price paid  prove that mr is running scared ']\n",
      "['``', 'cd', 'cd', 'cd', 'cd', 'cd', 'cd', 'cd', 'cd', 'cd', 'cd', 'cd', 'vbz', 'vbz', 'vbz', 'vbz', 'vbz', 'vbz', 'prp', 'prp', 'prp', 'prp']\n",
      "[\"''\", 'cc', 'nnp', 'nnp', 'vbd', 'dt', 'nn', ',', 'cc', 'dt', 'jj', 'nn', 'vbn', ',', 'vbp', 'in', 'nnp', 'nnp', 'vbz', 'vbg', 'jj', '.']\n",
      "\n",
      "['dow jones & co said it extended its $ offer for inc common stock until 5 nov 9 ']\n",
      "['prp', 'prp', 'prp', 'prp', 'prp', 'prp', 'prp', 'prp', 'prp', 'prp', 'prp', 'prp', 'prp', 'prp', 'prp', 'prp', 'prp', 'prp', 'prp', 'prp', 'prp', 'rp', 'rp']\n",
      "['nnp', 'nnp', 'cc', 'nnp', 'vbd', 'prp', 'vbd', 'prp$', '$', 'jj', 'nn', 'in', 'nnp', 'nnp', 'jj', 'nn', 'in', 'cd', 'nn', 'nnp', 'nnp', 'cd', '.']\n",
      "\n",
      "['the offer  valued at about $ million for the 33 % of that dow jones does nt already own  had been set to expire nov 6 ']\n",
      "['nns', 'vbp', 'uh', 'vbp', 'wdt', 'wdt', 'wdt', 'wdt', 'rp', 'prp', 'prp', 'prp', 'prp', 'prp', 'prp', 'prp', 'cd', 'cd', 'cd', 'prp', 'prp', 'prp', 'prp', 'prp', 'prp', 'prp', 'prp', 'prp', 'prp', 'prp', 'prp']\n",
      "['dt', 'nn', ',', 'vbn', 'in', 'in', '$', 'cd', 'cd', 'in', 'dt', 'cd', 'nn', 'in', 'nnp', 'in', 'nnp', 'nnp', 'vbz', 'rb', 'rb', 'vbn', ',', 'vbd', 'vbn', 'vbn', 'to', 'vb', 'nnp', 'cd', '.']\n",
      "\n",
      "['dow jones  which owns about 64 million of s million common shares outstanding  said that about shares have been under its offer ']\n",
      "['prp', 'vb', 'vb', 'wdt', 'wdt', 'wdt', 'wdt', 'wdt', 'prp', 'prp', 'prp', 'prp', 'rp', 'rp', 'rp', 'rp', 'rp', 'rp', 'rp', 'rp', 'rp', 'rp', 'rp', 'rp', 'rp', 'rp', 'rp', 'rp', 'rp']\n",
      "['nnp', 'nnp', ',', 'wdt', 'vbz', 'in', 'cd', 'cd', 'in', 'nnp', 'pos', 'cd', 'cd', 'jj', 'nns', 'jj', ',', 'vbd', 'in', 'in', 'cd', 'nns', 'vbp', 'vbn', 'vbn', 'in', 'prp$', 'nn', '.']\n",
      "\n",
      "['s two independent directors have rejected the offer as inadequate ']\n",
      "['cd', 'wp$', 'wp$', 'wp$', 'wp$', 'wp$', 'wp$', 'rp', 'rp', 'rp', 'rp', '#']\n",
      "['nnp', 'pos', 'cd', 'jj', 'nns', 'vbp', 'vbn', 'dt', 'nn', 'in', 'jj', '.']\n",
      "\n",
      "['in composite trading on the new york stock exchange  shares closed at $  up 125 cents ']\n",
      "['prp', 'prp', 'prp', 'prp', 'prp', 'prp', 'prp', 'prp', 'prp', 'prp', 'prp', 'prp', 'prp', 'wdt', 'wdt', 'rp', 'rp', 'rp', 'rp', 'rp', 'rp']\n",
      "['in', 'jj', 'nn', 'in', 'dt', 'nnp', 'nnp', 'nnp', 'nnp', ',', 'nnp', 'nns', 'vbd', 'in', '$', 'cd', ',', 'rb', 'cd', 'nns', '.']\n",
      "\n",
      "['provides an electronic financial information network ']\n",
      "[\"''\", 'nnp', 'nnp', 'nnp', 'nnp', 'nnp', 'rp', 'rp']\n",
      "['nnp', 'vbz', 'dt', 'jj', 'jj', 'nn', 'nn', '.']\n",
      "\n",
      "['dow jones publishes the wall street journal  s magazine  and community newspapers and operates financial news services and computer data bases ']\n",
      "['prp', 'prp', 'cd', 'cd', 'cd', 'prp', 'cd', 'cd', 'prp', 'prp', 'prp', 'prp', 'prp', 'prp', 'prp', 'prp', 'prp', 'prp', 'prp', 'prp', 'prp', 'prp', 'rp', 'rp', 'rp']\n",
      "['nnp', 'nnp', 'vbz', 'nnp', 'nnp', 'nnp', 'nnp', ',', 'nnp', 'pos', 'nn', ',', 'cc', 'nn', 'nns', 'cc', 'vbz', 'jj', 'nn', 'nns', 'cc', 'nn', 'nns', 'nns', '.']\n",
      "\n",
      "['rockwell international corp reported flat operating earnings for the fourth quarter ended sept 30 ']\n",
      "['prp', 'prp', 'prp', 'prp', 'prp', 'prp', 'prp', 'prp', 'prp', 'prp', 'prp', 'prp', 'prp', 'prp', 'rp']\n",
      "['nnp', 'nnp', 'nnp', 'vbd', 'jj', 'nn', 'nns', 'in', 'dt', 'jj', 'nn', 'vbd', 'nnp', 'cd', '.']\n",
      "\n",
      "['the aerospace  automotive supply  electronics and concern also indicated that the first half of fiscal 1990 could be rough ']\n",
      "['prp', 'prp', 'cd', 'cd', 'cd', 'cd', 'cd', 'cd', 'cd', 'cd', 'cd', 'cd', 'cd', 'wp$', 'wp$', 'wp$', '#', '#', '#', '#', '#', '#', '#']\n",
      "['dt', 'nn', ',', 'jj', 'nn', ',', 'nns', 'cc', 'nn', 'nn', 'rb', 'vbd', 'in', 'dt', 'jj', 'dt', 'in', 'jj', 'cd', 'md', 'vb', 'jj', '.']\n",
      "\n",
      "['in an interview  donald  chairman  said profit certainly would the past year s  primarily because of weakness in the and markets ']\n",
      "['cd', 'cd', 'cd', 'cd', 'cd', 'cd', 'cd', 'cd', 'cd', 'cd', 'cd', 'cd', 'cd', 'ex', 'cd', 'cd', 'wp$', 'wp$', 'wp$', 'wp$', '#', '#', '#', '#', '#', '#', 'prp', 'prp', 'prp', 'prp', '#']\n",
      "['in', 'dt', 'nn', ',', 'nnp', 'nnp', ',', 'nn', ',', 'vbd', 'jj', 'nn', 'rb', 'md', 'vb', 'dt', 'jj', 'nn', 'pos', ',', 'rb', 'in', 'in', 'nn', 'in', 'dt', 'nn', 'cc', 'nn', 'nns', '.']\n",
      "\n",
      "['still  he added  if the industrial sector remains relatively stable  rockwell should be able to in the second half and about equal fiscal 1989 s operating profit of $ million ']\n",
      "['cd', 'cd', 'cd', 'cd', 'cd', 'cd', 'cd', 'cd', 'prp', 'prp', 'prp', 'prp', 'prp', 'cd', 'cd', 'prp', 'nns', 'prp', 'prp', 'prp', 'prp', 'prp', 'prp', 'md', 'md', 'md', 'md', 'md', 'prp', 'prp', 'prp', 'prp', 'rp', 'rp', 'rp', 'rp']\n",
      "['rb', ',', 'prp', 'vbd', ',', 'in', 'dt', 'jj', 'nn', 'vbz', 'rb', 'jj', ',', 'nnp', 'md', 'vb', 'jj', 'to', 'vb', 'in', 'dt', 'jj', 'dt', 'cc', 'in', 'jj', 'jj', 'cd', 'pos', 'nn', 'nn', 'in', '$', 'cd', 'cd', '.']\n",
      "\n",
      "['for fiscal 1989 s fourth quarter  rockwell s net income totaled $ million  or 50 cents a share ']\n",
      "['jjs', 'jjs', 'prp', 'prp', 'prp', 'prp', 'prp', 'prp', 'prp', 'prp', 'prp', 'prp', 'prp', 'prp', 'prp', 'prp', 'prp', 'prp', 'rp', 'rp', 'rp', 'rp']\n",
      "['in', 'jj', 'cd', 'pos', 'jj', 'nn', ',', 'nnp', 'pos', 'jj', 'nn', 'vbd', '$', 'cd', 'cd', ',', 'cc', 'cd', 'nns', 'dt', 'nn', '.']\n",
      "\n"
     ]
    }
   ],
   "source": [
    "#for i in range(n_sentences):\n",
    "for i in range(20):\n",
    "    sentence = str(sentence_tokenizer.sequences_to_texts(X_test[i:i+1])[0])\n",
    "    sentence = sentence.replace('<UNK> ', '')\n",
    "    for el in punctuation_tags:\n",
    "        sentence = sentence.replace(el, '')\n",
    "    print([sentence])\n",
    "    print([idx2tag[idx] for idx in y_pred[i] if idx != 0])\n",
    "    print([idx2tag[idx] for idx in np.argmax(Y_test[i], axis=-1) if idx != 0])\n",
    "    print(\"\")"
   ]
  }
 ],
 "metadata": {
  "kernelspec": {
   "display_name": ".venv",
   "language": "python",
   "name": "python3"
  },
  "language_info": {
   "codemirror_mode": {
    "name": "ipython",
    "version": 3
   },
   "file_extension": ".py",
   "mimetype": "text/x-python",
   "name": "python",
   "nbconvert_exporter": "python",
   "pygments_lexer": "ipython3",
   "version": "3.8.5"
  }
 },
 "nbformat": 4,
 "nbformat_minor": 2
}
