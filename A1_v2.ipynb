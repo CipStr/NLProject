{
 "cells": [
  {
   "cell_type": "code",
   "execution_count": 35,
   "metadata": {},
   "outputs": [
    {
     "name": "stdout",
     "output_type": "stream",
     "text": [
      "Collecting scikit-learn\n",
      "  Downloading scikit_learn-1.3.2-cp310-cp310-win_amd64.whl.metadata (11 kB)\n",
      "Requirement already satisfied: numpy<2.0,>=1.17.3 in d:\\nlproject\\.venv\\lib\\site-packages (from scikit-learn) (1.26.1)\n",
      "Requirement already satisfied: scipy>=1.5.0 in d:\\nlproject\\.venv\\lib\\site-packages (from scikit-learn) (1.11.3)\n",
      "Collecting joblib>=1.1.1 (from scikit-learn)\n",
      "  Downloading joblib-1.3.2-py3-none-any.whl.metadata (5.4 kB)\n",
      "Collecting threadpoolctl>=2.0.0 (from scikit-learn)\n",
      "  Downloading threadpoolctl-3.2.0-py3-none-any.whl.metadata (10.0 kB)\n",
      "Downloading scikit_learn-1.3.2-cp310-cp310-win_amd64.whl (9.3 MB)\n",
      "   ---------------------------------------- 0.0/9.3 MB ? eta -:--:--\n",
      "   - -------------------------------------- 0.2/9.3 MB 7.3 MB/s eta 0:00:02\n",
      "   -- ------------------------------------- 0.6/9.3 MB 7.2 MB/s eta 0:00:02\n",
      "   --- ------------------------------------ 0.9/9.3 MB 7.1 MB/s eta 0:00:02\n",
      "   ----- ---------------------------------- 1.2/9.3 MB 7.1 MB/s eta 0:00:02\n",
      "   ------ --------------------------------- 1.6/9.3 MB 7.2 MB/s eta 0:00:02\n",
      "   -------- ------------------------------- 1.9/9.3 MB 7.2 MB/s eta 0:00:02\n",
      "   --------- ------------------------------ 2.2/9.3 MB 7.2 MB/s eta 0:00:01\n",
      "   ----------- ---------------------------- 2.6/9.3 MB 7.1 MB/s eta 0:00:01\n",
      "   ------------ --------------------------- 2.9/9.3 MB 7.1 MB/s eta 0:00:01\n",
      "   -------------- ------------------------- 3.3/9.3 MB 7.2 MB/s eta 0:00:01\n",
      "   --------------- ------------------------ 3.6/9.3 MB 7.0 MB/s eta 0:00:01\n",
      "   ---------------- ----------------------- 3.9/9.3 MB 7.0 MB/s eta 0:00:01\n",
      "   ------------------ --------------------- 4.3/9.3 MB 7.0 MB/s eta 0:00:01\n",
      "   ------------------- -------------------- 4.6/9.3 MB 7.0 MB/s eta 0:00:01\n",
      "   --------------------- ------------------ 4.9/9.3 MB 7.0 MB/s eta 0:00:01\n",
      "   ---------------------- ----------------- 5.3/9.3 MB 7.0 MB/s eta 0:00:01\n",
      "   ------------------------ --------------- 5.6/9.3 MB 7.0 MB/s eta 0:00:01\n",
      "   ------------------------- -------------- 5.9/9.3 MB 7.0 MB/s eta 0:00:01\n",
      "   -------------------------- ------------- 6.2/9.3 MB 7.0 MB/s eta 0:00:01\n",
      "   ---------------------------- ----------- 6.6/9.3 MB 7.0 MB/s eta 0:00:01\n",
      "   ----------------------------- ---------- 6.9/9.3 MB 7.0 MB/s eta 0:00:01\n",
      "   ------------------------------- -------- 7.3/9.3 MB 7.0 MB/s eta 0:00:01\n",
      "   -------------------------------- ------- 7.6/9.3 MB 7.0 MB/s eta 0:00:01\n",
      "   ---------------------------------- ----- 7.9/9.3 MB 7.0 MB/s eta 0:00:01\n",
      "   ----------------------------------- ---- 8.3/9.3 MB 7.0 MB/s eta 0:00:01\n",
      "   ------------------------------------- -- 8.6/9.3 MB 7.0 MB/s eta 0:00:01\n",
      "   -------------------------------------- - 8.9/9.3 MB 7.0 MB/s eta 0:00:01\n",
      "   ---------------------------------------  9.2/9.3 MB 7.0 MB/s eta 0:00:01\n",
      "   ---------------------------------------- 9.3/9.3 MB 6.9 MB/s eta 0:00:00\n",
      "Downloading joblib-1.3.2-py3-none-any.whl (302 kB)\n",
      "   ---------------------------------------- 0.0/302.2 kB ? eta -:--:--\n",
      "   ---------------------------------------  297.0/302.2 kB 6.1 MB/s eta 0:00:01\n",
      "   ---------------------------------------- 302.2/302.2 kB 6.2 MB/s eta 0:00:00\n",
      "Downloading threadpoolctl-3.2.0-py3-none-any.whl (15 kB)\n",
      "Installing collected packages: threadpoolctl, joblib, scikit-learn\n",
      "Successfully installed joblib-1.3.2 scikit-learn-1.3.2 threadpoolctl-3.2.0\n"
     ]
    }
   ],
   "source": [
    "# !pip install pandas \n",
    "# !pip install numpy\n",
    "# !pip install matplotlib\n",
    "# !pip install tqdm\n",
    "# !pip install seaborn\n",
    "# !pip install tensorflow\n",
    "# !pip install keras\n",
    "!pip install scikit-learn"
   ]
  },
  {
   "cell_type": "code",
   "execution_count": 1,
   "metadata": {},
   "outputs": [],
   "source": [
    "import pandas as pd \n",
    "import numpy as np\n",
    "import matplotlib.pyplot as plt\n",
    "import urllib.request\n",
    "import zipfile\n",
    "import os\n",
    "from tqdm import tqdm\n",
    "import copy\n",
    "import seaborn as sns\n",
    "import sklearn"
   ]
  },
  {
   "cell_type": "code",
   "execution_count": 2,
   "metadata": {},
   "outputs": [
    {
     "name": "stderr",
     "output_type": "stream",
     "text": [
      "100%|██████████| 199/199 [00:01<00:00, 113.21it/s]"
     ]
    },
    {
     "name": "stdout",
     "output_type": "stream",
     "text": [
      "                                          Dataframes\n",
      "0              word   pos\n",
      "0         Pierre   NNP\n",
      "...\n",
      "1              word  pos\n",
      "0        Rudolph  NNP\n",
      "1 ...\n",
      "2           word   pos\n",
      "0           A    DT\n",
      "1     ...\n",
      "3               word  pos\n",
      "0          Yields  NNS\n",
      "...\n",
      "4                 word   pos\n",
      "0              J.P. ...\n",
      "     word  pos\n",
      "0  Pierre  NNP\n",
      "1  Vinken  NNP\n",
      "2       ,    ,\n",
      "3      61   CD\n",
      "4   years  NNS\n",
      "(199, 1)\n"
     ]
    },
    {
     "name": "stderr",
     "output_type": "stream",
     "text": [
      "\n"
     ]
    }
   ],
   "source": [
    "# Create documents dataframe\n",
    "dp_docs = [file for file in os.listdir('dependency_treebank/') if file.endswith('.dp')]\n",
    "dataframes = []\n",
    "\n",
    "for file in tqdm(dp_docs):\n",
    "    with open('dependency_treebank/' + file, 'r') as f:\n",
    "        lines = f.readlines()\n",
    "        data = [line.split('\\t') for line in lines]\n",
    "        df = pd.DataFrame(data, columns=['word', 'pos', 'head'])\n",
    "        # drop the last column\n",
    "        df = df.iloc[:, :-1]\n",
    "        dataframes.append(df)\n",
    "\n",
    "df = pd.DataFrame({'Dataframes': dataframes})\n",
    "print(df.head(5))\n",
    "print(df['Dataframes'][0][0:5])\n",
    "print(df.shape)"
   ]
  },
  {
   "cell_type": "code",
   "execution_count": 3,
   "metadata": {},
   "outputs": [
    {
     "name": "stdout",
     "output_type": "stream",
     "text": [
      "(100,)\n",
      "(50,)\n",
      "(49,)\n"
     ]
    }
   ],
   "source": [
    "# Split the dataframes into train, validation and test sets\n",
    "train = df['Dataframes'][0:100]\n",
    "val = df['Dataframes'][100:150]\n",
    "test = df['Dataframes'][150:200]\n",
    "\n",
    "print(train.shape)\n",
    "print(val.shape)\n",
    "print(test.shape)"
   ]
  },
  {
   "cell_type": "code",
   "execution_count": 4,
   "metadata": {},
   "outputs": [
    {
     "name": "stdout",
     "output_type": "stream",
     "text": [
      "     word  pos\n",
      "0  pierre  NNP\n",
      "1  vinken  NNP\n",
      "2       ,    ,\n",
      "3      61   CD\n",
      "4   years  NNS\n"
     ]
    }
   ],
   "source": [
    "# Text preprocessing\n",
    "def to_lower_case(df, docs):\n",
    "    for i in range(docs, docs + len(df)):\n",
    "        df[i]['word'] = df[i]['word'].str.lower()\n",
    "\n",
    "to_lower_case(train, 0)\n",
    "to_lower_case(val, 100)\n",
    "to_lower_case(test, 150)\n",
    "print(train[0][0:5])"
   ]
  },
  {
   "cell_type": "code",
   "execution_count": 5,
   "metadata": {},
   "outputs": [
    {
     "name": "stdout",
     "output_type": "stream",
     "text": [
      "32\n",
      "            word  pos\n",
      "0         pierre  NNP\n",
      "1         vinken  NNP\n",
      "2              ,    ,\n",
      "3             61   CD\n",
      "4          years  NNS\n",
      "5            old   JJ\n",
      "6              ,    ,\n",
      "7           will   MD\n",
      "8           join   VB\n",
      "9            the   DT\n",
      "10         board   NN\n",
      "11            as   IN\n",
      "12             a   DT\n",
      "13  nonexecutive   JJ\n",
      "14      director   NN\n",
      "15          nov.  NNP\n",
      "16            29   CD\n",
      "17             .    .\n",
      "19           mr.  NNP\n",
      "20        vinken  NNP\n",
      "21            is  VBZ\n",
      "22      chairman   NN\n",
      "23            of   IN\n",
      "24      elsevier  NNP\n",
      "25          n.v.  NNP\n",
      "26             ,    ,\n",
      "27           the   DT\n",
      "28         dutch  NNP\n",
      "29    publishing  VBG\n",
      "30         group   NN\n",
      "31             .    .\n",
      "31\n",
      "827\n",
      "220\n"
     ]
    }
   ],
   "source": [
    "# Text preprocessing: from each doc remove newlines and empty lines\n",
    "def remove_newlines(df, docs):\n",
    "    for i in range(docs, docs + len(df)):\n",
    "        df[i] = df[i][df[i]['word'] != '\\n']\n",
    "        df[i] = df[i][df[i]['word'] != '']\n",
    "\n",
    "print(len(train[0]))\n",
    "remove_newlines(train, 0)\n",
    "remove_newlines(val, 100)\n",
    "remove_newlines(test, 150)\n",
    "print(train[0])\n",
    "print(len(train[0]))\n",
    "print(len(val[100]))\n",
    "print(len(test[150]))"
   ]
  },
  {
   "cell_type": "code",
   "execution_count": 6,
   "metadata": {},
   "outputs": [
    {
     "name": "stdout",
     "output_type": "stream",
     "text": [
      "1959\n",
      "1277\n",
      "638\n"
     ]
    }
   ],
   "source": [
    "# Create new dataframe that contains the single sentences\n",
    "def create_sentences(df, docs):\n",
    "    sentences = []\n",
    "    chunks = []\n",
    "    for i in range(docs, docs + len(df)):\n",
    "        for element in df[i]['word']:\n",
    "            if element != '.' and element != '!' and element != '?':\n",
    "                chunks.append(element)\n",
    "            else:\n",
    "                chunks.append(element)\n",
    "                sentences.append(chunks)\n",
    "                chunks = []\n",
    "    return sentences\n",
    "\n",
    "# Create sentences for train, val and test\n",
    "train_sentences = create_sentences(train, 0)\n",
    "val_sentences = create_sentences(val, 100)\n",
    "test_sentences = create_sentences(test, 150)\n",
    "print(len(train_sentences))\n",
    "print(len(val_sentences))\n",
    "print(len(test_sentences))"
   ]
  },
  {
   "cell_type": "code",
   "execution_count": 7,
   "metadata": {},
   "outputs": [
    {
     "name": "stdout",
     "output_type": "stream",
     "text": [
      "1959\n",
      "1277\n",
      "638\n"
     ]
    }
   ],
   "source": [
    "def create_tag_sentences(df, docs):\n",
    "    tag_sentences = []\n",
    "    chunks = []\n",
    "    for i in range(docs, docs + len(df)):\n",
    "        for element in df[i]['pos']:\n",
    "            if element != '.' and element != '!' and element != '?':\n",
    "                chunks.append(element)\n",
    "            else:\n",
    "                chunks.append(element)\n",
    "                tag_sentences.append(chunks)\n",
    "                chunks = []\n",
    "    return tag_sentences\n",
    "\n",
    "# Create tag sentences for train, val and test\n",
    "train_tag_sentences = create_tag_sentences(train, 0)\n",
    "val_tag_sentences = create_tag_sentences(val, 100)\n",
    "test_tag_sentences = create_tag_sentences(test, 150)\n",
    "print(len(train_tag_sentences))\n",
    "print(len(val_tag_sentences))\n",
    "print(len(test_tag_sentences))\n"
   ]
  },
  {
   "cell_type": "code",
   "execution_count": 8,
   "metadata": {},
   "outputs": [
    {
     "name": "stdout",
     "output_type": "stream",
     "text": [
      "18\n",
      "18\n"
     ]
    }
   ],
   "source": [
    "print(len(train_sentences[0]))\n",
    "print(len(train_tag_sentences[0]))"
   ]
  },
  {
   "cell_type": "code",
   "execution_count": 10,
   "metadata": {},
   "outputs": [
    {
     "name": "stdout",
     "output_type": "stream",
     "text": [
      "OOV token: <UNK>\n",
      "OOV index: 1\n",
      "Vocabulary size: 7405\n",
      "[3427, 2309, 2, 1744, 65, 343, 2, 41, 1371, 3, 192, 24, 7, 1120, 270, 708, 2310, 4]\n",
      "[7, 1, 1033, 839, 298, 1, 5, 7, 1112, 10, 49, 55, 15, 392, 44, 8, 186, 1888, 10, 4437, 12, 1, 2348, 19, 15, 1, 44, 8, 508, 9, 1094, 1, 8, 1669, 260, 8, 1447, 5, 1, 576, 128, 9, 144, 4]\n",
      "[1, 1, 99, 2, 1349, 5229, 2, 753, 2, 17, 18, 1238, 1, 44, 140, 2, 45, 43, 560, 38, 2, 5, 30, 168, 85, 35, 34, 1, 1031, 10, 15, 1, 7, 123, 2, 45, 15, 6185, 44, 4]\n"
     ]
    }
   ],
   "source": [
    "# Encode train sentences and tags\n",
    "from keras.preprocessing.text import Tokenizer\n",
    "from keras.preprocessing.sequence import pad_sequences\n",
    "\n",
    "sentence_tokenizer = Tokenizer(oov_token='<UNK>')\n",
    "sentence_tokenizer.fit_on_texts(train_sentences)\n",
    "encoded_train_sentences = sentence_tokenizer.texts_to_sequences(train_sentences)\n",
    "encoded_val_sentences = sentence_tokenizer.texts_to_sequences(val_sentences)\n",
    "encoded_test_sentences = sentence_tokenizer.texts_to_sequences(test_sentences)\n",
    "\n",
    "print(f'OOV token: {sentence_tokenizer.oov_token}')\n",
    "print(f'OOV index: {sentence_tokenizer.word_index[sentence_tokenizer.oov_token]}')\n",
    "print(f'Vocabulary size: {len(sentence_tokenizer.word_index)}')\n",
    "print(encoded_train_sentences[0])\n",
    "print(encoded_val_sentences[0])\n",
    "print(encoded_test_sentences[0])"
   ]
  },
  {
   "cell_type": "code",
   "execution_count": 11,
   "metadata": {},
   "outputs": [
    {
     "name": "stdout",
     "output_type": "stream",
     "text": [
      "[1746, 3430, 2, 959, 65, 343, 9, 497, 166, 5, 2311, 1121, 553, 1747, 2, 25, 448, 7, 1120, 270, 5, 46, 1122, 498, 3431, 4]\n",
      "['rudolph agnew , 55 years old and former chairman of consolidated gold fields plc , was named a nonexecutive director of this british industrial conglomerate .']\n"
     ]
    }
   ],
   "source": [
    "# I print and decode sentence 0\n",
    "i = 2\n",
    "print(encoded_train_sentences[i])\n",
    "print(sentence_tokenizer.sequences_to_texts(encoded_train_sentences[i:i+1]))"
   ]
  },
  {
   "cell_type": "code",
   "execution_count": 12,
   "metadata": {},
   "outputs": [
    {
     "name": "stdout",
     "output_type": "stream",
     "text": [
      "Tag vocabulary size: 46\n",
      "[3, 3, 8, 12, 6, 7, 8, 21, 13, 5, 2, 4, 5, 7, 2, 3, 12, 9]\n"
     ]
    }
   ],
   "source": [
    "tag_tokenizer = Tokenizer(oov_token='<UNK>')\n",
    "tag_tokenizer.fit_on_texts(train_tag_sentences)\n",
    "encoded_train_tags = tag_tokenizer.texts_to_sequences(train_tag_sentences)\n",
    "encoded_val_tags = tag_tokenizer.texts_to_sequences(val_tag_sentences)\n",
    "encoded_test_tags = tag_tokenizer.texts_to_sequences(test_tag_sentences)\n",
    "\n",
    "print(f'Tag vocabulary size: {len(tag_tokenizer.word_index)}')\n",
    "print(encoded_train_tags[0])"
   ]
  },
  {
   "cell_type": "code",
   "execution_count": 13,
   "metadata": {},
   "outputs": [
    {
     "name": "stdout",
     "output_type": "stream",
     "text": [
      "250\n"
     ]
    },
    {
     "data": {
      "image/png": "[encoded data removed]",
      "text/plain": [
       "<Figure size 640x480 with 1 Axes>"
      ]
     },
     "metadata": {},
     "output_type": "display_data"
    }
   ],
   "source": [
    "# check length of longest sentence \n",
    "lengths = [len(sentence) for sentence in encoded_train_sentences]\n",
    "print(max(lengths))\n",
    "sns.boxplot(lengths)\n",
    "plt.show()"
   ]
  },
  {
   "cell_type": "code",
   "execution_count": 14,
   "metadata": {},
   "outputs": [
    {
     "name": "stdout",
     "output_type": "stream",
     "text": [
      "[   0    0    0    0    0    0    0    0    0    0    0    0    0    0\n",
      "    0    0    0    0    0    0    0    0    0    0    0    0    0    0\n",
      "    0    0    0    0    0    0    0    0    0    0    0    0    0    0\n",
      "    0    0    0    0    0    0    0    0    0    0    0    0    0    0\n",
      "    0    0    0    0    0    0    0    0    0    0    0    0    0    0\n",
      "    0    0    0    0    0    0    0    0    0    0    0    0 3427 2309\n",
      "    2 1744   65  343    2   41 1371    3  192   24    7 1120  270  708\n",
      " 2310    4]\n",
      "[ 0  0  0  0  0  0  0  0  0  0  0  0  0  0  0  0  0  0  0  0  0  0  0  0\n",
      "  0  0  0  0  0  0  0  0  0  0  0  0  0  0  0  0  0  0  0  0  0  0  0  0\n",
      "  0  0  0  0  0  0  0  0  0  0  0  0  0  0  0  0  0  0  0  0  0  0  0  0\n",
      "  0  0  0  0  0  0  0  0  0  0  3  3  8 12  6  7  8 21 13  5  2  4  5  7\n",
      "  2  3 12  9]\n",
      "100\n",
      "100\n"
     ]
    }
   ],
   "source": [
    "# Pad each sequence to MAX_SEQ_LENGTH using KERAS' pad_sequences() function. \n",
    "# Sentences longer than MAX_SEQ_LENGTH are truncated.\n",
    "# Sentences shorter than MAX_SEQ_LENGTH are padded with zeroes.\n",
    "\n",
    "# Truncation and padding can either be 'pre' or 'post'. \n",
    "# For padding we are using 'pre' padding type, that is, add zeroes on the left side.\n",
    "# For truncation, we are using 'post', that is, truncate a sentence from right side.\n",
    "\n",
    "MAX_SEQ_LENGTH = 100\n",
    "train_padded = pad_sequences(encoded_train_sentences, maxlen=MAX_SEQ_LENGTH, padding='pre', truncating='post')\n",
    "train_tag_padded = pad_sequences(encoded_train_tags, maxlen=MAX_SEQ_LENGTH, padding='pre', truncating='post')\n",
    "val_padded = pad_sequences(encoded_val_sentences, maxlen=MAX_SEQ_LENGTH, padding='pre', truncating='post')\n",
    "val_tag_padded = pad_sequences(encoded_val_tags, maxlen=MAX_SEQ_LENGTH, padding='pre', truncating='post')\n",
    "test_padded = pad_sequences(encoded_test_sentences, maxlen=MAX_SEQ_LENGTH, padding='pre', truncating='post')\n",
    "test_tag_padded = pad_sequences(encoded_test_tags, maxlen=MAX_SEQ_LENGTH, padding='pre', truncating='post')\n",
    "\n",
    "print(train_padded[0])\n",
    "print(train_tag_padded[0])\n",
    "print(len(train_padded[0]))\n",
    "print(len(train_tag_padded[0]))"
   ]
  },
  {
   "cell_type": "code",
   "execution_count": 15,
   "metadata": {},
   "outputs": [],
   "source": [
    "import gensim\n",
    "import gensim.downloader as gloader\n",
    "\n",
    "def load_embedding_model(embedding_dimension: int = 50) -> gensim.models.keyedvectors.KeyedVectors:\n",
    "    download_path = \"\"\n",
    "    download_path = \"glove-wiki-gigaword-{}\".format(embedding_dimension)\n",
    "        \n",
    "    try:\n",
    "        emb_model = gloader.load(download_path)\n",
    "    except ValueError as e:\n",
    "        print(\"Invalid embedding model name! Check the embedding dimension:\")\n",
    "        print(\"Glove: 50, 100, 200, 300\")\n",
    "        raise e\n",
    "\n",
    "    return emb_model"
   ]
  },
  {
   "cell_type": "code",
   "execution_count": 16,
   "metadata": {},
   "outputs": [],
   "source": [
    "# Glove -> 50, 100, 200, 300\n",
    "embedding_model = load_embedding_model(embedding_dimension=50)"
   ]
  },
  {
   "cell_type": "code",
   "execution_count": 17,
   "metadata": {},
   "outputs": [
    {
     "name": "stderr",
     "output_type": "stream",
     "text": [
      "  0%|          | 0/7405 [00:00<?, ?it/s]"
     ]
    },
    {
     "name": "stderr",
     "output_type": "stream",
     "text": [
      "100%|██████████| 7405/7405 [00:00<00:00, 78758.33it/s]"
     ]
    },
    {
     "name": "stdout",
     "output_type": "stream",
     "text": [
      "Number of words that have no glove embedding: 359\n",
      "(7406, 50)\n"
     ]
    },
    {
     "name": "stderr",
     "output_type": "stream",
     "text": [
      "\n"
     ]
    }
   ],
   "source": [
    "def create_embedding_matrix(embedding_model, word2id, embedding_dim):\n",
    "    vocab_size = len(word2id) + 1\n",
    "    embedding_matrix = np.zeros((vocab_size, embedding_dim))\n",
    "    OOV_embedding = np.random.rand(embedding_dim)\n",
    "    count_not_in_glove = 0\n",
    "    for word, i in tqdm(word2id.items()):\n",
    "        try:\n",
    "            embedding_matrix[i, :] = embedding_model[word]\n",
    "        except KeyError:\n",
    "            if word == '<UNK>':\n",
    "                # give <UNK> a static embedding\n",
    "                embedding_matrix[i, :] = OOV_embedding\n",
    "                continue\n",
    "            # If the word is not in the embedding model, it will have a random embedding vector, but check that its not already present\n",
    "            embedding_vector = np.random.rand(embedding_dim)\n",
    "            while embedding_vector in embedding_matrix:\n",
    "                embedding_vector = np.random.rand(embedding_dim)\n",
    "            embedding_matrix[i, :] = embedding_vector\n",
    "            count_not_in_glove += 1\n",
    "    print(f'Number of words that have no glove embedding: {count_not_in_glove}')\n",
    "    return embedding_matrix\n",
    "\n",
    "embedding_dim = 50\n",
    "embedding_train_matrix = create_embedding_matrix(embedding_model, sentence_tokenizer.word_index, embedding_dim)\n",
    "print(embedding_train_matrix.shape)"
   ]
  },
  {
   "cell_type": "code",
   "execution_count": 18,
   "metadata": {},
   "outputs": [
    {
     "name": "stdout",
     "output_type": "stream",
     "text": [
      "(1959, 100, 47)\n",
      "[[1. 0. 0. ... 0. 0. 0.]\n",
      " [1. 0. 0. ... 0. 0. 0.]\n",
      " [1. 0. 0. ... 0. 0. 0.]\n",
      " ...\n",
      " [0. 0. 0. ... 0. 0. 0.]\n",
      " [0. 0. 0. ... 0. 0. 0.]\n",
      " [0. 0. 0. ... 0. 0. 0.]]\n"
     ]
    }
   ],
   "source": [
    "# For tags use one-hot encoding\n",
    "from keras.utils import to_categorical\n",
    "\n",
    "Y = to_categorical(train_tag_padded)\n",
    "print(Y.shape)\n",
    "print(Y[0])"
   ]
  },
  {
   "cell_type": "code",
   "execution_count": 19,
   "metadata": {},
   "outputs": [
    {
     "name": "stdout",
     "output_type": "stream",
     "text": [
      "(1959, 100)\n",
      "(1959, 100)\n"
     ]
    }
   ],
   "source": [
    "print(train_tag_padded.shape)\n",
    "print(train_padded.shape)"
   ]
  },
  {
   "cell_type": "code",
   "execution_count": 20,
   "metadata": {},
   "outputs": [
    {
     "name": "stdout",
     "output_type": "stream",
     "text": [
      "Embeddings shape: (7406, 50)\n"
     ]
    }
   ],
   "source": [
    "print(\"Embeddings shape: {}\".format(embedding_train_matrix.shape))"
   ]
  },
  {
   "cell_type": "code",
   "execution_count": 40,
   "metadata": {},
   "outputs": [
    {
     "name": "stdout",
     "output_type": "stream",
     "text": [
      "(1959, 100)\n",
      "(1959, 100, 47)\n",
      "(1277, 100)\n",
      "(1277, 100, 47)\n",
      "(638, 100)\n",
      "(638, 100, 47)\n"
     ]
    }
   ],
   "source": [
    "# Split the data into train, val and test sets\n",
    "X_train = train_padded\n",
    "Y_train = Y\n",
    "X_val = val_padded\n",
    "Y_val = to_categorical(val_tag_padded)\n",
    "X_test = test_padded\n",
    "# for test also consider the missing tags\n",
    "Y_test = to_categorical(test_tag_padded, num_classes=len(tag_tokenizer.word_index)+1)\n",
    "print(X_train.shape)\n",
    "print(Y_train.shape)\n",
    "print(X_val.shape)\n",
    "print(Y_val.shape)\n",
    "print(X_test.shape)\n",
    "print(Y_test.shape)"
   ]
  },
  {
   "cell_type": "code",
   "execution_count": 22,
   "metadata": {},
   "outputs": [
    {
     "name": "stdout",
     "output_type": "stream",
     "text": [
      "Number of OOV terms: 0\n",
      "Number of OOV terms: 3746\n",
      "Number of OOV terms: 1969\n"
     ]
    }
   ],
   "source": [
    "def check_OOV_terms(X):\n",
    "    count_OOV = 0\n",
    "    for sentence in X:\n",
    "        for word in sentence:\n",
    "            if word == 1:\n",
    "                count_OOV += 1\n",
    "    print(f'Number of OOV terms: {count_OOV}')\n",
    "\n",
    "check_OOV_terms(X_train)\n",
    "check_OOV_terms(X_val)\n",
    "check_OOV_terms(X_test)"
   ]
  },
  {
   "cell_type": "code",
   "execution_count": 90,
   "metadata": {},
   "outputs": [],
   "source": [
    "# Baseline model: LSTM + FC\n",
    "\n",
    "from keras.models import Sequential\n",
    "from keras.layers import Dense, LSTM, Embedding, Bidirectional, TimeDistributed, Dropout\n",
    "from keras.optimizers import Adam\n",
    "\n",
    "num_tags = Y_train.shape[2]\n",
    "\n",
    "baseline = Sequential()\n",
    "baseline.add(Embedding(input_dim=len(sentence_tokenizer.word_index) + 1, output_dim=50, input_length=MAX_SEQ_LENGTH, weights=[embedding_train_matrix], trainable=True, mask_zero=True))\n",
    "baseline.add(Bidirectional(LSTM(units=128, return_sequences=True, recurrent_dropout=0.1)))\n",
    "baseline.add(TimeDistributed(Dense(num_tags, activation=\"softmax\")))"
   ]
  },
  {
   "cell_type": "code",
   "execution_count": 91,
   "metadata": {},
   "outputs": [
    {
     "name": "stdout",
     "output_type": "stream",
     "text": [
      "Model: \"sequential_5\"\n",
      "_________________________________________________________________\n",
      " Layer (type)                Output Shape              Param #   \n",
      "=================================================================\n",
      " embedding_5 (Embedding)     (None, 100, 50)           370300    \n",
      "                                                                 \n",
      " bidirectional_7 (Bidirecti  (None, 100, 256)          183296    \n",
      " onal)                                                           \n",
      "                                                                 \n",
      " time_distributed_6 (TimeDi  (None, 100, 47)           12079     \n",
      " stributed)                                                      \n",
      "                                                                 \n",
      "=================================================================\n",
      "Total params: 565675 (2.16 MB)\n",
      "Trainable params: 565675 (2.16 MB)\n",
      "Non-trainable params: 0 (0.00 Byte)\n",
      "_________________________________________________________________\n"
     ]
    }
   ],
   "source": [
    "baseline.compile(loss=\"categorical_crossentropy\", optimizer=Adam(0.001), metrics=[\"accuracy\"])\n",
    "\n",
    "baseline.summary()"
   ]
  },
  {
   "cell_type": "code",
   "execution_count": 93,
   "metadata": {},
   "outputs": [
    {
     "name": "stdout",
     "output_type": "stream",
     "text": [
      "Epoch 1/20\n",
      "16/16 [==============================] - 16s 975ms/step - loss: 2.6318 - accuracy: 0.3112 - val_loss: 2.4842 - val_accuracy: 0.3668\n",
      "Epoch 2/20\n",
      "16/16 [==============================] - 15s 963ms/step - loss: 2.2469 - accuracy: 0.4232 - val_loss: 2.0883 - val_accuracy: 0.4790\n",
      "Epoch 3/20\n",
      "16/16 [==============================] - 15s 945ms/step - loss: 1.8275 - accuracy: 0.5452 - val_loss: 1.6976 - val_accuracy: 0.5792\n",
      "Epoch 4/20\n",
      "16/16 [==============================] - 15s 942ms/step - loss: 1.4443 - accuracy: 0.6461 - val_loss: 1.3825 - val_accuracy: 0.6556\n",
      "Epoch 5/20\n",
      "16/16 [==============================] - 15s 944ms/step - loss: 1.1443 - accuracy: 0.7227 - val_loss: 1.1476 - val_accuracy: 0.7116\n",
      "Epoch 6/20\n",
      "16/16 [==============================] - 15s 941ms/step - loss: 0.9258 - accuracy: 0.7747 - val_loss: 0.9700 - val_accuracy: 0.7521\n",
      "Epoch 7/20\n",
      "16/16 [==============================] - 15s 947ms/step - loss: 0.7626 - accuracy: 0.8155 - val_loss: 0.8493 - val_accuracy: 0.7850\n",
      "Epoch 8/20\n",
      "16/16 [==============================] - 14s 904ms/step - loss: 0.6420 - accuracy: 0.8457 - val_loss: 0.7588 - val_accuracy: 0.8047\n",
      "Epoch 9/20\n",
      "16/16 [==============================] - 15s 924ms/step - loss: 0.5483 - accuracy: 0.8679 - val_loss: 0.6876 - val_accuracy: 0.8201\n",
      "Epoch 10/20\n",
      "16/16 [==============================] - 17s 1s/step - loss: 0.4767 - accuracy: 0.8844 - val_loss: 0.6395 - val_accuracy: 0.8304\n",
      "Epoch 11/20\n",
      "16/16 [==============================] - 16s 998ms/step - loss: 0.4193 - accuracy: 0.8977 - val_loss: 0.5984 - val_accuracy: 0.8389\n",
      "Epoch 12/20\n",
      "16/16 [==============================] - 16s 975ms/step - loss: 0.3717 - accuracy: 0.9082 - val_loss: 0.5637 - val_accuracy: 0.8462\n",
      "Epoch 13/20\n",
      "16/16 [==============================] - 15s 975ms/step - loss: 0.3338 - accuracy: 0.9172 - val_loss: 0.5410 - val_accuracy: 0.8512\n",
      "Epoch 14/20\n",
      "16/16 [==============================] - 15s 959ms/step - loss: 0.3008 - accuracy: 0.9269 - val_loss: 0.5201 - val_accuracy: 0.8577\n",
      "Epoch 15/20\n",
      "16/16 [==============================] - 15s 951ms/step - loss: 0.2723 - accuracy: 0.9333 - val_loss: 0.5045 - val_accuracy: 0.8615\n",
      "Epoch 16/20\n",
      "16/16 [==============================] - 15s 934ms/step - loss: 0.2485 - accuracy: 0.9385 - val_loss: 0.4967 - val_accuracy: 0.8646\n",
      "Epoch 17/20\n",
      "16/16 [==============================] - 15s 953ms/step - loss: 0.2275 - accuracy: 0.9445 - val_loss: 0.4805 - val_accuracy: 0.8685\n",
      "Epoch 18/20\n",
      "16/16 [==============================] - 15s 929ms/step - loss: 0.2090 - accuracy: 0.9488 - val_loss: 0.4739 - val_accuracy: 0.8701\n",
      "Epoch 19/20\n",
      "16/16 [==============================] - 15s 927ms/step - loss: 0.1925 - accuracy: 0.9532 - val_loss: 0.4644 - val_accuracy: 0.8733\n",
      "Epoch 20/20\n",
      "16/16 [==============================] - 15s 926ms/step - loss: 0.1781 - accuracy: 0.9572 - val_loss: 0.4571 - val_accuracy: 0.8741\n"
     ]
    }
   ],
   "source": [
    "history_baseline = baseline.fit(X_train, Y_train, validation_data=(X_val, Y_val), batch_size=128, epochs=20, verbose=1)"
   ]
  },
  {
   "cell_type": "code",
   "execution_count": 94,
   "metadata": {},
   "outputs": [
    {
     "data": {
      "image/png": "[encoded data removed]",
      "text/plain": [
       "<Figure size 640x480 with 1 Axes>"
      ]
     },
     "metadata": {},
     "output_type": "display_data"
    }
   ],
   "source": [
    "# plot results\n",
    "plt.plot(history_baseline.history['accuracy'])\n",
    "plt.plot(history_baseline.history['val_accuracy'])\n",
    "plt.title('Model accuracy')\n",
    "plt.ylabel('Accuracy')\n",
    "plt.xlabel('Epochs')\n",
    "plt.legend(['Train', 'Validation'], loc='upper left')\n",
    "plt.show()"
   ]
  },
  {
   "cell_type": "code",
   "execution_count": 85,
   "metadata": {},
   "outputs": [],
   "source": [
    "num_tags = Y_train.shape[2]\n",
    "\n",
    "model1 = Sequential()\n",
    "model1.add(Embedding(input_dim=len(sentence_tokenizer.word_index) + 1, output_dim=50, input_length=MAX_SEQ_LENGTH, weights=[embedding_train_matrix], trainable=True, mask_zero=True))\n",
    "model1.add(Bidirectional(LSTM(units=128, return_sequences=True, recurrent_dropout=0.1)))\n",
    "model1.add(Bidirectional(LSTM(units=64, return_sequences=True, recurrent_dropout=0.1)))\n",
    "model1.add(TimeDistributed(Dense(num_tags, activation=\"softmax\")))"
   ]
  },
  {
   "cell_type": "code",
   "execution_count": 86,
   "metadata": {},
   "outputs": [],
   "source": [
    "model1.compile(loss=\"categorical_crossentropy\", optimizer=Adam(0.001), metrics=[\"accuracy\"])"
   ]
  },
  {
   "cell_type": "code",
   "execution_count": 87,
   "metadata": {},
   "outputs": [
    {
     "name": "stdout",
     "output_type": "stream",
     "text": [
      "Epoch 1/20\n",
      "16/16 [==============================] - 36s 2s/step - loss: 3.2167 - accuracy: 0.1356 - val_loss: 2.9257 - val_accuracy: 0.2116\n",
      "Epoch 2/20\n",
      "16/16 [==============================] - 27s 2s/step - loss: 2.8028 - accuracy: 0.2221 - val_loss: 2.7032 - val_accuracy: 0.2439\n",
      "Epoch 3/20\n",
      "16/16 [==============================] - 27s 2s/step - loss: 2.5480 - accuracy: 0.2878 - val_loss: 2.4088 - val_accuracy: 0.3568\n",
      "Epoch 4/20\n",
      "16/16 [==============================] - 25s 2s/step - loss: 2.1783 - accuracy: 0.4204 - val_loss: 2.0004 - val_accuracy: 0.4791\n",
      "Epoch 5/20\n",
      "16/16 [==============================] - 25s 2s/step - loss: 1.7463 - accuracy: 0.5441 - val_loss: 1.6418 - val_accuracy: 0.5567\n",
      "Epoch 6/20\n",
      "16/16 [==============================] - 25s 2s/step - loss: 1.4005 - accuracy: 0.6303 - val_loss: 1.3685 - val_accuracy: 0.6273\n",
      "Epoch 7/20\n",
      "16/16 [==============================] - 27s 2s/step - loss: 1.1414 - accuracy: 0.7070 - val_loss: 1.1572 - val_accuracy: 0.6955\n",
      "Epoch 8/20\n",
      "16/16 [==============================] - 27s 2s/step - loss: 0.9382 - accuracy: 0.7681 - val_loss: 0.9899 - val_accuracy: 0.7477\n",
      "Epoch 9/20\n",
      "16/16 [==============================] - 27s 2s/step - loss: 0.7797 - accuracy: 0.8135 - val_loss: 0.8639 - val_accuracy: 0.7790\n",
      "Epoch 10/20\n",
      "16/16 [==============================] - 27s 2s/step - loss: 0.6566 - accuracy: 0.8436 - val_loss: 0.7742 - val_accuracy: 0.7996\n",
      "Epoch 11/20\n",
      "16/16 [==============================] - 27s 2s/step - loss: 0.5602 - accuracy: 0.8671 - val_loss: 0.7044 - val_accuracy: 0.8147\n",
      "Epoch 12/20\n",
      "16/16 [==============================] - 27s 2s/step - loss: 0.4832 - accuracy: 0.8849 - val_loss: 0.6495 - val_accuracy: 0.8294\n",
      "Epoch 13/20\n",
      "16/16 [==============================] - 27s 2s/step - loss: 0.4218 - accuracy: 0.8993 - val_loss: 0.6105 - val_accuracy: 0.8357\n",
      "Epoch 14/20\n",
      "16/16 [==============================] - 28s 2s/step - loss: 0.3730 - accuracy: 0.9100 - val_loss: 0.5860 - val_accuracy: 0.8417\n",
      "Epoch 15/20\n",
      "16/16 [==============================] - 26s 2s/step - loss: 0.3316 - accuracy: 0.9211 - val_loss: 0.5545 - val_accuracy: 0.8520\n",
      "Epoch 16/20\n",
      "16/16 [==============================] - 27s 2s/step - loss: 0.2985 - accuracy: 0.9288 - val_loss: 0.5277 - val_accuracy: 0.8600\n",
      "Epoch 17/20\n",
      "16/16 [==============================] - 27s 2s/step - loss: 0.2719 - accuracy: 0.9362 - val_loss: 0.5171 - val_accuracy: 0.8612\n",
      "Epoch 18/20\n",
      "16/16 [==============================] - 27s 2s/step - loss: 0.2460 - accuracy: 0.9417 - val_loss: 0.5085 - val_accuracy: 0.8634\n",
      "Epoch 19/20\n",
      "16/16 [==============================] - 27s 2s/step - loss: 0.2244 - accuracy: 0.9476 - val_loss: 0.5067 - val_accuracy: 0.8624\n",
      "Epoch 20/20\n",
      "16/16 [==============================] - 27s 2s/step - loss: 0.2059 - accuracy: 0.9518 - val_loss: 0.4914 - val_accuracy: 0.8652\n"
     ]
    }
   ],
   "source": [
    "history_model1 = model1.fit(X_train, Y_train, validation_data=(X_val, Y_val), batch_size=128, epochs=20, verbose=1)"
   ]
  },
  {
   "cell_type": "code",
   "execution_count": 88,
   "metadata": {},
   "outputs": [
    {
     "data": {
      "image/png": "[encoded data removed]",
      "text/plain": [
       "<Figure size 640x480 with 1 Axes>"
      ]
     },
     "metadata": {},
     "output_type": "display_data"
    }
   ],
   "source": [
    "# plot results\n",
    "plt.plot(history_model1.history['accuracy'])\n",
    "plt.plot(history_model1.history['val_accuracy'])\n",
    "plt.title('Model accuracy')\n",
    "plt.ylabel('Accuracy')\n",
    "plt.xlabel('Epochs')\n",
    "plt.legend(['Train', 'Validation'], loc='upper left')\n",
    "plt.show()"
   ]
  },
  {
   "cell_type": "code",
   "execution_count": 101,
   "metadata": {},
   "outputs": [],
   "source": [
    "num_tags = Y_train.shape[2]\n",
    "\n",
    "model2 = Sequential()\n",
    "model2.add(Embedding(input_dim=len(sentence_tokenizer.word_index) + 1 , output_dim=50, input_length=MAX_SEQ_LENGTH, weights=[embedding_train_matrix], trainable=True, mask_zero=True))\n",
    "model2.add(Bidirectional(LSTM(units=128, return_sequences=True, recurrent_dropout=0.1)))\n",
    "model2.add(TimeDistributed(Dense(num_tags*2, activation=\"softmax\")))\n",
    "model2.add(TimeDistributed(Dense(num_tags, activation=\"softmax\")))"
   ]
  },
  {
   "cell_type": "code",
   "execution_count": 102,
   "metadata": {},
   "outputs": [],
   "source": [
    "model2.compile(loss=\"categorical_crossentropy\", optimizer=Adam(0.001), metrics=[\"accuracy\"])"
   ]
  },
  {
   "cell_type": "code",
   "execution_count": 103,
   "metadata": {},
   "outputs": [
    {
     "name": "stdout",
     "output_type": "stream",
     "text": [
      "Epoch 1/20\n",
      "16/16 [==============================] - 20s 924ms/step - loss: 3.8232 - accuracy: 0.0969 - val_loss: 3.7835 - val_accuracy: 0.0866\n",
      "Epoch 2/20\n",
      "16/16 [==============================] - 15s 927ms/step - loss: 3.7605 - accuracy: 0.1091 - val_loss: 3.7433 - val_accuracy: 0.0917\n",
      "Epoch 3/20\n",
      "16/16 [==============================] - 14s 905ms/step - loss: 3.7212 - accuracy: 0.1215 - val_loss: 3.7056 - val_accuracy: 0.0819\n",
      "Epoch 4/20\n",
      "16/16 [==============================] - 15s 935ms/step - loss: 3.6851 - accuracy: 0.1039 - val_loss: 3.6713 - val_accuracy: 0.0862\n",
      "Epoch 5/20\n",
      "16/16 [==============================] - 15s 927ms/step - loss: 3.6514 - accuracy: 0.1098 - val_loss: 3.6388 - val_accuracy: 0.0868\n",
      "Epoch 6/20\n",
      "16/16 [==============================] - 14s 902ms/step - loss: 3.6127 - accuracy: 0.1242 - val_loss: 3.5890 - val_accuracy: 0.1291\n",
      "Epoch 7/20\n",
      "16/16 [==============================] - 14s 903ms/step - loss: 3.5603 - accuracy: 0.1542 - val_loss: 3.5392 - val_accuracy: 0.1643\n",
      "Epoch 8/20\n",
      "16/16 [==============================] - 15s 931ms/step - loss: 3.5128 - accuracy: 0.1792 - val_loss: 3.4947 - val_accuracy: 0.1701\n",
      "Epoch 9/20\n",
      "16/16 [==============================] - 14s 898ms/step - loss: 3.4694 - accuracy: 0.1926 - val_loss: 3.4547 - val_accuracy: 0.1755\n",
      "Epoch 10/20\n",
      "16/16 [==============================] - 15s 950ms/step - loss: 3.4308 - accuracy: 0.1998 - val_loss: 3.4181 - val_accuracy: 0.1783\n",
      "Epoch 11/20\n",
      "16/16 [==============================] - 14s 906ms/step - loss: 3.3949 - accuracy: 0.2036 - val_loss: 3.3839 - val_accuracy: 0.1799\n",
      "Epoch 12/20\n",
      "16/16 [==============================] - 14s 888ms/step - loss: 3.3611 - accuracy: 0.2074 - val_loss: 3.3513 - val_accuracy: 0.1795\n",
      "Epoch 13/20\n",
      "16/16 [==============================] - 14s 889ms/step - loss: 3.3285 - accuracy: 0.2096 - val_loss: 3.3202 - val_accuracy: 0.1820\n",
      "Epoch 14/20\n",
      "16/16 [==============================] - 14s 882ms/step - loss: 3.2974 - accuracy: 0.2118 - val_loss: 3.2908 - val_accuracy: 0.1835\n",
      "Epoch 15/20\n",
      "16/16 [==============================] - 14s 876ms/step - loss: 3.2676 - accuracy: 0.2143 - val_loss: 3.2631 - val_accuracy: 0.1830\n",
      "Epoch 16/20\n",
      "16/16 [==============================] - 14s 880ms/step - loss: 3.2393 - accuracy: 0.2159 - val_loss: 3.2362 - val_accuracy: 0.1887\n",
      "Epoch 17/20\n",
      "16/16 [==============================] - 14s 880ms/step - loss: 3.2124 - accuracy: 0.2171 - val_loss: 3.2109 - val_accuracy: 0.1852\n",
      "Epoch 18/20\n",
      "16/16 [==============================] - 14s 881ms/step - loss: 3.1860 - accuracy: 0.2191 - val_loss: 3.1863 - val_accuracy: 0.1873\n",
      "Epoch 19/20\n",
      "16/16 [==============================] - 14s 882ms/step - loss: 3.1609 - accuracy: 0.2197 - val_loss: 3.1629 - val_accuracy: 0.1881\n",
      "Epoch 20/20\n",
      "16/16 [==============================] - 14s 886ms/step - loss: 3.1369 - accuracy: 0.2210 - val_loss: 3.1404 - val_accuracy: 0.1884\n"
     ]
    }
   ],
   "source": [
    "history_model2 = model2.fit(X_train, Y_train, validation_data=(X_val, Y_val), batch_size=128, epochs=20, verbose=1)"
   ]
  },
  {
   "cell_type": "code",
   "execution_count": 104,
   "metadata": {},
   "outputs": [
    {
     "data": {
      "image/png": "[encoded data removed]",
      "text/plain": [
       "<Figure size 640x480 with 1 Axes>"
      ]
     },
     "metadata": {},
     "output_type": "display_data"
    }
   ],
   "source": [
    "# plot results\n",
    "plt.plot(history_model2.history['accuracy'])\n",
    "plt.plot(history_model2.history['val_accuracy'])\n",
    "plt.title('Model accuracy')\n",
    "plt.ylabel('Accuracy')\n",
    "plt.xlabel('Epochs')\n",
    "plt.legend(['Train', 'Validation'], loc='upper left')\n",
    "plt.show()"
   ]
  },
  {
   "cell_type": "markdown",
   "metadata": {},
   "source": [
    "# METRICS"
   ]
  },
  {
   "cell_type": "code",
   "execution_count": 28,
   "metadata": {},
   "outputs": [
    {
     "name": "stdout",
     "output_type": "stream",
     "text": [
      "{1: '<UNK>', 2: 'nn', 3: 'nnp', 4: 'in', 5: 'dt', 6: 'nns', 7: 'jj', 8: ',', 9: '.', 10: 'vbd', 11: 'rb', 12: 'cd', 13: 'vb', 14: 'cc', 15: 'vbz', 16: 'vbn', 17: 'to', 18: 'prp', 19: 'vbg', 20: 'vbp', 21: 'md', 22: 'prp$', 23: '``', 24: 'pos', 25: \"''\", 26: '$', 27: ':', 28: 'wdt', 29: 'jjr', 30: 'wp', 31: 'rp', 32: 'nnps', 33: 'jjs', 34: 'wrb', 35: 'rbr', 36: '-rrb-', 37: '-lrb-', 38: 'ex', 39: 'rbs', 40: 'ls', 41: 'pdt', 42: 'wp$', 43: 'fw', 44: 'uh', 45: 'sym', 46: '#'}\n"
     ]
    }
   ],
   "source": [
    "tag2idx = tag_tokenizer.word_index\n",
    "idx2tag = {i: w for w, i in tag2idx.items()}\n",
    "print(idx2tag)"
   ]
  },
  {
   "cell_type": "code",
   "execution_count": 36,
   "metadata": {},
   "outputs": [
    {
     "name": "stdout",
     "output_type": "stream",
     "text": [
      "(638, 100)\n",
      "[ 0  0  0  0  0  0  0  0  0  0  0  0  0  0  0  0  0  0  0  0  0  0  0  0\n",
      "  0  0  0  0  0  0  0  0  0  0  0  0  0  0  0  0  0  0  0  0  0  0  0  0\n",
      "  0  0  0  0  0  0  0  0  0  0  0  0  3  3  3  8  3  3  8  3  8 10 18 10\n",
      " 12 12  6  8 14  4 12  2  8  4 22  7  2  4  5  7  2  4 26 12  5  2  8 14\n",
      " 26 12 12  9]\n"
     ]
    }
   ],
   "source": [
    "# get y values for . , oov and pad\n",
    "print(Y_test.shape)\n",
    "print(Y_test[0])"
   ]
  },
  {
   "cell_type": "code",
   "execution_count": 56,
   "metadata": {},
   "outputs": [
    {
     "name": "stdout",
     "output_type": "stream",
     "text": [
      "{'<UNK>': 1, 'nn': 2, 'nnp': 3, 'in': 4, 'dt': 5, 'nns': 6, 'jj': 7, ',': 8, '.': 9, 'vbd': 10, 'rb': 11, 'cd': 12, 'vb': 13, 'cc': 14, 'vbz': 15, 'vbn': 16, 'to': 17, 'prp': 18, 'vbg': 19, 'vbp': 20, 'md': 21, 'prp$': 22, '``': 23, 'pos': 24, \"''\": 25, '$': 26, ':': 27, 'wdt': 28, 'jjr': 29, 'wp': 30, 'rp': 31, 'nnps': 32, 'jjs': 33, 'wrb': 34, 'rbr': 35, '-rrb-': 36, '-lrb-': 37, 'ex': 38, 'rbs': 39, 'ls': 40, 'pdt': 41, 'wp$': 42, 'fw': 43, 'uh': 44, 'sym': 45, '#': 46}\n",
      ",: 8\n",
      ".: 9\n",
      ":: 27\n",
      "<UNK>: 1\n"
     ]
    }
   ],
   "source": [
    "# print all tags\n",
    "print(tag2idx)\n",
    "# print index of punctuation marks (. , ? ! \" ' - : ; )\n",
    "punctuation_tags = [',', '.', '?', '!', '\"', \"'\", '-', ':', ';' , '<UNK>', '(', ')', '[', ']', '{', '}', '<', '>']\n",
    "punctuation_tags_idx = []\n",
    "for tag in punctuation_tags:\n",
    "    try:\n",
    "        print(f'{tag}: {tag2idx[tag]}')\n",
    "        punctuation_tags_idx.append(tag2idx[tag])\n",
    "    except KeyError:\n",
    "        continue"
   ]
  },
  {
   "cell_type": "code",
   "execution_count": 72,
   "metadata": {},
   "outputs": [],
   "source": [
    "# Metrics: Macro F1 score over all tokens, do not consider punctuation\n",
    "from sklearn.metrics import f1_score\n",
    "\n",
    "def macro_f1(y_true, y_pred):\n",
    "    print(y_true.shape)\n",
    "    y_true = np.argmax(y_true, axis=-1)\n",
    "    y_pred = np.argmax(y_pred, axis=-1)\n",
    "    print(y_true.shape)\n",
    "    print(y_pred.shape)\n",
    "    # remove punctuation tags from y_true\n",
    "    y_true = y_true.flatten()\n",
    "    y_pred = y_pred.flatten()\n",
    "    print(y_true.shape)\n",
    "    print(y_pred.shape)\n",
    "    print(y_true[38349])\n",
    "    temp = [] \n",
    "    temp_pred = []\n",
    "    for i in range(len(y_true)):\n",
    "        if y_true[i] not in punctuation_tags_idx and y_true[i] != 0:\n",
    "            temp.append(y_true[i])\n",
    "            temp_pred.append(y_pred[i])\n",
    "    print(len(temp))\n",
    "    print(len(temp_pred))\n",
    "    return f1_score(temp, temp_pred, average='macro')\n",
    "    # remove 0 from y_true\n",
    "    # y_true = y_true[y_true != 0]\n",
    "    # print(y_true[0:10])\n",
    "    # print(y_true.shape)\n",
    "    # print(y_pred.shape)\n",
    "    # remove pad from y_true\n",
    "    # y_true = y_true[y_true != 0]\n",
    "    # remove pad from y_pred\n",
    "    # y_pred = y_pred[y_pred != 0]\n",
    "    # print(y_true.shape)\n",
    "    # print(y_pred.shape)\n",
    "    #return f1_score(y_true, y_pred, average='macro')\n",
    "            "
   ]
  },
  {
   "cell_type": "code",
   "execution_count": 99,
   "metadata": {},
   "outputs": [
    {
     "name": "stdout",
     "output_type": "stream",
     "text": [
      "Baseline model\n",
      "62/62 [==============================] - 3s 46ms/step - loss: 0.1657 - accuracy: 0.9606\n",
      "Train accuracy: 0.9606197476387024\n",
      "40/40 [==============================] - 2s 47ms/step - loss: 0.4565 - accuracy: 0.8741\n",
      "Validation accuracy: 0.8740980625152588\n",
      "20/20 [==============================] - 1s 45ms/step - loss: 0.4143 - accuracy: 0.8825\n",
      "Test accuracy: 0.8825345635414124\n",
      "20/20 [==============================] - 1s 44ms/step\n",
      "(638, 100, 47)\n",
      "(638, 100)\n",
      "(638, 100)\n",
      "(63800,)\n",
      "(63800,)\n",
      "0\n",
      "14064\n",
      "14064\n",
      "Macro F1 score: 0.7575740651709005\n"
     ]
    }
   ],
   "source": [
    "# Evaluate the models\n",
    "print(\"Baseline model\")\n",
    "print(\"Train accuracy: {}\".format(baseline.evaluate(X_train, Y_train)[1]))\n",
    "print(\"Validation accuracy: {}\".format(baseline.evaluate(X_val, Y_val)[1]))\n",
    "print(\"Test accuracy: {}\".format(baseline.evaluate(X_test, Y_test)[1]))\n",
    "print(\"Macro F1 score: {}\".format(macro_f1(Y_test, baseline.predict(X_test))))"
   ]
  },
  {
   "cell_type": "code",
   "execution_count": 89,
   "metadata": {},
   "outputs": [
    {
     "name": "stdout",
     "output_type": "stream",
     "text": [
      "Model 1\n",
      "62/62 [==============================] - 6s 91ms/step - loss: 0.1898 - accuracy: 0.9566\n",
      "Train accuracy: 0.9565503001213074\n",
      "40/40 [==============================] - 4s 90ms/step - loss: 0.4909 - accuracy: 0.8652\n",
      "Validation accuracy: 0.8651508688926697\n",
      "20/20 [==============================] - 2s 90ms/step - loss: 0.4469 - accuracy: 0.8750\n",
      "Test accuracy: 0.8750080466270447\n",
      "20/20 [==============================] - 3s 89ms/step\n",
      "(638, 100, 47)\n",
      "(638, 100)\n",
      "(638, 100)\n",
      "(63800,)\n",
      "(63800,)\n",
      "0\n",
      "14064\n",
      "14064\n",
      "Macro F1 score: 0.7307873862695964\n"
     ]
    }
   ],
   "source": [
    "# Evaluate the models\n",
    "print(\"Model 1\")\n",
    "print(\"Train accuracy: {}\".format(model1.evaluate(X_train, Y_train)[1]))\n",
    "print(\"Validation accuracy: {}\".format(model1.evaluate(X_val, Y_val)[1]))\n",
    "print(\"Test accuracy: {}\".format(model1.evaluate(X_test, Y_test)[1]))\n",
    "print(\"Macro F1 score: {}\".format(macro_f1(Y_test, model1.predict(X_test))))"
   ]
  },
  {
   "cell_type": "code",
   "execution_count": 105,
   "metadata": {},
   "outputs": [
    {
     "name": "stdout",
     "output_type": "stream",
     "text": [
      "Model 2\n",
      "62/62 [==============================] - 3s 51ms/step - loss: 3.1233 - accuracy: 0.2225\n",
      "Train accuracy: 0.22248362004756927\n",
      "40/40 [==============================] - 2s 49ms/step - loss: 3.1406 - accuracy: 0.1884\n",
      "Validation accuracy: 0.18837186694145203\n",
      "20/20 [==============================] - 1s 51ms/step - loss: 3.1244 - accuracy: 0.2045\n",
      "Test accuracy: 0.20450305938720703\n",
      "20/20 [==============================] - 1s 49ms/step\n",
      "(638, 100, 47)\n",
      "(638, 100)\n",
      "(638, 100)\n",
      "(63800,)\n",
      "(63800,)\n",
      "0\n",
      "14064\n",
      "14064\n",
      "Macro F1 score: 0.018551858359748843\n"
     ]
    }
   ],
   "source": [
    "# Evaluate the models\n",
    "print(\"Model 2\")\n",
    "print(\"Train accuracy: {}\".format(model2.evaluate(X_train, Y_train)[1]))\n",
    "print(\"Validation accuracy: {}\".format(model2.evaluate(X_val, Y_val)[1]))\n",
    "print(\"Test accuracy: {}\".format(model2.evaluate(X_test, Y_test)[1]))\n",
    "print(\"Macro F1 score: {}\".format(macro_f1(Y_test, model2.predict(X_test))))"
   ]
  },
  {
   "cell_type": "code",
   "execution_count": null,
   "metadata": {},
   "outputs": [],
   "source": []
  }
 ],
 "metadata": {
  "kernelspec": {
   "display_name": ".venv",
   "language": "python",
   "name": "python3"
  },
  "language_info": {
   "codemirror_mode": {
    "name": "ipython",
    "version": 3
   },
   "file_extension": ".py",
   "mimetype": "text/x-python",
   "name": "python",
   "nbconvert_exporter": "python",
   "pygments_lexer": "ipython3",
   "version": "3.10.10"
  }
 },
 "nbformat": 4,
 "nbformat_minor": 2
}
