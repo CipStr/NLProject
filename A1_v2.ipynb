{
 "cells": [
  {
   "cell_type": "code",
   "execution_count": 35,
   "metadata": {},
   "outputs": [
    {
     "name": "stdout",
     "output_type": "stream",
     "text": [
      "Collecting scikit-learn\n",
      "  Downloading scikit_learn-1.3.2-cp310-cp310-win_amd64.whl.metadata (11 kB)\n",
      "Requirement already satisfied: numpy<2.0,>=1.17.3 in d:\\nlproject\\.venv\\lib\\site-packages (from scikit-learn) (1.26.1)\n",
      "Requirement already satisfied: scipy>=1.5.0 in d:\\nlproject\\.venv\\lib\\site-packages (from scikit-learn) (1.11.3)\n",
      "Collecting joblib>=1.1.1 (from scikit-learn)\n",
      "  Downloading joblib-1.3.2-py3-none-any.whl.metadata (5.4 kB)\n",
      "Collecting threadpoolctl>=2.0.0 (from scikit-learn)\n",
      "  Downloading threadpoolctl-3.2.0-py3-none-any.whl.metadata (10.0 kB)\n",
      "Downloading scikit_learn-1.3.2-cp310-cp310-win_amd64.whl (9.3 MB)\n",
      "   ---------------------------------------- 0.0/9.3 MB ? eta -:--:--\n",
      "   - -------------------------------------- 0.2/9.3 MB 7.3 MB/s eta 0:00:02\n",
      "   -- ------------------------------------- 0.6/9.3 MB 7.2 MB/s eta 0:00:02\n",
      "   --- ------------------------------------ 0.9/9.3 MB 7.1 MB/s eta 0:00:02\n",
      "   ----- ---------------------------------- 1.2/9.3 MB 7.1 MB/s eta 0:00:02\n",
      "   ------ --------------------------------- 1.6/9.3 MB 7.2 MB/s eta 0:00:02\n",
      "   -------- ------------------------------- 1.9/9.3 MB 7.2 MB/s eta 0:00:02\n",
      "   --------- ------------------------------ 2.2/9.3 MB 7.2 MB/s eta 0:00:01\n",
      "   ----------- ---------------------------- 2.6/9.3 MB 7.1 MB/s eta 0:00:01\n",
      "   ------------ --------------------------- 2.9/9.3 MB 7.1 MB/s eta 0:00:01\n",
      "   -------------- ------------------------- 3.3/9.3 MB 7.2 MB/s eta 0:00:01\n",
      "   --------------- ------------------------ 3.6/9.3 MB 7.0 MB/s eta 0:00:01\n",
      "   ---------------- ----------------------- 3.9/9.3 MB 7.0 MB/s eta 0:00:01\n",
      "   ------------------ --------------------- 4.3/9.3 MB 7.0 MB/s eta 0:00:01\n",
      "   ------------------- -------------------- 4.6/9.3 MB 7.0 MB/s eta 0:00:01\n",
      "   --------------------- ------------------ 4.9/9.3 MB 7.0 MB/s eta 0:00:01\n",
      "   ---------------------- ----------------- 5.3/9.3 MB 7.0 MB/s eta 0:00:01\n",
      "   ------------------------ --------------- 5.6/9.3 MB 7.0 MB/s eta 0:00:01\n",
      "   ------------------------- -------------- 5.9/9.3 MB 7.0 MB/s eta 0:00:01\n",
      "   -------------------------- ------------- 6.2/9.3 MB 7.0 MB/s eta 0:00:01\n",
      "   ---------------------------- ----------- 6.6/9.3 MB 7.0 MB/s eta 0:00:01\n",
      "   ----------------------------- ---------- 6.9/9.3 MB 7.0 MB/s eta 0:00:01\n",
      "   ------------------------------- -------- 7.3/9.3 MB 7.0 MB/s eta 0:00:01\n",
      "   -------------------------------- ------- 7.6/9.3 MB 7.0 MB/s eta 0:00:01\n",
      "   ---------------------------------- ----- 7.9/9.3 MB 7.0 MB/s eta 0:00:01\n",
      "   ----------------------------------- ---- 8.3/9.3 MB 7.0 MB/s eta 0:00:01\n",
      "   ------------------------------------- -- 8.6/9.3 MB 7.0 MB/s eta 0:00:01\n",
      "   -------------------------------------- - 8.9/9.3 MB 7.0 MB/s eta 0:00:01\n",
      "   ---------------------------------------  9.2/9.3 MB 7.0 MB/s eta 0:00:01\n",
      "   ---------------------------------------- 9.3/9.3 MB 6.9 MB/s eta 0:00:00\n",
      "Downloading joblib-1.3.2-py3-none-any.whl (302 kB)\n",
      "   ---------------------------------------- 0.0/302.2 kB ? eta -:--:--\n",
      "   ---------------------------------------  297.0/302.2 kB 6.1 MB/s eta 0:00:01\n",
      "   ---------------------------------------- 302.2/302.2 kB 6.2 MB/s eta 0:00:00\n",
      "Downloading threadpoolctl-3.2.0-py3-none-any.whl (15 kB)\n",
      "Installing collected packages: threadpoolctl, joblib, scikit-learn\n",
      "Successfully installed joblib-1.3.2 scikit-learn-1.3.2 threadpoolctl-3.2.0\n"
     ]
    }
   ],
   "source": [
    "# !pip install pandas \n",
    "# !pip install numpy\n",
    "# !pip install matplotlib\n",
    "# !pip install tqdm\n",
    "# !pip install seaborn\n",
    "# !pip install tensorflow\n",
    "# !pip install keras\n",
    "!pip install scikit-learn"
   ]
  },
  {
   "cell_type": "code",
   "execution_count": 1,
   "metadata": {},
   "outputs": [],
   "source": [
    "import pandas as pd \n",
    "import numpy as np\n",
    "import matplotlib.pyplot as plt\n",
    "import urllib.request\n",
    "import zipfile\n",
    "import os\n",
    "from tqdm import tqdm\n",
    "import copy\n",
    "import seaborn as sns\n",
    "import sklearn"
   ]
  },
  {
   "cell_type": "code",
   "execution_count": 2,
   "metadata": {},
   "outputs": [
    {
     "name": "stderr",
     "output_type": "stream",
     "text": [
      "100%|██████████| 199/199 [00:00<00:00, 617.69it/s]\n"
     ]
    },
    {
     "name": "stdout",
     "output_type": "stream",
     "text": [
      "                                          Dataframes\n",
      "0              word   pos\n",
      "0         Pierre   NNP\n",
      "...\n",
      "1              word  pos\n",
      "0        Rudolph  NNP\n",
      "1 ...\n",
      "2           word   pos\n",
      "0           A    DT\n",
      "1     ...\n",
      "3               word  pos\n",
      "0          Yields  NNS\n",
      "...\n",
      "4                 word   pos\n",
      "0              J.P. ...\n",
      "     word  pos\n",
      "0  Pierre  NNP\n",
      "1  Vinken  NNP\n",
      "2       ,    ,\n",
      "3      61   CD\n",
      "4   years  NNS\n",
      "(199, 1)\n"
     ]
    }
   ],
   "source": [
    "# Create documents dataframe\n",
    "dp_docs = [file for file in os.listdir('dependency_treebank/') if file.endswith('.dp')]\n",
    "dataframes = []\n",
    "\n",
    "for file in tqdm(dp_docs):\n",
    "    with open('dependency_treebank/' + file, 'r') as f:\n",
    "        lines = f.readlines()\n",
    "        data = [line.split('\\t') for line in lines]\n",
    "        df = pd.DataFrame(data, columns=['word', 'pos', 'head'])\n",
    "        # drop the last column\n",
    "        df = df.iloc[:, :-1]\n",
    "        dataframes.append(df)\n",
    "\n",
    "df = pd.DataFrame({'Dataframes': dataframes})\n",
    "print(df.head(5))\n",
    "print(df['Dataframes'][0][0:5])\n",
    "print(df.shape)"
   ]
  },
  {
   "cell_type": "code",
   "execution_count": 3,
   "metadata": {},
   "outputs": [
    {
     "name": "stdout",
     "output_type": "stream",
     "text": [
      "(100,)\n",
      "(50,)\n",
      "(49,)\n"
     ]
    }
   ],
   "source": [
    "# Split the dataframes into train, validation and test sets\n",
    "train = df['Dataframes'][0:100]\n",
    "val = df['Dataframes'][100:150]\n",
    "test = df['Dataframes'][150:200]\n",
    "\n",
    "print(train.shape)\n",
    "print(val.shape)\n",
    "print(test.shape)"
   ]
  },
  {
   "cell_type": "code",
   "execution_count": 4,
   "metadata": {},
   "outputs": [
    {
     "name": "stdout",
     "output_type": "stream",
     "text": [
      "     word  pos\n",
      "0  pierre  NNP\n",
      "1  vinken  NNP\n",
      "2       ,    ,\n",
      "3      61   CD\n",
      "4   years  NNS\n"
     ]
    }
   ],
   "source": [
    "# Text preprocessing\n",
    "def to_lower_case(df, docs):\n",
    "    for i in range(docs, docs + len(df)):\n",
    "        df[i]['word'] = df[i]['word'].str.lower()\n",
    "\n",
    "to_lower_case(train, 0)\n",
    "to_lower_case(val, 100)\n",
    "to_lower_case(test, 150)\n",
    "print(train[0][0:5])"
   ]
  },
  {
   "cell_type": "code",
   "execution_count": 5,
   "metadata": {},
   "outputs": [
    {
     "name": "stdout",
     "output_type": "stream",
     "text": [
      "32\n",
      "            word  pos\n",
      "0         pierre  NNP\n",
      "1         vinken  NNP\n",
      "2              ,    ,\n",
      "3             61   CD\n",
      "4          years  NNS\n",
      "5            old   JJ\n",
      "6              ,    ,\n",
      "7           will   MD\n",
      "8           join   VB\n",
      "9            the   DT\n",
      "10         board   NN\n",
      "11            as   IN\n",
      "12             a   DT\n",
      "13  nonexecutive   JJ\n",
      "14      director   NN\n",
      "15          nov.  NNP\n",
      "16            29   CD\n",
      "17             .    .\n",
      "19           mr.  NNP\n",
      "20        vinken  NNP\n",
      "21            is  VBZ\n",
      "22      chairman   NN\n",
      "23            of   IN\n",
      "24      elsevier  NNP\n",
      "25          n.v.  NNP\n",
      "26             ,    ,\n",
      "27           the   DT\n",
      "28         dutch  NNP\n",
      "29    publishing  VBG\n",
      "30         group   NN\n",
      "31             .    .\n",
      "31\n",
      "827\n",
      "220\n"
     ]
    }
   ],
   "source": [
    "# Text preprocessing: from each doc remove newlines and empty lines\n",
    "def remove_newlines(df, docs):\n",
    "    for i in range(docs, docs + len(df)):\n",
    "        df[i] = df[i][df[i]['word'] != '\\n']\n",
    "        df[i] = df[i][df[i]['word'] != '']\n",
    "\n",
    "print(len(train[0]))\n",
    "remove_newlines(train, 0)\n",
    "remove_newlines(val, 100)\n",
    "remove_newlines(test, 150)\n",
    "print(train[0])\n",
    "print(len(train[0]))\n",
    "print(len(val[100]))\n",
    "print(len(test[150]))"
   ]
  },
  {
   "cell_type": "code",
   "execution_count": 6,
   "metadata": {},
   "outputs": [
    {
     "name": "stdout",
     "output_type": "stream",
     "text": [
      "1959\n",
      "1277\n",
      "638\n"
     ]
    }
   ],
   "source": [
    "# Create new dataframe that contains the single sentences\n",
    "def create_sentences(df, docs):\n",
    "    sentences = []\n",
    "    chunks = []\n",
    "    for i in range(docs, docs + len(df)):\n",
    "        for element in df[i]['word']:\n",
    "            if element != '.' and element != '!' and element != '?':\n",
    "                chunks.append(element)\n",
    "            else:\n",
    "                chunks.append(element)\n",
    "                sentences.append(chunks)\n",
    "                chunks = []\n",
    "    return sentences\n",
    "\n",
    "# Create sentences for train, val and test\n",
    "train_sentences = create_sentences(train, 0)\n",
    "val_sentences = create_sentences(val, 100)\n",
    "test_sentences = create_sentences(test, 150)\n",
    "print(len(train_sentences))\n",
    "print(len(val_sentences))\n",
    "print(len(test_sentences))"
   ]
  },
  {
   "cell_type": "code",
   "execution_count": 7,
   "metadata": {},
   "outputs": [
    {
     "name": "stdout",
     "output_type": "stream",
     "text": [
      "1959\n",
      "1277\n",
      "638\n"
     ]
    }
   ],
   "source": [
    "def create_tag_sentences(df, docs):\n",
    "    tag_sentences = []\n",
    "    chunks = []\n",
    "    for i in range(docs, docs + len(df)):\n",
    "        for element in df[i]['pos']:\n",
    "            if element != '.' and element != '!' and element != '?':\n",
    "                chunks.append(element)\n",
    "            else:\n",
    "                chunks.append(element)\n",
    "                tag_sentences.append(chunks)\n",
    "                chunks = []\n",
    "    return tag_sentences\n",
    "\n",
    "# Create tag sentences for train, val and test\n",
    "train_tag_sentences = create_tag_sentences(train, 0)\n",
    "val_tag_sentences = create_tag_sentences(val, 100)\n",
    "test_tag_sentences = create_tag_sentences(test, 150)\n",
    "print(len(train_tag_sentences))\n",
    "print(len(val_tag_sentences))\n",
    "print(len(test_tag_sentences))\n"
   ]
  },
  {
   "cell_type": "code",
   "execution_count": 8,
   "metadata": {},
   "outputs": [
    {
     "name": "stdout",
     "output_type": "stream",
     "text": [
      "18\n",
      "18\n"
     ]
    }
   ],
   "source": [
    "print(len(train_sentences[0]))\n",
    "print(len(train_tag_sentences[0]))"
   ]
  },
  {
   "cell_type": "code",
   "execution_count": 9,
   "metadata": {},
   "outputs": [
    {
     "name": "stdout",
     "output_type": "stream",
     "text": [
      "OOV token: <UNK>\n",
      "OOV index: 1\n",
      "Vocabulary size: 7405\n",
      "[3427, 2309, 2, 1744, 65, 343, 2, 41, 1371, 3, 192, 24, 7, 1120, 270, 708, 2310, 4]\n",
      "[7, 1, 1033, 839, 298, 1, 5, 7, 1112, 10, 49, 55, 15, 392, 44, 8, 186, 1888, 10, 4437, 12, 1, 2348, 19, 15, 1, 44, 8, 508, 9, 1094, 1, 8, 1669, 260, 8, 1447, 5, 1, 576, 128, 9, 144, 4]\n",
      "[1, 1, 99, 2, 1349, 5229, 2, 753, 2, 17, 18, 1238, 1, 44, 140, 2, 45, 43, 560, 38, 2, 5, 30, 168, 85, 35, 34, 1, 1031, 10, 15, 1, 7, 123, 2, 45, 15, 6185, 44, 4]\n"
     ]
    }
   ],
   "source": [
    "# Encode train sentences and tags\n",
    "from keras.preprocessing.text import Tokenizer\n",
    "from keras.preprocessing.sequence import pad_sequences\n",
    "\n",
    "sentence_tokenizer = Tokenizer(oov_token='<UNK>')\n",
    "sentence_tokenizer.fit_on_texts(train_sentences)\n",
    "encoded_train_sentences = sentence_tokenizer.texts_to_sequences(train_sentences)\n",
    "encoded_val_sentences = sentence_tokenizer.texts_to_sequences(val_sentences)\n",
    "encoded_test_sentences = sentence_tokenizer.texts_to_sequences(test_sentences)\n",
    "\n",
    "print(f'OOV token: {sentence_tokenizer.oov_token}')\n",
    "print(f'OOV index: {sentence_tokenizer.word_index[sentence_tokenizer.oov_token]}')\n",
    "print(f'Vocabulary size: {len(sentence_tokenizer.word_index)}')\n",
    "print(encoded_train_sentences[0])\n",
    "print(encoded_val_sentences[0])\n",
    "print(encoded_test_sentences[0])"
   ]
  },
  {
   "cell_type": "code",
   "execution_count": 10,
   "metadata": {},
   "outputs": [
    {
     "name": "stdout",
     "output_type": "stream",
     "text": [
      "[1746, 3430, 2, 959, 65, 343, 9, 497, 166, 5, 2311, 1121, 553, 1747, 2, 25, 448, 7, 1120, 270, 5, 46, 1122, 498, 3431, 4]\n",
      "['rudolph agnew , 55 years old and former chairman of consolidated gold fields plc , was named a nonexecutive director of this british industrial conglomerate .']\n"
     ]
    }
   ],
   "source": [
    "# I print and decode sentence 0\n",
    "i = 2\n",
    "print(encoded_train_sentences[i])\n",
    "print(sentence_tokenizer.sequences_to_texts(encoded_train_sentences[i:i+1]))"
   ]
  },
  {
   "cell_type": "code",
   "execution_count": 11,
   "metadata": {},
   "outputs": [
    {
     "name": "stdout",
     "output_type": "stream",
     "text": [
      "Tag vocabulary size: 45\n",
      "[2, 2, 7, 11, 5, 6, 7, 20, 12, 4, 1, 3, 4, 6, 1, 2, 11, 8]\n"
     ]
    }
   ],
   "source": [
    "tag_tokenizer = Tokenizer()\n",
    "tag_tokenizer.fit_on_texts(train_tag_sentences)\n",
    "encoded_train_tags = tag_tokenizer.texts_to_sequences(train_tag_sentences)\n",
    "encoded_val_tags = tag_tokenizer.texts_to_sequences(val_tag_sentences)\n",
    "encoded_test_tags = tag_tokenizer.texts_to_sequences(test_tag_sentences)\n",
    "\n",
    "print(f'Tag vocabulary size: {len(tag_tokenizer.word_index)}')\n",
    "print(encoded_train_tags[0])"
   ]
  },
  {
   "cell_type": "code",
   "execution_count": 12,
   "metadata": {},
   "outputs": [
    {
     "name": "stdout",
     "output_type": "stream",
     "text": [
      "250\n"
     ]
    },
    {
     "data": {
      "image/png": "[encoded data removed]",
      "text/plain": [
       "<Figure size 640x480 with 1 Axes>"
      ]
     },
     "metadata": {},
     "output_type": "display_data"
    }
   ],
   "source": [
    "# check length of longest sentence \n",
    "lengths = [len(sentence) for sentence in encoded_train_sentences]\n",
    "print(max(lengths))\n",
    "sns.boxplot(lengths)\n",
    "plt.show()"
   ]
  },
  {
   "cell_type": "code",
   "execution_count": 13,
   "metadata": {},
   "outputs": [
    {
     "name": "stdout",
     "output_type": "stream",
     "text": [
      "[   0    0    0    0    0    0    0    0    0    0    0    0    0    0\n",
      "    0    0    0    0    0    0    0    0    0    0    0    0    0    0\n",
      "    0    0    0    0    0    0    0    0    0    0    0    0    0    0\n",
      "    0    0    0    0    0    0    0    0    0    0    0    0    0    0\n",
      "    0    0    0    0    0    0    0    0    0    0    0    0    0    0\n",
      "    0    0    0    0    0    0    0    0    0    0    0    0 3427 2309\n",
      "    2 1744   65  343    2   41 1371    3  192   24    7 1120  270  708\n",
      " 2310    4]\n",
      "[ 0  0  0  0  0  0  0  0  0  0  0  0  0  0  0  0  0  0  0  0  0  0  0  0\n",
      "  0  0  0  0  0  0  0  0  0  0  0  0  0  0  0  0  0  0  0  0  0  0  0  0\n",
      "  0  0  0  0  0  0  0  0  0  0  0  0  0  0  0  0  0  0  0  0  0  0  0  0\n",
      "  0  0  0  0  0  0  0  0  0  0  2  2  7 11  5  6  7 20 12  4  1  3  4  6\n",
      "  1  2 11  8]\n",
      "100\n",
      "100\n"
     ]
    }
   ],
   "source": [
    "# Pad each sequence to MAX_SEQ_LENGTH using KERAS' pad_sequences() function. \n",
    "# Sentences longer than MAX_SEQ_LENGTH are truncated.\n",
    "# Sentences shorter than MAX_SEQ_LENGTH are padded with zeroes.\n",
    "\n",
    "# Truncation and padding can either be 'pre' or 'post'. \n",
    "# For padding we are using 'pre' padding type, that is, add zeroes on the left side.\n",
    "# For truncation, we are using 'post', that is, truncate a sentence from right side.\n",
    "\n",
    "MAX_SEQ_LENGTH = 100\n",
    "train_padded = pad_sequences(encoded_train_sentences, maxlen=MAX_SEQ_LENGTH, padding='pre', truncating='post')\n",
    "train_tag_padded = pad_sequences(encoded_train_tags, maxlen=MAX_SEQ_LENGTH, padding='pre', truncating='post')\n",
    "val_padded = pad_sequences(encoded_val_sentences, maxlen=MAX_SEQ_LENGTH, padding='pre', truncating='post')\n",
    "val_tag_padded = pad_sequences(encoded_val_tags, maxlen=MAX_SEQ_LENGTH, padding='pre', truncating='post')\n",
    "test_padded = pad_sequences(encoded_test_sentences, maxlen=MAX_SEQ_LENGTH, padding='pre', truncating='post')\n",
    "test_tag_padded = pad_sequences(encoded_test_tags, maxlen=MAX_SEQ_LENGTH, padding='pre', truncating='post')\n",
    "\n",
    "print(train_padded[0])\n",
    "print(train_tag_padded[0])\n",
    "print(len(train_padded[0]))\n",
    "print(len(train_tag_padded[0]))"
   ]
  },
  {
   "cell_type": "code",
   "execution_count": 14,
   "metadata": {},
   "outputs": [],
   "source": [
    "import gensim\n",
    "import gensim.downloader as gloader\n",
    "\n",
    "def load_embedding_model(embedding_dimension: int = 50) -> gensim.models.keyedvectors.KeyedVectors:\n",
    "    download_path = \"\"\n",
    "    download_path = \"glove-wiki-gigaword-{}\".format(embedding_dimension)\n",
    "        \n",
    "    try:\n",
    "        emb_model = gloader.load(download_path)\n",
    "    except ValueError as e:\n",
    "        print(\"Invalid embedding model name! Check the embedding dimension:\")\n",
    "        print(\"Glove: 50, 100, 200, 300\")\n",
    "        raise e\n",
    "\n",
    "    return emb_model"
   ]
  },
  {
   "cell_type": "code",
   "execution_count": 15,
   "metadata": {},
   "outputs": [],
   "source": [
    "# Glove -> 50, 100, 200, 300\n",
    "embedding_model = load_embedding_model(embedding_dimension=50)"
   ]
  },
  {
   "cell_type": "code",
   "execution_count": 16,
   "metadata": {},
   "outputs": [
    {
     "name": "stderr",
     "output_type": "stream",
     "text": [
      "  0%|          | 0/7405 [00:00<?, ?it/s]"
     ]
    },
    {
     "name": "stderr",
     "output_type": "stream",
     "text": [
      "100%|██████████| 7405/7405 [00:00<00:00, 49024.32it/s]"
     ]
    },
    {
     "name": "stdout",
     "output_type": "stream",
     "text": [
      "Number of words that have no glove embedding: 359\n",
      "(7406, 50)\n"
     ]
    },
    {
     "name": "stderr",
     "output_type": "stream",
     "text": [
      "\n"
     ]
    }
   ],
   "source": [
    "def create_embedding_matrix(embedding_model, word2id, embedding_dim):\n",
    "    vocab_size = len(word2id) + 1\n",
    "    embedding_matrix = np.zeros((vocab_size, embedding_dim))\n",
    "    OOV_embedding = np.random.rand(embedding_dim)\n",
    "    count_not_in_glove = 0\n",
    "    for word, i in tqdm(word2id.items()):\n",
    "        try:\n",
    "            embedding_matrix[i, :] = embedding_model[word]\n",
    "        except KeyError:\n",
    "            if word == '<UNK>':\n",
    "                # give <UNK> a static embedding\n",
    "                embedding_matrix[i, :] = OOV_embedding\n",
    "                continue\n",
    "            # If the word is not in the embedding model, it will have a random embedding vector, but check that its not already present\n",
    "            embedding_vector = np.random.rand(embedding_dim)\n",
    "            while embedding_vector in embedding_matrix:\n",
    "                embedding_vector = np.random.rand(embedding_dim)\n",
    "            embedding_matrix[i, :] = embedding_vector\n",
    "            count_not_in_glove += 1\n",
    "    print(f'Number of words that have no glove embedding: {count_not_in_glove}')\n",
    "    return embedding_matrix\n",
    "\n",
    "embedding_dim = 50\n",
    "embedding_train_matrix = create_embedding_matrix(embedding_model, sentence_tokenizer.word_index, embedding_dim)\n",
    "print(embedding_train_matrix.shape)"
   ]
  },
  {
   "cell_type": "code",
   "execution_count": 17,
   "metadata": {},
   "outputs": [
    {
     "name": "stdout",
     "output_type": "stream",
     "text": [
      "(1959, 100, 46)\n",
      "[[1. 0. 0. ... 0. 0. 0.]\n",
      " [1. 0. 0. ... 0. 0. 0.]\n",
      " [1. 0. 0. ... 0. 0. 0.]\n",
      " ...\n",
      " [0. 0. 1. ... 0. 0. 0.]\n",
      " [0. 0. 0. ... 0. 0. 0.]\n",
      " [0. 0. 0. ... 0. 0. 0.]]\n"
     ]
    }
   ],
   "source": [
    "# For tags use one-hot encoding\n",
    "from keras.utils import to_categorical\n",
    "\n",
    "Y = to_categorical(train_tag_padded)\n",
    "print(Y.shape)\n",
    "print(Y[0])"
   ]
  },
  {
   "cell_type": "code",
   "execution_count": 18,
   "metadata": {},
   "outputs": [
    {
     "name": "stdout",
     "output_type": "stream",
     "text": [
      "(1959, 100)\n",
      "(1959, 100)\n"
     ]
    }
   ],
   "source": [
    "print(train_tag_padded.shape)\n",
    "print(train_padded.shape)"
   ]
  },
  {
   "cell_type": "code",
   "execution_count": 19,
   "metadata": {},
   "outputs": [
    {
     "name": "stdout",
     "output_type": "stream",
     "text": [
      "Embeddings shape: (7406, 50)\n"
     ]
    }
   ],
   "source": [
    "print(\"Embeddings shape: {}\".format(embedding_train_matrix.shape))"
   ]
  },
  {
   "cell_type": "code",
   "execution_count": 20,
   "metadata": {},
   "outputs": [
    {
     "name": "stdout",
     "output_type": "stream",
     "text": [
      "(1959, 100)\n",
      "(1959, 100, 46)\n",
      "(1277, 100)\n",
      "(1277, 100, 46)\n",
      "(638, 100)\n",
      "(638, 100, 42)\n"
     ]
    }
   ],
   "source": [
    "# Split the data into train, val and test sets\n",
    "X_train = train_padded\n",
    "Y_train = Y\n",
    "X_val = val_padded\n",
    "Y_val = to_categorical(val_tag_padded)\n",
    "X_test = test_padded\n",
    "Y_test = to_categorical(test_tag_padded)\n",
    "print(X_train.shape)\n",
    "print(Y_train.shape)\n",
    "print(X_val.shape)\n",
    "print(Y_val.shape)\n",
    "print(X_test.shape)\n",
    "print(Y_test.shape)"
   ]
  },
  {
   "cell_type": "code",
   "execution_count": 21,
   "metadata": {},
   "outputs": [
    {
     "name": "stdout",
     "output_type": "stream",
     "text": [
      "Number of OOV terms: 0\n",
      "Number of OOV terms: 3746\n",
      "Number of OOV terms: 1969\n"
     ]
    }
   ],
   "source": [
    "def check_OOV_terms(X):\n",
    "    count_OOV = 0\n",
    "    for sentence in X:\n",
    "        for word in sentence:\n",
    "            if word == 1:\n",
    "                count_OOV += 1\n",
    "    print(f'Number of OOV terms: {count_OOV}')\n",
    "\n",
    "check_OOV_terms(X_train)\n",
    "check_OOV_terms(X_val)\n",
    "check_OOV_terms(X_test)"
   ]
  },
  {
   "cell_type": "code",
   "execution_count": 22,
   "metadata": {},
   "outputs": [],
   "source": [
    "# Baseline model: LSTM + FC\n",
    "\n",
    "from keras.models import Sequential\n",
    "from keras.layers import Dense, LSTM, Embedding, Bidirectional, TimeDistributed, Dropout\n",
    "from keras.optimizers import Adam\n",
    "\n",
    "num_tags = Y_train.shape[2]\n",
    "\n",
    "baseline = Sequential()\n",
    "baseline.add(Embedding(input_dim=len(sentence_tokenizer.word_index) + 1, output_dim=50, input_length=MAX_SEQ_LENGTH, weights=[embedding_train_matrix], trainable=False))\n",
    "baseline.add(Bidirectional(LSTM(units=128, return_sequences=True, recurrent_dropout=0.1)))\n",
    "baseline.add(TimeDistributed(Dense(num_tags, activation=\"softmax\")))"
   ]
  },
  {
   "cell_type": "code",
   "execution_count": 23,
   "metadata": {},
   "outputs": [
    {
     "name": "stdout",
     "output_type": "stream",
     "text": [
      "Model: \"sequential\"\n",
      "_________________________________________________________________\n",
      " Layer (type)                Output Shape              Param #   \n",
      "=================================================================\n",
      " embedding (Embedding)       (None, 100, 50)           370300    \n",
      "                                                                 \n",
      " bidirectional (Bidirection  (None, 100, 256)          183296    \n",
      " al)                                                             \n",
      "                                                                 \n",
      " time_distributed (TimeDist  (None, 100, 46)           11822     \n",
      " ributed)                                                        \n",
      "                                                                 \n",
      "=================================================================\n",
      "Total params: 565418 (2.16 MB)\n",
      "Trainable params: 195118 (762.18 KB)\n",
      "Non-trainable params: 370300 (1.41 MB)\n",
      "_________________________________________________________________\n"
     ]
    }
   ],
   "source": [
    "baseline.compile(loss=\"categorical_crossentropy\", optimizer=Adam(0.001), metrics=[\"accuracy\"])\n",
    "\n",
    "baseline.summary()"
   ]
  },
  {
   "cell_type": "code",
   "execution_count": 24,
   "metadata": {},
   "outputs": [
    {
     "name": "stdout",
     "output_type": "stream",
     "text": [
      "Epoch 1/10\n",
      "16/16 [==============================] - 18s 786ms/step - loss: 2.5347 - accuracy: 0.7329 - val_loss: 0.9648 - val_accuracy: 0.7784\n",
      "Epoch 2/10\n",
      "16/16 [==============================] - 12s 773ms/step - loss: 0.7889 - accuracy: 0.8034 - val_loss: 0.7179 - val_accuracy: 0.8014\n",
      "Epoch 3/10\n",
      "16/16 [==============================] - 14s 856ms/step - loss: 0.6621 - accuracy: 0.8210 - val_loss: 0.6460 - val_accuracy: 0.8232\n",
      "Epoch 4/10\n",
      "16/16 [==============================] - 13s 801ms/step - loss: 0.5955 - accuracy: 0.8416 - val_loss: 0.5872 - val_accuracy: 0.8463\n",
      "Epoch 5/10\n",
      "16/16 [==============================] - 12s 783ms/step - loss: 0.5347 - accuracy: 0.8628 - val_loss: 0.5313 - val_accuracy: 0.8637\n",
      "Epoch 6/10\n",
      "16/16 [==============================] - 13s 809ms/step - loss: 0.4768 - accuracy: 0.8780 - val_loss: 0.4812 - val_accuracy: 0.8767\n",
      "Epoch 7/10\n",
      "16/16 [==============================] - 13s 798ms/step - loss: 0.4285 - accuracy: 0.8897 - val_loss: 0.4373 - val_accuracy: 0.8870\n",
      "Epoch 8/10\n",
      "16/16 [==============================] - 13s 808ms/step - loss: 0.3825 - accuracy: 0.9029 - val_loss: 0.4007 - val_accuracy: 0.8984\n",
      "Epoch 9/10\n",
      "16/16 [==============================] - 13s 798ms/step - loss: 0.3467 - accuracy: 0.9134 - val_loss: 0.3707 - val_accuracy: 0.9051\n",
      "Epoch 10/10\n",
      "16/16 [==============================] - 13s 848ms/step - loss: 0.3181 - accuracy: 0.9203 - val_loss: 0.3462 - val_accuracy: 0.9111\n"
     ]
    }
   ],
   "source": [
    "history_baseline = baseline.fit(X_train, Y_train, validation_data=(X_val, Y_val), batch_size=128, epochs=10, verbose=1)"
   ]
  },
  {
   "cell_type": "code",
   "execution_count": 25,
   "metadata": {},
   "outputs": [
    {
     "data": {
      "image/png": "[encoded data removed]",
      "text/plain": [
       "<Figure size 640x480 with 1 Axes>"
      ]
     },
     "metadata": {},
     "output_type": "display_data"
    }
   ],
   "source": [
    "# plot results\n",
    "plt.plot(history_baseline.history['accuracy'])\n",
    "plt.plot(history_baseline.history['val_accuracy'])\n",
    "plt.title('Model accuracy')\n",
    "plt.ylabel('Accuracy')\n",
    "plt.xlabel('Epochs')\n",
    "plt.legend(['Train', 'Validation'], loc='upper left')\n",
    "plt.show()"
   ]
  },
  {
   "cell_type": "code",
   "execution_count": 26,
   "metadata": {},
   "outputs": [],
   "source": [
    "num_tags = Y_train.shape[2]\n",
    "\n",
    "model1 = Sequential()\n",
    "model1.add(Embedding(input_dim=len(sentence_tokenizer.word_index) + 1, output_dim=50, input_length=MAX_SEQ_LENGTH, weights=[embedding_train_matrix], trainable=False))\n",
    "model1.add(Bidirectional(LSTM(units=128, return_sequences=True, recurrent_dropout=0.1)))\n",
    "model1.add(Bidirectional(LSTM(units=64, return_sequences=True, recurrent_dropout=0.1)))\n",
    "model1.add(TimeDistributed(Dense(num_tags, activation=\"softmax\")))"
   ]
  },
  {
   "cell_type": "code",
   "execution_count": 27,
   "metadata": {},
   "outputs": [],
   "source": [
    "model1.compile(loss=\"categorical_crossentropy\", optimizer=Adam(0.001), metrics=[\"accuracy\"])"
   ]
  },
  {
   "cell_type": "code",
   "execution_count": 28,
   "metadata": {},
   "outputs": [
    {
     "name": "stdout",
     "output_type": "stream",
     "text": [
      "Epoch 1/10\n",
      "16/16 [==============================] - 37s 2s/step - loss: 2.1299 - accuracy: 0.7277 - val_loss: 0.8225 - val_accuracy: 0.7838\n",
      "Epoch 2/10\n",
      "16/16 [==============================] - 24s 2s/step - loss: 0.7536 - accuracy: 0.7897 - val_loss: 0.7383 - val_accuracy: 0.7917\n",
      "Epoch 3/10\n",
      "16/16 [==============================] - 25s 2s/step - loss: 0.7083 - accuracy: 0.8035 - val_loss: 0.7117 - val_accuracy: 0.8059\n",
      "Epoch 4/10\n",
      "16/16 [==============================] - 25s 2s/step - loss: 0.6798 - accuracy: 0.8101 - val_loss: 0.6845 - val_accuracy: 0.8087\n",
      "Epoch 5/10\n",
      "16/16 [==============================] - 25s 2s/step - loss: 0.6460 - accuracy: 0.8167 - val_loss: 0.6447 - val_accuracy: 0.8206\n",
      "Epoch 6/10\n",
      "16/16 [==============================] - 26s 2s/step - loss: 0.6014 - accuracy: 0.8314 - val_loss: 0.5955 - val_accuracy: 0.8434\n",
      "Epoch 7/10\n",
      "16/16 [==============================] - 26s 2s/step - loss: 0.5453 - accuracy: 0.8589 - val_loss: 0.5390 - val_accuracy: 0.8622\n",
      "Epoch 8/10\n",
      "16/16 [==============================] - 26s 2s/step - loss: 0.4875 - accuracy: 0.8747 - val_loss: 0.4849 - val_accuracy: 0.8725\n",
      "Epoch 9/10\n",
      "16/16 [==============================] - 26s 2s/step - loss: 0.4373 - accuracy: 0.8850 - val_loss: 0.4427 - val_accuracy: 0.8817\n",
      "Epoch 10/10\n",
      "16/16 [==============================] - 26s 2s/step - loss: 0.3971 - accuracy: 0.8936 - val_loss: 0.4109 - val_accuracy: 0.8885\n"
     ]
    }
   ],
   "source": [
    "history_model1 = model1.fit(X_train, Y_train, validation_data=(X_val, Y_val), batch_size=128, epochs=10, verbose=1)"
   ]
  },
  {
   "cell_type": "code",
   "execution_count": 29,
   "metadata": {},
   "outputs": [
    {
     "data": {
      "image/png": "[encoded data removed]",
      "text/plain": [
       "<Figure size 640x480 with 1 Axes>"
      ]
     },
     "metadata": {},
     "output_type": "display_data"
    }
   ],
   "source": [
    "# plot results\n",
    "plt.plot(history_model1.history['accuracy'])\n",
    "plt.plot(history_model1.history['val_accuracy'])\n",
    "plt.title('Model accuracy')\n",
    "plt.ylabel('Accuracy')\n",
    "plt.xlabel('Epochs')\n",
    "plt.legend(['Train', 'Validation'], loc='upper left')\n",
    "plt.show()"
   ]
  },
  {
   "cell_type": "code",
   "execution_count": 30,
   "metadata": {},
   "outputs": [],
   "source": [
    "num_tags = Y_train.shape[2]\n",
    "\n",
    "model2 = Sequential()\n",
    "model2.add(Embedding(input_dim=len(sentence_tokenizer.word_index) + 1 , output_dim=50, input_length=MAX_SEQ_LENGTH, weights=[embedding_train_matrix], trainable=False))\n",
    "model2.add(Bidirectional(LSTM(units=128, return_sequences=True, recurrent_dropout=0.1)))\n",
    "model2.add(TimeDistributed(Dense(num_tags, activation=\"softmax\")))\n",
    "model2.add(TimeDistributed(Dense(num_tags, activation=\"softmax\")))"
   ]
  },
  {
   "cell_type": "code",
   "execution_count": 31,
   "metadata": {},
   "outputs": [],
   "source": [
    "model2.compile(loss=\"categorical_crossentropy\", optimizer=Adam(0.001), metrics=[\"accuracy\"])"
   ]
  },
  {
   "cell_type": "code",
   "execution_count": 32,
   "metadata": {},
   "outputs": [
    {
     "name": "stdout",
     "output_type": "stream",
     "text": [
      "Epoch 1/10\n",
      "16/16 [==============================] - 21s 934ms/step - loss: 3.7843 - accuracy: 0.3262 - val_loss: 3.6532 - val_accuracy: 0.7558\n",
      "Epoch 2/10\n",
      "16/16 [==============================] - 14s 891ms/step - loss: 3.5921 - accuracy: 0.7592 - val_loss: 3.5474 - val_accuracy: 0.7558\n",
      "Epoch 3/10\n",
      "16/16 [==============================] - 14s 896ms/step - loss: 3.5204 - accuracy: 0.7592 - val_loss: 3.4893 - val_accuracy: 0.7558\n",
      "Epoch 4/10\n",
      "16/16 [==============================] - 14s 906ms/step - loss: 3.4633 - accuracy: 0.7592 - val_loss: 3.4345 - val_accuracy: 0.7558\n",
      "Epoch 5/10\n",
      "16/16 [==============================] - 14s 896ms/step - loss: 3.4074 - accuracy: 0.7623 - val_loss: 3.3785 - val_accuracy: 0.7606\n",
      "Epoch 6/10\n",
      "16/16 [==============================] - 14s 899ms/step - loss: 3.3500 - accuracy: 0.7709 - val_loss: 3.3218 - val_accuracy: 0.7692\n",
      "Epoch 7/10\n",
      "16/16 [==============================] - 14s 906ms/step - loss: 3.2934 - accuracy: 0.7810 - val_loss: 3.2664 - val_accuracy: 0.7739\n",
      "Epoch 8/10\n",
      "16/16 [==============================] - 14s 896ms/step - loss: 3.2383 - accuracy: 0.7831 - val_loss: 3.2122 - val_accuracy: 0.7751\n",
      "Epoch 9/10\n",
      "16/16 [==============================] - 14s 871ms/step - loss: 3.1846 - accuracy: 0.7838 - val_loss: 3.1595 - val_accuracy: 0.7758\n",
      "Epoch 10/10\n",
      "16/16 [==============================] - 14s 901ms/step - loss: 3.1321 - accuracy: 0.7844 - val_loss: 3.1078 - val_accuracy: 0.7759\n"
     ]
    }
   ],
   "source": [
    "history_model2 = model2.fit(X_train, Y_train, validation_data=(X_val, Y_val), batch_size=128, epochs=10, verbose=1)"
   ]
  },
  {
   "cell_type": "code",
   "execution_count": 33,
   "metadata": {},
   "outputs": [
    {
     "data": {
      "image/png": "[encoded data removed]",
      "text/plain": [
       "<Figure size 640x480 with 1 Axes>"
      ]
     },
     "metadata": {},
     "output_type": "display_data"
    }
   ],
   "source": [
    "# plot results\n",
    "plt.plot(history_model2.history['accuracy'])\n",
    "plt.plot(history_model2.history['val_accuracy'])\n",
    "plt.title('Model accuracy')\n",
    "plt.ylabel('Accuracy')\n",
    "plt.xlabel('Epochs')\n",
    "plt.legend(['Train', 'Validation'], loc='upper left')\n",
    "plt.show()"
   ]
  },
  {
   "cell_type": "code",
   "execution_count": 34,
   "metadata": {},
   "outputs": [
    {
     "ename": "ModuleNotFoundError",
     "evalue": "No module named 'sklearn'",
     "output_type": "error",
     "traceback": [
      "\u001b[1;31m---------------------------------------------------------------------------\u001b[0m",
      "\u001b[1;31mModuleNotFoundError\u001b[0m                       Traceback (most recent call last)",
      "\u001b[1;32md:\\NLProject\\A1_v2.ipynb Cell 35\u001b[0m line \u001b[0;36m2\n\u001b[0;32m      <a href='vscode-notebook-cell:/d%3A/NLProject/A1_v2.ipynb#Y212sZmlsZQ%3D%3D?line=0'>1</a>\u001b[0m \u001b[39m#Metrics: Evaluate using macro-f1 score computer over all tokens\u001b[39;00m\n\u001b[1;32m----> <a href='vscode-notebook-cell:/d%3A/NLProject/A1_v2.ipynb#Y212sZmlsZQ%3D%3D?line=1'>2</a>\u001b[0m \u001b[39mfrom\u001b[39;00m \u001b[39msklearn\u001b[39;00m\u001b[39m.\u001b[39;00m\u001b[39mmetrics\u001b[39;00m \u001b[39mimport\u001b[39;00m f1_score\n\u001b[0;32m      <a href='vscode-notebook-cell:/d%3A/NLProject/A1_v2.ipynb#Y212sZmlsZQ%3D%3D?line=3'>4</a>\u001b[0m \u001b[39mdef\u001b[39;00m \u001b[39mcompute_f1\u001b[39m(predictions, correct, idx2Label):\n\u001b[0;32m      <a href='vscode-notebook-cell:/d%3A/NLProject/A1_v2.ipynb#Y212sZmlsZQ%3D%3D?line=4'>5</a>\u001b[0m     label_pred \u001b[39m=\u001b[39m []\n",
      "\u001b[1;31mModuleNotFoundError\u001b[0m: No module named 'sklearn'"
     ]
    }
   ],
   "source": [
    "#Metrics: Evaluate using macro-f1 score computer over all tokens\n",
    "from sklearn.metrics import f1_score\n",
    "\n",
    "def compute_f1(predictions, correct, idx2Label):\n",
    "    label_pred = []\n",
    "    for sentence in predictions:\n",
    "        label_pred.append([idx2Label[element.argmax()] for element in sentence])\n",
    "    label_correct = []\n",
    "    for sentence in correct:\n",
    "        label_correct.append([idx2Label[element.argmax()] for element in sentence])\n",
    "    \n",
    "    # flatten the list of lists\n",
    "    flat_predictions = [item for sublist in label_pred for item in sublist]\n",
    "    flat_correct = [item for sublist in label_correct for item in sublist]\n",
    "    # compute f1 score\n",
    "    f1 = f1_score(flat_correct, flat_predictions, average='macro')\n",
    "    return f1\n",
    "\n",
    "# Evaluate the model on the test set\n",
    "predictions = model2.predict(X_test)\n",
    "print(predictions.shape)\n",
    "print(predictions[0])"
   ]
  },
  {
   "cell_type": "code",
   "execution_count": null,
   "metadata": {},
   "outputs": [],
   "source": []
  }
 ],
 "metadata": {
  "kernelspec": {
   "display_name": ".venv",
   "language": "python",
   "name": "python3"
  },
  "language_info": {
   "codemirror_mode": {
    "name": "ipython",
    "version": 3
   },
   "file_extension": ".py",
   "mimetype": "text/x-python",
   "name": "python",
   "nbconvert_exporter": "python",
   "pygments_lexer": "ipython3",
   "version": "3.10.10"
  }
 },
 "nbformat": 4,
 "nbformat_minor": 2
}
