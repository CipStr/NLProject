{
 "cells": [
  {
   "cell_type": "markdown",
   "metadata": {},
   "source": [
    "# Assignment 1\n",
    "\n",
    "This Jupyter Notebook document is our implementation of Assignment 1. \n",
    "\n",
    "Group members:\n",
    "- Stricescu Razvan Ciprian\n",
    "- Matteo Belletti\n",
    "- Alessandro Pasi\n"
   ]
  },
  {
   "cell_type": "markdown",
   "metadata": {},
   "source": [
    "# Imports and libraries needed"
   ]
  },
  {
   "cell_type": "code",
   "execution_count": 1,
   "metadata": {},
   "outputs": [
    {
     "name": "stdout",
     "output_type": "stream",
     "text": [
      "WARNING:tensorflow:From d:\\NLProject\\.venv\\lib\\site-packages\\keras\\src\\losses.py:2976: The name tf.losses.sparse_softmax_cross_entropy is deprecated. Please use tf.compat.v1.losses.sparse_softmax_cross_entropy instead.\n",
      "\n"
     ]
    }
   ],
   "source": [
    "# %pip install pandas \n",
    "# %pip install numpy\n",
    "# %pip install matplotlib\n",
    "# %pip install tqdm\n",
    "# %pip install seaborn\n",
    "# %pip install tensorflow\n",
    "# %pip install keras\n",
    "# %pip install gensim\n",
    "# %pip install scikit-learn\n",
    "\n",
    "import pandas as pd \n",
    "import numpy as np\n",
    "import matplotlib.pyplot as plt\n",
    "from tqdm import tqdm\n",
    "import seaborn as sns\n",
    "import sklearn\n",
    "import random\n",
    "import os\n",
    "from keras.models import Sequential\n",
    "from keras.layers import Dense, LSTM, Embedding, Bidirectional, TimeDistributed, Dropout\n",
    "from keras.optimizers import Adam\n",
    "import pickle\n",
    "from keras.preprocessing.text import Tokenizer\n",
    "from keras.preprocessing.sequence import pad_sequences\n",
    "import gensim\n",
    "import gensim.downloader as gloader\n",
    "from keras.utils import to_categorical\n",
    "from sklearn.metrics import f1_score\n",
    "import tensorflow as tf\n",
    "from sklearn.metrics import confusion_matrix\n",
    "from collections import Counter\n"
   ]
  },
  {
   "cell_type": "markdown",
   "metadata": {},
   "source": [
    "# Task 1: Data Loading and Splitting\n",
    "* **Download** the corpus.\n",
    "* **Encode** the corpus into a pandas.DataFrame object.\n",
    "* **Split** it in training, validation, and test sets.\n",
    "\n",
    "[Penn TreeBank corpus](https://raw.githubusercontent.com/nltk/nltk_data/gh-pages/packages/corpora/dependency_treebank.zip)."
   ]
  },
  {
   "cell_type": "markdown",
   "metadata": {},
   "source": [
    "Dataframe generation:"
   ]
  },
  {
   "cell_type": "code",
   "execution_count": 2,
   "metadata": {},
   "outputs": [
    {
     "name": "stderr",
     "output_type": "stream",
     "text": [
      "100%|██████████| 199/199 [00:00<00:00, 1507.23it/s]"
     ]
    },
    {
     "name": "stdout",
     "output_type": "stream",
     "text": [
      "     word  pos\n",
      "0  Pierre  NNP\n",
      "1  Vinken  NNP\n",
      "2       ,    ,\n",
      "3      61   CD\n",
      "4   years  NNS\n",
      "(199, 1)\n"
     ]
    },
    {
     "name": "stderr",
     "output_type": "stream",
     "text": [
      "\n"
     ]
    }
   ],
   "source": [
    "# Create documents dataframe\n",
    "dp_docs = [file for file in os.listdir('dependency_treebank/') if file.endswith('.dp')]\n",
    "dataframes = []\n",
    "\n",
    "for file in tqdm(dp_docs):\n",
    "    with open('dependency_treebank/' + file, 'r') as f:\n",
    "        lines = f.readlines()\n",
    "        data = [line.split('\\t') for line in lines]\n",
    "        df = pd.DataFrame(data, columns=['word', 'pos', 'head'])\n",
    "        # drop the last column\n",
    "        df = df.iloc[:, :-1]\n",
    "        dataframes.append(df)\n",
    "\n",
    "df = pd.DataFrame({'Dataframes': dataframes})\n",
    "print(df['Dataframes'][0][0:5])\n",
    "print(df.shape)"
   ]
  },
  {
   "cell_type": "markdown",
   "metadata": {},
   "source": [
    "Data splitting: train, validation, test."
   ]
  },
  {
   "cell_type": "code",
   "execution_count": 3,
   "metadata": {},
   "outputs": [
    {
     "name": "stdout",
     "output_type": "stream",
     "text": [
      "Train dataframe shape: (100,), Validation dataframe shape: (50,), Test dataframe shape: (49,)\n"
     ]
    }
   ],
   "source": [
    "# Split the dataframes into train, validation and test sets\n",
    "train = df['Dataframes'][0:100]\n",
    "val = df['Dataframes'][100:150]\n",
    "test = df['Dataframes'][150:200]\n",
    "\n",
    "print(f'Train dataframe shape: {train.shape}, Validation dataframe shape: {val.shape}, Test dataframe shape: {test.shape}')"
   ]
  },
  {
   "cell_type": "markdown",
   "metadata": {},
   "source": [
    "Text preprocessing: new line/emtpy line removal."
   ]
  },
  {
   "cell_type": "code",
   "execution_count": 4,
   "metadata": {},
   "outputs": [
    {
     "name": "stdout",
     "output_type": "stream",
     "text": [
      "length of a train sentence before preprocessing: 32\n",
      "\n",
      "     word  pos\n",
      "0  Pierre  NNP\n",
      "1  Vinken  NNP\n",
      "2       ,    ,\n",
      "3      61   CD\n",
      "4   years  NNS\n",
      "\n",
      "Lenght of train sentence after preprocessing: 31\n"
     ]
    }
   ],
   "source": [
    "# Text preprocessing: from each doc remove newlines and empty lines\n",
    "def remove_newlines(df, docs):\n",
    "    for i in range(docs, docs + len(df)):\n",
    "        df[i] = df[i][df[i]['word'] != '\\n']\n",
    "        df[i] = df[i][df[i]['word'] != '']\n",
    "print(f'length of a train sentence before preprocessing: {len(train[0])}\\n')\n",
    "remove_newlines(train, 0)\n",
    "remove_newlines(val, 100)\n",
    "remove_newlines(test, 150)\n",
    "print(train[0][0:5])\n",
    "print(f'\\nLenght of train sentence after preprocessing: {len(train[0])}')"
   ]
  },
  {
   "cell_type": "markdown",
   "metadata": {},
   "source": [
    "We create a sentence list for both normal sentences and tags in order to create the vocabulary."
   ]
  },
  {
   "cell_type": "code",
   "execution_count": 5,
   "metadata": {},
   "outputs": [
    {
     "name": "stdout",
     "output_type": "stream",
     "text": [
      "Number of train sentences: 1959, Number of val sentences: 1277, Number of test sentences: 638\n",
      "Number of train tag sentences: 1959, Number of val tag sentences: 1277, Number of test tag sentences: 638\n"
     ]
    }
   ],
   "source": [
    "# Create new list that contains the single sentences\n",
    "def create_sentences(df, docs):\n",
    "    sentences = []\n",
    "    chunks = []\n",
    "    for i in range(docs, docs + len(df)):\n",
    "        for element in df[i]['word']:\n",
    "            if element != '.' and element != '!' and element != '?':\n",
    "                chunks.append(element)\n",
    "            else:\n",
    "                chunks.append(element)\n",
    "                sentences.append(chunks)\n",
    "                chunks = []\n",
    "    return sentences\n",
    "\n",
    "def create_tag_sentences(df, docs):\n",
    "    tag_sentences = []\n",
    "    chunks = []\n",
    "    for i in range(docs, docs + len(df)):\n",
    "        for element in df[i]['pos']:\n",
    "            if element != '.' and element != '!' and element != '?':\n",
    "                chunks.append(element)\n",
    "            else:\n",
    "                chunks.append(element)\n",
    "                tag_sentences.append(chunks)\n",
    "                chunks = []\n",
    "    return tag_sentences\n",
    "\n",
    "# Create sentences for train, val and test\n",
    "train_sentences = create_sentences(train, 0)\n",
    "val_sentences = create_sentences(val, 100)\n",
    "test_sentences = create_sentences(test, 150)\n",
    "# Create tag sentences for train, val and test\n",
    "train_tag_sentences = create_tag_sentences(train, 0)\n",
    "val_tag_sentences = create_tag_sentences(val, 100)\n",
    "test_tag_sentences = create_tag_sentences(test, 150)\n",
    "print(f'Number of train sentences: {len(train_sentences)}, Number of val sentences: {len(val_sentences)}, Number of test sentences: {len(test_sentences)}')\n",
    "print(f'Number of train tag sentences: {len(train_tag_sentences)}, Number of val tag sentences: {len(val_tag_sentences)}, Number of test tag sentences: {len(test_tag_sentences)}')"
   ]
  },
  {
   "cell_type": "markdown",
   "metadata": {},
   "source": [
    "# Task 2: Text encoding\n",
    "\n",
    "To train a neural POS tagger, you first need to encode text into numerical format."
   ]
  },
  {
   "cell_type": "markdown",
   "metadata": {},
   "source": [
    "### Instructions\n",
    "\n",
    "* Embed words using **GloVe embeddings**.\n",
    "* You are **free** to pick any embedding dimension.\n",
    "* [Optional] You are free to experiment with text pre-processing: **make sure you do not delete any token!**"
   ]
  },
  {
   "cell_type": "markdown",
   "metadata": {},
   "source": [
    "Tokenization: we use the Keras Tokenizer on the training set to create the vocabulary. We then use the GloVe embeddings to create the embedding matrix."
   ]
  },
  {
   "cell_type": "code",
   "execution_count": 6,
   "metadata": {},
   "outputs": [
    {
     "name": "stdout",
     "output_type": "stream",
     "text": [
      "OOV token: <UNK>\n",
      "Vocabulary size: 7405\n",
      "Example of an encoded train sentence: [3427, 2309, 2, 1744, 65, 343, 2, 41, 1371, 3, 192, 24, 7, 1120, 270, 708, 2310, 4]\n"
     ]
    }
   ],
   "source": [
    "# Encode train sentences and tags using keras tokenizer\n",
    "sentence_tokenizer = Tokenizer(oov_token='<UNK>') # out of vocabulary token\n",
    "sentence_tokenizer.fit_on_texts(train_sentences)\n",
    "encoded_train_sentences = sentence_tokenizer.texts_to_sequences(train_sentences)\n",
    "encoded_val_sentences = sentence_tokenizer.texts_to_sequences(val_sentences)\n",
    "encoded_test_sentences = sentence_tokenizer.texts_to_sequences(test_sentences)\n",
    "\n",
    "print(f'OOV token: {sentence_tokenizer.oov_token}')\n",
    "print(f'Vocabulary size: {len(sentence_tokenizer.word_index)}')\n",
    "print(f'Example of an encoded train sentence: {encoded_train_sentences[0]}')"
   ]
  },
  {
   "cell_type": "markdown",
   "metadata": {},
   "source": [
    "Testing the tokenization by encoding and decoding a sentence."
   ]
  },
  {
   "cell_type": "code",
   "execution_count": 7,
   "metadata": {},
   "outputs": [
    {
     "name": "stdout",
     "output_type": "stream",
     "text": [
      "Original sentence: ['Rudolph', 'Agnew', ',', '55', 'years', 'old', 'and', 'former', 'chairman', 'of', 'Consolidated', 'Gold', 'Fields', 'PLC', ',', 'was', 'named', 'a', 'nonexecutive', 'director', 'of', 'this', 'British', 'industrial', 'conglomerate', '.']\n",
      "Encoded sentence: [1746, 3430, 2, 959, 65, 343, 9, 497, 166, 5, 2311, 1121, 553, 1747, 2, 25, 448, 7, 1120, 270, 5, 46, 1122, 498, 3431, 4]\n",
      "Decoded sentence: ['rudolph agnew , 55 years old and former chairman of consolidated gold fields plc , was named a nonexecutive director of this british industrial conglomerate .']\n"
     ]
    }
   ],
   "source": [
    "# I print and decode sentence 0\n",
    "i = 2\n",
    "print(f'Original sentence: {train_sentences[i]}')\n",
    "print(f'Encoded sentence: {encoded_train_sentences[i]}')\n",
    "print(f'Decoded sentence: {sentence_tokenizer.sequences_to_texts([encoded_train_sentences[i]])}')"
   ]
  },
  {
   "cell_type": "markdown",
   "metadata": {},
   "source": [
    "We do the same as above for the tags."
   ]
  },
  {
   "cell_type": "code",
   "execution_count": 8,
   "metadata": {},
   "outputs": [
    {
     "name": "stdout",
     "output_type": "stream",
     "text": [
      "Tag vocabulary size: 46\n",
      "Example of an encoded train tag: [3, 3, 8, 12, 6, 7, 8, 21, 13, 5, 2, 4, 5, 7, 2, 3, 12, 9]\n"
     ]
    }
   ],
   "source": [
    "tag_tokenizer = Tokenizer(oov_token='<UNK>')\n",
    "tag_tokenizer.fit_on_texts(train_tag_sentences)\n",
    "encoded_train_tags = tag_tokenizer.texts_to_sequences(train_tag_sentences)\n",
    "encoded_val_tags = tag_tokenizer.texts_to_sequences(val_tag_sentences)\n",
    "encoded_test_tags = tag_tokenizer.texts_to_sequences(test_tag_sentences)\n",
    "\n",
    "print(f'Tag vocabulary size: {len(tag_tokenizer.word_index)}')\n",
    "print(f'Example of an encoded train tag: {encoded_train_tags[0]}')"
   ]
  },
  {
   "cell_type": "markdown",
   "metadata": {},
   "source": [
    "Testing the tokenization by encoding and decoding a tag sequence."
   ]
  },
  {
   "cell_type": "code",
   "execution_count": 9,
   "metadata": {},
   "outputs": [
    {
     "name": "stdout",
     "output_type": "stream",
     "text": [
      "Original tag sentence: ['NNP', 'NNP', ',', 'CD', 'NNS', 'JJ', 'CC', 'JJ', 'NN', 'IN', 'NNP', 'NNP', 'NNP', 'NNP', ',', 'VBD', 'VBN', 'DT', 'JJ', 'NN', 'IN', 'DT', 'JJ', 'JJ', 'NN', '.']\n",
      "Encoded tag sentence: [3, 3, 8, 12, 6, 7, 14, 7, 2, 4, 3, 3, 3, 3, 8, 10, 16, 5, 7, 2, 4, 5, 7, 7, 2, 9]\n",
      "Decoded tag sentence: ['nnp nnp , cd nns jj cc jj nn in nnp nnp nnp nnp , vbd vbn dt jj nn in dt jj jj nn .']\n"
     ]
    }
   ],
   "source": [
    "print(f'Original tag sentence: {train_tag_sentences[i]}')\n",
    "print(f'Encoded tag sentence: {encoded_train_tags[i]}')\n",
    "print(f'Decoded tag sentence: {tag_tokenizer.sequences_to_texts([encoded_train_tags[i]])}')"
   ]
  },
  {
   "cell_type": "markdown",
   "metadata": {},
   "source": [
    "In order to prepare the data for the model we need to pad the sequences to the same length.\n",
    "\n",
    "First thing we chech the length of the sentences in order to pick a good max length for the padding."
   ]
  },
  {
   "cell_type": "code",
   "execution_count": 10,
   "metadata": {},
   "outputs": [
    {
     "name": "stdout",
     "output_type": "stream",
     "text": [
      "Length of longest sentence: 250\n"
     ]
    },
    {
     "data": {
      "image/png": "[encoded data removed]",
      "text/plain": [
       "<Figure size 640x480 with 1 Axes>"
      ]
     },
     "metadata": {},
     "output_type": "display_data"
    }
   ],
   "source": [
    "# check length of longest sentence \n",
    "lengths = [len(sentence) for sentence in encoded_train_sentences]\n",
    "print(f'Length of longest sentence: {max(lengths)}')\n",
    "sns.boxplot(lengths)\n",
    "plt.show()"
   ]
  },
  {
   "cell_type": "markdown",
   "metadata": {},
   "source": [
    "Text padding: we use the Keras pad_sequences function to pad the sentences to the same length. We chose a max length of 100 as most of the sentences are shorter than that.\n",
    "\n",
    "We pad both the sentences and the tags."
   ]
  },
  {
   "cell_type": "code",
   "execution_count": 11,
   "metadata": {},
   "outputs": [
    {
     "name": "stdout",
     "output_type": "stream",
     "text": [
      "Example of a padded train sentence:\n",
      "[   0    0    0    0    0    0    0    0    0    0    0    0    0    0\n",
      "    0    0    0    0    0    0    0    0    0    0    0    0    0    0\n",
      "    0    0    0    0    0    0    0    0    0    0    0    0    0    0\n",
      "    0    0    0    0    0    0    0    0    0    0    0    0    0    0\n",
      "    0    0    0    0    0    0    0    0    0    0    0    0    0    0\n",
      "    0    0    0    0    0    0    0    0    0    0    0    0 3427 2309\n",
      "    2 1744   65  343    2   41 1371    3  192   24    7 1120  270  708\n",
      " 2310    4]\n"
     ]
    }
   ],
   "source": [
    "# Pad each sequence to MAX_SEQ_LENGTH using KERAS' pad_sequences() function. \n",
    "# Sentences longer than MAX_SEQ_LENGTH are truncated.\n",
    "# Sentences shorter than MAX_SEQ_LENGTH are padded with zeroes.\n",
    "\n",
    "# Truncation and padding can either be 'pre' or 'post'. \n",
    "# For padding we are using 'pre' padding type, that is, add zeroes on the left side.\n",
    "# For truncation, we are using 'post', that is, truncate a sentence from right side.\n",
    "\n",
    "MAX_SEQ_LENGTH = 100\n",
    "train_padded = pad_sequences(encoded_train_sentences, maxlen=MAX_SEQ_LENGTH, padding='pre', truncating='post')\n",
    "train_tag_padded = pad_sequences(encoded_train_tags, maxlen=MAX_SEQ_LENGTH, padding='pre', truncating='post')\n",
    "val_padded = pad_sequences(encoded_val_sentences, maxlen=MAX_SEQ_LENGTH, padding='pre', truncating='post')\n",
    "val_tag_padded = pad_sequences(encoded_val_tags, maxlen=MAX_SEQ_LENGTH, padding='pre', truncating='post')\n",
    "test_padded = pad_sequences(encoded_test_sentences, maxlen=MAX_SEQ_LENGTH, padding='pre', truncating='post')\n",
    "test_tag_padded = pad_sequences(encoded_test_tags, maxlen=MAX_SEQ_LENGTH, padding='pre', truncating='post')\n",
    "\n",
    "print(f'Example of a padded train sentence:\\n{train_padded[0]}')"
   ]
  },
  {
   "cell_type": "markdown",
   "metadata": {},
   "source": [
    "Now that the data is both encoded and padded we can import the GloVe embeddings and create the embedding matrix."
   ]
  },
  {
   "cell_type": "code",
   "execution_count": 12,
   "metadata": {},
   "outputs": [],
   "source": [
    "def load_embedding_model(embedding_dimension: int = 50) -> gensim.models.keyedvectors.KeyedVectors:\n",
    "    download_path = \"\"\n",
    "    download_path = \"glove-wiki-gigaword-{}\".format(embedding_dimension)\n",
    "        \n",
    "    try:\n",
    "        emb_model = gloader.load(download_path)\n",
    "    except ValueError as e:\n",
    "        print(\"Invalid embedding model name! Check the embedding dimension:\")\n",
    "        print(\"Glove: 50, 100, 200, 300\")\n",
    "        raise e\n",
    "\n",
    "    return emb_model\n",
    "\n",
    "# Glove -> 50, 100, 200, 300\n",
    "embedding_model = load_embedding_model(embedding_dimension=50)"
   ]
  },
  {
   "cell_type": "markdown",
   "metadata": {},
   "source": [
    "We create the embedding matrix by importing the GloVe embeddings and using the vocabulary created by the Tokenizer.\n",
    "\n",
    "Preferably if the GloVe embedding exists for a word we use that, otherwise we use a random embedding."
   ]
  },
  {
   "cell_type": "code",
   "execution_count": 13,
   "metadata": {},
   "outputs": [
    {
     "name": "stderr",
     "output_type": "stream",
     "text": [
      "100%|██████████| 7405/7405 [00:00<00:00, 78758.73it/s]"
     ]
    },
    {
     "name": "stdout",
     "output_type": "stream",
     "text": [
      "Number of words that have no glove embedding: 359\n",
      "Embedding matrix shape: (7406, 50)\n"
     ]
    },
    {
     "name": "stderr",
     "output_type": "stream",
     "text": [
      "\n"
     ]
    }
   ],
   "source": [
    "def create_embedding_matrix(embedding_model, word2id, embedding_dim):\n",
    "    vocab_size = len(word2id) + 1\n",
    "    embedding_matrix = np.zeros((vocab_size, embedding_dim))\n",
    "    OOV_embedding = np.random.rand(embedding_dim)\n",
    "    count_not_in_glove = 0\n",
    "    for word, i in tqdm(word2id.items()):\n",
    "        try:\n",
    "            embedding_matrix[i, :] = embedding_model[word]\n",
    "        except KeyError:\n",
    "            if word == '<UNK>':\n",
    "                # give <UNK> a static embedding\n",
    "                embedding_matrix[i, :] = OOV_embedding\n",
    "                continue\n",
    "            # If the word is not in the embedding model, it will have a random embedding vector, but check that its not already present\n",
    "            embedding_vector = np.random.rand(embedding_dim)\n",
    "            while embedding_vector in embedding_matrix:\n",
    "                embedding_vector = np.random.rand(embedding_dim)\n",
    "            embedding_matrix[i, :] = embedding_vector\n",
    "            count_not_in_glove += 1\n",
    "    print(f'Number of words that have no glove embedding: {count_not_in_glove}')\n",
    "    return embedding_matrix\n",
    "\n",
    "embedding_dim = 50\n",
    "embedding_train_matrix = create_embedding_matrix(embedding_model, sentence_tokenizer.word_index, embedding_dim)\n",
    "print(f'Embedding matrix shape: {embedding_train_matrix.shape}')"
   ]
  },
  {
   "cell_type": "markdown",
   "metadata": {},
   "source": [
    "For the tags we one-hot encode them using the Keras to_categorical function."
   ]
  },
  {
   "cell_type": "code",
   "execution_count": 14,
   "metadata": {},
   "outputs": [
    {
     "name": "stdout",
     "output_type": "stream",
     "text": [
      "One-hot encoded train tag shape: (1959, 100, 47)\n",
      "Example of a one-hot encoded train tag:\n",
      "[1. 0. 0. 0. 0. 0. 0. 0. 0. 0. 0. 0. 0. 0. 0. 0. 0. 0. 0. 0. 0. 0. 0. 0.\n",
      " 0. 0. 0. 0. 0. 0. 0. 0. 0. 0. 0. 0. 0. 0. 0. 0. 0. 0. 0. 0. 0. 0. 0.]\n"
     ]
    }
   ],
   "source": [
    "# For tags use one-hot encoding\n",
    "Y_train = to_categorical(train_tag_padded)\n",
    "print(f'One-hot encoded train tag shape: {Y_train.shape}')\n",
    "print(f'Example of a one-hot encoded train tag:\\n{Y_train[0][0]}')"
   ]
  },
  {
   "cell_type": "markdown",
   "metadata": {},
   "source": [
    "Here we reassing the training, validation and test sets which are now encoded and padded, ready to be fed to the model."
   ]
  },
  {
   "cell_type": "code",
   "execution_count": 15,
   "metadata": {},
   "outputs": [
    {
     "name": "stdout",
     "output_type": "stream",
     "text": [
      "X_train shape: (1959, 100), Y_train shape: (1959, 100, 47)\n",
      "X_val shape: (1277, 100), Y_val shape: (1277, 100, 47)\n",
      "X_test shape: (638, 100), Y_test shape: (638, 100, 47)\n"
     ]
    }
   ],
   "source": [
    "# Split the data into train, val and test sets\n",
    "X_train = train_padded\n",
    "X_val = val_padded\n",
    "Y_val = to_categorical(val_tag_padded)\n",
    "X_test = test_padded\n",
    "Y_test = to_categorical(test_tag_padded, num_classes=len(tag_tokenizer.word_index)+1) # for test also consider the missing tags\n",
    "print(f'X_train shape: {X_train.shape}, Y_train shape: {Y_train.shape}')\n",
    "print(f'X_val shape: {X_val.shape}, Y_val shape: {Y_val.shape}')\n",
    "print(f'X_test shape: {X_test.shape}, Y_test shape: {Y_test.shape}')"
   ]
  },
  {
   "cell_type": "markdown",
   "metadata": {},
   "source": [
    "We check for OOV words in the sets, as we can see for the training set there are 0 OOV words because it constitutes the vocabulary."
   ]
  },
  {
   "cell_type": "code",
   "execution_count": 16,
   "metadata": {},
   "outputs": [
    {
     "name": "stdout",
     "output_type": "stream",
     "text": [
      "Number of OOV terms in train set: 0\n",
      "Number of OOV terms in val set: 3746\n",
      "Number of OOV terms in test set: 1969\n"
     ]
    }
   ],
   "source": [
    "def check_OOV_terms(X):\n",
    "    count_OOV = 0\n",
    "    for sentence in X:\n",
    "        for word in sentence:\n",
    "            if word == 1:\n",
    "                count_OOV += 1\n",
    "    return count_OOV\n",
    "\n",
    "print(f'Number of OOV terms in train set: {check_OOV_terms(X_train)}')\n",
    "print(f'Number of OOV terms in val set: {check_OOV_terms(X_val)}')\n",
    "print(f'Number of OOV terms in test set: {check_OOV_terms(X_test)}')"
   ]
  },
  {
   "cell_type": "markdown",
   "metadata": {},
   "source": [
    "# Task 3: Model definition\n",
    "\n",
    "You are now tasked to define your neural POS tagger."
   ]
  },
  {
   "cell_type": "markdown",
   "metadata": {},
   "source": [
    "### Instructions\n",
    "\n",
    "* **Baseline**: implement a Bidirectional LSTM with a Dense layer on top.\n",
    "* You are **free** to experiment with hyper-parameters to define the baseline model.\n",
    "\n",
    "* **Model 1**: add an additional LSTM layer to the Baseline model.\n",
    "* **Model 2**: add an additional Dense layer to the Baseline model.\n",
    "\n",
    "* **Do not mix Model 1 and Model 2**. Each model has its own instructions.\n",
    "\n",
    "**Note**: if a document contains many tokens, you are **free** to split them into chunks or sentences to define your mini-batches."
   ]
  },
  {
   "cell_type": "markdown",
   "metadata": {},
   "source": [
    "We define three different seeds for the models in order to have reproducible results."
   ]
  },
  {
   "cell_type": "code",
   "execution_count": 17,
   "metadata": {},
   "outputs": [],
   "source": [
    "# Number of tags is the tag vocabulary, it is the number of classes we want to predict \n",
    "num_tags = Y_train.shape[2]\n",
    "\n",
    "# Seed definition\n",
    "#seed = 42\n",
    "#seed = 69\n",
    "seed = 420\n",
    "\n",
    "# Set the seed for numpy and tensorflow\n",
    "np.random.seed(seed)\n",
    "tf.random.set_seed(seed)"
   ]
  },
  {
   "cell_type": "markdown",
   "metadata": {},
   "source": [
    "### Baseline model definition:\n",
    "\n",
    "\n",
    "\n"
   ]
  },
  {
   "cell_type": "markdown",
   "metadata": {},
   "source": [
    "For the baseline model we use a Bidirectional LSTM with a Dense layer. Hyperparameters are chosen by using a grid search. \n",
    "\n",
    "We left the hyperparameters in the code but commented out as they take a long time to run. We will just load the best ones we found for further tasks."
   ]
  },
  {
   "cell_type": "code",
   "execution_count": 19,
   "metadata": {},
   "outputs": [
    {
     "data": {
      "text/plain": [
       "\"\\nhyperparameters = { 'lstm_units': [128, 256], \\n                    'dropout_rate': [0.1, 0.2, 0.3],\\n                    'recurrent_dropout_rate': [0.1, 0.2, 0.3],\\n                    'learning_rate': [0.001, 0.01],\\n                    'batch_size': [32, 64, 128]\\n                  }\\n# for each hyperparameter combination, train the model for 3 epochs and save the model with the best validation accuracy\\nfrom sklearn.model_selection import ParameterGrid\\n\\n# create a list of all possible combinations of hyperparameters\\nparam_grid = ParameterGrid(hyperparameters)\\nprint(f'Number of hyperparameter combinations: {len(param_grid)}')\\n\\n# train the model for each hyperparameter combination\\nfrom sklearn.metrics import accuracy_score\\n\\nbest_baseline_val_accuracy = 0\\nbest_baseline_model = None\\nbest_baseline_hyperparameters = None\\n\\nfor params in tqdm(param_grid):\\n    model = create_baseline_model(params['lstm_units'], params['dropout_rate'], params['recurrent_dropout_rate'], params['learning_rate'])\\n    model.fit(X_train, Y_train, epochs=1, batch_size=params['batch_size'], verbose=0)\\n    val_loss, val_accuracy = model.evaluate(X_val, Y_val, verbose=0)\\n    if val_accuracy > best_baseline_val_accuracy:\\n        best_baseline_val_accuracy = val_accuracy\\n        best_baseline_model = model\\n        best_baseline_hyperparameters = params\\n\\nprint(f'Best validation accuracy: {best_baseline_val_accuracy}')\\nprint(f'Best hyperparameters: {best_baseline_hyperparameters}') \\n\\n# save the hyperparameters and the model\\nimport pickle\\nwith open('best_baseline_hyperparameters.pickle', 'wb') as f:\\n    pickle.dump(best_baseline_hyperparameters, f)\\nbest_baseline_model.save('best_baseline_model.h5')\\n\""
      ]
     },
     "execution_count": 19,
     "metadata": {},
     "output_type": "execute_result"
    }
   ],
   "source": [
    "# Baseline model: LSTM + FC\n",
    "\n",
    "#HYPERPARAMETERS TUNING:\n",
    "\n",
    "def create_baseline_model(lstm_units, dropout_rate, recurrent_dropout_rate, learning_rate):\n",
    "    model = Sequential()\n",
    "    model.add(Embedding(input_dim=len(sentence_tokenizer.word_index)+1, output_dim=embedding_dim, input_length=MAX_SEQ_LENGTH, weights=[embedding_train_matrix], trainable=True, mask_zero=True))\n",
    "    model.add(Bidirectional(LSTM(units=lstm_units, return_sequences=True, dropout=dropout_rate, recurrent_dropout=recurrent_dropout_rate)))\n",
    "    model.add(TimeDistributed(Dense(num_tags, activation='softmax')))\n",
    "    model.compile(loss='categorical_crossentropy', optimizer=Adam(learning_rate=learning_rate), metrics=['accuracy'])\n",
    "    return model\n",
    "'''\n",
    "hyperparameters = { 'lstm_units': [128, 256], \n",
    "                    'dropout_rate': [0.1, 0.2, 0.3],\n",
    "                    'recurrent_dropout_rate': [0.1, 0.2, 0.3],\n",
    "                    'learning_rate': [0.001, 0.01],\n",
    "                    'batch_size': [32, 64, 128]\n",
    "                  }\n",
    "# for each hyperparameter combination, train the model for 3 epochs and save the model with the best validation accuracy\n",
    "from sklearn.model_selection import ParameterGrid\n",
    "\n",
    "# create a list of all possible combinations of hyperparameters\n",
    "param_grid = ParameterGrid(hyperparameters)\n",
    "print(f'Number of hyperparameter combinations: {len(param_grid)}')\n",
    "\n",
    "# train the model for each hyperparameter combination\n",
    "from sklearn.metrics import accuracy_score\n",
    "\n",
    "best_baseline_val_accuracy = 0\n",
    "best_baseline_model = None\n",
    "best_baseline_hyperparameters = None\n",
    "\n",
    "for params in tqdm(param_grid):\n",
    "    model = create_baseline_model(params['lstm_units'], params['dropout_rate'], params['recurrent_dropout_rate'], params['learning_rate'])\n",
    "    model.fit(X_train, Y_train, epochs=1, batch_size=params['batch_size'], verbose=0)\n",
    "    val_loss, val_accuracy = model.evaluate(X_val, Y_val, verbose=0)\n",
    "    if val_accuracy > best_baseline_val_accuracy:\n",
    "        best_baseline_val_accuracy = val_accuracy\n",
    "        best_baseline_model = model\n",
    "        best_baseline_hyperparameters = params\n",
    "\n",
    "print(f'Best validation accuracy: {best_baseline_val_accuracy}')\n",
    "print(f'Best hyperparameters: {best_baseline_hyperparameters}') \n",
    "\n",
    "# save the hyperparameters and the model\n",
    "import pickle\n",
    "with open('best_baseline_hyperparameters.pickle', 'wb') as f:\n",
    "    pickle.dump(best_baseline_hyperparameters, f)\n",
    "best_baseline_model.save('best_baseline_model.h5')\n",
    "'''"
   ]
  },
  {
   "cell_type": "markdown",
   "metadata": {},
   "source": [
    "Here we load the best hyperparameters and create the model."
   ]
  },
  {
   "cell_type": "code",
   "execution_count": 19,
   "metadata": {},
   "outputs": [
    {
     "name": "stdout",
     "output_type": "stream",
     "text": [
      "WARNING:tensorflow:From d:\\NLProject\\.venv\\lib\\site-packages\\keras\\src\\backend.py:873: The name tf.get_default_graph is deprecated. Please use tf.compat.v1.get_default_graph instead.\n",
      "\n",
      "Model: \"sequential\"\n",
      "_________________________________________________________________\n",
      " Layer (type)                Output Shape              Param #   \n",
      "=================================================================\n",
      " embedding (Embedding)       (None, 100, 50)           370300    \n",
      "                                                                 \n",
      " bidirectional (Bidirection  (None, 100, 512)          628736    \n",
      " al)                                                             \n",
      "                                                                 \n",
      " time_distributed (TimeDist  (None, 100, 47)           24111     \n",
      " ributed)                                                        \n",
      "                                                                 \n",
      "=================================================================\n",
      "Total params: 1023147 (3.90 MB)\n",
      "Trainable params: 1023147 (3.90 MB)\n",
      "Non-trainable params: 0 (0.00 Byte)\n",
      "_________________________________________________________________\n"
     ]
    }
   ],
   "source": [
    "# load the model\n",
    "best_baseline_hyperparameters = pickle.load(open('assignement1_hyperparams/best_baseline_hyperparameters.pickle', 'rb'))\n",
    "baseline = create_baseline_model(best_baseline_hyperparameters['lstm_units'], best_baseline_hyperparameters['dropout_rate'], best_baseline_hyperparameters['recurrent_dropout_rate'], best_baseline_hyperparameters['learning_rate'])\n",
    "baseline.summary()"
   ]
  },
  {
   "cell_type": "markdown",
   "metadata": {},
   "source": [
    "### Model 1 model definition:"
   ]
  },
  {
   "cell_type": "markdown",
   "metadata": {},
   "source": [
    "Model 1 is the baseline model with an additional LSTM layer. Hyperparameters are chosen by using a grid search.\n",
    "\n",
    "We chose to not show the commented out for grid search as it is very similar to the one used for the baseline model with some additional parameters. Like before we will just load the best ones we found for further tasks."
   ]
  },
  {
   "cell_type": "code",
   "execution_count": 20,
   "metadata": {},
   "outputs": [],
   "source": [
    "# Model 1: LSTM + LSTM + FC\n",
    "\n",
    "#HYPERPARAMETERS TUNING:\n",
    "\n",
    "def create_model1(lstm_units, dropout_rate, recurrent_dropout_rate, learning_rate):\n",
    "    model = Sequential()\n",
    "    model.add(Embedding(input_dim=len(sentence_tokenizer.word_index) + 1, output_dim=embedding_dim, input_length=MAX_SEQ_LENGTH, weights=[embedding_train_matrix], trainable=True, mask_zero=True))\n",
    "    model.add(Bidirectional(LSTM(units=lstm_units, return_sequences=True, dropout=dropout_rate, recurrent_dropout=recurrent_dropout_rate)))\n",
    "    model.add(Bidirectional(LSTM(units=int(lstm_units/2), return_sequences=True, dropout=dropout_rate, recurrent_dropout=recurrent_dropout_rate)))\n",
    "    model.add(TimeDistributed(Dense(num_tags, activation='softmax')))\n",
    "    model.compile(loss='categorical_crossentropy', optimizer=Adam(learning_rate=learning_rate), metrics=['accuracy'])\n",
    "    return model"
   ]
  },
  {
   "cell_type": "code",
   "execution_count": 21,
   "metadata": {},
   "outputs": [
    {
     "name": "stdout",
     "output_type": "stream",
     "text": [
      "Model: \"sequential_1\"\n",
      "_________________________________________________________________\n",
      " Layer (type)                Output Shape              Param #   \n",
      "=================================================================\n",
      " embedding_1 (Embedding)     (None, 100, 50)           370300    \n",
      "                                                                 \n",
      " bidirectional_1 (Bidirecti  (None, 100, 512)          628736    \n",
      " onal)                                                           \n",
      "                                                                 \n",
      " bidirectional_2 (Bidirecti  (None, 100, 256)          656384    \n",
      " onal)                                                           \n",
      "                                                                 \n",
      " time_distributed_1 (TimeDi  (None, 100, 47)           12079     \n",
      " stributed)                                                      \n",
      "                                                                 \n",
      "=================================================================\n",
      "Total params: 1667499 (6.36 MB)\n",
      "Trainable params: 1667499 (6.36 MB)\n",
      "Non-trainable params: 0 (0.00 Byte)\n",
      "_________________________________________________________________\n"
     ]
    }
   ],
   "source": [
    "# load the model\n",
    "best_model1_hyperparameters = pickle.load(open('assignement1_hyperparams/best_model1_hyperparameters.pickle', 'rb'))\n",
    "model1 = create_model1(best_model1_hyperparameters['lstm_units'], best_model1_hyperparameters['dropout_rate'], best_model1_hyperparameters['recurrent_dropout_rate'], best_model1_hyperparameters['learning_rate'])\n",
    "model1.summary()"
   ]
  },
  {
   "cell_type": "markdown",
   "metadata": {},
   "source": [
    "### Model 2 model definition:"
   ]
  },
  {
   "cell_type": "markdown",
   "metadata": {},
   "source": [
    "Model 2 is the baseline model with an additional Dense layer. Hyperparameters are chosen by using a grid search.\n",
    "\n",
    "We chose to not show the commented out for grid search as it is very similar to the one used for the baseline model with some additional parameters. Like before we will just load the best ones we found for further tasks."
   ]
  },
  {
   "cell_type": "code",
   "execution_count": 18,
   "metadata": {},
   "outputs": [],
   "source": [
    "# Model 2: LSTM + FC + FC\n",
    "\n",
    "#HYPERPARAMETERS TUNING:\n",
    "\n",
    "def create_model2(lstm_units, dropout_rate, recurrent_dropout_rate, learning_rate):\n",
    "    model = Sequential()\n",
    "    model.add(Embedding(input_dim=len(sentence_tokenizer.word_index) + 1, output_dim=embedding_dim, input_length=MAX_SEQ_LENGTH, weights=[embedding_train_matrix], trainable=True, mask_zero=True))\n",
    "    model.add(Bidirectional(LSTM(units=lstm_units, return_sequences=True, dropout=dropout_rate, recurrent_dropout=recurrent_dropout_rate)))\n",
    "    model.add(TimeDistributed(Dense(num_tags*2, activation=\"softmax\")))\n",
    "    model.add(TimeDistributed(Dense(num_tags, activation=\"softmax\")))\n",
    "    model.compile(loss='categorical_crossentropy', optimizer=Adam(learning_rate=learning_rate), metrics=['accuracy'])\n",
    "    return model"
   ]
  },
  {
   "cell_type": "code",
   "execution_count": 19,
   "metadata": {},
   "outputs": [
    {
     "name": "stdout",
     "output_type": "stream",
     "text": [
      "WARNING:tensorflow:From d:\\NLProject\\.venv\\lib\\site-packages\\keras\\src\\backend.py:873: The name tf.get_default_graph is deprecated. Please use tf.compat.v1.get_default_graph instead.\n",
      "\n",
      "Model: \"sequential\"\n",
      "_________________________________________________________________\n",
      " Layer (type)                Output Shape              Param #   \n",
      "=================================================================\n",
      " embedding (Embedding)       (None, 100, 50)           370300    \n",
      "                                                                 \n",
      " bidirectional (Bidirection  (None, 100, 256)          183296    \n",
      " al)                                                             \n",
      "                                                                 \n",
      " time_distributed (TimeDist  (None, 100, 94)           24158     \n",
      " ributed)                                                        \n",
      "                                                                 \n",
      " time_distributed_1 (TimeDi  (None, 100, 47)           4465      \n",
      " stributed)                                                      \n",
      "                                                                 \n",
      "=================================================================\n",
      "Total params: 582219 (2.22 MB)\n",
      "Trainable params: 582219 (2.22 MB)\n",
      "Non-trainable params: 0 (0.00 Byte)\n",
      "_________________________________________________________________\n"
     ]
    }
   ],
   "source": [
    "# load the model\n",
    "best_model2_hyperparameters = pickle.load(open('assignement1_hyperparams/best_model2_hyperparameters.pickle', 'rb'))\n",
    "model2 = create_model2(best_model2_hyperparameters['lstm_units'], best_model2_hyperparameters['dropout_rate'], best_model2_hyperparameters['recurrent_dropout_rate'], best_model2_hyperparameters['learning_rate'])\n",
    "model2.summary()"
   ]
  },
  {
   "cell_type": "markdown",
   "metadata": {},
   "source": [
    "# Task 4: Metrics\n",
    "\n",
    "Before training the models, you are tasked to define the evaluation metrics for comparison."
   ]
  },
  {
   "cell_type": "markdown",
   "metadata": {},
   "source": [
    "### Instructions\n",
    "\n",
    "* Evaluate your models using macro F1-score, compute over **all** tokens.\n",
    "* **Concatenate** all tokens in a data split to compute the F1-score. (**Hint**: accumulate FP, TP, FN, TN iteratively) \n",
    "* **Do not consider punctuation and symbol classes** $\\rightarrow$ [What is punctuation?](https://en.wikipedia.org/wiki/English_punctuation)"
   ]
  },
  {
   "cell_type": "markdown",
   "metadata": {},
   "source": [
    "**Note**: What about OOV tokens?\n",
    "   * All the tokens in the **training** set that are not in GloVe are **not** considered as OOV\n",
    "   * For the remaining tokens (i.e., OOV in the validation and test sets), you have to assign them a **static** embedding.\n",
    "   * You are **free** to define the static embedding using any strategy (e.g., random, neighbourhood, "
   ]
  },
  {
   "cell_type": "markdown",
   "metadata": {},
   "source": [
    "We define the tag_to_index dictionary which will be used to compute the F1-score."
   ]
  },
  {
   "cell_type": "code",
   "execution_count": 20,
   "metadata": {},
   "outputs": [
    {
     "name": "stdout",
     "output_type": "stream",
     "text": [
      "Tag to index dictionary:\n",
      "{'<UNK>': 1, 'nn': 2, 'nnp': 3, 'in': 4, 'dt': 5, 'nns': 6, 'jj': 7, ',': 8, '.': 9, 'vbd': 10, 'rb': 11, 'cd': 12, 'vb': 13, 'cc': 14, 'vbz': 15, 'vbn': 16, 'to': 17, 'prp': 18, 'vbg': 19, 'vbp': 20, 'md': 21, 'prp$': 22, '``': 23, 'pos': 24, \"''\": 25, '$': 26, ':': 27, 'wdt': 28, 'jjr': 29, 'wp': 30, 'rp': 31, 'nnps': 32, 'jjs': 33, 'wrb': 34, 'rbr': 35, '-rrb-': 36, '-lrb-': 37, 'ex': 38, 'rbs': 39, 'ls': 40, 'pdt': 41, 'wp$': 42, 'fw': 43, 'uh': 44, 'sym': 45, '#': 46}\n"
     ]
    }
   ],
   "source": [
    "tag2idx = tag_tokenizer.word_index\n",
    "idx2tag = {i: w for w, i in tag2idx.items()}\n",
    "print(f'Tag to index dictionary:\\n{tag2idx}')"
   ]
  },
  {
   "cell_type": "markdown",
   "metadata": {},
   "source": [
    "During metric computation we ignore the padding, OOV and punctuation tags."
   ]
  },
  {
   "cell_type": "code",
   "execution_count": 21,
   "metadata": {},
   "outputs": [
    {
     "name": "stdout",
     "output_type": "stream",
     "text": [
      "Index of punctuation tags: [8, 9, 27, 1]\n",
      "Tag of punctuation tags: [',', '.', ':', '<UNK>']\n"
     ]
    }
   ],
   "source": [
    "# print index of punctuation marks (. , ? ! \" ' - : ; )\n",
    "punctuation_tags = [',', '.', '?', '!', '\"', \"'\", '-', ':', ';' , '<UNK>', '(', ')', '[', ']', '{', '}', '<', '>']\n",
    "punctuation_tags_idx = []\n",
    "for tag in punctuation_tags:\n",
    "    try:\n",
    "        punctuation_tags_idx.append(tag2idx[tag])\n",
    "    except KeyError:\n",
    "        continue\n",
    "\n",
    "print(f'Index of punctuation tags: {punctuation_tags_idx}')\n",
    "print(f'Tag of punctuation tags: {[idx2tag[i] for i in punctuation_tags_idx]}')"
   ]
  },
  {
   "cell_type": "markdown",
   "metadata": {},
   "source": [
    "Here we define the F1-score function which will be used as a metric for the models."
   ]
  },
  {
   "cell_type": "code",
   "execution_count": 22,
   "metadata": {},
   "outputs": [],
   "source": [
    "# Metrics: Macro F1 score over all tokens, do not consider punctuation\n",
    "\n",
    "def macro_f1(y_true, y_pred):\n",
    "    # get the index of the highest probability for each token\n",
    "    y_true = np.argmax(y_true, axis=-1)\n",
    "    y_pred = np.argmax(y_pred, axis=-1)\n",
    "    # flatten the arrays\n",
    "    y_true = y_true.flatten()\n",
    "    y_pred = y_pred.flatten()\n",
    "    temp = [] \n",
    "    temp_pred = []\n",
    "    # remove punctuation tags from y_true\n",
    "    for i in range(len(y_true)):\n",
    "        if y_true[i] not in punctuation_tags_idx and y_true[i] != 0:\n",
    "            temp.append(y_true[i])\n",
    "            temp_pred.append(y_pred[i])\n",
    "    return f1_score(temp, temp_pred, average='macro')         "
   ]
  },
  {
   "cell_type": "markdown",
   "metadata": {},
   "source": [
    "Here we define the average performance function which will be computed on all the seeds. It also computes the standard deviation."
   ]
  },
  {
   "cell_type": "code",
   "execution_count": 23,
   "metadata": {},
   "outputs": [],
   "source": [
    "def evaluate_model(model_name, X, Y):\n",
    "    seeds = [42, 69, 420]\n",
    "    macro_f1_scores = []\n",
    "    for seed in seeds:\n",
    "        model = tf.keras.models.load_model(f'seed_{seed}/{model_name}_{seed}.h5')\n",
    "        np.random.seed(seed)\n",
    "        tf.random.set_seed(seed)\n",
    "        Y_pred = model.predict(X)\n",
    "        macro_f1_scores.append(macro_f1(Y, Y_pred))\n",
    "        # compute standard deviation of macro f1 scores\n",
    "    return np.mean(macro_f1_scores), np.std(macro_f1_scores)"
   ]
  },
  {
   "cell_type": "markdown",
   "metadata": {},
   "source": [
    "# Task 5: Training and Evaluation\n",
    "\n",
    "You are now tasked to train and evaluate the Baseline, Model 1, and Model 2."
   ]
  },
  {
   "cell_type": "markdown",
   "metadata": {},
   "source": [
    "### For just evaluation skip to the next section as we load the best models we found."
   ]
  },
  {
   "cell_type": "markdown",
   "metadata": {},
   "source": [
    "### Instructions\n",
    "\n",
    "* Train **all** models on the train set.\n",
    "* Evaluate **all** models on the validation set.\n",
    "* Compute metrics on the validation set.\n",
    "* Pick **at least** three seeds for robust estimation.\n",
    "* Pick the **best** performing model according to the observed validation set performance."
   ]
  },
  {
   "cell_type": "markdown",
   "metadata": {},
   "source": [
    "### Baseline model training:\n",
    "\n",
    "\n",
    "\n"
   ]
  },
  {
   "cell_type": "code",
   "execution_count": 28,
   "metadata": {},
   "outputs": [
    {
     "name": "stdout",
     "output_type": "stream",
     "text": [
      "Epoch 1/20\n"
     ]
    },
    {
     "name": "stdout",
     "output_type": "stream",
     "text": [
      "62/62 [==============================] - 41s 562ms/step - loss: 1.0799 - accuracy: 0.7125 - val_loss: 0.5229 - val_accuracy: 0.8531\n",
      "Epoch 2/20\n",
      "62/62 [==============================] - 36s 585ms/step - loss: 0.2245 - accuracy: 0.9343 - val_loss: 0.4061 - val_accuracy: 0.8838\n",
      "Epoch 3/20\n",
      "62/62 [==============================] - 35s 571ms/step - loss: 0.1082 - accuracy: 0.9676 - val_loss: 0.4127 - val_accuracy: 0.8886\n",
      "Epoch 4/20\n",
      "62/62 [==============================] - 36s 581ms/step - loss: 0.0655 - accuracy: 0.9801 - val_loss: 0.4329 - val_accuracy: 0.8895\n",
      "Epoch 5/20\n",
      "62/62 [==============================] - 36s 584ms/step - loss: 0.0417 - accuracy: 0.9871 - val_loss: 0.4507 - val_accuracy: 0.8888\n",
      "Epoch 6/20\n",
      "62/62 [==============================] - 34s 557ms/step - loss: 0.0267 - accuracy: 0.9918 - val_loss: 0.4895 - val_accuracy: 0.8869\n",
      "Epoch 7/20\n",
      "62/62 [==============================] - 34s 557ms/step - loss: 0.0193 - accuracy: 0.9948 - val_loss: 0.5287 - val_accuracy: 0.8882\n",
      "Epoch 8/20\n",
      "62/62 [==============================] - 35s 559ms/step - loss: 0.0120 - accuracy: 0.9968 - val_loss: 0.5287 - val_accuracy: 0.8903\n",
      "Epoch 9/20\n",
      "62/62 [==============================] - 35s 562ms/step - loss: 0.0093 - accuracy: 0.9979 - val_loss: 0.5315 - val_accuracy: 0.8911\n",
      "Epoch 10/20\n",
      "62/62 [==============================] - 35s 563ms/step - loss: 0.0102 - accuracy: 0.9974 - val_loss: 0.5220 - val_accuracy: 0.8903\n",
      "Epoch 11/20\n",
      "62/62 [==============================] - 35s 562ms/step - loss: 0.0062 - accuracy: 0.9986 - val_loss: 0.5650 - val_accuracy: 0.8901\n",
      "Epoch 12/20\n",
      "62/62 [==============================] - 35s 567ms/step - loss: 0.0056 - accuracy: 0.9987 - val_loss: 0.5837 - val_accuracy: 0.8877\n",
      "Epoch 13/20\n",
      "62/62 [==============================] - 35s 569ms/step - loss: 0.0054 - accuracy: 0.9989 - val_loss: 0.5815 - val_accuracy: 0.8907\n",
      "Epoch 14/20\n",
      "62/62 [==============================] - 35s 568ms/step - loss: 0.0084 - accuracy: 0.9978 - val_loss: 0.5956 - val_accuracy: 0.8866\n",
      "Epoch 15/20\n",
      "62/62 [==============================] - 35s 571ms/step - loss: 0.0082 - accuracy: 0.9979 - val_loss: 0.5983 - val_accuracy: 0.8891\n",
      "Epoch 16/20\n",
      "62/62 [==============================] - 35s 572ms/step - loss: 0.0068 - accuracy: 0.9985 - val_loss: 0.5881 - val_accuracy: 0.8881\n",
      "Epoch 17/20\n",
      "62/62 [==============================] - 35s 570ms/step - loss: 0.0078 - accuracy: 0.9981 - val_loss: 0.6449 - val_accuracy: 0.8831\n",
      "Epoch 18/20\n",
      "62/62 [==============================] - 35s 573ms/step - loss: 0.0076 - accuracy: 0.9979 - val_loss: 0.6113 - val_accuracy: 0.8877\n",
      "Epoch 19/20\n",
      "62/62 [==============================] - 35s 571ms/step - loss: 0.0090 - accuracy: 0.9972 - val_loss: 0.6620 - val_accuracy: 0.8850\n",
      "Epoch 20/20\n",
      "62/62 [==============================] - 35s 572ms/step - loss: 0.0093 - accuracy: 0.9974 - val_loss: 0.6494 - val_accuracy: 0.8824\n"
     ]
    }
   ],
   "source": [
    "history_baseline = baseline.fit(X_train, Y_train, validation_data=(X_val, Y_val), batch_size=best_baseline_hyperparameters[\"batch_size\"], epochs=20, verbose=1)"
   ]
  },
  {
   "cell_type": "markdown",
   "metadata": {},
   "source": [
    "After training the model we plot the training and validation loss and accuracy."
   ]
  },
  {
   "cell_type": "code",
   "execution_count": 29,
   "metadata": {},
   "outputs": [
    {
     "data": {
      "image/png": "[encoded data removed]",
      "text/plain": [
       "<Figure size 640x480 with 1 Axes>"
      ]
     },
     "metadata": {},
     "output_type": "display_data"
    }
   ],
   "source": [
    "# plot results\n",
    "plt.plot(history_baseline.history['accuracy'])\n",
    "plt.plot(history_baseline.history['val_accuracy'])\n",
    "plt.title('Baseline accuracy')\n",
    "plt.ylabel('Accuracy')\n",
    "plt.xlabel('Epochs')\n",
    "plt.legend(['Train', 'Validation'], loc='upper left')\n",
    "plt.show()"
   ]
  },
  {
   "cell_type": "markdown",
   "metadata": {},
   "source": [
    "We save the model in order to experiment with different seeds."
   ]
  },
  {
   "cell_type": "code",
   "execution_count": 30,
   "metadata": {},
   "outputs": [
    {
     "name": "stderr",
     "output_type": "stream",
     "text": [
      "C:\\Users\\alepa\\AppData\\Local\\Packages\\PythonSoftwareFoundation.Python.3.10_qbz5n2kfra8p0\\LocalCache\\local-packages\\Python310\\site-packages\\keras\\src\\engine\\training.py:3079: UserWarning: You are saving your model as an HDF5 file via `model.save()`. This file format is considered legacy. We recommend using instead the native Keras format, e.g. `model.save('my_model.keras')`.\n",
      "  saving_api.save_model(\n"
     ]
    }
   ],
   "source": [
    "# save the model\n",
    "baseline.save(f'seed_{seed}/baseline_{seed}.h5')"
   ]
  },
  {
   "cell_type": "markdown",
   "metadata": {},
   "source": [
    "### Base model evaluation on current seed:"
   ]
  },
  {
   "cell_type": "code",
   "execution_count": 31,
   "metadata": {},
   "outputs": [
    {
     "name": "stdout",
     "output_type": "stream",
     "text": [
      "Baseline model\n",
      "62/62 [==============================] - 5s 73ms/step - loss: 0.0055 - accuracy: 0.9990\n",
      "Train accuracy: 0.9989614486694336\n",
      "40/40 [==============================] - 3s 75ms/step - loss: 0.6494 - accuracy: 0.8824\n",
      "Validation accuracy: 0.8824359178543091\n",
      "20/20 [==============================] - 2s 81ms/step - loss: 0.5848 - accuracy: 0.8915\n",
      "Test accuracy: 0.8914763331413269\n",
      "20/20 [==============================] - 2s 81ms/step\n",
      "Macro F1 score: 0.7372408547674565\n"
     ]
    }
   ],
   "source": [
    "# Evaluate the models\n",
    "print(\"Baseline model\")\n",
    "print(\"Train accuracy: {}\".format(baseline.evaluate(X_train, Y_train)[1]))\n",
    "print(\"Validation accuracy: {}\".format(baseline.evaluate(X_val, Y_val)[1]))\n",
    "print(\"Test accuracy: {}\".format(baseline.evaluate(X_test, Y_test)[1]))\n",
    "print(\"Macro F1 score: {}\".format(macro_f1(Y_test, baseline.predict(X_test))))"
   ]
  },
  {
   "cell_type": "markdown",
   "metadata": {},
   "source": [
    "### Model 1 model training:"
   ]
  },
  {
   "cell_type": "code",
   "execution_count": 32,
   "metadata": {},
   "outputs": [
    {
     "name": "stdout",
     "output_type": "stream",
     "text": [
      "Epoch 1/20\n",
      "62/62 [==============================] - 85s 1s/step - loss: 1.6003 - accuracy: 0.5624 - val_loss: 0.6218 - val_accuracy: 0.8215\n",
      "Epoch 2/20\n",
      "62/62 [==============================] - 71s 1s/step - loss: 0.3147 - accuracy: 0.9102 - val_loss: 0.4718 - val_accuracy: 0.8677\n",
      "Epoch 3/20\n",
      "62/62 [==============================] - 72s 1s/step - loss: 0.1532 - accuracy: 0.9556 - val_loss: 0.4512 - val_accuracy: 0.8788\n",
      "Epoch 4/20\n",
      "62/62 [==============================] - 73s 1s/step - loss: 0.0957 - accuracy: 0.9716 - val_loss: 0.4322 - val_accuracy: 0.8847\n",
      "Epoch 5/20\n",
      "62/62 [==============================] - 72s 1s/step - loss: 0.0638 - accuracy: 0.9802 - val_loss: 0.4477 - val_accuracy: 0.8877\n",
      "Epoch 6/20\n",
      "62/62 [==============================] - 73s 1s/step - loss: 0.0489 - accuracy: 0.9852 - val_loss: 0.5090 - val_accuracy: 0.8830\n",
      "Epoch 7/20\n",
      "62/62 [==============================] - 73s 1s/step - loss: 0.0418 - accuracy: 0.9864 - val_loss: 0.5094 - val_accuracy: 0.8879\n",
      "Epoch 8/20\n",
      "62/62 [==============================] - 73s 1s/step - loss: 0.0298 - accuracy: 0.9909 - val_loss: 0.5356 - val_accuracy: 0.8848\n",
      "Epoch 9/20\n",
      "62/62 [==============================] - 73s 1s/step - loss: 0.0250 - accuracy: 0.9919 - val_loss: 0.5601 - val_accuracy: 0.8852\n",
      "Epoch 10/20\n",
      "62/62 [==============================] - 74s 1s/step - loss: 0.0210 - accuracy: 0.9936 - val_loss: 0.5956 - val_accuracy: 0.8858\n",
      "Epoch 11/20\n",
      "62/62 [==============================] - 73s 1s/step - loss: 0.0208 - accuracy: 0.9932 - val_loss: 0.6043 - val_accuracy: 0.8816\n",
      "Epoch 12/20\n",
      "62/62 [==============================] - 75s 1s/step - loss: 0.0192 - accuracy: 0.9937 - val_loss: 0.6166 - val_accuracy: 0.8799\n",
      "Epoch 13/20\n",
      "62/62 [==============================] - 74s 1s/step - loss: 0.0225 - accuracy: 0.9928 - val_loss: 0.6385 - val_accuracy: 0.8815\n",
      "Epoch 14/20\n",
      "62/62 [==============================] - 74s 1s/step - loss: 0.0196 - accuracy: 0.9937 - val_loss: 0.6226 - val_accuracy: 0.8823\n",
      "Epoch 15/20\n",
      "62/62 [==============================] - 74s 1s/step - loss: 0.0193 - accuracy: 0.9935 - val_loss: 0.6412 - val_accuracy: 0.8821\n",
      "Epoch 16/20\n",
      "62/62 [==============================] - 76s 1s/step - loss: 0.0158 - accuracy: 0.9948 - val_loss: 0.6346 - val_accuracy: 0.8817\n",
      "Epoch 17/20\n",
      "62/62 [==============================] - 77s 1s/step - loss: 0.0160 - accuracy: 0.9946 - val_loss: 0.6319 - val_accuracy: 0.8826\n",
      "Epoch 18/20\n",
      "62/62 [==============================] - 79s 1s/step - loss: 0.0147 - accuracy: 0.9953 - val_loss: 0.6883 - val_accuracy: 0.8814\n",
      "Epoch 19/20\n",
      "62/62 [==============================] - 80s 1s/step - loss: 0.0137 - accuracy: 0.9956 - val_loss: 0.6908 - val_accuracy: 0.8835\n",
      "Epoch 20/20\n",
      "62/62 [==============================] - 78s 1s/step - loss: 0.0125 - accuracy: 0.9959 - val_loss: 0.7293 - val_accuracy: 0.8784\n"
     ]
    }
   ],
   "source": [
    "history_model1 = model1.fit(X_train, Y_train, validation_data=(X_val, Y_val), batch_size=best_model1_hyperparameters[\"batch_size\"], epochs=20, verbose=1)"
   ]
  },
  {
   "cell_type": "markdown",
   "metadata": {},
   "source": [
    "We plot the training and validation loss and accuracy."
   ]
  },
  {
   "cell_type": "code",
   "execution_count": 33,
   "metadata": {},
   "outputs": [
    {
     "data": {
      "image/png": "[encoded data removed]",
      "text/plain": [
       "<Figure size 640x480 with 1 Axes>"
      ]
     },
     "metadata": {},
     "output_type": "display_data"
    }
   ],
   "source": [
    "# plot results\n",
    "plt.plot(history_model1.history['accuracy'])\n",
    "plt.plot(history_model1.history['val_accuracy'])\n",
    "plt.title('Model 1 accuracy')\n",
    "plt.ylabel('Accuracy')\n",
    "plt.xlabel('Epochs')\n",
    "plt.legend(['Train', 'Validation'], loc='upper left')\n",
    "plt.show()"
   ]
  },
  {
   "cell_type": "markdown",
   "metadata": {},
   "source": [
    "We save the model in order to experiment with different seeds."
   ]
  },
  {
   "cell_type": "code",
   "execution_count": 34,
   "metadata": {},
   "outputs": [
    {
     "name": "stderr",
     "output_type": "stream",
     "text": [
      "C:\\Users\\alepa\\AppData\\Local\\Packages\\PythonSoftwareFoundation.Python.3.10_qbz5n2kfra8p0\\LocalCache\\local-packages\\Python310\\site-packages\\keras\\src\\engine\\training.py:3079: UserWarning: You are saving your model as an HDF5 file via `model.save()`. This file format is considered legacy. We recommend using instead the native Keras format, e.g. `model.save('my_model.keras')`.\n",
      "  saving_api.save_model(\n"
     ]
    }
   ],
   "source": [
    "# save the model\n",
    "model1.save(f'seed_{seed}/model1_{seed}.h5')"
   ]
  },
  {
   "cell_type": "markdown",
   "metadata": {},
   "source": [
    "### Model 1 model evaluation on current seed:"
   ]
  },
  {
   "cell_type": "code",
   "execution_count": 35,
   "metadata": {},
   "outputs": [
    {
     "name": "stdout",
     "output_type": "stream",
     "text": [
      "Model 1\n",
      " 1/62 [..............................] - ETA: 14s - loss: 0.0065 - accuracy: 0.9987"
     ]
    },
    {
     "name": "stdout",
     "output_type": "stream",
     "text": [
      "62/62 [==============================] - 12s 193ms/step - loss: 0.0047 - accuracy: 0.9985\n",
      "Train accuracy: 0.998537540435791\n",
      "40/40 [==============================] - 8s 188ms/step - loss: 0.7293 - accuracy: 0.8784\n",
      "Validation accuracy: 0.8783631920814514\n",
      "20/20 [==============================] - 4s 179ms/step - loss: 0.6727 - accuracy: 0.8815\n",
      "Test accuracy: 0.8815053105354309\n",
      "20/20 [==============================] - 5s 198ms/step\n",
      "Macro F1 score: 0.7936280415606867\n"
     ]
    }
   ],
   "source": [
    "# Evaluate the models\n",
    "print(\"Model 1\")\n",
    "print(\"Train accuracy: {}\".format(model1.evaluate(X_train, Y_train)[1]))\n",
    "print(\"Validation accuracy: {}\".format(model1.evaluate(X_val, Y_val)[1]))\n",
    "print(\"Test accuracy: {}\".format(model1.evaluate(X_test, Y_test)[1]))\n",
    "print(\"Macro F1 score: {}\".format(macro_f1(Y_test, model1.predict(X_test))))"
   ]
  },
  {
   "cell_type": "markdown",
   "metadata": {},
   "source": [
    "### Model 2 model training:"
   ]
  },
  {
   "cell_type": "code",
   "execution_count": 26,
   "metadata": {},
   "outputs": [
    {
     "name": "stdout",
     "output_type": "stream",
     "text": [
      "Epoch 1/50\n",
      "WARNING:tensorflow:From d:\\NLProject\\.venv\\lib\\site-packages\\keras\\src\\utils\\tf_utils.py:492: The name tf.ragged.RaggedTensorValue is deprecated. Please use tf.compat.v1.ragged.RaggedTensorValue instead.\n",
      "\n",
      "WARNING:tensorflow:From d:\\NLProject\\.venv\\lib\\site-packages\\keras\\src\\engine\\base_layer_utils.py:384: The name tf.executing_eagerly_outside_functions is deprecated. Please use tf.compat.v1.executing_eagerly_outside_functions instead.\n",
      "\n",
      "62/62 [==============================] - 19s 210ms/step - loss: 3.2352 - accuracy: 0.2572 - val_loss: 2.7497 - val_accuracy: 0.3720\n",
      "Epoch 2/50\n",
      "62/62 [==============================] - 12s 195ms/step - loss: 2.4307 - accuracy: 0.3635 - val_loss: 2.2667 - val_accuracy: 0.3922\n",
      "Epoch 3/50\n",
      "62/62 [==============================] - 12s 193ms/step - loss: 2.0647 - accuracy: 0.3799 - val_loss: 2.0275 - val_accuracy: 0.3930\n",
      "Epoch 4/50\n",
      "62/62 [==============================] - 12s 192ms/step - loss: 1.8687 - accuracy: 0.3873 - val_loss: 1.9238 - val_accuracy: 0.4009\n",
      "Epoch 5/50\n",
      "62/62 [==============================] - 12s 192ms/step - loss: 1.7664 - accuracy: 0.3906 - val_loss: 1.8603 - val_accuracy: 0.4004\n",
      "Epoch 6/50\n",
      "62/62 [==============================] - 12s 192ms/step - loss: 1.6963 - accuracy: 0.3975 - val_loss: 1.8165 - val_accuracy: 0.4093\n",
      "Epoch 7/50\n",
      "62/62 [==============================] - 12s 192ms/step - loss: 1.6266 - accuracy: 0.4323 - val_loss: 1.7648 - val_accuracy: 0.4541\n",
      "Epoch 8/50\n",
      "62/62 [==============================] - 12s 193ms/step - loss: 1.5697 - accuracy: 0.4730 - val_loss: 1.7308 - val_accuracy: 0.4599\n",
      "Epoch 9/50\n",
      "62/62 [==============================] - 12s 192ms/step - loss: 1.5260 - accuracy: 0.4965 - val_loss: 1.6930 - val_accuracy: 0.4727\n",
      "Epoch 10/50\n",
      "62/62 [==============================] - 12s 193ms/step - loss: 1.4237 - accuracy: 0.5384 - val_loss: 1.5817 - val_accuracy: 0.4838\n",
      "Epoch 11/50\n",
      "62/62 [==============================] - 12s 191ms/step - loss: 1.2978 - accuracy: 0.6173 - val_loss: 1.4784 - val_accuracy: 0.5727\n",
      "Epoch 12/50\n",
      "62/62 [==============================] - 12s 193ms/step - loss: 1.1854 - accuracy: 0.6629 - val_loss: 1.3652 - val_accuracy: 0.6101\n",
      "Epoch 13/50\n",
      "62/62 [==============================] - 12s 200ms/step - loss: 1.0739 - accuracy: 0.6877 - val_loss: 1.2763 - val_accuracy: 0.6142\n",
      "Epoch 14/50\n",
      "62/62 [==============================] - 13s 213ms/step - loss: 1.0062 - accuracy: 0.7056 - val_loss: 1.2420 - val_accuracy: 0.6466\n",
      "Epoch 15/50\n",
      "62/62 [==============================] - 14s 225ms/step - loss: 0.9472 - accuracy: 0.7208 - val_loss: 1.2230 - val_accuracy: 0.6463\n",
      "Epoch 16/50\n",
      "62/62 [==============================] - 15s 241ms/step - loss: 0.8961 - accuracy: 0.7311 - val_loss: 1.1941 - val_accuracy: 0.6422\n",
      "Epoch 17/50\n",
      "62/62 [==============================] - 13s 213ms/step - loss: 0.8523 - accuracy: 0.7427 - val_loss: 1.1510 - val_accuracy: 0.6627\n",
      "Epoch 18/50\n",
      "62/62 [==============================] - 13s 205ms/step - loss: 0.8152 - accuracy: 0.7567 - val_loss: 1.1261 - val_accuracy: 0.6707\n",
      "Epoch 19/50\n",
      "62/62 [==============================] - 13s 203ms/step - loss: 0.7854 - accuracy: 0.7614 - val_loss: 1.1228 - val_accuracy: 0.6699\n",
      "Epoch 20/50\n",
      "62/62 [==============================] - 12s 199ms/step - loss: 0.7399 - accuracy: 0.7711 - val_loss: 1.0565 - val_accuracy: 0.6837\n",
      "Epoch 21/50\n",
      "62/62 [==============================] - 13s 202ms/step - loss: 0.6367 - accuracy: 0.8138 - val_loss: 0.9766 - val_accuracy: 0.7324\n",
      "Epoch 22/50\n",
      "62/62 [==============================] - 13s 216ms/step - loss: 0.5858 - accuracy: 0.8221 - val_loss: 0.9517 - val_accuracy: 0.7347\n",
      "Epoch 23/50\n",
      "62/62 [==============================] - 13s 213ms/step - loss: 0.5542 - accuracy: 0.8275 - val_loss: 0.9460 - val_accuracy: 0.7421\n",
      "Epoch 24/50\n",
      "62/62 [==============================] - 14s 227ms/step - loss: 0.5305 - accuracy: 0.8310 - val_loss: 0.9348 - val_accuracy: 0.7458\n",
      "Epoch 25/50\n",
      "62/62 [==============================] - 14s 226ms/step - loss: 0.5042 - accuracy: 0.8367 - val_loss: 0.9218 - val_accuracy: 0.7554\n",
      "Epoch 26/50\n",
      "62/62 [==============================] - 13s 212ms/step - loss: 0.4693 - accuracy: 0.8435 - val_loss: 0.9015 - val_accuracy: 0.7587\n",
      "Epoch 27/50\n",
      "62/62 [==============================] - 13s 205ms/step - loss: 0.4316 - accuracy: 0.8550 - val_loss: 0.8852 - val_accuracy: 0.7701\n",
      "Epoch 28/50\n",
      "62/62 [==============================] - 12s 196ms/step - loss: 0.3985 - accuracy: 0.8714 - val_loss: 0.8684 - val_accuracy: 0.7945\n",
      "Epoch 29/50\n",
      "62/62 [==============================] - 12s 198ms/step - loss: 0.3648 - accuracy: 0.8913 - val_loss: 0.8630 - val_accuracy: 0.8093\n",
      "Epoch 30/50\n",
      "62/62 [==============================] - 12s 198ms/step - loss: 0.3373 - accuracy: 0.8981 - val_loss: 0.8396 - val_accuracy: 0.8069\n",
      "Epoch 31/50\n",
      "62/62 [==============================] - 12s 200ms/step - loss: 0.3174 - accuracy: 0.9018 - val_loss: 0.8581 - val_accuracy: 0.8108\n",
      "Epoch 32/50\n",
      "62/62 [==============================] - 13s 206ms/step - loss: 0.2887 - accuracy: 0.9147 - val_loss: 0.8519 - val_accuracy: 0.8462\n",
      "Epoch 33/50\n",
      "62/62 [==============================] - 13s 204ms/step - loss: 0.2326 - accuracy: 0.9560 - val_loss: 0.7986 - val_accuracy: 0.8553\n",
      "Epoch 34/50\n",
      "62/62 [==============================] - 12s 193ms/step - loss: 0.1974 - accuracy: 0.9661 - val_loss: 0.7950 - val_accuracy: 0.8609\n",
      "Epoch 35/50\n",
      "62/62 [==============================] - 12s 194ms/step - loss: 0.1758 - accuracy: 0.9747 - val_loss: 0.8050 - val_accuracy: 0.8621\n",
      "Epoch 36/50\n",
      "62/62 [==============================] - 12s 193ms/step - loss: 0.1623 - accuracy: 0.9777 - val_loss: 0.7908 - val_accuracy: 0.8645\n",
      "Epoch 37/50\n",
      "62/62 [==============================] - 12s 194ms/step - loss: 0.1493 - accuracy: 0.9800 - val_loss: 0.7988 - val_accuracy: 0.8635\n",
      "Epoch 38/50\n",
      "62/62 [==============================] - 12s 194ms/step - loss: 0.1401 - accuracy: 0.9810 - val_loss: 0.7856 - val_accuracy: 0.8645\n",
      "Epoch 39/50\n",
      "62/62 [==============================] - 12s 192ms/step - loss: 0.1307 - accuracy: 0.9830 - val_loss: 0.8202 - val_accuracy: 0.8645\n",
      "Epoch 40/50\n",
      "62/62 [==============================] - 12s 194ms/step - loss: 0.1252 - accuracy: 0.9834 - val_loss: 0.7920 - val_accuracy: 0.8670\n",
      "Epoch 41/50\n",
      "62/62 [==============================] - 12s 194ms/step - loss: 0.1183 - accuracy: 0.9848 - val_loss: 0.8239 - val_accuracy: 0.8675\n",
      "Epoch 42/50\n",
      "62/62 [==============================] - 13s 207ms/step - loss: 0.1123 - accuracy: 0.9850 - val_loss: 0.8262 - val_accuracy: 0.8672\n",
      "Epoch 43/50\n",
      "62/62 [==============================] - 12s 194ms/step - loss: 0.1085 - accuracy: 0.9853 - val_loss: 0.7868 - val_accuracy: 0.8698\n",
      "Epoch 44/50\n",
      "62/62 [==============================] - 12s 192ms/step - loss: 0.1021 - accuracy: 0.9865 - val_loss: 0.8025 - val_accuracy: 0.8707\n",
      "Epoch 45/50\n",
      "62/62 [==============================] - 12s 193ms/step - loss: 0.0972 - accuracy: 0.9874 - val_loss: 0.8303 - val_accuracy: 0.8655\n",
      "Epoch 46/50\n",
      "62/62 [==============================] - 13s 211ms/step - loss: 0.0946 - accuracy: 0.9873 - val_loss: 0.8334 - val_accuracy: 0.8687\n",
      "Epoch 47/50\n",
      "62/62 [==============================] - 13s 205ms/step - loss: 0.0911 - accuracy: 0.9872 - val_loss: 0.8488 - val_accuracy: 0.8673\n",
      "Epoch 48/50\n",
      "62/62 [==============================] - 13s 203ms/step - loss: 0.0881 - accuracy: 0.9877 - val_loss: 0.8255 - val_accuracy: 0.8693\n",
      "Epoch 49/50\n",
      "62/62 [==============================] - 12s 194ms/step - loss: 0.0845 - accuracy: 0.9879 - val_loss: 0.8079 - val_accuracy: 0.8700\n",
      "Epoch 50/50\n",
      "62/62 [==============================] - 12s 193ms/step - loss: 0.0821 - accuracy: 0.9884 - val_loss: 0.8428 - val_accuracy: 0.8674\n"
     ]
    }
   ],
   "source": [
    "history_model2 = model2.fit(X_train, Y_train, validation_data=(X_val, Y_val), batch_size=best_model2_hyperparameters[\"batch_size\"], epochs=50, verbose=1)"
   ]
  },
  {
   "cell_type": "markdown",
   "metadata": {},
   "source": [
    "We plot the training and validation loss and accuracy."
   ]
  },
  {
   "cell_type": "code",
   "execution_count": 29,
   "metadata": {},
   "outputs": [
    {
     "data": {
      "image/png": "[encoded data removed]",
      "text/plain": [
       "<Figure size 640x480 with 1 Axes>"
      ]
     },
     "metadata": {},
     "output_type": "display_data"
    }
   ],
   "source": [
    "# plot results\n",
    "plt.plot(history_model2.history['accuracy'])\n",
    "plt.plot(history_model2.history['val_accuracy'])\n",
    "plt.title('Model 2 accuracy')\n",
    "plt.ylabel('Accuracy')\n",
    "plt.xlabel('Epochs')\n",
    "plt.legend(['Train', 'Validation'], loc='upper left')\n",
    "plt.show()"
   ]
  },
  {
   "cell_type": "markdown",
   "metadata": {},
   "source": [
    "we save the model in order to experiment with different seeds."
   ]
  },
  {
   "cell_type": "code",
   "execution_count": 27,
   "metadata": {},
   "outputs": [
    {
     "name": "stderr",
     "output_type": "stream",
     "text": [
      "d:\\NLProject\\.venv\\lib\\site-packages\\keras\\src\\engine\\training.py:3103: UserWarning: You are saving your model as an HDF5 file via `model.save()`. This file format is considered legacy. We recommend using instead the native Keras format, e.g. `model.save('my_model.keras')`.\n",
      "  saving_api.save_model(\n"
     ]
    }
   ],
   "source": [
    "# save the model\n",
    "model2.save(f'seed_{seed}/model2_{seed}.h5')"
   ]
  },
  {
   "cell_type": "markdown",
   "metadata": {},
   "source": [
    "### Model 2 model evaluation on current seed:"
   ]
  },
  {
   "cell_type": "code",
   "execution_count": 27,
   "metadata": {},
   "outputs": [
    {
     "name": "stdout",
     "output_type": "stream",
     "text": [
      "Model 2\n",
      "62/62 [==============================] - 2s 29ms/step - loss: 0.1904 - accuracy: 0.9761\n",
      "Train accuracy: 0.9760921001434326\n",
      "40/40 [==============================] - 1s 29ms/step - loss: 0.9303 - accuracy: 0.8471\n",
      "Validation accuracy: 0.8470961451530457\n",
      "20/20 [==============================] - 1s 28ms/step - loss: 0.8673 - accuracy: 0.8488\n",
      "Test accuracy: 0.848825991153717\n",
      "20/20 [==============================] - 1s 28ms/step\n",
      "Macro F1 score: 0.6144382702503158\n"
     ]
    }
   ],
   "source": [
    "# Evaluate the models\n",
    "print(\"Model 2\")\n",
    "print(\"Train accuracy: {}\".format(model2.evaluate(X_train, Y_train)[1]))\n",
    "print(\"Validation accuracy: {}\".format(model2.evaluate(X_val, Y_val)[1]))\n",
    "print(\"Test accuracy: {}\".format(model2.evaluate(X_test, Y_test)[1]))\n",
    "print(\"Macro F1 score: {}\".format(macro_f1(Y_test, model2.predict(X_test))))"
   ]
  },
  {
   "cell_type": "markdown",
   "metadata": {},
   "source": [
    "### Average performance of the models:"
   ]
  },
  {
   "cell_type": "markdown",
   "metadata": {},
   "source": [
    "Baseline model average performance:"
   ]
  },
  {
   "cell_type": "code",
   "execution_count": 59,
   "metadata": {},
   "outputs": [
    {
     "name": "stdout",
     "output_type": "stream",
     "text": [
      "20/20 [==============================] - 2s 60ms/step\n",
      "20/20 [==============================] - 2s 60ms/step\n",
      "20/20 [==============================] - 2s 59ms/step\n",
      "Baseline average macro f1 score: 0.7885735659490184, Baseline std macro f1 score: 0.0419631398915753\n"
     ]
    }
   ],
   "source": [
    "average_macro_f1_baseline, std_macro_f1_baseline = evaluate_model('baseline', X_test, Y_test)\n",
    "print(f'Baseline average macro f1 score: {average_macro_f1_baseline}, Baseline std macro f1 score: {std_macro_f1_baseline}')"
   ]
  },
  {
   "cell_type": "markdown",
   "metadata": {},
   "source": [
    "Model 1 average performance:"
   ]
  },
  {
   "cell_type": "code",
   "execution_count": 60,
   "metadata": {},
   "outputs": [
    {
     "name": "stdout",
     "output_type": "stream",
     "text": [
      "20/20 [==============================] - 3s 113ms/step\n",
      "20/20 [==============================] - 3s 115ms/step\n",
      "20/20 [==============================] - 3s 113ms/step\n",
      "Model 1 average macro f1 score: 0.80243218907875, Model 1 std macro f1 score: 0.02825392376394855\n"
     ]
    }
   ],
   "source": [
    "average_macro_f1_model1, std_macro_f1_model1 = evaluate_model('model1', X_test, Y_test)\n",
    "print(f'Model 1 average macro f1 score: {average_macro_f1_model1}, Model 1 std macro f1 score: {std_macro_f1_model1}')"
   ]
  },
  {
   "cell_type": "markdown",
   "metadata": {},
   "source": [
    "Model 2 average performance:"
   ]
  },
  {
   "cell_type": "code",
   "execution_count": 28,
   "metadata": {},
   "outputs": [
    {
     "name": "stdout",
     "output_type": "stream",
     "text": [
      "20/20 [==============================] - 1s 28ms/step\n",
      "20/20 [==============================] - 1s 28ms/step\n",
      "20/20 [==============================] - 1s 28ms/step\n",
      "Model 2 average macro f1 score: 0.6655209202765854, Model 2 std macro f1 score: 0.05498233920521565\n"
     ]
    }
   ],
   "source": [
    "average_macro_f1_model2, std_macro_f1_model2 = evaluate_model('model2', X_test, Y_test)\n",
    "print(f'Model 2 average macro f1 score: {average_macro_f1_model2}, Model 2 std macro f1 score: {std_macro_f1_model2}')"
   ]
  },
  {
   "cell_type": "markdown",
   "metadata": {},
   "source": [
    "Model 1 has the best performance on the validation set so we will use it for further tasks. Model 2 has the worst performance overall but we saw that if we train it for more epochs it can achieve better results, so we decided to train for 50 epochs instead of 20 even though it is not consistent with the other models.\n",
    "\n",
    "Model 2 seems to be the most unstable model as it has the highest standard deviation and the worst performance on the validation set. This is due to the structure of the model which adds an additional Dense layer on top of the LSTM layer. This is far less powerful than adding an additional LSTM layer as it does not take into account the sequential nature of the data."
   ]
  },
  {
   "cell_type": "markdown",
   "metadata": {},
   "source": [
    "# Task 6: Error Analysis\n",
    "\n",
    "You are tasked to evaluate your best performing model."
   ]
  },
  {
   "cell_type": "markdown",
   "metadata": {},
   "source": [
    "### Instructions\n",
    "\n",
    "* Compare the errors made on the validation and test sets.\n",
    "* Aggregate model errors into categories (if possible) \n",
    "* Comment the about errors and propose possible solutions on how to address them."
   ]
  },
  {
   "cell_type": "markdown",
   "metadata": {},
   "source": [
    "We load the best models which we found to be with seed 42. All other models and their results are present in the respective seed folders and can be loaded by changing the seed number in task 3."
   ]
  },
  {
   "cell_type": "code",
   "execution_count": 26,
   "metadata": {},
   "outputs": [],
   "source": [
    "baseline = tf.keras.models.load_model(f'seed_{seed}/baseline_{seed}.h5')\n",
    "model1 = tf.keras.models.load_model(f'seed_{seed}/model1_{seed}.h5')    \n",
    "model2 = tf.keras.models.load_model(f'seed_{seed}/model2_{seed}.h5')"
   ]
  },
  {
   "cell_type": "markdown",
   "metadata": {},
   "source": [
    "We define a function to compute the F1-score for each tag."
   ]
  },
  {
   "cell_type": "code",
   "execution_count": 33,
   "metadata": {},
   "outputs": [],
   "source": [
    "def score_per_tag(y_true, y_pred):\n",
    "    scores = {}\n",
    "    y_true = np.argmax(y_true, axis=-1)\n",
    "    y_pred = np.argmax(y_pred, axis=-1)\n",
    "    y_true = y_true.flatten()\n",
    "    y_pred = y_pred.flatten()\n",
    "    temp = [] \n",
    "    temp_pred = []\n",
    "    for i in range(len(y_true)):\n",
    "        if y_true[i] not in punctuation_tags_idx and y_true[i] != 0: # if the tag is not a punctuation tag\n",
    "            temp.append(y_true[i])\n",
    "            temp_pred.append(y_pred[i])\n",
    "    tag_true = []\n",
    "    tag_pred = []\n",
    "    for el in tag2idx.keys():\n",
    "        tag_true = []\n",
    "        tag_pred = []\n",
    "        for i in range(len(temp)):\n",
    "            if temp[i] == tag2idx.get(el) and tag2idx.get(el) not in punctuation_tags_idx: # if the tag is not a punctuation tag\n",
    "                tag_true.append(temp[i])\n",
    "                tag_pred.append(temp_pred[i])\n",
    "        if len(tag_pred) != 0 and len(tag_true) != 0:\n",
    "            scores[el] = f1_score(tag_true, tag_pred, average='macro')\n",
    "    return scores"
   ]
  },
  {
   "cell_type": "markdown",
   "metadata": {},
   "source": [
    "This function is purely cosmetic and is used to plot the results in a nicer way."
   ]
  },
  {
   "cell_type": "code",
   "execution_count": 34,
   "metadata": {},
   "outputs": [],
   "source": [
    "def set_color(number_of_colors):\n",
    "    # return a random color to be used for the plot\n",
    "    color_list = []\n",
    "    for i in range(number_of_colors):\n",
    "        color_list.append(\"#\"+''.join([random.choice('0123456789ABCDEF') for j in range(6)]))\n",
    "    return color_list"
   ]
  },
  {
   "cell_type": "markdown",
   "metadata": {},
   "source": [
    "We comupute for each tag the F1-score but in order to plot it we need to get their tag names. We don't consider tags which have a score of 1 as we are interested only in the errors."
   ]
  },
  {
   "cell_type": "code",
   "execution_count": 35,
   "metadata": {},
   "outputs": [],
   "source": [
    "def get_scores_tag(scores):\n",
    "    # return a list of scores and a list of tags\n",
    "    scores_tags =  {tag2idx[key]: value for key, value in scores.items()}\n",
    "    scores_tags = {key: value for key, value in scores_tags.items() if value < 1.0}\n",
    "    scores_tags =  {idx2tag[key]: value for key, value in scores_tags.items()}\n",
    "    return scores_tags"
   ]
  },
  {
   "cell_type": "markdown",
   "metadata": {},
   "source": [
    "Here we define the different plots for test and validation sets."
   ]
  },
  {
   "cell_type": "code",
   "execution_count": 36,
   "metadata": {},
   "outputs": [
    {
     "name": "stdout",
     "output_type": "stream",
     "text": [
      "20/20 [==============================] - 2s 67ms/step\n",
      "40/40 [==============================] - 3s 66ms/step\n",
      "20/20 [==============================] - 4s 139ms/step\n",
      "40/40 [==============================] - 6s 141ms/step\n",
      "20/20 [==============================] - 1s 29ms/step\n",
      "40/40 [==============================] - 1s 29ms/step\n"
     ]
    },
    {
     "data": {
      "image/png": "[encoded data removed]",
      "text/plain": [
       "<Figure size 2000x1500 with 6 Axes>"
      ]
     },
     "metadata": {},
     "output_type": "display_data"
    }
   ],
   "source": [
    "# Baseline model\n",
    "baseline_test_pred = baseline.predict(X_test)\n",
    "baseline_val_pred = baseline.predict(X_val)\n",
    "scores_baseline_test = score_per_tag(Y_test, baseline_test_pred)\n",
    "scores_baseline_test_tags = get_scores_tag(scores_baseline_test)\n",
    "scores_baseline_val = score_per_tag(Y_val, baseline_val_pred)\n",
    "scores_baseline_val_tags = get_scores_tag(scores_baseline_val)\n",
    "\n",
    "# Model 1\n",
    "model1_test_pred = model1.predict(X_test)\n",
    "model1_val_pred = model1.predict(X_val)\n",
    "scores_model1_test = score_per_tag(Y_test, model1_test_pred)\n",
    "scores_model1_test_tags = get_scores_tag(scores_model1_test)\n",
    "scores_model1_val = score_per_tag(Y_val, model1_val_pred)\n",
    "scores_model1_val_tags = get_scores_tag(scores_model1_val)\n",
    "\n",
    "# Model 2\n",
    "model2_test_pred = model2.predict(X_test)\n",
    "model2_val_pred = model2.predict(X_val)\n",
    "scores_model2_test = score_per_tag(Y_test, model2_test_pred)\n",
    "scores_model2_test_tags = get_scores_tag(scores_model2_test)\n",
    "scores_model2_val = score_per_tag(Y_val, model2_val_pred)\n",
    "scores_model2_val_tags = get_scores_tag(scores_model2_val)\n",
    "\n",
    "# plot in a multifigure plot the scores of the models divided by test and validation\n",
    "fig, axs = plt.subplots(2, 3, figsize=(20, 15))\n",
    "fig.suptitle('Scores per tag')\n",
    "# Baseline\n",
    "axs[0, 0].bar(scores_baseline_test_tags.keys(), scores_baseline_test_tags.values(), color=set_color(len(scores_baseline_test_tags)))\n",
    "axs[0, 0].set_title('Baseline test')\n",
    "axs[1, 0].bar(scores_baseline_val_tags.keys(), scores_baseline_val_tags.values(), color=set_color(len(scores_baseline_val_tags)))\n",
    "axs[1, 0].set_title('Baseline val')\n",
    "# Model 1\n",
    "axs[0, 1].bar(scores_model1_test_tags.keys(), scores_model1_test_tags.values(), color=set_color(len(scores_model1_test_tags)))\n",
    "axs[0, 1].set_title('Model 1 test')\n",
    "axs[1, 1].bar(scores_model1_val_tags.keys(), scores_model1_val_tags.values(), color=set_color(len(scores_model1_val_tags)))\n",
    "axs[1, 1].set_title('Model 1 val')\n",
    "# Model 2\n",
    "axs[0, 2].bar(scores_model2_test_tags.keys(), scores_model2_test_tags.values(), color=set_color(len(scores_model2_test_tags)))\n",
    "axs[0, 2].set_title('Model 2 test')\n",
    "axs[1, 2].bar(scores_model2_val_tags.keys(), scores_model2_val_tags.values(), color=set_color(len(scores_model2_val_tags)))\n",
    "axs[1, 2].set_title('Model 2 val')\n",
    "for ax in axs.flat:\n",
    "    ax.set(xlabel='Tags', ylabel='Scores')\n",
    "    # Rotate tick labels and set their alignment.\n",
    "    plt.setp(ax.get_xticklabels(), rotation=90, ha=\"right\", rotation_mode=\"anchor\")\n",
    "    # Distance more x labels from each other\n",
    "    ax.xaxis.set_tick_params(pad=15)\n",
    "for ax in axs.flat:\n",
    "    ax.label_outer()\n",
    "plt.show()"
   ]
  },
  {
   "cell_type": "markdown",
   "metadata": {},
   "source": [
    "Here we present the scores as a heatmap for model 1 on test and validation sets."
   ]
  },
  {
   "cell_type": "code",
   "execution_count": 45,
   "metadata": {},
   "outputs": [
    {
     "data": {
      "image/png": "[encoded data removed]",
      "text/plain": [
       "<Figure size 2000x1000 with 2 Axes>"
      ]
     },
     "metadata": {},
     "output_type": "display_data"
    },
    {
     "data": {
      "image/png": "[encoded data removed]",
      "text/plain": [
       "<Figure size 2000x1000 with 2 Axes>"
      ]
     },
     "metadata": {},
     "output_type": "display_data"
    }
   ],
   "source": [
    "# heatmap of the scores of model 1 on test set and validation set\n",
    "\n",
    "# Test set\n",
    "plt.figure(figsize=(20, 10))\n",
    "sns.heatmap(pd.DataFrame(scores_model1_test, index=[0]).T, annot=True, cmap='Blues')\n",
    "plt.title('Model 1 test scores')\n",
    "# hide x labels\n",
    "plt.xticks([])\n",
    "plt.show()\n",
    "\n",
    "# Validation set\n",
    "plt.figure(figsize=(20, 10))\n",
    "sns.heatmap(pd.DataFrame(scores_model1_val, index=[0]).T, annot=True, cmap='Blues')\n",
    "plt.title('Model 1 val scores')\n",
    "# hide x labels\n",
    "plt.xticks([])\n",
    "plt.show()"
   ]
  },
  {
   "cell_type": "code",
   "execution_count": 46,
   "metadata": {},
   "outputs": [
    {
     "name": "stdout",
     "output_type": "stream",
     "text": [
      "Most difficult tag for the baseline model on test set: to\n",
      "Most difficult tag for the model 1 on test set: to\n",
      "Most difficult tag for the model 2 on test set: to\n",
      "Most difficult tag for the baseline model on validation set: ``\n",
      "Most difficult tag for the model 1 on validation set: to\n",
      "Most difficult tag for the model 2 on validation set: to\n"
     ]
    }
   ],
   "source": [
    "# Most difficult tag for each model on test set\n",
    "print(\"Most difficult tag for the baseline model on test set: {}\".format(max(scores_baseline_test, key=scores_baseline_test.get)))\n",
    "print(\"Most difficult tag for the model 1 on test set: {}\".format(max(scores_model1_test, key=scores_model1_test.get)))\n",
    "print(\"Most difficult tag for the model 2 on test set: {}\".format(max(scores_model2_test, key=scores_model2_test.get)))\n",
    "\n",
    "# Most difficult tag for each model on validation set\n",
    "print(\"Most difficult tag for the baseline model on validation set: {}\".format(max(scores_baseline_val, key=scores_baseline_val.get)))\n",
    "print(\"Most difficult tag for the model 1 on validation set: {}\".format(max(scores_model1_val, key=scores_model1_val.get)))\n",
    "print(\"Most difficult tag for the model 2 on validation set: {}\".format(max(scores_model2_val, key=scores_model2_val.get)))"
   ]
  },
  {
   "cell_type": "markdown",
   "metadata": {},
   "source": [
    "As we can see all the models have difficulties with almost the same tags. This can be explained by the fact that the models are very similar and the hyperparameters are very similar as well, so overall they perform similarly (model 2 is worse than the other two but with more training it can be seen that it can rival baseline).\n",
    "\n",
    "Another thing to note is that there are many words in the test and validation sets which are not in the GloVe embeddings. This is because we used the GloVe embeddings from the training set and the test and validation sets have words which are not present in the training set. This could be solved by using a larger GloVe embedding or by using a different embedding such as BERT or FastText."
   ]
  },
  {
   "cell_type": "markdown",
   "metadata": {},
   "source": [
    "Here we define the function to compute the confusion matrix. We use the sklearn confusion matrix function."
   ]
  },
  {
   "cell_type": "code",
   "execution_count": 54,
   "metadata": {},
   "outputs": [],
   "source": [
    "# Get confusion matrix for each model\n",
    "\n",
    "def get_confusion_matrix(y_true, y_pred):\n",
    "    y_true = np.argmax(y_true, axis=-1)\n",
    "    y_pred = np.argmax(y_pred, axis=-1)\n",
    "    y_true = y_true.flatten()\n",
    "    y_pred = y_pred.flatten()\n",
    "    temp = [] \n",
    "    temp_pred = []\n",
    "    for i in range(len(y_true)):\n",
    "        temp.append(y_true[i])\n",
    "        temp_pred.append(y_pred[i])\n",
    "    return confusion_matrix(temp, temp_pred)"
   ]
  },
  {
   "cell_type": "markdown",
   "metadata": {},
   "source": [
    "We present the confusion matrix for the test and validation sets. We print only the confusion matrix for model 1 as it is the best performing model."
   ]
  },
  {
   "cell_type": "code",
   "execution_count": 55,
   "metadata": {},
   "outputs": [
    {
     "name": "stdout",
     "output_type": "stream",
     "text": [
      "Example Model 1 confusion matrix on test set:\n",
      "[[   0    0    0    0    0]\n",
      " [   0 2008  206    1    6]\n",
      " [   0  128 1268    0    1]\n",
      " [   0    1    1 1593    0]\n",
      " [   0    2    0    5 1327]]\n",
      "Example Model 1 confusion matrix on validation set:\n",
      "[[   0    0    0    0    0]\n",
      " [   0 3856  350    2    5]\n",
      " [   0  297 2241    0    3]\n",
      " [   0    1    7 3212    6]\n",
      " [   0    0    0    6 2744]]\n"
     ]
    }
   ],
   "source": [
    "# get confusion matrix for the baseline model\n",
    "baseline_confusion_matrix_test = get_confusion_matrix(Y_test, baseline_test_pred)\n",
    "baseline_confusion_matrix_val = get_confusion_matrix(Y_val, baseline_val_pred)\n",
    "\n",
    "# get confusion matrix for model 1\n",
    "model1_confusion_matrix_test = get_confusion_matrix(Y_test, model1_test_pred)\n",
    "model1_confusion_matrix_val = get_confusion_matrix(Y_val, model1_val_pred)\n",
    "print(\"Example Model 1 confusion matrix on test set:\\n{}\".format(model1_confusion_matrix_test[0:5, 0:5]))\n",
    "print(\"Example Model 1 confusion matrix on validation set:\\n{}\".format(model1_confusion_matrix_val[0:5, 0:5]))\n",
    "\n",
    "# get confusion matrix for model 2\n",
    "model2_confusion_matrix_test = get_confusion_matrix(Y_test, model2_test_pred)\n",
    "model2_confusion_matrix_val = get_confusion_matrix(Y_val, model2_val_pred)"
   ]
  },
  {
   "cell_type": "code",
   "execution_count": 51,
   "metadata": {},
   "outputs": [],
   "source": [
    "# get the most frequent tag from encoded tags\n",
    "\n",
    "def get_most_least_frequent_tag(encoded_tags):\n",
    "    temp = []\n",
    "    for sentence in encoded_tags:\n",
    "        for tag in sentence:\n",
    "            if tag not in punctuation_tags_idx and tag != 0:\n",
    "                temp.append(tag)\n",
    "    # get the most frequent tag\n",
    "    most_frequent_tag = Counter(temp).most_common(1)[0][0]\n",
    "    print(f'Times the most frequent tag appears: {Counter(temp).most_common(1)[0][1]}')\n",
    "    # get the least frequent tag\n",
    "    least_frequent_tag = Counter(temp).most_common()[-1][0]\n",
    "    print(f'Times the least frequent tag appears: {Counter(temp).most_common()[-1][1]}')\n",
    "    return most_frequent_tag, least_frequent_tag"
   ]
  },
  {
   "cell_type": "markdown",
   "metadata": {},
   "source": [
    "Here we analyze the errors made on the most and least frequent tags."
   ]
  },
  {
   "cell_type": "code",
   "execution_count": 52,
   "metadata": {},
   "outputs": [
    {
     "name": "stdout",
     "output_type": "stream",
     "text": [
      "Model 1 on test set:\n",
      "Times the most frequent tag appears: 2383\n",
      "Times the least frequent tag appears: 3\n",
      "Most frequent tag: nn\n",
      "Least frequent tag: rbs\n",
      "Model 1 performance on the most frequent tag: 0.07621650345403476\n",
      "Model 1 performance on the least frequent tag: 1.0\n",
      "\n",
      "Model 1 on validation set:\n",
      "Times the most frequent tag appears: 4513\n",
      "Times the least frequent tag appears: 2\n",
      "Most frequent tag: nn\n",
      "Least frequent tag: uh\n",
      "Model 1 performance on the most frequent tag: 0.05759349982076711\n",
      "Model 1 performance on the least frequent tag: 0.0\n"
     ]
    },
    {
     "data": {
      "image/png": "[encoded data removed]",
      "text/plain": [
       "<Figure size 2000x500 with 2 Axes>"
      ]
     },
     "metadata": {},
     "output_type": "display_data"
    }
   ],
   "source": [
    "# Model 1 performance on the most frequent tag and the least frequent tag in test set\n",
    "print(\"Model 1 on test set:\")\n",
    "most_frequent_tag_test, least_frequent_tag_test = get_most_least_frequent_tag(encoded_test_tags)\n",
    "print(\"Most frequent tag: {}\".format(idx2tag[most_frequent_tag_test]))\n",
    "print(\"Least frequent tag: {}\".format(idx2tag[least_frequent_tag_test]))\n",
    "print(\"Model 1 performance on the most frequent tag: {}\".format(scores_model1_test[idx2tag[most_frequent_tag_test]]))\n",
    "print(\"Model 1 performance on the least frequent tag: {}\".format(scores_model1_test[idx2tag[least_frequent_tag_test]]))\n",
    "\n",
    "# Model 1 performance on the most frequent tag and the least frequent tag on validation set\n",
    "print(\"\\nModel 1 on validation set:\")\n",
    "most_frequent_tag_val, least_frequent_tag_val = get_most_least_frequent_tag(encoded_val_tags)\n",
    "print(\"Most frequent tag: {}\".format(idx2tag[most_frequent_tag_val]))\n",
    "print(\"Least frequent tag: {}\".format(idx2tag[least_frequent_tag_val]))\n",
    "print(\"Model 1 performance on the most frequent tag: {}\".format(scores_model1_val[idx2tag[most_frequent_tag_val]]))\n",
    "print(\"Model 1 performance on the least frequent tag: {}\".format(scores_model1_val[idx2tag[least_frequent_tag_val]]))\n",
    "\n",
    "# plot scores for the most frequent and least frequent tag for each baseline on test set and validation set\n",
    "fig, axs = plt.subplots(1, 2, figsize=(20, 5))\n",
    "fig.suptitle('Scores for the most frequent and least frequent tag')\n",
    "# Baseline\n",
    "axs[0].bar(['Most frequent', 'Least frequent'], [scores_model1_test[idx2tag[most_frequent_tag_test]], scores_model1_test[idx2tag[least_frequent_tag_test]]], color=['#0000FF', '#FF0000'])\n",
    "axs[0].set_title('Model 1 test')\n",
    "axs[1].bar(['Most frequent', 'Least frequent'], [scores_model1_val[idx2tag[most_frequent_tag_val]], scores_model1_val[idx2tag[least_frequent_tag_val]]], color=['#0000FF', '#FF0000'])\n",
    "axs[1].set_title('Model 1 val')\n",
    "for ax in axs.flat:\n",
    "    ax.set(xlabel='Tags', ylabel='Scores')\n",
    "    # Distance more x labels from each other\n",
    "    ax.xaxis.set_tick_params(pad=15)\n",
    "plt.show()"
   ]
  },
  {
   "cell_type": "markdown",
   "metadata": {},
   "source": [
    "Here we see that the even though \"nn\" is the most frequent tag it is not the one with the best score. This is because it is a very general tag and it is hard to predict correctly. The same can be said for the least frequent tag \"uh\". This tag is very rare and it is hard to predict correctly. Something to note is that for the tag \"rbs\" the model has a score of 1. This may be due to the fact that it is present in the test set only 3 times and it is correctly predicted each time, so we don't think it is a good indicator of the model's performance.\n",
    "\n",
    "One solution would be to use a better split of the data, for example we could use a stratified split in order to have a more balanced distribution of the tags in the sets."
   ]
  },
  {
   "cell_type": "markdown",
   "metadata": {},
   "source": [
    "We plot the precision/recall curve for model 1 on the test set and validation set."
   ]
  },
  {
   "cell_type": "code",
   "execution_count": 53,
   "metadata": {},
   "outputs": [
    {
     "name": "stdout",
     "output_type": "stream",
     "text": [
      "20/20 [==============================] - 2s 119ms/step\n",
      "40/40 [==============================] - 5s 119ms/step\n"
     ]
    },
    {
     "data": {
      "image/png": "[encoded data removed]",
      "text/plain": [
       "<Figure size 640x480 with 2 Axes>"
      ]
     },
     "metadata": {},
     "output_type": "display_data"
    }
   ],
   "source": [
    "# Get precision/recall for the baseline model\n",
    "from sklearn.metrics import precision_score\n",
    "from sklearn.metrics import recall_score\n",
    "from sklearn.metrics import precision_recall_curve\n",
    "\n",
    "# plot precision-recall curve for the baseline model for test and validation set in a multifigure plot\n",
    "fig, (ax1, ax2) = plt.subplots(1, 2)\n",
    "fig.suptitle('Model 1 precision-recall curve')\n",
    "# test set\n",
    "precision_test = dict()\n",
    "recall_test = dict()\n",
    "precision_test[\"micro\"], recall_test[\"micro\"], _ = precision_recall_curve(Y_test.ravel(), model1.predict(X_test).ravel())\n",
    "ax1.plot(recall_test[\"micro\"], precision_test[\"micro\"], color='blue', lw=2)\n",
    "ax1.set_xlabel('Recall')\n",
    "ax1.set_ylabel('Precision')\n",
    "ax1.set_title('Test set')\n",
    "# validation set\n",
    "precision_val = dict()\n",
    "recall_val = dict()\n",
    "precision_val[\"micro\"], recall_val[\"micro\"], _ = precision_recall_curve(Y_val.ravel(), model1.predict(X_val).ravel())\n",
    "ax2.plot(recall_val[\"micro\"], precision_val[\"micro\"], color='blue', lw=2)\n",
    "ax2.set_xlabel('Recall')\n",
    "ax2.set_ylabel('Precision')\n",
    "ax2.set_title('Validation set')\n",
    "plt.show()"
   ]
  },
  {
   "cell_type": "markdown",
   "metadata": {},
   "source": [
    "For both the test set and validation set we see that the precision/recall curve is very similar. Initially the precision is very high but the recall is very low. This is because the model predicts very few tags but it predicts them correctly. As the recall increases the precision decreases. This is because the model starts to predict more tags but it also starts to make more mistakes. This is a common problem with POS tagging as the tags are very similar and it is hard to distinguish between them."
   ]
  },
  {
   "cell_type": "markdown",
   "metadata": {},
   "source": [
    "We analyze the errors made by model 1 on the test set."
   ]
  },
  {
   "cell_type": "code",
   "execution_count": 54,
   "metadata": {},
   "outputs": [
    {
     "name": "stdout",
     "output_type": "stream",
     "text": [
      "20/20 [==============================] - 2s 120ms/step\n",
      "         Word True tag Predicted tag\n",
      "0     [corp.]       cd            jj\n",
      "1         [i]       in            rb\n",
      "2      [both]      nnp            nn\n",
      "3  [interest]       cd            jj\n",
      "4       [pay]      nns            jj\n",
      "5     [firms]      nnp            jj\n",
      "6   [comment]      vbn           vbd\n",
      "7     [talks]      nnp            nn\n",
      "8     [total]       vb            jj\n",
      "9     [women]      nnp            jj\n"
     ]
    }
   ],
   "source": [
    "# get specific missclassified samples for the model 1 \n",
    "\n",
    "y_pred = model1.predict(X_test)\n",
    "y_pred = np.argmax(y_pred, axis=-1)\n",
    "y_pred = y_pred.flatten()\n",
    "y_true = np.argmax(Y_test, axis=-1)\n",
    "y_true = y_true.flatten()\n",
    "\n",
    "temp = []\n",
    "for i in range(len(encoded_test_sentences)):\n",
    "    for elem in encoded_test_sentences[i]:\n",
    "        temp.append(elem)\n",
    "# get the index of the missclassified samples\n",
    "\n",
    "missclassified_samples = []\n",
    "for i in range(len(y_true)):\n",
    "    if y_true[i] != y_pred[i]:\n",
    "        if y_true[i] not in punctuation_tags_idx and y_true[i] != 0:\n",
    "            missclassified_samples.append(i)\n",
    " \n",
    "# create a table with the missclassified samples: word, true tag, predicted tag for the first 10 samples\n",
    "sample_dict = {}\n",
    "for i in range(10):\n",
    "    sample_dict[i] = [sentence_tokenizer.sequences_to_texts([missclassified_samples[i:i+1]]), idx2tag[y_true[missclassified_samples[i]]], idx2tag[y_pred[missclassified_samples[i]]]]\n",
    "\n",
    "# create a dataframe from the dictionary\n",
    "df = pd.DataFrame.from_dict(sample_dict, orient='index', columns=['Word', 'True tag', 'Predicted tag'])\n",
    "print(df)"
   ]
  },
  {
   "cell_type": "markdown",
   "metadata": {},
   "source": [
    "Here we can observe a specific error made by the model. The model predicts \"nn\" instead of \"nnp\" which indicates that it has difficulties with proper nouns. This may be due to them being very similar to nouns in the interpretation of the model. \n",
    "\n",
    "Another common  error is the assignement of the \"jj\" tag to almost all the words. This may be due to the fact that the model has a siginificant bias towards this tag. Our solution to this problem would be to use a more balanced dataset like we mentioned before as it would help the model learn the tags better and not have a bias towards a specific tag."
   ]
  },
  {
   "cell_type": "markdown",
   "metadata": {},
   "source": [
    "Here we present some sentences and their original tags and the predicted tags as a general overview of the model's performance."
   ]
  },
  {
   "cell_type": "code",
   "execution_count": 55,
   "metadata": {},
   "outputs": [
    {
     "name": "stdout",
     "output_type": "stream",
     "text": [
      "Sentence 1\n",
      "Original sentence: ['Intelogic', 'Trace', 'Inc.', ',', 'San', 'Antonio', ',', 'Texas', ',', 'said', 'it', 'bought', '2.7', 'million', 'shares', ',', 'or', 'about', '18', '%', ',', 'of', 'its', 'common', 'stock', 'from', 'an', 'unaffiliated', 'shareholder', 'for', '$', '3.625', 'a', 'share', ',', 'or', '$', '9.9', 'million', '.']\n",
      "True tags: ['NNP', 'NNP', 'NNP', ',', 'NNP', 'NNP', ',', 'NNP', ',', 'VBD', 'PRP', 'VBD', 'CD', 'CD', 'NNS', ',', 'CC', 'IN', 'CD', 'NN', ',', 'IN', 'PRP$', 'JJ', 'NN', 'IN', 'DT', 'JJ', 'NN', 'IN', '$', 'CD', 'DT', 'NN', ',', 'CC', '$', 'CD', 'CD', '.']\n",
      "Predicted tags: ['nnp', 'nnp', 'nnp', ',', 'nnp', 'nnp', ',', 'nnp', ',', 'vbd', 'prp', 'vbd', 'jj', 'cd', 'nns', ',', 'cc', 'rb', 'cd', 'nn', ',', 'in', 'prp$', 'jj', 'nn', 'in', 'dt', 'jj', 'nn', 'in', '$', 'cd', 'dt', 'nn', ',', 'cc', '$', 'cd', 'cd']\n",
      "\n",
      "\n",
      "Sentence 2\n",
      "Original sentence: ['The', 'move', 'boosts', 'Intelogic', 'Chairman', 'Asher', 'Edelman', \"'s\", 'stake', 'to', '20', '%', 'from', '16.2', '%', 'and', 'may', 'help', 'prevent', 'Martin', 'Ackerman', 'from', 'making', 'a', 'run', 'at', 'the', 'computer-services', 'concern', '.']\n",
      "True tags: ['DT', 'NN', 'VBZ', 'NNP', 'NNP', 'NNP', 'NNP', 'POS', 'NN', 'TO', 'CD', 'NN', 'IN', 'CD', 'NN', 'CC', 'MD', 'VB', 'VB', 'NNP', 'NNP', 'IN', 'VBG', 'DT', 'NN', 'IN', 'DT', 'NNS', 'NN', '.']\n",
      "Predicted tags: ['dt', 'nn', 'vbz', 'nnp', 'nn', 'nnp', 'nnp', 'pos', 'nn', 'to', 'cd', 'nn', 'in', 'jj', 'nn', 'cc', 'md', 'vb', 'vb', 'nnp', 'nnp', 'in', 'vbg', 'dt', 'nn', 'in', 'dt', 'jj', 'nn']\n",
      "\n",
      "\n",
      "Sentence 3\n",
      "Original sentence: ['Mr.', 'Ackerman', 'already', 'is', 'seeking', 'to', 'oust', 'Mr.', 'Edelman', 'as', 'chairman', 'of', 'Datapoint', 'Corp.', ',', 'an', 'Intelogic', 'affiliate', '.']\n",
      "True tags: ['NNP', 'NNP', 'RB', 'VBZ', 'VBG', 'TO', 'VB', 'NNP', 'NNP', 'IN', 'NN', 'IN', 'NNP', 'NNP', ',', 'DT', 'NNP', 'NN', '.']\n",
      "Predicted tags: ['nnp', 'nnp', 'rb', 'vbz', 'vbg', 'to', 'vb', 'nnp', 'nnp', 'in', 'nn', 'in', 'nnp', 'nnp', ',', 'dt', 'jj', 'nn']\n",
      "\n",
      "\n",
      "Sentence 4\n",
      "Original sentence: ['The', 'action', 'followed', 'by', 'one', 'day', 'an', 'Intelogic', 'announcement', 'that', 'it', 'will', 'retain', 'an', 'investment', 'banker', 'to', 'explore', 'alternatives', '``', 'to', 'maximize', 'shareholder', 'value', ',', \"''\", 'including', 'the', 'possible', 'sale', 'of', 'the', 'company', '.']\n",
      "True tags: ['DT', 'NN', 'VBN', 'IN', 'CD', 'NN', 'DT', 'NNP', 'NN', 'IN', 'PRP', 'MD', 'VB', 'DT', 'NN', 'NN', 'TO', 'VB', 'NNS', '``', 'TO', 'VB', 'NN', 'NN', ',', \"''\", 'VBG', 'DT', 'JJ', 'NN', 'IN', 'DT', 'NN', '.']\n",
      "Predicted tags: ['dt', 'nn', 'vbd', 'in', 'cd', 'nn', 'dt', 'nn', 'nn', 'in', 'prp', 'md', 'vb', 'dt', 'nn', 'nn', 'to', 'jj', 'nns', '``', 'to', 'vb', 'nn', 'nn', ',', \"''\", 'vbg', 'dt', 'jj', 'nn', 'in', 'dt', 'nn']\n",
      "\n",
      "\n",
      "Sentence 5\n",
      "Original sentence: ['In', 'New', 'York', 'Stock', 'Exchange', 'composite', 'trading', 'yesterday', ',', 'Intelogic', 'shares', 'rose', '37.5', 'cents', 'to', 'close', 'at', '$', '2.75', '.']\n",
      "True tags: ['IN', 'NNP', 'NNP', 'NNP', 'NNP', 'JJ', 'NN', 'NN', ',', 'NNP', 'NNS', 'VBD', 'CD', 'NNS', 'TO', 'VB', 'IN', '$', 'CD', '.']\n",
      "Predicted tags: ['in', 'nnp', 'nnp', 'nnp', 'nnp', 'jj', 'nn', 'nn', ',', 'jj', 'nns', 'vbd', 'cd', 'nns', 'to', 'vb', 'in', '$', 'cd']\n",
      "\n",
      "\n"
     ]
    }
   ],
   "source": [
    "# 5 sentences from the test set and print the true and predicted tags\n",
    "\n",
    "for i in range(5):\n",
    "    print(f'Sentence {i+1}')\n",
    "    print(f'Original sentence: {test_sentences[i]}')\n",
    "    print(f'True tags: {test_tag_sentences[i]}')\n",
    "    # Remove padding from predicted tags \n",
    "    temp = []\n",
    "    for tag in y_pred[i*MAX_SEQ_LENGTH:(i+1)*MAX_SEQ_LENGTH]:\n",
    "        if tag != 9:\n",
    "            temp.append(tag)\n",
    "    print(f'Predicted tags: {[idx2tag[tag] for tag in temp]}')\n",
    "    print('\\n')\n"
   ]
  }
 ],
 "metadata": {
  "kernelspec": {
   "display_name": ".venv",
   "language": "python",
   "name": "python3"
  },
  "language_info": {
   "codemirror_mode": {
    "name": "ipython",
    "version": 3
   },
   "file_extension": ".py",
   "mimetype": "text/x-python",
   "name": "python",
   "nbconvert_exporter": "python",
   "pygments_lexer": "ipython3",
   "version": "3.10.10"
  }
 },
 "nbformat": 4,
 "nbformat_minor": 2
}
