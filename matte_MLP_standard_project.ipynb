{
 "cells": [
  {
   "cell_type": "markdown",
   "metadata": {},
   "source": [
    "# NLP Standard Project:\n",
    "\n",
    "- Students: **Matteo Belletti**, **Alessandro Pasi**, **Stricescu Razvan Ciprian**."
   ]
  },
  {
   "cell_type": "code",
   "execution_count": 1,
   "metadata": {},
   "outputs": [],
   "source": [
    "import numpy as np\n",
    "import matplotlib.pyplot as plt"
   ]
  },
  {
   "cell_type": "markdown",
   "metadata": {},
   "source": [
    "## Data loading and preprocessing:"
   ]
  },
  {
   "cell_type": "code",
   "execution_count": 2,
   "metadata": {},
   "outputs": [
    {
     "name": "stdout",
     "output_type": "stream",
     "text": [
      "Number of samples: 4000\n",
      "Example of a sample: {'episode': 'utterance_0', 'speakers': ['Chandler', 'The Interviewer', 'Chandler', 'The Interviewer', 'Chandler'], 'emotions': ['neutral', 'neutral', 'neutral', 'neutral', 'surprise'], 'utterances': [\"also I was the point person on my company's transition from the KL-5 to GR-6 system.\", \"You must've had your hands full.\", 'That I did. That I did.', \"So let's talk a little bit about your duties.\", 'My duties?  All right.'], 'triggers': [0.0, 0.0, 0.0, 1.0, 0.0]}\n"
     ]
    }
   ],
   "source": [
    "# open json in project_data_MELD folder\n",
    "import json\n",
    "with open('project_data_MELD/MELD_train_efr.json') as f:\n",
    "    data = json.load(f)\n",
    "print(f\"Number of samples: {len(data)}\")\n",
    "print(f\"Example of a sample: {data[0]}\")"
   ]
  },
  {
   "cell_type": "code",
   "execution_count": 3,
   "metadata": {},
   "outputs": [
    {
     "name": "stdout",
     "output_type": "stream",
     "text": [
      "Dataframe shape: (4000, 3)\n",
      "Dataframe columns: Index(['emotions', 'utterances', 'triggers'], dtype='object')\n"
     ]
    }
   ],
   "source": [
    "# Convert data to pandas dataframe\n",
    "import pandas as pd\n",
    "df = pd.DataFrame(data)\n",
    "# drop episode and speakers columns\n",
    "df = df.drop(columns=['episode', 'speakers'])\n",
    "print(f\"Dataframe shape: {df.shape}\")\n",
    "print(f\"Dataframe columns: {df.columns}\")"
   ]
  },
  {
   "cell_type": "markdown",
   "metadata": {},
   "source": [
    "Changing nan values to zeros in order to avoid errors."
   ]
  },
  {
   "cell_type": "code",
   "execution_count": 4,
   "metadata": {},
   "outputs": [
    {
     "name": "stdout",
     "output_type": "stream",
     "text": [
      "Number of NaN values changed: 9\n"
     ]
    }
   ],
   "source": [
    "# Chech for NaN values on triggers column\n",
    "nan_counter = 0\n",
    "for row in df[\"triggers\"]:\n",
    "    for elem in row:\n",
    "        if elem != 1 and elem != 0:\n",
    "            nan_counter += 1\n",
    "\n",
    "print(f\"Number of NaN values changed: {nan_counter}\")"
   ]
  },
  {
   "cell_type": "code",
   "execution_count": 5,
   "metadata": {},
   "outputs": [],
   "source": [
    "df[\"triggers\"] = df[\"triggers\"].apply(lambda x: [0.0 if elem != 1 and elem != 0 else elem for elem in x])"
   ]
  },
  {
   "cell_type": "code",
   "execution_count": 6,
   "metadata": {},
   "outputs": [
    {
     "data": {
      "text/plain": [
       "(3200, 400, 400)"
      ]
     },
     "execution_count": 6,
     "metadata": {},
     "output_type": "execute_result"
    }
   ],
   "source": [
    "# I split the dataframe as 80% train, 10% test, 10% validation\n",
    "from sklearn.model_selection import train_test_split\n",
    "random_state = 42\n",
    "\n",
    "train, test = train_test_split(df, test_size=0.2, random_state=random_state)\n",
    "test, val = train_test_split(test, test_size=0.5, random_state=random_state)\n",
    "\n",
    "len(train), len(test), len(val)"
   ]
  },
  {
   "cell_type": "code",
   "execution_count": 21,
   "metadata": {},
   "outputs": [
    {
     "data": {
      "text/html": [
       "<div>\n",
       "<style scoped>\n",
       "    .dataframe tbody tr th:only-of-type {\n",
       "        vertical-align: middle;\n",
       "    }\n",
       "\n",
       "    .dataframe tbody tr th {\n",
       "        vertical-align: top;\n",
       "    }\n",
       "\n",
       "    .dataframe thead th {\n",
       "        text-align: right;\n",
       "    }\n",
       "</style>\n",
       "<table border=\"1\" class=\"dataframe\">\n",
       "  <thead>\n",
       "    <tr style=\"text-align: right;\">\n",
       "      <th></th>\n",
       "      <th>emotions</th>\n",
       "      <th>utterances</th>\n",
       "      <th>triggers</th>\n",
       "    </tr>\n",
       "  </thead>\n",
       "  <tbody>\n",
       "    <tr>\n",
       "      <th>3994</th>\n",
       "      <td>[neutral, joy, neutral, neutral, surprise, dis...</td>\n",
       "      <td>[Hey., Hey!, So how was Joan?, I broke up with...</td>\n",
       "      <td>[0.0, 0.0, 0.0, 0.0, 0.0, 0.0, 0.0, 1.0, 0.0]</td>\n",
       "    </tr>\n",
       "    <tr>\n",
       "      <th>423</th>\n",
       "      <td>[surprise, fear]</td>\n",
       "      <td>[And y'know what, I just realised, in the last...</td>\n",
       "      <td>[1.0, 1.0]</td>\n",
       "    </tr>\n",
       "    <tr>\n",
       "      <th>2991</th>\n",
       "      <td>[fear, neutral, joy]</td>\n",
       "      <td>[Oh! Hey, Mr. Treeger., : What are you doing?,...</td>\n",
       "      <td>[1.0, 0.0, 1.0]</td>\n",
       "    </tr>\n",
       "    <tr>\n",
       "      <th>1221</th>\n",
       "      <td>[neutral, neutral, neutral, surprise, sadness,...</td>\n",
       "      <td>[Okay to come in?, Yeah, come on, eat, whateve...</td>\n",
       "      <td>[0.0, 0.0, 0.0, 0.0, 0.0, 0.0, 0.0, 0.0, 0.0, ...</td>\n",
       "    </tr>\n",
       "    <tr>\n",
       "      <th>506</th>\n",
       "      <td>[neutral, neutral, neutral, joy]</td>\n",
       "      <td>[Ok, bye.  Well, Monica's not coming, it's jus...</td>\n",
       "      <td>[1.0, 0.0, 0.0, 0.0]</td>\n",
       "    </tr>\n",
       "    <tr>\n",
       "      <th>...</th>\n",
       "      <td>...</td>\n",
       "      <td>...</td>\n",
       "      <td>...</td>\n",
       "    </tr>\n",
       "    <tr>\n",
       "      <th>1130</th>\n",
       "      <td>[neutral, sadness, fear, anger, neutral]</td>\n",
       "      <td>[Listen, Robert's gonna be here any second so,...</td>\n",
       "      <td>[0.0, 0.0, 0.0, 1.0, 0.0]</td>\n",
       "    </tr>\n",
       "    <tr>\n",
       "      <th>1294</th>\n",
       "      <td>[neutral, neutral, neutral, neutral, neutral, ...</td>\n",
       "      <td>[Triskaidekaphobia., The fear of, No! No, fear...</td>\n",
       "      <td>[0.0, 0.0, 0.0, 0.0, 0.0, 0.0, 0.0, 0.0, 0.0, ...</td>\n",
       "    </tr>\n",
       "    <tr>\n",
       "      <th>860</th>\n",
       "      <td>[joy, neutral, neutral]</td>\n",
       "      <td>[Yes! Yes! Please, just give it to me!, Yeah, ...</td>\n",
       "      <td>[0.0, 0.0, 0.0]</td>\n",
       "    </tr>\n",
       "    <tr>\n",
       "      <th>3507</th>\n",
       "      <td>[neutral, sadness, fear, joy, sadness, disgust...</td>\n",
       "      <td>[Okay., Okay, we have to talk. I'm just gettin...</td>\n",
       "      <td>[0.0, 0.0, 0.0, 0.0, 1.0, 0.0, 1.0, 0.0, 1.0, ...</td>\n",
       "    </tr>\n",
       "    <tr>\n",
       "      <th>3174</th>\n",
       "      <td>[fear, neutral, neutral, neutral, anger]</td>\n",
       "      <td>[I'm so sorry. Please, stop freaking out., I'm...</td>\n",
       "      <td>[0.0, 1.0, 1.0, 1.0, 0.0]</td>\n",
       "    </tr>\n",
       "  </tbody>\n",
       "</table>\n",
       "<p>3200 rows × 3 columns</p>\n",
       "</div>"
      ],
      "text/plain": [
       "                                               emotions  \\\n",
       "3994  [neutral, joy, neutral, neutral, surprise, dis...   \n",
       "423                                    [surprise, fear]   \n",
       "2991                               [fear, neutral, joy]   \n",
       "1221  [neutral, neutral, neutral, surprise, sadness,...   \n",
       "506                    [neutral, neutral, neutral, joy]   \n",
       "...                                                 ...   \n",
       "1130           [neutral, sadness, fear, anger, neutral]   \n",
       "1294  [neutral, neutral, neutral, neutral, neutral, ...   \n",
       "860                             [joy, neutral, neutral]   \n",
       "3507  [neutral, sadness, fear, joy, sadness, disgust...   \n",
       "3174           [fear, neutral, neutral, neutral, anger]   \n",
       "\n",
       "                                             utterances  \\\n",
       "3994  [Hey., Hey!, So how was Joan?, I broke up with...   \n",
       "423   [And y'know what, I just realised, in the last...   \n",
       "2991  [Oh! Hey, Mr. Treeger., : What are you doing?,...   \n",
       "1221  [Okay to come in?, Yeah, come on, eat, whateve...   \n",
       "506   [Ok, bye.  Well, Monica's not coming, it's jus...   \n",
       "...                                                 ...   \n",
       "1130  [Listen, Robert's gonna be here any second so,...   \n",
       "1294  [Triskaidekaphobia., The fear of, No! No, fear...   \n",
       "860   [Yes! Yes! Please, just give it to me!, Yeah, ...   \n",
       "3507  [Okay., Okay, we have to talk. I'm just gettin...   \n",
       "3174  [I'm so sorry. Please, stop freaking out., I'm...   \n",
       "\n",
       "                                               triggers  \n",
       "3994      [0.0, 0.0, 0.0, 0.0, 0.0, 0.0, 0.0, 1.0, 0.0]  \n",
       "423                                          [1.0, 1.0]  \n",
       "2991                                    [1.0, 0.0, 1.0]  \n",
       "1221  [0.0, 0.0, 0.0, 0.0, 0.0, 0.0, 0.0, 0.0, 0.0, ...  \n",
       "506                                [1.0, 0.0, 0.0, 0.0]  \n",
       "...                                                 ...  \n",
       "1130                          [0.0, 0.0, 0.0, 1.0, 0.0]  \n",
       "1294  [0.0, 0.0, 0.0, 0.0, 0.0, 0.0, 0.0, 0.0, 0.0, ...  \n",
       "860                                     [0.0, 0.0, 0.0]  \n",
       "3507  [0.0, 0.0, 0.0, 0.0, 1.0, 0.0, 1.0, 0.0, 1.0, ...  \n",
       "3174                          [0.0, 1.0, 1.0, 1.0, 0.0]  \n",
       "\n",
       "[3200 rows x 3 columns]"
      ]
     },
     "execution_count": 21,
     "metadata": {},
     "output_type": "execute_result"
    }
   ],
   "source": [
    "train"
   ]
  },
  {
   "cell_type": "code",
   "execution_count": 28,
   "metadata": {},
   "outputs": [
    {
     "name": "stdout",
     "output_type": "stream",
     "text": [
      "Max length of utterances: 24\n"
     ]
    }
   ],
   "source": [
    "# I find the max length of utterances in the train set\n",
    "max_len = 0\n",
    "for row in df[\"triggers\"]:\n",
    "    if len(row) > max_len:\n",
    "        max_len = len(row)\n",
    "print(f\"Max length of utterances: {max_len}\")"
   ]
  },
  {
   "cell_type": "code",
   "execution_count": 7,
   "metadata": {},
   "outputs": [
    {
     "name": "stderr",
     "output_type": "stream",
     "text": [
      "c:\\Program Files\\Python310\\lib\\site-packages\\tqdm\\auto.py:21: TqdmWarning: IProgress not found. Please update jupyter and ipywidgets. See https://ipywidgets.readthedocs.io/en/stable/user_install.html\n",
      "  from .autonotebook import tqdm as notebook_tqdm\n"
     ]
    }
   ],
   "source": [
    "# I import bert-base-uncased\n",
    "from transformers import BertTokenizer, BertModel\n",
    "import torch\n",
    "tokenizer = BertTokenizer.from_pretrained('bert-base-uncased')\n",
    "\n",
    "# I tokenize the sentences\n",
    "# TODO do I need input_ids? I think I don't need them\n",
    "def tokenize_sentences(sentences, tokenizer):\n",
    "    input_ids = []\n",
    "    attention_masks = []\n",
    "    for sent in sentences:\n",
    "        encoded_dict = tokenizer.encode_plus(\n",
    "                            sent,                      \n",
    "                            add_special_tokens = True, \n",
    "                            # + 2 for [CLS] and [SEP] tokens\n",
    "                            max_length = max_len + 2,           \n",
    "                            padding='max_length',\n",
    "                            truncation = True,\n",
    "                            return_attention_mask = True,   \n",
    "                            return_tensors = 'pt',     \n",
    "                       )\n",
    "        input_ids.append(encoded_dict['input_ids'])\n",
    "        attention_masks.append(encoded_dict['attention_mask'])\n",
    "    input_ids = torch.cat(input_ids, dim=0)\n",
    "    attention_masks = torch.cat(attention_masks, dim=0)\n",
    "    return input_ids, attention_masks\n",
    "\n",
    "# I tokenize the sentences\n",
    "train_sentences = train[\"utterances\"].values\n",
    "train_labels = train[\"triggers\"].values\n",
    "train_input_ids, train_attention_masks = tokenize_sentences(train_sentences, tokenizer)\n",
    " \n",
    "test_sentences = test[\"utterances\"].values\n",
    "test_labels = test[\"triggers\"].values\n",
    "test_input_ids, test_attention_masks = tokenize_sentences(test_sentences, tokenizer)\n",
    "\n",
    "val_sentences = val[\"utterances\"].values\n",
    "val_labels = val[\"triggers\"].values\n",
    "val_input_ids, val_attention_masks = tokenize_sentences(val_sentences, tokenizer)"
   ]
  },
  {
   "cell_type": "code",
   "execution_count": 8,
   "metadata": {},
   "outputs": [
    {
     "name": "stdout",
     "output_type": "stream",
     "text": [
      "torch.int64 torch.int64 object\n"
     ]
    }
   ],
   "source": [
    "print(train_input_ids.dtype, train_attention_masks.dtype, train_labels.dtype)"
   ]
  },
  {
   "cell_type": "code",
   "execution_count": 10,
   "metadata": {},
   "outputs": [
    {
     "name": "stdout",
     "output_type": "stream",
     "text": [
      "<class 'numpy.ndarray'> <class 'torch.Tensor'> <class 'torch.Tensor'>\n"
     ]
    }
   ],
   "source": [
    "print(type(train_labels), type(train_input_ids), type(train_attention_masks))"
   ]
  },
  {
   "cell_type": "code",
   "execution_count": 38,
   "metadata": {},
   "outputs": [
    {
     "data": {
      "text/plain": [
       "(tensor([0., 0., 0., 0., 0., 0., 0., 0., 0., 0., 0., 0., 0., 1., 0., 0., 0., 0.,\n",
       "         0., 0., 0., 0., 0., 0.]),\n",
       " [0.0, 0.0, 0.0, 0.0, 0.0, 0.0, 0.0, 0.0, 0.0, 0.0, 0.0, 0.0, 0.0, 1.0],\n",
       " [0.0, 0.0, 0.0, 0.0, 0.0, 0.0, 0.0, 0.0, 0.0, 0.0, 0.0, 1.0, 0.0])"
      ]
     },
     "execution_count": 38,
     "metadata": {},
     "output_type": "execute_result"
    }
   ],
   "source": [
    "# I prepare labels for the dataloaders\n",
    "\n",
    "def prepare_and_pad_labels(labels):\n",
    "    # Convert the list of lists into a list of tensors\n",
    "    labels = [torch.tensor(l) for l in labels]\n",
    "    # Pad the list of tensors to max length\n",
    "    labels = torch.nn.utils.rnn.pad_sequence(labels, \n",
    "                                             batch_first=True, \n",
    "                                             padding_value=0.0)\n",
    "    return labels\n",
    "\n",
    "prepare_and_pad_labels(train_labels)[3], train_labels[3], train['triggers'][3]"
   ]
  },
  {
   "cell_type": "code",
   "execution_count": 39,
   "metadata": {},
   "outputs": [],
   "source": [
    "# Create the dataloaders\n",
    "from torch.utils.data import TensorDataset, DataLoader, RandomSampler, SequentialSampler\n",
    "\n",
    "batch_size = 32\n",
    "\n",
    "train_dataset = TensorDataset(train_input_ids, train_attention_masks, prepare_and_pad_labels(train_labels))\n",
    "train_dataloader = DataLoader(train_dataset, sampler=RandomSampler(train_dataset), batch_size=batch_size)\n",
    "\n",
    "test_dataset = TensorDataset(test_input_ids, test_attention_masks, prepare_and_pad_labels(test_labels))\n",
    "test_dataloader = DataLoader(test_dataset, sampler=SequentialSampler(test_dataset), batch_size=batch_size)\n",
    "\n",
    "val_dataset = TensorDataset(val_input_ids, val_attention_masks, prepare_and_pad_labels(val_labels))\n",
    "val_dataloader = DataLoader(val_dataset, sampler=SequentialSampler(val_dataset), batch_size=batch_size)"
   ]
  },
  {
   "cell_type": "code",
   "execution_count": 42,
   "metadata": {},
   "outputs": [
    {
     "name": "stderr",
     "output_type": "stream",
     "text": [
      "Some weights of BertForSequenceClassification were not initialized from the model checkpoint at bert-base-uncased and are newly initialized: ['classifier.bias', 'classifier.weight']\n",
      "You should probably TRAIN this model on a down-stream task to be able to use it for predictions and inference.\n",
      "C:\\Users\\Matteo\\AppData\\Roaming\\Python\\Python310\\site-packages\\transformers\\optimization.py:429: FutureWarning: This implementation of AdamW is deprecated and will be removed in a future version. Use the PyTorch implementation torch.optim.AdamW instead, or set `no_deprecation_warning=True` to disable this warning\n",
      "  warnings.warn(\n"
     ]
    }
   ],
   "source": [
    "# I import the model\n",
    "from transformers import BertForSequenceClassification, AdamW\n",
    "model = BertForSequenceClassification.from_pretrained(\n",
    "    \"bert-base-uncased\",\n",
    "    output_attentions = False,\n",
    "    output_hidden_states = False,\n",
    ")\n",
    "\n",
    "# I create the optimizer\n",
    "optimizer = AdamW(model.parameters(),\n",
    "                    lr = 2e-5,\n",
    "                    eps = 1e-8\n",
    "                    )\n",
    "\n",
    "from transformers import get_scheduler\n",
    "\n",
    "num_epochs = 3\n",
    "num_training_steps = num_epochs * len(train_dataloader)\n",
    "lr_scheduler = get_scheduler(\n",
    "    name=\"linear\", optimizer=optimizer, num_warmup_steps=0, num_training_steps=num_training_steps\n",
    ")"
   ]
  },
  {
   "cell_type": "code",
   "execution_count": 41,
   "metadata": {},
   "outputs": [],
   "source": [
    "# we freeze the BERT embedding layer weights and fine-tune the classifier heads on top\n",
    "for param in model.bert.parameters():\n",
    "    param.requires_grad = False\n",
    "\n",
    "# I create the loss function\n",
    "from torch.nn import BCEWithLogitsLoss\n",
    "loss_function = BCEWithLogitsLoss()\n",
    " \n",
    "# I create the training loop\n",
    "from tqdm import tqdm\n",
    "from sklearn.metrics import f1_score\n",
    "\n",
    "device = torch.device(\"cuda\" if torch.cuda.is_available() else \"cpu\")\n",
    "\n",
    "def train(model, train_dataloader, val_dataloader=val_dataloader, epochs=4, evaluation=False):\n",
    "    model.to(device)\n",
    "    model.train()\n",
    "    for epoch in range(epochs):\n",
    "        print(f\"Epoch {epoch + 1}/{epochs}\")\n",
    "        print('-' * 10)\n",
    "        running_loss = 0.0\n",
    "        for batch in tqdm(train_dataloader):\n",
    "            optimizer.zero_grad()\n",
    "            batch = tuple(t.to(device) for t in batch)\n",
    "            inputs = {'input_ids':      batch[0],\n",
    "                      'attention_mask': batch[1],\n",
    "                      'labels':         batch[2],\n",
    "                     }\n",
    "            outputs = model(**inputs)\n",
    "            loss = outputs[0]\n",
    "            loss.backward()\n",
    "            optimizer.step()\n",
    "            running_loss += loss.item()\n",
    "        epoch_loss = running_loss / len(train_dataloader)\n",
    "        print(f\"Training loss: {epoch_loss}\")\n",
    "        if evaluation == True:\n",
    "            val_loss, val_f1 = evaluate(model, val_dataloader)\n",
    "            print(f\"Validation loss: {val_loss}\")\n",
    "            print(f\"Validation F1: {val_f1}\")\n",
    "    print(\"Training complete!\")"
   ]
  },
  {
   "cell_type": "code",
   "execution_count": null,
   "metadata": {},
   "outputs": [],
   "source": []
  },
  {
   "cell_type": "code",
   "execution_count": null,
   "metadata": {},
   "outputs": [],
   "source": []
  },
  {
   "cell_type": "code",
   "execution_count": null,
   "metadata": {},
   "outputs": [],
   "source": []
  },
  {
   "cell_type": "code",
   "execution_count": null,
   "metadata": {},
   "outputs": [],
   "source": []
  },
  {
   "cell_type": "code",
   "execution_count": 18,
   "metadata": {},
   "outputs": [],
   "source": [
    "# # I create the scheduler\n",
    "# from transformers import get_linear_schedule_with_warmup\n",
    "# epochs = 4\n",
    "# total_steps = len(train_dataloader) * epochs\n",
    "# scheduler = get_linear_schedule_with_warmup(optimizer,\n",
    "#                                             num_warmup_steps = 0,\n",
    "#                                             num_training_steps = total_steps)"
   ]
  },
  {
   "cell_type": "code",
   "execution_count": 19,
   "metadata": {},
   "outputs": [],
   "source": [
    "# # I create the accuracy function\n",
    "# import numpy as np\n",
    "# from sklearn.metrics import f1_score\n",
    "\n",
    "# def flat_accuracy(preds, labels):\n",
    "#     pred_flat = np.argmax(preds, axis=2).flatten()\n",
    "#     labels_flat = labels.flatten()\n",
    "#     return np.sum(pred_flat == labels_flat) / len(labels_flat)\n",
    "\n",
    "# # I create the f1_score function\n",
    "# def flat_f1_score(preds, labels):\n",
    "#     pred_flat = np.argmax(preds, axis=2).flatten()\n",
    "#     labels_flat = labels.flatten()\n",
    "#     return f1_score(labels_flat, pred_flat)"
   ]
  },
  {
   "cell_type": "code",
   "execution_count": 14,
   "metadata": {},
   "outputs": [
    {
     "name": "stdout",
     "output_type": "stream",
     "text": [
      "cpu\n"
     ]
    }
   ],
   "source": [
    "# # I create the training loop\n",
    "# import random\n",
    "# import numpy as np\n",
    "# seed_val = 42\n",
    "# random.seed(seed_val)\n",
    "# np.random.seed(seed_val)\n",
    "# torch.manual_seed(seed_val)\n",
    "# torch.cuda.manual_seed_all(seed_val)\n",
    "# device = torch.device(\"cuda\" if torch.cuda.is_available() else \"cpu\")\n",
    "# model.to(device)\n",
    "# print(device)"
   ]
  },
  {
   "cell_type": "code",
   "execution_count": 20,
   "metadata": {},
   "outputs": [
    {
     "name": "stdout",
     "output_type": "stream",
     "text": [
      "torch.Size([32, 64]) torch.Size([32, 64]) torch.Size([32, 24])\n",
      "torch.Size([32, 64]) torch.Size([32, 64]) torch.Size([32, 24])\n",
      "torch.Size([32, 64]) torch.Size([32, 64]) torch.Size([32, 24])\n",
      "torch.Size([32, 64]) torch.Size([32, 64]) torch.Size([32, 24])\n",
      "torch.Size([32, 64]) torch.Size([32, 64]) torch.Size([32, 24])\n",
      "torch.Size([32, 64]) torch.Size([32, 64]) torch.Size([32, 24])\n",
      "torch.Size([32, 64]) torch.Size([32, 64]) torch.Size([32, 24])\n",
      "torch.Size([32, 64]) torch.Size([32, 64]) torch.Size([32, 24])\n",
      "torch.Size([32, 64]) torch.Size([32, 64]) torch.Size([32, 24])\n",
      "torch.Size([32, 64]) torch.Size([32, 64]) torch.Size([32, 24])\n",
      "torch.Size([32, 64]) torch.Size([32, 64]) torch.Size([32, 24])\n",
      "torch.Size([32, 64]) torch.Size([32, 64]) torch.Size([32, 24])\n",
      "torch.Size([32, 64]) torch.Size([32, 64]) torch.Size([32, 24])\n",
      "torch.Size([32, 64]) torch.Size([32, 64]) torch.Size([32, 24])\n",
      "torch.Size([32, 64]) torch.Size([32, 64]) torch.Size([32, 24])\n",
      "torch.Size([32, 64]) torch.Size([32, 64]) torch.Size([32, 24])\n",
      "torch.Size([32, 64]) torch.Size([32, 64]) torch.Size([32, 24])\n",
      "torch.Size([32, 64]) torch.Size([32, 64]) torch.Size([32, 24])\n",
      "torch.Size([32, 64]) torch.Size([32, 64]) torch.Size([32, 24])\n",
      "torch.Size([32, 64]) torch.Size([32, 64]) torch.Size([32, 24])\n",
      "torch.Size([32, 64]) torch.Size([32, 64]) torch.Size([32, 24])\n",
      "torch.Size([32, 64]) torch.Size([32, 64]) torch.Size([32, 24])\n",
      "torch.Size([32, 64]) torch.Size([32, 64]) torch.Size([32, 24])\n",
      "torch.Size([32, 64]) torch.Size([32, 64]) torch.Size([32, 24])\n",
      "torch.Size([32, 64]) torch.Size([32, 64]) torch.Size([32, 24])\n",
      "torch.Size([32, 64]) torch.Size([32, 64]) torch.Size([32, 24])\n",
      "torch.Size([32, 64]) torch.Size([32, 64]) torch.Size([32, 24])\n",
      "torch.Size([32, 64]) torch.Size([32, 64]) torch.Size([32, 24])\n",
      "torch.Size([32, 64]) torch.Size([32, 64]) torch.Size([32, 24])\n",
      "torch.Size([32, 64]) torch.Size([32, 64]) torch.Size([32, 24])\n",
      "torch.Size([32, 64]) torch.Size([32, 64]) torch.Size([32, 24])\n",
      "torch.Size([32, 64]) torch.Size([32, 64]) torch.Size([32, 24])\n",
      "torch.Size([32, 64]) torch.Size([32, 64]) torch.Size([32, 24])\n",
      "torch.Size([32, 64]) torch.Size([32, 64]) torch.Size([32, 24])\n",
      "torch.Size([32, 64]) torch.Size([32, 64]) torch.Size([32, 24])\n",
      "torch.Size([32, 64]) torch.Size([32, 64]) torch.Size([32, 24])\n",
      "torch.Size([32, 64]) torch.Size([32, 64]) torch.Size([32, 24])\n",
      "torch.Size([32, 64]) torch.Size([32, 64]) torch.Size([32, 24])\n",
      "torch.Size([32, 64]) torch.Size([32, 64]) torch.Size([32, 24])\n",
      "torch.Size([32, 64]) torch.Size([32, 64]) torch.Size([32, 24])\n",
      "  Batch    40  of    100.\n",
      "torch.Size([32, 64]) torch.Size([32, 64]) torch.Size([32, 24])\n",
      "torch.Size([32, 64]) torch.Size([32, 64]) torch.Size([32, 24])\n",
      "torch.Size([32, 64]) torch.Size([32, 64]) torch.Size([32, 24])\n",
      "torch.Size([32, 64]) torch.Size([32, 64]) torch.Size([32, 24])\n",
      "torch.Size([32, 64]) torch.Size([32, 64]) torch.Size([32, 24])\n",
      "torch.Size([32, 64]) torch.Size([32, 64]) torch.Size([32, 24])\n",
      "torch.Size([32, 64]) torch.Size([32, 64]) torch.Size([32, 24])\n",
      "torch.Size([32, 64]) torch.Size([32, 64]) torch.Size([32, 24])\n",
      "torch.Size([32, 64]) torch.Size([32, 64]) torch.Size([32, 24])\n",
      "torch.Size([32, 64]) torch.Size([32, 64]) torch.Size([32, 24])\n",
      "torch.Size([32, 64]) torch.Size([32, 64]) torch.Size([32, 24])\n",
      "torch.Size([32, 64]) torch.Size([32, 64]) torch.Size([32, 24])\n",
      "torch.Size([32, 64]) torch.Size([32, 64]) torch.Size([32, 24])\n",
      "torch.Size([32, 64]) torch.Size([32, 64]) torch.Size([32, 24])\n",
      "torch.Size([32, 64]) torch.Size([32, 64]) torch.Size([32, 24])\n",
      "torch.Size([32, 64]) torch.Size([32, 64]) torch.Size([32, 24])\n",
      "torch.Size([32, 64]) torch.Size([32, 64]) torch.Size([32, 24])\n",
      "torch.Size([32, 64]) torch.Size([32, 64]) torch.Size([32, 24])\n",
      "torch.Size([32, 64]) torch.Size([32, 64]) torch.Size([32, 24])\n",
      "torch.Size([32, 64]) torch.Size([32, 64]) torch.Size([32, 24])\n",
      "torch.Size([32, 64]) torch.Size([32, 64]) torch.Size([32, 24])\n",
      "torch.Size([32, 64]) torch.Size([32, 64]) torch.Size([32, 24])\n",
      "torch.Size([32, 64]) torch.Size([32, 64]) torch.Size([32, 24])\n",
      "torch.Size([32, 64]) torch.Size([32, 64]) torch.Size([32, 24])\n",
      "torch.Size([32, 64]) torch.Size([32, 64]) torch.Size([32, 24])\n",
      "torch.Size([32, 64]) torch.Size([32, 64]) torch.Size([32, 24])\n",
      "torch.Size([32, 64]) torch.Size([32, 64]) torch.Size([32, 24])\n",
      "torch.Size([32, 64]) torch.Size([32, 64]) torch.Size([32, 24])\n",
      "torch.Size([32, 64]) torch.Size([32, 64]) torch.Size([32, 24])\n",
      "torch.Size([32, 64]) torch.Size([32, 64]) torch.Size([32, 24])\n",
      "torch.Size([32, 64]) torch.Size([32, 64]) torch.Size([32, 24])\n",
      "torch.Size([32, 64]) torch.Size([32, 64]) torch.Size([32, 24])\n",
      "torch.Size([32, 64]) torch.Size([32, 64]) torch.Size([32, 24])\n",
      "torch.Size([32, 64]) torch.Size([32, 64]) torch.Size([32, 24])\n",
      "torch.Size([32, 64]) torch.Size([32, 64]) torch.Size([32, 24])\n",
      "torch.Size([32, 64]) torch.Size([32, 64]) torch.Size([32, 24])\n",
      "torch.Size([32, 64]) torch.Size([32, 64]) torch.Size([32, 24])\n",
      "torch.Size([32, 64]) torch.Size([32, 64]) torch.Size([32, 24])\n",
      "torch.Size([32, 64]) torch.Size([32, 64]) torch.Size([32, 24])\n",
      "torch.Size([32, 64]) torch.Size([32, 64]) torch.Size([32, 24])\n",
      "  Batch    80  of    100.\n",
      "torch.Size([32, 64]) torch.Size([32, 64]) torch.Size([32, 24])\n",
      "torch.Size([32, 64]) torch.Size([32, 64]) torch.Size([32, 24])\n",
      "torch.Size([32, 64]) torch.Size([32, 64]) torch.Size([32, 24])\n",
      "torch.Size([32, 64]) torch.Size([32, 64]) torch.Size([32, 24])\n",
      "torch.Size([32, 64]) torch.Size([32, 64]) torch.Size([32, 24])\n",
      "torch.Size([32, 64]) torch.Size([32, 64]) torch.Size([32, 24])\n",
      "torch.Size([32, 64]) torch.Size([32, 64]) torch.Size([32, 24])\n",
      "torch.Size([32, 64]) torch.Size([32, 64]) torch.Size([32, 24])\n",
      "torch.Size([32, 64]) torch.Size([32, 64]) torch.Size([32, 24])\n",
      "torch.Size([32, 64]) torch.Size([32, 64]) torch.Size([32, 24])\n",
      "torch.Size([32, 64]) torch.Size([32, 64]) torch.Size([32, 24])\n",
      "torch.Size([32, 64]) torch.Size([32, 64]) torch.Size([32, 24])\n",
      "torch.Size([32, 64]) torch.Size([32, 64]) torch.Size([32, 24])\n",
      "torch.Size([32, 64]) torch.Size([32, 64]) torch.Size([32, 24])\n",
      "torch.Size([32, 64]) torch.Size([32, 64]) torch.Size([32, 24])\n",
      "torch.Size([32, 64]) torch.Size([32, 64]) torch.Size([32, 24])\n",
      "torch.Size([32, 64]) torch.Size([32, 64]) torch.Size([32, 24])\n",
      "torch.Size([32, 64]) torch.Size([32, 64]) torch.Size([32, 24])\n",
      "torch.Size([32, 64]) torch.Size([32, 64]) torch.Size([32, 24])\n",
      "torch.Size([32, 64]) torch.Size([32, 64]) torch.Size([32, 24])\n"
     ]
    }
   ],
   "source": [
    "# for step, batch in enumerate(train_dataloader):\n",
    "#     if step % 40 == 0 and not step == 0:\n",
    "#         print('  Batch {:>5,}  of  {:>5,}.'.format(step, len(train_dataloader)))\n",
    "#     b_input_ids = batch[0].to(device)\n",
    "#     b_input_mask = batch[1].to(device)\n",
    "#     b_labels = batch[2].to(device)\n",
    "#     print(b_input_ids.shape, b_input_mask.shape, b_labels.shape)"
   ]
  },
  {
   "cell_type": "code",
   "execution_count": 15,
   "metadata": {},
   "outputs": [
    {
     "name": "stdout",
     "output_type": "stream",
     "text": [
      "\n",
      "======== Epoch 1 / 4 ========\n",
      "Training...\n"
     ]
    },
    {
     "ename": "ValueError",
     "evalue": "Target size (torch.Size([32, 24])) must be the same as input size (torch.Size([32, 2]))",
     "output_type": "error",
     "traceback": [
      "\u001b[1;31m---------------------------------------------------------------------------\u001b[0m",
      "\u001b[1;31mValueError\u001b[0m                                Traceback (most recent call last)",
      "Cell \u001b[1;32mIn[15], line 21\u001b[0m\n\u001b[0;32m     19\u001b[0m b_labels \u001b[38;5;241m=\u001b[39m batch[\u001b[38;5;241m2\u001b[39m]\u001b[38;5;241m.\u001b[39mto(device)\n\u001b[0;32m     20\u001b[0m model\u001b[38;5;241m.\u001b[39mzero_grad()\n\u001b[1;32m---> 21\u001b[0m outputs \u001b[38;5;241m=\u001b[39m \u001b[43mmodel\u001b[49m\u001b[43m(\u001b[49m\u001b[43mb_input_ids\u001b[49m\u001b[43m,\u001b[49m\u001b[43m \u001b[49m\n\u001b[0;32m     22\u001b[0m \u001b[43m                \u001b[49m\u001b[43mtoken_type_ids\u001b[49m\u001b[38;5;241;43m=\u001b[39;49m\u001b[38;5;28;43;01mNone\u001b[39;49;00m\u001b[43m,\u001b[49m\u001b[43m \u001b[49m\n\u001b[0;32m     23\u001b[0m \u001b[43m                \u001b[49m\u001b[43mattention_mask\u001b[49m\u001b[38;5;241;43m=\u001b[39;49m\u001b[43mb_input_mask\u001b[49m\u001b[43m,\u001b[49m\u001b[43m \u001b[49m\n\u001b[0;32m     24\u001b[0m \u001b[43m                \u001b[49m\u001b[43mlabels\u001b[49m\u001b[38;5;241;43m=\u001b[39;49m\u001b[43mb_labels\u001b[49m\u001b[43m)\u001b[49m\n\u001b[0;32m     25\u001b[0m loss \u001b[38;5;241m=\u001b[39m outputs[\u001b[38;5;241m0\u001b[39m]\n\u001b[0;32m     26\u001b[0m total_train_loss \u001b[38;5;241m+\u001b[39m\u001b[38;5;241m=\u001b[39m loss\u001b[38;5;241m.\u001b[39mitem()\n",
      "File \u001b[1;32m~\\AppData\\Roaming\\Python\\Python310\\site-packages\\torch\\nn\\modules\\module.py:1518\u001b[0m, in \u001b[0;36mModule._wrapped_call_impl\u001b[1;34m(self, *args, **kwargs)\u001b[0m\n\u001b[0;32m   1516\u001b[0m     \u001b[38;5;28;01mreturn\u001b[39;00m \u001b[38;5;28mself\u001b[39m\u001b[38;5;241m.\u001b[39m_compiled_call_impl(\u001b[38;5;241m*\u001b[39margs, \u001b[38;5;241m*\u001b[39m\u001b[38;5;241m*\u001b[39mkwargs)  \u001b[38;5;66;03m# type: ignore[misc]\u001b[39;00m\n\u001b[0;32m   1517\u001b[0m \u001b[38;5;28;01melse\u001b[39;00m:\n\u001b[1;32m-> 1518\u001b[0m     \u001b[38;5;28;01mreturn\u001b[39;00m \u001b[38;5;28mself\u001b[39m\u001b[38;5;241m.\u001b[39m_call_impl(\u001b[38;5;241m*\u001b[39margs, \u001b[38;5;241m*\u001b[39m\u001b[38;5;241m*\u001b[39mkwargs)\n",
      "File \u001b[1;32m~\\AppData\\Roaming\\Python\\Python310\\site-packages\\torch\\nn\\modules\\module.py:1527\u001b[0m, in \u001b[0;36mModule._call_impl\u001b[1;34m(self, *args, **kwargs)\u001b[0m\n\u001b[0;32m   1522\u001b[0m \u001b[38;5;66;03m# If we don't have any hooks, we want to skip the rest of the logic in\u001b[39;00m\n\u001b[0;32m   1523\u001b[0m \u001b[38;5;66;03m# this function, and just call forward.\u001b[39;00m\n\u001b[0;32m   1524\u001b[0m \u001b[38;5;28;01mif\u001b[39;00m \u001b[38;5;129;01mnot\u001b[39;00m (\u001b[38;5;28mself\u001b[39m\u001b[38;5;241m.\u001b[39m_backward_hooks \u001b[38;5;129;01mor\u001b[39;00m \u001b[38;5;28mself\u001b[39m\u001b[38;5;241m.\u001b[39m_backward_pre_hooks \u001b[38;5;129;01mor\u001b[39;00m \u001b[38;5;28mself\u001b[39m\u001b[38;5;241m.\u001b[39m_forward_hooks \u001b[38;5;129;01mor\u001b[39;00m \u001b[38;5;28mself\u001b[39m\u001b[38;5;241m.\u001b[39m_forward_pre_hooks\n\u001b[0;32m   1525\u001b[0m         \u001b[38;5;129;01mor\u001b[39;00m _global_backward_pre_hooks \u001b[38;5;129;01mor\u001b[39;00m _global_backward_hooks\n\u001b[0;32m   1526\u001b[0m         \u001b[38;5;129;01mor\u001b[39;00m _global_forward_hooks \u001b[38;5;129;01mor\u001b[39;00m _global_forward_pre_hooks):\n\u001b[1;32m-> 1527\u001b[0m     \u001b[38;5;28;01mreturn\u001b[39;00m forward_call(\u001b[38;5;241m*\u001b[39margs, \u001b[38;5;241m*\u001b[39m\u001b[38;5;241m*\u001b[39mkwargs)\n\u001b[0;32m   1529\u001b[0m \u001b[38;5;28;01mtry\u001b[39;00m:\n\u001b[0;32m   1530\u001b[0m     result \u001b[38;5;241m=\u001b[39m \u001b[38;5;28;01mNone\u001b[39;00m\n",
      "File \u001b[1;32m~\\AppData\\Roaming\\Python\\Python310\\site-packages\\transformers\\models\\bert\\modeling_bert.py:1602\u001b[0m, in \u001b[0;36mBertForSequenceClassification.forward\u001b[1;34m(self, input_ids, attention_mask, token_type_ids, position_ids, head_mask, inputs_embeds, labels, output_attentions, output_hidden_states, return_dict)\u001b[0m\n\u001b[0;32m   1600\u001b[0m     \u001b[38;5;28;01melif\u001b[39;00m \u001b[38;5;28mself\u001b[39m\u001b[38;5;241m.\u001b[39mconfig\u001b[38;5;241m.\u001b[39mproblem_type \u001b[38;5;241m==\u001b[39m \u001b[38;5;124m\"\u001b[39m\u001b[38;5;124mmulti_label_classification\u001b[39m\u001b[38;5;124m\"\u001b[39m:\n\u001b[0;32m   1601\u001b[0m         loss_fct \u001b[38;5;241m=\u001b[39m BCEWithLogitsLoss()\n\u001b[1;32m-> 1602\u001b[0m         loss \u001b[38;5;241m=\u001b[39m \u001b[43mloss_fct\u001b[49m\u001b[43m(\u001b[49m\u001b[43mlogits\u001b[49m\u001b[43m,\u001b[49m\u001b[43m \u001b[49m\u001b[43mlabels\u001b[49m\u001b[43m)\u001b[49m\n\u001b[0;32m   1603\u001b[0m \u001b[38;5;28;01mif\u001b[39;00m \u001b[38;5;129;01mnot\u001b[39;00m return_dict:\n\u001b[0;32m   1604\u001b[0m     output \u001b[38;5;241m=\u001b[39m (logits,) \u001b[38;5;241m+\u001b[39m outputs[\u001b[38;5;241m2\u001b[39m:]\n",
      "File \u001b[1;32m~\\AppData\\Roaming\\Python\\Python310\\site-packages\\torch\\nn\\modules\\module.py:1518\u001b[0m, in \u001b[0;36mModule._wrapped_call_impl\u001b[1;34m(self, *args, **kwargs)\u001b[0m\n\u001b[0;32m   1516\u001b[0m     \u001b[38;5;28;01mreturn\u001b[39;00m \u001b[38;5;28mself\u001b[39m\u001b[38;5;241m.\u001b[39m_compiled_call_impl(\u001b[38;5;241m*\u001b[39margs, \u001b[38;5;241m*\u001b[39m\u001b[38;5;241m*\u001b[39mkwargs)  \u001b[38;5;66;03m# type: ignore[misc]\u001b[39;00m\n\u001b[0;32m   1517\u001b[0m \u001b[38;5;28;01melse\u001b[39;00m:\n\u001b[1;32m-> 1518\u001b[0m     \u001b[38;5;28;01mreturn\u001b[39;00m \u001b[38;5;28mself\u001b[39m\u001b[38;5;241m.\u001b[39m_call_impl(\u001b[38;5;241m*\u001b[39margs, \u001b[38;5;241m*\u001b[39m\u001b[38;5;241m*\u001b[39mkwargs)\n",
      "File \u001b[1;32m~\\AppData\\Roaming\\Python\\Python310\\site-packages\\torch\\nn\\modules\\module.py:1527\u001b[0m, in \u001b[0;36mModule._call_impl\u001b[1;34m(self, *args, **kwargs)\u001b[0m\n\u001b[0;32m   1522\u001b[0m \u001b[38;5;66;03m# If we don't have any hooks, we want to skip the rest of the logic in\u001b[39;00m\n\u001b[0;32m   1523\u001b[0m \u001b[38;5;66;03m# this function, and just call forward.\u001b[39;00m\n\u001b[0;32m   1524\u001b[0m \u001b[38;5;28;01mif\u001b[39;00m \u001b[38;5;129;01mnot\u001b[39;00m (\u001b[38;5;28mself\u001b[39m\u001b[38;5;241m.\u001b[39m_backward_hooks \u001b[38;5;129;01mor\u001b[39;00m \u001b[38;5;28mself\u001b[39m\u001b[38;5;241m.\u001b[39m_backward_pre_hooks \u001b[38;5;129;01mor\u001b[39;00m \u001b[38;5;28mself\u001b[39m\u001b[38;5;241m.\u001b[39m_forward_hooks \u001b[38;5;129;01mor\u001b[39;00m \u001b[38;5;28mself\u001b[39m\u001b[38;5;241m.\u001b[39m_forward_pre_hooks\n\u001b[0;32m   1525\u001b[0m         \u001b[38;5;129;01mor\u001b[39;00m _global_backward_pre_hooks \u001b[38;5;129;01mor\u001b[39;00m _global_backward_hooks\n\u001b[0;32m   1526\u001b[0m         \u001b[38;5;129;01mor\u001b[39;00m _global_forward_hooks \u001b[38;5;129;01mor\u001b[39;00m _global_forward_pre_hooks):\n\u001b[1;32m-> 1527\u001b[0m     \u001b[38;5;28;01mreturn\u001b[39;00m forward_call(\u001b[38;5;241m*\u001b[39margs, \u001b[38;5;241m*\u001b[39m\u001b[38;5;241m*\u001b[39mkwargs)\n\u001b[0;32m   1529\u001b[0m \u001b[38;5;28;01mtry\u001b[39;00m:\n\u001b[0;32m   1530\u001b[0m     result \u001b[38;5;241m=\u001b[39m \u001b[38;5;28;01mNone\u001b[39;00m\n",
      "File \u001b[1;32m~\\AppData\\Roaming\\Python\\Python310\\site-packages\\torch\\nn\\modules\\loss.py:725\u001b[0m, in \u001b[0;36mBCEWithLogitsLoss.forward\u001b[1;34m(self, input, target)\u001b[0m\n\u001b[0;32m    724\u001b[0m \u001b[38;5;28;01mdef\u001b[39;00m \u001b[38;5;21mforward\u001b[39m(\u001b[38;5;28mself\u001b[39m, \u001b[38;5;28minput\u001b[39m: Tensor, target: Tensor) \u001b[38;5;241m-\u001b[39m\u001b[38;5;241m>\u001b[39m Tensor:\n\u001b[1;32m--> 725\u001b[0m     \u001b[38;5;28;01mreturn\u001b[39;00m \u001b[43mF\u001b[49m\u001b[38;5;241;43m.\u001b[39;49m\u001b[43mbinary_cross_entropy_with_logits\u001b[49m\u001b[43m(\u001b[49m\u001b[38;5;28;43minput\u001b[39;49m\u001b[43m,\u001b[49m\u001b[43m \u001b[49m\u001b[43mtarget\u001b[49m\u001b[43m,\u001b[49m\n\u001b[0;32m    726\u001b[0m \u001b[43m                                              \u001b[49m\u001b[38;5;28;43mself\u001b[39;49m\u001b[38;5;241;43m.\u001b[39;49m\u001b[43mweight\u001b[49m\u001b[43m,\u001b[49m\n\u001b[0;32m    727\u001b[0m \u001b[43m                                              \u001b[49m\u001b[43mpos_weight\u001b[49m\u001b[38;5;241;43m=\u001b[39;49m\u001b[38;5;28;43mself\u001b[39;49m\u001b[38;5;241;43m.\u001b[39;49m\u001b[43mpos_weight\u001b[49m\u001b[43m,\u001b[49m\n\u001b[0;32m    728\u001b[0m \u001b[43m                                              \u001b[49m\u001b[43mreduction\u001b[49m\u001b[38;5;241;43m=\u001b[39;49m\u001b[38;5;28;43mself\u001b[39;49m\u001b[38;5;241;43m.\u001b[39;49m\u001b[43mreduction\u001b[49m\u001b[43m)\u001b[49m\n",
      "File \u001b[1;32m~\\AppData\\Roaming\\Python\\Python310\\site-packages\\torch\\nn\\functional.py:3193\u001b[0m, in \u001b[0;36mbinary_cross_entropy_with_logits\u001b[1;34m(input, target, weight, size_average, reduce, reduction, pos_weight)\u001b[0m\n\u001b[0;32m   3190\u001b[0m     reduction_enum \u001b[38;5;241m=\u001b[39m _Reduction\u001b[38;5;241m.\u001b[39mget_enum(reduction)\n\u001b[0;32m   3192\u001b[0m \u001b[38;5;28;01mif\u001b[39;00m \u001b[38;5;129;01mnot\u001b[39;00m (target\u001b[38;5;241m.\u001b[39msize() \u001b[38;5;241m==\u001b[39m \u001b[38;5;28minput\u001b[39m\u001b[38;5;241m.\u001b[39msize()):\n\u001b[1;32m-> 3193\u001b[0m     \u001b[38;5;28;01mraise\u001b[39;00m \u001b[38;5;167;01mValueError\u001b[39;00m(\u001b[38;5;124mf\u001b[39m\u001b[38;5;124m\"\u001b[39m\u001b[38;5;124mTarget size (\u001b[39m\u001b[38;5;132;01m{\u001b[39;00mtarget\u001b[38;5;241m.\u001b[39msize()\u001b[38;5;132;01m}\u001b[39;00m\u001b[38;5;124m) must be the same as input size (\u001b[39m\u001b[38;5;132;01m{\u001b[39;00m\u001b[38;5;28minput\u001b[39m\u001b[38;5;241m.\u001b[39msize()\u001b[38;5;132;01m}\u001b[39;00m\u001b[38;5;124m)\u001b[39m\u001b[38;5;124m\"\u001b[39m)\n\u001b[0;32m   3195\u001b[0m \u001b[38;5;28;01mreturn\u001b[39;00m torch\u001b[38;5;241m.\u001b[39mbinary_cross_entropy_with_logits(\u001b[38;5;28minput\u001b[39m, target, weight, pos_weight, reduction_enum)\n",
      "\u001b[1;31mValueError\u001b[0m: Target size (torch.Size([32, 24])) must be the same as input size (torch.Size([32, 2]))"
     ]
    }
   ],
   "source": [
    "# import time\n",
    "# import datetime\n",
    "\n",
    "# def format_time(elapsed):\n",
    "#     elapsed_rounded = int(round((elapsed)))\n",
    "#     return str(datetime.timedelta(seconds=elapsed_rounded))\n",
    "\n",
    "# for epoch_i in range(0, epochs):\n",
    "#     print(\"\")\n",
    "#     print('======== Epoch {:} / {:} ========'.format(epoch_i + 1, epochs))\n",
    "#     print('Training...')\n",
    "#     total_train_loss = 0\n",
    "#     model.train()\n",
    "#     for step, batch in enumerate(train_dataloader):\n",
    "#         if step % 40 == 0 and not step == 0:\n",
    "#             print('  Batch {:>5,}  of  {:>5,}.'.format(step, len(train_dataloader)))\n",
    "#         b_input_ids = batch[0].to(device)\n",
    "#         b_input_mask = batch[1].to(device)\n",
    "#         b_labels = batch[2].to(device)\n",
    "#         model.zero_grad()\n",
    "#         outputs = model(b_input_ids, \n",
    "#                         token_type_ids=None, \n",
    "#                         attention_mask=b_input_mask, \n",
    "#                         labels=b_labels)\n",
    "#         loss = outputs[0]\n",
    "#         total_train_loss += loss.item()\n",
    "#         loss.backward()\n",
    "#         torch.nn.utils.clip_grad_norm_(model.parameters(), 1.0)\n",
    "#         optimizer.step()\n",
    "#         scheduler.step()\n",
    "#     avg_train_loss = total_train_loss / len(train_dataloader)            \n",
    "#     print(\"\")\n",
    "#     print(\"  Average training loss: {0:.2f}\".format(avg_train_loss))\n",
    "#     print(\"  Training epcoh took: {:}\".format(format_time(time.time() - t0)))\n",
    "#     print(\"\")\n",
    "#     print(\"Running Validation...\")\n",
    "#     t0 = time.time()\n",
    "#     model.eval()\n",
    "#     total_eval_accuracy = 0\n",
    "#     total_eval_f1 = 0\n",
    "#     nb_eval_steps = 0\n",
    "#     for batch in val_dataloader:\n",
    "#         b_input_ids = batch[0].to(device)\n",
    "#         b_input_mask = batch[1].to(device)\n",
    "#         b_labels = batch[2].to(device)\n",
    "#         with torch.no_grad():        \n",
    "#             outputs = model(b_input_ids, \n",
    "#                             token_type_ids=None, \n",
    "#                             attention_mask=b_input_mask)\n",
    "#         logits = outputs[0]\n",
    "#         logits = logits.detach().cpu().numpy()\n",
    "#         label_ids = b_labels.to('cpu').numpy()\n",
    "#         total_eval_accuracy += flat_accuracy(logits, label_ids)\n",
    "#         total_eval_f1 += flat_f1_score(logits, label_ids)\n",
    "#         nb_eval_steps += 1\n",
    "#     avg_val_accuracy = total_eval_accuracy / nb_eval_steps\n",
    "#     print(\"  Accuracy: {0:.2f}\".format(avg_val_accuracy))\n",
    "#     avg_val_f1 = total_eval_f1 / nb_eval_steps\n",
    "#     print(\"  F1-Score: {0:.2f}\".format(avg_val_f1))"
   ]
  }
 ],
 "metadata": {
  "kernelspec": {
   "display_name": "Python 3",
   "language": "python",
   "name": "python3"
  },
  "language_info": {
   "codemirror_mode": {
    "name": "ipython",
    "version": 3
   },
   "file_extension": ".py",
   "mimetype": "text/x-python",
   "name": "python",
   "nbconvert_exporter": "python",
   "pygments_lexer": "ipython3",
   "version": "3.10.11"
  },
  "orig_nbformat": 4
 },
 "nbformat": 4,
 "nbformat_minor": 2
}
